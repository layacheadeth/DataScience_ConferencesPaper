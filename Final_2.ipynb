{
 "cells": [
  {
   "cell_type": "code",
   "execution_count": 1,
   "id": "9f7a3615",
   "metadata": {},
   "outputs": [
    {
     "data": {
      "text/html": [
       "<div>\n",
       "<style scoped>\n",
       "    .dataframe tbody tr th:only-of-type {\n",
       "        vertical-align: middle;\n",
       "    }\n",
       "\n",
       "    .dataframe tbody tr th {\n",
       "        vertical-align: top;\n",
       "    }\n",
       "\n",
       "    .dataframe thead th {\n",
       "        text-align: right;\n",
       "    }\n",
       "</style>\n",
       "<table border=\"1\" class=\"dataframe\">\n",
       "  <thead>\n",
       "    <tr style=\"text-align: right;\">\n",
       "      <th></th>\n",
       "      <th>Unnamed: 0</th>\n",
       "      <th>name</th>\n",
       "      <th>review</th>\n",
       "      <th>index</th>\n",
       "      <th>Category</th>\n",
       "    </tr>\n",
       "  </thead>\n",
       "  <tbody>\n",
       "    <tr>\n",
       "      <th>0</th>\n",
       "      <td>0</td>\n",
       "      <td>Planetwise Flannel Wipes</td>\n",
       "      <td>These flannel wipes are OK, but in my opinion ...</td>\n",
       "      <td>0</td>\n",
       "      <td>Baby_Care</td>\n",
       "    </tr>\n",
       "    <tr>\n",
       "      <th>1</th>\n",
       "      <td>1</td>\n",
       "      <td>Planetwise Wipe Pouch</td>\n",
       "      <td>it came early and was not disappointed. i love...</td>\n",
       "      <td>1</td>\n",
       "      <td>Diapering</td>\n",
       "    </tr>\n",
       "    <tr>\n",
       "      <th>2</th>\n",
       "      <td>2</td>\n",
       "      <td>Annas Dream Full Quilt with 2 Shams</td>\n",
       "      <td>Very soft and comfortable and warmer than it l...</td>\n",
       "      <td>2</td>\n",
       "      <td>Nursery</td>\n",
       "    </tr>\n",
       "    <tr>\n",
       "      <th>3</th>\n",
       "      <td>3</td>\n",
       "      <td>Stop Pacifier Sucking without tears with Thumb...</td>\n",
       "      <td>This is a product well worth the purchase.  I ...</td>\n",
       "      <td>3</td>\n",
       "      <td>Baby_Care</td>\n",
       "    </tr>\n",
       "    <tr>\n",
       "      <th>4</th>\n",
       "      <td>4</td>\n",
       "      <td>Stop Pacifier Sucking without tears with Thumb...</td>\n",
       "      <td>All of my kids have cried non-stop when I trie...</td>\n",
       "      <td>4</td>\n",
       "      <td>Baby_Care</td>\n",
       "    </tr>\n",
       "    <tr>\n",
       "      <th>...</th>\n",
       "      <td>...</td>\n",
       "      <td>...</td>\n",
       "      <td>...</td>\n",
       "      <td>...</td>\n",
       "      <td>...</td>\n",
       "    </tr>\n",
       "    <tr>\n",
       "      <th>408</th>\n",
       "      <td>654</td>\n",
       "      <td>U·nikaka Unisex Baby 0-48 Months 5-Pack Pants ...</td>\n",
       "      <td>The sweaters are very nice and fit quite well....</td>\n",
       "      <td>654</td>\n",
       "      <td>Apparel_accessories</td>\n",
       "    </tr>\n",
       "    <tr>\n",
       "      <th>409</th>\n",
       "      <td>658</td>\n",
       "      <td>U·nikaka Unisex Baby 0-48 Months 5-Pack Pants ...</td>\n",
       "      <td>My 13 month old is short and round lol. So I’m...</td>\n",
       "      <td>658</td>\n",
       "      <td>Apparel_accessories</td>\n",
       "    </tr>\n",
       "    <tr>\n",
       "      <th>410</th>\n",
       "      <td>660</td>\n",
       "      <td>HAICHEN TEC Ferret Clothes Turtleneck Sweater ...</td>\n",
       "      <td>This is sp cute and hilarious 100 recomend goo...</td>\n",
       "      <td>660</td>\n",
       "      <td>Apparel_accessories</td>\n",
       "    </tr>\n",
       "    <tr>\n",
       "      <th>411</th>\n",
       "      <td>661</td>\n",
       "      <td>HAICHEN TEC Ferret Clothes Turtleneck Sweater ...</td>\n",
       "      <td>Mr. B is only 4 weeks old and looks so handsom...</td>\n",
       "      <td>661</td>\n",
       "      <td>Apparel_accessories</td>\n",
       "    </tr>\n",
       "    <tr>\n",
       "      <th>412</th>\n",
       "      <td>663</td>\n",
       "      <td>HAICHEN TEC Ferret Clothes Turtleneck Sweater ...</td>\n",
       "      <td>I wanted to dress up my guinea pig but the swe...</td>\n",
       "      <td>663</td>\n",
       "      <td>Apparel_accessories</td>\n",
       "    </tr>\n",
       "  </tbody>\n",
       "</table>\n",
       "<p>413 rows × 5 columns</p>\n",
       "</div>"
      ],
      "text/plain": [
       "     Unnamed: 0                                               name  \\\n",
       "0             0                           Planetwise Flannel Wipes   \n",
       "1             1                              Planetwise Wipe Pouch   \n",
       "2             2                Annas Dream Full Quilt with 2 Shams   \n",
       "3             3  Stop Pacifier Sucking without tears with Thumb...   \n",
       "4             4  Stop Pacifier Sucking without tears with Thumb...   \n",
       "..          ...                                                ...   \n",
       "408         654  U·nikaka Unisex Baby 0-48 Months 5-Pack Pants ...   \n",
       "409         658  U·nikaka Unisex Baby 0-48 Months 5-Pack Pants ...   \n",
       "410         660  HAICHEN TEC Ferret Clothes Turtleneck Sweater ...   \n",
       "411         661  HAICHEN TEC Ferret Clothes Turtleneck Sweater ...   \n",
       "412         663  HAICHEN TEC Ferret Clothes Turtleneck Sweater ...   \n",
       "\n",
       "                                                review  index  \\\n",
       "0    These flannel wipes are OK, but in my opinion ...      0   \n",
       "1    it came early and was not disappointed. i love...      1   \n",
       "2    Very soft and comfortable and warmer than it l...      2   \n",
       "3    This is a product well worth the purchase.  I ...      3   \n",
       "4    All of my kids have cried non-stop when I trie...      4   \n",
       "..                                                 ...    ...   \n",
       "408  The sweaters are very nice and fit quite well....    654   \n",
       "409  My 13 month old is short and round lol. So I’m...    658   \n",
       "410  This is sp cute and hilarious 100 recomend goo...    660   \n",
       "411  Mr. B is only 4 weeks old and looks so handsom...    661   \n",
       "412  I wanted to dress up my guinea pig but the swe...    663   \n",
       "\n",
       "                Category  \n",
       "0              Baby_Care  \n",
       "1              Diapering  \n",
       "2                Nursery  \n",
       "3              Baby_Care  \n",
       "4              Baby_Care  \n",
       "..                   ...  \n",
       "408  Apparel_accessories  \n",
       "409  Apparel_accessories  \n",
       "410  Apparel_accessories  \n",
       "411  Apparel_accessories  \n",
       "412  Apparel_accessories  \n",
       "\n",
       "[413 rows x 5 columns]"
      ]
     },
     "execution_count": 1,
     "metadata": {},
     "output_type": "execute_result"
    }
   ],
   "source": [
    "import pandas as pd\n",
    "doc=pd.read_csv(\"used4.5.csv\")\n",
    "doc"
   ]
  },
  {
   "cell_type": "code",
   "execution_count": 2,
   "id": "1917d015",
   "metadata": {},
   "outputs": [
    {
     "name": "stderr",
     "output_type": "stream",
     "text": [
      "<ipython-input-2-318acfee2307>:2: SettingWithCopyWarning: \n",
      "A value is trying to be set on a copy of a slice from a DataFrame.\n",
      "Try using .loc[row_indexer,col_indexer] = value instead\n",
      "\n",
      "See the caveats in the documentation: https://pandas.pydata.org/pandas-docs/stable/user_guide/indexing.html#returning-a-view-versus-a-copy\n",
      "  data_text['index']=data_text.index\n"
     ]
    }
   ],
   "source": [
    "data_text=doc[[\"review\",\"Category\"]]\n",
    "data_text['index']=data_text.index\n",
    "\n",
    "documents=data_text"
   ]
  },
  {
   "cell_type": "code",
   "execution_count": 3,
   "id": "87483a7c",
   "metadata": {},
   "outputs": [
    {
     "data": {
      "text/html": [
       "<div>\n",
       "<style scoped>\n",
       "    .dataframe tbody tr th:only-of-type {\n",
       "        vertical-align: middle;\n",
       "    }\n",
       "\n",
       "    .dataframe tbody tr th {\n",
       "        vertical-align: top;\n",
       "    }\n",
       "\n",
       "    .dataframe thead th {\n",
       "        text-align: right;\n",
       "    }\n",
       "</style>\n",
       "<table border=\"1\" class=\"dataframe\">\n",
       "  <thead>\n",
       "    <tr style=\"text-align: right;\">\n",
       "      <th></th>\n",
       "      <th>review</th>\n",
       "      <th>Category</th>\n",
       "      <th>index</th>\n",
       "    </tr>\n",
       "  </thead>\n",
       "  <tbody>\n",
       "    <tr>\n",
       "      <th>0</th>\n",
       "      <td>These flannel wipes are OK, but in my opinion ...</td>\n",
       "      <td>Baby_Care</td>\n",
       "      <td>0</td>\n",
       "    </tr>\n",
       "    <tr>\n",
       "      <th>1</th>\n",
       "      <td>it came early and was not disappointed. i love...</td>\n",
       "      <td>Diapering</td>\n",
       "      <td>1</td>\n",
       "    </tr>\n",
       "    <tr>\n",
       "      <th>2</th>\n",
       "      <td>Very soft and comfortable and warmer than it l...</td>\n",
       "      <td>Nursery</td>\n",
       "      <td>2</td>\n",
       "    </tr>\n",
       "    <tr>\n",
       "      <th>3</th>\n",
       "      <td>This is a product well worth the purchase.  I ...</td>\n",
       "      <td>Baby_Care</td>\n",
       "      <td>3</td>\n",
       "    </tr>\n",
       "    <tr>\n",
       "      <th>4</th>\n",
       "      <td>All of my kids have cried non-stop when I trie...</td>\n",
       "      <td>Baby_Care</td>\n",
       "      <td>4</td>\n",
       "    </tr>\n",
       "    <tr>\n",
       "      <th>...</th>\n",
       "      <td>...</td>\n",
       "      <td>...</td>\n",
       "      <td>...</td>\n",
       "    </tr>\n",
       "    <tr>\n",
       "      <th>408</th>\n",
       "      <td>The sweaters are very nice and fit quite well....</td>\n",
       "      <td>Apparel_accessories</td>\n",
       "      <td>408</td>\n",
       "    </tr>\n",
       "    <tr>\n",
       "      <th>409</th>\n",
       "      <td>My 13 month old is short and round lol. So I’m...</td>\n",
       "      <td>Apparel_accessories</td>\n",
       "      <td>409</td>\n",
       "    </tr>\n",
       "    <tr>\n",
       "      <th>410</th>\n",
       "      <td>This is sp cute and hilarious 100 recomend goo...</td>\n",
       "      <td>Apparel_accessories</td>\n",
       "      <td>410</td>\n",
       "    </tr>\n",
       "    <tr>\n",
       "      <th>411</th>\n",
       "      <td>Mr. B is only 4 weeks old and looks so handsom...</td>\n",
       "      <td>Apparel_accessories</td>\n",
       "      <td>411</td>\n",
       "    </tr>\n",
       "    <tr>\n",
       "      <th>412</th>\n",
       "      <td>I wanted to dress up my guinea pig but the swe...</td>\n",
       "      <td>Apparel_accessories</td>\n",
       "      <td>412</td>\n",
       "    </tr>\n",
       "  </tbody>\n",
       "</table>\n",
       "<p>413 rows × 3 columns</p>\n",
       "</div>"
      ],
      "text/plain": [
       "                                                review             Category  \\\n",
       "0    These flannel wipes are OK, but in my opinion ...            Baby_Care   \n",
       "1    it came early and was not disappointed. i love...            Diapering   \n",
       "2    Very soft and comfortable and warmer than it l...              Nursery   \n",
       "3    This is a product well worth the purchase.  I ...            Baby_Care   \n",
       "4    All of my kids have cried non-stop when I trie...            Baby_Care   \n",
       "..                                                 ...                  ...   \n",
       "408  The sweaters are very nice and fit quite well....  Apparel_accessories   \n",
       "409  My 13 month old is short and round lol. So I’m...  Apparel_accessories   \n",
       "410  This is sp cute and hilarious 100 recomend goo...  Apparel_accessories   \n",
       "411  Mr. B is only 4 weeks old and looks so handsom...  Apparel_accessories   \n",
       "412  I wanted to dress up my guinea pig but the swe...  Apparel_accessories   \n",
       "\n",
       "     index  \n",
       "0        0  \n",
       "1        1  \n",
       "2        2  \n",
       "3        3  \n",
       "4        4  \n",
       "..     ...  \n",
       "408    408  \n",
       "409    409  \n",
       "410    410  \n",
       "411    411  \n",
       "412    412  \n",
       "\n",
       "[413 rows x 3 columns]"
      ]
     },
     "execution_count": 3,
     "metadata": {},
     "output_type": "execute_result"
    }
   ],
   "source": [
    "documents"
   ]
  },
  {
   "cell_type": "code",
   "execution_count": 4,
   "id": "06763820",
   "metadata": {},
   "outputs": [
    {
     "name": "stderr",
     "output_type": "stream",
     "text": [
      "[nltk_data] Downloading package wordnet to /Users/deth/nltk_data...\n",
      "[nltk_data]   Package wordnet is already up-to-date!\n"
     ]
    },
    {
     "data": {
      "text/plain": [
       "True"
      ]
     },
     "execution_count": 4,
     "metadata": {},
     "output_type": "execute_result"
    }
   ],
   "source": [
    "import gensim\n",
    "from gensim.utils import simple_preprocess\n",
    "from gensim.parsing.preprocessing import STOPWORDS\n",
    "from nltk.stem import WordNetLemmatizer, SnowballStemmer\n",
    "import nltk.stem as stemmer\n",
    "from nltk.stem.porter import *\n",
    "import numpy as np\n",
    "np.random.seed(2018)\n",
    "import nltk\n",
    "nltk.download('wordnet')"
   ]
  },
  {
   "cell_type": "code",
   "execution_count": 5,
   "id": "66ff6fa7",
   "metadata": {},
   "outputs": [],
   "source": [
    "stemmer=PorterStemmer()\n",
    "def lemmatize_stemming(text):\n",
    "      return stemmer.stem(WordNetLemmatizer().lemmatize(text,pos='v'))\n",
    "\n",
    "def preprocess(text):\n",
    "    result=[]\n",
    "    for token in gensim.utils.simple_preprocess(text):\n",
    "        if token not in gensim.parsing.preprocessing.STOPWORDS and len(token) >3:\n",
    "              result.append(lemmatize_stemming(token))\n",
    "  \n",
    "    return result"
   ]
  },
  {
   "cell_type": "code",
   "execution_count": 6,
   "id": "0d70fd32",
   "metadata": {},
   "outputs": [
    {
     "name": "stdout",
     "output_type": "stream",
     "text": [
      "original document\n",
      "['All', 'of', 'my', 'kids', 'have', 'cried', 'non-stop', 'when', 'I', 'tried', 'to', 'ween', 'them', 'off', 'their', 'pacifier,', 'until', 'I', 'found', 'Thumbuddy', 'To', \"Love's\", 'Binky', 'Fairy', 'Puppet.', '', 'It', 'is', 'an', 'easy', 'way', 'to', 'work', 'with', 'your', 'kids', 'to', 'allow', 'them', 'to', 'understand', 'where', 'their', 'pacifier', 'is', 'going', 'and', 'help', 'them', 'part', 'from', 'it.This', 'is', 'a', 'must', 'buy', 'book,', 'and', 'a', 'great', 'gift', 'for', 'expecting', 'parents!!', '', 'You', 'will', 'save', 'them', 'soo', 'many', 'headaches.Thanks', 'for', 'this', 'book!', '', 'You', 'all', 'rock!!']\n",
      "\n",
      "\n",
      " tokenized and lemmatized document: \n",
      "['kid', 'cri', 'stop', 'tri', 'ween', 'pacifi', 'thumbuddi', 'love', 'binki', 'fairi', 'puppet', 'easi', 'work', 'kid', 'allow', 'understand', 'pacifi', 'go', 'help', 'book', 'great', 'gift', 'expect', 'parent', 'save', 'headach', 'thank', 'book', 'rock']\n"
     ]
    }
   ],
   "source": [
    "doc_sample=documents[documents['index']==4].values[0][0]\n",
    "print('original document')\n",
    "words=[]\n",
    "for word in doc_sample.split(' '):\n",
    "      words.append(word)\n",
    "print(words)\n",
    "print('\\n\\n tokenized and lemmatized document: ')\n",
    "print(preprocess(doc_sample))"
   ]
  },
  {
   "cell_type": "code",
   "execution_count": 7,
   "id": "eb94336f",
   "metadata": {},
   "outputs": [
    {
     "name": "stderr",
     "output_type": "stream",
     "text": [
      "<ipython-input-7-00cd468fc166>:1: SettingWithCopyWarning: \n",
      "A value is trying to be set on a copy of a slice from a DataFrame\n",
      "\n",
      "See the caveats in the documentation: https://pandas.pydata.org/pandas-docs/stable/user_guide/indexing.html#returning-a-view-versus-a-copy\n",
      "  documents.dropna(subset = [\"review\"], inplace=True) # drop those rows which have NaN value cells\n"
     ]
    }
   ],
   "source": [
    "documents.dropna(subset = [\"review\"], inplace=True) # drop those rows which have NaN value cells\n"
   ]
  },
  {
   "cell_type": "code",
   "execution_count": 8,
   "id": "fff5929c",
   "metadata": {},
   "outputs": [
    {
     "data": {
      "text/plain": [
       "0      [flannel, wipe, opinion, worth, keep, order, s...\n",
       "1      [come, earli, disappoint, love, planet, wise, ...\n",
       "2      [soft, comfort, warmer, look, size, perfectli,...\n",
       "3      [product, worth, purchas, like, posit, ingeni,...\n",
       "4      [kid, cri, stop, tri, ween, pacifi, thumbuddi,...\n",
       "                             ...                        \n",
       "408    [sweater, nice, ferret, mind, fabric, great, p...\n",
       "409    [month, short, round, find, difficult, pant, p...\n",
       "410    [cute, hilari, recomend, good, ador, halloween...\n",
       "411    [week, look, handsom, littl, sweater, hard, sw...\n",
       "412    [want, dress, guinea, sweater, small, especi, ...\n",
       "Name: review, Length: 413, dtype: object"
      ]
     },
     "execution_count": 8,
     "metadata": {},
     "output_type": "execute_result"
    }
   ],
   "source": [
    "processed_docs = documents['review'].map(preprocess)\n",
    "processed_docs"
   ]
  },
  {
   "cell_type": "code",
   "execution_count": 9,
   "id": "c52ade46",
   "metadata": {},
   "outputs": [
    {
     "name": "stdout",
     "output_type": "stream",
     "text": [
      "0 blue\n",
      "1 boyfor\n",
      "2 cloth\n",
      "3 countwhich\n",
      "4 face\n",
      "5 flannel\n",
      "6 hand\n",
      "7 handl\n",
      "8 higher\n",
      "9 issu\n",
      "10 keep\n"
     ]
    }
   ],
   "source": [
    "dictionary=gensim.corpora.Dictionary(processed_docs)\n",
    "count=0\n",
    "\n",
    "for k,v in dictionary.iteritems():\n",
    "    print(k,v)\n",
    "    count+=1\n",
    "    if count>10:\n",
    "        break"
   ]
  },
  {
   "cell_type": "code",
   "execution_count": 10,
   "id": "ea7ba9be",
   "metadata": {},
   "outputs": [],
   "source": [
    "dictionary.filter_extremes(no_below=15,no_above=0.5)\n"
   ]
  },
  {
   "cell_type": "code",
   "execution_count": 11,
   "id": "37c63672",
   "metadata": {},
   "outputs": [
    {
     "data": {
      "text/plain": [
       "[(13, 1),\n",
       " (24, 2),\n",
       " (25, 1),\n",
       " (26, 1),\n",
       " (27, 1),\n",
       " (28, 1),\n",
       " (29, 1),\n",
       " (30, 1),\n",
       " (31, 2),\n",
       " (32, 1),\n",
       " (33, 1),\n",
       " (34, 1)]"
      ]
     },
     "execution_count": 11,
     "metadata": {},
     "output_type": "execute_result"
    }
   ],
   "source": [
    "bow_corpus=[dictionary.doc2bow(doc) for doc in processed_docs]\n",
    "bow_corpus[4]\n"
   ]
  },
  {
   "cell_type": "code",
   "execution_count": 12,
   "id": "d13f43e8",
   "metadata": {},
   "outputs": [
    {
     "name": "stdout",
     "output_type": "stream",
     "text": [
      "Word 13 (\"love\") appears 1 time.\n",
      "Word 24 (\"book\") appears 2 time.\n",
      "Word 25 (\"easi\") appears 1 time.\n",
      "Word 26 (\"expect\") appears 1 time.\n",
      "Word 27 (\"gift\") appears 1 time.\n",
      "Word 28 (\"go\") appears 1 time.\n",
      "Word 29 (\"great\") appears 1 time.\n",
      "Word 30 (\"help\") appears 1 time.\n",
      "Word 31 (\"kid\") appears 2 time.\n",
      "Word 32 (\"parent\") appears 1 time.\n",
      "Word 33 (\"tri\") appears 1 time.\n",
      "Word 34 (\"work\") appears 1 time.\n"
     ]
    }
   ],
   "source": [
    "bow_doc_4=bow_corpus[4]\n",
    "for i in range(len(bow_doc_4)):\n",
    "    print(\"Word {} (\\\"{}\\\") appears {} time.\".format(bow_doc_4[i][0], \n",
    "                                               dictionary[bow_doc_4[i][0]], \n",
    "bow_doc_4[i][1]))"
   ]
  },
  {
   "cell_type": "code",
   "execution_count": 13,
   "id": "1f48f709",
   "metadata": {},
   "outputs": [
    {
     "name": "stdout",
     "output_type": "stream",
     "text": [
      "[(0, 0.37378287425890977),\n",
      " (1, 0.2910888830907095),\n",
      " (2, 0.32540999039054613),\n",
      " (3, 0.1454802833186967),\n",
      " (4, 0.2846385440521788),\n",
      " (5, 0.36733253522037906),\n",
      " (6, 0.36121313179202574),\n",
      " (7, 0.31688477799387366),\n",
      " (8, 0.28153961109325704),\n",
      " (9, 0.3498424166134522)]\n"
     ]
    }
   ],
   "source": [
    "from gensim import corpora, models\n",
    "tfidf=models.TfidfModel(bow_corpus)\n",
    "corpus_tfidf=tfidf[bow_corpus]\n",
    "\n",
    "from pprint import pprint\n",
    "\n",
    "for doc in corpus_tfidf:\n",
    "  pprint(doc)\n",
    "  break"
   ]
  },
  {
   "cell_type": "code",
   "execution_count": 14,
   "id": "ef765163",
   "metadata": {},
   "outputs": [],
   "source": [
    "lda_model=gensim.models.LdaMulticore(bow_corpus,num_topics=8,id2word=dictionary,passes=2,workers=2)"
   ]
  },
  {
   "cell_type": "code",
   "execution_count": 15,
   "id": "a79a3f03",
   "metadata": {},
   "outputs": [
    {
     "name": "stdout",
     "output_type": "stream",
     "text": [
      "Topic:0\n",
      "words:0.108*\"babi\" + 0.035*\"great\" + 0.034*\"love\" + 0.027*\"time\" + 0.026*\"product\" + 0.026*\"month\" + 0.023*\"buy\" + 0.023*\"want\" + 0.018*\"like\" + 0.017*\"book\"\n",
      "category:\n",
      "\n",
      "Topic:1\n",
      "words:0.057*\"sling\" + 0.047*\"monitor\" + 0.044*\"babi\" + 0.043*\"like\" + 0.031*\"month\" + 0.028*\"great\" + 0.023*\"easi\" + 0.019*\"good\" + 0.018*\"nice\" + 0.018*\"want\"\n",
      "category:\n",
      "\n",
      "Topic:2\n",
      "words:0.046*\"love\" + 0.045*\"like\" + 0.045*\"month\" + 0.040*\"year\" + 0.035*\"babi\" + 0.034*\"look\" + 0.026*\"book\" + 0.025*\"littl\" + 0.024*\"buy\" + 0.021*\"daughter\"\n",
      "category:\n",
      "\n",
      "Topic:3\n",
      "words:0.060*\"play\" + 0.041*\"great\" + 0.031*\"like\" + 0.027*\"camera\" + 0.027*\"love\" + 0.027*\"littl\" + 0.024*\"go\" + 0.024*\"turn\" + 0.024*\"help\" + 0.022*\"product\"\n",
      "category:\n",
      "\n",
      "Topic:4\n",
      "words:0.066*\"love\" + 0.061*\"babi\" + 0.029*\"need\" + 0.026*\"camera\" + 0.025*\"easi\" + 0.022*\"recommend\" + 0.021*\"monitor\" + 0.020*\"month\" + 0.019*\"year\" + 0.019*\"littl\"\n",
      "category:\n",
      "\n",
      "Topic:5\n",
      "words:0.076*\"book\" + 0.044*\"love\" + 0.039*\"qualiti\" + 0.038*\"babi\" + 0.036*\"play\" + 0.032*\"time\" + 0.030*\"like\" + 0.029*\"cute\" + 0.027*\"great\" + 0.025*\"color\"\n",
      "category:\n",
      "\n",
      "Topic:6\n",
      "words:0.056*\"book\" + 0.042*\"month\" + 0.038*\"diaper\" + 0.035*\"love\" + 0.035*\"babi\" + 0.033*\"think\" + 0.025*\"soft\" + 0.022*\"perfect\" + 0.022*\"daughter\" + 0.019*\"start\"\n",
      "category:\n",
      "\n",
      "Topic:7\n",
      "words:0.073*\"diaper\" + 0.041*\"daughter\" + 0.038*\"great\" + 0.037*\"love\" + 0.029*\"hold\" + 0.028*\"teeth\" + 0.027*\"vibrat\" + 0.026*\"recommend\" + 0.024*\"hard\" + 0.024*\"teether\"\n",
      "category:\n",
      "\n"
     ]
    }
   ],
   "source": [
    "\n",
    "category=\"\"\n",
    "for idx, topic in lda_model.print_topics(-1):\n",
    "        print('Topic:{}\\nwords:{}\\ncategory:{}\\n'.format(idx,topic,category))\n",
    "   \n",
    "        \n",
    "   \n",
    "    \n",
    "  "
   ]
  },
  {
   "cell_type": "code",
   "execution_count": 16,
   "id": "c7e332e2",
   "metadata": {},
   "outputs": [
    {
     "name": "stdout",
     "output_type": "stream",
     "text": [
      "\n",
      "Score:0.5985352396965027\t \n",
      "Topic:0.076*\"book\" + 0.044*\"love\" + 0.039*\"qualiti\" + 0.038*\"babi\" + 0.036*\"play\" + 0.032*\"time\" + 0.030*\"like\" + 0.029*\"cute\" + 0.027*\"great\" + 0.025*\"color\"\n",
      "Category:\n",
      "\n",
      "\n",
      "Score:0.351362407207489\t \n",
      "Topic:0.060*\"play\" + 0.041*\"great\" + 0.031*\"like\" + 0.027*\"camera\" + 0.027*\"love\" + 0.027*\"littl\" + 0.024*\"go\" + 0.024*\"turn\" + 0.024*\"help\" + 0.022*\"product\"\n",
      "Category:\n",
      "\n"
     ]
    }
   ],
   "source": [
    "category=\"\"\n",
    "\n",
    "for index, score in sorted(lda_model[bow_corpus[4]],key=lambda tup:-1*tup[1]):\n",
    "    \n",
    "        print(\"\\nScore:{}\\t \\nTopic:{}\\nCategory:{}\\n\".format(score,lda_model.print_topic(index,10),category))\n",
    "    "
   ]
  },
  {
   "cell_type": "code",
   "execution_count": 17,
   "id": "f23fd505",
   "metadata": {},
   "outputs": [
    {
     "name": "stdout",
     "output_type": "stream",
     "text": [
      "Topic: 0 Word: 0.035*\"gift\" + 0.031*\"great\" + 0.029*\"play\" + 0.025*\"diaper\" + 0.024*\"size\" + 0.023*\"leav\" + 0.022*\"love\" + 0.020*\"turn\" + 0.020*\"product\" + 0.020*\"buy\"\n",
      "Topic: 1 Word: 0.048*\"diaper\" + 0.038*\"book\" + 0.037*\"perfect\" + 0.031*\"babi\" + 0.025*\"tri\" + 0.023*\"expect\" + 0.020*\"look\" + 0.019*\"happi\" + 0.018*\"page\" + 0.017*\"right\"\n",
      "Topic: 2 Word: 0.027*\"cute\" + 0.027*\"qualiti\" + 0.026*\"camera\" + 0.025*\"babi\" + 0.024*\"monitor\" + 0.020*\"think\" + 0.019*\"interact\" + 0.019*\"good\" + 0.018*\"year\" + 0.018*\"month\"\n",
      "Topic: 3 Word: 0.027*\"love\" + 0.025*\"friend\" + 0.023*\"toy\" + 0.023*\"daughter\" + 0.023*\"play\" + 0.022*\"think\" + 0.021*\"babi\" + 0.021*\"year\" + 0.020*\"recommend\" + 0.019*\"month\"\n",
      "Topic: 4 Word: 0.034*\"book\" + 0.026*\"item\" + 0.023*\"time\" + 0.022*\"price\" + 0.020*\"babi\" + 0.020*\"buy\" + 0.019*\"play\" + 0.019*\"read\" + 0.018*\"like\" + 0.017*\"famili\"\n",
      "Topic: 5 Word: 0.038*\"vibrat\" + 0.034*\"like\" + 0.030*\"teether\" + 0.027*\"easi\" + 0.025*\"littl\" + 0.024*\"love\" + 0.024*\"hold\" + 0.020*\"month\" + 0.020*\"chew\" + 0.020*\"teeth\"\n",
      "Topic: 6 Word: 0.042*\"help\" + 0.034*\"durabl\" + 0.029*\"book\" + 0.028*\"work\" + 0.024*\"pictur\" + 0.022*\"year\" + 0.020*\"buy\" + 0.019*\"use\" + 0.019*\"room\" + 0.018*\"photo\"\n",
      "Topic: 7 Word: 0.027*\"babi\" + 0.025*\"keep\" + 0.025*\"track\" + 0.020*\"sling\" + 0.020*\"like\" + 0.020*\"small\" + 0.020*\"stick\" + 0.019*\"toy\" + 0.018*\"want\" + 0.018*\"love\"\n"
     ]
    }
   ],
   "source": [
    "lda_model_tfidf=gensim.models.LdaMulticore(corpus_tfidf,num_topics=8,id2word=dictionary,passes=2,workers=4)\n",
    "for idx, topic in lda_model_tfidf.print_topics(-1):\n",
    "      print('Topic: {} Word: {}'.format(idx,topic))"
   ]
  },
  {
   "cell_type": "code",
   "execution_count": 18,
   "id": "6e468e42",
   "metadata": {},
   "outputs": [
    {
     "name": "stdout",
     "output_type": "stream",
     "text": [
      "\n",
      "Score:0.581971287727356\t \n",
      "Topic:0.057*\"sling\" + 0.047*\"monitor\" + 0.044*\"babi\" + 0.043*\"like\" + 0.031*\"month\" + 0.028*\"great\" + 0.023*\"easi\" + 0.019*\"good\" + 0.018*\"nice\" + 0.018*\"want\"\n",
      "\n",
      "Score:0.3679336607456207\t \n",
      "Topic:0.056*\"book\" + 0.042*\"month\" + 0.038*\"diaper\" + 0.035*\"love\" + 0.035*\"babi\" + 0.033*\"think\" + 0.025*\"soft\" + 0.022*\"perfect\" + 0.022*\"daughter\" + 0.019*\"start\"\n"
     ]
    }
   ],
   "source": [
    "for index, score in sorted(lda_model_tfidf[bow_corpus[4]],key=lambda tup:-1*tup[1]):\n",
    "  print(\"\\nScore:{}\\t \\nTopic:{}\".format(score,lda_model.print_topic(index,10)))"
   ]
  },
  {
   "cell_type": "code",
   "execution_count": 19,
   "id": "06c443a7",
   "metadata": {},
   "outputs": [
    {
     "data": {
      "text/html": [
       "\n",
       "<link rel=\"stylesheet\" type=\"text/css\" href=\"https://cdn.jsdelivr.net/gh/bmabey/pyLDAvis@3.3.1/pyLDAvis/js/ldavis.v1.0.0.css\">\n",
       "\n",
       "\n",
       "<div id=\"ldavis_el28101403737653652001910212222\"></div>\n",
       "<script type=\"text/javascript\">\n",
       "\n",
       "var ldavis_el28101403737653652001910212222_data = {\"mdsDat\": {\"x\": [-0.09876860106162981, 0.029647174460411454, -0.03949933528227636, -0.052503616715470734, 0.06108257724882186, -0.06186122868656193, 0.13652159521605792, 0.02538143482064764], \"y\": [0.03978827032992773, -0.03109334737999967, 0.0032361219312059884, 0.010480271239217069, -0.046933088027944034, 0.033837668562384064, 0.0965107753723182, -0.10582667202710978], \"topics\": [1, 2, 3, 4, 5, 6, 7, 8], \"cluster\": [1, 1, 1, 1, 1, 1, 1, 1], \"Freq\": [17.250118970452387, 14.600619208937909, 14.516084516813468, 14.417478505996073, 13.984668244557225, 10.64633200777767, 8.516064453176607, 6.068634092288657]}, \"tinfo\": {\"Term\": [\"book\", \"diaper\", \"play\", \"sling\", \"babi\", \"monitor\", \"qualiti\", \"year\", \"camera\", \"vibrat\", \"teeth\", \"daughter\", \"love\", \"hold\", \"wish\", \"cute\", \"great\", \"teether\", \"time\", \"turn\", \"famili\", \"good\", \"kid\", \"color\", \"like\", \"product\", \"recommend\", \"need\", \"hard\", \"soft\", \"sling\", \"video\", \"monitor\", \"overal\", \"phone\", \"sound\", \"abl\", \"option\", \"screen\", \"nice\", \"pretti\", \"make\", \"photo\", \"week\", \"differ\", \"design\", \"complaint\", \"hous\", \"featur\", \"second\", \"reason\", \"good\", \"size\", \"easi\", \"worth\", \"come\", \"like\", \"wish\", \"take\", \"want\", \"camera\", \"tri\", \"month\", \"babi\", \"great\", \"play\", \"get\", \"thing\", \"gift\", \"love\", \"littl\", \"happi\", \"year\", \"page\", \"price\", \"chang\", \"face\", \"look\", \"chew\", \"read\", \"teeth\", \"purchas\", \"away\", \"batteri\", \"older\", \"vibrat\", \"right\", \"simpl\", \"kid\", \"toy\", \"enjoy\", \"durabl\", \"like\", \"track\", \"hand\", \"know\", \"buy\", \"month\", \"second\", \"long\", \"use\", \"littl\", \"daughter\", \"love\", \"book\", \"hard\", \"think\", \"good\", \"babi\", \"diaper\", \"time\", \"perfect\", \"play\", \"great\", \"come\", \"item\", \"use\", \"sleep\", \"free\", \"best\", \"better\", \"babi\", \"track\", \"have\", \"product\", \"give\", \"read\", \"thing\", \"want\", \"older\", \"time\", \"small\", \"activ\", \"get\", \"hand\", \"light\", \"money\", \"page\", \"buy\", \"perfect\", \"phone\", \"super\", \"simpl\", \"learn\", \"say\", \"take\", \"great\", \"camera\", \"love\", \"month\", \"book\", \"like\", \"littl\", \"easi\", \"think\", \"look\", \"daughter\", \"need\", \"room\", \"order\", \"high\", \"actual\", \"friend\", \"highli\", \"night\", \"place\", \"light\", \"qualiti\", \"pack\", \"recommend\", \"batteri\", \"camera\", \"long\", \"featur\", \"simpl\", \"face\", \"photo\", \"keep\", \"easi\", \"love\", \"option\", \"turn\", \"monitor\", \"happi\", \"price\", \"wall\", \"plastic\", \"year\", \"babi\", \"nice\", \"toy\", \"littl\", \"good\", \"month\", \"look\", \"like\", \"great\", \"work\", \"buy\", \"think\", \"receiv\", \"children\", \"soft\", \"special\", \"perfect\", \"week\", \"book\", \"feel\", \"money\", \"definit\", \"start\", \"plastic\", \"wall\", \"stick\", \"tri\", \"diaper\", \"think\", \"super\", \"design\", \"famili\", \"gift\", \"chang\", \"color\", \"cute\", \"reason\", \"see\", \"pack\", \"life\", \"pictur\", \"track\", \"month\", \"daughter\", \"love\", \"look\", \"babi\", \"year\", \"toy\", \"differ\", \"like\", \"great\", \"recommend\", \"time\", \"littl\", \"nice\", \"stack\", \"play\", \"turn\", \"child\", \"help\", \"see\", \"go\", \"enjoy\", \"parent\", \"hous\", \"super\", \"camera\", \"interact\", \"screen\", \"favorit\", \"sleep\", \"light\", \"night\", \"product\", \"know\", \"item\", \"sound\", \"have\", \"disappoint\", \"durabl\", \"put\", \"review\", \"littl\", \"hold\", \"great\", \"easi\", \"look\", \"like\", \"good\", \"color\", \"toy\", \"start\", \"time\", \"love\", \"month\", \"daughter\", \"buy\", \"think\", \"come\", \"wish\", \"teether\", \"sensit\", \"diaper\", \"vibrat\", \"hold\", \"stick\", \"leav\", \"right\", \"hard\", \"teeth\", \"kid\", \"special\", \"daughter\", \"pictur\", \"actual\", \"recommend\", \"complaint\", \"free\", \"tri\", \"highli\", \"review\", \"differ\", \"definit\", \"best\", \"expect\", \"star\", \"give\", \"plastic\", \"activ\", \"product\", \"help\", \"great\", \"buy\", \"love\", \"think\", \"littl\", \"month\", \"famili\", \"interact\", \"qualiti\", \"say\", \"expect\", \"book\", \"learn\", \"cute\", \"kid\", \"money\", \"work\", \"color\", \"activ\", \"high\", \"vibrat\", \"favorit\", \"play\", \"time\", \"teeth\", \"good\", \"chew\", \"batteri\", \"leav\", \"overal\", \"teether\", \"sure\", \"life\", \"come\", \"pack\", \"have\", \"year\", \"love\", \"like\", \"great\", \"babi\", \"hard\", \"hand\", \"differ\", \"diaper\", \"think\"], \"Freq\": [111.0, 93.0, 86.0, 70.0, 258.0, 73.0, 40.0, 72.0, 69.0, 35.0, 46.0, 83.0, 211.0, 38.0, 21.0, 47.0, 144.0, 27.0, 80.0, 35.0, 17.0, 63.0, 26.0, 50.0, 153.0, 68.0, 57.0, 44.0, 39.0, 36.0, 54.8693500959677, 14.930483247705988, 45.18307688638892, 11.8424714647093, 17.208836353574906, 11.537074916696366, 16.90436936070153, 10.009809541623042, 10.164779662746657, 17.623229522479097, 10.724231885137812, 10.726817771153458, 6.657615675652515, 5.931084889465595, 17.1647775933694, 6.5217296983907245, 5.417371984013914, 6.520336262935382, 8.222694025867183, 6.78242819272621, 7.72442645069771, 18.654373553940694, 12.22736292223444, 22.04230773832247, 6.065324854272249, 13.825313967090054, 41.38549241772429, 5.56237854814213, 8.873428383512229, 17.39301209225899, 16.619851913168844, 9.700704642845825, 29.845004346828237, 42.71924971530412, 27.32515981428307, 14.016451499526873, 9.462246831929084, 10.097867843270334, 9.34452979945349, 16.68178935649293, 10.363021652321533, 9.977555885122547, 32.620814189574865, 13.248359950498642, 12.933891748251897, 7.993252552341772, 7.119401436254909, 27.862147916189365, 7.3971392287680695, 8.132882789149535, 14.077696376902178, 10.855276357925892, 5.811856567327163, 4.925338719017691, 4.6605266284308335, 8.961374716108766, 6.69113921221408, 5.0034799792000095, 6.589394496340251, 13.381040534055664, 5.336571216854323, 4.812412359647274, 36.79561845686463, 6.188557999306742, 9.790452172808608, 6.635361998466882, 19.55195897527532, 36.49686918402274, 5.150479081212879, 5.242406111325704, 4.877472612025269, 20.316824855972175, 16.842458452421575, 37.7994852747189, 21.12020507553451, 8.285818448856757, 13.87304044232498, 11.315734363838851, 28.802892957233603, 14.462324863917406, 11.739899398579304, 8.206840283649598, 9.221201829760004, 9.606514573968862, 7.496743837237179, 10.609317493121662, 8.718138341058095, 12.29716455618364, 8.787736117379863, 10.821066067934881, 6.708401279366094, 87.73742265694602, 8.220194516582724, 7.67161511410561, 21.071408775746328, 10.919070144535217, 7.272008341043792, 13.840840320527025, 18.616464757615127, 5.085194745151562, 22.069117593063236, 9.56934654605375, 5.165597214392003, 10.128922422861232, 10.285527046408038, 4.708466965973403, 4.461262236389537, 6.989159450502225, 19.049023956466577, 9.450887547310874, 6.981742644175172, 4.8871777949201345, 4.278383559440634, 4.381167070434763, 5.248669900020066, 7.09059143107536, 28.72942024538543, 13.120291885264663, 27.93590124810824, 20.833935065193618, 14.000162350769452, 14.390176278021926, 10.87174770367723, 9.268723142863792, 9.407052658974992, 8.03559207206336, 7.948074059422109, 23.3036156662439, 10.7440990093175, 8.851521754673266, 7.277956516182137, 8.658567618259024, 10.067420556851744, 10.51780885700739, 11.832993537766598, 5.9458466062873985, 6.361457177039433, 13.226550439731238, 8.497598149110761, 17.833605384574348, 5.713741605322384, 21.212864859833587, 7.029477849298727, 7.7379287428027945, 5.725676518443719, 5.431097515448405, 5.027938549940899, 7.460408079032804, 20.392258779292916, 53.2059401839922, 5.16881776948058, 8.002774326360607, 16.671342074463993, 4.1084219237769135, 7.099448011653302, 4.864650715482261, 4.115540876353781, 15.557473843421949, 48.87740704077751, 8.516204314957664, 10.37983256229917, 15.548174885036492, 11.492333696475349, 16.37831539758625, 10.951561020645054, 14.894342623475008, 14.279484996204573, 8.17683882868039, 9.311679960461634, 7.852094454632253, 12.482707767238361, 10.03247185711442, 19.306114774214233, 11.354668375585403, 17.394998441952932, 6.4311553173952, 43.82030000395682, 14.119879521380428, 6.951447506646243, 6.485649489061027, 14.574175105085676, 6.28575096525226, 7.292185197305426, 8.230738848365437, 12.250815848795897, 29.465463285162816, 25.754825978644977, 6.423153149867626, 5.5510612789860705, 4.98544929657493, 11.031515668107668, 5.077878659570118, 12.395819401528993, 11.793034546811208, 6.378246158277558, 4.453768148412949, 6.3504280605812555, 4.222825128028817, 8.576651288573858, 5.815930405495652, 33.03743126991112, 17.190052464233265, 27.252419156457968, 12.519802443652885, 27.18843673161246, 11.189281517838428, 9.275457789200651, 8.90193165172091, 14.44441065877042, 13.28875247802061, 8.67216156971858, 9.385062243421846, 9.514681936411222, 7.358554960922456, 8.88513065328426, 35.753196095849674, 14.317444307665204, 11.920945329443512, 14.082721121436771, 6.022048253210374, 14.334670742367338, 6.6364701249424645, 10.212442730920667, 5.862009314409384, 6.1722518214718045, 16.26922461097372, 3.7488701800820383, 5.338538454903992, 5.720308764820041, 7.057436277556594, 3.7544803449903363, 6.771471259364442, 12.937079041889474, 5.228619425837502, 3.9704437289684074, 4.012014380886626, 4.358805470421667, 3.638562686828088, 3.538173628444587, 2.842115024789577, 4.418939615888244, 15.902257472346646, 6.6313173676162664, 24.480371837180247, 11.847567407059865, 10.809955473694622, 18.397858842466356, 8.709344932395386, 7.306822533235902, 7.688427822014584, 6.52066017352927, 9.62933555817183, 15.983769054011026, 11.299069264657371, 7.862071590690913, 7.645075440198779, 6.900743170003845, 6.399858055829598, 11.172102570236174, 11.558206641077764, 8.23187433539594, 34.64197748511196, 13.03128458840438, 13.815284263806141, 7.689120935088737, 6.964804492976775, 8.021814939452042, 11.613912114307725, 13.36634398683445, 7.618184804631886, 5.80306024426675, 19.310246172427018, 8.738236103690223, 5.395859427504238, 12.59928478534454, 3.559217089933449, 4.943506161527975, 7.90365863328263, 6.012048125557557, 4.926684400277152, 9.622531145268884, 3.575591906874654, 5.2968800886255325, 2.9708959675777393, 3.90107478151701, 5.946503233150628, 2.9933224724852585, 3.1833484424440504, 10.019487679525398, 6.2617460333850445, 17.95308759493327, 10.998946865395304, 17.569172620997662, 8.67267747959489, 6.983417132169906, 6.40169851566853, 7.262844033748198, 5.360480992208901, 13.231012993576446, 6.9786891024631785, 4.4713707286184565, 25.637428581082787, 4.330322302033749, 9.796570516983943, 5.20755947509654, 3.5933993393444856, 7.611609991617046, 8.499580420840092, 3.3451720757036103, 2.998990710413069, 5.158991041161377, 3.747987205286949, 12.198268132542223, 10.870171385174412, 6.08451350459036, 7.430960606739225, 2.3978644450679707, 2.064066112819768, 2.4478544364868173, 2.2314756160287468, 2.9052335729697, 2.2409718157265694, 1.8351895183078522, 4.954025084560322, 2.63938764550973, 2.336581223473981, 5.948598278360857, 14.859358085518526, 10.327434721471503, 9.309820522460797, 12.934013382125764, 3.336770255887198, 3.3918014338927382, 3.3641610028815756, 4.224445862263622, 3.7674281520755803], \"Total\": [111.0, 93.0, 86.0, 70.0, 258.0, 73.0, 40.0, 72.0, 69.0, 35.0, 46.0, 83.0, 211.0, 38.0, 21.0, 47.0, 144.0, 27.0, 80.0, 35.0, 17.0, 63.0, 26.0, 50.0, 153.0, 68.0, 57.0, 44.0, 39.0, 36.0, 70.24385757856953, 23.92174828459384, 73.27077654104845, 21.306335635467946, 32.08379407297621, 21.82031114100105, 36.97139374801963, 22.6663098518819, 23.817586517914332, 41.52390992820945, 27.5071111720774, 28.735651418238493, 17.90654390627959, 16.40683479861378, 50.35216766033784, 19.834704994962483, 16.914537835725184, 20.714641479517187, 26.387048480847216, 22.560896441993098, 25.911304183110417, 63.519874017377326, 42.20531286875725, 77.40411926737497, 21.849652074993724, 51.15169849954451, 153.1365273765355, 21.007723981695907, 33.614983425150164, 65.94088820223529, 69.58567234334528, 38.55879290327028, 155.84580964788483, 258.0770710603321, 144.97261206243687, 86.79618030661779, 40.89105070974878, 47.08226201138831, 42.410497777124796, 211.28783498029742, 92.77900297713649, 18.245793596930223, 72.16679913805342, 30.131903431621797, 31.550296194328972, 20.197037694161523, 19.222041482296667, 78.07462150110776, 21.254463894512256, 24.696461369019502, 46.183369680283214, 37.0202872933076, 20.526529533392488, 18.632905131455544, 18.403891145025337, 35.656872044294225, 26.76045321947314, 20.014520999722855, 26.623850108060296, 54.07942168353726, 21.896819310987077, 19.961088922434, 153.1365273765355, 25.794581227897865, 41.63977337025828, 28.262922017251896, 83.3229282435572, 155.84580964788483, 22.560896441993098, 23.359892416076658, 21.788292600171356, 92.77900297713649, 83.20604597352283, 211.28783498029742, 111.79338654093526, 39.04418330827507, 84.82370366209396, 63.519874017377326, 258.0770710603321, 93.72162484350548, 80.40886442381185, 42.37926644024254, 86.79618030661779, 144.97261206243687, 51.15169849954451, 21.47535243612762, 21.788292600171356, 32.84717026890561, 23.608090083858528, 30.499693970503994, 19.504621578075163, 258.0770710603321, 25.794581227897865, 24.40735484777275, 68.88380999992633, 36.7932333904066, 24.696461369019502, 47.08226201138831, 65.94088820223529, 18.403891145025337, 80.40886442381185, 36.360827869900334, 20.234162563627336, 40.89105070974878, 41.63977337025828, 19.10227744276965, 18.899727827689, 30.131903431621797, 83.3229282435572, 42.37926644024254, 32.08379407297621, 22.74857798867889, 20.014520999722855, 20.49853721481254, 24.746820532561596, 33.614983425150164, 144.97261206243687, 69.58567234334528, 211.28783498029742, 155.84580964788483, 111.79338654093526, 153.1365273765355, 92.77900297713649, 77.40411926737497, 84.82370366209396, 78.07462150110776, 83.20604597352283, 44.3306791266434, 20.438968462940398, 22.309744106293962, 19.194347325604696, 24.551218641874602, 28.720894309204784, 30.803664877166376, 34.657764986378176, 17.84913870917059, 19.10227744276965, 40.66651896830207, 27.361747466621733, 57.80770164233203, 18.632905131455544, 69.58567234334528, 23.359892416076658, 26.387048480847216, 20.014520999722855, 19.222041482296667, 17.90654390627959, 27.767159937638, 77.40411926737497, 211.28783498029742, 22.6663098518819, 35.117721724066996, 73.27077654104845, 18.245793596930223, 31.550296194328972, 22.139006833408004, 18.98372254829439, 72.16679913805342, 258.0770710603321, 41.52390992820945, 54.07942168353726, 92.77900297713649, 63.519874017377326, 155.84580964788483, 78.07462150110776, 153.1365273765355, 144.97261206243687, 42.75811074527281, 83.3229282435572, 84.82370366209396, 19.804991965704062, 18.62679211759849, 36.01708644239869, 24.722499195046648, 42.37926644024254, 16.40683479861378, 111.79338654093526, 36.64434461621178, 18.899727827689, 19.234611817233436, 43.45743526258692, 18.98372254829439, 22.139006833408004, 25.164895469089533, 38.55879290327028, 93.72162484350548, 84.82370366209396, 22.74857798867889, 19.834704994962483, 17.8938558269929, 42.410497777124796, 20.197037694161523, 50.232733731228436, 47.85644157010347, 25.911304183110417, 18.53243600163112, 27.361747466621733, 18.45873609723074, 37.9325201971227, 25.794581227897865, 155.84580964788483, 83.20604597352283, 211.28783498029742, 78.07462150110776, 258.0770710603321, 72.16679913805342, 54.07942168353726, 50.35216766033784, 153.1365273765355, 144.97261206243687, 57.80770164233203, 80.40886442381185, 92.77900297713649, 41.52390992820945, 19.451010990917833, 86.79618030661779, 35.117721724066996, 35.0228537627487, 41.78629279300332, 18.53243600163112, 44.29185807040959, 21.896819310987077, 35.747773596952406, 20.714641479517187, 22.74857798867889, 69.58567234334528, 16.340990559737207, 23.817586517914332, 26.142399113427015, 32.84717026890561, 19.10227744276965, 34.657764986378176, 68.88380999992633, 28.262922017251896, 21.47535243612762, 21.82031114100105, 24.40735484777275, 20.41831588415395, 19.961088922434, 16.07599372339831, 25.248691998157494, 92.77900297713649, 38.874397522816906, 144.97261206243687, 77.40411926737497, 78.07462150110776, 153.1365273765355, 63.519874017377326, 50.232733731228436, 54.07942168353726, 43.45743526258692, 80.40886442381185, 211.28783498029742, 155.84580964788483, 83.20604597352283, 83.3229282435572, 84.82370366209396, 51.15169849954451, 21.007723981695907, 27.8140111409688, 22.187168819572797, 93.72162484350548, 35.656872044294225, 38.874397522816906, 25.164895469089533, 22.874166110947872, 26.76045321947314, 39.04418330827507, 46.183369680283214, 26.623850108060296, 24.722499195046648, 83.20604597352283, 37.9325201971227, 24.551218641874602, 57.80770164233203, 16.914537835725184, 23.608090083858528, 38.55879290327028, 30.803664877166376, 25.248691998157494, 50.35216766033784, 19.234611817233436, 30.499693970503994, 17.216685190853653, 23.562599065604036, 36.7932333904066, 18.98372254829439, 20.234162563627336, 68.88380999992633, 41.78629279300332, 144.97261206243687, 83.3229282435572, 211.28783498029742, 84.82370366209396, 92.77900297713649, 155.84580964788483, 17.8938558269929, 16.340990559737207, 40.66651896830207, 24.746820532561596, 17.216685190853653, 111.79338654093526, 20.49853721481254, 47.85644157010347, 26.623850108060296, 18.899727827689, 42.75811074527281, 50.232733731228436, 20.234162563627336, 19.194347325604696, 35.656872044294225, 26.142399113427015, 86.79618030661779, 80.40886442381185, 46.183369680283214, 63.519874017377326, 21.254463894512256, 18.632905131455544, 22.874166110947872, 21.306335635467946, 27.8140111409688, 21.47703195947199, 18.45873609723074, 51.15169849954451, 27.361747466621733, 24.40735484777275, 72.16679913805342, 211.28783498029742, 153.1365273765355, 144.97261206243687, 258.0770710603321, 39.04418330827507, 41.63977337025828, 50.35216766033784, 93.72162484350548, 84.82370366209396], \"Category\": [\"Default\", \"Default\", \"Default\", \"Default\", \"Default\", \"Default\", \"Default\", \"Default\", \"Default\", \"Default\", \"Default\", \"Default\", \"Default\", \"Default\", \"Default\", \"Default\", \"Default\", \"Default\", \"Default\", \"Default\", \"Default\", \"Default\", \"Default\", \"Default\", \"Default\", \"Default\", \"Default\", \"Default\", \"Default\", \"Default\", \"Topic1\", \"Topic1\", \"Topic1\", \"Topic1\", \"Topic1\", \"Topic1\", \"Topic1\", \"Topic1\", \"Topic1\", \"Topic1\", \"Topic1\", \"Topic1\", \"Topic1\", \"Topic1\", \"Topic1\", \"Topic1\", \"Topic1\", \"Topic1\", \"Topic1\", \"Topic1\", \"Topic1\", \"Topic1\", \"Topic1\", \"Topic1\", \"Topic1\", \"Topic1\", \"Topic1\", \"Topic1\", \"Topic1\", \"Topic1\", \"Topic1\", \"Topic1\", \"Topic1\", \"Topic1\", \"Topic1\", \"Topic1\", \"Topic1\", \"Topic1\", \"Topic1\", \"Topic1\", \"Topic1\", \"Topic2\", \"Topic2\", \"Topic2\", \"Topic2\", \"Topic2\", \"Topic2\", \"Topic2\", \"Topic2\", \"Topic2\", \"Topic2\", \"Topic2\", \"Topic2\", \"Topic2\", \"Topic2\", \"Topic2\", \"Topic2\", \"Topic2\", \"Topic2\", \"Topic2\", \"Topic2\", \"Topic2\", \"Topic2\", \"Topic2\", \"Topic2\", \"Topic2\", \"Topic2\", \"Topic2\", \"Topic2\", \"Topic2\", \"Topic2\", \"Topic2\", \"Topic2\", \"Topic2\", \"Topic2\", \"Topic2\", \"Topic2\", \"Topic2\", \"Topic2\", \"Topic2\", \"Topic2\", \"Topic2\", \"Topic2\", \"Topic2\", \"Topic2\", \"Topic3\", \"Topic3\", \"Topic3\", \"Topic3\", \"Topic3\", \"Topic3\", \"Topic3\", \"Topic3\", \"Topic3\", \"Topic3\", \"Topic3\", \"Topic3\", \"Topic3\", \"Topic3\", \"Topic3\", \"Topic3\", \"Topic3\", \"Topic3\", \"Topic3\", \"Topic3\", \"Topic3\", \"Topic3\", \"Topic3\", \"Topic3\", \"Topic3\", \"Topic3\", \"Topic3\", \"Topic3\", \"Topic3\", \"Topic3\", \"Topic3\", \"Topic3\", \"Topic3\", \"Topic3\", \"Topic3\", \"Topic3\", \"Topic3\", \"Topic3\", \"Topic3\", \"Topic3\", \"Topic3\", \"Topic3\", \"Topic4\", \"Topic4\", \"Topic4\", \"Topic4\", \"Topic4\", \"Topic4\", \"Topic4\", \"Topic4\", \"Topic4\", \"Topic4\", \"Topic4\", \"Topic4\", \"Topic4\", \"Topic4\", \"Topic4\", \"Topic4\", \"Topic4\", \"Topic4\", \"Topic4\", \"Topic4\", \"Topic4\", \"Topic4\", \"Topic4\", \"Topic4\", \"Topic4\", \"Topic4\", \"Topic4\", \"Topic4\", \"Topic4\", \"Topic4\", \"Topic4\", \"Topic4\", \"Topic4\", \"Topic4\", \"Topic4\", \"Topic4\", \"Topic4\", \"Topic4\", \"Topic4\", \"Topic4\", \"Topic4\", \"Topic4\", \"Topic4\", \"Topic5\", \"Topic5\", \"Topic5\", \"Topic5\", \"Topic5\", \"Topic5\", \"Topic5\", \"Topic5\", \"Topic5\", \"Topic5\", \"Topic5\", \"Topic5\", \"Topic5\", \"Topic5\", \"Topic5\", \"Topic5\", \"Topic5\", \"Topic5\", \"Topic5\", \"Topic5\", \"Topic5\", \"Topic5\", \"Topic5\", \"Topic5\", \"Topic5\", \"Topic5\", \"Topic5\", \"Topic5\", \"Topic5\", \"Topic5\", \"Topic5\", \"Topic5\", \"Topic5\", \"Topic5\", \"Topic5\", \"Topic5\", \"Topic5\", \"Topic5\", \"Topic5\", \"Topic5\", \"Topic5\", \"Topic5\", \"Topic5\", \"Topic5\", \"Topic6\", \"Topic6\", \"Topic6\", \"Topic6\", \"Topic6\", \"Topic6\", \"Topic6\", \"Topic6\", \"Topic6\", \"Topic6\", \"Topic6\", \"Topic6\", \"Topic6\", \"Topic6\", \"Topic6\", \"Topic6\", \"Topic6\", \"Topic6\", \"Topic6\", \"Topic6\", \"Topic6\", \"Topic6\", \"Topic6\", \"Topic6\", \"Topic6\", \"Topic6\", \"Topic6\", \"Topic6\", \"Topic6\", \"Topic6\", \"Topic6\", \"Topic6\", \"Topic6\", \"Topic6\", \"Topic6\", \"Topic6\", \"Topic6\", \"Topic6\", \"Topic6\", \"Topic6\", \"Topic6\", \"Topic6\", \"Topic6\", \"Topic6\", \"Topic7\", \"Topic7\", \"Topic7\", \"Topic7\", \"Topic7\", \"Topic7\", \"Topic7\", \"Topic7\", \"Topic7\", \"Topic7\", \"Topic7\", \"Topic7\", \"Topic7\", \"Topic7\", \"Topic7\", \"Topic7\", \"Topic7\", \"Topic7\", \"Topic7\", \"Topic7\", \"Topic7\", \"Topic7\", \"Topic7\", \"Topic7\", \"Topic7\", \"Topic7\", \"Topic7\", \"Topic7\", \"Topic7\", \"Topic7\", \"Topic7\", \"Topic7\", \"Topic7\", \"Topic7\", \"Topic7\", \"Topic7\", \"Topic7\", \"Topic7\", \"Topic8\", \"Topic8\", \"Topic8\", \"Topic8\", \"Topic8\", \"Topic8\", \"Topic8\", \"Topic8\", \"Topic8\", \"Topic8\", \"Topic8\", \"Topic8\", \"Topic8\", \"Topic8\", \"Topic8\", \"Topic8\", \"Topic8\", \"Topic8\", \"Topic8\", \"Topic8\", \"Topic8\", \"Topic8\", \"Topic8\", \"Topic8\", \"Topic8\", \"Topic8\", \"Topic8\", \"Topic8\", \"Topic8\", \"Topic8\", \"Topic8\", \"Topic8\", \"Topic8\", \"Topic8\", \"Topic8\", \"Topic8\", \"Topic8\", \"Topic8\", \"Topic8\", \"Topic8\"], \"logprob\": [30.0, 29.0, 28.0, 27.0, 26.0, 25.0, 24.0, 23.0, 22.0, 21.0, 20.0, 19.0, 18.0, 17.0, 16.0, 15.0, 14.0, 13.0, 12.0, 11.0, 10.0, 9.0, 8.0, 7.0, 6.0, 5.0, 4.0, 3.0, 2.0, 1.0, -2.8655, -4.1671, -3.0598, -4.3988, -4.0251, -4.4249, -4.0429, -4.5669, -4.5516, -4.0013, -4.498, -4.4977, -4.9747, -5.0903, -4.0276, -4.9953, -5.1809, -4.9956, -4.7636, -4.9562, -4.8261, -3.9444, -4.3668, -3.7775, -5.0679, -4.244, -3.1476, -5.1545, -4.6874, -4.0144, -4.0599, -4.5983, -3.4745, -3.1158, -3.5627, -4.2303, -4.6232, -4.5582, -4.6357, -4.0562, -4.5322, -4.4034, -3.2188, -4.1199, -4.1439, -4.6251, -4.7409, -3.3765, -4.7026, -4.6078, -4.0591, -4.3191, -4.9438, -5.1093, -5.1646, -4.5108, -4.8029, -5.0936, -4.8183, -4.1099, -5.0292, -5.1325, -3.0984, -4.881, -4.4223, -4.8113, -3.7307, -3.1065, -5.0646, -5.047, -5.1191, -3.6923, -3.8798, -3.0714, -3.6535, -4.5892, -4.0738, -4.2775, -3.3433, -4.0322, -4.2407, -4.5988, -4.4822, -4.4413, -4.6893, -4.3362, -4.5325, -4.1886, -4.5246, -4.3164, -4.7946, -2.2236, -4.5913, -4.6604, -3.65, -4.3074, -4.7139, -4.0703, -3.7739, -5.0716, -3.6037, -4.4394, -5.0559, -4.3825, -4.3672, -5.1486, -5.2025, -4.7536, -3.7509, -4.4518, -4.7546, -5.1113, -5.2444, -5.2206, -5.04, -4.7392, -3.34, -4.1238, -3.368, -3.6613, -4.0589, -4.0314, -4.3118, -4.4713, -4.4565, -4.614, -4.625, -3.5425, -4.3168, -4.5105, -4.7063, -4.5326, -4.3818, -4.338, -4.2202, -4.9084, -4.8409, -4.1089, -4.5513, -3.81, -4.9482, -3.6365, -4.741, -4.645, -4.9462, -4.999, -5.0761, -4.6815, -3.676, -2.7169, -5.0485, -4.6113, -3.8774, -5.2781, -4.7311, -5.1091, -5.2763, -3.9466, -2.8018, -4.5491, -4.3512, -3.9472, -4.2494, -3.8952, -4.2976, -3.9901, -4.0323, -4.5898, -4.4598, -4.6303, -4.1363, -4.3548, -3.7002, -4.231, -3.8044, -4.7995, -2.8805, -4.013, -4.7217, -4.791, -3.9814, -4.8223, -4.6738, -4.5528, -4.155, -3.2774, -3.412, -4.8007, -4.9466, -5.0541, -4.2599, -5.0357, -4.1433, -4.1931, -4.8077, -5.1669, -4.8121, -5.2201, -4.5116, -4.9, -3.163, -3.8163, -3.3555, -4.1333, -3.3578, -4.2457, -4.4333, -4.4744, -3.9903, -4.0737, -4.5005, -4.4215, -4.4078, -4.6648, -4.2035, -2.8112, -3.7264, -3.9096, -3.7429, -4.5925, -3.7252, -4.4953, -4.0643, -4.6194, -4.5678, -3.5986, -5.0664, -4.7129, -4.6439, -4.4338, -5.0649, -4.4752, -3.8278, -4.7337, -5.009, -4.9986, -4.9157, -5.0963, -5.1243, -5.3433, -4.902, -3.6214, -4.4961, -3.19, -3.9158, -4.0074, -3.4757, -4.2235, -4.3991, -4.3482, -4.5129, -4.1231, -3.6163, -3.9632, -4.3258, -4.3538, -4.4563, -4.5316, -3.7512, -3.7172, -4.0566, -2.6196, -3.5973, -3.5388, -4.1248, -4.2238, -4.0825, -3.7124, -3.5719, -4.1341, -4.4062, -3.204, -3.9969, -4.479, -3.631, -4.8951, -4.5665, -4.0973, -4.3709, -4.57, -3.9005, -4.8905, -4.4975, -5.0758, -4.8034, -4.3818, -5.0682, -5.0067, -3.8601, -4.3302, -3.2769, -3.7668, -3.2985, -4.0044, -4.2211, -4.3081, -3.843, -4.1467, -3.2432, -3.8829, -4.3281, -2.5817, -4.3602, -3.5438, -4.1757, -4.5467, -3.7961, -3.6858, -4.6183, -4.7275, -4.1851, -4.5046, -3.3245, -3.4398, -4.0201, -3.8201, -4.9512, -5.1011, -4.9306, -5.0231, -4.7593, -5.0189, -5.2187, -4.2256, -4.8553, -4.9771, -4.0426, -3.1272, -3.491, -3.5947, -3.2659, -4.6208, -4.6044, -4.6126, -4.3849, -4.4994], \"loglift\": [30.0, 29.0, 28.0, 27.0, 26.0, 25.0, 24.0, 23.0, 22.0, 21.0, 20.0, 19.0, 18.0, 17.0, 16.0, 15.0, 14.0, 13.0, 12.0, 11.0, 10.0, 9.0, 8.0, 7.0, 6.0, 5.0, 4.0, 3.0, 2.0, 1.0, 1.5103, 1.286, 1.2739, 1.17, 1.1344, 1.1201, 0.9748, 0.94, 0.9059, 0.9003, 0.8154, 0.772, 0.7679, 0.7399, 0.6812, 0.6451, 0.6188, 0.6014, 0.5914, 0.5555, 0.5471, 0.5321, 0.5185, 0.5013, 0.4758, 0.4491, 0.449, 0.4285, 0.4254, 0.4247, 0.3254, 0.3774, 0.1045, -0.0413, 0.0886, -0.066, 0.2937, 0.2178, 0.2447, -0.7816, -0.4346, 1.3205, 1.1301, 1.1024, 1.0324, 0.9972, 0.9309, 0.8937, 0.8686, 0.8134, 0.7361, 0.6973, 0.6623, 0.5936, 0.5507, 0.5431, 0.538, 0.5378, 0.5278, 0.5275, 0.5123, 0.5015, 0.4982, 0.4966, 0.4765, 0.475, 0.4745, 0.4725, 0.447, 0.4299, 0.4274, 0.4053, 0.3267, 0.2032, 0.2577, 0.374, 0.1135, 0.1989, -0.2687, 0.0553, -0.0, 0.2824, -0.318, -0.79, 0.0038, 1.2247, 1.0139, 0.9474, 0.9417, 0.8937, 0.8626, 0.851, 0.7863, 0.7726, 0.7454, 0.7151, 0.7073, 0.7056, 0.6652, 0.6437, 0.637, 0.595, 0.5646, 0.5344, 0.5316, 0.5295, 0.4862, 0.4687, 0.4542, 0.4294, 0.4049, 0.392, 0.387, 0.3869, 0.3792, 0.3737, 0.3113, 0.2615, -0.0934, -0.0824, -0.1477, -0.4349, -0.2141, -0.1925, -0.2692, -0.3439, -0.4185, 1.2937, 1.2936, 1.0123, 0.967, 0.8945, 0.8884, 0.8622, 0.8621, 0.8375, 0.8372, 0.8135, 0.7674, 0.7607, 0.7547, 0.7488, 0.7358, 0.71, 0.6852, 0.6728, 0.6666, 0.6225, 0.6028, 0.5577, 0.4585, 0.4578, 0.4563, 0.4458, 0.4452, 0.4214, 0.4079, 0.4023, 0.2728, 0.3524, 0.2861, 0.1505, 0.2271, -0.3162, -0.0275, -0.3936, -0.381, 0.2825, -0.2547, -0.4431, 1.5056, 1.3484, 1.3436, 1.1891, 1.0767, 1.0307, 1.0307, 1.0135, 0.967, 0.8801, 0.8747, 0.8619, 0.8567, 0.8496, 0.8206, 0.8101, 0.7753, 0.7026, 0.6938, 0.6893, 0.6206, 0.5866, 0.5679, 0.5665, 0.5654, 0.5414, 0.5066, 0.4922, 0.4804, 0.4776, 0.416, 0.3902, -0.0809, 0.1369, -0.2833, 0.1032, 0.2041, 0.2344, -0.3938, -0.4224, 0.0702, -0.1808, -0.3102, 0.2368, 1.4564, 1.353, 1.3427, 1.1623, 1.1523, 1.1159, 1.1118, 1.0462, 0.9871, 0.9776, 0.9355, 0.7867, 0.7677, 0.7445, 0.7204, 0.7022, 0.6131, 0.6072, 0.5676, 0.5526, 0.5519, 0.5464, 0.5173, 0.5151, 0.5098, 0.5072, 0.4971, 0.4762, 0.4714, 0.4613, 0.363, 0.2628, 0.1209, 0.253, 0.3121, 0.2892, 0.3431, 0.1176, -0.3417, -0.3842, -0.1193, -0.1487, -0.269, 0.1614, 1.8317, 1.5851, 1.4717, 1.468, 1.4566, 1.4287, 1.2776, 1.2741, 1.2585, 1.2507, 1.2233, 1.2119, 1.0139, 1.0025, 0.9951, 0.9481, 0.9397, 0.9046, 0.8997, 0.8784, 0.8293, 0.8291, 0.8083, 0.7806, 0.7126, 0.7062, 0.6648, 0.6407, 0.616, 0.6138, 0.5353, 0.5651, 0.3744, 0.4383, -0.0239, 0.1828, -0.1235, -0.7291, 1.9004, 1.6874, 1.6792, 1.5362, 1.4539, 1.3294, 1.2473, 1.2159, 1.1703, 1.142, 1.0762, 1.0254, 1.0022, 0.9457, 0.8688, 0.8597, 0.8398, 0.8009, 0.7752, 0.6563, 0.62, 0.6018, 0.5672, 0.5457, 0.543, 0.542, 0.4936, 0.4674, 0.4634, 0.4558, 0.3062, 0.1474, 0.1055, 0.0566, -0.1914, 0.3423, 0.2943, 0.0962, -0.2974, -0.3121]}, \"token.table\": {\"Topic\": [1, 2, 3, 4, 5, 6, 8, 1, 2, 3, 6, 7, 8, 1, 2, 3, 4, 6, 7, 8, 1, 2, 3, 4, 5, 6, 7, 8, 1, 2, 3, 4, 5, 6, 7, 8, 1, 2, 3, 4, 6, 8, 1, 2, 3, 4, 5, 6, 7, 8, 1, 2, 3, 4, 5, 7, 8, 1, 2, 3, 4, 5, 6, 7, 8, 1, 2, 3, 4, 5, 6, 7, 8, 1, 2, 3, 4, 6, 7, 2, 3, 5, 6, 7, 1, 2, 3, 4, 5, 6, 7, 8, 1, 2, 3, 4, 5, 6, 7, 1, 2, 3, 5, 6, 8, 1, 2, 3, 4, 5, 6, 7, 8, 1, 2, 3, 4, 5, 6, 7, 8, 1, 2, 3, 4, 6, 7, 1, 2, 3, 4, 5, 6, 7, 8, 1, 2, 3, 4, 5, 6, 7, 8, 1, 2, 3, 4, 5, 6, 7, 8, 1, 2, 3, 4, 5, 6, 7, 1, 2, 3, 4, 5, 6, 7, 8, 1, 2, 3, 4, 5, 6, 7, 8, 1, 2, 3, 4, 5, 6, 7, 8, 1, 2, 3, 4, 5, 6, 1, 2, 3, 4, 5, 6, 7, 8, 1, 2, 4, 5, 6, 8, 1, 2, 4, 5, 6, 7, 8, 1, 2, 3, 4, 6, 1, 2, 3, 5, 8, 1, 2, 3, 4, 5, 6, 7, 8, 1, 2, 3, 4, 6, 8, 1, 2, 3, 4, 5, 6, 7, 8, 1, 2, 3, 4, 6, 7, 8, 1, 2, 3, 4, 5, 6, 7, 8, 1, 2, 3, 4, 5, 6, 7, 8, 1, 2, 3, 4, 5, 6, 8, 1, 2, 3, 4, 5, 6, 7, 1, 2, 3, 4, 5, 6, 7, 8, 1, 2, 3, 4, 5, 6, 8, 1, 2, 3, 4, 5, 6, 7, 8, 1, 2, 3, 4, 5, 6, 7, 8, 1, 2, 3, 4, 6, 1, 2, 3, 4, 5, 6, 7, 8, 1, 3, 5, 6, 7, 8, 1, 2, 3, 4, 5, 6, 7, 8, 2, 3, 4, 5, 6, 8, 1, 2, 3, 4, 5, 6, 7, 8, 1, 2, 3, 4, 6, 7, 1, 2, 3, 4, 5, 6, 7, 2, 3, 4, 5, 6, 7, 8, 1, 2, 3, 4, 5, 6, 1, 3, 4, 5, 6, 7, 1, 2, 4, 5, 6, 7, 8, 1, 2, 3, 4, 5, 6, 7, 1, 2, 3, 4, 5, 6, 8, 1, 2, 3, 4, 5, 7, 8, 1, 2, 3, 4, 5, 6, 8, 1, 3, 4, 6, 1, 2, 3, 4, 5, 6, 7, 8, 1, 2, 3, 4, 5, 6, 7, 8, 1, 2, 3, 4, 5, 6, 1, 2, 3, 4, 5, 6, 7, 8, 1, 2, 3, 4, 5, 6, 7, 8, 1, 2, 3, 4, 5, 6, 7, 1, 2, 3, 5, 6, 8, 1, 2, 3, 4, 6, 7, 8, 1, 2, 3, 4, 5, 6, 7, 8, 1, 2, 3, 4, 5, 6, 8, 1, 2, 3, 4, 5, 7, 8, 1, 2, 3, 4, 6, 7, 8, 1, 2, 3, 5, 6, 7, 8, 1, 2, 3, 4, 5, 6, 7, 1, 2, 3, 4, 5, 8, 1, 3, 4, 6, 7, 8, 1, 2, 4, 5, 6, 7, 8, 2, 3, 4, 5, 8, 1, 2, 3, 4, 5, 6, 7, 8, 1, 2, 3, 4, 5, 6, 8, 1, 2, 3, 5, 6, 7, 1, 2, 3, 4, 5, 1, 2, 3, 4, 5, 6, 7, 8, 1, 2, 3, 4, 5, 6, 2, 3, 4, 5, 6, 7, 8, 1, 2, 3, 4, 5, 6, 7, 8, 1, 2, 3, 4, 5, 6, 8, 1, 2, 3, 4, 6, 7, 8, 1, 2, 3, 4, 5, 6, 7, 8, 1, 2, 3, 4, 5, 6, 7, 8, 1, 3, 4, 5, 6, 7, 8, 1, 2, 3, 4, 6, 7, 8, 1, 2, 3, 4, 5, 6, 8, 1, 2, 3, 4, 5, 6, 7, 2, 5, 6, 7, 1, 2, 3, 4, 5, 6, 7, 8, 1, 2, 3, 6, 7, 8, 1, 2, 3, 4, 5, 6, 7, 1, 2, 3, 4, 7, 1, 2, 3, 4, 5, 6, 8, 1, 3, 4, 6, 1, 2, 3, 4, 5, 1, 2, 3, 4, 5, 6, 1, 2, 3, 4, 5, 7, 2, 3, 4, 5, 6, 7, 1, 2, 3, 4, 5, 6, 7, 8, 1, 2, 3, 4, 5, 6, 1, 2, 3, 4, 5, 6, 8, 1, 2, 3, 4, 5, 6, 8, 1, 2, 3, 4, 5, 6, 7, 8, 1, 4, 6, 1, 2, 3, 5, 7, 8, 1, 2, 3, 4, 5, 6, 8, 1, 2, 3, 4, 5, 6, 7, 1, 2, 3, 4, 5, 6, 1, 2, 3, 4, 5, 6, 7, 1, 3, 4, 5, 6, 8, 1, 3, 4, 5, 6, 8, 1, 2, 3, 4, 5, 6, 7, 1, 2, 3, 4, 5, 6, 7, 8, 1, 2, 3, 4, 5, 7, 8, 1, 2, 3, 4, 5, 6, 8, 1, 2, 3, 4, 5, 6, 7, 8, 1, 2, 3, 4, 5, 6, 7, 8, 1, 2, 3, 4, 5, 6, 7, 8, 1, 2, 3, 4, 5, 6, 7, 1, 2, 3, 4, 5, 6, 7, 8, 1, 2, 4, 5, 6, 8, 1, 2, 3, 4, 5, 1, 2, 4, 5, 6, 7, 8, 1, 3, 4, 6, 1, 2, 3, 4, 5, 6, 7, 1, 2, 3, 4, 5, 6, 7, 1, 2, 3, 5, 6, 1, 3, 4, 6, 7, 1, 2, 3, 4, 6, 7, 8, 1, 2, 3, 4, 5, 6, 8, 1, 2, 3, 4, 5, 6, 8], \"Freq\": [0.45981496169347424, 0.10819175569258219, 0.10819175569258219, 0.13523969461572774, 0.13523969461572774, 0.027047938923145547, 0.05409587784629109, 0.09884273657043625, 0.1976854731408725, 0.24710684142609066, 0.09884273657043625, 0.1482641048556544, 0.1482641048556544, 0.040731175693836975, 0.20365587846918487, 0.08146235138767395, 0.36658058124453274, 0.08146235138767395, 0.20365587846918487, 0.040731175693836975, 0.04871744141517949, 0.2923046484910769, 0.19486976566071795, 0.14615232424553845, 0.04871744141517949, 0.04871744141517949, 0.14615232424553845, 0.04871744141517949, 0.16661689402832555, 0.11236953318189398, 0.34098341103471275, 0.1898657629625105, 0.10461991020383232, 0.02324886893418496, 0.015499245956123307, 0.05037254935740075, 0.16100548888296998, 0.26834248147161666, 0.053668496294323326, 0.32201097776593995, 0.053668496294323326, 0.10733699258864665, 0.1311488568989698, 0.09836164267422734, 0.3606593564721669, 0.03278721422474245, 0.0655744284494849, 0.09836164267422734, 0.16393607112371222, 0.0655744284494849, 0.10253980022089577, 0.10253980022089577, 0.3588893007731352, 0.15380970033134364, 0.10253980022089577, 0.10253980022089577, 0.10253980022089577, 0.017890145936921432, 0.18784653233767504, 0.12523102155845003, 0.035780291873842865, 0.3935832106122715, 0.008945072968460716, 0.008945072968460716, 0.23257189717997862, 0.1080134866803113, 0.2400299704006918, 0.2280284718806572, 0.1080134866803113, 0.06000749260017295, 0.09601198816027672, 0.13201648372038047, 0.02400299704006918, 0.2443031651130661, 0.014370774418415654, 0.1868200674394035, 0.3017862627867287, 0.22993239069465046, 0.014370774418415654, 0.39609769121303406, 0.14853663420488777, 0.2475610570081463, 0.09902442280325852, 0.04951221140162926, 0.18819576065773036, 0.32934258115102816, 0.14114682049329777, 0.04704894016443259, 0.04704894016443259, 0.04704894016443259, 0.09409788032886518, 0.09409788032886518, 0.11421113844967462, 0.08565835383725597, 0.17131670767451193, 0.1998694922869306, 0.08565835383725597, 0.34263341534902386, 0.028552784612418655, 0.10737221886480447, 0.10737221886480447, 0.10737221886480447, 0.5368610943240224, 0.053686109432402235, 0.053686109432402235, 0.059722013459422275, 0.03981467563961485, 0.11944402691884455, 0.13935136473865198, 0.2388880538376891, 0.13935136473865198, 0.09953668909903712, 0.1592587025584594, 0.27369570142670174, 0.13684785071335087, 0.09774846479525061, 0.11729815775430073, 0.11729815775430073, 0.11729815775430073, 0.03909938591810024, 0.09774846479525061, 0.29560370189006896, 0.1182414807560276, 0.1773622211340414, 0.1773622211340414, 0.0591207403780138, 0.2364829615120552, 0.1462708001334765, 0.1044791429524832, 0.12537497154297983, 0.1044791429524832, 0.25074994308595966, 0.02089582859049664, 0.02089582859049664, 0.2089582859049664, 0.06009178709911369, 0.20431207613698654, 0.0961468593585819, 0.08412850193875916, 0.20431207613698654, 0.0961468593585819, 0.22834879097663202, 0.024036714839645475, 0.15596883516578802, 0.10397922344385868, 0.05198961172192934, 0.05198961172192934, 0.31193767033157604, 0.05198961172192934, 0.20795844688771736, 0.05198961172192934, 0.352916768955113, 0.05041668127930186, 0.15125004383790558, 0.05041668127930186, 0.30250008767581116, 0.05041668127930186, 0.10083336255860371, 0.01066989610636585, 0.14937854548912188, 0.053349480531829245, 0.03200968831909755, 0.30942698708460964, 0.0213397922127317, 0.3734463637228047, 0.0426795844254634, 0.33762200894065614, 0.09930059086489887, 0.039720236345959545, 0.039720236345959545, 0.17874106355681796, 0.039720236345959545, 0.19860118172979774, 0.05958035451893932, 0.24487817841433002, 0.097951271365732, 0.048975635682866, 0.195902542731464, 0.097951271365732, 0.195902542731464, 0.097951271365732, 0.048975635682866, 0.10019493464368202, 0.2504873366092051, 0.10019493464368202, 0.15029240196552304, 0.20038986928736405, 0.20038986928736405, 0.2842225996268492, 0.07751525444368615, 0.11627288166552922, 0.2583841814789538, 0.038757627221843075, 0.1550305088873723, 0.051676836295790764, 0.012919209073947691, 0.13700619973124145, 0.22834366621873572, 0.18267493297498857, 0.045668733243747144, 0.31968113270623, 0.09133746648749429, 0.23233276067131645, 0.11616638033565822, 0.11616638033565822, 0.05808319016782911, 0.05808319016782911, 0.17424957050348733, 0.23233276067131645, 0.2080944421893983, 0.36416527383144703, 0.05202361054734957, 0.2601180527367479, 0.05202361054734957, 0.05588510434355344, 0.1676553130306603, 0.05588510434355344, 0.2794255217177672, 0.3911957304048741, 0.038252036305512195, 0.11475610891653659, 0.19126018152756097, 0.038252036305512195, 0.19126018152756097, 0.22951221783307318, 0.07650407261102439, 0.15300814522204878, 0.3031790389822008, 0.0757947597455502, 0.0757947597455502, 0.3031790389822008, 0.1515895194911004, 0.0378973798727751, 0.08186802169393347, 0.13644670282322244, 0.08186802169393347, 0.05457868112928897, 0.3820507679050228, 0.10915736225857794, 0.08186802169393347, 0.05457868112928897, 0.21179180451444615, 0.04235836090288923, 0.38122524812600306, 0.04235836090288923, 0.12707508270866769, 0.21179180451444615, 0.04235836090288923, 0.10445357194321514, 0.13927142925762018, 0.034817857314405044, 0.34817857314405043, 0.13927142925762018, 0.06963571462881009, 0.06963571462881009, 0.034817857314405044, 0.220097058984457, 0.024455228776050778, 0.24455228776050777, 0.12227614388025389, 0.17118660143235545, 0.09782091510420311, 0.024455228776050778, 0.07336568632815234, 0.21221160966552918, 0.16505347418430047, 0.16505347418430047, 0.047158135481228707, 0.25936974514675787, 0.09431627096245741, 0.023579067740614353, 0.21743128458196082, 0.054357821145490204, 0.2989680163001961, 0.1358945528637255, 0.0815367317182353, 0.027178910572745102, 0.1630734634364706, 0.15804259078208654, 0.04515502593773901, 0.13546507781321704, 0.11288756484434753, 0.15804259078208654, 0.3160851815641731, 0.04515502593773901, 0.022577512968869506, 0.2991189811680375, 0.1731741469920217, 0.06297241708800788, 0.1731741469920217, 0.03148620854400394, 0.14168793844801775, 0.11020172990401379, 0.18624207438831017, 0.0689785460697445, 0.20003778360225907, 0.09656996449764231, 0.08967210989066786, 0.16554851056738681, 0.12416138292554012, 0.06208069146277006, 0.12007750271694109, 0.24015500543388218, 0.24015500543388218, 0.09606200217355287, 0.04803100108677644, 0.12007750271694109, 0.04803100108677644, 0.07204650163016466, 0.054807152930209935, 0.5480715293020993, 0.054807152930209935, 0.21922861172083974, 0.054807152930209935, 0.07683602897551647, 0.20489607726804393, 0.02561200965850549, 0.12806004829252746, 0.10244803863402197, 0.07683602897551647, 0.3073441159020659, 0.07683602897551647, 0.20485628332872236, 0.32777005332595577, 0.08194251333148894, 0.16388502666297788, 0.12291376999723341, 0.08194251333148894, 0.09572517044799338, 0.07179387783599503, 0.16751904828398842, 0.04786258522399669, 0.11965646305999172, 0.33503809656797684, 0.14358775567199006, 0.023931292611998344, 0.052098671709771, 0.208394686839084, 0.364690701968397, 0.156296015129313, 0.052098671709771, 0.156296015129313, 0.09739100889335378, 0.03246366963111793, 0.12985467852447172, 0.3571003659422972, 0.06492733926223586, 0.09739100889335378, 0.19478201778670756, 0.03246366963111793, 0.10289548532944448, 0.10289548532944448, 0.1286193566618056, 0.1286193566618056, 0.18006709932652784, 0.3601341986530557, 0.33792523065975627, 0.04827503295139375, 0.14482509885418124, 0.04827503295139375, 0.0965500659027875, 0.2896501977083625, 0.04827503295139375, 0.061195800606109754, 0.061195800606109754, 0.061195800606109754, 0.18358740181832928, 0.24478320242443902, 0.061195800606109754, 0.30597900303054876, 0.13969502986843427, 0.04656500995614475, 0.5122151095175923, 0.0931300199122895, 0.04656500995614475, 0.186260039824579, 0.07202753196552261, 0.18006882991380654, 0.25209636187932916, 0.21608259589656786, 0.10804129794828393, 0.14405506393104522, 0.07512061523342582, 0.26292215331699037, 0.15024123046685164, 0.03756030761671291, 0.03756030761671291, 0.3004824609337033, 0.18780153808356456, 0.1061461372666555, 0.24767432028886285, 0.1769102287777592, 0.14152818302220735, 0.03538204575555184, 0.1769102287777592, 0.1061461372666555, 0.0975679376065318, 0.1951358752130636, 0.1951358752130636, 0.0487839688032659, 0.0487839688032659, 0.1463519064097977, 0.1951358752130636, 0.04371744067738439, 0.21858720338692195, 0.13115232203215316, 0.04371744067738439, 0.13115232203215316, 0.30602208474169074, 0.08743488135476878, 0.05417489012966734, 0.16252467038900203, 0.16252467038900203, 0.10834978025933469, 0.21669956051866937, 0.16252467038900203, 0.10834978025933469, 0.1570493366033442, 0.261748894338907, 0.3140986732066884, 0.2093991154711256, 0.26773494673278236, 0.24161446412470605, 0.09142168912826715, 0.09795180978028623, 0.09142168912826715, 0.11754217173634347, 0.019590361956057248, 0.06530120652019082, 0.10778300778317589, 0.21556601556635177, 0.11856130856149347, 0.17245281245308142, 0.10778300778317589, 0.17245281245308142, 0.07544810544822311, 0.032334902334952766, 0.1284252489936705, 0.21404208165611752, 0.1284252489936705, 0.2996589143185645, 0.0428084163312235, 0.171233665324894, 0.07684955603550213, 0.3586312614990099, 0.10246607471400285, 0.14089085273175392, 0.16650737141025462, 0.14089085273175392, 0.012808259339250356, 0.012808259339250356, 0.08045896254076933, 0.17984944567936673, 0.13252064418479653, 0.250842647921222, 0.1277877640353395, 0.0757260823913123, 0.08519184269022634, 0.07099320224185528, 0.3827997437711925, 0.13919990682588818, 0.2087998602388323, 0.10439993011941615, 0.06959995341294409, 0.06959995341294409, 0.034799976706472044, 0.05291081486025172, 0.05291081486025172, 0.21164325944100687, 0.370375704021762, 0.05291081486025172, 0.21164325944100687, 0.614160271316214, 0.0136480060292492, 0.0545920241169968, 0.2320161024972364, 0.068240030146246, 0.0136480060292492, 0.0136480060292492, 0.19249795722952995, 0.23099754867543593, 0.13474857006067095, 0.10266557718908263, 0.21174775295248294, 0.07058258431749431, 0.038499591445905985, 0.012833197148635329, 0.20301967344756658, 0.04511548298834813, 0.09023096597669626, 0.5188280543660035, 0.06767322448252219, 0.04511548298834813, 0.022557741494174065, 0.4334851903667102, 0.09633004230371338, 0.04816502115185669, 0.2167425951833551, 0.1685775740314984, 0.024082510575928345, 0.024082510575928345, 0.0865606885261965, 0.0288535628420655, 0.1442678142103275, 0.346242754104786, 0.2019749398944585, 0.1442678142103275, 0.057707125684131, 0.1086726705912195, 0.27168167647804875, 0.27168167647804875, 0.1086726705912195, 0.1086726705912195, 0.05433633529560975, 0.05433633529560975, 0.44118341562200686, 0.08823668312440137, 0.13235502468660204, 0.22059170781100343, 0.04411834156220069, 0.04411834156220069, 0.04411834156220069, 0.2241173173559357, 0.13447039041356143, 0.04482346347118714, 0.40341117124068426, 0.08964692694237428, 0.08964692694237428, 0.5632127553657796, 0.18773758512192654, 0.046934396280481634, 0.046934396280481634, 0.046934396280481634, 0.09386879256096327, 0.0365473733437489, 0.1461894933749956, 0.2923789867499912, 0.21928424006249336, 0.0365473733437489, 0.1461894933749956, 0.10964212003124668, 0.43143640193527255, 0.23231190873437751, 0.06637483106696501, 0.19912449320089504, 0.06637483106696501, 0.16784262056844615, 0.1118950803789641, 0.08392131028422307, 0.16784262056844615, 0.1118950803789641, 0.27973770094741024, 0.027973770094741026, 0.027973770094741026, 0.023596444299243916, 0.18877155439395132, 0.21236799869319523, 0.09438577719697566, 0.40113955308714655, 0.023596444299243916, 0.023596444299243916, 0.5298625206648765, 0.031168383568522147, 0.21817868497965504, 0.031168383568522147, 0.12467353427408859, 0.031168383568522147, 0.3909185399838766, 0.05584550571198237, 0.05584550571198237, 0.27922752855991184, 0.2233820228479295, 0.05272520754241123, 0.05272520754241123, 0.10545041508482246, 0.1581756226272337, 0.23726343394085053, 0.13181301885602809, 0.23726343394085053, 0.026362603771205615, 0.16807533679250586, 0.11205022452833724, 0.22410044905667448, 0.3361506735850117, 0.05602511226416862, 0.05602511226416862, 0.05267670750328396, 0.10535341500656792, 0.21070683001313584, 0.31606024501970376, 0.05267670750328396, 0.15803012250985188, 0.05267670750328396, 0.16129742058398586, 0.10369119894684806, 0.05760622163713781, 0.06912746596456537, 0.034563732982282686, 0.4147647957873922, 0.023042488654855125, 0.13825493192913074, 0.3998965915099857, 0.10906270677545064, 0.10906270677545064, 0.14541694236726752, 0.10906270677545064, 0.07270847118363376, 0.03635423559181688, 0.19017254110845633, 0.41204050573498874, 0.031695423518076055, 0.22186796462653238, 0.031695423518076055, 0.031695423518076055, 0.09508627055422816, 0.05806879729800483, 0.04355159797350362, 0.30486118581452537, 0.10162039527150846, 0.10162039527150846, 0.1887235912185157, 0.14517199324501207, 0.04355159797350362, 0.13506108043909976, 0.29713437696601946, 0.02701221608781995, 0.1080488643512798, 0.18908551261473966, 0.08103664826345985, 0.13506108043909976, 0.0540244321756399, 0.062204552776387236, 0.18661365832916169, 0.18661365832916169, 0.12440910555277447, 0.18661365832916169, 0.12440910555277447, 0.062204552776387236, 0.14754151946658528, 0.02459025324443088, 0.07377075973329264, 0.3196732921776015, 0.07377075973329264, 0.02459025324443088, 0.3196732921776015, 0.12147489290766784, 0.3239330477537809, 0.2834414167845583, 0.04049163096922261, 0.12147489290766784, 0.04049163096922261, 0.04049163096922261, 0.30874555535551096, 0.07718638883887774, 0.11577958325831661, 0.19296597209719435, 0.23155916651663322, 0.03859319441943887, 0.03859319441943887, 0.15147696122245566, 0.6059078448898226, 0.15147696122245566, 0.05049232040748522, 0.1037923984095271, 0.06919493227301807, 0.06919493227301807, 0.3113771952285813, 0.15568859761429066, 0.06919493227301807, 0.22488352988730873, 0.017298733068254517, 0.19803006034391293, 0.19803006034391293, 0.19803006034391293, 0.15842404827513035, 0.19803006034391293, 0.03960601206878259, 0.03736857488169582, 0.26158002417187076, 0.1494742995267833, 0.07473714976339164, 0.03736857488169582, 0.1494742995267833, 0.2989485990535666, 0.1467784445892928, 0.1467784445892928, 0.09785229639286186, 0.5381876301607402, 0.04892614819643093, 0.08081846301703371, 0.08081846301703371, 0.2020461575425843, 0.08081846301703371, 0.16163692603406743, 0.12122769452555057, 0.28286462055961803, 0.4198578219702709, 0.08397156439405418, 0.20992891098513544, 0.20992891098513544, 0.31027135903034175, 0.22162239930738695, 0.08864895972295478, 0.13297343958443217, 0.22162239930738695, 0.10791889419307701, 0.05395944709653851, 0.05395944709653851, 0.21583778838615403, 0.21583778838615403, 0.32375668257923107, 0.0901421905725829, 0.13521328585887432, 0.13521328585887432, 0.04507109528629145, 0.1802843811451658, 0.3605687622903316, 0.24981861919499526, 0.1998548953559962, 0.2997823430339943, 0.0999274476779981, 0.04996372383899905, 0.0999274476779981, 0.28432439388177305, 0.14216219694088653, 0.11846849745073877, 0.09477479796059102, 0.09477479796059102, 0.14216219694088653, 0.11846849745073877, 0.023693699490147754, 0.1217760911291209, 0.15222011391140114, 0.36532827338736273, 0.06088804556456045, 0.030444022782280224, 0.21310815947596157, 0.7829866111564432, 0.014236120202844421, 0.09965284141991096, 0.028472240405688843, 0.028472240405688843, 0.028472240405688843, 0.014236120202844421, 0.22001699269950997, 0.05500424817487749, 0.27502124087438745, 0.1925148686120712, 0.11000849634975499, 0.11000849634975499, 0.027502124087438747, 0.027764600048903933, 0.13882300024451968, 0.08329380014671181, 0.05552920009780787, 0.5275274009291747, 0.027764600048903933, 0.11105840019561573, 0.027764600048903933, 0.5499463285586071, 0.22914430356608634, 0.18331544285286908, 0.0404489850362846, 0.1617959401451384, 0.0404489850362846, 0.44493883539913065, 0.24269391021770761, 0.0404489850362846, 0.05141120944648714, 0.15423362833946141, 0.10282241889297428, 0.15423362833946141, 0.05141120944648714, 0.4627008850183842, 0.05141120944648714, 0.08488027973618321, 0.21220069934045804, 0.04244013986809161, 0.16976055947236643, 0.21220069934045804, 0.04244013986809161, 0.16976055947236643, 0.11505511012760034, 0.13806613215312039, 0.16107715417864046, 0.09204408810208027, 0.345165330382801, 0.16107715417864046, 0.11921368811902879, 0.07947579207935251, 0.03973789603967626, 0.07947579207935251, 0.31790316831741006, 0.03973789603967626, 0.31790316831741006, 0.04395879164392879, 0.21979395821964395, 0.1318763749317864, 0.2637527498635728, 0.2637527498635728, 0.04395879164392879, 0.18624547412082632, 0.18624547412082632, 0.13968410559061972, 0.23280684265103288, 0.13968410559061972, 0.09312273706041316, 0.26773774915106313, 0.208240471561938, 0.208240471561938, 0.08924591638368772, 0.14874319397281285, 0.029748638794562573, 0.059497277589125146, 0.02165281587122743, 0.303139422197184, 0.06495844761368229, 0.04330563174245486, 0.12991689522736458, 0.02165281587122743, 0.28148660632595657, 0.12991689522736458, 0.25167171913903896, 0.07190620546829685, 0.07190620546829685, 0.07190620546829685, 0.03595310273414842, 0.4314372328097811, 0.10785930820244527, 0.21239421329377056, 0.10619710664688528, 0.2973518986112788, 0.12743652797626234, 0.10619710664688528, 0.12743652797626234, 0.042478842658754117, 0.10610241726596432, 0.16504820463594452, 0.10610241726596432, 0.09431325979196829, 0.30651809432389693, 0.08252410231797226, 0.10610241726596432, 0.047156629895984147, 0.09949151822160199, 0.14923727733240297, 0.2736016751094055, 0.07461863866620148, 0.11192795799930223, 0.12436439777700248, 0.03730931933310074, 0.13680083755470274, 0.09245661000702027, 0.24038718601825268, 0.01849132200140405, 0.18491322001404054, 0.1664218980126365, 0.1479305760112324, 0.09245661000702027, 0.05547396600421216, 0.03876783232745257, 0.2326069939647154, 0.31014265861962054, 0.1163034969823577, 0.2326069939647154, 0.03876783232745257, 0.03876783232745257, 0.25934421819392256, 0.07780326545817677, 0.025934421819392255, 0.05186884363878451, 0.3112130618327071, 0.025934421819392255, 0.20747537455513804, 0.025934421819392255, 0.08542695404821862, 0.028475651349406206, 0.22780521079524965, 0.19932955944584343, 0.39865911889168687, 0.05695130269881241, 0.2294810379020097, 0.2294810379020097, 0.4130658682236174, 0.09179241516080387, 0.045896207580401936, 0.16827050876887317, 0.25240576315330976, 0.028045084794812197, 0.028045084794812197, 0.028045084794812197, 0.36458610233255856, 0.140225423974061, 0.6270444710623574, 0.167211858949962, 0.083605929474981, 0.12540889421247148, 0.2710148673402067, 0.04516914455670112, 0.04516914455670112, 0.2258457227835056, 0.3161840118969078, 0.09033828911340223, 0.04516914455670112, 0.2578066578033101, 0.10615568262489239, 0.28813685283899365, 0.09099058510705062, 0.10615568262489239, 0.07582548758920885, 0.06066039007136708, 0.365701250341531, 0.12190041678051033, 0.06095020839025517, 0.365701250341531, 0.06095020839025517, 0.2856092361660796, 0.047601539361013266, 0.09520307872202653, 0.047601539361013266, 0.5236169329711459, 0.16371162986367202, 0.16371162986367202, 0.09354950277924116, 0.18709900555848233, 0.11693687847405144, 0.07016212708443087, 0.18709900555848233, 0.27460391494594194, 0.13730195747297097, 0.13730195747297097, 0.18306927663062794, 0.13730195747297097, 0.045767319157656985, 0.09153463831531397, 0.013856787497073593, 0.45727398740342856, 0.05542714998829437, 0.2217085999531775, 0.15242466246780953, 0.013856787497073593, 0.08314072498244156], \"Term\": [\"abl\", \"abl\", \"abl\", \"abl\", \"abl\", \"abl\", \"abl\", \"activ\", \"activ\", \"activ\", \"activ\", \"activ\", \"activ\", \"actual\", \"actual\", \"actual\", \"actual\", \"actual\", \"actual\", \"actual\", \"away\", \"away\", \"away\", \"away\", \"away\", \"away\", \"away\", \"away\", \"babi\", \"babi\", \"babi\", \"babi\", \"babi\", \"babi\", \"babi\", \"babi\", \"batteri\", \"batteri\", \"batteri\", \"batteri\", \"batteri\", \"batteri\", \"best\", \"best\", \"best\", \"best\", \"best\", \"best\", \"best\", \"best\", \"better\", \"better\", \"better\", \"better\", \"better\", \"better\", \"better\", \"book\", \"book\", \"book\", \"book\", \"book\", \"book\", \"book\", \"book\", \"buy\", \"buy\", \"buy\", \"buy\", \"buy\", \"buy\", \"buy\", \"buy\", \"camera\", \"camera\", \"camera\", \"camera\", \"camera\", \"camera\", \"chang\", \"chang\", \"chang\", \"chang\", \"chang\", \"chew\", \"chew\", \"chew\", \"chew\", \"chew\", \"chew\", \"chew\", \"chew\", \"child\", \"child\", \"child\", \"child\", \"child\", \"child\", \"child\", \"children\", \"children\", \"children\", \"children\", \"children\", \"children\", \"color\", \"color\", \"color\", \"color\", \"color\", \"color\", \"color\", \"color\", \"come\", \"come\", \"come\", \"come\", \"come\", \"come\", \"come\", \"come\", \"complaint\", \"complaint\", \"complaint\", \"complaint\", \"complaint\", \"complaint\", \"cute\", \"cute\", \"cute\", \"cute\", \"cute\", \"cute\", \"cute\", \"cute\", \"daughter\", \"daughter\", \"daughter\", \"daughter\", \"daughter\", \"daughter\", \"daughter\", \"daughter\", \"definit\", \"definit\", \"definit\", \"definit\", \"definit\", \"definit\", \"definit\", \"definit\", \"design\", \"design\", \"design\", \"design\", \"design\", \"design\", \"design\", \"diaper\", \"diaper\", \"diaper\", \"diaper\", \"diaper\", \"diaper\", \"diaper\", \"diaper\", \"differ\", \"differ\", \"differ\", \"differ\", \"differ\", \"differ\", \"differ\", \"differ\", \"disappoint\", \"disappoint\", \"disappoint\", \"disappoint\", \"disappoint\", \"disappoint\", \"disappoint\", \"disappoint\", \"durabl\", \"durabl\", \"durabl\", \"durabl\", \"durabl\", \"durabl\", \"easi\", \"easi\", \"easi\", \"easi\", \"easi\", \"easi\", \"easi\", \"easi\", \"enjoy\", \"enjoy\", \"enjoy\", \"enjoy\", \"enjoy\", \"enjoy\", \"expect\", \"expect\", \"expect\", \"expect\", \"expect\", \"expect\", \"expect\", \"face\", \"face\", \"face\", \"face\", \"face\", \"famili\", \"famili\", \"famili\", \"famili\", \"famili\", \"favorit\", \"favorit\", \"favorit\", \"favorit\", \"favorit\", \"favorit\", \"favorit\", \"favorit\", \"featur\", \"featur\", \"featur\", \"featur\", \"featur\", \"featur\", \"feel\", \"feel\", \"feel\", \"feel\", \"feel\", \"feel\", \"feel\", \"feel\", \"free\", \"free\", \"free\", \"free\", \"free\", \"free\", \"free\", \"friend\", \"friend\", \"friend\", \"friend\", \"friend\", \"friend\", \"friend\", \"friend\", \"get\", \"get\", \"get\", \"get\", \"get\", \"get\", \"get\", \"get\", \"gift\", \"gift\", \"gift\", \"gift\", \"gift\", \"gift\", \"gift\", \"give\", \"give\", \"give\", \"give\", \"give\", \"give\", \"give\", \"go\", \"go\", \"go\", \"go\", \"go\", \"go\", \"go\", \"go\", \"good\", \"good\", \"good\", \"good\", \"good\", \"good\", \"good\", \"great\", \"great\", \"great\", \"great\", \"great\", \"great\", \"great\", \"great\", \"hand\", \"hand\", \"hand\", \"hand\", \"hand\", \"hand\", \"hand\", \"hand\", \"happi\", \"happi\", \"happi\", \"happi\", \"happi\", \"hard\", \"hard\", \"hard\", \"hard\", \"hard\", \"hard\", \"hard\", \"hard\", \"have\", \"have\", \"have\", \"have\", \"have\", \"have\", \"help\", \"help\", \"help\", \"help\", \"help\", \"help\", \"help\", \"help\", \"high\", \"high\", \"high\", \"high\", \"high\", \"high\", \"highli\", \"highli\", \"highli\", \"highli\", \"highli\", \"highli\", \"highli\", \"highli\", \"hold\", \"hold\", \"hold\", \"hold\", \"hold\", \"hold\", \"hous\", \"hous\", \"hous\", \"hous\", \"hous\", \"hous\", \"hous\", \"interact\", \"interact\", \"interact\", \"interact\", \"interact\", \"interact\", \"interact\", \"item\", \"item\", \"item\", \"item\", \"item\", \"item\", \"keep\", \"keep\", \"keep\", \"keep\", \"keep\", \"keep\", \"kid\", \"kid\", \"kid\", \"kid\", \"kid\", \"kid\", \"kid\", \"know\", \"know\", \"know\", \"know\", \"know\", \"know\", \"know\", \"learn\", \"learn\", \"learn\", \"learn\", \"learn\", \"learn\", \"learn\", \"leav\", \"leav\", \"leav\", \"leav\", \"leav\", \"leav\", \"leav\", \"life\", \"life\", \"life\", \"life\", \"life\", \"life\", \"life\", \"light\", \"light\", \"light\", \"light\", \"like\", \"like\", \"like\", \"like\", \"like\", \"like\", \"like\", \"like\", \"littl\", \"littl\", \"littl\", \"littl\", \"littl\", \"littl\", \"littl\", \"littl\", \"long\", \"long\", \"long\", \"long\", \"long\", \"long\", \"look\", \"look\", \"look\", \"look\", \"look\", \"look\", \"look\", \"look\", \"love\", \"love\", \"love\", \"love\", \"love\", \"love\", \"love\", \"love\", \"make\", \"make\", \"make\", \"make\", \"make\", \"make\", \"make\", \"money\", \"money\", \"money\", \"money\", \"money\", \"money\", \"monitor\", \"monitor\", \"monitor\", \"monitor\", \"monitor\", \"monitor\", \"monitor\", \"month\", \"month\", \"month\", \"month\", \"month\", \"month\", \"month\", \"month\", \"need\", \"need\", \"need\", \"need\", \"need\", \"need\", \"need\", \"nice\", \"nice\", \"nice\", \"nice\", \"nice\", \"nice\", \"nice\", \"night\", \"night\", \"night\", \"night\", \"night\", \"night\", \"night\", \"older\", \"older\", \"older\", \"older\", \"older\", \"older\", \"older\", \"option\", \"option\", \"option\", \"option\", \"option\", \"option\", \"option\", \"order\", \"order\", \"order\", \"order\", \"order\", \"order\", \"overal\", \"overal\", \"overal\", \"overal\", \"overal\", \"overal\", \"pack\", \"pack\", \"pack\", \"pack\", \"pack\", \"pack\", \"pack\", \"page\", \"page\", \"page\", \"page\", \"page\", \"parent\", \"parent\", \"parent\", \"parent\", \"parent\", \"parent\", \"parent\", \"parent\", \"perfect\", \"perfect\", \"perfect\", \"perfect\", \"perfect\", \"perfect\", \"perfect\", \"phone\", \"phone\", \"phone\", \"phone\", \"phone\", \"phone\", \"photo\", \"photo\", \"photo\", \"photo\", \"photo\", \"pictur\", \"pictur\", \"pictur\", \"pictur\", \"pictur\", \"pictur\", \"pictur\", \"pictur\", \"place\", \"place\", \"place\", \"place\", \"place\", \"place\", \"plastic\", \"plastic\", \"plastic\", \"plastic\", \"plastic\", \"plastic\", \"plastic\", \"play\", \"play\", \"play\", \"play\", \"play\", \"play\", \"play\", \"play\", \"pretti\", \"pretti\", \"pretti\", \"pretti\", \"pretti\", \"pretti\", \"pretti\", \"price\", \"price\", \"price\", \"price\", \"price\", \"price\", \"price\", \"product\", \"product\", \"product\", \"product\", \"product\", \"product\", \"product\", \"product\", \"purchas\", \"purchas\", \"purchas\", \"purchas\", \"purchas\", \"purchas\", \"purchas\", \"purchas\", \"put\", \"put\", \"put\", \"put\", \"put\", \"put\", \"put\", \"qualiti\", \"qualiti\", \"qualiti\", \"qualiti\", \"qualiti\", \"qualiti\", \"qualiti\", \"read\", \"read\", \"read\", \"read\", \"read\", \"read\", \"read\", \"reason\", \"reason\", \"reason\", \"reason\", \"reason\", \"reason\", \"reason\", \"receiv\", \"receiv\", \"receiv\", \"receiv\", \"recommend\", \"recommend\", \"recommend\", \"recommend\", \"recommend\", \"recommend\", \"recommend\", \"recommend\", \"review\", \"review\", \"review\", \"review\", \"review\", \"review\", \"right\", \"right\", \"right\", \"right\", \"right\", \"right\", \"right\", \"room\", \"room\", \"room\", \"room\", \"room\", \"say\", \"say\", \"say\", \"say\", \"say\", \"say\", \"say\", \"screen\", \"screen\", \"screen\", \"screen\", \"second\", \"second\", \"second\", \"second\", \"second\", \"see\", \"see\", \"see\", \"see\", \"see\", \"see\", \"sensit\", \"sensit\", \"sensit\", \"sensit\", \"sensit\", \"sensit\", \"simpl\", \"simpl\", \"simpl\", \"simpl\", \"simpl\", \"simpl\", \"size\", \"size\", \"size\", \"size\", \"size\", \"size\", \"size\", \"size\", \"sleep\", \"sleep\", \"sleep\", \"sleep\", \"sleep\", \"sleep\", \"sling\", \"sling\", \"sling\", \"sling\", \"sling\", \"sling\", \"sling\", \"small\", \"small\", \"small\", \"small\", \"small\", \"small\", \"small\", \"soft\", \"soft\", \"soft\", \"soft\", \"soft\", \"soft\", \"soft\", \"soft\", \"sound\", \"sound\", \"sound\", \"special\", \"special\", \"special\", \"special\", \"special\", \"special\", \"stack\", \"stack\", \"stack\", \"stack\", \"stack\", \"stack\", \"stack\", \"star\", \"star\", \"star\", \"star\", \"star\", \"star\", \"star\", \"start\", \"start\", \"start\", \"start\", \"start\", \"start\", \"stick\", \"stick\", \"stick\", \"stick\", \"stick\", \"stick\", \"stick\", \"super\", \"super\", \"super\", \"super\", \"super\", \"super\", \"sure\", \"sure\", \"sure\", \"sure\", \"sure\", \"sure\", \"take\", \"take\", \"take\", \"take\", \"take\", \"take\", \"take\", \"teeth\", \"teeth\", \"teeth\", \"teeth\", \"teeth\", \"teeth\", \"teeth\", \"teeth\", \"teether\", \"teether\", \"teether\", \"teether\", \"teether\", \"teether\", \"teether\", \"thing\", \"thing\", \"thing\", \"thing\", \"thing\", \"thing\", \"thing\", \"think\", \"think\", \"think\", \"think\", \"think\", \"think\", \"think\", \"think\", \"time\", \"time\", \"time\", \"time\", \"time\", \"time\", \"time\", \"time\", \"toy\", \"toy\", \"toy\", \"toy\", \"toy\", \"toy\", \"toy\", \"toy\", \"track\", \"track\", \"track\", \"track\", \"track\", \"track\", \"track\", \"tri\", \"tri\", \"tri\", \"tri\", \"tri\", \"tri\", \"tri\", \"tri\", \"turn\", \"turn\", \"turn\", \"turn\", \"turn\", \"turn\", \"use\", \"use\", \"use\", \"use\", \"use\", \"vibrat\", \"vibrat\", \"vibrat\", \"vibrat\", \"vibrat\", \"vibrat\", \"vibrat\", \"video\", \"video\", \"video\", \"video\", \"wall\", \"wall\", \"wall\", \"wall\", \"wall\", \"wall\", \"wall\", \"want\", \"want\", \"want\", \"want\", \"want\", \"want\", \"want\", \"week\", \"week\", \"week\", \"week\", \"week\", \"wish\", \"wish\", \"wish\", \"wish\", \"wish\", \"work\", \"work\", \"work\", \"work\", \"work\", \"work\", \"work\", \"worth\", \"worth\", \"worth\", \"worth\", \"worth\", \"worth\", \"worth\", \"year\", \"year\", \"year\", \"year\", \"year\", \"year\", \"year\"]}, \"R\": 30, \"lambda.step\": 0.01, \"plot.opts\": {\"xlab\": \"PC1\", \"ylab\": \"PC2\"}, \"topic.order\": [2, 3, 1, 5, 7, 4, 8, 6]};\n",
       "\n",
       "function LDAvis_load_lib(url, callback){\n",
       "  var s = document.createElement('script');\n",
       "  s.src = url;\n",
       "  s.async = true;\n",
       "  s.onreadystatechange = s.onload = callback;\n",
       "  s.onerror = function(){console.warn(\"failed to load library \" + url);};\n",
       "  document.getElementsByTagName(\"head\")[0].appendChild(s);\n",
       "}\n",
       "\n",
       "if(typeof(LDAvis) !== \"undefined\"){\n",
       "   // already loaded: just create the visualization\n",
       "   !function(LDAvis){\n",
       "       new LDAvis(\"#\" + \"ldavis_el28101403737653652001910212222\", ldavis_el28101403737653652001910212222_data);\n",
       "   }(LDAvis);\n",
       "}else if(typeof define === \"function\" && define.amd){\n",
       "   // require.js is available: use it to load d3/LDAvis\n",
       "   require.config({paths: {d3: \"https://d3js.org/d3.v5\"}});\n",
       "   require([\"d3\"], function(d3){\n",
       "      window.d3 = d3;\n",
       "      LDAvis_load_lib(\"https://cdn.jsdelivr.net/gh/bmabey/pyLDAvis@3.3.1/pyLDAvis/js/ldavis.v3.0.0.js\", function(){\n",
       "        new LDAvis(\"#\" + \"ldavis_el28101403737653652001910212222\", ldavis_el28101403737653652001910212222_data);\n",
       "      });\n",
       "    });\n",
       "}else{\n",
       "    // require.js not available: dynamically load d3 & LDAvis\n",
       "    LDAvis_load_lib(\"https://d3js.org/d3.v5.js\", function(){\n",
       "         LDAvis_load_lib(\"https://cdn.jsdelivr.net/gh/bmabey/pyLDAvis@3.3.1/pyLDAvis/js/ldavis.v3.0.0.js\", function(){\n",
       "                 new LDAvis(\"#\" + \"ldavis_el28101403737653652001910212222\", ldavis_el28101403737653652001910212222_data);\n",
       "            })\n",
       "         });\n",
       "}\n",
       "</script>"
      ],
      "text/plain": [
       "PreparedData(topic_coordinates=              x         y  topics  cluster       Freq\n",
       "topic                                                \n",
       "1     -0.098769  0.039788       1        1  17.250119\n",
       "2      0.029647 -0.031093       2        1  14.600619\n",
       "0     -0.039499  0.003236       3        1  14.516085\n",
       "4     -0.052504  0.010480       4        1  14.417479\n",
       "6      0.061083 -0.046933       5        1  13.984668\n",
       "3     -0.061861  0.033838       6        1  10.646332\n",
       "7      0.136522  0.096511       7        1   8.516064\n",
       "5      0.025381 -0.105827       8        1   6.068634, topic_info=       Term        Freq       Total Category  logprob  loglift\n",
       "24     book  111.000000  111.000000  Default  30.0000  30.0000\n",
       "46   diaper   93.000000   93.000000  Default  29.0000  29.0000\n",
       "65     play   86.000000   86.000000  Default  28.0000  28.0000\n",
       "135   sling   70.000000   70.000000  Default  27.0000  27.0000\n",
       "44     babi  258.000000  258.000000  Default  26.0000  26.0000\n",
       "..      ...         ...         ...      ...      ...      ...\n",
       "91     hard    3.336770   39.044183   Topic8  -4.6208   0.3423\n",
       "1      hand    3.391801   41.639773   Topic8  -4.6044   0.2943\n",
       "113  differ    3.364161   50.352168   Topic8  -4.6126   0.0962\n",
       "46   diaper    4.224446   93.721625   Topic8  -4.3849  -0.2974\n",
       "56    think    3.767428   84.823704   Topic8  -4.4994  -0.3121\n",
       "\n",
       "[366 rows x 6 columns], token_table=      Topic      Freq  Term\n",
       "term                       \n",
       "41        1  0.459815   abl\n",
       "41        2  0.108192   abl\n",
       "41        3  0.108192   abl\n",
       "41        4  0.135240   abl\n",
       "41        5  0.135240   abl\n",
       "...     ...       ...   ...\n",
       "89        3  0.055427  year\n",
       "89        4  0.221709  year\n",
       "89        5  0.152425  year\n",
       "89        6  0.013857  year\n",
       "89        8  0.083141  year\n",
       "\n",
       "[942 rows x 3 columns], R=30, lambda_step=0.01, plot_opts={'xlab': 'PC1', 'ylab': 'PC2'}, topic_order=[2, 3, 1, 5, 7, 4, 8, 6])"
      ]
     },
     "execution_count": 19,
     "metadata": {},
     "output_type": "execute_result"
    }
   ],
   "source": [
    "import pyLDAvis\n",
    "import pyLDAvis.gensim_models\n",
    "pyLDAvis.enable_notebook()\n",
    "vis = pyLDAvis.gensim_models.prepare(lda_model, bow_corpus, dictionary)\n",
    "vis"
   ]
  },
  {
   "cell_type": "code",
   "execution_count": 20,
   "id": "32783dc0",
   "metadata": {},
   "outputs": [
    {
     "name": "stdout",
     "output_type": "stream",
     "text": [
      "\n",
      "Score:0.5620099902153015\t \n",
      "Topic:0.076*\"book\" + 0.044*\"love\" + 0.039*\"qualiti\" + 0.038*\"babi\" + 0.036*\"play\"\n",
      "Category:\n",
      "\n",
      "\n",
      "Score:0.06265942752361298\t \n",
      "Topic:0.060*\"play\" + 0.041*\"great\" + 0.031*\"like\" + 0.027*\"camera\" + 0.027*\"love\"\n",
      "Category:\n",
      "\n",
      "\n",
      "Score:0.0626063346862793\t \n",
      "Topic:0.108*\"babi\" + 0.035*\"great\" + 0.034*\"love\" + 0.027*\"time\" + 0.026*\"product\"\n",
      "Category:\n",
      "\n",
      "\n",
      "Score:0.06259351968765259\t \n",
      "Topic:0.056*\"book\" + 0.042*\"month\" + 0.038*\"diaper\" + 0.035*\"love\" + 0.035*\"babi\"\n",
      "Category:\n",
      "\n",
      "\n",
      "Score:0.06255311518907547\t \n",
      "Topic:0.046*\"love\" + 0.045*\"like\" + 0.045*\"month\" + 0.040*\"year\" + 0.035*\"babi\"\n",
      "Category:\n",
      "\n",
      "\n",
      "Score:0.06255277991294861\t \n",
      "Topic:0.073*\"diaper\" + 0.041*\"daughter\" + 0.038*\"great\" + 0.037*\"love\" + 0.029*\"hold\"\n",
      "Category:\n",
      "\n",
      "\n",
      "Score:0.06251531839370728\t \n",
      "Topic:0.057*\"sling\" + 0.047*\"monitor\" + 0.044*\"babi\" + 0.043*\"like\" + 0.031*\"month\"\n",
      "Category:\n",
      "\n",
      "\n",
      "Score:0.06250954419374466\t \n",
      "Topic:0.066*\"love\" + 0.061*\"babi\" + 0.029*\"need\" + 0.026*\"camera\" + 0.025*\"easi\"\n",
      "Category:\n",
      "\n"
     ]
    },
    {
     "name": "stderr",
     "output_type": "stream",
     "text": [
      "/Users/deth/opt/anaconda3/lib/python3.8/site-packages/ipykernel/ipkernel.py:287: DeprecationWarning: `should_run_async` will not call `transform_cell` automatically in the future. Please pass the result to `transformed_cell` argument and any exception that happen during thetransform in `preprocessing_exc_tuple` in IPython 7.17 and above.\n",
      "  and should_run_async(code)\n"
     ]
    }
   ],
   "source": [
    "unseen_document = 'This wallpaper has always been one of my favorite  '\n",
    "bow_vector = dictionary.doc2bow(preprocess(unseen_document))\n",
    "for index, score in sorted(lda_model[bow_vector], key=lambda tup: -1*tup[1]):\n",
    "    \n",
    "        print(\"\\nScore:{}\\t \\nTopic:{}\\nCategory:{}\\n\".format(score,lda_model.print_topic(index,5),category))\n",
    "  "
   ]
  },
  {
   "cell_type": "code",
   "execution_count": 21,
   "id": "b26a6601",
   "metadata": {},
   "outputs": [
    {
     "name": "stdout",
     "output_type": "stream",
     "text": [
      "\n",
      "Score:0.5622456073760986\t \n",
      "Topic:0.060*\"play\" + 0.041*\"great\" + 0.031*\"like\" + 0.027*\"camera\" + 0.027*\"love\"\n",
      "Category:\n",
      "\n",
      "\n",
      "Score:0.06265490502119064\t \n",
      "Topic:0.066*\"love\" + 0.061*\"babi\" + 0.029*\"need\" + 0.026*\"camera\" + 0.025*\"easi\"\n",
      "Category:\n",
      "\n",
      "\n",
      "Score:0.06255194544792175\t \n",
      "Topic:0.057*\"sling\" + 0.047*\"monitor\" + 0.044*\"babi\" + 0.043*\"like\" + 0.031*\"month\"\n",
      "Category:\n",
      "\n",
      "\n",
      "Score:0.0625176951289177\t \n",
      "Topic:0.046*\"love\" + 0.045*\"like\" + 0.045*\"month\" + 0.040*\"year\" + 0.035*\"babi\"\n",
      "Category:\n",
      "\n",
      "\n",
      "Score:0.06251467019319534\t \n",
      "Topic:0.073*\"diaper\" + 0.041*\"daughter\" + 0.038*\"great\" + 0.037*\"love\" + 0.029*\"hold\"\n",
      "Category:\n",
      "\n",
      "\n",
      "Score:0.06251347064971924\t \n",
      "Topic:0.056*\"book\" + 0.042*\"month\" + 0.038*\"diaper\" + 0.035*\"love\" + 0.035*\"babi\"\n",
      "Category:\n",
      "\n",
      "\n",
      "Score:0.06250110268592834\t \n",
      "Topic:0.108*\"babi\" + 0.035*\"great\" + 0.034*\"love\" + 0.027*\"time\" + 0.026*\"product\"\n",
      "Category:\n",
      "\n",
      "\n",
      "Score:0.06250057369470596\t \n",
      "Topic:0.076*\"book\" + 0.044*\"love\" + 0.039*\"qualiti\" + 0.038*\"babi\" + 0.036*\"play\"\n",
      "Category:\n",
      "\n"
     ]
    },
    {
     "name": "stderr",
     "output_type": "stream",
     "text": [
      "/Users/deth/opt/anaconda3/lib/python3.8/site-packages/ipykernel/ipkernel.py:287: DeprecationWarning: `should_run_async` will not call `transform_cell` automatically in the future. Please pass the result to `transformed_cell` argument and any exception that happen during thetransform in `preprocessing_exc_tuple` in IPython 7.17 and above.\n",
      "  and should_run_async(code)\n"
     ]
    }
   ],
   "source": [
    "unseen_document = 'This wallpaper has always been one of my favorite  '\n",
    "bow_vector = dictionary.doc2bow(preprocess(unseen_document))\n",
    "for index, score in sorted(lda_model_tfidf[bow_vector], key=lambda tup: -1*tup[1]):\n",
    "    \n",
    "        print(\"\\nScore:{}\\t \\nTopic:{}\\nCategory:{}\\n\".format(score,lda_model.print_topic(index,5),category))\n",
    "  "
   ]
  },
  {
   "cell_type": "code",
   "execution_count": 22,
   "id": "9f7086d0",
   "metadata": {},
   "outputs": [
    {
     "name": "stderr",
     "output_type": "stream",
     "text": [
      "/Users/deth/opt/anaconda3/lib/python3.8/site-packages/ipykernel/ipkernel.py:287: DeprecationWarning: `should_run_async` will not call `transform_cell` automatically in the future. Please pass the result to `transformed_cell` argument and any exception that happen during thetransform in `preprocessing_exc_tuple` in IPython 7.17 and above.\n",
      "  and should_run_async(code)\n"
     ]
    },
    {
     "data": {
      "text/html": [
       "<div>\n",
       "<style scoped>\n",
       "    .dataframe tbody tr th:only-of-type {\n",
       "        vertical-align: middle;\n",
       "    }\n",
       "\n",
       "    .dataframe tbody tr th {\n",
       "        vertical-align: top;\n",
       "    }\n",
       "\n",
       "    .dataframe thead th {\n",
       "        text-align: right;\n",
       "    }\n",
       "</style>\n",
       "<table border=\"1\" class=\"dataframe\">\n",
       "  <thead>\n",
       "    <tr style=\"text-align: right;\">\n",
       "      <th></th>\n",
       "      <th>Document_No</th>\n",
       "      <th>Dominant_Topic</th>\n",
       "      <th>Topic_Perc_Contrib</th>\n",
       "      <th>Keywords</th>\n",
       "      <th>Text</th>\n",
       "      <th>index</th>\n",
       "    </tr>\n",
       "  </thead>\n",
       "  <tbody>\n",
       "    <tr>\n",
       "      <th>0</th>\n",
       "      <td>0</td>\n",
       "      <td>4.0</td>\n",
       "      <td>0.9203</td>\n",
       "      <td>love, babi, need, camera, easi, recommend, mon...</td>\n",
       "      <td>[flannel, wipe, opinion, worth, keep, order, s...</td>\n",
       "      <td>0</td>\n",
       "    </tr>\n",
       "    <tr>\n",
       "      <th>1</th>\n",
       "      <td>1</td>\n",
       "      <td>4.0</td>\n",
       "      <td>0.8540</td>\n",
       "      <td>love, babi, need, camera, easi, recommend, mon...</td>\n",
       "      <td>[come, earli, disappoint, love, planet, wise, ...</td>\n",
       "      <td>1</td>\n",
       "    </tr>\n",
       "    <tr>\n",
       "      <th>2</th>\n",
       "      <td>2</td>\n",
       "      <td>6.0</td>\n",
       "      <td>0.8539</td>\n",
       "      <td>book, month, diaper, love, babi, think, soft, ...</td>\n",
       "      <td>[soft, comfort, warmer, look, size, perfectli,...</td>\n",
       "      <td>2</td>\n",
       "    </tr>\n",
       "    <tr>\n",
       "      <th>3</th>\n",
       "      <td>3</td>\n",
       "      <td>0.0</td>\n",
       "      <td>0.3455</td>\n",
       "      <td>babi, great, love, time, product, month, buy, ...</td>\n",
       "      <td>[product, worth, purchas, like, posit, ingeni,...</td>\n",
       "      <td>3</td>\n",
       "    </tr>\n",
       "    <tr>\n",
       "      <th>4</th>\n",
       "      <td>4</td>\n",
       "      <td>5.0</td>\n",
       "      <td>0.5985</td>\n",
       "      <td>book, love, qualiti, babi, play, time, like, c...</td>\n",
       "      <td>[kid, cri, stop, tri, ween, pacifi, thumbuddi,...</td>\n",
       "      <td>4</td>\n",
       "    </tr>\n",
       "    <tr>\n",
       "      <th>...</th>\n",
       "      <td>...</td>\n",
       "      <td>...</td>\n",
       "      <td>...</td>\n",
       "      <td>...</td>\n",
       "      <td>...</td>\n",
       "      <td>...</td>\n",
       "    </tr>\n",
       "    <tr>\n",
       "      <th>408</th>\n",
       "      <td>408</td>\n",
       "      <td>6.0</td>\n",
       "      <td>0.9026</td>\n",
       "      <td>book, month, diaper, love, babi, think, soft, ...</td>\n",
       "      <td>[sweater, nice, ferret, mind, fabric, great, p...</td>\n",
       "      <td>408</td>\n",
       "    </tr>\n",
       "    <tr>\n",
       "      <th>409</th>\n",
       "      <td>409</td>\n",
       "      <td>6.0</td>\n",
       "      <td>0.9203</td>\n",
       "      <td>book, month, diaper, love, babi, think, soft, ...</td>\n",
       "      <td>[month, short, round, find, difficult, pant, p...</td>\n",
       "      <td>409</td>\n",
       "    </tr>\n",
       "    <tr>\n",
       "      <th>410</th>\n",
       "      <td>410</td>\n",
       "      <td>5.0</td>\n",
       "      <td>0.8248</td>\n",
       "      <td>book, love, qualiti, babi, play, time, like, c...</td>\n",
       "      <td>[cute, hilari, recomend, good, ador, halloween...</td>\n",
       "      <td>410</td>\n",
       "    </tr>\n",
       "    <tr>\n",
       "      <th>411</th>\n",
       "      <td>411</td>\n",
       "      <td>6.0</td>\n",
       "      <td>0.5791</td>\n",
       "      <td>book, month, diaper, love, babi, think, soft, ...</td>\n",
       "      <td>[week, look, handsom, littl, sweater, hard, sw...</td>\n",
       "      <td>411</td>\n",
       "    </tr>\n",
       "    <tr>\n",
       "      <th>412</th>\n",
       "      <td>412</td>\n",
       "      <td>1.0</td>\n",
       "      <td>0.8247</td>\n",
       "      <td>sling, monitor, babi, like, month, great, easi...</td>\n",
       "      <td>[want, dress, guinea, sweater, small, especi, ...</td>\n",
       "      <td>412</td>\n",
       "    </tr>\n",
       "  </tbody>\n",
       "</table>\n",
       "<p>413 rows × 6 columns</p>\n",
       "</div>"
      ],
      "text/plain": [
       "     Document_No  Dominant_Topic  Topic_Perc_Contrib  \\\n",
       "0              0             4.0              0.9203   \n",
       "1              1             4.0              0.8540   \n",
       "2              2             6.0              0.8539   \n",
       "3              3             0.0              0.3455   \n",
       "4              4             5.0              0.5985   \n",
       "..           ...             ...                 ...   \n",
       "408          408             6.0              0.9026   \n",
       "409          409             6.0              0.9203   \n",
       "410          410             5.0              0.8248   \n",
       "411          411             6.0              0.5791   \n",
       "412          412             1.0              0.8247   \n",
       "\n",
       "                                              Keywords  \\\n",
       "0    love, babi, need, camera, easi, recommend, mon...   \n",
       "1    love, babi, need, camera, easi, recommend, mon...   \n",
       "2    book, month, diaper, love, babi, think, soft, ...   \n",
       "3    babi, great, love, time, product, month, buy, ...   \n",
       "4    book, love, qualiti, babi, play, time, like, c...   \n",
       "..                                                 ...   \n",
       "408  book, month, diaper, love, babi, think, soft, ...   \n",
       "409  book, month, diaper, love, babi, think, soft, ...   \n",
       "410  book, love, qualiti, babi, play, time, like, c...   \n",
       "411  book, month, diaper, love, babi, think, soft, ...   \n",
       "412  sling, monitor, babi, like, month, great, easi...   \n",
       "\n",
       "                                                  Text  index  \n",
       "0    [flannel, wipe, opinion, worth, keep, order, s...      0  \n",
       "1    [come, earli, disappoint, love, planet, wise, ...      1  \n",
       "2    [soft, comfort, warmer, look, size, perfectli,...      2  \n",
       "3    [product, worth, purchas, like, posit, ingeni,...      3  \n",
       "4    [kid, cri, stop, tri, ween, pacifi, thumbuddi,...      4  \n",
       "..                                                 ...    ...  \n",
       "408  [sweater, nice, ferret, mind, fabric, great, p...    408  \n",
       "409  [month, short, round, find, difficult, pant, p...    409  \n",
       "410  [cute, hilari, recomend, good, ador, halloween...    410  \n",
       "411  [week, look, handsom, littl, sweater, hard, sw...    411  \n",
       "412  [want, dress, guinea, sweater, small, especi, ...    412  \n",
       "\n",
       "[413 rows x 6 columns]"
      ]
     },
     "execution_count": 22,
     "metadata": {},
     "output_type": "execute_result"
    }
   ],
   "source": [
    "def format_topic_sentences(lda_model=lda_model_tfidf, corpus=bow_corpus, texts=processed_docs):\n",
    "    sent_topics_df=pd.DataFrame()\n",
    "    \n",
    "    for i, row_list in enumerate(lda_model[corpus]):\n",
    "        row=row_list[0] if lda_model.per_word_topics else row_list\n",
    "        row=sorted(row,key=lambda x:(x[1]),reverse=True)\n",
    "        \n",
    "        for j, (topic_num,prop_topic) in enumerate(row):\n",
    "            if j==0:\n",
    "                wp=lda_model.show_topic(topic_num)\n",
    "                topic_keywords=', '.join([word for word, prop in wp])\n",
    "                sent_topics_df=sent_topics_df.append(pd.Series([int(topic_num),round(prop_topic,4),topic_keywords]),ignore_index=True)\n",
    "            else:\n",
    "                break\n",
    "    sent_topics_df.columns=['Dominant_topic','Perc_contribution','Topic_keywords']\n",
    "    contents=pd.Series(texts)\n",
    "    sent_topics_df=pd.concat([sent_topics_df,contents],axis=1)\n",
    "    return sent_topics_df\n",
    "\n",
    "df_topic_sents_keywords = format_topic_sentences(lda_model=lda_model, corpus=bow_corpus, texts=processed_docs)\n",
    "\n",
    "# Format.  \n",
    "df_dominant_topic = df_topic_sents_keywords.reset_index()\n",
    "df_dominant_topic.columns = ['Document_No', 'Dominant_Topic', 'Topic_Perc_Contrib', 'Keywords', 'Text']\n",
    "df_dominant_topic['index']=df_dominant_topic.index\n",
    "df_dominant_topic\n",
    "\n"
   ]
  },
  {
   "cell_type": "code",
   "execution_count": 23,
   "id": "709e06fd",
   "metadata": {},
   "outputs": [
    {
     "name": "stderr",
     "output_type": "stream",
     "text": [
      "/Users/deth/opt/anaconda3/lib/python3.8/site-packages/ipykernel/ipkernel.py:287: DeprecationWarning: `should_run_async` will not call `transform_cell` automatically in the future. Please pass the result to `transformed_cell` argument and any exception that happen during thetransform in `preprocessing_exc_tuple` in IPython 7.17 and above.\n",
      "  and should_run_async(code)\n"
     ]
    },
    {
     "data": {
      "text/plain": [
       "['Activity_entertainment',\n",
       " 'Activity_entertainment',\n",
       " 'Apparel_accessories',\n",
       " 'Baby_care',\n",
       " 'Gift',\n",
       " 'Diapering',\n",
       " 'Apparel_accessories',\n",
       " 'Baby_care',\n",
       " 'Apparel_accessories',\n",
       " 'Activity_entertainment',\n",
       " 'Baby_care',\n",
       " 'Apparel_accessories',\n",
       " 'Baby_care',\n",
       " 'Baby_care',\n",
       " 'Nursery',\n",
       " 'Baby_stationary',\n",
       " 'Baby_stationary',\n",
       " 'Activity_entertainment',\n",
       " 'Baby_stationary',\n",
       " 'Baby_care',\n",
       " 'Baby_stationary',\n",
       " 'Baby_stationary',\n",
       " 'Apparel_accessories',\n",
       " 'Baby_stationary',\n",
       " 'Activity_entertainment',\n",
       " 'Baby_stationary',\n",
       " 'Baby_care',\n",
       " 'Baby_stationary',\n",
       " 'Apparel_accessories',\n",
       " 'Gift',\n",
       " 'Activity_entertainment',\n",
       " 'Gift',\n",
       " 'Baby_stationary',\n",
       " 'Apparel_accessories',\n",
       " 'Gift',\n",
       " 'Apparel_accessories',\n",
       " 'Gift',\n",
       " 'Baby_stationary',\n",
       " 'Gift',\n",
       " 'Apparel_accessories',\n",
       " 'Activity_entertainment',\n",
       " 'Baby_stationary',\n",
       " 'Gift',\n",
       " 'Apparel_accessories',\n",
       " 'Apparel_accessories',\n",
       " 'Apparel_accessories',\n",
       " 'Gift',\n",
       " 'Baby_care',\n",
       " 'Baby_care',\n",
       " 'Apparel_accessories',\n",
       " 'Baby_stationary',\n",
       " 'Baby_stationary',\n",
       " 'Gift',\n",
       " 'Baby_toddler_toy',\n",
       " 'Diapering',\n",
       " 'Baby_stationary',\n",
       " 'Diapering',\n",
       " 'Apparel_accessories',\n",
       " 'Baby_stationary',\n",
       " 'Baby_care',\n",
       " 'Baby_care',\n",
       " 'Gift',\n",
       " 'Baby_stationary',\n",
       " 'Apparel_accessories',\n",
       " 'Apparel_accessories',\n",
       " 'Baby_stationary',\n",
       " 'Activity_entertainment',\n",
       " 'Activity_entertainment',\n",
       " 'Apparel_accessories',\n",
       " 'Apparel_accessories',\n",
       " 'Nursery',\n",
       " 'Baby_care',\n",
       " 'Activity_entertainment',\n",
       " 'Baby_stationary',\n",
       " 'Apparel_accessories',\n",
       " 'Activity_entertainment',\n",
       " 'Activity_entertainment',\n",
       " 'Baby_care',\n",
       " 'Baby_toddler_toy',\n",
       " 'Baby_toddler_toy',\n",
       " 'Activity_entertainment',\n",
       " 'Baby_care',\n",
       " 'Baby_toddler_toy',\n",
       " 'Apparel_accessories',\n",
       " 'Gift',\n",
       " 'Baby_toddler_toy',\n",
       " 'Baby_care',\n",
       " 'Baby_toddler_toy',\n",
       " 'Apparel_accessories',\n",
       " 'Baby_care',\n",
       " 'Activity_entertainment',\n",
       " 'Baby_care',\n",
       " 'Baby_stationary',\n",
       " 'Baby_care',\n",
       " 'Diapering',\n",
       " 'Baby_stationary',\n",
       " 'Activity_entertainment',\n",
       " 'Apparel_accessories',\n",
       " 'Apparel_accessories',\n",
       " 'Apparel_accessories',\n",
       " 'Baby_care',\n",
       " 'Baby_care',\n",
       " 'Baby_stationary',\n",
       " 'Baby_care',\n",
       " 'Activity_entertainment',\n",
       " 'Baby_stationary',\n",
       " 'Baby_care',\n",
       " 'Baby_stationary',\n",
       " 'Baby_care',\n",
       " 'Activity_entertainment',\n",
       " 'Baby_care',\n",
       " 'Baby_care',\n",
       " 'Apparel_accessories',\n",
       " 'Activity_entertainment',\n",
       " 'Baby_stationary',\n",
       " 'Baby_stationary',\n",
       " 'Nursery',\n",
       " 'Diapering',\n",
       " 'Baby_stationary',\n",
       " 'Baby_stationary',\n",
       " 'Diapering',\n",
       " 'Apparel_accessories',\n",
       " 'Nursery',\n",
       " 'Apparel_accessories',\n",
       " 'Diapering',\n",
       " 'Diapering',\n",
       " 'Diapering',\n",
       " 'Baby_stationary',\n",
       " 'Activity_entertainment',\n",
       " 'Diapering',\n",
       " 'Baby_stationary',\n",
       " 'Gift',\n",
       " 'Baby_stationary',\n",
       " 'Diapering',\n",
       " 'Baby_care',\n",
       " 'Baby_care',\n",
       " 'Diapering',\n",
       " 'Activity_entertainment',\n",
       " 'Baby_care',\n",
       " 'Baby_toddler_toy',\n",
       " 'Activity_entertainment',\n",
       " 'Diapering',\n",
       " 'Baby_stationary',\n",
       " 'Apparel_accessories',\n",
       " 'Activity_entertainment',\n",
       " 'Apparel_accessories',\n",
       " 'Gift',\n",
       " 'Activity_entertainment',\n",
       " 'Baby_stationary',\n",
       " 'Baby_care',\n",
       " 'Activity_entertainment',\n",
       " 'Diapering',\n",
       " 'Activity_entertainment',\n",
       " 'Diapering',\n",
       " 'Activity_entertainment',\n",
       " 'Gift',\n",
       " 'Gift',\n",
       " 'Baby_stationary',\n",
       " 'Gift',\n",
       " 'Diapering',\n",
       " 'Diapering',\n",
       " 'Baby_stationary',\n",
       " 'Nursery',\n",
       " 'Activity_entertainment',\n",
       " 'Activity_entertainment',\n",
       " 'Baby_stationary',\n",
       " 'Diapering',\n",
       " 'Activity_entertainment',\n",
       " 'Diapering',\n",
       " 'Activity_entertainment',\n",
       " 'Apparel_accessories',\n",
       " 'Baby_care',\n",
       " 'Diapering',\n",
       " 'Activity_entertainment',\n",
       " 'Gift',\n",
       " 'Diapering',\n",
       " 'Diapering',\n",
       " 'Activity_entertainment',\n",
       " 'Diapering',\n",
       " 'Baby_toddler_toy',\n",
       " 'Diapering',\n",
       " 'Activity_entertainment',\n",
       " 'Baby_stationary',\n",
       " 'Apparel_accessories',\n",
       " 'Baby_stationary',\n",
       " 'Baby_care',\n",
       " 'Baby_stationary',\n",
       " 'Baby_care',\n",
       " 'Baby_care',\n",
       " 'Apparel_accessories',\n",
       " 'Apparel_accessories',\n",
       " 'Apparel_accessories',\n",
       " 'Apparel_accessories',\n",
       " 'Apparel_accessories',\n",
       " 'Apparel_accessories',\n",
       " 'Diapering',\n",
       " 'Gift',\n",
       " 'Baby_care',\n",
       " 'Diapering',\n",
       " 'Baby_care',\n",
       " 'Diapering',\n",
       " 'Apparel_accessories',\n",
       " 'Baby_toddler_toy',\n",
       " 'Baby_stationary',\n",
       " 'Baby_stationary',\n",
       " 'Gift',\n",
       " 'Gift',\n",
       " 'Gift',\n",
       " 'Gift',\n",
       " 'Baby_stationary',\n",
       " 'Gift',\n",
       " 'Gift',\n",
       " 'Nursery',\n",
       " 'Apparel_accessories',\n",
       " 'Apparel_accessories',\n",
       " 'Activity_entertainment',\n",
       " 'Activity_entertainment',\n",
       " 'Baby_care',\n",
       " 'Baby_care',\n",
       " 'Diapering',\n",
       " 'Baby_stationary',\n",
       " 'Gift',\n",
       " 'Activity_entertainment',\n",
       " 'Baby_stationary',\n",
       " 'Apparel_accessories',\n",
       " 'Baby_care',\n",
       " 'Baby_toddler_toy',\n",
       " 'Activity_entertainment',\n",
       " 'Activity_entertainment',\n",
       " 'Gift',\n",
       " 'Diapering',\n",
       " 'Apparel_accessories',\n",
       " 'Gift',\n",
       " 'Baby_toddler_toy',\n",
       " 'Baby_toddler_toy',\n",
       " 'Baby_toddler_toy',\n",
       " 'Nursery',\n",
       " 'Baby_stationary',\n",
       " 'Baby_toddler_toy',\n",
       " 'Baby_stationary',\n",
       " 'Baby_stationary',\n",
       " 'Baby_toddler_toy',\n",
       " 'Gift',\n",
       " 'Gift',\n",
       " 'Baby_stationary',\n",
       " 'Baby_stationary',\n",
       " 'Baby_stationary',\n",
       " 'Activity_entertainment',\n",
       " 'Baby_toddler_toy',\n",
       " 'Baby_toddler_toy',\n",
       " 'Baby_toddler_toy',\n",
       " 'Baby_toddler_toy',\n",
       " 'Baby_toddler_toy',\n",
       " 'Baby_toddler_toy',\n",
       " 'Baby_stationary',\n",
       " 'Baby_stationary',\n",
       " 'Baby_toddler_toy',\n",
       " 'Gift',\n",
       " 'Baby_toddler_toy',\n",
       " 'Baby_stationary',\n",
       " 'Nursery',\n",
       " 'Diapering',\n",
       " 'Baby_toddler_toy',\n",
       " 'Nursery',\n",
       " 'Baby_stationary',\n",
       " 'Nursery',\n",
       " 'Nursery',\n",
       " 'Diapering',\n",
       " 'Baby_care',\n",
       " 'Baby_toddler_toy',\n",
       " 'Baby_toddler_toy',\n",
       " 'Activity_entertainment',\n",
       " 'Diapering',\n",
       " 'Nursery',\n",
       " 'Baby_care',\n",
       " 'Baby_care',\n",
       " 'Nursery',\n",
       " 'Baby_care',\n",
       " 'Baby_toddler_toy',\n",
       " 'Nursery',\n",
       " 'Diapering',\n",
       " 'Nursery',\n",
       " 'Baby_care',\n",
       " 'Nursery',\n",
       " 'Nursery',\n",
       " 'Nursery',\n",
       " 'Baby_care',\n",
       " 'Baby_care',\n",
       " 'Nursery',\n",
       " 'Nursery',\n",
       " 'Baby_stationary',\n",
       " 'Baby_care',\n",
       " 'Baby_care',\n",
       " 'Apparel_accessories',\n",
       " 'Diapering',\n",
       " 'Diapering',\n",
       " 'Baby_toddler_toy',\n",
       " 'Diapering',\n",
       " 'Baby_toddler_toy',\n",
       " 'Baby_stationary',\n",
       " 'Baby_toddler_toy',\n",
       " 'Baby_toddler_toy',\n",
       " 'Baby_toddler_toy',\n",
       " 'Baby_toddler_toy',\n",
       " 'Apparel_accessories',\n",
       " 'Baby_toddler_toy',\n",
       " 'Baby_stationary',\n",
       " 'Baby_toddler_toy',\n",
       " 'Activity_entertainment',\n",
       " 'Nursery',\n",
       " 'Baby_care',\n",
       " 'Baby_care',\n",
       " 'Gift',\n",
       " 'Apparel_accessories',\n",
       " 'Apparel_accessories',\n",
       " 'Baby_stationary',\n",
       " 'Nursery',\n",
       " 'Baby_stationary',\n",
       " 'Gift',\n",
       " 'Baby_care',\n",
       " 'Activity_entertainment',\n",
       " 'Baby_stationary',\n",
       " 'Baby_stationary',\n",
       " 'Gift',\n",
       " 'Apparel_accessories',\n",
       " 'Apparel_accessories',\n",
       " 'Baby_care',\n",
       " 'Apparel_accessories',\n",
       " 'Nursery',\n",
       " 'Apparel_accessories',\n",
       " 'Apparel_accessories',\n",
       " 'Nursery',\n",
       " 'Nursery',\n",
       " 'Diapering',\n",
       " 'Nursery',\n",
       " 'Nursery',\n",
       " 'Nursery',\n",
       " 'Activity_entertainment',\n",
       " 'Activity_entertainment',\n",
       " 'Nursery',\n",
       " 'Nursery',\n",
       " 'Nursery',\n",
       " 'Nursery',\n",
       " 'Diapering',\n",
       " 'Activity_entertainment',\n",
       " 'Nursery',\n",
       " 'Nursery',\n",
       " 'Nursery',\n",
       " 'Activity_entertainment',\n",
       " 'Nursery',\n",
       " 'Activity_entertainment',\n",
       " 'Diapering',\n",
       " 'Activity_entertainment',\n",
       " 'Diapering',\n",
       " 'Nursery',\n",
       " 'Activity_entertainment',\n",
       " 'Nursery',\n",
       " 'Baby_toddler_toy',\n",
       " 'Baby_toddler_toy',\n",
       " 'Baby_toddler_toy',\n",
       " 'Apparel_accessories',\n",
       " 'Apparel_accessories',\n",
       " 'Apparel_accessories',\n",
       " 'Baby_toddler_toy',\n",
       " 'Baby_toddler_toy',\n",
       " 'Apparel_accessories',\n",
       " 'Apparel_accessories',\n",
       " 'Apparel_accessories',\n",
       " 'Gift',\n",
       " 'Nursery',\n",
       " 'Apparel_accessories',\n",
       " 'Baby_stationary',\n",
       " 'Apparel_accessories',\n",
       " 'Apparel_accessories',\n",
       " 'Apparel_accessories',\n",
       " 'Baby_care',\n",
       " 'Nursery',\n",
       " 'Activity_entertainment',\n",
       " 'Diapering',\n",
       " 'Nursery',\n",
       " 'Baby_stationary',\n",
       " 'Diapering',\n",
       " 'Baby_stationary',\n",
       " 'Baby_stationary',\n",
       " 'Baby_stationary',\n",
       " 'Baby_care',\n",
       " 'Nursery',\n",
       " 'Baby_stationary',\n",
       " 'Baby_care',\n",
       " 'Activity_entertainment',\n",
       " 'Apparel_accessories',\n",
       " 'Baby_stationary',\n",
       " 'Baby_care',\n",
       " 'Gift',\n",
       " 'Baby_care',\n",
       " 'Baby_care',\n",
       " 'Nursery',\n",
       " 'Activity_entertainment',\n",
       " 'Diapering',\n",
       " 'Activity_entertainment',\n",
       " 'Apparel_accessories',\n",
       " 'Apparel_accessories',\n",
       " 'Nursery',\n",
       " 'Activity_entertainment',\n",
       " 'Baby_toddler_toy',\n",
       " 'Baby_care',\n",
       " 'Baby_care',\n",
       " 'Gift',\n",
       " 'Apparel_accessories',\n",
       " 'Apparel_accessories',\n",
       " 'Gift',\n",
       " 'Apparel_accessories',\n",
       " 'Nursery']"
      ]
     },
     "execution_count": 23,
     "metadata": {},
     "output_type": "execute_result"
    }
   ],
   "source": [
    "data=df_dominant_topic['Dominant_Topic']\n",
    "new_category=[]\n",
    "category=\"\"\n",
    "for i in data:\n",
    "    if i == 0:\n",
    "        category=\"Baby_care\"\n",
    "        new_category.append(category)\n",
    "    if i==1:\n",
    "        category=\"Nursery\"\n",
    "        new_category.append(category)\n",
    "    if i==2:\n",
    "        category=\"Baby_stationary\"\n",
    "        new_category.append(category)\n",
    "    if i==3:\n",
    "        category=\"Diapering\"\n",
    "        new_category.append(category)\n",
    "    if i==4:\n",
    "        category=\"Activity_entertainment\"\n",
    "        new_category.append(category)\n",
    "    if i==5:\n",
    "        category=\"Gift\"\n",
    "        new_category.append(category)\n",
    "    if i==6:\n",
    "        category=\"Apparel_accessories\"\n",
    "        new_category.append(category)\n",
    "    if i==7:\n",
    "        category=\"Baby_toddler_toy\"\n",
    "        new_category.append(category)\n",
    "\n",
    "new_category"
   ]
  },
  {
   "cell_type": "code",
   "execution_count": 24,
   "id": "103faa68",
   "metadata": {},
   "outputs": [
    {
     "name": "stderr",
     "output_type": "stream",
     "text": [
      "/Users/deth/opt/anaconda3/lib/python3.8/site-packages/ipykernel/ipkernel.py:287: DeprecationWarning: `should_run_async` will not call `transform_cell` automatically in the future. Please pass the result to `transformed_cell` argument and any exception that happen during thetransform in `preprocessing_exc_tuple` in IPython 7.17 and above.\n",
      "  and should_run_async(code)\n"
     ]
    },
    {
     "data": {
      "text/html": [
       "<div>\n",
       "<style scoped>\n",
       "    .dataframe tbody tr th:only-of-type {\n",
       "        vertical-align: middle;\n",
       "    }\n",
       "\n",
       "    .dataframe tbody tr th {\n",
       "        vertical-align: top;\n",
       "    }\n",
       "\n",
       "    .dataframe thead th {\n",
       "        text-align: right;\n",
       "    }\n",
       "</style>\n",
       "<table border=\"1\" class=\"dataframe\">\n",
       "  <thead>\n",
       "    <tr style=\"text-align: right;\">\n",
       "      <th></th>\n",
       "      <th>col</th>\n",
       "      <th>index</th>\n",
       "    </tr>\n",
       "  </thead>\n",
       "  <tbody>\n",
       "    <tr>\n",
       "      <th>0</th>\n",
       "      <td>Activity_entertainment</td>\n",
       "      <td>0</td>\n",
       "    </tr>\n",
       "    <tr>\n",
       "      <th>1</th>\n",
       "      <td>Activity_entertainment</td>\n",
       "      <td>1</td>\n",
       "    </tr>\n",
       "    <tr>\n",
       "      <th>2</th>\n",
       "      <td>Apparel_accessories</td>\n",
       "      <td>2</td>\n",
       "    </tr>\n",
       "    <tr>\n",
       "      <th>3</th>\n",
       "      <td>Baby_care</td>\n",
       "      <td>3</td>\n",
       "    </tr>\n",
       "    <tr>\n",
       "      <th>4</th>\n",
       "      <td>Gift</td>\n",
       "      <td>4</td>\n",
       "    </tr>\n",
       "    <tr>\n",
       "      <th>...</th>\n",
       "      <td>...</td>\n",
       "      <td>...</td>\n",
       "    </tr>\n",
       "    <tr>\n",
       "      <th>408</th>\n",
       "      <td>Apparel_accessories</td>\n",
       "      <td>408</td>\n",
       "    </tr>\n",
       "    <tr>\n",
       "      <th>409</th>\n",
       "      <td>Apparel_accessories</td>\n",
       "      <td>409</td>\n",
       "    </tr>\n",
       "    <tr>\n",
       "      <th>410</th>\n",
       "      <td>Gift</td>\n",
       "      <td>410</td>\n",
       "    </tr>\n",
       "    <tr>\n",
       "      <th>411</th>\n",
       "      <td>Apparel_accessories</td>\n",
       "      <td>411</td>\n",
       "    </tr>\n",
       "    <tr>\n",
       "      <th>412</th>\n",
       "      <td>Nursery</td>\n",
       "      <td>412</td>\n",
       "    </tr>\n",
       "  </tbody>\n",
       "</table>\n",
       "<p>413 rows × 2 columns</p>\n",
       "</div>"
      ],
      "text/plain": [
       "                        col  index\n",
       "0    Activity_entertainment      0\n",
       "1    Activity_entertainment      1\n",
       "2       Apparel_accessories      2\n",
       "3                 Baby_care      3\n",
       "4                      Gift      4\n",
       "..                      ...    ...\n",
       "408     Apparel_accessories    408\n",
       "409     Apparel_accessories    409\n",
       "410                    Gift    410\n",
       "411     Apparel_accessories    411\n",
       "412                 Nursery    412\n",
       "\n",
       "[413 rows x 2 columns]"
      ]
     },
     "execution_count": 24,
     "metadata": {},
     "output_type": "execute_result"
    }
   ],
   "source": [
    "new_category_col = pd.DataFrame({'col':new_category})\n",
    "new_category_col['index']=new_category_col.index\n",
    "\n",
    "\n",
    "new_category_col"
   ]
  },
  {
   "cell_type": "code",
   "execution_count": 25,
   "id": "aa6a1df8",
   "metadata": {},
   "outputs": [
    {
     "name": "stderr",
     "output_type": "stream",
     "text": [
      "/Users/deth/opt/anaconda3/lib/python3.8/site-packages/ipykernel/ipkernel.py:287: DeprecationWarning: `should_run_async` will not call `transform_cell` automatically in the future. Please pass the result to `transformed_cell` argument and any exception that happen during thetransform in `preprocessing_exc_tuple` in IPython 7.17 and above.\n",
      "  and should_run_async(code)\n"
     ]
    },
    {
     "data": {
      "text/html": [
       "<div>\n",
       "<style scoped>\n",
       "    .dataframe tbody tr th:only-of-type {\n",
       "        vertical-align: middle;\n",
       "    }\n",
       "\n",
       "    .dataframe tbody tr th {\n",
       "        vertical-align: top;\n",
       "    }\n",
       "\n",
       "    .dataframe thead th {\n",
       "        text-align: right;\n",
       "    }\n",
       "</style>\n",
       "<table border=\"1\" class=\"dataframe\">\n",
       "  <thead>\n",
       "    <tr style=\"text-align: right;\">\n",
       "      <th></th>\n",
       "      <th>Document_No</th>\n",
       "      <th>Dominant_Topic</th>\n",
       "      <th>Topic_Perc_Contrib</th>\n",
       "      <th>Keywords</th>\n",
       "      <th>Text</th>\n",
       "      <th>index</th>\n",
       "      <th>Category</th>\n",
       "      <th>review</th>\n",
       "    </tr>\n",
       "  </thead>\n",
       "  <tbody>\n",
       "    <tr>\n",
       "      <th>0</th>\n",
       "      <td>0</td>\n",
       "      <td>4.0</td>\n",
       "      <td>0.9203</td>\n",
       "      <td>love, babi, need, camera, easi, recommend, mon...</td>\n",
       "      <td>[flannel, wipe, opinion, worth, keep, order, s...</td>\n",
       "      <td>0</td>\n",
       "      <td>Baby_Care</td>\n",
       "      <td>These flannel wipes are OK, but in my opinion ...</td>\n",
       "    </tr>\n",
       "    <tr>\n",
       "      <th>1</th>\n",
       "      <td>1</td>\n",
       "      <td>4.0</td>\n",
       "      <td>0.8540</td>\n",
       "      <td>love, babi, need, camera, easi, recommend, mon...</td>\n",
       "      <td>[come, earli, disappoint, love, planet, wise, ...</td>\n",
       "      <td>1</td>\n",
       "      <td>Diapering</td>\n",
       "      <td>it came early and was not disappointed. i love...</td>\n",
       "    </tr>\n",
       "    <tr>\n",
       "      <th>2</th>\n",
       "      <td>2</td>\n",
       "      <td>6.0</td>\n",
       "      <td>0.8539</td>\n",
       "      <td>book, month, diaper, love, babi, think, soft, ...</td>\n",
       "      <td>[soft, comfort, warmer, look, size, perfectli,...</td>\n",
       "      <td>2</td>\n",
       "      <td>Nursery</td>\n",
       "      <td>Very soft and comfortable and warmer than it l...</td>\n",
       "    </tr>\n",
       "    <tr>\n",
       "      <th>3</th>\n",
       "      <td>3</td>\n",
       "      <td>0.0</td>\n",
       "      <td>0.3455</td>\n",
       "      <td>babi, great, love, time, product, month, buy, ...</td>\n",
       "      <td>[product, worth, purchas, like, posit, ingeni,...</td>\n",
       "      <td>3</td>\n",
       "      <td>Baby_Care</td>\n",
       "      <td>This is a product well worth the purchase.  I ...</td>\n",
       "    </tr>\n",
       "    <tr>\n",
       "      <th>4</th>\n",
       "      <td>4</td>\n",
       "      <td>5.0</td>\n",
       "      <td>0.5985</td>\n",
       "      <td>book, love, qualiti, babi, play, time, like, c...</td>\n",
       "      <td>[kid, cri, stop, tri, ween, pacifi, thumbuddi,...</td>\n",
       "      <td>4</td>\n",
       "      <td>Baby_Care</td>\n",
       "      <td>All of my kids have cried non-stop when I trie...</td>\n",
       "    </tr>\n",
       "    <tr>\n",
       "      <th>...</th>\n",
       "      <td>...</td>\n",
       "      <td>...</td>\n",
       "      <td>...</td>\n",
       "      <td>...</td>\n",
       "      <td>...</td>\n",
       "      <td>...</td>\n",
       "      <td>...</td>\n",
       "      <td>...</td>\n",
       "    </tr>\n",
       "    <tr>\n",
       "      <th>408</th>\n",
       "      <td>408</td>\n",
       "      <td>6.0</td>\n",
       "      <td>0.9026</td>\n",
       "      <td>book, month, diaper, love, babi, think, soft, ...</td>\n",
       "      <td>[sweater, nice, ferret, mind, fabric, great, p...</td>\n",
       "      <td>408</td>\n",
       "      <td>Apparel_accessories</td>\n",
       "      <td>The sweaters are very nice and fit quite well....</td>\n",
       "    </tr>\n",
       "    <tr>\n",
       "      <th>409</th>\n",
       "      <td>409</td>\n",
       "      <td>6.0</td>\n",
       "      <td>0.9203</td>\n",
       "      <td>book, month, diaper, love, babi, think, soft, ...</td>\n",
       "      <td>[month, short, round, find, difficult, pant, p...</td>\n",
       "      <td>409</td>\n",
       "      <td>Apparel_accessories</td>\n",
       "      <td>My 13 month old is short and round lol. So I’m...</td>\n",
       "    </tr>\n",
       "    <tr>\n",
       "      <th>410</th>\n",
       "      <td>410</td>\n",
       "      <td>5.0</td>\n",
       "      <td>0.8248</td>\n",
       "      <td>book, love, qualiti, babi, play, time, like, c...</td>\n",
       "      <td>[cute, hilari, recomend, good, ador, halloween...</td>\n",
       "      <td>410</td>\n",
       "      <td>Apparel_accessories</td>\n",
       "      <td>This is sp cute and hilarious 100 recomend goo...</td>\n",
       "    </tr>\n",
       "    <tr>\n",
       "      <th>411</th>\n",
       "      <td>411</td>\n",
       "      <td>6.0</td>\n",
       "      <td>0.5791</td>\n",
       "      <td>book, month, diaper, love, babi, think, soft, ...</td>\n",
       "      <td>[week, look, handsom, littl, sweater, hard, sw...</td>\n",
       "      <td>411</td>\n",
       "      <td>Apparel_accessories</td>\n",
       "      <td>Mr. B is only 4 weeks old and looks so handsom...</td>\n",
       "    </tr>\n",
       "    <tr>\n",
       "      <th>412</th>\n",
       "      <td>412</td>\n",
       "      <td>1.0</td>\n",
       "      <td>0.8247</td>\n",
       "      <td>sling, monitor, babi, like, month, great, easi...</td>\n",
       "      <td>[want, dress, guinea, sweater, small, especi, ...</td>\n",
       "      <td>412</td>\n",
       "      <td>Apparel_accessories</td>\n",
       "      <td>I wanted to dress up my guinea pig but the swe...</td>\n",
       "    </tr>\n",
       "  </tbody>\n",
       "</table>\n",
       "<p>413 rows × 8 columns</p>\n",
       "</div>"
      ],
      "text/plain": [
       "     Document_No  Dominant_Topic  Topic_Perc_Contrib  \\\n",
       "0              0             4.0              0.9203   \n",
       "1              1             4.0              0.8540   \n",
       "2              2             6.0              0.8539   \n",
       "3              3             0.0              0.3455   \n",
       "4              4             5.0              0.5985   \n",
       "..           ...             ...                 ...   \n",
       "408          408             6.0              0.9026   \n",
       "409          409             6.0              0.9203   \n",
       "410          410             5.0              0.8248   \n",
       "411          411             6.0              0.5791   \n",
       "412          412             1.0              0.8247   \n",
       "\n",
       "                                              Keywords  \\\n",
       "0    love, babi, need, camera, easi, recommend, mon...   \n",
       "1    love, babi, need, camera, easi, recommend, mon...   \n",
       "2    book, month, diaper, love, babi, think, soft, ...   \n",
       "3    babi, great, love, time, product, month, buy, ...   \n",
       "4    book, love, qualiti, babi, play, time, like, c...   \n",
       "..                                                 ...   \n",
       "408  book, month, diaper, love, babi, think, soft, ...   \n",
       "409  book, month, diaper, love, babi, think, soft, ...   \n",
       "410  book, love, qualiti, babi, play, time, like, c...   \n",
       "411  book, month, diaper, love, babi, think, soft, ...   \n",
       "412  sling, monitor, babi, like, month, great, easi...   \n",
       "\n",
       "                                                  Text  index  \\\n",
       "0    [flannel, wipe, opinion, worth, keep, order, s...      0   \n",
       "1    [come, earli, disappoint, love, planet, wise, ...      1   \n",
       "2    [soft, comfort, warmer, look, size, perfectli,...      2   \n",
       "3    [product, worth, purchas, like, posit, ingeni,...      3   \n",
       "4    [kid, cri, stop, tri, ween, pacifi, thumbuddi,...      4   \n",
       "..                                                 ...    ...   \n",
       "408  [sweater, nice, ferret, mind, fabric, great, p...    408   \n",
       "409  [month, short, round, find, difficult, pant, p...    409   \n",
       "410  [cute, hilari, recomend, good, ador, halloween...    410   \n",
       "411  [week, look, handsom, littl, sweater, hard, sw...    411   \n",
       "412  [want, dress, guinea, sweater, small, especi, ...    412   \n",
       "\n",
       "                Category                                             review  \n",
       "0              Baby_Care  These flannel wipes are OK, but in my opinion ...  \n",
       "1              Diapering  it came early and was not disappointed. i love...  \n",
       "2                Nursery  Very soft and comfortable and warmer than it l...  \n",
       "3              Baby_Care  This is a product well worth the purchase.  I ...  \n",
       "4              Baby_Care  All of my kids have cried non-stop when I trie...  \n",
       "..                   ...                                                ...  \n",
       "408  Apparel_accessories  The sweaters are very nice and fit quite well....  \n",
       "409  Apparel_accessories  My 13 month old is short and round lol. So I’m...  \n",
       "410  Apparel_accessories  This is sp cute and hilarious 100 recomend goo...  \n",
       "411  Apparel_accessories  Mr. B is only 4 weeks old and looks so handsom...  \n",
       "412  Apparel_accessories  I wanted to dress up my guinea pig but the swe...  \n",
       "\n",
       "[413 rows x 8 columns]"
      ]
     },
     "execution_count": 25,
     "metadata": {},
     "output_type": "execute_result"
    }
   ],
   "source": [
    "new_df_1 = pd.merge(df_dominant_topic, documents[['Category','index','review']], on='index')\n",
    "\n",
    "new_df_1"
   ]
  },
  {
   "cell_type": "code",
   "execution_count": 26,
   "id": "63695cf7",
   "metadata": {},
   "outputs": [
    {
     "name": "stderr",
     "output_type": "stream",
     "text": [
      "/Users/deth/opt/anaconda3/lib/python3.8/site-packages/ipykernel/ipkernel.py:287: DeprecationWarning: `should_run_async` will not call `transform_cell` automatically in the future. Please pass the result to `transformed_cell` argument and any exception that happen during thetransform in `preprocessing_exc_tuple` in IPython 7.17 and above.\n",
      "  and should_run_async(code)\n"
     ]
    }
   ],
   "source": [
    "from sklearn.feature_extraction.text import CountVectorizer\n",
    "from sklearn.model_selection import train_test_split\n",
    "\n",
    "\n",
    "from sklearn.metrics import accuracy_score\n",
    "from sklearn.metrics import classification_report\n",
    "from sklearn.metrics import f1_score\n",
    "count_vec=CountVectorizer()\n",
    "bow=count_vec.fit_transform(new_df_1['Keywords'].astype(str))\n",
    "bow=np.array(bow.todense())\n",
    "bow1=count_vec.fit_transform(new_df_1['Text'].astype(str))\n",
    "bow1=np.array(bow1.todense())\n",
    "bow2=np.concatenate((bow,bow1),axis=1)\n"
   ]
  },
  {
   "cell_type": "code",
   "execution_count": 27,
   "id": "ce573101",
   "metadata": {},
   "outputs": [
    {
     "name": "stderr",
     "output_type": "stream",
     "text": [
      "/Users/deth/opt/anaconda3/lib/python3.8/site-packages/ipykernel/ipkernel.py:287: DeprecationWarning: `should_run_async` will not call `transform_cell` automatically in the future. Please pass the result to `transformed_cell` argument and any exception that happen during thetransform in `preprocessing_exc_tuple` in IPython 7.17 and above.\n",
      "  and should_run_async(code)\n"
     ]
    }
   ],
   "source": [
    "x=bow2\n",
    "y=new_df_1['Category']"
   ]
  },
  {
   "cell_type": "code",
   "execution_count": 28,
   "id": "0dd2fd5a",
   "metadata": {},
   "outputs": [
    {
     "name": "stderr",
     "output_type": "stream",
     "text": [
      "/Users/deth/opt/anaconda3/lib/python3.8/site-packages/ipykernel/ipkernel.py:287: DeprecationWarning: `should_run_async` will not call `transform_cell` automatically in the future. Please pass the result to `transformed_cell` argument and any exception that happen during thetransform in `preprocessing_exc_tuple` in IPython 7.17 and above.\n",
      "  and should_run_async(code)\n"
     ]
    },
    {
     "data": {
      "text/plain": [
       "0                        Gift\n",
       "1           Baby_toddler_toys\n",
       "2                   Baby_Care\n",
       "3           Baby_toddler_toys\n",
       "4      Activity_entertainment\n",
       "                ...          \n",
       "408                 Baby_Care\n",
       "409                      Gift\n",
       "410         Baby_toddler_toys\n",
       "411       Apparel_accessories\n",
       "412           Baby_stationary\n",
       "Name: Category, Length: 413, dtype: object"
      ]
     },
     "execution_count": 28,
     "metadata": {},
     "output_type": "execute_result"
    }
   ],
   "source": [
    "y1 = y.sample(frac=1).reset_index(drop=True)\n",
    "y1"
   ]
  },
  {
   "cell_type": "code",
   "execution_count": 29,
   "id": "09562afe",
   "metadata": {},
   "outputs": [
    {
     "name": "stderr",
     "output_type": "stream",
     "text": [
      "/Users/deth/opt/anaconda3/lib/python3.8/site-packages/ipykernel/ipkernel.py:287: DeprecationWarning: `should_run_async` will not call `transform_cell` automatically in the future. Please pass the result to `transformed_cell` argument and any exception that happen during thetransform in `preprocessing_exc_tuple` in IPython 7.17 and above.\n",
      "  and should_run_async(code)\n"
     ]
    },
    {
     "data": {
      "text/plain": [
       "array([[1, 0, 0, ..., 0, 0, 0],\n",
       "       [1, 0, 0, ..., 0, 0, 0],\n",
       "       [1, 1, 0, ..., 0, 0, 0],\n",
       "       ...,\n",
       "       [1, 1, 0, ..., 0, 0, 0],\n",
       "       [1, 1, 0, ..., 0, 0, 0],\n",
       "       [1, 0, 0, ..., 0, 0, 0]])"
      ]
     },
     "execution_count": 29,
     "metadata": {},
     "output_type": "execute_result"
    }
   ],
   "source": [
    "x"
   ]
  },
  {
   "cell_type": "code",
   "execution_count": 30,
   "id": "db1b739a",
   "metadata": {},
   "outputs": [
    {
     "name": "stderr",
     "output_type": "stream",
     "text": [
      "/Users/deth/opt/anaconda3/lib/python3.8/site-packages/ipykernel/ipkernel.py:287: DeprecationWarning: `should_run_async` will not call `transform_cell` automatically in the future. Please pass the result to `transformed_cell` argument and any exception that happen during thetransform in `preprocessing_exc_tuple` in IPython 7.17 and above.\n",
      "  and should_run_async(code)\n"
     ]
    },
    {
     "data": {
      "text/plain": [
       "(413, 2180)"
      ]
     },
     "execution_count": 30,
     "metadata": {},
     "output_type": "execute_result"
    }
   ],
   "source": [
    "x.shape"
   ]
  },
  {
   "cell_type": "code",
   "execution_count": null,
   "id": "ad803fef",
   "metadata": {},
   "outputs": [],
   "source": []
  },
  {
   "cell_type": "code",
   "execution_count": null,
   "id": "4c279931",
   "metadata": {},
   "outputs": [],
   "source": []
  },
  {
   "cell_type": "code",
   "execution_count": 31,
   "id": "e6481693",
   "metadata": {},
   "outputs": [
    {
     "name": "stderr",
     "output_type": "stream",
     "text": [
      "/Users/deth/opt/anaconda3/lib/python3.8/site-packages/ipykernel/ipkernel.py:287: DeprecationWarning: `should_run_async` will not call `transform_cell` automatically in the future. Please pass the result to `transformed_cell` argument and any exception that happen during thetransform in `preprocessing_exc_tuple` in IPython 7.17 and above.\n",
      "  and should_run_async(code)\n"
     ]
    },
    {
     "data": {
      "text/plain": [
       "0                Baby_Care\n",
       "1                Diapering\n",
       "2                  Nursery\n",
       "3                Baby_Care\n",
       "4                Baby_Care\n",
       "              ...         \n",
       "408    Apparel_accessories\n",
       "409    Apparel_accessories\n",
       "410    Apparel_accessories\n",
       "411    Apparel_accessories\n",
       "412    Apparel_accessories\n",
       "Name: Category, Length: 413, dtype: object"
      ]
     },
     "execution_count": 31,
     "metadata": {},
     "output_type": "execute_result"
    }
   ],
   "source": [
    "y"
   ]
  },
  {
   "cell_type": "code",
   "execution_count": 32,
   "id": "2e8f2792",
   "metadata": {},
   "outputs": [
    {
     "name": "stderr",
     "output_type": "stream",
     "text": [
      "/Users/deth/opt/anaconda3/lib/python3.8/site-packages/ipykernel/ipkernel.py:287: DeprecationWarning: `should_run_async` will not call `transform_cell` automatically in the future. Please pass the result to `transformed_cell` argument and any exception that happen during thetransform in `preprocessing_exc_tuple` in IPython 7.17 and above.\n",
      "  and should_run_async(code)\n"
     ]
    },
    {
     "data": {
      "text/plain": [
       "(413,)"
      ]
     },
     "execution_count": 32,
     "metadata": {},
     "output_type": "execute_result"
    }
   ],
   "source": [
    "y.shape"
   ]
  },
  {
   "cell_type": "code",
   "execution_count": 33,
   "id": "d9de5ad4",
   "metadata": {},
   "outputs": [
    {
     "name": "stderr",
     "output_type": "stream",
     "text": [
      "/Users/deth/opt/anaconda3/lib/python3.8/site-packages/ipykernel/ipkernel.py:287: DeprecationWarning: `should_run_async` will not call `transform_cell` automatically in the future. Please pass the result to `transformed_cell` argument and any exception that happen during thetransform in `preprocessing_exc_tuple` in IPython 7.17 and above.\n",
      "  and should_run_async(code)\n"
     ]
    }
   ],
   "source": [
    "# X_train,X_test,y_train,y_test=train_test_split(x,y,test_size=0.3,stratify=y)\n",
    "# X_train,X_test,y_train,y_test=train_test_split(x,y,test_size=0.2,stratify=y)\n"
   ]
  },
  {
   "cell_type": "code",
   "execution_count": null,
   "id": "32f113fe",
   "metadata": {},
   "outputs": [],
   "source": []
  },
  {
   "cell_type": "code",
   "execution_count": 34,
   "id": "b9ed6a12",
   "metadata": {},
   "outputs": [
    {
     "name": "stderr",
     "output_type": "stream",
     "text": [
      "/Users/deth/opt/anaconda3/lib/python3.8/site-packages/ipykernel/ipkernel.py:287: DeprecationWarning: `should_run_async` will not call `transform_cell` automatically in the future. Please pass the result to `transformed_cell` argument and any exception that happen during thetransform in `preprocessing_exc_tuple` in IPython 7.17 and above.\n",
      "  and should_run_async(code)\n"
     ]
    }
   ],
   "source": [
    "# !pip3 install keras\n",
    "# !pip3 install tensorflow"
   ]
  },
  {
   "cell_type": "code",
   "execution_count": 35,
   "id": "8318b5d3",
   "metadata": {},
   "outputs": [
    {
     "name": "stderr",
     "output_type": "stream",
     "text": [
      "/Users/deth/opt/anaconda3/lib/python3.8/site-packages/ipykernel/ipkernel.py:287: DeprecationWarning: `should_run_async` will not call `transform_cell` automatically in the future. Please pass the result to `transformed_cell` argument and any exception that happen during thetransform in `preprocessing_exc_tuple` in IPython 7.17 and above.\n",
      "  and should_run_async(code)\n"
     ]
    }
   ],
   "source": [
    "# !pip3 install tensorflow"
   ]
  },
  {
   "cell_type": "code",
   "execution_count": 36,
   "id": "e98d7814",
   "metadata": {},
   "outputs": [
    {
     "name": "stderr",
     "output_type": "stream",
     "text": [
      "/Users/deth/opt/anaconda3/lib/python3.8/site-packages/ipykernel/ipkernel.py:287: DeprecationWarning: `should_run_async` will not call `transform_cell` automatically in the future. Please pass the result to `transformed_cell` argument and any exception that happen during thetransform in `preprocessing_exc_tuple` in IPython 7.17 and above.\n",
      "  and should_run_async(code)\n"
     ]
    }
   ],
   "source": [
    "# !pip3 install imbalanced-learn"
   ]
  },
  {
   "cell_type": "code",
   "execution_count": 37,
   "id": "9efca020",
   "metadata": {},
   "outputs": [
    {
     "name": "stderr",
     "output_type": "stream",
     "text": [
      "/Users/deth/opt/anaconda3/lib/python3.8/site-packages/ipykernel/ipkernel.py:287: DeprecationWarning: `should_run_async` will not call `transform_cell` automatically in the future. Please pass the result to `transformed_cell` argument and any exception that happen during thetransform in `preprocessing_exc_tuple` in IPython 7.17 and above.\n",
      "  and should_run_async(code)\n"
     ]
    }
   ],
   "source": [
    "# !pip install -U imbalanced-learn\n"
   ]
  },
  {
   "cell_type": "code",
   "execution_count": 38,
   "id": "2f56a6b3",
   "metadata": {},
   "outputs": [
    {
     "name": "stderr",
     "output_type": "stream",
     "text": [
      "/Users/deth/opt/anaconda3/lib/python3.8/site-packages/ipykernel/ipkernel.py:287: DeprecationWarning: `should_run_async` will not call `transform_cell` automatically in the future. Please pass the result to `transformed_cell` argument and any exception that happen during thetransform in `preprocessing_exc_tuple` in IPython 7.17 and above.\n",
      "  and should_run_async(code)\n"
     ]
    }
   ],
   "source": [
    "# !pip3 install sklearn --upgrade"
   ]
  },
  {
   "cell_type": "code",
   "execution_count": null,
   "id": "46e301b8",
   "metadata": {},
   "outputs": [],
   "source": [
    "\n"
   ]
  },
  {
   "cell_type": "code",
   "execution_count": 39,
   "id": "71a62950",
   "metadata": {},
   "outputs": [
    {
     "name": "stderr",
     "output_type": "stream",
     "text": [
      "/Users/deth/opt/anaconda3/lib/python3.8/site-packages/ipykernel/ipkernel.py:287: DeprecationWarning: `should_run_async` will not call `transform_cell` automatically in the future. Please pass the result to `transformed_cell` argument and any exception that happen during thetransform in `preprocessing_exc_tuple` in IPython 7.17 and above.\n",
      "  and should_run_async(code)\n"
     ]
    }
   ],
   "source": [
    "X_train,X_test,y_train,y_test=train_test_split(x,y,test_size=0.1,stratify=y)\n"
   ]
  },
  {
   "cell_type": "code",
   "execution_count": 40,
   "id": "f3ef1585",
   "metadata": {},
   "outputs": [
    {
     "name": "stderr",
     "output_type": "stream",
     "text": [
      "/Users/deth/opt/anaconda3/lib/python3.8/site-packages/ipykernel/ipkernel.py:287: DeprecationWarning: `should_run_async` will not call `transform_cell` automatically in the future. Please pass the result to `transformed_cell` argument and any exception that happen during thetransform in `preprocessing_exc_tuple` in IPython 7.17 and above.\n",
      "  and should_run_async(code)\n",
      "/Users/deth/opt/anaconda3/lib/python3.8/site-packages/imblearn/utils/_validation.py:586: FutureWarning: Pass sampling_strategy=minority as keyword args. From version 0.9 passing these as positional arguments will result in an error\n",
      "  warnings.warn(\n"
     ]
    }
   ],
   "source": [
    "# SMOTE only use with training data. \n",
    "from imblearn.over_sampling import SMOTE\n",
    "from imblearn.under_sampling import RandomUnderSampler\n",
    "\n",
    "import imblearn\n",
    "\n",
    "smt = SMOTE(\"minority\")\n",
    "# smt = RandomUnderSampler(random_state=42)\n",
    "# smt=SMOTE()\n",
    "X_SMOTE,y_SMOTE = smt.fit_resample(X_train, y_train)"
   ]
  },
  {
   "cell_type": "code",
   "execution_count": 41,
   "id": "efc59c33",
   "metadata": {},
   "outputs": [
    {
     "name": "stderr",
     "output_type": "stream",
     "text": [
      "/Users/deth/opt/anaconda3/lib/python3.8/site-packages/ipykernel/ipkernel.py:287: DeprecationWarning: `should_run_async` will not call `transform_cell` automatically in the future. Please pass the result to `transformed_cell` argument and any exception that happen during thetransform in `preprocessing_exc_tuple` in IPython 7.17 and above.\n",
      "  and should_run_async(code)\n"
     ]
    },
    {
     "data": {
      "text/plain": [
       "(430, 2180)"
      ]
     },
     "execution_count": 41,
     "metadata": {},
     "output_type": "execute_result"
    }
   ],
   "source": [
    "X_SMOTE.shape"
   ]
  },
  {
   "cell_type": "code",
   "execution_count": 42,
   "id": "5816c560",
   "metadata": {},
   "outputs": [
    {
     "name": "stderr",
     "output_type": "stream",
     "text": [
      "/Users/deth/opt/anaconda3/lib/python3.8/site-packages/ipykernel/ipkernel.py:287: DeprecationWarning: `should_run_async` will not call `transform_cell` automatically in the future. Please pass the result to `transformed_cell` argument and any exception that happen during thetransform in `preprocessing_exc_tuple` in IPython 7.17 and above.\n",
      "  and should_run_async(code)\n"
     ]
    },
    {
     "data": {
      "text/plain": [
       "(430,)"
      ]
     },
     "execution_count": 42,
     "metadata": {},
     "output_type": "execute_result"
    }
   ],
   "source": [
    "y_SMOTE.shape"
   ]
  },
  {
   "cell_type": "code",
   "execution_count": 43,
   "id": "5226d3bb",
   "metadata": {},
   "outputs": [
    {
     "name": "stderr",
     "output_type": "stream",
     "text": [
      "/Users/deth/opt/anaconda3/lib/python3.8/site-packages/ipykernel/ipkernel.py:287: DeprecationWarning: `should_run_async` will not call `transform_cell` automatically in the future. Please pass the result to `transformed_cell` argument and any exception that happen during thetransform in `preprocessing_exc_tuple` in IPython 7.17 and above.\n",
      "  and should_run_async(code)\n"
     ]
    }
   ],
   "source": [
    "# X_train,X_test,y_train,y_test=train_test_split(X_SMOTE,y_SMOTE,test_size=0.2,stratify=y_SMOTE)\n",
    "X_train,X_test,y_train,y_test=train_test_split(x,y,test_size=0.2,stratify=y)"
   ]
  },
  {
   "cell_type": "code",
   "execution_count": 44,
   "id": "b645c5f9",
   "metadata": {},
   "outputs": [
    {
     "name": "stderr",
     "output_type": "stream",
     "text": [
      "/Users/deth/opt/anaconda3/lib/python3.8/site-packages/ipykernel/ipkernel.py:287: DeprecationWarning: `should_run_async` will not call `transform_cell` automatically in the future. Please pass the result to `transformed_cell` argument and any exception that happen during thetransform in `preprocessing_exc_tuple` in IPython 7.17 and above.\n",
      "  and should_run_async(code)\n"
     ]
    },
    {
     "data": {
      "text/plain": [
       "330"
      ]
     },
     "execution_count": 44,
     "metadata": {},
     "output_type": "execute_result"
    }
   ],
   "source": [
    "len(X_train)"
   ]
  },
  {
   "cell_type": "code",
   "execution_count": 45,
   "id": "59105c1c",
   "metadata": {},
   "outputs": [
    {
     "name": "stderr",
     "output_type": "stream",
     "text": [
      "/Users/deth/opt/anaconda3/lib/python3.8/site-packages/ipykernel/ipkernel.py:287: DeprecationWarning: `should_run_async` will not call `transform_cell` automatically in the future. Please pass the result to `transformed_cell` argument and any exception that happen during thetransform in `preprocessing_exc_tuple` in IPython 7.17 and above.\n",
      "  and should_run_async(code)\n"
     ]
    }
   ],
   "source": [
    "from sklearn.model_selection import cross_val_score\n",
    "from sklearn.metrics import confusion_matrix\n",
    "def evaluate_model(X_train, y_train, model):\n",
    "    model.fit(X_train, y_train)\n",
    "    preds = model.predict(X_test)\n",
    "    scores = cross_val_score(model, X_train, y_train, cv=3, scoring=\"accuracy\")\n",
    "    diff = scores.mean() - model.score(X_test, y_test)\n",
    "    SD = diff / scores.std()\n",
    "    \n",
    "    print(f\"Training Score:{model.score(X_train, y_train)}\")\n",
    "    print(f\"Cross V Score: {scores.mean()} +/- {scores.std()}\")\n",
    "    print(f\"Testing Score: {model.score(X_test, y_test)}\")\n",
    "    print(f\"Cross & Test Diff: {diff}\")\n",
    "    print(f\"Standard Deviations Away: {SD}\")\n",
    "    print(confusion_matrix(y_test, preds))"
   ]
  },
  {
   "cell_type": "code",
   "execution_count": 46,
   "id": "b495c9cf",
   "metadata": {},
   "outputs": [
    {
     "name": "stderr",
     "output_type": "stream",
     "text": [
      "/Users/deth/opt/anaconda3/lib/python3.8/site-packages/ipykernel/ipkernel.py:287: DeprecationWarning: `should_run_async` will not call `transform_cell` automatically in the future. Please pass the result to `transformed_cell` argument and any exception that happen during thetransform in `preprocessing_exc_tuple` in IPython 7.17 and above.\n",
      "  and should_run_async(code)\n"
     ]
    },
    {
     "data": {
      "text/plain": [
       "LogisticRegression()"
      ]
     },
     "execution_count": 46,
     "metadata": {},
     "output_type": "execute_result"
    }
   ],
   "source": [
    "from sklearn import svm\n",
    "from sklearn import metrics\n",
    "from sklearn.linear_model import LogisticRegression\n",
    "from xgboost import XGBClassifier\n",
    "from sklearn.tree import DecisionTreeClassifier # Import Decision Tree Classifier\n",
    "from sklearn.ensemble import GradientBoostingClassifier\n",
    "\n",
    "\n",
    "\n",
    "# model=svm.SVC(kernel='linear', C=1, random_state=0).fit(X_train,y_train) #0.54\n",
    "model = LogisticRegression()#0.61\n",
    "\n",
    "# # fit the model with data\n",
    "# model.fit(X_train,y_train)\n",
    "from sklearn.neighbors import KNeighborsClassifier\n",
    "\n",
    "# model = KNeighborsClassifier(n_neighbors=3)#0.42\n",
    "\n",
    "# # Train the model using the training sets\n",
    "# model.fit(X_train,y_train)\n",
    "\n",
    "# from sklearn.ensemble import RandomForestClassifier\n",
    "# from keras.models import Sequential\n",
    "\n",
    "# # Import `Dense` from `keras.layers`\n",
    "# from keras.layers import Dense\n",
    "\n",
    "# from keras.models import Sequential\n",
    "\n",
    "# # Import `Dense` from `keras.layers`\n",
    "# from keras.layers import Dense\n",
    "\n",
    "# # Initialize the constructor\n",
    "# model = Sequential()\n",
    "\n",
    "# # Add an input layer \n",
    "# model.add(Dense(12, activation='relu', input_shape=(298, 1721)))\n",
    "\n",
    "# # Add one hidden layer \n",
    "# model.add(Dense(8, activation='relu'))\n",
    "\n",
    "# # Add an output layer \n",
    "# model.add(Dense(1, activation='sigmoid'))\n",
    "\n",
    "# # #Create a Gaussian Classifier\n",
    "# model=XGBClassifier(\n",
    "# learning_rate =0.05,\n",
    "#  n_estimators=1000,\n",
    "#  max_depth=10,\n",
    "#  min_child_weight=1,\n",
    "#  gamma=0,\n",
    "#  subsample=0.9,\n",
    "#  colsample_bytree=0.9,\n",
    "#  objective= 'multi:softmax',\n",
    "#  nthread=10,\n",
    "#  scale_pos_weight=1\n",
    "# )\n",
    "# model=RandomForestClassifier(n_estimators=100)#0.55\n",
    "# model = GradientBoostingClassifier(n_estimators=20, learning_rate=0.5, max_features=2, max_depth=2, random_state=0)\n",
    "# model = Sequential()\n",
    "\n",
    "# # Add an input layer \n",
    "# model.add(Dense(12, activation='relu', input_shape=(1721,)))\n",
    "\n",
    "# # Add one hidden layer \n",
    "# model.add(Dense(8, activation='relu'))\n",
    "\n",
    "# # Add an output layer \n",
    "# model.add(Dense(1, activation='sigmoid'))\n",
    "# model.compile(loss='binary_crossentropy',\n",
    "#               optimizer='adam',\n",
    "#               metrics=['accuracy'])\n",
    "\n",
    "\n",
    "\n",
    "# #0.53 without parameter tuning\n",
    "#when tuning with max_depth=10,subsample=0.9,colsample_bytree=0.8 or 0.9 increase to 0.56\n",
    "\n",
    "# #Train the model using the training sets y_pred=clf.predict(X_test)\n",
    "# model.fit(X_train,y_train)\n",
    "\n",
    "from sklearn.naive_bayes import GaussianNB\n",
    "\n",
    "#Create a Gaussian Classifier\n",
    "# model = GaussianNB()\n",
    "# model = DecisionTreeClassifier()#0.47\n",
    "# model.compile(loss='binary_crossentropy',\n",
    "#               optimizer='adam',\n",
    "#               metrics=['accuracy'])\n",
    "# x1 = X_train.flatten()\n",
    "                \n",
    "# model.fit(x1, y_train,epochs=20, batch_size=1, verbose=1)\n",
    "\n",
    "# Train Decision Tree Classifer\n",
    "\n",
    "# with GaussinNB, 0.63\n",
    "\n",
    "# Train the model using the training sets\n",
    "model.fit(X_SMOTE,y_SMOTE)\n"
   ]
  },
  {
   "cell_type": "code",
   "execution_count": null,
   "id": "968b639d",
   "metadata": {},
   "outputs": [],
   "source": []
  },
  {
   "cell_type": "code",
   "execution_count": 47,
   "id": "a9ce9afd",
   "metadata": {},
   "outputs": [
    {
     "name": "stderr",
     "output_type": "stream",
     "text": [
      "/Users/deth/opt/anaconda3/lib/python3.8/site-packages/ipykernel/ipkernel.py:287: DeprecationWarning: `should_run_async` will not call `transform_cell` automatically in the future. Please pass the result to `transformed_cell` argument and any exception that happen during thetransform in `preprocessing_exc_tuple` in IPython 7.17 and above.\n",
      "  and should_run_async(code)\n"
     ]
    },
    {
     "data": {
      "text/plain": [
       "0.963855421686747"
      ]
     },
     "execution_count": 47,
     "metadata": {},
     "output_type": "execute_result"
    }
   ],
   "source": [
    "y_pred=model.predict(X_test)\n",
    "x1=accuracy_score(y_test,y_pred)\n",
    "x1"
   ]
  },
  {
   "cell_type": "code",
   "execution_count": 48,
   "id": "d4acb02d",
   "metadata": {},
   "outputs": [
    {
     "name": "stderr",
     "output_type": "stream",
     "text": [
      "/Users/deth/opt/anaconda3/lib/python3.8/site-packages/ipykernel/ipkernel.py:287: DeprecationWarning: `should_run_async` will not call `transform_cell` automatically in the future. Please pass the result to `transformed_cell` argument and any exception that happen during thetransform in `preprocessing_exc_tuple` in IPython 7.17 and above.\n",
      "  and should_run_async(code)\n"
     ]
    },
    {
     "name": "stdout",
     "output_type": "stream",
     "text": [
      "Training Score:0.9976744186046511\n",
      "Cross V Score: 0.66749222999223 +/- 0.04817723009079589\n",
      "Testing Score: 0.963855421686747\n",
      "Cross & Test Diff: -0.29636319169451697\n",
      "Standard Deviations Away: -6.1515199428440415\n",
      "[[ 7  0  0  0  0  0  0  0]\n",
      " [ 0  4  0  0  0  0  0  0]\n",
      " [ 0  0 17  0  0  0  0  0]\n",
      " [ 0  0  0 10  0  0  1  0]\n",
      " [ 0  0  1  0 16  0  0  0]\n",
      " [ 0  0  0  0  0  6  0  0]\n",
      " [ 0  0  0  0  0  0  9  0]\n",
      " [ 1  0  0  0  0  0  0 11]]\n"
     ]
    }
   ],
   "source": [
    "# import matplotlib.pyplot as plt\n",
    "# plt.plot(y_test,y_pred)\n",
    "# plt.show()\n",
    "\n",
    "evaluate_model(X_SMOTE, y_SMOTE, model)\n"
   ]
  },
  {
   "cell_type": "code",
   "execution_count": 49,
   "id": "eca47ef9",
   "metadata": {},
   "outputs": [
    {
     "name": "stderr",
     "output_type": "stream",
     "text": [
      "/Users/deth/opt/anaconda3/lib/python3.8/site-packages/ipykernel/ipkernel.py:287: DeprecationWarning: `should_run_async` will not call `transform_cell` automatically in the future. Please pass the result to `transformed_cell` argument and any exception that happen during thetransform in `preprocessing_exc_tuple` in IPython 7.17 and above.\n",
      "  and should_run_async(code)\n"
     ]
    }
   ],
   "source": [
    "from imblearn.pipeline import make_pipeline\n",
    "\n",
    "pipeline = make_pipeline(smt, model)\n"
   ]
  },
  {
   "cell_type": "code",
   "execution_count": 50,
   "id": "6a9e4382",
   "metadata": {},
   "outputs": [
    {
     "name": "stderr",
     "output_type": "stream",
     "text": [
      "/Users/deth/opt/anaconda3/lib/python3.8/site-packages/ipykernel/ipkernel.py:287: DeprecationWarning: `should_run_async` will not call `transform_cell` automatically in the future. Please pass the result to `transformed_cell` argument and any exception that happen during thetransform in `preprocessing_exc_tuple` in IPython 7.17 and above.\n",
      "  and should_run_async(code)\n"
     ]
    },
    {
     "name": "stdout",
     "output_type": "stream",
     "text": [
      "Training Score:0.9976744186046511\n",
      "Cross V Score: 0.6698232323232323 +/- 0.04606070051499384\n",
      "Testing Score: 0.963855421686747\n",
      "Cross & Test Diff: -0.2940321893635147\n",
      "Standard Deviations Away: -6.383580494347894\n",
      "[[ 7  0  0  0  0  0  0  0]\n",
      " [ 0  4  0  0  0  0  0  0]\n",
      " [ 0  0 17  0  0  0  0  0]\n",
      " [ 0  0  0 10  0  0  1  0]\n",
      " [ 0  0  1  0 16  0  0  0]\n",
      " [ 0  0  0  0  0  6  0  0]\n",
      " [ 0  0  0  0  0  0  9  0]\n",
      " [ 1  0  0  0  0  0  0 11]]\n"
     ]
    }
   ],
   "source": [
    "evaluate_model(X_SMOTE, y_SMOTE, pipeline)\n"
   ]
  },
  {
   "cell_type": "code",
   "execution_count": 51,
   "id": "91c73947",
   "metadata": {},
   "outputs": [
    {
     "name": "stdout",
     "output_type": "stream",
     "text": [
      "                        precision    recall  f1-score   support\n",
      "\n",
      "Activity_entertainment       0.88      1.00      0.93         7\n",
      "   Apparel_accessories       1.00      1.00      1.00         4\n",
      "             Baby_Care       0.94      1.00      0.97        17\n",
      "       Baby_stationary       1.00      0.91      0.95        11\n",
      "     Baby_toddler_toys       1.00      0.94      0.97        17\n",
      "             Diapering       1.00      1.00      1.00         6\n",
      "                  Gift       0.90      1.00      0.95         9\n",
      "               Nursery       1.00      0.92      0.96        12\n",
      "\n",
      "              accuracy                           0.96        83\n",
      "             macro avg       0.96      0.97      0.97        83\n",
      "          weighted avg       0.97      0.96      0.96        83\n",
      "\n"
     ]
    },
    {
     "name": "stderr",
     "output_type": "stream",
     "text": [
      "/Users/deth/opt/anaconda3/lib/python3.8/site-packages/ipykernel/ipkernel.py:287: DeprecationWarning: `should_run_async` will not call `transform_cell` automatically in the future. Please pass the result to `transformed_cell` argument and any exception that happen during thetransform in `preprocessing_exc_tuple` in IPython 7.17 and above.\n",
      "  and should_run_async(code)\n"
     ]
    }
   ],
   "source": [
    "print(classification_report(y_test, y_pred))\n"
   ]
  },
  {
   "cell_type": "code",
   "execution_count": 52,
   "id": "eb59c751",
   "metadata": {},
   "outputs": [
    {
     "name": "stderr",
     "output_type": "stream",
     "text": [
      "/Users/deth/opt/anaconda3/lib/python3.8/site-packages/ipykernel/ipkernel.py:287: DeprecationWarning: `should_run_async` will not call `transform_cell` automatically in the future. Please pass the result to `transformed_cell` argument and any exception that happen during thetransform in `preprocessing_exc_tuple` in IPython 7.17 and above.\n",
      "  and should_run_async(code)\n"
     ]
    }
   ],
   "source": [
    "# results, names = list(), list()\n",
    "# for name, mode in model.items():\n",
    "# # evaluate the model and collect the scores\n",
    "#     scores = evaluate_model(X_SMOTE, y_SMOTE, pipeline)\n",
    "\n",
    "# # store the results\n",
    "#     results.append(scores)\n",
    "#     names.append(name)\n",
    "# # summarize progress along the way\n",
    "#     print('>%s %.3f (%.3f)' % (name, mean(scores), std(scores)))\n",
    "# # plot model performance for comparison\n",
    "# pyplot.boxplot(results, labels=names, showmeans=True)\n",
    "# pyplot.show()"
   ]
  },
  {
   "cell_type": "code",
   "execution_count": 53,
   "id": "69c02d39",
   "metadata": {},
   "outputs": [
    {
     "name": "stderr",
     "output_type": "stream",
     "text": [
      "/Users/deth/opt/anaconda3/lib/python3.8/site-packages/ipykernel/ipkernel.py:287: DeprecationWarning: `should_run_async` will not call `transform_cell` automatically in the future. Please pass the result to `transformed_cell` argument and any exception that happen during thetransform in `preprocessing_exc_tuple` in IPython 7.17 and above.\n",
      "  and should_run_async(code)\n"
     ]
    },
    {
     "data": {
      "text/html": [
       "<div>\n",
       "<style scoped>\n",
       "    .dataframe tbody tr th:only-of-type {\n",
       "        vertical-align: middle;\n",
       "    }\n",
       "\n",
       "    .dataframe tbody tr th {\n",
       "        vertical-align: top;\n",
       "    }\n",
       "\n",
       "    .dataframe thead th {\n",
       "        text-align: right;\n",
       "    }\n",
       "</style>\n",
       "<table border=\"1\" class=\"dataframe\">\n",
       "  <thead>\n",
       "    <tr style=\"text-align: right;\">\n",
       "      <th></th>\n",
       "      <th>predicted</th>\n",
       "      <th>actual</th>\n",
       "      <th>result</th>\n",
       "    </tr>\n",
       "  </thead>\n",
       "  <tbody>\n",
       "    <tr>\n",
       "      <th>65</th>\n",
       "      <td>Activity_entertainment</td>\n",
       "      <td>Nursery</td>\n",
       "      <td>0</td>\n",
       "    </tr>\n",
       "    <tr>\n",
       "      <th>39</th>\n",
       "      <td>Gift</td>\n",
       "      <td>Baby_stationary</td>\n",
       "      <td>0</td>\n",
       "    </tr>\n",
       "    <tr>\n",
       "      <th>226</th>\n",
       "      <td>Baby_Care</td>\n",
       "      <td>Baby_toddler_toys</td>\n",
       "      <td>0</td>\n",
       "    </tr>\n",
       "    <tr>\n",
       "      <th>395</th>\n",
       "      <td>Activity_entertainment</td>\n",
       "      <td>Activity_entertainment</td>\n",
       "      <td>1</td>\n",
       "    </tr>\n",
       "    <tr>\n",
       "      <th>329</th>\n",
       "      <td>Gift</td>\n",
       "      <td>Gift</td>\n",
       "      <td>1</td>\n",
       "    </tr>\n",
       "    <tr>\n",
       "      <th>154</th>\n",
       "      <td>Baby_toddler_toys</td>\n",
       "      <td>Baby_toddler_toys</td>\n",
       "      <td>1</td>\n",
       "    </tr>\n",
       "    <tr>\n",
       "      <th>171</th>\n",
       "      <td>Baby_toddler_toys</td>\n",
       "      <td>Baby_toddler_toys</td>\n",
       "      <td>1</td>\n",
       "    </tr>\n",
       "    <tr>\n",
       "      <th>211</th>\n",
       "      <td>Baby_stationary</td>\n",
       "      <td>Baby_stationary</td>\n",
       "      <td>1</td>\n",
       "    </tr>\n",
       "    <tr>\n",
       "      <th>33</th>\n",
       "      <td>Activity_entertainment</td>\n",
       "      <td>Activity_entertainment</td>\n",
       "      <td>1</td>\n",
       "    </tr>\n",
       "    <tr>\n",
       "      <th>396</th>\n",
       "      <td>Activity_entertainment</td>\n",
       "      <td>Activity_entertainment</td>\n",
       "      <td>1</td>\n",
       "    </tr>\n",
       "    <tr>\n",
       "      <th>363</th>\n",
       "      <td>Diapering</td>\n",
       "      <td>Diapering</td>\n",
       "      <td>1</td>\n",
       "    </tr>\n",
       "    <tr>\n",
       "      <th>68</th>\n",
       "      <td>Nursery</td>\n",
       "      <td>Nursery</td>\n",
       "      <td>1</td>\n",
       "    </tr>\n",
       "    <tr>\n",
       "      <th>376</th>\n",
       "      <td>Activity_entertainment</td>\n",
       "      <td>Activity_entertainment</td>\n",
       "      <td>1</td>\n",
       "    </tr>\n",
       "    <tr>\n",
       "      <th>255</th>\n",
       "      <td>Baby_Care</td>\n",
       "      <td>Baby_Care</td>\n",
       "      <td>1</td>\n",
       "    </tr>\n",
       "    <tr>\n",
       "      <th>347</th>\n",
       "      <td>Nursery</td>\n",
       "      <td>Nursery</td>\n",
       "      <td>1</td>\n",
       "    </tr>\n",
       "    <tr>\n",
       "      <th>264</th>\n",
       "      <td>Baby_Care</td>\n",
       "      <td>Baby_Care</td>\n",
       "      <td>1</td>\n",
       "    </tr>\n",
       "    <tr>\n",
       "      <th>205</th>\n",
       "      <td>Baby_toddler_toys</td>\n",
       "      <td>Baby_toddler_toys</td>\n",
       "      <td>1</td>\n",
       "    </tr>\n",
       "    <tr>\n",
       "      <th>163</th>\n",
       "      <td>Baby_toddler_toys</td>\n",
       "      <td>Baby_toddler_toys</td>\n",
       "      <td>1</td>\n",
       "    </tr>\n",
       "    <tr>\n",
       "      <th>258</th>\n",
       "      <td>Baby_Care</td>\n",
       "      <td>Baby_Care</td>\n",
       "      <td>1</td>\n",
       "    </tr>\n",
       "    <tr>\n",
       "      <th>379</th>\n",
       "      <td>Activity_entertainment</td>\n",
       "      <td>Activity_entertainment</td>\n",
       "      <td>1</td>\n",
       "    </tr>\n",
       "  </tbody>\n",
       "</table>\n",
       "</div>"
      ],
      "text/plain": [
       "                  predicted                  actual  result\n",
       "65   Activity_entertainment                 Nursery       0\n",
       "39                     Gift         Baby_stationary       0\n",
       "226               Baby_Care       Baby_toddler_toys       0\n",
       "395  Activity_entertainment  Activity_entertainment       1\n",
       "329                    Gift                    Gift       1\n",
       "154       Baby_toddler_toys       Baby_toddler_toys       1\n",
       "171       Baby_toddler_toys       Baby_toddler_toys       1\n",
       "211         Baby_stationary         Baby_stationary       1\n",
       "33   Activity_entertainment  Activity_entertainment       1\n",
       "396  Activity_entertainment  Activity_entertainment       1\n",
       "363               Diapering               Diapering       1\n",
       "68                  Nursery                 Nursery       1\n",
       "376  Activity_entertainment  Activity_entertainment       1\n",
       "255               Baby_Care               Baby_Care       1\n",
       "347                 Nursery                 Nursery       1\n",
       "264               Baby_Care               Baby_Care       1\n",
       "205       Baby_toddler_toys       Baby_toddler_toys       1\n",
       "163       Baby_toddler_toys       Baby_toddler_toys       1\n",
       "258               Baby_Care               Baby_Care       1\n",
       "379  Activity_entertainment  Activity_entertainment       1"
      ]
     },
     "execution_count": 53,
     "metadata": {},
     "output_type": "execute_result"
    }
   ],
   "source": [
    "results = pd.DataFrame(data={'predicted': y_pred, 'actual': y_test})\n",
    "results['result'] = np.where(results['predicted']==results['actual'], 1, 0)\n",
    "results.sort_values(by='result').head(20)"
   ]
  },
  {
   "cell_type": "code",
   "execution_count": null,
   "id": "9fc61ed3",
   "metadata": {},
   "outputs": [],
   "source": []
  },
  {
   "cell_type": "code",
   "execution_count": null,
   "id": "dfe30899",
   "metadata": {},
   "outputs": [],
   "source": []
  },
  {
   "cell_type": "code",
   "execution_count": null,
   "id": "94f639db",
   "metadata": {},
   "outputs": [],
   "source": []
  },
  {
   "cell_type": "code",
   "execution_count": null,
   "id": "a199b8d6",
   "metadata": {},
   "outputs": [],
   "source": []
  },
  {
   "cell_type": "code",
   "execution_count": null,
   "id": "daa6cc09",
   "metadata": {},
   "outputs": [],
   "source": []
  },
  {
   "cell_type": "code",
   "execution_count": null,
   "id": "18ed739d",
   "metadata": {},
   "outputs": [],
   "source": []
  }
 ],
 "metadata": {
  "kernelspec": {
   "display_name": "Python 3",
   "language": "python",
   "name": "python3"
  },
  "language_info": {
   "codemirror_mode": {
    "name": "ipython",
    "version": 3
   },
   "file_extension": ".py",
   "mimetype": "text/x-python",
   "name": "python",
   "nbconvert_exporter": "python",
   "pygments_lexer": "ipython3",
   "version": "3.8.8"
  }
 },
 "nbformat": 4,
 "nbformat_minor": 5
}
