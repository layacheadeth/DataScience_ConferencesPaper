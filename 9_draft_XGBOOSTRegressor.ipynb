{
 "cells": [
  {
   "cell_type": "code",
   "execution_count": 2,
   "id": "1f375c98",
   "metadata": {},
   "outputs": [
    {
     "name": "stdout",
     "output_type": "stream",
     "text": [
      "Requirement already satisfied: xgboost in /Users/deth/opt/anaconda3/lib/python3.8/site-packages (1.5.2)\r\n",
      "Requirement already satisfied: numpy in /Users/deth/opt/anaconda3/lib/python3.8/site-packages (from xgboost) (1.20.1)\r\n",
      "Requirement already satisfied: scipy in /Users/deth/opt/anaconda3/lib/python3.8/site-packages (from xgboost) (1.6.2)\r\n"
     ]
    }
   ],
   "source": [
    "!pip install xgboost"
   ]
  },
  {
   "cell_type": "code",
   "execution_count": 3,
   "id": "b02741a2",
   "metadata": {},
   "outputs": [
    {
     "data": {
      "text/html": [
       "<div>\n",
       "<style scoped>\n",
       "    .dataframe tbody tr th:only-of-type {\n",
       "        vertical-align: middle;\n",
       "    }\n",
       "\n",
       "    .dataframe tbody tr th {\n",
       "        vertical-align: top;\n",
       "    }\n",
       "\n",
       "    .dataframe thead th {\n",
       "        text-align: right;\n",
       "    }\n",
       "</style>\n",
       "<table border=\"1\" class=\"dataframe\">\n",
       "  <thead>\n",
       "    <tr style=\"text-align: right;\">\n",
       "      <th></th>\n",
       "      <th>Product</th>\n",
       "      <th>name</th>\n",
       "      <th>Category</th>\n",
       "    </tr>\n",
       "  </thead>\n",
       "  <tbody>\n",
       "    <tr>\n",
       "      <th>0</th>\n",
       "      <td>Baby Trend Diaper Champ</td>\n",
       "      <td>333</td>\n",
       "      <td>Diapering</td>\n",
       "    </tr>\n",
       "    <tr>\n",
       "      <th>1</th>\n",
       "      <td>BABYBJORN Potty Chair - Red</td>\n",
       "      <td>232</td>\n",
       "      <td>Nursery</td>\n",
       "    </tr>\n",
       "    <tr>\n",
       "      <th>2</th>\n",
       "      <td>Philips Avent 3 Pack 9oz Bottles</td>\n",
       "      <td>191</td>\n",
       "      <td>Baby_care</td>\n",
       "    </tr>\n",
       "    <tr>\n",
       "      <th>3</th>\n",
       "      <td>Munchkin Mozart Magic Cube</td>\n",
       "      <td>191</td>\n",
       "      <td>Activity_entertainment</td>\n",
       "    </tr>\n",
       "    <tr>\n",
       "      <th>4</th>\n",
       "      <td>PRIMO EuroBath, Pearl White</td>\n",
       "      <td>182</td>\n",
       "      <td>Nursery</td>\n",
       "    </tr>\n",
       "    <tr>\n",
       "      <th>...</th>\n",
       "      <td>...</td>\n",
       "      <td>...</td>\n",
       "      <td>...</td>\n",
       "    </tr>\n",
       "    <tr>\n",
       "      <th>356</th>\n",
       "      <td>Semanario (7) Little Girls 14k Gold Overlay Ba...</td>\n",
       "      <td>1</td>\n",
       "      <td>Apparel_accessories</td>\n",
       "    </tr>\n",
       "    <tr>\n",
       "      <th>357</th>\n",
       "      <td>Gerber Diaper Service Cloth Diapers (6-pk.)</td>\n",
       "      <td>1</td>\n",
       "      <td>Diapering</td>\n",
       "    </tr>\n",
       "    <tr>\n",
       "      <th>358</th>\n",
       "      <td>Large Jungle Animals (Panda, Lion, Elephant, G...</td>\n",
       "      <td>1</td>\n",
       "      <td>Baby_toddler_toys</td>\n",
       "    </tr>\n",
       "    <tr>\n",
       "      <th>359</th>\n",
       "      <td>Beautiful Girl and Black Flower Removable Viny...</td>\n",
       "      <td>1</td>\n",
       "      <td>Nursery</td>\n",
       "    </tr>\n",
       "    <tr>\n",
       "      <th>360</th>\n",
       "      <td>Playtex VentAire Bottle 6 oz. - 1 pk.</td>\n",
       "      <td>1</td>\n",
       "      <td>Baby_care</td>\n",
       "    </tr>\n",
       "  </tbody>\n",
       "</table>\n",
       "<p>361 rows × 3 columns</p>\n",
       "</div>"
      ],
      "text/plain": [
       "                                               Product  name  \\\n",
       "0                              Baby Trend Diaper Champ   333   \n",
       "1                          BABYBJORN Potty Chair - Red   232   \n",
       "2                     Philips Avent 3 Pack 9oz Bottles   191   \n",
       "3                           Munchkin Mozart Magic Cube   191   \n",
       "4                          PRIMO EuroBath, Pearl White   182   \n",
       "..                                                 ...   ...   \n",
       "356  Semanario (7) Little Girls 14k Gold Overlay Ba...     1   \n",
       "357        Gerber Diaper Service Cloth Diapers (6-pk.)     1   \n",
       "358  Large Jungle Animals (Panda, Lion, Elephant, G...     1   \n",
       "359  Beautiful Girl and Black Flower Removable Viny...     1   \n",
       "360              Playtex VentAire Bottle 6 oz. - 1 pk.     1   \n",
       "\n",
       "                   Category  \n",
       "0                 Diapering  \n",
       "1                   Nursery  \n",
       "2                 Baby_care  \n",
       "3    Activity_entertainment  \n",
       "4                   Nursery  \n",
       "..                      ...  \n",
       "356     Apparel_accessories  \n",
       "357               Diapering  \n",
       "358       Baby_toddler_toys  \n",
       "359                 Nursery  \n",
       "360               Baby_care  \n",
       "\n",
       "[361 rows x 3 columns]"
      ]
     },
     "execution_count": 3,
     "metadata": {},
     "output_type": "execute_result"
    }
   ],
   "source": [
    "import pandas as pd\n",
    "import fractions\n",
    "import re\n",
    "import string\n",
    "import nltk\n",
    "import spacy \n",
    "import numpy as np\n",
    "import math\n",
    "from tqdm import tqdm \n",
    "\n",
    "from spacy.matcher import Matcher\n",
    "from spacy.tokens import Span\n",
    "from spacy import displacy\n",
    "\n",
    "\n",
    "\n",
    "data=pd.read_csv(\"df_product_test.csv\")\n",
    "data"
   ]
  },
  {
   "cell_type": "code",
   "execution_count": 4,
   "id": "5579d61a",
   "metadata": {},
   "outputs": [],
   "source": [
    "from sklearn.feature_extraction.text import CountVectorizer\n",
    "from sklearn.model_selection import train_test_split\n",
    "from sklearn.naive_bayes import MultinomialNB\n",
    "\n",
    "from sklearn.metrics import accuracy_score\n",
    "from sklearn.metrics import classification_report\n",
    "from sklearn.metrics import f1_score"
   ]
  },
  {
   "cell_type": "code",
   "execution_count": 5,
   "id": "0383be37",
   "metadata": {},
   "outputs": [],
   "source": [
    "data_new = data.rename(columns={'total': 'name'}, index={'ONE': 'Row_1'})\n"
   ]
  },
  {
   "cell_type": "code",
   "execution_count": 6,
   "id": "b8611451",
   "metadata": {},
   "outputs": [
    {
     "data": {
      "text/html": [
       "<div>\n",
       "<style scoped>\n",
       "    .dataframe tbody tr th:only-of-type {\n",
       "        vertical-align: middle;\n",
       "    }\n",
       "\n",
       "    .dataframe tbody tr th {\n",
       "        vertical-align: top;\n",
       "    }\n",
       "\n",
       "    .dataframe thead th {\n",
       "        text-align: right;\n",
       "    }\n",
       "</style>\n",
       "<table border=\"1\" class=\"dataframe\">\n",
       "  <thead>\n",
       "    <tr style=\"text-align: right;\">\n",
       "      <th></th>\n",
       "      <th>Product</th>\n",
       "      <th>name</th>\n",
       "      <th>Category</th>\n",
       "    </tr>\n",
       "  </thead>\n",
       "  <tbody>\n",
       "    <tr>\n",
       "      <th>0</th>\n",
       "      <td>Baby Trend Diaper Champ</td>\n",
       "      <td>333</td>\n",
       "      <td>Diapering</td>\n",
       "    </tr>\n",
       "    <tr>\n",
       "      <th>1</th>\n",
       "      <td>BABYBJORN Potty Chair - Red</td>\n",
       "      <td>232</td>\n",
       "      <td>Nursery</td>\n",
       "    </tr>\n",
       "    <tr>\n",
       "      <th>2</th>\n",
       "      <td>Philips Avent 3 Pack 9oz Bottles</td>\n",
       "      <td>191</td>\n",
       "      <td>Baby_care</td>\n",
       "    </tr>\n",
       "    <tr>\n",
       "      <th>3</th>\n",
       "      <td>Munchkin Mozart Magic Cube</td>\n",
       "      <td>191</td>\n",
       "      <td>Activity_entertainment</td>\n",
       "    </tr>\n",
       "    <tr>\n",
       "      <th>4</th>\n",
       "      <td>PRIMO EuroBath, Pearl White</td>\n",
       "      <td>182</td>\n",
       "      <td>Nursery</td>\n",
       "    </tr>\n",
       "  </tbody>\n",
       "</table>\n",
       "</div>"
      ],
      "text/plain": [
       "                            Product  name                Category\n",
       "0           Baby Trend Diaper Champ   333               Diapering\n",
       "1       BABYBJORN Potty Chair - Red   232                 Nursery\n",
       "2  Philips Avent 3 Pack 9oz Bottles   191               Baby_care\n",
       "3        Munchkin Mozart Magic Cube   191  Activity_entertainment\n",
       "4       PRIMO EuroBath, Pearl White   182                 Nursery"
      ]
     },
     "execution_count": 6,
     "metadata": {},
     "output_type": "execute_result"
    }
   ],
   "source": [
    "data_new.head()\n"
   ]
  },
  {
   "cell_type": "code",
   "execution_count": 7,
   "id": "dad51d73",
   "metadata": {},
   "outputs": [],
   "source": [
    "import xgboost as xgb\n",
    "from sklearn.metrics import mean_squared_error"
   ]
  },
  {
   "cell_type": "code",
   "execution_count": 8,
   "id": "d2124a91",
   "metadata": {},
   "outputs": [],
   "source": [
    "count_vec=CountVectorizer()\n",
    "bow=count_vec.fit_transform(data_new['Product'])\n",
    "bow=np.array(bow.todense())\n",
    "bow1=count_vec.fit_transform(data_new['Category'])\n",
    "bow1=np.array(bow1.todense())"
   ]
  },
  {
   "cell_type": "code",
   "execution_count": null,
   "id": "e7557eca",
   "metadata": {},
   "outputs": [],
   "source": []
  },
  {
   "cell_type": "code",
   "execution_count": 9,
   "id": "d8c4140e",
   "metadata": {},
   "outputs": [],
   "source": [
    "x=bow\n",
    "y=data_new['Category']"
   ]
  },
  {
   "cell_type": "code",
   "execution_count": null,
   "id": "47703c38",
   "metadata": {},
   "outputs": [],
   "source": []
  },
  {
   "cell_type": "code",
   "execution_count": 10,
   "id": "9490c041",
   "metadata": {},
   "outputs": [],
   "source": [
    "import xgboost as xgb\n",
    "from sklearn.metrics import mean_squared_error"
   ]
  },
  {
   "cell_type": "code",
   "execution_count": 11,
   "id": "416ecece",
   "metadata": {},
   "outputs": [
    {
     "data": {
      "text/plain": [
       "array([[0, 0, 0, ..., 0, 0, 0],\n",
       "       [0, 0, 0, ..., 0, 0, 0],\n",
       "       [0, 0, 0, ..., 0, 0, 0],\n",
       "       ...,\n",
       "       [0, 0, 0, ..., 0, 0, 0],\n",
       "       [0, 0, 0, ..., 0, 0, 0],\n",
       "       [0, 0, 0, ..., 0, 0, 0]])"
      ]
     },
     "execution_count": 11,
     "metadata": {},
     "output_type": "execute_result"
    }
   ],
   "source": [
    "x"
   ]
  },
  {
   "cell_type": "code",
   "execution_count": 12,
   "id": "3a2b3d1b",
   "metadata": {},
   "outputs": [
    {
     "data": {
      "text/plain": [
       "0                   Diapering\n",
       "1                     Nursery\n",
       "2                   Baby_care\n",
       "3      Activity_entertainment\n",
       "4                     Nursery\n",
       "                ...          \n",
       "356       Apparel_accessories\n",
       "357                 Diapering\n",
       "358         Baby_toddler_toys\n",
       "359                   Nursery\n",
       "360                 Baby_care\n",
       "Name: Category, Length: 361, dtype: object"
      ]
     },
     "execution_count": 12,
     "metadata": {},
     "output_type": "execute_result"
    }
   ],
   "source": [
    "y"
   ]
  },
  {
   "cell_type": "code",
   "execution_count": 13,
   "id": "78dcba49",
   "metadata": {},
   "outputs": [
    {
     "data": {
      "text/plain": [
       "array([ 0,  1,  2,  3,  1,  4,  1,  1,  5,  6,  6,  0,  1,  4,  6,  7,  6,\n",
       "        6,  6,  2,  1,  1,  6,  4,  6,  6,  6,  0,  5,  5,  8,  2,  1,  8,\n",
       "        2,  2,  8,  6,  6,  9,  9,  9,  4,  6,  4,  3,  4,  0,  2,  9,  8,\n",
       "        2,  6,  6,  0,  6,  9,  1,  6,  9,  6,  2,  4,  1,  2, 10,  4,  4,\n",
       "        4,  4,  4,  2,  4,  4,  1,  8,  2,  4,  6,  9, 11,  6,  1,  4,  6,\n",
       "        6,  4,  8,  4,  2,  1,  9,  4,  4,  4,  6,  2,  6,  6,  2, 12,  6,\n",
       "        4,  6,  8,  4,  8,  8,  8,  2,  1,  6,  0,  0,  2,  6,  0,  2,  7,\n",
       "        3,  6,  6, 10,  0,  1,  1,  6,  2,  6, 13,  6,  2,  4,  4,  8, 10,\n",
       "        1,  8,  3,  0, 10,  4,  4,  4,  2, 11,  0,  9,  4, 11,  2,  2, 13,\n",
       "        4, 10,  4,  8,  4,  4,  8,  8,  9,  6, 11,  0,  8,  6,  6,  1,  5,\n",
       "        6,  2,  6,  2,  2, 13,  4,  6,  6,  2,  4,  6,  1,  4,  8,  2, 10,\n",
       "        6,  6, 12,  2,  6, 10, 10,  1,  2,  8,  4,  1, 13, 13,  1,  6,  6,\n",
       "        1,  6,  6,  2,  8,  0,  2,  2, 13,  4,  8,  8,  6,  6,  6, 10,  6,\n",
       "        2, 10, 13,  1,  1, 13,  2,  1,  8,  2,  8,  5,  0, 10,  1,  8,  8,\n",
       "       13,  1,  4,  8, 12,  0,  2,  1,  1, 12,  8,  6,  6,  1,  3,  1,  2,\n",
       "        2,  1,  3,  1,  1,  2,  1,  1, 13,  2,  7,  4,  8,  4, 13,  8,  1,\n",
       "        1,  2,  1,  0,  2,  8,  0,  1,  7,  2,  8,  1,  1,  8,  1,  2,  6,\n",
       "        8,  8,  1,  6,  4,  1,  9,  1,  1,  8,  1,  8,  0,  1,  4, 12,  2,\n",
       "       10, 11,  2,  8,  4,  1, 12,  6,  8,  8,  1,  6, 11,  2,  4,  6,  6,\n",
       "        1,  8,  4,  4,  8,  8,  8,  4, 11,  8,  2, 10, 11,  1,  1,  8,  1,\n",
       "        6,  8,  8,  1,  6,  2,  8,  1,  1,  2,  1,  1,  2,  1,  8,  2,  7,\n",
       "        0,  8,  1,  2])"
      ]
     },
     "execution_count": 13,
     "metadata": {},
     "output_type": "execute_result"
    }
   ],
   "source": [
    "y=pd.factorize(y)[0]\n",
    "y"
   ]
  },
  {
   "cell_type": "code",
   "execution_count": null,
   "id": "f5c8ed97",
   "metadata": {},
   "outputs": [],
   "source": [
    "\n"
   ]
  },
  {
   "cell_type": "code",
   "execution_count": null,
   "id": "05e46074",
   "metadata": {},
   "outputs": [],
   "source": []
  },
  {
   "cell_type": "code",
   "execution_count": null,
   "id": "08d7ffca",
   "metadata": {},
   "outputs": [],
   "source": []
  },
  {
   "cell_type": "code",
   "execution_count": 14,
   "id": "aa976b45",
   "metadata": {},
   "outputs": [],
   "source": [
    "data_dmatrix = xgb.DMatrix(data=x,label=y)\n",
    "\n"
   ]
  },
  {
   "cell_type": "code",
   "execution_count": 15,
   "id": "450ae016",
   "metadata": {},
   "outputs": [],
   "source": [
    "from sklearn.model_selection import train_test_split\n",
    "X_train,X_test,y_train,y_test=train_test_split(x,y,test_size=0.2,random_state=123)\n"
   ]
  },
  {
   "cell_type": "code",
   "execution_count": 16,
   "id": "37618639",
   "metadata": {},
   "outputs": [],
   "source": [
    "xg_reg=xgb.XGBRegressor(objective='reg:linear',colsample_bytree=0.3,learning_rate=0.1,max_depth=5,alpha=10,n_estimators=10)\n",
    "\n"
   ]
  },
  {
   "cell_type": "code",
   "execution_count": 17,
   "id": "750e03eb",
   "metadata": {},
   "outputs": [
    {
     "name": "stdout",
     "output_type": "stream",
     "text": [
      "[12:03:50] WARNING: /Users/runner/work/xgboost/xgboost/src/objective/regression_obj.cu:188: reg:linear is now deprecated in favor of reg:squarederror.\n"
     ]
    }
   ],
   "source": [
    "xg_reg.fit(X_train,y_train)\n",
    "preds=xg_reg.predict(X_test)"
   ]
  },
  {
   "cell_type": "code",
   "execution_count": 18,
   "id": "1acc3049",
   "metadata": {},
   "outputs": [
    {
     "name": "stdout",
     "output_type": "stream",
     "text": [
      "RMSE: 3.364603\n"
     ]
    }
   ],
   "source": [
    "rmse = np.sqrt(mean_squared_error(y_test, preds))\n",
    "print(\"RMSE: %f\" % (rmse))"
   ]
  },
  {
   "cell_type": "code",
   "execution_count": null,
   "id": "624dac69",
   "metadata": {},
   "outputs": [],
   "source": []
  },
  {
   "cell_type": "code",
   "execution_count": 19,
   "id": "6ae1df3d",
   "metadata": {},
   "outputs": [
    {
     "name": "stdout",
     "output_type": "stream",
     "text": [
      "[12:03:50] WARNING: /Users/runner/work/xgboost/xgboost/src/objective/regression_obj.cu:188: reg:linear is now deprecated in favor of reg:squarederror.\n",
      "[12:03:50] WARNING: /Users/runner/work/xgboost/xgboost/src/objective/regression_obj.cu:188: reg:linear is now deprecated in favor of reg:squarederror.\n",
      "[12:03:50] WARNING: /Users/runner/work/xgboost/xgboost/src/objective/regression_obj.cu:188: reg:linear is now deprecated in favor of reg:squarederror.\n"
     ]
    }
   ],
   "source": [
    "params = {\"objective\":\"reg:linear\",'colsample_bytree': 0.3,'learning_rate': 0.1,\n",
    "                'max_depth': 5, 'alpha': 10}\n",
    "\n",
    "cv_results = xgb.cv(dtrain=data_dmatrix, params=params, nfold=3,\n",
    "                    num_boost_round=50,early_stopping_rounds=10,metrics=\"rmse\", as_pandas=True, seed=123)"
   ]
  },
  {
   "cell_type": "code",
   "execution_count": 20,
   "id": "3ec46549",
   "metadata": {},
   "outputs": [
    {
     "data": {
      "text/html": [
       "<div>\n",
       "<style scoped>\n",
       "    .dataframe tbody tr th:only-of-type {\n",
       "        vertical-align: middle;\n",
       "    }\n",
       "\n",
       "    .dataframe tbody tr th {\n",
       "        vertical-align: top;\n",
       "    }\n",
       "\n",
       "    .dataframe thead th {\n",
       "        text-align: right;\n",
       "    }\n",
       "</style>\n",
       "<table border=\"1\" class=\"dataframe\">\n",
       "  <thead>\n",
       "    <tr style=\"text-align: right;\">\n",
       "      <th></th>\n",
       "      <th>train-rmse-mean</th>\n",
       "      <th>train-rmse-std</th>\n",
       "      <th>test-rmse-mean</th>\n",
       "      <th>test-rmse-std</th>\n",
       "    </tr>\n",
       "  </thead>\n",
       "  <tbody>\n",
       "    <tr>\n",
       "      <th>0</th>\n",
       "      <td>5.190956</td>\n",
       "      <td>0.113893</td>\n",
       "      <td>5.190133</td>\n",
       "      <td>0.249782</td>\n",
       "    </tr>\n",
       "    <tr>\n",
       "      <th>1</th>\n",
       "      <td>4.876176</td>\n",
       "      <td>0.101684</td>\n",
       "      <td>4.880048</td>\n",
       "      <td>0.256642</td>\n",
       "    </tr>\n",
       "    <tr>\n",
       "      <th>2</th>\n",
       "      <td>4.593209</td>\n",
       "      <td>0.097949</td>\n",
       "      <td>4.607537</td>\n",
       "      <td>0.260763</td>\n",
       "    </tr>\n",
       "    <tr>\n",
       "      <th>3</th>\n",
       "      <td>4.348303</td>\n",
       "      <td>0.084727</td>\n",
       "      <td>4.381157</td>\n",
       "      <td>0.257032</td>\n",
       "    </tr>\n",
       "    <tr>\n",
       "      <th>4</th>\n",
       "      <td>4.137926</td>\n",
       "      <td>0.084281</td>\n",
       "      <td>4.180194</td>\n",
       "      <td>0.263259</td>\n",
       "    </tr>\n",
       "  </tbody>\n",
       "</table>\n",
       "</div>"
      ],
      "text/plain": [
       "   train-rmse-mean  train-rmse-std  test-rmse-mean  test-rmse-std\n",
       "0         5.190956        0.113893        5.190133       0.249782\n",
       "1         4.876176        0.101684        4.880048       0.256642\n",
       "2         4.593209        0.097949        4.607537       0.260763\n",
       "3         4.348303        0.084727        4.381157       0.257032\n",
       "4         4.137926        0.084281        4.180194       0.263259"
      ]
     },
     "execution_count": 20,
     "metadata": {},
     "output_type": "execute_result"
    }
   ],
   "source": [
    "cv_results.head()\n"
   ]
  },
  {
   "cell_type": "code",
   "execution_count": 21,
   "id": "9e6bd26a",
   "metadata": {},
   "outputs": [
    {
     "name": "stdout",
     "output_type": "stream",
     "text": [
      "49    2.977655\n",
      "Name: test-rmse-mean, dtype: float64\n"
     ]
    }
   ],
   "source": [
    "print((cv_results[\"test-rmse-mean\"]).tail(1))\n"
   ]
  },
  {
   "cell_type": "code",
   "execution_count": 22,
   "id": "152c8ef7",
   "metadata": {},
   "outputs": [
    {
     "name": "stdout",
     "output_type": "stream",
     "text": [
      "[12:03:51] WARNING: /Users/runner/work/xgboost/xgboost/src/objective/regression_obj.cu:188: reg:linear is now deprecated in favor of reg:squarederror.\n"
     ]
    }
   ],
   "source": [
    "xg_reg = xgb.train(params=params, dtrain=data_dmatrix, num_boost_round=10)\n"
   ]
  },
  {
   "cell_type": "code",
   "execution_count": 23,
   "id": "2151228d",
   "metadata": {},
   "outputs": [
    {
     "name": "stdout",
     "output_type": "stream",
     "text": [
      "Requirement already satisfied: graphviz in /Users/deth/opt/anaconda3/lib/python3.8/site-packages (0.19)\r\n"
     ]
    }
   ],
   "source": [
    "!pip3 install graphviz"
   ]
  },
  {
   "cell_type": "code",
   "execution_count": 24,
   "id": "7d1ff7bb",
   "metadata": {},
   "outputs": [
    {
     "data": {
      "image/png": "[encoded data removed]",
      "text/plain": [
       "<Figure size 432x288 with 1 Axes>"
      ]
     },
     "metadata": {
      "needs_background": "light"
     },
     "output_type": "display_data"
    }
   ],
   "source": [
    "import matplotlib.pyplot as plt\n",
    "\n",
    "xgb.plot_tree(xg_reg,num_trees=0)\n",
    "plt.rcParams['figure.figsize'] = [50, 10]\n",
    "plt.show()"
   ]
  },
  {
   "cell_type": "code",
   "execution_count": 25,
   "id": "488a3e71",
   "metadata": {},
   "outputs": [
    {
     "data": {
      "image/png": "[encoded data removed]",
      "text/plain": [
       "<Figure size 3600x720 with 1 Axes>"
      ]
     },
     "metadata": {
      "needs_background": "light"
     },
     "output_type": "display_data"
    }
   ],
   "source": [
    "xgb.plot_importance(xg_reg)\n",
    "plt.rcParams['figure.figsize'] = [5, 5]\n",
    "plt.show()"
   ]
  },
  {
   "cell_type": "code",
   "execution_count": null,
   "id": "d944546d",
   "metadata": {},
   "outputs": [],
   "source": []
  },
  {
   "cell_type": "code",
   "execution_count": null,
   "id": "7ec2e364",
   "metadata": {},
   "outputs": [],
   "source": []
  },
  {
   "cell_type": "code",
   "execution_count": null,
   "id": "877a213b",
   "metadata": {},
   "outputs": [],
   "source": []
  },
  {
   "cell_type": "code",
   "execution_count": null,
   "id": "10585a42",
   "metadata": {},
   "outputs": [],
   "source": []
  }
 ],
 "metadata": {
  "kernelspec": {
   "display_name": "Python 3",
   "language": "python",
   "name": "python3"
  },
  "language_info": {
   "codemirror_mode": {
    "name": "ipython",
    "version": 3
   },
   "file_extension": ".py",
   "mimetype": "text/x-python",
   "name": "python",
   "nbconvert_exporter": "python",
   "pygments_lexer": "ipython3",
   "version": "3.8.8"
  }
 },
 "nbformat": 4,
 "nbformat_minor": 5
}
