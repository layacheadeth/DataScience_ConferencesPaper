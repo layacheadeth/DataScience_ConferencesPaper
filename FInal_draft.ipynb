{
 "cells": [
  {
   "cell_type": "markdown",
   "id": "11530cbd",
   "metadata": {},
   "source": [
    "# Import data and annotate data for use.\n"
   ]
  },
  {
   "cell_type": "code",
   "execution_count": 1,
   "id": "9374d5cc",
   "metadata": {},
   "outputs": [
    {
     "data": {
      "text/html": [
       "<div>\n",
       "<style scoped>\n",
       "    .dataframe tbody tr th:only-of-type {\n",
       "        vertical-align: middle;\n",
       "    }\n",
       "\n",
       "    .dataframe tbody tr th {\n",
       "        vertical-align: top;\n",
       "    }\n",
       "\n",
       "    .dataframe thead th {\n",
       "        text-align: right;\n",
       "    }\n",
       "</style>\n",
       "<table border=\"1\" class=\"dataframe\">\n",
       "  <thead>\n",
       "    <tr style=\"text-align: right;\">\n",
       "      <th></th>\n",
       "      <th>name</th>\n",
       "      <th>review</th>\n",
       "      <th>rating</th>\n",
       "    </tr>\n",
       "  </thead>\n",
       "  <tbody>\n",
       "    <tr>\n",
       "      <th>0</th>\n",
       "      <td>Planetwise Flannel Wipes</td>\n",
       "      <td>These flannel wipes are OK, but in my opinion ...</td>\n",
       "      <td>3</td>\n",
       "    </tr>\n",
       "    <tr>\n",
       "      <th>1</th>\n",
       "      <td>Planetwise Wipe Pouch</td>\n",
       "      <td>it came early and was not disappointed. i love...</td>\n",
       "      <td>5</td>\n",
       "    </tr>\n",
       "    <tr>\n",
       "      <th>2</th>\n",
       "      <td>Annas Dream Full Quilt with 2 Shams</td>\n",
       "      <td>Very soft and comfortable and warmer than it l...</td>\n",
       "      <td>5</td>\n",
       "    </tr>\n",
       "    <tr>\n",
       "      <th>3</th>\n",
       "      <td>Stop Pacifier Sucking without tears with Thumb...</td>\n",
       "      <td>This is a product well worth the purchase.  I ...</td>\n",
       "      <td>5</td>\n",
       "    </tr>\n",
       "    <tr>\n",
       "      <th>4</th>\n",
       "      <td>Stop Pacifier Sucking without tears with Thumb...</td>\n",
       "      <td>All of my kids have cried non-stop when I trie...</td>\n",
       "      <td>5</td>\n",
       "    </tr>\n",
       "    <tr>\n",
       "      <th>...</th>\n",
       "      <td>...</td>\n",
       "      <td>...</td>\n",
       "      <td>...</td>\n",
       "    </tr>\n",
       "    <tr>\n",
       "      <th>183526</th>\n",
       "      <td>Baby Teething Necklace for Mom Pretty Donut Sh...</td>\n",
       "      <td>Such a great idea! very handy to have and look...</td>\n",
       "      <td>5</td>\n",
       "    </tr>\n",
       "    <tr>\n",
       "      <th>183527</th>\n",
       "      <td>Baby Teething Necklace for Mom Pretty Donut Sh...</td>\n",
       "      <td>This product rocks!  It is a great blend of fu...</td>\n",
       "      <td>5</td>\n",
       "    </tr>\n",
       "    <tr>\n",
       "      <th>183528</th>\n",
       "      <td>Abstract 2 PK Baby / Toddler Training Cup (Pink)</td>\n",
       "      <td>This item looks great and cool for my kids.......</td>\n",
       "      <td>5</td>\n",
       "    </tr>\n",
       "    <tr>\n",
       "      <th>183529</th>\n",
       "      <td>Baby Food Freezer Tray - Bacteria Resistant, B...</td>\n",
       "      <td>I am extremely happy with this product. I have...</td>\n",
       "      <td>5</td>\n",
       "    </tr>\n",
       "    <tr>\n",
       "      <th>183530</th>\n",
       "      <td>Best 2 Pack Baby Car Shade for Kids - Window S...</td>\n",
       "      <td>I love this product very mush . I have bought ...</td>\n",
       "      <td>5</td>\n",
       "    </tr>\n",
       "  </tbody>\n",
       "</table>\n",
       "<p>183531 rows × 3 columns</p>\n",
       "</div>"
      ],
      "text/plain": [
       "                                                     name  \\\n",
       "0                                Planetwise Flannel Wipes   \n",
       "1                                   Planetwise Wipe Pouch   \n",
       "2                     Annas Dream Full Quilt with 2 Shams   \n",
       "3       Stop Pacifier Sucking without tears with Thumb...   \n",
       "4       Stop Pacifier Sucking without tears with Thumb...   \n",
       "...                                                   ...   \n",
       "183526  Baby Teething Necklace for Mom Pretty Donut Sh...   \n",
       "183527  Baby Teething Necklace for Mom Pretty Donut Sh...   \n",
       "183528   Abstract 2 PK Baby / Toddler Training Cup (Pink)   \n",
       "183529  Baby Food Freezer Tray - Bacteria Resistant, B...   \n",
       "183530  Best 2 Pack Baby Car Shade for Kids - Window S...   \n",
       "\n",
       "                                                   review  rating  \n",
       "0       These flannel wipes are OK, but in my opinion ...       3  \n",
       "1       it came early and was not disappointed. i love...       5  \n",
       "2       Very soft and comfortable and warmer than it l...       5  \n",
       "3       This is a product well worth the purchase.  I ...       5  \n",
       "4       All of my kids have cried non-stop when I trie...       5  \n",
       "...                                                   ...     ...  \n",
       "183526  Such a great idea! very handy to have and look...       5  \n",
       "183527  This product rocks!  It is a great blend of fu...       5  \n",
       "183528  This item looks great and cool for my kids.......       5  \n",
       "183529  I am extremely happy with this product. I have...       5  \n",
       "183530  I love this product very mush . I have bought ...       5  \n",
       "\n",
       "[183531 rows x 3 columns]"
      ]
     },
     "execution_count": 1,
     "metadata": {},
     "output_type": "execute_result"
    }
   ],
   "source": [
    "import pandas as pd\n",
    "data=pd.read_csv(\"amazon_baby.csv\",error_bad_lines=False)\n",
    "data"
   ]
  },
  {
   "cell_type": "code",
   "execution_count": 2,
   "id": "96c4227c",
   "metadata": {},
   "outputs": [
    {
     "data": {
      "text/html": [
       "<div>\n",
       "<style scoped>\n",
       "    .dataframe tbody tr th:only-of-type {\n",
       "        vertical-align: middle;\n",
       "    }\n",
       "\n",
       "    .dataframe tbody tr th {\n",
       "        vertical-align: top;\n",
       "    }\n",
       "\n",
       "    .dataframe thead th {\n",
       "        text-align: right;\n",
       "    }\n",
       "</style>\n",
       "<table border=\"1\" class=\"dataframe\">\n",
       "  <thead>\n",
       "    <tr style=\"text-align: right;\">\n",
       "      <th></th>\n",
       "      <th>name</th>\n",
       "      <th>review</th>\n",
       "      <th>rating</th>\n",
       "    </tr>\n",
       "  </thead>\n",
       "  <tbody>\n",
       "    <tr>\n",
       "      <th>0</th>\n",
       "      <td>Planetwise Flannel Wipes</td>\n",
       "      <td>These flannel wipes are OK, but in my opinion ...</td>\n",
       "      <td>3</td>\n",
       "    </tr>\n",
       "    <tr>\n",
       "      <th>1</th>\n",
       "      <td>Planetwise Wipe Pouch</td>\n",
       "      <td>it came early and was not disappointed. i love...</td>\n",
       "      <td>5</td>\n",
       "    </tr>\n",
       "    <tr>\n",
       "      <th>2</th>\n",
       "      <td>Annas Dream Full Quilt with 2 Shams</td>\n",
       "      <td>Very soft and comfortable and warmer than it l...</td>\n",
       "      <td>5</td>\n",
       "    </tr>\n",
       "    <tr>\n",
       "      <th>3</th>\n",
       "      <td>Stop Pacifier Sucking without tears with Thumb...</td>\n",
       "      <td>This is a product well worth the purchase.  I ...</td>\n",
       "      <td>5</td>\n",
       "    </tr>\n",
       "    <tr>\n",
       "      <th>4</th>\n",
       "      <td>Stop Pacifier Sucking without tears with Thumb...</td>\n",
       "      <td>All of my kids have cried non-stop when I trie...</td>\n",
       "      <td>5</td>\n",
       "    </tr>\n",
       "    <tr>\n",
       "      <th>...</th>\n",
       "      <td>...</td>\n",
       "      <td>...</td>\n",
       "      <td>...</td>\n",
       "    </tr>\n",
       "    <tr>\n",
       "      <th>295</th>\n",
       "      <td>Arm's Reach Original Co-sleeper 100% Cotton Wh...</td>\n",
       "      <td>I would recommend getting cheaper sheets made ...</td>\n",
       "      <td>2</td>\n",
       "    </tr>\n",
       "    <tr>\n",
       "      <th>296</th>\n",
       "      <td>Arm's Reach Original Co-sleeper 100% Cotton Wh...</td>\n",
       "      <td>This is a must for anyone who is buying the Co...</td>\n",
       "      <td>5</td>\n",
       "    </tr>\n",
       "    <tr>\n",
       "      <th>297</th>\n",
       "      <td>Arm's Reach Original Co-sleeper 100% Cotton Wh...</td>\n",
       "      <td>love having her so close!!!!!!  allows for goo...</td>\n",
       "      <td>5</td>\n",
       "    </tr>\n",
       "    <tr>\n",
       "      <th>298</th>\n",
       "      <td>Arm's Reach Original Co-sleeper 100% Cotton Wh...</td>\n",
       "      <td>We love this full sized co-sleeper that can at...</td>\n",
       "      <td>5</td>\n",
       "    </tr>\n",
       "    <tr>\n",
       "      <th>299</th>\n",
       "      <td>Arm's Reach Original Co-sleeper 100% Cotton Wh...</td>\n",
       "      <td>hope these work  glad to have found this produ...</td>\n",
       "      <td>5</td>\n",
       "    </tr>\n",
       "  </tbody>\n",
       "</table>\n",
       "<p>300 rows × 3 columns</p>\n",
       "</div>"
      ],
      "text/plain": [
       "                                                  name  \\\n",
       "0                             Planetwise Flannel Wipes   \n",
       "1                                Planetwise Wipe Pouch   \n",
       "2                  Annas Dream Full Quilt with 2 Shams   \n",
       "3    Stop Pacifier Sucking without tears with Thumb...   \n",
       "4    Stop Pacifier Sucking without tears with Thumb...   \n",
       "..                                                 ...   \n",
       "295  Arm's Reach Original Co-sleeper 100% Cotton Wh...   \n",
       "296  Arm's Reach Original Co-sleeper 100% Cotton Wh...   \n",
       "297  Arm's Reach Original Co-sleeper 100% Cotton Wh...   \n",
       "298  Arm's Reach Original Co-sleeper 100% Cotton Wh...   \n",
       "299  Arm's Reach Original Co-sleeper 100% Cotton Wh...   \n",
       "\n",
       "                                                review  rating  \n",
       "0    These flannel wipes are OK, but in my opinion ...       3  \n",
       "1    it came early and was not disappointed. i love...       5  \n",
       "2    Very soft and comfortable and warmer than it l...       5  \n",
       "3    This is a product well worth the purchase.  I ...       5  \n",
       "4    All of my kids have cried non-stop when I trie...       5  \n",
       "..                                                 ...     ...  \n",
       "295  I would recommend getting cheaper sheets made ...       2  \n",
       "296  This is a must for anyone who is buying the Co...       5  \n",
       "297  love having her so close!!!!!!  allows for goo...       5  \n",
       "298  We love this full sized co-sleeper that can at...       5  \n",
       "299  hope these work  glad to have found this produ...       5  \n",
       "\n",
       "[300 rows x 3 columns]"
      ]
     },
     "execution_count": 2,
     "metadata": {},
     "output_type": "execute_result"
    }
   ],
   "source": [
    "used_data=data[:300]\n",
    "used_data"
   ]
  },
  {
   "cell_type": "code",
   "execution_count": 3,
   "id": "5e92309c",
   "metadata": {},
   "outputs": [
    {
     "data": {
      "text/html": [
       "<div>\n",
       "<style scoped>\n",
       "    .dataframe tbody tr th:only-of-type {\n",
       "        vertical-align: middle;\n",
       "    }\n",
       "\n",
       "    .dataframe tbody tr th {\n",
       "        vertical-align: top;\n",
       "    }\n",
       "\n",
       "    .dataframe thead th {\n",
       "        text-align: right;\n",
       "    }\n",
       "</style>\n",
       "<table border=\"1\" class=\"dataframe\">\n",
       "  <thead>\n",
       "    <tr style=\"text-align: right;\">\n",
       "      <th></th>\n",
       "      <th>name</th>\n",
       "      <th>review</th>\n",
       "      <th>index</th>\n",
       "    </tr>\n",
       "  </thead>\n",
       "  <tbody>\n",
       "    <tr>\n",
       "      <th>0</th>\n",
       "      <td>Planetwise Flannel Wipes</td>\n",
       "      <td>These flannel wipes are OK, but in my opinion ...</td>\n",
       "      <td>0</td>\n",
       "    </tr>\n",
       "    <tr>\n",
       "      <th>1</th>\n",
       "      <td>Planetwise Wipe Pouch</td>\n",
       "      <td>it came early and was not disappointed. i love...</td>\n",
       "      <td>1</td>\n",
       "    </tr>\n",
       "    <tr>\n",
       "      <th>2</th>\n",
       "      <td>Annas Dream Full Quilt with 2 Shams</td>\n",
       "      <td>Very soft and comfortable and warmer than it l...</td>\n",
       "      <td>2</td>\n",
       "    </tr>\n",
       "    <tr>\n",
       "      <th>3</th>\n",
       "      <td>Stop Pacifier Sucking without tears with Thumb...</td>\n",
       "      <td>This is a product well worth the purchase.  I ...</td>\n",
       "      <td>3</td>\n",
       "    </tr>\n",
       "    <tr>\n",
       "      <th>4</th>\n",
       "      <td>Stop Pacifier Sucking without tears with Thumb...</td>\n",
       "      <td>All of my kids have cried non-stop when I trie...</td>\n",
       "      <td>4</td>\n",
       "    </tr>\n",
       "    <tr>\n",
       "      <th>...</th>\n",
       "      <td>...</td>\n",
       "      <td>...</td>\n",
       "      <td>...</td>\n",
       "    </tr>\n",
       "    <tr>\n",
       "      <th>295</th>\n",
       "      <td>Arm's Reach Original Co-sleeper 100% Cotton Wh...</td>\n",
       "      <td>I would recommend getting cheaper sheets made ...</td>\n",
       "      <td>295</td>\n",
       "    </tr>\n",
       "    <tr>\n",
       "      <th>296</th>\n",
       "      <td>Arm's Reach Original Co-sleeper 100% Cotton Wh...</td>\n",
       "      <td>This is a must for anyone who is buying the Co...</td>\n",
       "      <td>296</td>\n",
       "    </tr>\n",
       "    <tr>\n",
       "      <th>297</th>\n",
       "      <td>Arm's Reach Original Co-sleeper 100% Cotton Wh...</td>\n",
       "      <td>love having her so close!!!!!!  allows for goo...</td>\n",
       "      <td>297</td>\n",
       "    </tr>\n",
       "    <tr>\n",
       "      <th>298</th>\n",
       "      <td>Arm's Reach Original Co-sleeper 100% Cotton Wh...</td>\n",
       "      <td>We love this full sized co-sleeper that can at...</td>\n",
       "      <td>298</td>\n",
       "    </tr>\n",
       "    <tr>\n",
       "      <th>299</th>\n",
       "      <td>Arm's Reach Original Co-sleeper 100% Cotton Wh...</td>\n",
       "      <td>hope these work  glad to have found this produ...</td>\n",
       "      <td>299</td>\n",
       "    </tr>\n",
       "  </tbody>\n",
       "</table>\n",
       "<p>300 rows × 3 columns</p>\n",
       "</div>"
      ],
      "text/plain": [
       "                                                  name  \\\n",
       "0                             Planetwise Flannel Wipes   \n",
       "1                                Planetwise Wipe Pouch   \n",
       "2                  Annas Dream Full Quilt with 2 Shams   \n",
       "3    Stop Pacifier Sucking without tears with Thumb...   \n",
       "4    Stop Pacifier Sucking without tears with Thumb...   \n",
       "..                                                 ...   \n",
       "295  Arm's Reach Original Co-sleeper 100% Cotton Wh...   \n",
       "296  Arm's Reach Original Co-sleeper 100% Cotton Wh...   \n",
       "297  Arm's Reach Original Co-sleeper 100% Cotton Wh...   \n",
       "298  Arm's Reach Original Co-sleeper 100% Cotton Wh...   \n",
       "299  Arm's Reach Original Co-sleeper 100% Cotton Wh...   \n",
       "\n",
       "                                                review  index  \n",
       "0    These flannel wipes are OK, but in my opinion ...      0  \n",
       "1    it came early and was not disappointed. i love...      1  \n",
       "2    Very soft and comfortable and warmer than it l...      2  \n",
       "3    This is a product well worth the purchase.  I ...      3  \n",
       "4    All of my kids have cried non-stop when I trie...      4  \n",
       "..                                                 ...    ...  \n",
       "295  I would recommend getting cheaper sheets made ...    295  \n",
       "296  This is a must for anyone who is buying the Co...    296  \n",
       "297  love having her so close!!!!!!  allows for goo...    297  \n",
       "298  We love this full sized co-sleeper that can at...    298  \n",
       "299  hope these work  glad to have found this produ...    299  \n",
       "\n",
       "[300 rows x 3 columns]"
      ]
     },
     "execution_count": 3,
     "metadata": {},
     "output_type": "execute_result"
    }
   ],
   "source": [
    "data_text=used_data[[\"name\",'review']]\n",
    "data_text['index']=data_text.index\n",
    "\n",
    "documents=data_text\n",
    "documents"
   ]
  },
  {
   "cell_type": "code",
   "execution_count": 4,
   "id": "21509874",
   "metadata": {},
   "outputs": [],
   "source": [
    "# doc1=documents.to_csv(r'used.csv')\n"
   ]
  },
  {
   "cell_type": "code",
   "execution_count": 5,
   "id": "fdabf2d2",
   "metadata": {},
   "outputs": [
    {
     "data": {
      "text/html": [
       "<div>\n",
       "<style scoped>\n",
       "    .dataframe tbody tr th:only-of-type {\n",
       "        vertical-align: middle;\n",
       "    }\n",
       "\n",
       "    .dataframe tbody tr th {\n",
       "        vertical-align: top;\n",
       "    }\n",
       "\n",
       "    .dataframe thead th {\n",
       "        text-align: right;\n",
       "    }\n",
       "</style>\n",
       "<table border=\"1\" class=\"dataframe\">\n",
       "  <thead>\n",
       "    <tr style=\"text-align: right;\">\n",
       "      <th></th>\n",
       "      <th>Unnamed: 0</th>\n",
       "      <th>name</th>\n",
       "      <th>review</th>\n",
       "      <th>index</th>\n",
       "      <th>Category</th>\n",
       "    </tr>\n",
       "  </thead>\n",
       "  <tbody>\n",
       "    <tr>\n",
       "      <th>0</th>\n",
       "      <td>0</td>\n",
       "      <td>Planetwise Flannel Wipes</td>\n",
       "      <td>These flannel wipes are OK, but in my opinion ...</td>\n",
       "      <td>0</td>\n",
       "      <td>Baby_Care</td>\n",
       "    </tr>\n",
       "    <tr>\n",
       "      <th>1</th>\n",
       "      <td>1</td>\n",
       "      <td>Planetwise Wipe Pouch</td>\n",
       "      <td>it came early and was not disappointed. i love...</td>\n",
       "      <td>1</td>\n",
       "      <td>Diapering</td>\n",
       "    </tr>\n",
       "    <tr>\n",
       "      <th>2</th>\n",
       "      <td>2</td>\n",
       "      <td>Annas Dream Full Quilt with 2 Shams</td>\n",
       "      <td>Very soft and comfortable and warmer than it l...</td>\n",
       "      <td>2</td>\n",
       "      <td>Nursery</td>\n",
       "    </tr>\n",
       "    <tr>\n",
       "      <th>3</th>\n",
       "      <td>3</td>\n",
       "      <td>Stop Pacifier Sucking without tears with Thumb...</td>\n",
       "      <td>This is a product well worth the purchase.  I ...</td>\n",
       "      <td>3</td>\n",
       "      <td>Baby_Care</td>\n",
       "    </tr>\n",
       "    <tr>\n",
       "      <th>4</th>\n",
       "      <td>4</td>\n",
       "      <td>Stop Pacifier Sucking without tears with Thumb...</td>\n",
       "      <td>All of my kids have cried non-stop when I trie...</td>\n",
       "      <td>4</td>\n",
       "      <td>Baby_Care</td>\n",
       "    </tr>\n",
       "    <tr>\n",
       "      <th>...</th>\n",
       "      <td>...</td>\n",
       "      <td>...</td>\n",
       "      <td>...</td>\n",
       "      <td>...</td>\n",
       "      <td>...</td>\n",
       "    </tr>\n",
       "    <tr>\n",
       "      <th>293</th>\n",
       "      <td>295</td>\n",
       "      <td>Arm's Reach Original Co-sleeper 100% Cotton Wh...</td>\n",
       "      <td>I would recommend getting cheaper sheets made ...</td>\n",
       "      <td>295</td>\n",
       "      <td>Baby_Care</td>\n",
       "    </tr>\n",
       "    <tr>\n",
       "      <th>294</th>\n",
       "      <td>296</td>\n",
       "      <td>Arm's Reach Original Co-sleeper 100% Cotton Wh...</td>\n",
       "      <td>This is a must for anyone who is buying the Co...</td>\n",
       "      <td>296</td>\n",
       "      <td>Baby_Care</td>\n",
       "    </tr>\n",
       "    <tr>\n",
       "      <th>295</th>\n",
       "      <td>297</td>\n",
       "      <td>Arm's Reach Original Co-sleeper 100% Cotton Wh...</td>\n",
       "      <td>love having her so close!!!!!!  allows for goo...</td>\n",
       "      <td>297</td>\n",
       "      <td>Baby_Care</td>\n",
       "    </tr>\n",
       "    <tr>\n",
       "      <th>296</th>\n",
       "      <td>298</td>\n",
       "      <td>Arm's Reach Original Co-sleeper 100% Cotton Wh...</td>\n",
       "      <td>We love this full sized co-sleeper that can at...</td>\n",
       "      <td>298</td>\n",
       "      <td>Baby_Care</td>\n",
       "    </tr>\n",
       "    <tr>\n",
       "      <th>297</th>\n",
       "      <td>299</td>\n",
       "      <td>Arm's Reach Original Co-sleeper 100% Cotton Wh...</td>\n",
       "      <td>hope these work  glad to have found this produ...</td>\n",
       "      <td>299</td>\n",
       "      <td>Baby_Care</td>\n",
       "    </tr>\n",
       "  </tbody>\n",
       "</table>\n",
       "<p>298 rows × 5 columns</p>\n",
       "</div>"
      ],
      "text/plain": [
       "     Unnamed: 0                                               name  \\\n",
       "0             0                           Planetwise Flannel Wipes   \n",
       "1             1                              Planetwise Wipe Pouch   \n",
       "2             2                Annas Dream Full Quilt with 2 Shams   \n",
       "3             3  Stop Pacifier Sucking without tears with Thumb...   \n",
       "4             4  Stop Pacifier Sucking without tears with Thumb...   \n",
       "..          ...                                                ...   \n",
       "293         295  Arm's Reach Original Co-sleeper 100% Cotton Wh...   \n",
       "294         296  Arm's Reach Original Co-sleeper 100% Cotton Wh...   \n",
       "295         297  Arm's Reach Original Co-sleeper 100% Cotton Wh...   \n",
       "296         298  Arm's Reach Original Co-sleeper 100% Cotton Wh...   \n",
       "297         299  Arm's Reach Original Co-sleeper 100% Cotton Wh...   \n",
       "\n",
       "                                                review  index   Category  \n",
       "0    These flannel wipes are OK, but in my opinion ...      0  Baby_Care  \n",
       "1    it came early and was not disappointed. i love...      1  Diapering  \n",
       "2    Very soft and comfortable and warmer than it l...      2    Nursery  \n",
       "3    This is a product well worth the purchase.  I ...      3  Baby_Care  \n",
       "4    All of my kids have cried non-stop when I trie...      4  Baby_Care  \n",
       "..                                                 ...    ...        ...  \n",
       "293  I would recommend getting cheaper sheets made ...    295  Baby_Care  \n",
       "294  This is a must for anyone who is buying the Co...    296  Baby_Care  \n",
       "295  love having her so close!!!!!!  allows for goo...    297  Baby_Care  \n",
       "296  We love this full sized co-sleeper that can at...    298  Baby_Care  \n",
       "297  hope these work  glad to have found this produ...    299  Baby_Care  \n",
       "\n",
       "[298 rows x 5 columns]"
      ]
     },
     "execution_count": 5,
     "metadata": {},
     "output_type": "execute_result"
    }
   ],
   "source": [
    "doc1=pd.read_csv(\"used1.csv\",sep=\";\")\n",
    "doc1"
   ]
  },
  {
   "cell_type": "markdown",
   "id": "3e850d15",
   "metadata": {},
   "source": [
    "# Lemmatization and preprocessing NLP step process."
   ]
  },
  {
   "cell_type": "code",
   "execution_count": 6,
   "id": "161da971",
   "metadata": {},
   "outputs": [
    {
     "name": "stderr",
     "output_type": "stream",
     "text": [
      "[nltk_data] Downloading package wordnet to /Users/deth/nltk_data...\n",
      "[nltk_data]   Package wordnet is already up-to-date!\n"
     ]
    },
    {
     "data": {
      "text/plain": [
       "True"
      ]
     },
     "execution_count": 6,
     "metadata": {},
     "output_type": "execute_result"
    }
   ],
   "source": [
    "import gensim\n",
    "from gensim.utils import simple_preprocess\n",
    "from gensim.parsing.preprocessing import STOPWORDS\n",
    "from nltk.stem import WordNetLemmatizer, SnowballStemmer\n",
    "import nltk.stem as stemmer\n",
    "from nltk.stem.porter import *\n",
    "import numpy as np\n",
    "np.random.seed(2018)\n",
    "import nltk\n",
    "nltk.download('wordnet')"
   ]
  },
  {
   "cell_type": "code",
   "execution_count": 7,
   "id": "519d95d1",
   "metadata": {},
   "outputs": [],
   "source": [
    "stemmer=PorterStemmer()\n",
    "def lemmatize_stemming(text):\n",
    "      return stemmer.stem(WordNetLemmatizer().lemmatize(text,pos='v'))\n",
    "\n",
    "def preprocess(text):\n",
    "    result=[]\n",
    "    for token in gensim.utils.simple_preprocess(text):\n",
    "        if token not in gensim.parsing.preprocessing.STOPWORDS and len(token) >3:\n",
    "              result.append(lemmatize_stemming(token))\n",
    "  \n",
    "    return result"
   ]
  },
  {
   "cell_type": "code",
   "execution_count": 8,
   "id": "5167415f",
   "metadata": {},
   "outputs": [
    {
     "name": "stderr",
     "output_type": "stream",
     "text": [
      "<ipython-input-8-73ec892119fb>:2: SettingWithCopyWarning: \n",
      "A value is trying to be set on a copy of a slice from a DataFrame.\n",
      "Try using .loc[row_indexer,col_indexer] = value instead\n",
      "\n",
      "See the caveats in the documentation: https://pandas.pydata.org/pandas-docs/stable/user_guide/indexing.html#returning-a-view-versus-a-copy\n",
      "  data_text['index']=data_text.index\n"
     ]
    }
   ],
   "source": [
    "data_text=doc1[[\"review\",\"Category\"]]\n",
    "data_text['index']=data_text.index\n",
    "\n",
    "documents=data_text\n"
   ]
  },
  {
   "cell_type": "code",
   "execution_count": 9,
   "id": "8a816d6d",
   "metadata": {},
   "outputs": [
    {
     "name": "stdout",
     "output_type": "stream",
     "text": [
      "original document\n",
      "['All', 'of', 'my', 'kids', 'have', 'cried', 'non-stop', 'when', 'I', 'tried', 'to', 'ween', 'them', 'off', 'their', 'pacifier,', 'until', 'I', 'found', 'Thumbuddy', 'To', \"Love's\", 'Binky', 'Fairy', 'Puppet.', '', 'It', 'is', 'an', 'easy', 'way', 'to', 'work', 'with', 'your', 'kids', 'to', 'allow', 'them', 'to', 'understand', 'where', 'their', 'pacifier', 'is', 'going', 'and', 'help', 'them', 'part', 'from', 'it.This', 'is', 'a', 'must', 'buy', 'book,', 'and', 'a', 'great', 'gift', 'for', 'expecting', 'parents!!', '', 'You', 'will', 'save', 'them', 'soo', 'many', 'headaches.Thanks', 'for', 'this', 'book!', '', 'You', 'all', 'rock!!']\n",
      "\n",
      "\n",
      " tokenized and lemmatized document: \n",
      "['kid', 'cri', 'stop', 'tri', 'ween', 'pacifi', 'thumbuddi', 'love', 'binki', 'fairi', 'puppet', 'easi', 'work', 'kid', 'allow', 'understand', 'pacifi', 'go', 'help', 'book', 'great', 'gift', 'expect', 'parent', 'save', 'headach', 'thank', 'book', 'rock']\n"
     ]
    }
   ],
   "source": [
    "doc_sample=documents[documents['index']==4].values[0][0]\n",
    "print('original document')\n",
    "words=[]\n",
    "for word in doc_sample.split(' '):\n",
    "      words.append(word)\n",
    "print(words)\n",
    "print('\\n\\n tokenized and lemmatized document: ')\n",
    "print(preprocess(doc_sample))"
   ]
  },
  {
   "cell_type": "code",
   "execution_count": 10,
   "id": "ca4b5503",
   "metadata": {},
   "outputs": [
    {
     "name": "stderr",
     "output_type": "stream",
     "text": [
      "<ipython-input-10-00cd468fc166>:1: SettingWithCopyWarning: \n",
      "A value is trying to be set on a copy of a slice from a DataFrame\n",
      "\n",
      "See the caveats in the documentation: https://pandas.pydata.org/pandas-docs/stable/user_guide/indexing.html#returning-a-view-versus-a-copy\n",
      "  documents.dropna(subset = [\"review\"], inplace=True) # drop those rows which have NaN value cells\n"
     ]
    }
   ],
   "source": [
    "documents.dropna(subset = [\"review\"], inplace=True) # drop those rows which have NaN value cells\n"
   ]
  },
  {
   "cell_type": "code",
   "execution_count": 11,
   "id": "67e1393e",
   "metadata": {},
   "outputs": [
    {
     "data": {
      "text/plain": [
       "0      [flannel, wipe, opinion, worth, keep, order, s...\n",
       "1      [come, earli, disappoint, love, planet, wise, ...\n",
       "2      [soft, comfort, warmer, look, size, perfectli,...\n",
       "3      [product, worth, purchas, like, posit, ingeni,...\n",
       "4      [kid, cri, stop, tri, ween, pacifi, thumbuddi,...\n",
       "                             ...                        \n",
       "293    [recommend, get, cheaper, sheet, playpen, star...\n",
       "294    [buy, sleeper, add, comfort, easili, clean, su...\n",
       "295    [love, have, close, allow, good, interact, eas...\n",
       "296    [love, size, sleeper, attach, stand, bassinet,...\n",
       "297    [hope, work, glad, product, easi, task, hope, ...\n",
       "Name: review, Length: 298, dtype: object"
      ]
     },
     "execution_count": 11,
     "metadata": {},
     "output_type": "execute_result"
    }
   ],
   "source": [
    "processed_docs = documents['review'].map(preprocess)\n",
    "processed_docs"
   ]
  },
  {
   "cell_type": "code",
   "execution_count": 12,
   "id": "fa864267",
   "metadata": {},
   "outputs": [
    {
     "name": "stdout",
     "output_type": "stream",
     "text": [
      "0 blue\n",
      "1 boyfor\n",
      "2 cloth\n",
      "3 countwhich\n",
      "4 face\n",
      "5 flannel\n",
      "6 hand\n",
      "7 handl\n",
      "8 higher\n",
      "9 issu\n",
      "10 keep\n"
     ]
    }
   ],
   "source": [
    "\n",
    "dictionary=gensim.corpora.Dictionary(processed_docs)\n",
    "count=0\n",
    "\n",
    "for k,v in dictionary.iteritems():\n",
    "    print(k,v)\n",
    "    count+=1\n",
    "    if count>10:\n",
    "        break"
   ]
  },
  {
   "cell_type": "code",
   "execution_count": 13,
   "id": "5369b011",
   "metadata": {},
   "outputs": [],
   "source": [
    "dictionary.filter_extremes(no_below=15,no_above=0.5)\n"
   ]
  },
  {
   "cell_type": "code",
   "execution_count": 14,
   "id": "e8068a9a",
   "metadata": {},
   "outputs": [
    {
     "data": {
      "text/plain": [
       "[(7, 1),\n",
       " (17, 2),\n",
       " (18, 1),\n",
       " (19, 1),\n",
       " (20, 1),\n",
       " (21, 1),\n",
       " (22, 1),\n",
       " (23, 1),\n",
       " (24, 1),\n",
       " (25, 1)]"
      ]
     },
     "execution_count": 14,
     "metadata": {},
     "output_type": "execute_result"
    }
   ],
   "source": [
    "bow_corpus=[dictionary.doc2bow(doc) for doc in processed_docs]\n",
    "bow_corpus[4]"
   ]
  },
  {
   "cell_type": "code",
   "execution_count": 15,
   "id": "fb2fd1c0",
   "metadata": {},
   "outputs": [
    {
     "name": "stdout",
     "output_type": "stream",
     "text": [
      "Word 7 (\"love\") appears 1 time.\n",
      "Word 17 (\"book\") appears 2 time.\n",
      "Word 18 (\"easi\") appears 1 time.\n",
      "Word 19 (\"gift\") appears 1 time.\n",
      "Word 20 (\"go\") appears 1 time.\n",
      "Word 21 (\"great\") appears 1 time.\n",
      "Word 22 (\"help\") appears 1 time.\n",
      "Word 23 (\"parent\") appears 1 time.\n",
      "Word 24 (\"tri\") appears 1 time.\n",
      "Word 25 (\"work\") appears 1 time.\n"
     ]
    }
   ],
   "source": [
    "bow_doc_4=bow_corpus[4]\n",
    "for i in range(len(bow_doc_4)):\n",
    "    print(\"Word {} (\\\"{}\\\") appears {} time.\".format(bow_doc_4[i][0], \n",
    "                                               dictionary[bow_doc_4[i][0]], \n",
    "bow_doc_4[i][1]))"
   ]
  },
  {
   "cell_type": "code",
   "execution_count": 16,
   "id": "c382f0a2",
   "metadata": {},
   "outputs": [
    {
     "name": "stdout",
     "output_type": "stream",
     "text": [
      "[(0, 0.45847048521946704),\n",
      " (1, 0.5157692749209133),\n",
      " (2, 0.24637037896272043),\n",
      " (3, 0.48908461115407986),\n",
      " (4, 0.4731646106084116)]\n"
     ]
    }
   ],
   "source": [
    "from gensim import corpora, models\n",
    "tfidf=models.TfidfModel(bow_corpus)\n",
    "corpus_tfidf=tfidf[bow_corpus]\n",
    "\n",
    "from pprint import pprint\n",
    "\n",
    "for doc in corpus_tfidf:\n",
    "  pprint(doc)\n",
    "  break"
   ]
  },
  {
   "cell_type": "code",
   "execution_count": 17,
   "id": "6d704ef7",
   "metadata": {},
   "outputs": [],
   "source": [
    "df=pd.DataFrame(processed_docs)"
   ]
  },
  {
   "cell_type": "code",
   "execution_count": 18,
   "id": "d4aea0dd",
   "metadata": {},
   "outputs": [
    {
     "data": {
      "text/html": [
       "<div>\n",
       "<style scoped>\n",
       "    .dataframe tbody tr th:only-of-type {\n",
       "        vertical-align: middle;\n",
       "    }\n",
       "\n",
       "    .dataframe tbody tr th {\n",
       "        vertical-align: top;\n",
       "    }\n",
       "\n",
       "    .dataframe thead th {\n",
       "        text-align: right;\n",
       "    }\n",
       "</style>\n",
       "<table border=\"1\" class=\"dataframe\">\n",
       "  <thead>\n",
       "    <tr style=\"text-align: right;\">\n",
       "      <th></th>\n",
       "      <th>review</th>\n",
       "    </tr>\n",
       "  </thead>\n",
       "  <tbody>\n",
       "    <tr>\n",
       "      <th>0</th>\n",
       "      <td>[flannel, wipe, opinion, worth, keep, order, s...</td>\n",
       "    </tr>\n",
       "    <tr>\n",
       "      <th>1</th>\n",
       "      <td>[come, earli, disappoint, love, planet, wise, ...</td>\n",
       "    </tr>\n",
       "    <tr>\n",
       "      <th>2</th>\n",
       "      <td>[soft, comfort, warmer, look, size, perfectli,...</td>\n",
       "    </tr>\n",
       "    <tr>\n",
       "      <th>3</th>\n",
       "      <td>[product, worth, purchas, like, posit, ingeni,...</td>\n",
       "    </tr>\n",
       "    <tr>\n",
       "      <th>4</th>\n",
       "      <td>[kid, cri, stop, tri, ween, pacifi, thumbuddi,...</td>\n",
       "    </tr>\n",
       "    <tr>\n",
       "      <th>...</th>\n",
       "      <td>...</td>\n",
       "    </tr>\n",
       "    <tr>\n",
       "      <th>293</th>\n",
       "      <td>[recommend, get, cheaper, sheet, playpen, star...</td>\n",
       "    </tr>\n",
       "    <tr>\n",
       "      <th>294</th>\n",
       "      <td>[buy, sleeper, add, comfort, easili, clean, su...</td>\n",
       "    </tr>\n",
       "    <tr>\n",
       "      <th>295</th>\n",
       "      <td>[love, have, close, allow, good, interact, eas...</td>\n",
       "    </tr>\n",
       "    <tr>\n",
       "      <th>296</th>\n",
       "      <td>[love, size, sleeper, attach, stand, bassinet,...</td>\n",
       "    </tr>\n",
       "    <tr>\n",
       "      <th>297</th>\n",
       "      <td>[hope, work, glad, product, easi, task, hope, ...</td>\n",
       "    </tr>\n",
       "  </tbody>\n",
       "</table>\n",
       "<p>298 rows × 1 columns</p>\n",
       "</div>"
      ],
      "text/plain": [
       "                                                review\n",
       "0    [flannel, wipe, opinion, worth, keep, order, s...\n",
       "1    [come, earli, disappoint, love, planet, wise, ...\n",
       "2    [soft, comfort, warmer, look, size, perfectli,...\n",
       "3    [product, worth, purchas, like, posit, ingeni,...\n",
       "4    [kid, cri, stop, tri, ween, pacifi, thumbuddi,...\n",
       "..                                                 ...\n",
       "293  [recommend, get, cheaper, sheet, playpen, star...\n",
       "294  [buy, sleeper, add, comfort, easili, clean, su...\n",
       "295  [love, have, close, allow, good, interact, eas...\n",
       "296  [love, size, sleeper, attach, stand, bassinet,...\n",
       "297  [hope, work, glad, product, easi, task, hope, ...\n",
       "\n",
       "[298 rows x 1 columns]"
      ]
     },
     "execution_count": 18,
     "metadata": {},
     "output_type": "execute_result"
    }
   ],
   "source": [
    "df"
   ]
  },
  {
   "cell_type": "code",
   "execution_count": 19,
   "id": "ecb80a90",
   "metadata": {},
   "outputs": [
    {
     "name": "stdout",
     "output_type": "stream",
     "text": [
      "\u001b[38;5;3m⚠ As of spaCy v3.0, shortcuts like 'en' are deprecated. Please use the\n",
      "full pipeline package name 'en_core_web_sm' instead.\u001b[0m\n",
      "Collecting en-core-web-sm==3.2.0\n",
      "  Downloading https://github.com/explosion/spacy-models/releases/download/en_core_web_sm-3.2.0/en_core_web_sm-3.2.0-py3-none-any.whl (13.9 MB)\n",
      "     |████████████████████████████████| 13.9 MB 207 kB/s            \n",
      "\u001b[?25hRequirement already satisfied: spacy<3.3.0,>=3.2.0 in /Users/deth/opt/anaconda3/lib/python3.8/site-packages (from en-core-web-sm==3.2.0) (3.2.1)\n",
      "Requirement already satisfied: spacy-legacy<3.1.0,>=3.0.8 in /Users/deth/opt/anaconda3/lib/python3.8/site-packages (from spacy<3.3.0,>=3.2.0->en-core-web-sm==3.2.0) (3.0.8)\n",
      "Requirement already satisfied: blis<0.8.0,>=0.4.0 in /Users/deth/opt/anaconda3/lib/python3.8/site-packages (from spacy<3.3.0,>=3.2.0->en-core-web-sm==3.2.0) (0.7.5)\n",
      "Requirement already satisfied: preshed<3.1.0,>=3.0.2 in /Users/deth/opt/anaconda3/lib/python3.8/site-packages (from spacy<3.3.0,>=3.2.0->en-core-web-sm==3.2.0) (3.0.6)\n",
      "Requirement already satisfied: pathy>=0.3.5 in /Users/deth/opt/anaconda3/lib/python3.8/site-packages (from spacy<3.3.0,>=3.2.0->en-core-web-sm==3.2.0) (0.6.1)\n",
      "Requirement already satisfied: thinc<8.1.0,>=8.0.12 in /Users/deth/opt/anaconda3/lib/python3.8/site-packages (from spacy<3.3.0,>=3.2.0->en-core-web-sm==3.2.0) (8.0.13)\n",
      "Requirement already satisfied: langcodes<4.0.0,>=3.2.0 in /Users/deth/opt/anaconda3/lib/python3.8/site-packages (from spacy<3.3.0,>=3.2.0->en-core-web-sm==3.2.0) (3.3.0)\n",
      "Requirement already satisfied: packaging>=20.0 in /Users/deth/opt/anaconda3/lib/python3.8/site-packages (from spacy<3.3.0,>=3.2.0->en-core-web-sm==3.2.0) (20.9)\n",
      "Requirement already satisfied: tqdm<5.0.0,>=4.38.0 in /Users/deth/opt/anaconda3/lib/python3.8/site-packages (from spacy<3.3.0,>=3.2.0->en-core-web-sm==3.2.0) (4.59.0)\n",
      "Requirement already satisfied: setuptools in /Users/deth/opt/anaconda3/lib/python3.8/site-packages (from spacy<3.3.0,>=3.2.0->en-core-web-sm==3.2.0) (60.5.0)\n",
      "Requirement already satisfied: requests<3.0.0,>=2.13.0 in /Users/deth/opt/anaconda3/lib/python3.8/site-packages (from spacy<3.3.0,>=3.2.0->en-core-web-sm==3.2.0) (2.25.1)\n",
      "Requirement already satisfied: cymem<2.1.0,>=2.0.2 in /Users/deth/opt/anaconda3/lib/python3.8/site-packages (from spacy<3.3.0,>=3.2.0->en-core-web-sm==3.2.0) (2.0.6)\n",
      "Requirement already satisfied: murmurhash<1.1.0,>=0.28.0 in /Users/deth/opt/anaconda3/lib/python3.8/site-packages (from spacy<3.3.0,>=3.2.0->en-core-web-sm==3.2.0) (1.0.6)\n",
      "Requirement already satisfied: jinja2 in /Users/deth/opt/anaconda3/lib/python3.8/site-packages (from spacy<3.3.0,>=3.2.0->en-core-web-sm==3.2.0) (2.11.3)\n",
      "Requirement already satisfied: pydantic!=1.8,!=1.8.1,<1.9.0,>=1.7.4 in /Users/deth/opt/anaconda3/lib/python3.8/site-packages (from spacy<3.3.0,>=3.2.0->en-core-web-sm==3.2.0) (1.8.2)\n",
      "Requirement already satisfied: spacy-loggers<2.0.0,>=1.0.0 in /Users/deth/opt/anaconda3/lib/python3.8/site-packages (from spacy<3.3.0,>=3.2.0->en-core-web-sm==3.2.0) (1.0.1)\n",
      "Requirement already satisfied: srsly<3.0.0,>=2.4.1 in /Users/deth/opt/anaconda3/lib/python3.8/site-packages (from spacy<3.3.0,>=3.2.0->en-core-web-sm==3.2.0) (2.4.2)\n",
      "Requirement already satisfied: catalogue<2.1.0,>=2.0.6 in /Users/deth/opt/anaconda3/lib/python3.8/site-packages (from spacy<3.3.0,>=3.2.0->en-core-web-sm==3.2.0) (2.0.6)\n",
      "Requirement already satisfied: wasabi<1.1.0,>=0.8.1 in /Users/deth/opt/anaconda3/lib/python3.8/site-packages (from spacy<3.3.0,>=3.2.0->en-core-web-sm==3.2.0) (0.9.0)\n",
      "Requirement already satisfied: typer<0.5.0,>=0.3.0 in /Users/deth/opt/anaconda3/lib/python3.8/site-packages (from spacy<3.3.0,>=3.2.0->en-core-web-sm==3.2.0) (0.4.0)\n",
      "Requirement already satisfied: numpy>=1.15.0 in /Users/deth/opt/anaconda3/lib/python3.8/site-packages (from spacy<3.3.0,>=3.2.0->en-core-web-sm==3.2.0) (1.20.1)\n",
      "Requirement already satisfied: pyparsing>=2.0.2 in /Users/deth/opt/anaconda3/lib/python3.8/site-packages (from packaging>=20.0->spacy<3.3.0,>=3.2.0->en-core-web-sm==3.2.0) (2.4.7)\n",
      "Requirement already satisfied: smart-open<6.0.0,>=5.0.0 in /Users/deth/opt/anaconda3/lib/python3.8/site-packages (from pathy>=0.3.5->spacy<3.3.0,>=3.2.0->en-core-web-sm==3.2.0) (5.2.1)\n",
      "Requirement already satisfied: typing-extensions>=3.7.4.3 in /Users/deth/opt/anaconda3/lib/python3.8/site-packages (from pydantic!=1.8,!=1.8.1,<1.9.0,>=1.7.4->spacy<3.3.0,>=3.2.0->en-core-web-sm==3.2.0) (3.7.4.3)\n",
      "Requirement already satisfied: chardet<5,>=3.0.2 in /Users/deth/opt/anaconda3/lib/python3.8/site-packages (from requests<3.0.0,>=2.13.0->spacy<3.3.0,>=3.2.0->en-core-web-sm==3.2.0) (4.0.0)\n",
      "Requirement already satisfied: certifi>=2017.4.17 in /Users/deth/opt/anaconda3/lib/python3.8/site-packages (from requests<3.0.0,>=2.13.0->spacy<3.3.0,>=3.2.0->en-core-web-sm==3.2.0) (2020.12.5)\n",
      "Requirement already satisfied: urllib3<1.27,>=1.21.1 in /Users/deth/opt/anaconda3/lib/python3.8/site-packages (from requests<3.0.0,>=2.13.0->spacy<3.3.0,>=3.2.0->en-core-web-sm==3.2.0) (1.26.4)\n",
      "Requirement already satisfied: idna<3,>=2.5 in /Users/deth/opt/anaconda3/lib/python3.8/site-packages (from requests<3.0.0,>=2.13.0->spacy<3.3.0,>=3.2.0->en-core-web-sm==3.2.0) (2.10)\n",
      "Requirement already satisfied: click<9.0.0,>=7.1.1 in /Users/deth/opt/anaconda3/lib/python3.8/site-packages (from typer<0.5.0,>=0.3.0->spacy<3.3.0,>=3.2.0->en-core-web-sm==3.2.0) (7.1.2)\n",
      "Requirement already satisfied: MarkupSafe>=0.23 in /Users/deth/opt/anaconda3/lib/python3.8/site-packages (from jinja2->spacy<3.3.0,>=3.2.0->en-core-web-sm==3.2.0) (1.1.1)\n",
      "\u001b[38;5;2m✔ Download and installation successful\u001b[0m\n",
      "You can now load the package via spacy.load('en_core_web_sm')\n"
     ]
    }
   ],
   "source": [
    "!python3 -m spacy download en\n"
   ]
  },
  {
   "cell_type": "code",
   "execution_count": 20,
   "id": "f4089164",
   "metadata": {},
   "outputs": [
    {
     "name": "stdout",
     "output_type": "stream",
     "text": [
      "Requirement already satisfied: pyLDAvis in /Users/deth/opt/anaconda3/lib/python3.8/site-packages (3.3.1)\n",
      "Requirement already satisfied: sklearn in /Users/deth/opt/anaconda3/lib/python3.8/site-packages (from pyLDAvis) (0.0)\n",
      "Requirement already satisfied: scipy in /Users/deth/opt/anaconda3/lib/python3.8/site-packages (from pyLDAvis) (1.6.2)\n",
      "Requirement already satisfied: joblib in /Users/deth/opt/anaconda3/lib/python3.8/site-packages (from pyLDAvis) (1.0.1)\n",
      "Requirement already satisfied: setuptools in /Users/deth/opt/anaconda3/lib/python3.8/site-packages (from pyLDAvis) (60.5.0)\n",
      "Requirement already satisfied: scikit-learn in /Users/deth/opt/anaconda3/lib/python3.8/site-packages (from pyLDAvis) (0.24.1)\n",
      "Requirement already satisfied: numexpr in /Users/deth/opt/anaconda3/lib/python3.8/site-packages (from pyLDAvis) (2.7.3)\n",
      "Requirement already satisfied: gensim in /Users/deth/opt/anaconda3/lib/python3.8/site-packages (from pyLDAvis) (3.8.3)\n",
      "Requirement already satisfied: funcy in /Users/deth/opt/anaconda3/lib/python3.8/site-packages (from pyLDAvis) (1.17)\n",
      "Requirement already satisfied: pandas>=1.2.0 in /Users/deth/opt/anaconda3/lib/python3.8/site-packages (from pyLDAvis) (1.2.4)\n",
      "Requirement already satisfied: jinja2 in /Users/deth/opt/anaconda3/lib/python3.8/site-packages (from pyLDAvis) (2.11.3)\n",
      "Requirement already satisfied: numpy>=1.20.0 in /Users/deth/opt/anaconda3/lib/python3.8/site-packages (from pyLDAvis) (1.20.1)\n",
      "Requirement already satisfied: future in /Users/deth/opt/anaconda3/lib/python3.8/site-packages (from pyLDAvis) (0.18.2)\n",
      "Requirement already satisfied: python-dateutil>=2.7.3 in /Users/deth/opt/anaconda3/lib/python3.8/site-packages (from pandas>=1.2.0->pyLDAvis) (2.8.1)\n",
      "Requirement already satisfied: pytz>=2017.3 in /Users/deth/opt/anaconda3/lib/python3.8/site-packages (from pandas>=1.2.0->pyLDAvis) (2021.1)\n",
      "Requirement already satisfied: smart-open>=1.8.1 in /Users/deth/opt/anaconda3/lib/python3.8/site-packages (from gensim->pyLDAvis) (5.2.1)\n",
      "Requirement already satisfied: six>=1.5.0 in /Users/deth/opt/anaconda3/lib/python3.8/site-packages (from gensim->pyLDAvis) (1.15.0)\n",
      "Requirement already satisfied: MarkupSafe>=0.23 in /Users/deth/opt/anaconda3/lib/python3.8/site-packages (from jinja2->pyLDAvis) (1.1.1)\n",
      "Requirement already satisfied: threadpoolctl>=2.0.0 in /Users/deth/opt/anaconda3/lib/python3.8/site-packages (from scikit-learn->pyLDAvis) (2.1.0)\n"
     ]
    }
   ],
   "source": [
    "!pip3 install pyLDAvis"
   ]
  },
  {
   "cell_type": "code",
   "execution_count": 21,
   "id": "4e6fa4be",
   "metadata": {},
   "outputs": [
    {
     "name": "stdout",
     "output_type": "stream",
     "text": [
      "\u001b[31mERROR: Could not find a version that satisfies the requirement pyLDAvis.gensim (from versions: none)\u001b[0m\r\n",
      "\u001b[31mERROR: No matching distribution found for pyLDAvis.gensim\u001b[0m\r\n"
     ]
    }
   ],
   "source": [
    "!pip3 install pyLDAvis.gensim"
   ]
  },
  {
   "cell_type": "code",
   "execution_count": 22,
   "id": "4a5efcd8",
   "metadata": {},
   "outputs": [
    {
     "name": "stderr",
     "output_type": "stream",
     "text": [
      "[nltk_data] Downloading package stopwords to /Users/deth/nltk_data...\n",
      "[nltk_data]   Package stopwords is already up-to-date!\n"
     ]
    },
    {
     "name": "stdout",
     "output_type": "stream",
     "text": [
      "Requirement already satisfied: pip in /Users/deth/opt/anaconda3/lib/python3.8/site-packages (21.3.1)\n",
      "Requirement already satisfied: setuptools in /Users/deth/opt/anaconda3/lib/python3.8/site-packages (60.5.0)\n",
      "Requirement already satisfied: wheel in /Users/deth/opt/anaconda3/lib/python3.8/site-packages (0.37.1)\n",
      "Requirement already satisfied: spacy in /Users/deth/opt/anaconda3/lib/python3.8/site-packages (3.2.1)\n",
      "Requirement already satisfied: langcodes<4.0.0,>=3.2.0 in /Users/deth/opt/anaconda3/lib/python3.8/site-packages (from spacy) (3.3.0)\n",
      "Requirement already satisfied: packaging>=20.0 in /Users/deth/opt/anaconda3/lib/python3.8/site-packages (from spacy) (20.9)\n",
      "Requirement already satisfied: spacy-legacy<3.1.0,>=3.0.8 in /Users/deth/opt/anaconda3/lib/python3.8/site-packages (from spacy) (3.0.8)\n",
      "Requirement already satisfied: jinja2 in /Users/deth/opt/anaconda3/lib/python3.8/site-packages (from spacy) (2.11.3)\n",
      "Requirement already satisfied: spacy-loggers<2.0.0,>=1.0.0 in /Users/deth/opt/anaconda3/lib/python3.8/site-packages (from spacy) (1.0.1)\n",
      "Requirement already satisfied: catalogue<2.1.0,>=2.0.6 in /Users/deth/opt/anaconda3/lib/python3.8/site-packages (from spacy) (2.0.6)\n",
      "Requirement already satisfied: tqdm<5.0.0,>=4.38.0 in /Users/deth/opt/anaconda3/lib/python3.8/site-packages (from spacy) (4.59.0)\n",
      "Requirement already satisfied: typer<0.5.0,>=0.3.0 in /Users/deth/opt/anaconda3/lib/python3.8/site-packages (from spacy) (0.4.0)\n",
      "Requirement already satisfied: cymem<2.1.0,>=2.0.2 in /Users/deth/opt/anaconda3/lib/python3.8/site-packages (from spacy) (2.0.6)\n",
      "Requirement already satisfied: setuptools in /Users/deth/opt/anaconda3/lib/python3.8/site-packages (from spacy) (60.5.0)\n",
      "Requirement already satisfied: thinc<8.1.0,>=8.0.12 in /Users/deth/opt/anaconda3/lib/python3.8/site-packages (from spacy) (8.0.13)\n",
      "Requirement already satisfied: murmurhash<1.1.0,>=0.28.0 in /Users/deth/opt/anaconda3/lib/python3.8/site-packages (from spacy) (1.0.6)\n",
      "Requirement already satisfied: pydantic!=1.8,!=1.8.1,<1.9.0,>=1.7.4 in /Users/deth/opt/anaconda3/lib/python3.8/site-packages (from spacy) (1.8.2)\n",
      "Requirement already satisfied: pathy>=0.3.5 in /Users/deth/opt/anaconda3/lib/python3.8/site-packages (from spacy) (0.6.1)\n",
      "Requirement already satisfied: wasabi<1.1.0,>=0.8.1 in /Users/deth/opt/anaconda3/lib/python3.8/site-packages (from spacy) (0.9.0)\n",
      "Requirement already satisfied: blis<0.8.0,>=0.4.0 in /Users/deth/opt/anaconda3/lib/python3.8/site-packages (from spacy) (0.7.5)\n",
      "Requirement already satisfied: preshed<3.1.0,>=3.0.2 in /Users/deth/opt/anaconda3/lib/python3.8/site-packages (from spacy) (3.0.6)\n",
      "Requirement already satisfied: requests<3.0.0,>=2.13.0 in /Users/deth/opt/anaconda3/lib/python3.8/site-packages (from spacy) (2.25.1)\n",
      "Requirement already satisfied: srsly<3.0.0,>=2.4.1 in /Users/deth/opt/anaconda3/lib/python3.8/site-packages (from spacy) (2.4.2)\n",
      "Requirement already satisfied: numpy>=1.15.0 in /Users/deth/opt/anaconda3/lib/python3.8/site-packages (from spacy) (1.20.1)\n",
      "Requirement already satisfied: pyparsing>=2.0.2 in /Users/deth/opt/anaconda3/lib/python3.8/site-packages (from packaging>=20.0->spacy) (2.4.7)\n",
      "Requirement already satisfied: smart-open<6.0.0,>=5.0.0 in /Users/deth/opt/anaconda3/lib/python3.8/site-packages (from pathy>=0.3.5->spacy) (5.2.1)\n",
      "Requirement already satisfied: typing-extensions>=3.7.4.3 in /Users/deth/opt/anaconda3/lib/python3.8/site-packages (from pydantic!=1.8,!=1.8.1,<1.9.0,>=1.7.4->spacy) (3.7.4.3)\n",
      "Requirement already satisfied: certifi>=2017.4.17 in /Users/deth/opt/anaconda3/lib/python3.8/site-packages (from requests<3.0.0,>=2.13.0->spacy) (2020.12.5)\n",
      "Requirement already satisfied: idna<3,>=2.5 in /Users/deth/opt/anaconda3/lib/python3.8/site-packages (from requests<3.0.0,>=2.13.0->spacy) (2.10)\n",
      "Requirement already satisfied: urllib3<1.27,>=1.21.1 in /Users/deth/opt/anaconda3/lib/python3.8/site-packages (from requests<3.0.0,>=2.13.0->spacy) (1.26.4)\n",
      "Requirement already satisfied: chardet<5,>=3.0.2 in /Users/deth/opt/anaconda3/lib/python3.8/site-packages (from requests<3.0.0,>=2.13.0->spacy) (4.0.0)\n",
      "Requirement already satisfied: click<9.0.0,>=7.1.1 in /Users/deth/opt/anaconda3/lib/python3.8/site-packages (from typer<0.5.0,>=0.3.0->spacy) (7.1.2)\n",
      "Requirement already satisfied: MarkupSafe>=0.23 in /Users/deth/opt/anaconda3/lib/python3.8/site-packages (from jinja2->spacy) (1.1.1)\n",
      "Collecting en-core-web-sm==3.2.0\n",
      "  Using cached https://github.com/explosion/spacy-models/releases/download/en_core_web_sm-3.2.0/en_core_web_sm-3.2.0-py3-none-any.whl (13.9 MB)\n",
      "Requirement already satisfied: spacy<3.3.0,>=3.2.0 in /Users/deth/opt/anaconda3/lib/python3.8/site-packages (from en-core-web-sm==3.2.0) (3.2.1)\n",
      "Requirement already satisfied: typer<0.5.0,>=0.3.0 in /Users/deth/opt/anaconda3/lib/python3.8/site-packages (from spacy<3.3.0,>=3.2.0->en-core-web-sm==3.2.0) (0.4.0)\n",
      "Requirement already satisfied: wasabi<1.1.0,>=0.8.1 in /Users/deth/opt/anaconda3/lib/python3.8/site-packages (from spacy<3.3.0,>=3.2.0->en-core-web-sm==3.2.0) (0.9.0)\n",
      "Requirement already satisfied: spacy-legacy<3.1.0,>=3.0.8 in /Users/deth/opt/anaconda3/lib/python3.8/site-packages (from spacy<3.3.0,>=3.2.0->en-core-web-sm==3.2.0) (3.0.8)\n",
      "Requirement already satisfied: numpy>=1.15.0 in /Users/deth/opt/anaconda3/lib/python3.8/site-packages (from spacy<3.3.0,>=3.2.0->en-core-web-sm==3.2.0) (1.20.1)\n",
      "Requirement already satisfied: setuptools in /Users/deth/opt/anaconda3/lib/python3.8/site-packages (from spacy<3.3.0,>=3.2.0->en-core-web-sm==3.2.0) (60.5.0)\n",
      "Requirement already satisfied: srsly<3.0.0,>=2.4.1 in /Users/deth/opt/anaconda3/lib/python3.8/site-packages (from spacy<3.3.0,>=3.2.0->en-core-web-sm==3.2.0) (2.4.2)\n",
      "Requirement already satisfied: spacy-loggers<2.0.0,>=1.0.0 in /Users/deth/opt/anaconda3/lib/python3.8/site-packages (from spacy<3.3.0,>=3.2.0->en-core-web-sm==3.2.0) (1.0.1)\n",
      "Requirement already satisfied: preshed<3.1.0,>=3.0.2 in /Users/deth/opt/anaconda3/lib/python3.8/site-packages (from spacy<3.3.0,>=3.2.0->en-core-web-sm==3.2.0) (3.0.6)\n",
      "Requirement already satisfied: blis<0.8.0,>=0.4.0 in /Users/deth/opt/anaconda3/lib/python3.8/site-packages (from spacy<3.3.0,>=3.2.0->en-core-web-sm==3.2.0) (0.7.5)\n",
      "Requirement already satisfied: pydantic!=1.8,!=1.8.1,<1.9.0,>=1.7.4 in /Users/deth/opt/anaconda3/lib/python3.8/site-packages (from spacy<3.3.0,>=3.2.0->en-core-web-sm==3.2.0) (1.8.2)\n",
      "Requirement already satisfied: requests<3.0.0,>=2.13.0 in /Users/deth/opt/anaconda3/lib/python3.8/site-packages (from spacy<3.3.0,>=3.2.0->en-core-web-sm==3.2.0) (2.25.1)\n",
      "Requirement already satisfied: cymem<2.1.0,>=2.0.2 in /Users/deth/opt/anaconda3/lib/python3.8/site-packages (from spacy<3.3.0,>=3.2.0->en-core-web-sm==3.2.0) (2.0.6)\n",
      "Requirement already satisfied: catalogue<2.1.0,>=2.0.6 in /Users/deth/opt/anaconda3/lib/python3.8/site-packages (from spacy<3.3.0,>=3.2.0->en-core-web-sm==3.2.0) (2.0.6)\n",
      "Requirement already satisfied: packaging>=20.0 in /Users/deth/opt/anaconda3/lib/python3.8/site-packages (from spacy<3.3.0,>=3.2.0->en-core-web-sm==3.2.0) (20.9)\n",
      "Requirement already satisfied: langcodes<4.0.0,>=3.2.0 in /Users/deth/opt/anaconda3/lib/python3.8/site-packages (from spacy<3.3.0,>=3.2.0->en-core-web-sm==3.2.0) (3.3.0)\n",
      "Requirement already satisfied: pathy>=0.3.5 in /Users/deth/opt/anaconda3/lib/python3.8/site-packages (from spacy<3.3.0,>=3.2.0->en-core-web-sm==3.2.0) (0.6.1)\n",
      "Requirement already satisfied: murmurhash<1.1.0,>=0.28.0 in /Users/deth/opt/anaconda3/lib/python3.8/site-packages (from spacy<3.3.0,>=3.2.0->en-core-web-sm==3.2.0) (1.0.6)\n",
      "Requirement already satisfied: tqdm<5.0.0,>=4.38.0 in /Users/deth/opt/anaconda3/lib/python3.8/site-packages (from spacy<3.3.0,>=3.2.0->en-core-web-sm==3.2.0) (4.59.0)\n",
      "Requirement already satisfied: thinc<8.1.0,>=8.0.12 in /Users/deth/opt/anaconda3/lib/python3.8/site-packages (from spacy<3.3.0,>=3.2.0->en-core-web-sm==3.2.0) (8.0.13)\n",
      "Requirement already satisfied: jinja2 in /Users/deth/opt/anaconda3/lib/python3.8/site-packages (from spacy<3.3.0,>=3.2.0->en-core-web-sm==3.2.0) (2.11.3)\n",
      "Requirement already satisfied: pyparsing>=2.0.2 in /Users/deth/opt/anaconda3/lib/python3.8/site-packages (from packaging>=20.0->spacy<3.3.0,>=3.2.0->en-core-web-sm==3.2.0) (2.4.7)\n",
      "Requirement already satisfied: smart-open<6.0.0,>=5.0.0 in /Users/deth/opt/anaconda3/lib/python3.8/site-packages (from pathy>=0.3.5->spacy<3.3.0,>=3.2.0->en-core-web-sm==3.2.0) (5.2.1)\n",
      "Requirement already satisfied: typing-extensions>=3.7.4.3 in /Users/deth/opt/anaconda3/lib/python3.8/site-packages (from pydantic!=1.8,!=1.8.1,<1.9.0,>=1.7.4->spacy<3.3.0,>=3.2.0->en-core-web-sm==3.2.0) (3.7.4.3)\n",
      "Requirement already satisfied: certifi>=2017.4.17 in /Users/deth/opt/anaconda3/lib/python3.8/site-packages (from requests<3.0.0,>=2.13.0->spacy<3.3.0,>=3.2.0->en-core-web-sm==3.2.0) (2020.12.5)\n",
      "Requirement already satisfied: idna<3,>=2.5 in /Users/deth/opt/anaconda3/lib/python3.8/site-packages (from requests<3.0.0,>=2.13.0->spacy<3.3.0,>=3.2.0->en-core-web-sm==3.2.0) (2.10)\n",
      "Requirement already satisfied: chardet<5,>=3.0.2 in /Users/deth/opt/anaconda3/lib/python3.8/site-packages (from requests<3.0.0,>=2.13.0->spacy<3.3.0,>=3.2.0->en-core-web-sm==3.2.0) (4.0.0)\n",
      "Requirement already satisfied: urllib3<1.27,>=1.21.1 in /Users/deth/opt/anaconda3/lib/python3.8/site-packages (from requests<3.0.0,>=2.13.0->spacy<3.3.0,>=3.2.0->en-core-web-sm==3.2.0) (1.26.4)\n"
     ]
    },
    {
     "name": "stdout",
     "output_type": "stream",
     "text": [
      "Requirement already satisfied: click<9.0.0,>=7.1.1 in /Users/deth/opt/anaconda3/lib/python3.8/site-packages (from typer<0.5.0,>=0.3.0->spacy<3.3.0,>=3.2.0->en-core-web-sm==3.2.0) (7.1.2)\n",
      "Requirement already satisfied: MarkupSafe>=0.23 in /Users/deth/opt/anaconda3/lib/python3.8/site-packages (from jinja2->spacy<3.3.0,>=3.2.0->en-core-web-sm==3.2.0) (1.1.1)\n",
      "\u001b[38;5;2m✔ Download and installation successful\u001b[0m\n",
      "You can now load the package via spacy.load('en_core_web_sm')\n"
     ]
    }
   ],
   "source": [
    "import nltk; nltk.download('stopwords')\n",
    "\n",
    "# Run in terminal or command prompt\n",
    "!pip install -U pip setuptools wheel\n",
    "\n",
    "!pip install -U spacy\n",
    "\n",
    "!python -m spacy download en_core_web_sm"
   ]
  },
  {
   "cell_type": "code",
   "execution_count": 23,
   "id": "7a7c4cd5",
   "metadata": {},
   "outputs": [
    {
     "name": "stderr",
     "output_type": "stream",
     "text": [
      "/Users/deth/opt/anaconda3/lib/python3.8/site-packages/matplotlib/__init__.py:169: DeprecationWarning: distutils Version classes are deprecated. Use packaging.version instead.\n",
      "  if LooseVersion(module.__version__) < minver:\n",
      "/Users/deth/opt/anaconda3/lib/python3.8/site-packages/setuptools/_distutils/version.py:351: DeprecationWarning: distutils Version classes are deprecated. Use packaging.version instead.\n",
      "  other = LooseVersion(other)\n",
      "/Users/deth/opt/anaconda3/lib/python3.8/site-packages/matplotlib/__init__.py:169: DeprecationWarning: distutils Version classes are deprecated. Use packaging.version instead.\n",
      "  if LooseVersion(module.__version__) < minver:\n",
      "/Users/deth/opt/anaconda3/lib/python3.8/site-packages/setuptools/_distutils/version.py:351: DeprecationWarning: distutils Version classes are deprecated. Use packaging.version instead.\n",
      "  other = LooseVersion(other)\n",
      "/Users/deth/opt/anaconda3/lib/python3.8/site-packages/matplotlib/__init__.py:169: DeprecationWarning: distutils Version classes are deprecated. Use packaging.version instead.\n",
      "  if LooseVersion(module.__version__) < minver:\n",
      "/Users/deth/opt/anaconda3/lib/python3.8/site-packages/setuptools/_distutils/version.py:351: DeprecationWarning: distutils Version classes are deprecated. Use packaging.version instead.\n",
      "  other = LooseVersion(other)\n",
      "/Users/deth/opt/anaconda3/lib/python3.8/site-packages/matplotlib/__init__.py:169: DeprecationWarning: distutils Version classes are deprecated. Use packaging.version instead.\n",
      "  if LooseVersion(module.__version__) < minver:\n",
      "/Users/deth/opt/anaconda3/lib/python3.8/site-packages/setuptools/_distutils/version.py:351: DeprecationWarning: distutils Version classes are deprecated. Use packaging.version instead.\n",
      "  other = LooseVersion(other)\n",
      "/Users/deth/opt/anaconda3/lib/python3.8/site-packages/matplotlib/__init__.py:169: DeprecationWarning: distutils Version classes are deprecated. Use packaging.version instead.\n",
      "  if LooseVersion(module.__version__) < minver:\n",
      "/Users/deth/opt/anaconda3/lib/python3.8/site-packages/setuptools/_distutils/version.py:351: DeprecationWarning: distutils Version classes are deprecated. Use packaging.version instead.\n",
      "  other = LooseVersion(other)\n"
     ]
    }
   ],
   "source": [
    "import re\n",
    "import numpy as np\n",
    "import pandas as pd\n",
    "from pprint import pprint\n",
    "\n",
    "# Gensim\n",
    "import gensim\n",
    "import gensim.corpora as corpora\n",
    "from gensim.utils import simple_preprocess\n",
    "from gensim.models import CoherenceModel\n",
    "\n",
    "# spacy for lemmatization\n",
    "import spacy\n",
    "\n",
    "# Plotting tools\n",
    "import pyLDAvis\n",
    "import pyLDAvis.gensim_models  # don't skip this\n",
    "import matplotlib.pyplot as plt\n",
    "%matplotlib inline\n",
    "\n",
    "# Enable logging for gensim - optional\n",
    "import logging\n",
    "logging.basicConfig(format='%(asctime)s : %(levelname)s : %(message)s', level=logging.ERROR)\n",
    "import spacy\n",
    "nlp = spacy.load('en_core_web_sm')\n",
    "import warnings\n",
    "warnings.filterwarnings(\"ignore\",category=DeprecationWarning)\n",
    "\n"
   ]
  },
  {
   "cell_type": "code",
   "execution_count": 24,
   "id": "9b0c9426",
   "metadata": {},
   "outputs": [
    {
     "name": "stdout",
     "output_type": "stream",
     "text": [
      "['flannel', 'wipe', 'opinion', 'worth', 'keep', 'order', 'someims', 'vims', 'cloth', 'wipe', 'ocean', 'blue', 'countwhich', 'larger', 'nicer', 'softer', 'textur', 'higher', 'qualiti', 'cloth', 'wipe', 'hand', 'face', 'usingthirsti', 'pack', 'wipe', 'boyfor', 'month', 'need', 'replac', 'start', 'rough', 'stink', 'issu', 'strip', 'longer', 'handl']\n"
     ]
    }
   ],
   "source": [
    "bigram = gensim.models.Phrases(processed_docs[4], min_count=5, threshold=100) # higher threshold fewer phrases.\n",
    "trigram = gensim.models.Phrases(bigram[processed_docs[4]], threshold=100)  \n",
    "\n",
    "# Faster way to get a sentence clubbed as a trigram/bigram\n",
    "bigram_mod = gensim.models.phrases.Phraser(bigram)\n",
    "trigram_mod = gensim.models.phrases.Phraser(trigram)\n",
    "\n",
    "# See trigram example\n",
    "print(trigram_mod[bigram_mod[processed_docs[0]]])"
   ]
  },
  {
   "cell_type": "code",
   "execution_count": 25,
   "id": "4cd0029c",
   "metadata": {},
   "outputs": [],
   "source": [
    "from nltk.corpus import stopwords\n",
    "stop_words = stopwords.words('english')\n",
    "stop_words.extend(['from', 'subject', 're', 'edu', 'use'])"
   ]
  },
  {
   "cell_type": "code",
   "execution_count": 26,
   "id": "5f32acbd",
   "metadata": {},
   "outputs": [],
   "source": [
    "# Define functions for stopwords, bigrams, trigrams and lemmatization\n",
    "def remove_stopwords(texts):\n",
    "    return [[word for word in simple_preprocess(str(doc)) if word not in stop_words] for doc in texts]\n",
    "\n",
    "def make_bigrams(texts):\n",
    "    return [bigram_mod[doc] for doc in texts]\n",
    "\n",
    "def make_trigrams(texts):\n",
    "    return [trigram_mod[bigram_mod[doc]] for doc in texts]\n",
    "\n",
    "def lemmatization(texts, allowed_postags=['NOUN', 'ADJ', 'VERB', 'ADV']):\n",
    "    \"\"\"https://spacy.io/api/annotation\"\"\"\n",
    "    texts_out = []\n",
    "    for sent in texts:\n",
    "        doc = nlp(\" \".join(sent)) \n",
    "        texts_out.append([token.lemma_ for token in doc if token.pos_ in allowed_postags])\n",
    "    return texts_out"
   ]
  },
  {
   "cell_type": "code",
   "execution_count": 27,
   "id": "d2a50d5c",
   "metadata": {},
   "outputs": [],
   "source": [
    "from nltk.corpus import stopwords\n",
    "stop_words = stopwords.words('english')\n",
    "stop_words.extend(['from', 'subject', 're', 'edu', 'use'])"
   ]
  },
  {
   "cell_type": "code",
   "execution_count": 28,
   "id": "182cc2b2",
   "metadata": {},
   "outputs": [
    {
     "name": "stdout",
     "output_type": "stream",
     "text": [
      "[['flannel', 'wipe', 'opinion', 'worth', 'keep', 'order', 'someim', 'vim', 'cloth', 'wipe', 'ocean', 'large', 'nice', 'soft', 'textur', 'high', 'cloth', 'wipe', 'hand', 'face', 'pack', 'wipe', 'month', 'need', 'start', 'rough', 'long', 'handl']]\n"
     ]
    }
   ],
   "source": [
    "# Remove Stop Words\n",
    "data_words_nostops = remove_stopwords(processed_docs)\n",
    "\n",
    "# Form Bigrams\n",
    "data_words_bigrams = make_bigrams(data_words_nostops)\n",
    "\n",
    "# Initialize spacy 'en' model, keeping only tagger component (for efficiency)\n",
    "# python3 -m spacy download en\n",
    "nlp = spacy.load('en_core_web_sm', disable=['parser', 'ner'])\n",
    "\n",
    "# Do lemmatization keeping only noun, adj, vb, adv\n",
    "data_lemmatized = lemmatization(data_words_bigrams, allowed_postags=['NOUN', 'ADJ', 'VERB', 'ADV'])\n",
    "\n",
    "print(data_lemmatized[:1])"
   ]
  },
  {
   "cell_type": "code",
   "execution_count": 29,
   "id": "688776ba",
   "metadata": {},
   "outputs": [
    {
     "name": "stdout",
     "output_type": "stream",
     "text": [
      "[[(0, 2), (1, 1), (2, 1), (3, 1), (4, 1), (5, 1), (6, 1), (7, 1), (8, 1), (9, 1), (10, 1), (11, 1), (12, 1), (13, 1), (14, 1), (15, 1), (16, 1), (17, 1), (18, 1), (19, 1), (20, 1), (21, 1), (22, 4), (23, 1)]]\n"
     ]
    }
   ],
   "source": [
    "# Create Dictionary\n",
    "id2word = corpora.Dictionary(data_lemmatized)\n",
    "\n",
    "# Create Corpus\n",
    "texts = data_lemmatized\n",
    "\n",
    "# Term Document Frequency\n",
    "corpus = [id2word.doc2bow(text) for text in texts]\n",
    "\n",
    "# View\n",
    "print(corpus[:1])"
   ]
  },
  {
   "cell_type": "code",
   "execution_count": 30,
   "id": "36f3c29c",
   "metadata": {},
   "outputs": [
    {
     "data": {
      "text/plain": [
       "'cloth'"
      ]
     },
     "execution_count": 30,
     "metadata": {},
     "output_type": "execute_result"
    }
   ],
   "source": [
    "id2word[0]\n"
   ]
  },
  {
   "cell_type": "code",
   "execution_count": 31,
   "id": "0155de21",
   "metadata": {},
   "outputs": [
    {
     "data": {
      "text/plain": [
       "[[('cloth', 2),\n",
       "  ('face', 1),\n",
       "  ('flannel', 1),\n",
       "  ('hand', 1),\n",
       "  ('handl', 1),\n",
       "  ('high', 1),\n",
       "  ('keep', 1),\n",
       "  ('large', 1),\n",
       "  ('long', 1),\n",
       "  ('month', 1),\n",
       "  ('need', 1),\n",
       "  ('nice', 1),\n",
       "  ('ocean', 1),\n",
       "  ('opinion', 1),\n",
       "  ('order', 1),\n",
       "  ('pack', 1),\n",
       "  ('rough', 1),\n",
       "  ('soft', 1),\n",
       "  ('someim', 1),\n",
       "  ('start', 1),\n",
       "  ('textur', 1),\n",
       "  ('vim', 1),\n",
       "  ('wipe', 4),\n",
       "  ('worth', 1)]]"
      ]
     },
     "execution_count": 31,
     "metadata": {},
     "output_type": "execute_result"
    }
   ],
   "source": [
    "[[(id2word[id], freq) for id, freq in cp] for cp in corpus[:1]]\n"
   ]
  },
  {
   "cell_type": "code",
   "execution_count": 32,
   "id": "d7b60bfe",
   "metadata": {},
   "outputs": [],
   "source": [
    "lda_model = gensim.models.ldamodel.LdaModel(corpus=corpus,\n",
    "                                           id2word=id2word,\n",
    "                                           num_topics=20, \n",
    "                                           random_state=100,\n",
    "                                           update_every=1,\n",
    "                                           chunksize=100,\n",
    "                                           passes=10,\n",
    "                                           alpha='auto',\n",
    "                                           per_word_topics=True)"
   ]
  },
  {
   "cell_type": "code",
   "execution_count": 33,
   "id": "a95e0b9a",
   "metadata": {},
   "outputs": [
    {
     "name": "stdout",
     "output_type": "stream",
     "text": [
      "[(0,\n",
      "  '0.104*\"book\" + 0.040*\"child\" + 0.040*\"enjoy\" + 0.036*\"page\" + 0.030*\"keep\" '\n",
      "  '+ 0.029*\"wear\" + 0.028*\"perfect\" + 0.026*\"buy\" + 0.022*\"famili\" + '\n",
      "  '0.021*\"turn\"'),\n",
      " (1,\n",
      "  '0.093*\"price\" + 0.087*\"order\" + 0.056*\"day\" + 0.048*\"room\" + 0.016*\"right\" '\n",
      "  '+ 0.015*\"actual\" + 0.013*\"wipe\" + 0.011*\"know\" + 0.010*\"fine\" + '\n",
      "  '0.010*\"decal\"'),\n",
      " (2,\n",
      "  '0.056*\"babi\" + 0.039*\"write\" + 0.033*\"allow\" + 0.031*\"hope\" + '\n",
      "  '0.031*\"pretti\" + 0.029*\"understand\" + 0.028*\"weight\" + 0.027*\"room\" + '\n",
      "  '0.026*\"avail\" + 0.025*\"page\"'),\n",
      " (3,\n",
      "  '0.138*\"month\" + 0.102*\"love\" + 0.060*\"play\" + 0.039*\"face\" + 0.036*\"take\" + '\n",
      "  '0.036*\"toddler\" + 0.031*\"mayb\" + 0.024*\"music\" + 0.022*\"color\" + '\n",
      "  '0.020*\"get\"'),\n",
      " (4,\n",
      "  '0.067*\"differ\" + 0.055*\"month\" + 0.040*\"love\" + 0.035*\"free\" + 0.034*\"year\" '\n",
      "  '+ 0.030*\"buy\" + 0.028*\"color\" + 0.028*\"product\" + 0.027*\"see\" + '\n",
      "  '0.024*\"hand\"'),\n",
      " (5,\n",
      "  '0.062*\"chew\" + 0.058*\"need\" + 0.052*\"interest\" + 0.050*\"cute\" + '\n",
      "  '0.043*\"hous\" + 0.038*\"bite\" + 0.037*\"pull\" + 0.030*\"open\" + 0.025*\"idea\" + '\n",
      "  '0.024*\"carri\"'),\n",
      " (6,\n",
      "  '0.050*\"disappoint\" + 0.043*\"strong\" + 0.034*\"look\" + 0.031*\"cheap\" + '\n",
      "  '0.031*\"hard\" + 0.027*\"later\" + 0.024*\"year\" + 0.023*\"nativ\" + '\n",
      "  '0.022*\"recommend\" + 0.021*\"calendar\"'),\n",
      " (7,\n",
      "  '0.075*\"actual\" + 0.065*\"look\" + 0.058*\"high\" + 0.042*\"hard\" + 0.041*\"soon\" '\n",
      "  '+ 0.039*\"object\" + 0.030*\"want\" + 0.029*\"real\" + 0.027*\"come\" + '\n",
      "  '0.027*\"photo\"'),\n",
      " (8,\n",
      "  '0.112*\"daughter\" + 0.111*\"size\" + 0.076*\"stack\" + 0.064*\"love\" + '\n",
      "  '0.062*\"buy\" + 0.036*\"comfort\" + 0.033*\"recommend\" + 0.032*\"great\" + '\n",
      "  '0.023*\"safe\" + 0.023*\"friend\"'),\n",
      " (9,\n",
      "  '0.054*\"favorit\" + 0.034*\"lot\" + 0.031*\"featur\" + 0.031*\"return\" + '\n",
      "  '0.031*\"item\" + 0.026*\"product\" + 0.026*\"amazon\" + 0.023*\"hide\" + '\n",
      "  '0.022*\"suck\" + 0.019*\"recommend\"'),\n",
      " (10,\n",
      "  '0.055*\"small\" + 0.046*\"great\" + 0.036*\"star\" + 0.035*\"product\" + '\n",
      "  '0.032*\"hand\" + 0.031*\"come\" + 0.029*\"year\" + 0.022*\"young\" + 0.019*\"overal\" '\n",
      "  '+ 0.018*\"brother\"'),\n",
      " (11,\n",
      "  '0.086*\"easi\" + 0.041*\"great\" + 0.037*\"help\" + 0.036*\"small\" + 0.027*\"time\" '\n",
      "  '+ 0.023*\"month\" + 0.023*\"floor\" + 0.021*\"expect\" + 0.020*\"diaper\" + '\n",
      "  '0.020*\"babi\"'),\n",
      " (12,\n",
      "  '0.078*\"babi\" + 0.066*\"sleep\" + 0.049*\"night\" + 0.048*\"block\" + 0.046*\"walk\" '\n",
      "  '+ 0.030*\"take\" + 0.028*\"track\" + 0.021*\"get\" + 0.020*\"know\" + '\n",
      "  '0.020*\"detail\"'),\n",
      " (13,\n",
      "  '0.058*\"child\" + 0.052*\"daughter\" + 0.047*\"parent\" + 0.039*\"mouth\" + '\n",
      "  '0.032*\"good\" + 0.032*\"year\" + 0.030*\"push\" + 0.030*\"go\" + 0.024*\"life\" + '\n",
      "  '0.023*\"say\"'),\n",
      " (14,\n",
      "  '0.101*\"great\" + 0.081*\"good\" + 0.077*\"play\" + 0.067*\"love\" + 0.041*\"make\" + '\n",
      "  '0.041*\"babi\" + 0.039*\"buy\" + 0.036*\"gift\" + 0.034*\"friend\" + 0.027*\"book\"'),\n",
      " (15,\n",
      "  '0.108*\"hold\" + 0.095*\"go\" + 0.053*\"difficult\" + 0.044*\"send\" + '\n",
      "  '0.025*\"pocket\" + 0.022*\"alot\" + 0.019*\"diaper\" + 0.015*\"card\" + '\n",
      "  '0.015*\"current\" + 0.014*\"photo\"'),\n",
      " (16,\n",
      "  '0.045*\"inform\" + 0.040*\"space\" + 0.032*\"well\" + 0.029*\"want\" + '\n",
      "  '0.027*\"phone\" + 0.022*\"info\" + 0.019*\"perfect\" + 0.017*\"nanni\" + '\n",
      "  '0.017*\"paper\" + 0.017*\"situat\"'),\n",
      " (17,\n",
      "  '0.072*\"thing\" + 0.069*\"think\" + 0.060*\"time\" + 0.047*\"hard\" + 0.034*\"simpl\" '\n",
      "  '+ 0.033*\"month\" + 0.033*\"long\" + 0.030*\"nice\" + 0.030*\"start\" + '\n",
      "  '0.027*\"sleep\"'),\n",
      " (18,\n",
      "  '0.098*\"money\" + 0.044*\"want\" + 0.039*\"spend\" + 0.032*\"choic\" + '\n",
      "  '0.032*\"final\" + 0.031*\"music\" + 0.026*\"thing\" + 0.022*\"mileston\" + '\n",
      "  '0.019*\"stimul\" + 0.017*\"enjoy\"'),\n",
      " (19,\n",
      "  '0.068*\"fabric\" + 0.050*\"move\" + 0.037*\"hold\" + 0.034*\"plastic\" + '\n",
      "  '0.033*\"receiv\" + 0.030*\"wait\" + 0.029*\"great\" + 0.028*\"babi\" + 0.025*\"add\" '\n",
      "  '+ 0.024*\"live\"')]\n"
     ]
    }
   ],
   "source": [
    "pprint(lda_model.print_topics())\n",
    "doc_lda = lda_model[corpus]"
   ]
  },
  {
   "cell_type": "code",
   "execution_count": 34,
   "id": "2dda4dce",
   "metadata": {},
   "outputs": [
    {
     "name": "stdout",
     "output_type": "stream",
     "text": [
      "\n",
      "Perplexity:  -11.591297187933682\n",
      "\n",
      "Coherence Score:  0.34708236395176517\n"
     ]
    }
   ],
   "source": [
    "# Compute Perplexity\n",
    "print('\\nPerplexity: ', lda_model.log_perplexity(corpus))  # a measure of how good the model is. lower the better.\n",
    "\n",
    "# Compute Coherence Score\n",
    "coherence_model_lda = CoherenceModel(model=lda_model, texts=data_lemmatized, dictionary=id2word, coherence='c_v')\n",
    "coherence_lda = coherence_model_lda.get_coherence()\n",
    "print('\\nCoherence Score: ', coherence_lda)"
   ]
  },
  {
   "cell_type": "code",
   "execution_count": 35,
   "id": "f8fb4664",
   "metadata": {},
   "outputs": [
    {
     "data": {
      "text/html": [
       "\n",
       "<link rel=\"stylesheet\" type=\"text/css\" href=\"https://cdn.jsdelivr.net/gh/bmabey/pyLDAvis@3.3.1/pyLDAvis/js/ldavis.v1.0.0.css\">\n",
       "\n",
       "\n",
       "<div id=\"ldavis_el927140566595264176810541468\"></div>\n",
       "<script type=\"text/javascript\">\n",
       "\n",
       "var ldavis_el927140566595264176810541468_data = {\"mdsDat\": {\"x\": [-0.15643129410141157, -0.2493341358127991, -0.014148913578624729, -0.05679975370132472, -0.07490103157719535, -0.11185692056668892, -0.15056718825262705, -0.03306885243686788, 0.0009574714820498021, 0.0138096134874382, 0.022732267349132543, 0.04840026770239777, 0.10415366660717548, -0.05137270620879298, 0.06776912969660276, 0.09763737398861005, 0.14063679638146687, 0.1311361241029395, 0.136051830058137, 0.13519625538038277], \"y\": [0.03798634960787489, -0.06579713786427066, 0.2717974434320966, -0.1033834016687854, -0.16576336366134684, -0.016771620522005207, 0.1252791782074112, 0.0650116274875304, 0.027766509166626013, 0.0680349056370562, 0.03266046775538907, -0.08759015158343174, -0.024271673547020683, -0.10631221119496917, -0.008900602179542843, -0.02484201985825048, 0.01235377398068142, -0.03747961874061195, 0.0055282598049428535, -0.005306714259373505], \"topics\": [1, 2, 3, 4, 5, 6, 7, 8, 9, 10, 11, 12, 13, 14, 15, 16, 17, 18, 19, 20], \"cluster\": [1, 1, 1, 1, 1, 1, 1, 1, 1, 1, 1, 1, 1, 1, 1, 1, 1, 1, 1, 1], \"Freq\": [10.88953538728776, 10.713061282461329, 9.529014870461292, 8.006144475843833, 7.936039838275658, 6.793652458385447, 6.261715393382062, 5.792167719637545, 5.5830092615743725, 4.185988307317617, 4.023306634891316, 3.870614598738056, 2.981077992675708, 2.5039413144052687, 2.338521130169583, 2.20575064685687, 1.8779419822742207, 1.8388172336366249, 1.6584895899393741, 1.0112098817860626]}, \"tinfo\": {\"Term\": [\"month\", \"love\", \"daughter\", \"great\", \"play\", \"good\", \"book\", \"babi\", \"hold\", \"buy\", \"thing\", \"differ\", \"go\", \"child\", \"hard\", \"easi\", \"size\", \"think\", \"sleep\", \"small\", \"look\", \"need\", \"want\", \"product\", \"chew\", \"time\", \"year\", \"actual\", \"price\", \"fabric\", \"differ\", \"free\", \"see\", \"put\", \"week\", \"break\", \"sort\", \"packag\", \"busi\", \"thank\", \"smile\", \"sweet\", \"compar\", \"tender\", \"laugh\", \"safeti\", \"plea\", \"worth\", \"tool\", \"clever\", \"recal\", \"quick\", \"caus\", \"overnight\", \"birthday\", \"approach\", \"sen\", \"purcha\", \"peel\", \"sure\", \"reason\", \"learn\", \"color\", \"lose\", \"turn\", \"hand\", \"product\", \"design\", \"month\", \"help\", \"year\", \"hold\", \"price\", \"buy\", \"get\", \"love\", \"well\", \"high\", \"daughter\", \"read\", \"time\", \"start\", \"kid\", \"make\", \"light\", \"recent\", \"granddaught\", \"fill\", \"cook\", \"brush\", \"good\", \"bird\", \"friend\", \"gift\", \"creativ\", \"pink\", \"awesom\", \"review\", \"elmo\", \"play\", \"fine\", \"soft\", \"great\", \"interact\", \"cherish\", \"pastel\", \"haha\", \"highli\", \"abl\", \"beauti\", \"give\", \"buy\", \"love\", \"babi\", \"come\", \"work\", \"book\", \"time\", \"recommend\", \"want\", \"year\", \"pack\", \"close\", \"nur\", \"entertain\", \"textur\", \"button\", \"thing\", \"skill\", \"simpl\", \"easy\", \"purpo\", \"half\", \"feel\", \"opinion\", \"averag\", \"matter\", \"long\", \"handl\", \"hard\", \"rough\", \"large\", \"connect\", \"nice\", \"think\", \"tell\", \"phone\", \"breastfe\", \"start\", \"wipe\", \"abl\", \"sleep\", \"time\", \"keep\", \"give\", \"need\", \"month\", \"right\", \"item\", \"perfect\", \"wear\", \"stuff\", \"infant\", \"plu\", \"peopl\", \"lamaz\", \"attent\", \"throw\", \"definit\", \"short\", \"follow\", \"addit\", \"neat\", \"nearli\", \"famili\", \"visit\", \"teach\", \"issu\", \"neck\", \"enjoy\", \"page\", \"book\", \"finish\", \"word\", \"keep\", \"satisfi\", \"doctor\", \"destroy\", \"name\", \"grat\", \"perfect\", \"right\", \"child\", \"turn\", \"old\", \"place\", \"say\", \"read\", \"buy\", \"long\", \"learn\", \"product\", \"love\", \"look\", \"come\", \"mouth\", \"push\", \"begin\", \"side\", \"travel\", \"import\", \"pain\", \"complet\", \"saver\", \"finger\", \"fall\", \"terribl\", \"grandchild\", \"imagin\", \"mother\", \"experi\", \"parent\", \"velcro\", \"life\", \"bib\", \"kindergarten\", \"end\", \"happi\", \"wash\", \"say\", \"child\", \"old\", \"descript\", \"photograph\", \"curl\", \"daughter\", \"go\", \"young\", \"read\", \"good\", \"year\", \"work\", \"soon\", \"perfect\", \"love\", \"want\", \"month\", \"time\", \"star\", \"brother\", \"batteri\", \"set\", \"larg\", \"christma\", \"huge\", \"line\", \"overal\", \"tough\", \"dirti\", \"encourag\", \"crawl\", \"slide\", \"daili\", \"shelf\", \"holder\", \"wonder\", \"mail\", \"let\", \"hamper\", \"suppos\", \"problem\", \"big\", \"grab\", \"small\", \"young\", \"member\", \"lotion\", \"pleas\", \"hand\", \"wish\", \"idea\", \"product\", \"come\", \"highli\", \"great\", \"year\", \"feel\", \"recommend\", \"love\", \"gift\", \"babi\", \"record\", \"review\", \"cute\", \"play\", \"think\", \"toddler\", \"mayb\", \"flip\", \"shake\", \"cover\", \"shower\", \"face\", \"ask\", \"blow\", \"song\", \"lock\", \"music\", \"bright\", \"foot\", \"take\", \"pretend\", \"gestur\", \"mirror\", \"bear\", \"month\", \"main\", \"hair\", \"kiss\", \"print\", \"peekaboo\", \"illustr\", \"play\", \"get\", \"place\", \"love\", \"know\", \"color\", \"cute\", \"think\", \"wish\", \"babi\", \"great\", \"hand\", \"start\", \"easi\", \"floor\", \"expect\", \"girl\", \"easili\", \"pick\", \"journal\", \"wast\", \"decid\", \"plan\", \"bend\", \"bedroom\", \"sticki\", \"roll\", \"flower\", \"needl\", \"poop\", \"super\", \"diaper\", \"feed\", \"home\", \"pattern\", \"standarad\", \"glue\", \"piec\", \"frustrat\", \"pee\", \"fault\", \"help\", \"happen\", \"small\", \"track\", \"inform\", \"reason\", \"know\", \"sure\", \"great\", \"time\", \"color\", \"month\", \"babi\", \"recommend\", \"product\", \"want\", \"look\", \"interest\", \"bite\", \"pull\", \"chew\", \"carri\", \"fact\", \"regular\", \"hous\", \"open\", \"sock\", \"count\", \"board\", \"stori\", \"suggest\", \"tracker\", \"need\", \"perfectli\", \"idea\", \"pin\", \"cute\", \"brass\", \"dressmak\", \"tend\", \"chunk\", \"crochet\", \"overpric\", \"comment\", \"note\", \"safe\", \"dozen\", \"lose\", \"interact\", \"go\", \"stay\", \"know\", \"wash\", \"think\", \"learn\", \"year\", \"book\", \"work\", \"recommend\", \"babi\", \"get\", \"block\", \"walk\", \"night\", \"milk\", \"everyday\", \"rash\", \"eat\", \"detail\", \"schedul\", \"quickli\", \"repli\", \"commun\", \"today\", \"instruct\", \"leav\", \"sleep\", \"present\", \"previou\", \"rush\", \"screen\", \"post\", \"park\", \"column\", \"weekli\", \"lunch\", \"pattern\", \"comment\", \"nanni\", \"morn\", \"forget\", \"note\", \"track\", \"take\", \"babi\", \"space\", \"know\", \"get\", \"tracker\", \"highli\", \"recommend\", \"want\", \"time\", \"daughter\", \"love\", \"fabric\", \"move\", \"plastic\", \"receiv\", \"add\", \"live\", \"wait\", \"offer\", \"repre\", \"hook\", \"attach\", \"attract\", \"stick\", \"impress\", \"stroller\", \"level\", \"cost\", \"decal\", \"merci\", \"bear\", \"cloth\", \"chain\", \"countri\", \"divin\", \"jesu\", \"pendant\", \"pray\", \"flimsi\", \"fortun\", \"involv\", \"hold\", \"flap\", \"wall\", \"come\", \"babi\", \"great\", \"option\", \"month\", \"start\", \"need\", \"look\", \"famili\", \"allow\", \"hope\", \"understand\", \"weight\", \"write\", \"select\", \"avail\", \"futur\", \"lack\", \"cri\", \"height\", \"rock\", \"complaint\", \"pretti\", \"section\", \"pacifi\", \"stop\", \"room\", \"event\", \"save\", \"happen\", \"asterisk\", \"box\", \"certain\", \"fashion\", \"glossi\", \"okay\", \"pen\", \"puppet\", \"ween\", \"calendar\", \"sticker\", \"second\", \"calend\", \"page\", \"babi\", \"work\", \"help\", \"end\", \"buy\", \"year\", \"object\", \"mom\", \"real\", \"anim\", \"lion\", \"draw\", \"actual\", \"unrealist\", \"rememb\", \"soon\", \"high\", \"photo\", \"fantast\", \"portray\", \"border\", \"haul\", \"scrap\", \"scrapbook\", \"person\", \"search\", \"option\", \"date\", \"pictur\", \"wife\", \"look\", \"sticker\", \"exactli\", \"spot\", \"hard\", \"calend\", \"want\", \"come\", \"year\", \"time\", \"month\", \"perfect\", \"easi\", \"book\", \"stack\", \"comfort\", \"size\", \"type\", \"safe\", \"quilt\", \"warm\", \"daughter\", \"perfectli\", \"buy\", \"friend\", \"recommend\", \"look\", \"love\", \"fall\", \"soft\", \"truck\", \"car\", \"tower\", \"babysl\", \"slimmer\", \"lookat\", \"wheel\", \"trip\", \"pad\", \"vibrat\", \"sling\", \"rattl\", \"adjust\", \"sleeper\", \"great\", \"sle\", \"kiss\", \"play\", \"high\", \"toy\", \"read\", \"lot\", \"featur\", \"return\", \"amazon\", \"hide\", \"suck\", \"favorit\", \"doll\", \"prayer\", \"age\", \"explain\", \"absolut\", \"charact\", \"prepar\", \"loss\", \"movi\", \"bargain\", \"twinkl\", \"binki\", \"item\", \"fairi\", \"dozen\", \"main\", \"habit\", \"stop\", \"special\", \"bright\", \"beauti\", \"illustr\", \"ador\", \"elmo\", \"product\", \"nice\", \"recommend\", \"hous\", \"help\", \"price\", \"great\", \"come\", \"avail\", \"sure\", \"cute\", \"strong\", \"cheap\", \"later\", \"nativ\", \"unlik\", \"glad\", \"collect\", \"disappoint\", \"beat\", \"refer\", \"ornament\", \"rosari\", \"steel\", \"answer\", \"stumbl\", \"tree\", \"thick\", \"heart\", \"ladi\", \"novena\", \"untier\", \"describ\", \"find\", \"squar\", \"question\", \"bless\", \"calendar\", \"spot\", \"second\", \"look\", \"hard\", \"recommend\", \"year\", \"cute\", \"great\", \"start\", \"diaper\", \"sticker\", \"work\", \"think\", \"write\", \"perfect\", \"spend\", \"money\", \"choic\", \"final\", \"stimul\", \"continu\", \"excus\", \"mileston\", \"moment\", \"exactli\", \"amaz\", \"buyer\", \"slow\", \"music\", \"fast\", \"happi\", \"illustr\", \"excit\", \"special\", \"sticker\", \"tell\", \"want\", \"first\", \"item\", \"option\", \"enjoy\", \"track\", \"thing\", \"blue\", \"defect\", \"cute\", \"year\", \"difficult\", \"send\", \"alot\", \"card\", \"current\", \"pocket\", \"dispo\", \"hondura\", \"kit\", \"pamper\", \"barn\", \"list\", \"nobl\", \"bracelet\", \"flammish\", \"french\", \"matern\", \"mini\", \"preserv\", \"hold\", \"go\", \"diaper\", \"photo\", \"info\", \"first\", \"hair\", \"cloth\", \"pin\", \"purcha\", \"happi\", \"book\", \"abl\", \"space\", \"situat\", \"info\", \"document\", \"nap\", \"origin\", \"transfer\", \"control\", \"inform\", \"paper\", \"space\", \"solut\", \"report\", \"complain\", \"contact\", \"incomplet\", \"shorthand\", \"format\", \"inaccur\", \"pouch\", \"deal\", \"phone\", \"nanni\", \"provid\", \"exampl\", \"notebook\", \"problem\", \"well\", \"suppos\", \"home\", \"real\", \"want\", \"perfect\", \"get\", \"track\", \"feed\", \"page\", \"day\", \"order\", \"price\", \"project\", \"spring\", \"room\", \"decal\", \"wipe\", \"fine\", \"right\", \"actual\", \"notic\", \"cool\", \"qualiti\", \"area\", \"remov\", \"nojo\", \"monitor\", \"instead\", \"ruin\", \"toxic\", \"pay\", \"son\", \"advic\", \"babymoon\", \"neighbor\", \"pretty\", \"amazingli\", \"analog\", \"compromis\", \"know\", \"pad\", \"toy\", \"hurt\", \"chair\", \"hang\", \"sound\", \"sle\", \"newborn\", \"sling\", \"store\", \"soft\", \"great\", \"simpl\", \"love\"], \"Freq\": [121.0, 133.0, 51.0, 111.0, 70.0, 62.0, 73.0, 81.0, 31.0, 67.0, 43.0, 40.0, 32.0, 43.0, 36.0, 30.0, 22.0, 55.0, 30.0, 35.0, 38.0, 29.0, 33.0, 44.0, 20.0, 75.0, 67.0, 19.0, 13.0, 16.0, 39.88592270946403, 20.940483434111698, 16.251276753807705, 13.6650476101575, 11.230245203134764, 5.891319376853833, 5.725061605739962, 5.241394368263086, 5.241078042783332, 3.622955777308604, 3.6228949669430075, 3.1389750038182855, 2.488617906895846, 2.48858805960631, 2.4885040966703262, 2.4884162284815057, 2.4882522078623737, 10.315820209396064, 2.004874238042028, 2.0047761883011694, 2.0043057448076897, 2.0043025369214313, 2.004278686984466, 2.0041897030091205, 3.622451720746068, 1.682043443902106, 1.6820322860368588, 4.986190000652461, 2.816374061702453, 11.399027999154047, 9.855605130988728, 11.82755697183277, 16.94101916242586, 6.670585801495279, 10.56002682712592, 14.216065395945437, 16.904677995316177, 4.415245662266423, 33.097022252248465, 12.332323174598582, 20.116912473933738, 11.479748459497403, 6.278878899918389, 18.132865507161878, 9.58284218873206, 23.946686815155708, 5.6613446162466055, 5.6990476008096955, 8.00617501895638, 6.36710860357302, 8.70619605304013, 5.506135363300377, 13.908029369570045, 24.192730162742887, 8.806162855057257, 6.264944554954974, 9.750192363250246, 4.198865898560039, 4.0351852949133145, 4.035127116587373, 47.50307294903682, 2.767462009369747, 20.015537337152622, 21.39008481075974, 1.9700270635429522, 1.9698775013371108, 1.9694008232608788, 8.172708460567067, 5.412272032906944, 45.55446785861347, 3.5775754394348374, 9.891570086106267, 59.338441278598516, 5.329357490249149, 0.8554375704801516, 0.8554375704801516, 0.8554194583598111, 8.150818042153206, 8.401150048195234, 0.9564351443153982, 11.60378785659332, 22.689336358146797, 39.35439707675297, 24.05037767850127, 11.953053203603918, 8.19616969378136, 15.833587061286273, 14.702845193025189, 9.631994861317176, 7.916203514601745, 8.157400974618753, 9.614160208342309, 9.458658681208275, 8.702664646618535, 8.098189476967718, 7.795354346355742, 6.87998108350231, 37.675949215983394, 5.363506539013555, 17.808071247855246, 9.861296162952002, 4.154486876589623, 2.9407007613167124, 13.43737043472877, 2.331694446879929, 2.3315333438492374, 2.3314034850426792, 17.490278433130012, 6.012702445411493, 24.639247876877892, 1.878191124150185, 1.8781725728921053, 1.877998410752107, 15.958968740469524, 36.34929212054809, 7.681084943067842, 5.046051552461773, 2.3314894066590486, 15.520932529163726, 3.200739360016335, 10.177287552879497, 14.042518331580478, 31.225821286209726, 9.869082809435453, 10.59970360488219, 7.9550650563098575, 17.513223410228584, 4.43501558393377, 3.769274640379255, 4.027473247191973, 12.810296221857877, 9.235075661747786, 8.770408268386593, 6.905297366037379, 6.5905446839135315, 5.65969431451782, 5.350602815630034, 4.570733602654522, 6.5952481173411455, 3.945574002526962, 3.94556497876003, 5.660803007336765, 3.4810370436150566, 3.48075935769629, 9.747559996080838, 3.0160203894564783, 5.035661044571842, 2.3905843339238237, 3.9457007454352317, 17.655528302695725, 15.964976429245954, 45.941730013284854, 2.391220919663743, 1.9263642322825931, 13.021995434763909, 1.92616447889642, 1.926208777388631, 1.9260621411759884, 0.8364764821812583, 0.836468791470805, 12.1210559815487, 6.466378881444987, 17.799191594305423, 9.310117307553028, 6.480272201150239, 5.290634552141996, 5.819805472216929, 7.053580005973733, 11.526068986842667, 6.917447458039887, 5.600948361277822, 6.462638530051737, 7.756488792157313, 4.935623154194161, 4.608254425557143, 17.052191568078914, 13.10987441557158, 8.411108562338606, 7.04073927286161, 6.738085876396507, 6.74081402564412, 5.367637303893686, 4.913822483811406, 4.460316257660413, 3.8502280884035427, 9.588465561633042, 3.396893235562217, 3.3968334683581336, 3.39673182345323, 3.3966344476343324, 3.3965994817870455, 20.66113701412042, 2.640339230715095, 10.323546063870232, 2.337748447511413, 1.5770435696827434, 6.090652555918821, 5.210458908485836, 4.610843010491372, 10.075438169433731, 25.25696991821487, 7.673381226777727, 0.8162164130334749, 0.8162164130334749, 0.8162140752006621, 22.7170036080634, 12.88826168862687, 5.616702693334379, 8.600307948848425, 13.98845150243698, 13.869717242961764, 8.599939587713054, 4.523976055021909, 5.438820857116147, 6.651333576379775, 4.705615093504998, 5.553502330943047, 4.806970513719419, 13.3461571744668, 6.703786586844639, 6.703587500661368, 5.690934933348201, 5.402784483126649, 4.8266353336903745, 4.678683670876487, 3.665972282645535, 6.918400100199639, 2.5139813143670917, 2.2216100282285356, 2.2215461605456155, 2.2215224929573947, 2.220970133214648, 2.2207452911265486, 2.2205521218403326, 2.220462846305352, 6.271025432328811, 1.7894997323887856, 1.7890225520439178, 1.5014890253535684, 2.220763215844098, 3.2340990107407634, 3.6660829634257452, 4.557239358817374, 20.45710076200534, 8.203769413844878, 2.1710859923264794, 0.7771323073057665, 0.7771321332793826, 12.026615343958088, 2.367738242591101, 5.165527004741187, 12.914028779883116, 11.72532276927128, 5.746903906752164, 17.35215821655606, 10.957697958388197, 3.9251699633646515, 4.780663479940418, 6.669753987193883, 3.8119275147824263, 4.571170518907588, 2.9253194729624488, 2.9454609385913053, 3.452802840224785, 3.6429228361404045, 3.0433915017528337, 12.454724221573382, 10.80790620011775, 6.328927561638757, 5.88237962646169, 5.280358596949827, 2.895849148159374, 13.468972340528236, 2.296313039627613, 2.2957659143072457, 1.8496491350554634, 1.849451682323311, 8.177194848369693, 4.595110037833708, 4.8288023237478, 12.566202409100523, 2.300593000027306, 0.8032186267638165, 0.8032186267638165, 2.8346259691705473, 47.539678345022054, 0.803245333408742, 1.5519380538497956, 0.8032187871640863, 0.803245413608877, 0.8032079601458733, 0.8032143761566661, 20.571323056009255, 6.991251072590662, 3.5256229531565912, 35.107199716069914, 5.169522010501979, 7.510122206228862, 6.230211461179831, 6.626694622538594, 1.429953327848693, 6.53308438346868, 6.314441492470482, 3.0042855049695882, 2.169226301843973, 27.46574927822906, 7.20874651474942, 6.645395792210078, 5.666832242851273, 5.522863015946267, 4.959896577726063, 3.70203103079216, 3.142755502503576, 3.1384616074472538, 3.138403445496249, 2.859071179967056, 2.4397364216147777, 2.1561304396653256, 6.092042396861302, 1.7368333678833408, 1.736614221960805, 1.736577870741427, 4.121211630299811, 6.48986717428752, 4.9256644118793265, 2.4397886486728226, 3.692255965342933, 0.7542153963991363, 0.7542150996544883, 0.7542150254683263, 0.7542145803513544, 0.7542133191866004, 0.7541144290326599, 11.88540655761277, 3.1388286805768093, 11.450711257674595, 5.745695693988683, 2.6801172427880267, 5.048450818832673, 6.21235632740765, 4.750792494077959, 13.05404158238731, 8.574277548354019, 5.91218665269705, 7.372275368381615, 6.295402691103036, 4.515533040411934, 4.033661869826625, 3.7706265236200425, 3.4787119882716984, 16.056810547590747, 11.777042827072208, 11.506158461568987, 19.12863762775239, 7.226176219277487, 6.813542730897565, 6.2593597679043125, 13.298325982237007, 9.307985889276546, 2.813794571062073, 2.121342600407629, 2.1208766591167545, 1.708631455145894, 1.7084133580100491, 4.684483925331, 17.790860401585903, 2.121476605008472, 7.7281943517830625, 6.024130637241595, 15.323953830042413, 0.7420756477268685, 0.7420756477268685, 0.7420756477268685, 0.7420740745672001, 0.7420725729147893, 0.7420725729147893, 1.429599552705567, 2.1805993776949215, 2.1208826657263975, 0.7420727874365624, 3.849318913966679, 3.1419101992722784, 6.9377639947780985, 1.980720574926072, 4.9090927980869346, 2.1219125132511314, 6.611156025588271, 3.5996204327321752, 6.1255691167754796, 4.6229419191035985, 3.2655788550656615, 2.810879935240093, 2.8495936785049776, 2.48318791602423, 10.944845413789267, 10.705003815904625, 11.236637879400782, 3.367605563100719, 2.574062084808199, 2.040534582419188, 3.7213071969249696, 4.6506166132014375, 1.6440221215175155, 1.6440205130916807, 1.6440005686113277, 1.6439942421363771, 1.6438406910833379, 2.878270525581317, 2.7887277436977436, 15.159743757449585, 1.5879694462264595, 0.7139203946747714, 0.7139203946747714, 0.7139202874463824, 0.7139202874463824, 0.7139202338321878, 0.7139202338321878, 0.7139202338321878, 0.7139201266037989, 3.3771857762869892, 1.3793366709584898, 2.044735790699969, 1.4538597579389108, 2.0837360425177156, 2.186933930826105, 6.415926588392558, 6.917083341341758, 17.91477562327633, 2.443279050060797, 4.6676779366310335, 4.830620480891929, 1.8360427530773846, 2.809644356625226, 3.8828360421053683, 3.4701922495918436, 3.659307313495145, 3.0314986067129204, 2.0694292019445943, 15.13537464745823, 11.034556583641052, 7.461524465033179, 7.20171147647861, 5.607493883365464, 5.211726773372378, 6.5347381760321825, 3.8888390440696545, 3.8887244400920933, 3.3573517614051944, 3.3567199966727754, 2.9615539391951, 2.0345198912354188, 2.0343931260444115, 2.034368597495257, 2.0338508183736135, 1.638654976229108, 2.2829582288947767, 1.3750424329616358, 3.4116979569515715, 2.6978172072648925, 0.7116979149342094, 0.7116979149342094, 0.7116979149342094, 0.7116979149342094, 0.7116979149342094, 0.7116979149342094, 0.7116954414670679, 0.7116954414670679, 0.7116954414670679, 8.184263318920744, 1.3749947156580289, 1.6388911923411316, 5.0340168163827945, 6.241819478765277, 6.502145299507205, 1.3750299625647968, 5.185993233475606, 2.5826134139218535, 2.44487983899721, 2.2369216462106336, 1.7373744508680276, 7.0047296084782715, 6.605030323152599, 6.204821804620543, 6.067309008943381, 8.345040926058283, 3.3932532611909156, 5.503327283887199, 2.9933804637719463, 2.0563292962711257, 2.0560734898707227, 2.0558236324563754, 2.0543796152410767, 4.257866203383167, 6.563748325915453, 1.6563416834212779, 1.655837110253971, 4.201065284521565, 5.675404481747201, 2.0264891822148003, 2.993392163444523, 4.330513634701368, 0.7193613584294061, 0.7193613584294061, 0.7193489647084563, 0.7193489647084563, 0.7193489647084563, 0.7193489647084563, 0.7193489647084563, 0.7193071235065299, 0.7193071235065299, 4.320754521376222, 2.627451787589723, 3.976962617206557, 1.3898386094906163, 5.267038316936243, 12.02779961066355, 4.378328015226948, 4.111422393239838, 1.7684915719477745, 4.657294611543762, 2.574865923648252, 6.356173244540861, 3.32436646876026, 4.783173878280459, 2.716231772788048, 1.8695105583904281, 1.8659885268553682, 12.347217154534091, 1.503032646658173, 2.3534755064504567, 6.792594814136403, 9.488984327827492, 4.420527269747914, 0.6527502263146374, 0.6527502263146374, 0.6527498444977675, 0.6527498444977675, 0.6527498444977675, 0.6527498444977675, 0.6527484699570357, 0.6527484699570357, 2.4744224145268636, 0.6527484699570357, 1.6996150330414121, 0.6527497681343936, 10.67437053861032, 1.8694800130408329, 0.6527502263146374, 0.6527471717796779, 6.961135500504129, 0.6527445754249623, 4.969644990313989, 4.445389657050823, 1.8973882298786153, 1.391469728157616, 0.9846075806355928, 0.7948034364176223, 0.800526871297999, 0.7816967323598724, 10.463073440564369, 4.920151528154861, 15.304691720277388, 1.6676486405505582, 3.1876017884100314, 0.5833611103874263, 0.5833611103874263, 15.478153690177471, 0.5833604689771461, 8.589227173647076, 3.1369029239203052, 4.59983277364598, 3.0292665819922617, 8.828557874290025, 0.5541642427182718, 0.7671701185033749, 0.03979657342961628, 0.03978957804874869, 0.039730764734875634, 0.03972958614348591, 0.03972958614348591, 0.039726848123352636, 0.039726848123352636, 0.03973521451869399, 0.03972833539343967, 0.03975689819497641, 0.039759740444280205, 0.039726848123352636, 0.039731586541797044, 0.039731522400769034, 4.424067884276142, 0.03973155046246879, 0.046386955819897935, 0.07264793229317247, 0.05955911768507909, 0.03973065248807661, 0.03973164667401081, 4.347995961149554, 4.014839342055763, 4.014204842911381, 3.3517577843667734, 2.911852434978285, 2.7988976896384647, 7.010324179550821, 1.6960309492229615, 1.6958386586023548, 1.6954810339901984, 1.695465219434485, 1.3660641979009154, 1.3413822291073614, 0.5933250500274981, 0.5933249901238781, 0.5933249901238781, 0.5933054016400966, 0.5933040238568337, 1.6993076772438904, 4.013607963240439, 0.5933250500274981, 0.5933052219292362, 0.5933040238568337, 0.5933241514731963, 1.6958711263644635, 1.33420781213927, 1.657351660936128, 0.5232758532780682, 0.5933040238568337, 0.5933222944609723, 1.2888935988872061, 3.4001917781550346, 1.8845243991570002, 2.4820626504988677, 1.3662775745958065, 1.6383619737414914, 1.1360834175829853, 2.2613630974688843, 1.4922309262741544, 0.7286379230252983, 0.7564632743813793, 0.7117644510188768, 5.163115602766651, 3.7457672209048267, 3.308424011082165, 2.765656728079177, 2.4367430760263153, 2.2197508404368436, 1.8943231708105148, 6.065953409800727, 1.673778392769574, 1.3484824871314887, 1.1314905905574242, 1.1314856183314528, 1.1287571093296165, 1.1314907035625599, 0.5856516019554339, 0.5856505284066446, 0.5856449346524267, 0.585642844057416, 0.585642844057416, 0.585642844057416, 0.585642844057416, 0.5856386063648267, 0.5856303004873517, 0.5856303004873517, 1.6300675542545093, 0.5856410924778124, 2.5424182466182, 0.5856291139334266, 1.3977280911835974, 4.066841028662331, 3.735372104480685, 2.618763160245555, 2.8646973671532403, 1.1052062740209536, 1.2539983281345857, 0.9714999535047174, 0.7300156063286456, 0.6916955648077243, 0.7730975712634568, 0.6887098561170011, 0.5915713194872908, 0.5911157957852241, 4.01289230351858, 10.11358720933377, 3.298928707349481, 3.2987770790899287, 1.975789727033932, 1.7724304464735676, 1.261872889325583, 2.2832570090871025, 1.0587256574226125, 1.261902137416258, 0.5479773623148806, 0.5479741873576691, 0.5479733695656601, 3.1673101826737247, 0.5479736581981339, 1.772622483279447, 0.5479764964174593, 0.5478988061766037, 0.9829833971325272, 1.0382050430676952, 1.6152785310601632, 4.568741876028386, 0.5479655283834561, 1.6218743603506798, 0.5479936219442361, 1.7750254448343794, 1.2712418032132256, 2.6438478676236308, 0.037318597392605124, 0.03731047659769217, 0.6755049065182921, 0.04356241833524538, 5.393397218698795, 4.402360385085476, 2.218884398168233, 1.5238799137149643, 1.5238799137149643, 2.5154329041027315, 0.5333057747535349, 0.5333057747535349, 0.5333057747535349, 0.5333057747535349, 0.5333052566184264, 0.5333052566184264, 0.5333052566184264, 0.5332973432822239, 0.5332973432822239, 0.5332973432822239, 0.5332973432822239, 0.5332973432822239, 0.5332973432822239, 10.9044024400396, 9.59944205196976, 1.9071547219674798, 1.3807032623578952, 0.5386690854679917, 0.533294234471573, 0.5332962599088152, 0.5333008760216, 1.030354527154742, 0.674157836497919, 0.6361436295799043, 1.0974956991970295, 0.7120146245493334, 0.5350724741639415, 1.545121935866142, 2.048005214413622, 1.2456651470226583, 1.245664382312208, 1.2454493287399762, 1.2453815244133697, 1.245338020885522, 4.092413230868332, 1.5462039161856993, 3.6573657170236062, 0.5409546007426409, 0.5409546007426409, 0.5409546007426409, 0.5409546007426409, 0.540954558258727, 0.540954515774813, 0.540954515774813, 0.5409544308069852, 0.5409543883230713, 0.5409542608713296, 2.464848371146276, 1.5886567318745346, 0.5409543883230713, 0.5329744223530689, 0.5329742099334993, 1.2456587744355714, 2.950016707269971, 0.5409537510643626, 0.5409543883230713, 0.5409537510643626, 2.6054619692895495, 1.7236537866627455, 1.3598666658213654, 1.1058612073107545, 0.6855482193931028, 0.5778958933116085, 3.128326367960299, 4.865721209434141, 5.172845469309715, 0.3970786717201542, 0.3970786717201542, 2.6847035422312393, 0.5550675255206057, 0.7163135746287648, 0.5672452318853975, 0.8748577148884101, 0.8213438182714518, 0.027040256239645576, 0.027037706395412385, 0.027037704776463667, 0.027039351247311383, 0.027034424786357987, 0.02703691149159112, 0.027033106962100328, 0.027032857643997526, 0.02703123060053444, 0.027033173338997827, 0.02703176809150931, 0.02703123060053444, 0.027029224723071, 0.027029224723071, 0.027029224723071, 0.027029224723071, 0.02702894788283997, 0.02702894788283997, 0.02702894788283997, 0.6095143510508599, 0.027030842052841765, 0.027048729817243364, 0.02703098775822652, 0.02703035960612336, 0.027030842052841765, 0.02703079996017506, 0.027032459382612534, 0.027032697368074298, 0.027035703755846383, 0.02703101689930347, 0.02798585990246638, 0.027040821252748676, 0.027035590429436016, 0.02703215340130455], \"Total\": [121.0, 133.0, 51.0, 111.0, 70.0, 62.0, 73.0, 81.0, 31.0, 67.0, 43.0, 40.0, 32.0, 43.0, 36.0, 30.0, 22.0, 55.0, 30.0, 35.0, 38.0, 29.0, 33.0, 44.0, 20.0, 75.0, 67.0, 19.0, 13.0, 16.0, 40.76936968682977, 21.823929433071708, 17.13472251271035, 14.548494420478363, 12.113693320693603, 6.774764895341968, 6.60850745578722, 6.124839982376301, 6.124523386923237, 4.506401117634516, 4.506340311556826, 4.022420344144198, 3.372063672848079, 3.3720333999322225, 3.3719494478182486, 3.3718620763134823, 3.371698141291425, 14.034713414160308, 2.8883195783679403, 2.888221528627082, 2.8877514908831854, 2.887747891451646, 2.8877240483688316, 2.8876350573266336, 5.267043776652772, 2.5654887842280183, 2.5654785856776567, 7.722955981439077, 4.362959350371785, 17.698012185933248, 16.914824875113737, 21.80412746933118, 34.564673174984485, 12.104025441720351, 21.623012101283024, 33.52093227955114, 44.39710393103054, 8.10393910779331, 121.28269923900172, 32.69846246935333, 67.10352419268824, 31.429346487782983, 13.403968990891194, 67.53984850021412, 25.94063369204395, 133.65821891766242, 12.865681631237068, 17.291002934622203, 51.044859455588565, 25.042823262876624, 75.22976729485835, 28.595076184327002, 14.792883294254096, 25.789792187385395, 9.69063572047988, 7.149417406802551, 11.374528276735445, 5.083338753506046, 4.91965816245453, 4.919599984172253, 62.32044056789792, 3.651934861217324, 26.486364693957864, 29.80024367797941, 2.8544999153905293, 2.8543503613527337, 2.8538736887193137, 11.94974693112909, 8.370864736595163, 70.81515088145403, 5.749370019101685, 16.587092554109958, 111.05789498567938, 10.314540958737375, 1.7399104223277289, 1.7399104223277289, 1.7398923102073884, 17.490359429687935, 20.09179782503944, 2.3238017670563234, 29.45962989128858, 67.53984850021412, 133.65821891766242, 81.01316122485096, 40.86336094780087, 31.12731992967297, 73.91510464969575, 75.22976729485835, 40.557013531204746, 33.848525103771614, 67.10352419268824, 10.501347356407273, 10.345845829621966, 9.589851798034385, 8.985376620744773, 8.682932125342955, 7.767168227279363, 43.66078099865647, 6.250693687149149, 21.10394834099471, 11.866937303963285, 5.041674020366676, 3.8278879093816722, 18.196831868803937, 3.2188815906569817, 3.218720491635104, 3.2185906331782728, 25.237993854248323, 8.706461002923417, 36.138876441170034, 2.7653782679272374, 2.7653597196757462, 2.76518555762759, 24.004966122122767, 55.22078028564189, 11.791554882905398, 8.36127690535211, 3.921529888712551, 28.595076184327002, 6.225807923756081, 20.09179782503944, 30.040884058185693, 75.22976729485835, 23.722684057734355, 29.45962989128858, 29.025957064710862, 121.28269923900172, 13.631694240006338, 14.261403633145614, 25.350677176508412, 13.69606272998554, 10.120842178193136, 9.65617476720988, 7.79107806317888, 7.4763111897714705, 6.550433231012014, 6.236369311102433, 5.456500102485463, 8.026875049779134, 4.831340509321921, 4.831331496329447, 7.050707378463424, 4.366803539087456, 4.366525857527231, 12.323626420757858, 3.9017868849288777, 6.529728831167435, 3.2763508528974143, 5.494696751797848, 25.503747786328837, 23.953323966923808, 73.91510464969575, 3.947366356226579, 3.5036811840661737, 23.722684057734355, 3.536166122195632, 3.571931765190893, 3.572416451310641, 1.7222429776536576, 1.7222352869432045, 25.350677176508412, 13.631694240006338, 43.88640437985026, 21.623012101283024, 15.988457188392832, 13.103207013926209, 16.725929912752314, 25.042823262876624, 67.53984850021412, 25.237993854248323, 21.80412746933118, 44.39710393103054, 133.65821891766242, 38.483540227932785, 40.86336094780087, 17.939336761907075, 13.997019610274304, 9.298253747799416, 7.927884461673305, 7.625231061857314, 7.629759054772446, 6.2547824988016325, 5.800967673086205, 5.34746144312122, 4.737373280899003, 11.900969750300698, 4.284038421023025, 4.2839786538189415, 4.283877013686749, 4.283779633095141, 4.283744667247854, 26.28738605952714, 3.5274844161759025, 13.964568015028185, 3.224925492123293, 2.4641887551435504, 9.597410558194335, 8.432790321382814, 7.569417290797168, 16.725929912752314, 43.88640437985026, 15.988457188392832, 1.7033615984942825, 1.7033615984942825, 1.7033592606614698, 51.044859455588565, 32.81041318361394, 14.654721612213068, 25.042823262876624, 62.32044056789792, 67.10352419268824, 31.12731992967297, 12.15929827245629, 25.350677176508412, 133.65821891766242, 33.848525103771614, 121.28269923900172, 75.22976729485835, 14.23596341928984, 7.593592823951018, 7.593393737767747, 6.5807411738054675, 6.292605453036844, 5.716441577149561, 5.568489907982866, 4.555780473622581, 8.673105671030015, 3.403788528651274, 3.111418397284384, 3.1113523976519946, 3.111328733284434, 3.110776816390368, 3.1105522379564503, 3.110360235480636, 3.110269123922689, 9.106848787697801, 2.679305976860294, 2.67882880126101, 2.3912995548857254, 3.6147082335956684, 5.332751822230179, 6.115835349473961, 7.850762088907037, 35.79095716006374, 14.654721612213068, 4.57495019043601, 1.66693881023446, 1.6669387298074825, 33.52093227955114, 5.735510631586245, 13.733034272215704, 44.39710393103054, 40.86336094780087, 17.490359429687935, 111.05789498567938, 67.10352419268824, 18.196831868803937, 40.557013531204746, 133.65821891766242, 29.80024367797941, 81.01316122485096, 10.760475488371137, 11.94974693112909, 28.233497065517003, 70.81515088145403, 55.22078028564189, 13.342754076401516, 11.695936059415088, 7.216957416466888, 6.770409481289821, 6.168388513421154, 3.78388052517127, 17.88422476491805, 3.1843437754164174, 3.1837957865112916, 2.7376809381527925, 2.737482279808803, 12.195238300055957, 7.100109471213247, 7.892450314393685, 24.592619720379524, 4.620284318635893, 1.691248481591948, 1.691248481591948, 7.085917342351665, 121.28269923900172, 2.2441978576607013, 4.385575782648687, 2.354739593389565, 2.3941565670764398, 2.502492496848119, 2.7548460797078897, 70.81515088145403, 25.94063369204395, 13.103207013926209, 133.65821891766242, 22.278748057543098, 34.564673174984485, 28.233497065517003, 55.22078028564189, 5.735510631586245, 81.01316122485096, 111.05789498567938, 33.52093227955114, 28.595076184327002, 30.791533945205185, 8.100114345832475, 7.53677063010401, 6.5582012389408, 6.414230108531763, 5.851265149333944, 4.593398112055096, 4.034134626815573, 4.02982868871019, 4.029770535055907, 3.7504575483506986, 3.3311052472020966, 3.047498320323264, 8.714417012252794, 2.628200449146278, 2.627981311251616, 2.6279449629940457, 6.749302920681416, 10.63384966378779, 8.418817196999683, 4.595918367175302, 7.912220152195381, 1.645582477662074, 1.6455827758160315, 1.6455827450078928, 1.6455827274742938, 1.6455804004495382, 1.6454815102955975, 32.69846246935333, 8.864697340831343, 35.79095716006374, 18.780003430529394, 7.627097243551966, 16.914824875113737, 22.278748057543098, 17.698012185933248, 111.05789498567938, 75.22976729485835, 34.564673174984485, 121.28269923900172, 81.01316122485096, 40.557013531204746, 44.39710393103054, 33.848525103771614, 38.483540227932785, 16.949004014116152, 12.669236292183026, 12.398351923735856, 20.849627032946124, 8.118369685258346, 7.705736196878422, 7.151553232726422, 15.51641493661496, 12.142738712969937, 3.7093124770557258, 3.0135360625744947, 3.013070142993762, 2.60082492041119, 2.600606824535456, 7.3641301035208135, 29.025957064710862, 3.5573265663320606, 13.733034272215704, 10.895301469077705, 28.233497065517003, 1.6342691098937348, 1.6342691098937348, 1.6342691098937348, 1.6342675367340662, 1.6342660350816556, 1.6342660350816556, 3.6525398603546373, 6.10200991658045, 6.160975940533241, 2.187189389147944, 12.104025441720351, 10.314540958737375, 32.81041318361394, 6.175867044739195, 22.278748057543098, 7.569417290797168, 55.22078028564189, 21.80412746933118, 67.10352419268824, 73.91510464969575, 31.12731992967297, 40.557013531204746, 81.01316122485096, 25.94063369204395, 11.838977486667646, 12.542824777472152, 13.38841750456054, 4.261755545841476, 3.468175221263227, 2.9346476874087903, 5.5082795749591655, 7.116796385157959, 2.5381347672812216, 2.5381341835720863, 2.538113576184636, 2.5381075609928816, 2.537953781891802, 4.696706746697982, 4.605454806738647, 30.040884058185693, 3.3064052103596597, 1.6080332811543512, 1.6080333009271977, 1.6080332483689836, 1.6080332759996463, 1.608033251620165, 1.6080332516482205, 1.6080332589205033, 1.6080332990149666, 7.912220152195381, 3.6525398603546373, 5.4183801433113326, 4.011819102586619, 5.813922767571114, 6.10200991658045, 18.780003430529394, 24.592619720379524, 81.01316122485096, 7.456751665173111, 22.278748057543098, 25.94063369204395, 7.3641301035208135, 17.490359429687935, 40.557013531204746, 33.848525103771614, 75.22976729485835, 51.044859455588565, 133.65821891766242, 16.029642075243082, 11.928819012428129, 8.355786886801836, 8.095973895098886, 6.501756296547415, 6.105989186554329, 7.974829329662879, 4.783101457251606, 4.782986856624932, 4.251614174587146, 4.250982444112109, 3.8558163523770506, 2.9287823044173695, 2.9286555392263622, 2.9286310106772078, 2.9281132554913563, 2.532917393698966, 3.7052633674611126, 2.269304846143587, 7.085917342351665, 5.609451946724254, 1.605960328116161, 1.605960328116161, 1.605960328116161, 1.605960328116161, 1.605960328116161, 1.605960328116161, 1.6059578546490194, 1.6059578546490194, 1.6059578546490194, 31.429346487782983, 3.742001813518766, 5.029967692502236, 40.86336094780087, 81.01316122485096, 111.05789498567938, 5.912866107400334, 121.28269923900172, 28.595076184327002, 29.025957064710862, 38.483540227932785, 12.323626420757858, 7.898470831248456, 7.498771537276335, 7.0985630213995226, 6.961050235527558, 9.791592135872945, 4.2869944779698965, 7.085324343424223, 3.8871216778956823, 2.9500705147534028, 2.9498147195339257, 2.9495648667940064, 2.9481209034156755, 6.157635786906953, 9.576387483584845, 2.550163976407002, 2.5495783451978347, 6.750701875867619, 9.226824459009386, 3.659576376602646, 6.055797965253623, 8.864697340831343, 1.6131025725531423, 1.6131025725531423, 1.6130901788321927, 1.6130901788321927, 1.6130901788321927, 1.6130901788321927, 1.6130901788321927, 1.6130483376302662, 1.6130483376302662, 10.740659549645587, 6.998998937821594, 11.792305826151917, 3.7031196687807038, 23.953323966923808, 81.01316122485096, 31.12731992967297, 32.69846246935333, 9.597410558194335, 67.53984850021412, 67.10352419268824, 7.25444859625163, 4.222657914693818, 6.185598340951663, 3.6145071289680204, 2.767785910101197, 2.7642638785661373, 19.166491441035348, 2.401307998368942, 4.0003309399071565, 12.15929827245629, 17.291002934622203, 8.07331742911216, 1.5510255780254065, 1.5510255780254065, 1.5510251962085366, 1.5510251962085366, 1.5510251962085366, 1.5510251962085366, 1.551023821667805, 1.551023821667805, 5.912866107400334, 2.221424473336685, 5.7843913463462835, 2.2425924518691502, 38.483540227932785, 6.998998937821594, 2.775631126275184, 2.8574138868514827, 36.138876441170034, 3.7031196687807038, 33.848525103771614, 40.86336094780087, 67.10352419268824, 75.22976729485835, 121.28269923900172, 25.350677176508412, 30.791533945205185, 73.91510464969575, 11.366210915867612, 5.823149499369005, 22.742936455317082, 2.5706465916143966, 6.160975940533241, 1.4863590614512647, 1.4863590614512647, 51.044859455588565, 3.5573265663320606, 67.53984850021412, 26.486364693957864, 40.557013531204746, 38.483540227932785, 133.65821891766242, 11.900969750300698, 16.587092554109958, 0.9429511477788545, 0.9431607193563006, 0.9427355220774655, 0.9427807268966539, 0.9427807268966539, 0.9427349468181182, 0.9427582097460057, 0.9429604113823677, 0.9428196296589393, 0.9434993968515906, 0.9435832152120398, 0.9428075440790246, 0.9429352854059063, 0.9429866051846996, 111.05789498567938, 0.9430622356664178, 2.354739593389565, 70.81515088145403, 17.291002934622203, 0.9435843857738409, 25.042823262876624, 5.250324282358251, 4.917159180555305, 4.916524715890459, 4.2540924358442584, 3.814172277486641, 3.7012264173839733, 10.378574709584473, 2.598361741740535, 2.598158510082369, 2.5978008883010677, 2.5977892203127158, 2.2683840407589977, 3.058342757814018, 1.4956460147663475, 1.4956460487160033, 1.4956460710620214, 1.495625240139638, 1.4956238623563751, 4.894777685374752, 14.261403633145614, 2.1659925074888133, 2.187189389147944, 2.2441978576607013, 2.2556156644076037, 6.750701875867619, 5.5265720142477965, 7.100109471213247, 2.3238017670563234, 2.7548460797078897, 3.031126755468001, 8.370864736595163, 44.39710393103054, 24.004966122122767, 40.557013531204746, 15.51641493661496, 32.69846246935333, 13.403968990891194, 111.05789498567938, 40.86336094780087, 7.085324343424223, 17.698012185933248, 28.233497065517003, 6.065975997841201, 4.648609779623564, 4.21126657827892, 3.6685043564871584, 3.3395856472054932, 3.122599956651073, 2.7971657295292522, 9.219917755386446, 2.5766209664169324, 2.2513250503194295, 2.034333149276162, 2.0343281770501904, 2.0350358505194905, 2.7949939055179143, 1.488494160674171, 1.4884930871253819, 1.488487493371164, 1.4884854027761532, 1.4884854027761532, 1.4884854027761532, 1.4884854027761532, 1.4884811650835639, 1.488472859206089, 1.488472859206089, 4.868723624453818, 2.2680025587198402, 10.740659549645587, 2.8574138868514827, 11.792305826151917, 38.483540227932785, 36.138876441170034, 40.557013531204746, 67.10352419268824, 28.233497065517003, 111.05789498567938, 28.595076184327002, 10.63384966378779, 6.998998937821594, 31.12731992967297, 55.22078028564189, 9.791592135872945, 25.350677176508412, 4.918334101235204, 12.448008672676481, 4.2043340390672626, 4.204184106375858, 2.8811950587517137, 2.6780472816620007, 2.1672807072475466, 3.9999329069081564, 1.9641372657132719, 2.775631126275184, 1.453385616323678, 1.4533845516339163, 1.4533849218064057, 12.195238300055957, 2.1776214379921583, 8.432790321382814, 2.7548460797078897, 2.880534958161965, 5.5265720142477965, 6.998998937821594, 11.791554882905398, 33.848525103771614, 4.080197627067234, 14.261403633145614, 5.912866107400334, 25.503747786328837, 18.780003430529394, 43.66078099865647, 0.9428901412336251, 0.9427369260894984, 28.233497065517003, 67.10352419268824, 6.299811715230221, 5.308765781703286, 3.1252898160189293, 2.4302853431673346, 2.4302853431673346, 4.18262240408058, 1.4397111713713449, 1.4397111713713449, 1.4397111713713449, 1.4397111713713449, 1.4397106532362363, 1.4397106532362363, 1.4397106532362363, 1.439702739900034, 1.439702739900034, 1.439702739900034, 1.439702739900034, 1.439702739900034, 1.439702739900034, 31.429346487782983, 32.81041318361394, 10.63384966378779, 8.07331742911216, 3.4562829429746094, 4.080197627067234, 4.385575782648687, 5.609451946724254, 10.895301469077705, 7.722955981439077, 8.432790321382814, 73.91510464969575, 20.09179782503944, 7.456751665173111, 2.4510078544103417, 3.4562829429746094, 2.151552887006974, 2.151553339704081, 2.1513354004073553, 2.1512676815955705, 2.1512254055670614, 7.627097243551966, 3.1436688495368337, 7.456751665173111, 1.4468404433420987, 1.4468404718466679, 1.4468404827032721, 1.4468404899103942, 1.446840462159699, 1.4468404502008776, 1.446840487681763, 1.4468404650257114, 1.446840517858399, 1.4468404985761896, 8.36127690535211, 5.4183801433113326, 2.2074978453210874, 2.210961746463437, 2.2109618254929067, 5.332751822230179, 12.865681631237068, 3.6147082335956684, 4.595918367175302, 6.185598340951663, 33.848525103771614, 25.350677176508412, 25.94063369204395, 18.780003430529394, 8.418817196999683, 23.953323966923808, 4.0440034887083405, 11.800897979959164, 13.403968990891194, 1.3127557924681956, 1.3127557924681956, 9.226824459009386, 3.7052633674611126, 6.225807923756081, 5.749370019101685, 13.631694240006338, 19.166491441035348, 0.9427958847485375, 0.942763156387376, 0.9428280065331556, 0.9429099430410893, 0.9428079095180316, 0.9429062995697659, 0.9427813200934188, 0.9427756928560358, 0.942732444350841, 0.9428017959959824, 0.9427778649267448, 0.9427704466034663, 0.942740957432554, 0.942740957432554, 0.942740957432554, 0.942740957432554, 0.942741558482339, 0.942741558482339, 0.942741558482339, 22.278748057543098, 0.9428196296589393, 0.9435843857738409, 0.9428418740542215, 0.9428259147749959, 0.9428687734327446, 0.942891215713268, 0.9430622356664178, 0.9430875243838023, 0.9435832152120398, 0.9429917205677266, 16.587092554109958, 111.05789498567938, 21.10394834099471, 133.65821891766242], \"Category\": [\"Default\", \"Default\", \"Default\", \"Default\", \"Default\", \"Default\", \"Default\", \"Default\", \"Default\", \"Default\", \"Default\", \"Default\", \"Default\", \"Default\", \"Default\", \"Default\", \"Default\", \"Default\", \"Default\", \"Default\", \"Default\", \"Default\", \"Default\", \"Default\", \"Default\", \"Default\", \"Default\", \"Default\", \"Default\", \"Default\", \"Topic1\", \"Topic1\", \"Topic1\", \"Topic1\", \"Topic1\", \"Topic1\", \"Topic1\", \"Topic1\", \"Topic1\", \"Topic1\", \"Topic1\", \"Topic1\", \"Topic1\", \"Topic1\", \"Topic1\", \"Topic1\", \"Topic1\", \"Topic1\", \"Topic1\", \"Topic1\", \"Topic1\", \"Topic1\", \"Topic1\", \"Topic1\", \"Topic1\", \"Topic1\", \"Topic1\", \"Topic1\", \"Topic1\", \"Topic1\", \"Topic1\", \"Topic1\", \"Topic1\", \"Topic1\", \"Topic1\", \"Topic1\", \"Topic1\", \"Topic1\", \"Topic1\", \"Topic1\", \"Topic1\", \"Topic1\", \"Topic1\", \"Topic1\", \"Topic1\", \"Topic1\", \"Topic1\", \"Topic1\", \"Topic1\", \"Topic1\", \"Topic1\", \"Topic1\", \"Topic2\", \"Topic2\", \"Topic2\", \"Topic2\", \"Topic2\", \"Topic2\", \"Topic2\", \"Topic2\", \"Topic2\", \"Topic2\", \"Topic2\", \"Topic2\", \"Topic2\", \"Topic2\", \"Topic2\", \"Topic2\", \"Topic2\", \"Topic2\", \"Topic2\", \"Topic2\", \"Topic2\", \"Topic2\", \"Topic2\", \"Topic2\", \"Topic2\", \"Topic2\", \"Topic2\", \"Topic2\", \"Topic2\", \"Topic2\", \"Topic2\", \"Topic2\", \"Topic2\", \"Topic2\", \"Topic2\", \"Topic2\", \"Topic2\", \"Topic2\", \"Topic2\", \"Topic3\", \"Topic3\", \"Topic3\", \"Topic3\", \"Topic3\", \"Topic3\", \"Topic3\", \"Topic3\", \"Topic3\", \"Topic3\", \"Topic3\", \"Topic3\", \"Topic3\", \"Topic3\", \"Topic3\", \"Topic3\", \"Topic3\", \"Topic3\", \"Topic3\", \"Topic3\", \"Topic3\", \"Topic3\", \"Topic3\", \"Topic3\", \"Topic3\", \"Topic3\", \"Topic3\", \"Topic3\", \"Topic3\", \"Topic3\", \"Topic3\", \"Topic3\", \"Topic3\", \"Topic3\", \"Topic3\", \"Topic3\", \"Topic3\", \"Topic3\", \"Topic3\", \"Topic4\", \"Topic4\", \"Topic4\", \"Topic4\", \"Topic4\", \"Topic4\", \"Topic4\", \"Topic4\", \"Topic4\", \"Topic4\", \"Topic4\", \"Topic4\", \"Topic4\", \"Topic4\", \"Topic4\", \"Topic4\", \"Topic4\", \"Topic4\", \"Topic4\", \"Topic4\", \"Topic4\", \"Topic4\", \"Topic4\", \"Topic4\", \"Topic4\", \"Topic4\", \"Topic4\", \"Topic4\", \"Topic4\", \"Topic4\", \"Topic4\", \"Topic4\", \"Topic4\", \"Topic4\", \"Topic4\", \"Topic4\", \"Topic4\", \"Topic4\", \"Topic4\", \"Topic4\", \"Topic4\", \"Topic4\", \"Topic4\", \"Topic4\", \"Topic4\", \"Topic5\", \"Topic5\", \"Topic5\", \"Topic5\", \"Topic5\", \"Topic5\", \"Topic5\", \"Topic5\", \"Topic5\", \"Topic5\", \"Topic5\", \"Topic5\", \"Topic5\", \"Topic5\", \"Topic5\", \"Topic5\", \"Topic5\", \"Topic5\", \"Topic5\", \"Topic5\", \"Topic5\", \"Topic5\", \"Topic5\", \"Topic5\", \"Topic5\", \"Topic5\", \"Topic5\", \"Topic5\", \"Topic5\", \"Topic5\", \"Topic5\", \"Topic5\", \"Topic5\", \"Topic5\", \"Topic5\", \"Topic5\", \"Topic5\", \"Topic5\", \"Topic5\", \"Topic5\", \"Topic5\", \"Topic5\", \"Topic5\", \"Topic6\", \"Topic6\", \"Topic6\", \"Topic6\", \"Topic6\", \"Topic6\", \"Topic6\", \"Topic6\", \"Topic6\", \"Topic6\", \"Topic6\", \"Topic6\", \"Topic6\", \"Topic6\", \"Topic6\", \"Topic6\", \"Topic6\", \"Topic6\", \"Topic6\", \"Topic6\", \"Topic6\", \"Topic6\", \"Topic6\", \"Topic6\", \"Topic6\", \"Topic6\", \"Topic6\", \"Topic6\", \"Topic6\", \"Topic6\", \"Topic6\", \"Topic6\", \"Topic6\", \"Topic6\", \"Topic6\", \"Topic6\", \"Topic6\", \"Topic6\", \"Topic6\", \"Topic6\", \"Topic6\", \"Topic6\", \"Topic6\", \"Topic6\", \"Topic6\", \"Topic6\", \"Topic6\", \"Topic6\", \"Topic7\", \"Topic7\", \"Topic7\", \"Topic7\", \"Topic7\", \"Topic7\", \"Topic7\", \"Topic7\", \"Topic7\", \"Topic7\", \"Topic7\", \"Topic7\", \"Topic7\", \"Topic7\", \"Topic7\", \"Topic7\", \"Topic7\", \"Topic7\", \"Topic7\", \"Topic7\", \"Topic7\", \"Topic7\", \"Topic7\", \"Topic7\", \"Topic7\", \"Topic7\", \"Topic7\", \"Topic7\", \"Topic7\", \"Topic7\", \"Topic7\", \"Topic7\", \"Topic7\", \"Topic7\", \"Topic7\", \"Topic7\", \"Topic7\", \"Topic7\", \"Topic7\", \"Topic8\", \"Topic8\", \"Topic8\", \"Topic8\", \"Topic8\", \"Topic8\", \"Topic8\", \"Topic8\", \"Topic8\", \"Topic8\", \"Topic8\", \"Topic8\", \"Topic8\", \"Topic8\", \"Topic8\", \"Topic8\", \"Topic8\", \"Topic8\", \"Topic8\", \"Topic8\", \"Topic8\", \"Topic8\", \"Topic8\", \"Topic8\", \"Topic8\", \"Topic8\", \"Topic8\", \"Topic8\", \"Topic8\", \"Topic8\", \"Topic8\", \"Topic8\", \"Topic8\", \"Topic8\", \"Topic8\", \"Topic8\", \"Topic8\", \"Topic8\", \"Topic8\", \"Topic8\", \"Topic8\", \"Topic8\", \"Topic8\", \"Topic8\", \"Topic8\", \"Topic9\", \"Topic9\", \"Topic9\", \"Topic9\", \"Topic9\", \"Topic9\", \"Topic9\", \"Topic9\", \"Topic9\", \"Topic9\", \"Topic9\", \"Topic9\", \"Topic9\", \"Topic9\", \"Topic9\", \"Topic9\", \"Topic9\", \"Topic9\", \"Topic9\", \"Topic9\", \"Topic9\", \"Topic9\", \"Topic9\", \"Topic9\", \"Topic9\", \"Topic9\", \"Topic9\", \"Topic9\", \"Topic9\", \"Topic9\", \"Topic9\", \"Topic9\", \"Topic9\", \"Topic9\", \"Topic9\", \"Topic9\", \"Topic9\", \"Topic9\", \"Topic9\", \"Topic9\", \"Topic9\", \"Topic9\", \"Topic9\", \"Topic9\", \"Topic10\", \"Topic10\", \"Topic10\", \"Topic10\", \"Topic10\", \"Topic10\", \"Topic10\", \"Topic10\", \"Topic10\", \"Topic10\", \"Topic10\", \"Topic10\", \"Topic10\", \"Topic10\", \"Topic10\", \"Topic10\", \"Topic10\", \"Topic10\", \"Topic10\", \"Topic10\", \"Topic10\", \"Topic10\", \"Topic10\", \"Topic10\", \"Topic10\", \"Topic10\", \"Topic10\", \"Topic10\", \"Topic10\", \"Topic10\", \"Topic10\", \"Topic10\", \"Topic10\", \"Topic10\", \"Topic10\", \"Topic10\", \"Topic10\", \"Topic10\", \"Topic10\", \"Topic10\", \"Topic10\", \"Topic10\", \"Topic10\", \"Topic10\", \"Topic11\", \"Topic11\", \"Topic11\", \"Topic11\", \"Topic11\", \"Topic11\", \"Topic11\", \"Topic11\", \"Topic11\", \"Topic11\", \"Topic11\", \"Topic11\", \"Topic11\", \"Topic11\", \"Topic11\", \"Topic11\", \"Topic11\", \"Topic11\", \"Topic11\", \"Topic11\", \"Topic11\", \"Topic11\", \"Topic11\", \"Topic11\", \"Topic11\", \"Topic11\", \"Topic11\", \"Topic11\", \"Topic11\", \"Topic11\", \"Topic11\", \"Topic11\", \"Topic11\", \"Topic11\", \"Topic11\", \"Topic11\", \"Topic11\", \"Topic11\", \"Topic11\", \"Topic11\", \"Topic11\", \"Topic11\", \"Topic12\", \"Topic12\", \"Topic12\", \"Topic12\", \"Topic12\", \"Topic12\", \"Topic12\", \"Topic12\", \"Topic12\", \"Topic12\", \"Topic12\", \"Topic12\", \"Topic12\", \"Topic12\", \"Topic12\", \"Topic12\", \"Topic12\", \"Topic12\", \"Topic12\", \"Topic12\", \"Topic12\", \"Topic12\", \"Topic12\", \"Topic12\", \"Topic12\", \"Topic12\", \"Topic12\", \"Topic12\", \"Topic12\", \"Topic12\", \"Topic12\", \"Topic12\", \"Topic12\", \"Topic12\", \"Topic12\", \"Topic12\", \"Topic12\", \"Topic12\", \"Topic12\", \"Topic12\", \"Topic12\", \"Topic13\", \"Topic13\", \"Topic13\", \"Topic13\", \"Topic13\", \"Topic13\", \"Topic13\", \"Topic13\", \"Topic13\", \"Topic13\", \"Topic13\", \"Topic13\", \"Topic13\", \"Topic13\", \"Topic13\", \"Topic13\", \"Topic13\", \"Topic13\", \"Topic13\", \"Topic13\", \"Topic13\", \"Topic13\", \"Topic13\", \"Topic13\", \"Topic13\", \"Topic13\", \"Topic13\", \"Topic13\", \"Topic13\", \"Topic13\", \"Topic13\", \"Topic13\", \"Topic13\", \"Topic13\", \"Topic13\", \"Topic13\", \"Topic13\", \"Topic13\", \"Topic14\", \"Topic14\", \"Topic14\", \"Topic14\", \"Topic14\", \"Topic14\", \"Topic14\", \"Topic14\", \"Topic14\", \"Topic14\", \"Topic14\", \"Topic14\", \"Topic14\", \"Topic14\", \"Topic14\", \"Topic14\", \"Topic14\", \"Topic14\", \"Topic14\", \"Topic14\", \"Topic14\", \"Topic14\", \"Topic14\", \"Topic14\", \"Topic14\", \"Topic14\", \"Topic14\", \"Topic14\", \"Topic14\", \"Topic14\", \"Topic14\", \"Topic14\", \"Topic14\", \"Topic14\", \"Topic14\", \"Topic14\", \"Topic14\", \"Topic15\", \"Topic15\", \"Topic15\", \"Topic15\", \"Topic15\", \"Topic15\", \"Topic15\", \"Topic15\", \"Topic15\", \"Topic15\", \"Topic15\", \"Topic15\", \"Topic15\", \"Topic15\", \"Topic15\", \"Topic15\", \"Topic15\", \"Topic15\", \"Topic15\", \"Topic15\", \"Topic15\", \"Topic15\", \"Topic15\", \"Topic15\", \"Topic15\", \"Topic15\", \"Topic15\", \"Topic15\", \"Topic15\", \"Topic15\", \"Topic15\", \"Topic15\", \"Topic15\", \"Topic15\", \"Topic15\", \"Topic15\", \"Topic15\", \"Topic15\", \"Topic15\", \"Topic15\", \"Topic15\", \"Topic15\", \"Topic16\", \"Topic16\", \"Topic16\", \"Topic16\", \"Topic16\", \"Topic16\", \"Topic16\", \"Topic16\", \"Topic16\", \"Topic16\", \"Topic16\", \"Topic16\", \"Topic16\", \"Topic16\", \"Topic16\", \"Topic16\", \"Topic16\", \"Topic16\", \"Topic16\", \"Topic16\", \"Topic16\", \"Topic16\", \"Topic16\", \"Topic16\", \"Topic16\", \"Topic16\", \"Topic16\", \"Topic16\", \"Topic16\", \"Topic16\", \"Topic16\", \"Topic16\", \"Topic16\", \"Topic16\", \"Topic16\", \"Topic16\", \"Topic16\", \"Topic16\", \"Topic16\", \"Topic16\", \"Topic16\", \"Topic16\", \"Topic17\", \"Topic17\", \"Topic17\", \"Topic17\", \"Topic17\", \"Topic17\", \"Topic17\", \"Topic17\", \"Topic17\", \"Topic17\", \"Topic17\", \"Topic17\", \"Topic17\", \"Topic17\", \"Topic17\", \"Topic17\", \"Topic17\", \"Topic17\", \"Topic17\", \"Topic17\", \"Topic17\", \"Topic17\", \"Topic17\", \"Topic17\", \"Topic17\", \"Topic17\", \"Topic17\", \"Topic17\", \"Topic17\", \"Topic17\", \"Topic17\", \"Topic17\", \"Topic18\", \"Topic18\", \"Topic18\", \"Topic18\", \"Topic18\", \"Topic18\", \"Topic18\", \"Topic18\", \"Topic18\", \"Topic18\", \"Topic18\", \"Topic18\", \"Topic18\", \"Topic18\", \"Topic18\", \"Topic18\", \"Topic18\", \"Topic18\", \"Topic18\", \"Topic18\", \"Topic18\", \"Topic18\", \"Topic18\", \"Topic18\", \"Topic18\", \"Topic18\", \"Topic18\", \"Topic18\", \"Topic18\", \"Topic18\", \"Topic18\", \"Topic18\", \"Topic18\", \"Topic19\", \"Topic19\", \"Topic19\", \"Topic19\", \"Topic19\", \"Topic19\", \"Topic19\", \"Topic19\", \"Topic19\", \"Topic19\", \"Topic19\", \"Topic19\", \"Topic19\", \"Topic19\", \"Topic19\", \"Topic19\", \"Topic19\", \"Topic19\", \"Topic19\", \"Topic19\", \"Topic19\", \"Topic19\", \"Topic19\", \"Topic19\", \"Topic19\", \"Topic19\", \"Topic19\", \"Topic19\", \"Topic19\", \"Topic19\", \"Topic19\", \"Topic19\", \"Topic19\", \"Topic19\", \"Topic19\", \"Topic19\", \"Topic20\", \"Topic20\", \"Topic20\", \"Topic20\", \"Topic20\", \"Topic20\", \"Topic20\", \"Topic20\", \"Topic20\", \"Topic20\", \"Topic20\", \"Topic20\", \"Topic20\", \"Topic20\", \"Topic20\", \"Topic20\", \"Topic20\", \"Topic20\", \"Topic20\", \"Topic20\", \"Topic20\", \"Topic20\", \"Topic20\", \"Topic20\", \"Topic20\", \"Topic20\", \"Topic20\", \"Topic20\", \"Topic20\", \"Topic20\", \"Topic20\", \"Topic20\", \"Topic20\", \"Topic20\", \"Topic20\", \"Topic20\", \"Topic20\", \"Topic20\", \"Topic20\", \"Topic20\", \"Topic20\", \"Topic20\", \"Topic20\", \"Topic20\", \"Topic20\"], \"logprob\": [30.0, 29.0, 28.0, 27.0, 26.0, 25.0, 24.0, 23.0, 22.0, 21.0, 20.0, 19.0, 18.0, 17.0, 16.0, 15.0, 14.0, 13.0, 12.0, 11.0, 10.0, 9.0, 8.0, 7.0, 6.0, 5.0, 4.0, 3.0, 2.0, 1.0, -2.7093, -3.3536, -3.6071, -3.7805, -3.9767, -4.6218, -4.6505, -4.7387, -4.7388, -5.108, -5.108, -5.2514, -5.4836, -5.4836, -5.4836, -5.4837, -5.4837, -4.0616, -5.6997, -5.6998, -5.7, -5.7, -5.7, -5.7001, -5.1082, -5.8753, -5.8753, -4.7886, -5.3599, -3.9618, -4.1073, -3.9249, -3.5656, -4.4976, -4.0382, -3.7409, -3.5677, -4.9103, -2.8959, -3.8831, -3.3938, -3.9547, -4.5581, -3.4976, -4.1353, -3.2195, -4.6617, -4.655, -4.3151, -4.5442, -4.2313, -4.6895, -3.7465, -3.1929, -4.2035, -4.544, -4.1017, -4.9442, -4.9839, -4.9839, -2.5182, -5.361, -3.3825, -3.3161, -5.7009, -5.701, -5.7012, -4.2782, -4.6903, -2.5601, -5.1043, -4.0873, -2.2957, -4.7057, -6.5351, -6.5351, -6.5351, -4.2809, -4.2506, -6.4235, -3.9276, -3.2571, -2.7064, -3.1988, -3.898, -4.2753, -3.6168, -3.6909, -4.1139, -4.3101, -4.2801, -3.9986, -4.0149, -4.0982, -4.1702, -4.2083, -4.3332, -2.6328, -4.5822, -3.3822, -3.9732, -4.8377, -5.1832, -3.6638, -5.4153, -5.4153, -5.4154, -3.4002, -4.468, -3.0575, -5.6315, -5.6316, -5.6316, -3.4918, -2.6687, -4.2231, -4.6433, -5.4153, -3.5197, -5.0985, -3.9417, -3.6198, -2.8206, -3.9724, -3.901, -4.188, -3.3989, -4.7723, -4.935, -4.8687, -3.5375, -3.8647, -3.9163, -4.1554, -4.2021, -4.3544, -4.4105, -4.5681, -4.2014, -4.7151, -4.7151, -4.3542, -4.8404, -4.8405, -3.8107, -4.9838, -4.4712, -5.2162, -4.7151, -3.2167, -3.3173, -2.2604, -5.2159, -5.4321, -3.5211, -5.4322, -5.4322, -5.4322, -6.2663, -6.2663, -3.5928, -4.2211, -3.2086, -3.8566, -4.219, -4.4218, -4.3265, -4.1342, -3.6431, -4.1537, -4.3648, -4.2217, -4.0392, -4.4912, -4.5599, -3.2427, -3.5056, -3.9494, -4.1272, -4.1712, -4.1707, -4.3985, -4.4869, -4.5837, -4.7308, -3.8184, -4.8561, -4.8561, -4.8561, -4.8561, -4.8562, -3.0507, -5.108, -3.7445, -5.2297, -5.6234, -4.2722, -4.4283, -4.5505, -3.7688, -2.8498, -4.0412, -6.282, -6.282, -6.282, -2.9558, -3.5226, -4.3532, -3.9271, -3.4407, -3.4492, -3.9272, -4.5695, -4.3854, -4.1841, -4.5302, -4.3645, -4.5089, -3.3323, -4.0208, -4.0209, -4.1846, -4.2366, -4.3494, -4.3805, -4.6244, -3.9893, -5.0016, -5.1253, -5.1253, -5.1253, -5.1256, -5.1257, -5.1257, -5.1258, -4.0876, -5.3416, -5.3418, -5.517, -5.1257, -4.7498, -4.6244, -4.4068, -2.9052, -3.8189, -5.1483, -6.1756, -6.1756, -3.4364, -5.0616, -4.2815, -3.3652, -3.4618, -4.1748, -3.0698, -3.5295, -4.5561, -4.3589, -4.0259, -4.5854, -4.4037, -4.8501, -4.8432, -4.6843, -4.6307, -4.8105, -3.3199, -3.4617, -3.9968, -4.07, -4.178, -4.7787, -3.2416, -5.0107, -5.0109, -5.227, -5.2271, -3.7406, -4.317, -4.2674, -3.311, -5.0088, -6.0611, -6.0611, -4.8001, -1.9804, -6.0611, -5.4025, -6.0611, -6.0611, -6.0611, -6.0611, -2.8181, -3.8973, -4.5819, -2.2836, -4.1992, -3.8257, -4.0126, -3.9509, -5.4843, -3.9651, -3.9991, -4.7419, -5.0676, -2.4511, -3.7887, -3.8701, -4.0294, -4.0551, -4.1626, -4.4551, -4.6189, -4.6203, -4.6203, -4.7135, -4.8721, -4.9957, -3.957, -5.212, -5.2121, -5.2121, -4.3479, -3.8938, -4.1696, -4.8721, -4.4578, -6.0461, -6.0461, -6.0461, -6.0461, -6.0461, -6.0462, -3.2887, -4.6202, -3.326, -4.0156, -4.7782, -4.1449, -3.9375, -4.2057, -3.1949, -3.6153, -3.987, -3.7663, -3.9242, -4.2565, -4.3693, -4.4368, -4.5174, -2.9511, -3.2611, -3.2844, -2.7761, -3.7495, -3.8083, -3.8932, -3.1396, -3.4964, -4.6927, -4.9752, -4.9754, -5.1916, -5.1917, -4.183, -2.8486, -4.9751, -3.6824, -3.9315, -2.9978, -6.0255, -6.0255, -6.0255, -6.0255, -6.0256, -6.0256, -5.3698, -4.9476, -4.9754, -6.0256, -4.3793, -4.5824, -3.7903, -5.0438, -4.1362, -4.9749, -3.8385, -4.4464, -3.9148, -4.1962, -4.5438, -4.6937, -4.6801, -4.8177, -3.0464, -3.0685, -3.0201, -4.2251, -4.4938, -4.726, -4.1252, -3.9023, -4.9421, -4.9421, -4.9421, -4.9421, -4.9422, -4.3821, -4.4137, -2.7206, -4.9768, -5.7762, -5.7762, -5.7762, -5.7762, -5.7762, -5.7762, -5.7762, -5.7762, -4.2222, -5.1177, -4.724, -5.065, -4.7051, -4.6568, -3.5805, -3.5053, -2.5536, -4.5459, -3.8986, -3.8643, -4.8316, -4.4062, -4.0827, -4.195, -4.142, -4.3302, -4.712, -2.6826, -2.9986, -3.3899, -3.4253, -3.6755, -3.7487, -3.5225, -4.0415, -4.0415, -4.1885, -4.1887, -4.3139, -4.6894, -4.6894, -4.6894, -4.6897, -4.9057, -4.5741, -5.0811, -4.1724, -4.4072, -5.7397, -5.7397, -5.7397, -5.7397, -5.7397, -5.7397, -5.7397, -5.7397, -5.7397, -3.2974, -5.0812, -4.9056, -3.7834, -3.5683, -3.5275, -5.0811, -3.7537, -4.4508, -4.5056, -4.5945, -4.8472, -3.4143, -3.4731, -3.5356, -3.558, -3.2393, -4.1391, -3.6556, -4.2645, -4.64, -4.6401, -4.6403, -4.641, -3.9122, -3.4794, -4.8563, -4.8566, -3.9256, -3.6248, -4.6546, -4.2645, -3.8952, -5.6903, -5.6903, -5.6903, -5.6903, -5.6903, -5.6903, -5.6903, -5.6904, -5.6904, -3.8975, -4.3949, -3.9804, -5.0317, -3.6995, -2.8737, -3.8843, -3.9472, -4.7908, -3.8225, -4.4151, -3.2504, -3.8985, -3.5347, -4.1006, -4.4741, -4.476, -2.5864, -4.6923, -4.2439, -3.184, -2.8497, -3.6135, -5.5264, -5.5264, -5.5264, -5.5264, -5.5264, -5.5264, -5.5264, -5.5264, -4.1938, -5.5264, -4.5694, -5.5264, -2.732, -4.4741, -5.5264, -5.5264, -3.1595, -5.5264, -3.4965, -3.6079, -4.4593, -4.7694, -5.1153, -5.3295, -5.3223, -5.3461, -2.5775, -3.332, -2.1972, -4.414, -3.7661, -5.4643, -5.4643, -2.186, -5.4643, -2.7749, -3.7821, -3.3994, -3.8171, -2.7474, -5.5157, -5.1904, -8.1494, -8.1495, -8.151, -8.151, -8.151, -8.1511, -8.1511, -8.1509, -8.1511, -8.1504, -8.1503, -8.1511, -8.151, -8.151, -3.4383, -8.151, -7.9961, -7.5475, -7.7462, -8.151, -8.151, -3.3873, -3.467, -3.4672, -3.6475, -3.7882, -3.8278, -2.9096, -4.3287, -4.3289, -4.3291, -4.3291, -4.5451, -4.5633, -5.379, -5.379, -5.379, -5.3791, -5.3791, -4.3268, -3.4673, -5.379, -5.3791, -5.3791, -5.379, -4.3288, -4.5687, -4.3518, -5.5047, -5.3791, -5.3791, -4.6032, -3.6332, -4.2234, -3.9479, -4.5449, -4.3633, -4.7294, -4.0411, -4.4568, -5.1736, -5.1361, -5.197, -3.157, -3.478, -3.6021, -3.7813, -3.9079, -4.0012, -4.1597, -2.9959, -4.2835, -4.4996, -4.675, -4.6751, -4.6775, -4.675, -5.3336, -5.3336, -5.3336, -5.3336, -5.3336, -5.3336, -5.3336, -5.3336, -5.3336, -5.3336, -4.31, -5.3336, -3.8655, -5.3337, -4.4637, -3.3957, -3.4807, -3.8359, -3.7461, -4.6986, -4.5722, -4.8275, -5.1133, -5.1672, -5.0559, -5.1715, -5.3236, -5.3243, -3.2482, -2.3238, -3.4441, -3.4441, -3.9567, -4.0653, -4.4051, -3.8121, -4.5806, -4.4051, -5.2392, -5.2392, -5.2392, -3.4848, -5.2392, -4.0652, -5.2392, -5.2394, -4.6549, -4.6002, -4.1582, -3.1185, -5.2392, -4.1541, -5.2392, -4.0639, -4.3977, -3.6655, -7.926, -7.9262, -5.03, -7.7713, -2.9315, -3.1345, -3.8196, -4.1954, -4.1954, -3.6942, -5.2453, -5.2453, -5.2453, -5.2453, -5.2453, -5.2453, -5.2453, -5.2453, -5.2453, -5.2453, -5.2453, -5.2453, -5.2453, -2.2275, -2.3549, -3.971, -4.294, -5.2353, -5.2453, -5.2453, -5.2453, -4.5867, -5.0109, -5.069, -4.5236, -4.9563, -5.242, -4.0783, -3.7966, -4.2938, -4.2938, -4.2939, -4.294, -4.294, -3.1043, -4.0776, -3.2167, -5.1278, -5.1278, -5.1278, -5.1278, -5.1278, -5.1278, -5.1278, -5.1278, -5.1278, -5.1278, -3.6113, -4.0505, -5.1278, -5.1427, -5.1427, -4.2938, -3.4316, -5.1278, -5.1278, -5.1278, -3.5558, -3.969, -4.206, -4.4128, -4.891, -5.0618, -2.8782, -2.4364, -2.3752, -4.9423, -4.9423, -3.0311, -4.6073, -4.3523, -4.5856, -4.1524, -4.2155, -7.6291, -7.6292, -7.6292, -7.6291, -7.6293, -7.6292, -7.6294, -7.6294, -7.6294, -7.6294, -7.6294, -7.6294, -7.6295, -7.6295, -7.6295, -7.6295, -7.6295, -7.6295, -7.6295, -4.5138, -7.6294, -7.6288, -7.6294, -7.6295, -7.6294, -7.6294, -7.6294, -7.6294, -7.6293, -7.6294, -7.5947, -7.6291, -7.6293, -7.6294], \"loglift\": [30.0, 29.0, 28.0, 27.0, 26.0, 25.0, 24.0, 23.0, 22.0, 21.0, 20.0, 19.0, 18.0, 17.0, 16.0, 15.0, 14.0, 13.0, 12.0, 11.0, 10.0, 9.0, 8.0, 7.0, 6.0, 5.0, 4.0, 3.0, 2.0, 1.0, 2.1955, 2.176, 2.1644, 2.1547, 2.1416, 2.0776, 2.0739, 2.0616, 2.0616, 1.9992, 1.9992, 1.9694, 1.9136, 1.9136, 1.9136, 1.9135, 1.9135, 1.9095, 1.8523, 1.8523, 1.8522, 1.8522, 1.8522, 1.8522, 1.843, 1.7952, 1.7952, 1.7798, 1.7797, 1.7774, 1.6772, 1.6057, 1.5043, 1.6215, 1.5007, 1.3596, 1.2518, 1.6101, 0.9187, 1.2423, 1.0127, 1.2102, 1.459, 0.9024, 1.2215, 0.4979, 1.3965, 1.1075, 0.3649, 0.8479, 0.0609, 0.57, 2.172, 2.1698, 2.138, 2.1016, 2.0796, 2.0426, 2.0355, 2.0355, 1.9622, 1.9564, 1.9536, 1.9021, 1.8629, 1.8628, 1.8628, 1.8538, 1.7976, 1.7925, 1.7593, 1.7168, 1.6069, 1.5734, 1.5237, 1.5237, 1.5237, 1.4702, 1.3618, 1.346, 1.302, 1.1429, 1.011, 1.0192, 1.0045, 0.8993, 0.6929, 0.6012, 0.7961, 0.7807, 0.1264, 2.2626, 2.2612, 2.2538, 2.2469, 2.243, 2.2295, 2.2034, 2.1978, 2.181, 2.1657, 2.1573, 2.0872, 2.0476, 2.0284, 2.0284, 2.0284, 1.9841, 1.9806, 1.9678, 1.964, 1.964, 1.9639, 1.9426, 1.9327, 1.9222, 1.8458, 1.8309, 1.7398, 1.6855, 1.6707, 1.5904, 1.4715, 1.4738, 1.3286, 1.0564, 0.4157, 1.228, 1.0202, 0.5112, 2.4581, 2.4334, 2.4287, 2.4043, 2.3989, 2.3788, 2.3718, 2.3478, 2.3285, 2.3224, 2.3224, 2.3054, 2.2983, 2.2982, 2.2905, 2.2675, 2.2651, 2.2098, 2.1938, 2.1572, 2.1193, 2.0494, 2.0237, 1.9268, 1.9252, 1.9174, 1.9074, 1.9072, 1.8028, 1.8028, 1.7871, 1.7792, 1.6225, 1.6823, 1.6219, 1.618, 1.4693, 1.2579, 0.7569, 1.2307, 1.1658, 0.5978, -0.3218, 0.4712, 0.3426, 2.483, 2.4683, 2.4335, 2.4151, 2.4101, 2.4099, 2.3808, 2.3678, 2.3524, 2.3264, 2.3177, 2.3017, 2.3017, 2.3017, 2.3017, 2.3017, 2.2929, 2.2441, 2.2317, 2.212, 2.0874, 2.079, 2.0523, 2.0381, 2.0269, 1.9813, 1.7996, 1.7981, 1.7981, 1.7981, 1.7242, 1.5993, 1.5747, 1.465, 1.0397, 0.9572, 1.2474, 1.5451, 0.9945, -0.4667, 0.5606, -0.5499, -0.2167, 2.6246, 2.5645, 2.5645, 2.5439, 2.5367, 2.52, 2.5151, 2.4719, 2.4631, 2.3862, 2.3523, 2.3523, 2.3523, 2.3523, 2.3522, 2.3522, 2.3522, 2.3161, 2.2856, 2.2855, 2.2238, 2.202, 2.1891, 2.1774, 2.1453, 2.1298, 2.109, 1.9438, 1.926, 1.926, 1.6641, 1.8044, 1.7114, 1.4543, 1.4407, 1.5762, 0.8328, 0.877, 1.1553, 0.5511, -0.3085, 0.6328, -0.1857, 1.3867, 1.2887, 0.5879, -0.2781, -0.2092, 2.7018, 2.6918, 2.6394, 2.6301, 2.6153, 2.5032, 2.4872, 2.4438, 2.4437, 2.3786, 2.3786, 2.371, 2.3356, 2.2794, 2.0993, 2.0734, 2.0261, 2.0261, 1.8545, 1.8342, 1.7433, 1.7319, 1.6952, 1.6786, 1.6343, 1.5382, 1.5345, 1.4596, 1.4579, 1.4338, 1.3099, 1.2441, 1.2596, 0.6505, 1.3817, 0.253, -0.0965, 0.3586, 0.1919, 2.7344, 2.7321, 2.7228, 2.7026, 2.699, 2.6834, 2.6329, 2.599, 2.5987, 2.5987, 2.5773, 2.5372, 2.5027, 2.4907, 2.4344, 2.4344, 2.4344, 2.3554, 2.3549, 2.3127, 2.2154, 2.0865, 2.0685, 2.0685, 2.0685, 2.0685, 2.0685, 2.0684, 1.8366, 1.8104, 1.709, 1.6643, 1.8028, 1.6396, 1.5716, 1.5335, 0.7077, 0.6769, 1.0828, 0.0483, 0.2939, 0.6535, 0.4502, 0.654, 0.4451, 2.8314, 2.8124, 2.8108, 2.7993, 2.769, 2.7624, 2.7522, 2.7312, 2.6196, 2.6091, 2.5344, 2.5343, 2.4653, 2.4653, 2.4331, 2.3959, 2.3685, 2.3105, 2.2929, 2.2744, 2.0959, 2.0959, 2.0959, 2.0959, 2.0959, 2.0959, 1.9474, 1.8564, 1.819, 1.8045, 1.7398, 1.6967, 1.3317, 1.7483, 1.3729, 1.6136, 0.7629, 1.0842, 0.4917, 0.1136, 0.6308, 0.2162, -0.462, 0.5392, 3.0949, 3.015, 2.9982, 2.9379, 2.8753, 2.8101, 2.7813, 2.748, 2.7391, 2.7391, 2.7391, 2.7391, 2.7391, 2.6838, 2.6718, 2.4895, 2.44, 2.3614, 2.3614, 2.3614, 2.3614, 2.3614, 2.3614, 2.3614, 2.3614, 2.3221, 2.1996, 2.1989, 2.1584, 2.1473, 2.1473, 2.0994, 1.905, 1.6644, 2.0576, 1.6105, 1.4926, 1.7844, 1.3448, 0.8273, 0.8957, 0.1502, 0.3498, -0.9946, 3.1557, 3.1351, 3.0999, 3.096, 3.0651, 3.0547, 3.0139, 3.0061, 3.0061, 2.9769, 2.9769, 2.9492, 2.8487, 2.8487, 2.8487, 2.8486, 2.7776, 2.7288, 2.7121, 2.4822, 2.4811, 2.3992, 2.3992, 2.3992, 2.3992, 2.3992, 2.3992, 2.3992, 2.3992, 2.3992, 1.8675, 2.2119, 2.0917, 1.1191, 0.6497, 0.3751, 1.7544, 0.0609, 0.8086, 0.7389, 0.3679, 1.2539, 3.1317, 3.1248, 3.1172, 3.1143, 3.0919, 3.018, 2.9991, 2.9905, 2.8909, 2.8908, 2.8908, 2.8906, 2.8828, 2.874, 2.8202, 2.8201, 2.7774, 2.7658, 2.6607, 2.5471, 2.5354, 2.4442, 2.4442, 2.4442, 2.4442, 2.4442, 2.4442, 2.4442, 2.4442, 2.4442, 2.3412, 2.272, 2.1648, 2.2718, 1.7371, 1.3444, 1.2903, 1.1782, 1.5604, 0.5775, -0.0087, 3.3807, 3.2737, 3.2558, 3.2272, 3.1205, 3.1199, 3.0732, 3.0444, 2.9824, 2.9306, 2.9128, 2.9106, 2.6474, 2.6474, 2.6474, 2.6474, 2.6474, 2.6474, 2.6474, 2.6474, 2.6418, 2.2882, 2.2881, 2.2787, 2.2305, 2.1928, 2.0654, 2.0364, 1.8659, 1.7771, 1.5943, 1.2945, -0.0529, -0.4773, -1.3008, 0.0504, -0.1368, -1.0363, 3.6045, 3.5188, 3.2912, 3.2546, 3.0283, 2.752, 2.752, 2.494, 1.8793, 1.6251, 1.5539, 1.5106, 1.1454, 0.97, 0.6204, 0.6136, 0.5221, 0.5217, 0.5206, 0.5206, 0.5206, 0.5205, 0.5205, 0.5205, 0.5205, 0.5205, 0.5205, 0.5205, 0.5205, 0.5204, 0.4643, 0.5203, -0.2399, -3.1949, -1.9837, 0.5197, -2.7589, 3.5671, 3.5529, 3.5529, 3.5173, 3.4857, 3.4762, 3.3633, 3.3291, 3.329, 3.329, 3.3289, 3.2485, 2.9315, 2.8311, 2.8311, 2.8311, 2.8311, 2.8311, 2.6977, 2.4878, 2.4608, 2.451, 2.4253, 2.4202, 2.3742, 2.3344, 2.3008, 2.2648, 2.2202, 2.1247, 1.8847, 1.1863, 1.2111, 0.962, 1.3258, 0.762, 1.2877, -0.1384, 0.4457, 1.481, 0.6031, 0.0751, 3.6529, 3.5982, 3.5728, 3.5316, 3.4989, 3.4728, 3.4244, 3.3954, 3.3827, 3.3016, 3.2275, 3.2275, 3.2247, 2.9098, 2.8813, 2.8813, 2.8813, 2.8813, 2.8813, 2.8813, 2.8813, 2.8813, 2.8813, 2.8813, 2.7199, 2.4602, 2.3732, 2.2291, 1.6815, 1.5667, 1.5446, 1.0741, 0.6603, 0.5736, -0.6696, 0.432, 1.1354, 1.4997, 0.1187, -0.5702, 1.0076, 0.0556, 3.7715, 3.7673, 3.7325, 3.7325, 3.5978, 3.5623, 3.4341, 3.4143, 3.357, 3.1867, 2.9996, 2.9996, 2.9996, 2.6268, 2.5952, 2.4153, 2.3601, 2.3154, 2.2483, 2.0667, 1.9871, 1.9723, 1.9673, 1.801, 1.5964, 1.31, 1.2822, 1.1708, 0.7455, 0.7455, 0.2422, -3.3648, 3.8407, 3.8088, 3.6535, 3.5293, 3.5293, 3.4876, 3.0029, 3.0029, 3.0029, 3.0029, 3.0029, 3.0029, 3.0029, 3.0029, 3.0029, 3.0029, 3.0029, 3.0029, 3.0029, 2.9375, 2.767, 2.2776, 2.2301, 2.1372, 1.9612, 1.889, 1.6429, 1.6376, 1.5576, 1.4116, -0.2138, 0.6561, 1.3616, 3.6379, 3.5759, 3.5527, 3.5527, 3.5527, 3.5526, 3.5526, 3.4767, 3.3897, 3.3869, 3.1155, 3.1155, 3.1155, 3.1155, 3.1155, 3.1155, 3.1155, 3.1155, 3.1155, 3.1155, 2.8778, 2.8724, 2.693, 2.6766, 2.6766, 2.6451, 2.6265, 2.1998, 1.9597, 1.6626, 1.535, 1.4109, 1.1508, 1.2671, 1.5913, 0.3748, 4.3373, 3.7081, 3.6419, 3.3983, 3.3983, 3.3595, 2.6956, 2.4317, 2.278, 1.8479, 1.444, 1.0425, 1.0424, 1.0424, 1.0423, 1.0423, 1.0423, 1.0423, 1.0422, 1.0422, 1.0422, 1.0422, 1.0422, 1.0421, 1.0421, 1.0421, 1.0421, 1.0421, 1.0421, 1.0421, 0.9953, 1.0421, 1.042, 1.0421, 1.0421, 1.0421, 1.042, 1.0419, 1.0419, 1.0415, 1.042, -1.7907, -3.7264, -2.066, -3.912]}, \"token.table\": {\"Topic\": [2, 3, 18, 15, 4, 6, 13, 20, 11, 4, 19, 1, 6, 15, 15, 12, 18, 17, 15, 13, 5, 16, 1, 7, 12, 11, 4, 11, 12, 15, 3, 2, 2, 6, 7, 8, 9, 10, 11, 12, 15, 18, 6, 7, 11, 16, 2, 15, 8, 5, 8, 5, 1, 6, 7, 1, 12, 15, 2, 1, 5, 9, 4, 16, 10, 7, 9, 2, 4, 5, 7, 8, 9, 13, 18, 13, 12, 18, 9, 1, 3, 8, 7, 15, 6, 2, 1, 3, 1, 2, 4, 5, 12, 14, 17, 1, 12, 13, 1, 5, 12, 13, 16, 18, 9, 1, 12, 11, 4, 15, 16, 2, 6, 9, 4, 5, 17, 6, 9, 1, 3, 3, 11, 18, 16, 1, 2, 7, 8, 12, 15, 10, 2, 4, 6, 11, 12, 13, 15, 14, 9, 10, 10, 1, 19, 10, 12, 5, 3, 19, 17, 19, 2, 11, 9, 11, 7, 6, 2, 12, 9, 5, 18, 6, 7, 9, 15, 16, 17, 6, 12, 13, 1, 5, 10, 12, 14, 20, 19, 11, 20, 8, 4, 16, 16, 5, 1, 4, 10, 4, 5, 5, 10, 8, 9, 16, 18, 1, 18, 6, 6, 8, 16, 18, 11, 3, 4, 19, 15, 9, 15, 13, 9, 8, 9, 10, 13, 8, 3, 5, 8, 10, 1, 2, 15, 6, 5, 8, 12, 4, 5, 6, 17, 3, 8, 12, 10, 13, 17, 3, 19, 6, 8, 17, 17, 8, 5, 15, 11, 3, 7, 9, 12, 15, 5, 8, 14, 4, 11, 13, 12, 6, 17, 8, 4, 15, 15, 3, 8, 19, 3, 6, 2, 17, 16, 2, 12, 20, 5, 4, 12, 5, 13, 17, 18, 18, 6, 7, 11, 11, 7, 8, 8, 4, 6, 7, 3, 10, 19, 11, 1, 18, 2, 8, 9, 12, 14, 8, 12, 7, 1, 7, 9, 10, 19, 2, 5, 6, 7, 15, 8, 1, 2, 3, 4, 16, 12, 8, 5, 6, 9, 18, 2, 5, 3, 6, 5, 2, 6, 4, 2, 6, 7, 8, 11, 14, 15, 16, 3, 15, 2, 6, 7, 18, 3, 6, 1, 3, 6, 7, 3, 6, 9, 8, 12, 15, 5, 17, 18, 3, 13, 16, 13, 16, 12, 1, 3, 8, 12, 15, 15, 1, 3, 13, 2, 6, 10, 1, 11, 18, 6, 5, 8, 19, 18, 11, 12, 9, 15, 6, 6, 9, 7, 15, 17, 5, 5, 11, 19, 19, 4, 18, 19, 8, 19, 1, 10, 2, 4, 9, 9, 11, 4, 3, 4, 15, 17, 11, 8, 3, 4, 2, 5, 7, 10, 18, 7, 8, 9, 10, 20, 12, 16, 4, 6, 3, 16, 1, 1, 4, 9, 6, 10, 6, 11, 2, 5, 6, 2, 6, 13, 18, 11, 7, 3, 4, 1, 3, 4, 5, 8, 11, 13, 14, 16, 1, 9, 11, 15, 15, 6, 1, 2, 4, 5, 6, 7, 9, 10, 11, 14, 10, 6, 7, 15, 2, 12, 18, 3, 7, 4, 6, 11, 11, 1, 17, 10, 18, 7, 13, 17, 8, 17, 1, 3, 4, 5, 7, 8, 11, 13, 3, 8, 10, 5, 5, 11, 15, 7, 17, 4, 8, 10, 19, 19, 16, 4, 4, 4, 11, 3, 9, 11, 8, 2, 3, 9, 11, 15, 1, 10, 18, 1, 9, 10, 3, 19, 16, 3, 13, 11, 12, 4, 5, 10, 1, 9, 3, 8, 11, 13, 17, 3, 8, 16, 20, 19, 16, 6, 10, 1, 9, 12, 3, 1, 4, 8, 12, 19, 5, 18, 9, 19, 4, 5, 8, 10, 2, 8, 10, 8, 1, 7, 1, 11, 12, 11, 4, 3, 4, 5, 13, 16, 19, 9, 14, 13, 3, 19, 12, 13, 16, 18, 5, 8, 1, 9, 13, 8, 8, 9, 11, 18, 2, 3, 4, 6, 7, 8, 12, 8, 11, 2, 6, 7, 1, 6, 4, 5, 18, 8, 13, 10, 19, 11, 15, 15, 5, 10, 18, 2, 7, 2, 12, 10, 1, 15, 20, 7, 8, 6, 19, 1, 4, 6, 8, 15, 5, 19, 9, 12, 1, 11, 18, 3, 5, 1, 5, 7, 16, 1, 10, 14, 10, 1, 4, 5, 6, 10, 13, 19, 1, 7, 8, 1, 11, 2, 2, 5, 6, 8, 9, 10, 11, 14, 15, 16, 2, 5, 6, 8, 16, 9, 7, 13, 10, 19, 11, 15, 2, 6, 3, 4, 8, 20, 12, 6, 8, 12, 20, 16, 3, 10, 9, 14, 1, 4, 6, 6, 12, 5, 4, 5, 10, 13, 13, 10, 13, 1, 8, 12, 16, 12, 1, 12, 1, 18, 6, 7, 6, 4, 19, 7, 5, 3, 6, 9, 19, 1, 6, 14, 3, 3, 10, 6, 17, 4, 6, 8, 1, 9, 1, 2, 3, 9, 14, 19, 7, 5, 13, 1, 10, 18, 19, 5, 12, 15, 17, 17, 5, 13, 16, 16, 14, 8, 6, 1, 3, 5, 7, 11, 16, 6, 8, 9, 16, 11, 12, 13, 16, 17, 8, 17, 12, 15, 9, 11, 16, 4, 16, 15, 9, 6, 8, 6, 19, 1, 8, 15, 1, 3, 7, 10, 15, 4, 13, 3, 10, 15, 17, 9, 1, 5, 3, 1, 16, 1, 3, 17, 3, 6, 7, 8, 9, 16, 4, 1, 2, 3, 5, 6, 8, 10, 13, 10, 7, 1, 6, 3, 5, 8, 10, 17, 19, 9, 10, 19, 5, 16, 1, 4, 9, 15, 14, 12, 16, 13, 16, 5, 4, 11, 16, 8, 10, 1, 8, 11, 2, 5, 7, 8, 10, 13, 17, 19, 14, 5, 9, 8, 4, 1, 10, 12, 12, 1, 3, 19, 9, 13, 3, 6, 20, 1, 6, 7, 1, 6, 4, 9, 1, 2, 5, 9, 12, 16, 1, 3, 12, 16, 1, 2, 5, 6, 9, 12, 13, 16, 5, 6], \"Freq\": [0.39817243183832884, 0.49771553979791106, 0.049771553979791106, 0.4408424596680735, 0.15652317009763286, 0.10434878006508858, 0.6260926803905315, 0.05217439003254429, 0.9228275755561832, 0.8509784448475569, 0.14182974080792615, 0.32991032070699455, 0.32991032070699455, 0.32991032070699455, 0.7698819447659737, 0.8862474964528746, 0.6399406511833994, 0.6880486422656971, 0.7052032942966897, 0.8299886797723737, 0.357782533273431, 0.357782533273431, 0.7795785396901747, 0.6280728906973807, 0.619923380580348, 0.7057192165437421, 0.801748541591121, 0.7780453542997573, 0.8468207959411914, 0.1411367993235319, 0.6213649197554286, 0.7008018637634615, 0.29624816063390386, 0.061718366798729975, 0.08640571351822196, 0.07406204015847596, 0.03703102007923798, 0.2221861204754279, 0.07406204015847596, 0.14812408031695193, 0.6686166916430454, 0.6945840108581277, 0.9218539485426198, 0.4233749640387936, 0.4233749640387936, 0.7762104034964888, 0.4303293052689044, 0.4303293052689044, 0.600401323758793, 0.8603766058646583, 0.7999024015934483, 0.6201693666675067, 0.16350996108585766, 0.6540398443434307, 0.16350996108585766, 0.4085987410574045, 0.20429937052870226, 0.4085987410574045, 0.8214823412814077, 0.7594392926314383, 0.18985982315785957, 0.9471762719749771, 0.44091661014899547, 0.44091661014899547, 0.9291342949496734, 0.6281809934146374, 0.6637747895284032, 0.2164645518101943, 0.6223355864543086, 0.027058068976274288, 0.013529034488137144, 0.013529034488137144, 0.06764517244068573, 0.013529034488137144, 0.013529034488137144, 0.6447348517899572, 0.619923380580348, 0.6945878286440125, 0.611894328752884, 0.8856395893716308, 0.5100050380227003, 0.2550025190113501, 0.7042144941950612, 0.2816857976780245, 0.9218297796954873, 0.813074236293425, 0.8163900574983091, 0.9012293535004221, 0.26650933337439947, 0.34053970375617715, 0.1776728889162663, 0.014806074076355527, 0.07403037038177764, 0.13325466668719974, 0.688049146301841, 0.2700425828607537, 0.2700425828607537, 0.2700425828607537, 0.1862083041321233, 0.09310415206606165, 0.3724166082642466, 0.09310415206606165, 0.27931245619818496, 0.8229486326051929, 0.8622420844804437, 0.6925869530815196, 0.619928143585845, 0.622680387860533, 0.32697446924319246, 0.32697446924319246, 0.8604723109978727, 0.5747422322248957, 0.04796248865362541, 0.9112872844188827, 0.41014980047589433, 0.5696525006609644, 0.7135493926323595, 0.8746700079970369, 0.6118949177675084, 0.6924676587916376, 0.8699143741569612, 0.3565410701428574, 0.5348116052142861, 0.1782705350714287, 0.715009475086265, 0.49183164307491334, 0.05786254624410745, 0.2314501849764298, 0.17358763873232236, 0.028931273122053725, 0.028931273122053725, 0.6218776875260561, 0.2936616010447325, 0.12235900043530519, 0.2936616010447325, 0.12235900043530519, 0.024471800087061037, 0.09788720034824415, 0.024471800087061037, 0.8586418742197498, 0.2737820908826185, 0.2737820908826185, 0.7879886694863398, 0.5931086106422124, 0.6911611970737805, 0.16239999158870533, 0.6495999663548213, 0.8619251617618344, 0.7232787667659865, 0.691161193630911, 0.746812804125996, 0.46485133422659664, 0.8130646211411381, 0.7896033265732697, 0.6636721640196267, 0.622680387860533, 0.8105844807150232, 0.6428121781553844, 0.7006481202597535, 0.6780086853441434, 0.6118954800097987, 0.5870752125489179, 0.8229486326051929, 0.10625676277502484, 0.21251352555004968, 0.5312838138751241, 0.03541892092500828, 0.03541892092500828, 0.03541892092500828, 0.6429726450483746, 0.45016160216239653, 0.45016160216239653, 0.15672489032828815, 0.4505840596938284, 0.058771833873108054, 0.01959061129103602, 0.2938591693655403, 0.7418391226359212, 0.6911611894912276, 0.5397726967436655, 0.26988634837183273, 0.7444485192148942, 0.872070383130308, 0.12458148330432972, 0.6718257667330709, 0.5870744067988666, 0.4935871243347969, 0.24679356216739845, 0.12339678108369923, 0.5598451432688493, 0.27992257163442463, 0.28102532259753693, 0.7025633064938424, 0.5642359248722717, 0.09403932081204529, 0.09403932081204529, 0.18807864162409058, 0.9811287323610914, 0.7936745137814455, 0.6427936537707628, 0.21692167468972956, 0.10846083734486478, 0.6507650240691887, 0.6945837608855158, 0.622680387860533, 0.27996055516658436, 0.5599211103331687, 0.46478058059316424, 0.7697157666200407, 0.4572077776902377, 0.4572077776902377, 0.7235199271342461, 0.611894328752884, 0.8768644020154248, 0.032476459333904625, 0.032476459333904625, 0.032476459333904625, 0.9354201359285843, 0.8426774106795213, 0.08426774106795212, 0.1815448882707471, 0.7261795530829884, 0.11946197095125306, 0.5973098547562653, 0.11946197095125306, 0.6428072890455337, 0.6251686289357663, 0.10419477148929439, 0.20838954297858878, 0.7057786232362607, 0.1568396940525024, 0.0784198470262512, 0.0784198470262512, 0.8903355237809611, 0.273255671446963, 0.546511342893926, 0.8650081984344777, 0.3602784211971174, 0.3602784211971174, 0.4522918596848447, 0.4522918596848447, 0.3471577378939668, 0.3471577378939668, 0.3471577378939668, 0.46140769705369783, 0.9287797577439872, 0.7003218522656226, 0.7698854026960835, 0.9357663714255162, 0.22366079897667454, 0.7268975966741922, 0.9084141762906036, 0.4616821141082201, 0.4616821141082201, 0.8402676596793579, 0.08402676596793579, 0.08402676596793579, 0.8114494596457458, 0.16228989192914917, 0.6447346930752031, 0.619928143585845, 0.4592166400244637, 0.4592166400244637, 0.60772484755563, 0.2890570318128115, 0.6744664075632268, 0.8134778340749733, 0.23756306298143218, 0.5939076574535804, 0.11878153149071609, 0.714410073892411, 0.219818484274588, 0.7868844068755297, 0.7135748397531755, 0.6718295156106325, 0.6957283992351188, 0.1739320998087797, 0.1739320998087797, 0.8443497615288039, 0.5066669316987004, 0.2533334658493502, 0.49017233546051564, 0.24508616773025782, 0.24508616773025782, 0.24508616773025782, 0.6945878286440125, 0.2672366422665244, 0.2672366422665244, 0.2672366422665244, 0.6226813469015655, 0.8313752809888882, 0.8641853313591201, 0.7609769645422833, 0.827929112924451, 0.2534067267237075, 0.6335168168092689, 0.5160027265469355, 0.344001817697957, 0.6911611946955365, 0.6226813469015655, 0.9622465131406109, 0.6945878286440125, 0.7551055130099621, 0.037755275650498105, 0.037755275650498105, 0.037755275650498105, 0.11326582695149431, 0.6076874673659464, 0.7717792877592833, 0.5912791709108968, 0.38549559423704527, 0.2698469159659317, 0.07709911884740905, 0.19274779711852263, 0.03854955942370453, 0.7046922242289495, 0.06711354516466185, 0.1342270903293237, 0.033556772582330925, 0.033556772582330925, 0.9148850090743855, 0.16972378873906135, 0.40733709297374726, 0.373392335225935, 0.03394475774781227, 0.6404919066690056, 0.619928143585845, 0.6076874495141139, 0.39621567479962166, 0.09143438649222038, 0.2133469018151809, 0.3047812883074013, 0.7702127835201061, 0.2246453951933643, 0.2547523383527261, 0.6368808458818151, 0.7002836013960195, 0.8791573379313852, 0.08791573379313852, 0.5806407565686916, 0.531254441727064, 0.1530733137179676, 0.05402587542987092, 0.11705606343138698, 0.06303018800151607, 0.03601725028658061, 0.018008625143290304, 0.009004312571645152, 0.44333793907333574, 0.44333793907333574, 0.5747482152391397, 0.45604046061931036, 0.45604046061931036, 0.22802023030965518, 0.7837220083292871, 0.8363653127077905, 0.4176494819191069, 0.11932842340545911, 0.3579852702163773, 0.08949631755409433, 0.6891433842045978, 0.1148572307007663, 0.1148572307007663, 0.3384210294672797, 0.4512280392897063, 0.11280700982242657, 0.59292355311167, 0.237169421244668, 0.118584710622334, 0.6917757955396634, 0.19369722275110576, 0.11068412728634615, 0.6447348517899572, 0.6718238540565558, 0.678066118333541, 0.3669897326593571, 0.06116495544322618, 0.3669897326593571, 0.12232991088645236, 0.06116495544322618, 0.7865402456275148, 0.3470012712788367, 0.057833545213139444, 0.520501906918255, 0.45739483125892155, 0.34304612344419116, 0.17152306172209558, 0.34999136887163246, 0.25453917736118725, 0.34999136887163246, 0.6430311720027586, 0.21758436945750412, 0.43516873891500824, 0.21758436945750412, 0.6945837608855158, 0.70561435652644, 0.933486233738827, 0.8378223998974895, 0.06444787691519151, 0.8979095019696648, 0.36408559833829746, 0.582536957341276, 0.362996686953209, 0.362996686953209, 0.362996686953209, 0.700300216466338, 0.9174601648293822, 0.6829072156872101, 0.6911612055184185, 0.6911612068875236, 0.9320460966139411, 0.2893281645337062, 0.5786563290674124, 0.3933344369689575, 0.5244459159586099, 0.21291514542675025, 0.6387454362802508, 0.48475254691431857, 0.09695050938286372, 0.29085152814859117, 0.9440082725022801, 0.6226813469015655, 0.6104352341359645, 0.2804773010353208, 0.2804773010353208, 0.2804773010353208, 0.1402386505176604, 0.622680387860533, 0.8708150050182328, 0.42153746075540216, 0.5479986989820228, 0.9464010309226146, 0.8116261369285774, 0.4246754090377081, 0.4246754090377081, 0.6945837608855158, 0.22442912802306722, 0.26931495362768065, 0.22442912802306722, 0.22442912802306722, 0.04488582560461345, 0.6779498964509262, 0.6718238540565558, 0.9159699501391644, 0.7945834261048378, 0.7232332147495484, 0.712374755726353, 0.5931287022390147, 0.5503545150742088, 0.2751772575371044, 0.1834515050247363, 0.21713382108034407, 0.6514014632410322, 0.7465949294925216, 0.6830336894412191, 0.07160980553955086, 0.7160980553955085, 0.14321961107910172, 0.928731639450618, 0.8780054313765814, 0.7225992417624798, 0.6945840108581277, 0.8188681386809906, 0.7305983365633651, 0.6735876115263568, 0.2773596047461469, 0.12992567654601625, 0.025985135309203253, 0.12992567654601625, 0.07795540592760976, 0.07795540592760976, 0.051970270618406506, 0.28583648840123577, 0.07795540592760976, 0.10394054123681301, 0.5783200005406702, 0.33046857173752586, 0.08261714293438147, 0.6686073893341875, 0.7618577034261488, 0.599902044310401, 0.17956247056370503, 0.29178901466602064, 0.05985415685456834, 0.052372387247747294, 0.052372387247747294, 0.2618619362387365, 0.014963539213642085, 0.014963539213642085, 0.007481769606821042, 0.06733592646138938, 0.6218776692078269, 0.7464619633863808, 0.44559350976405276, 0.44559350976405276, 0.9306007518641101, 0.03877503132767125, 0.6945878286440125, 0.6213899895759819, 0.9404976176443041, 0.21858161474424626, 0.4371632294884925, 0.21858161474424626, 0.44066358105187176, 0.2500041933885771, 0.5000083867771542, 0.7039352604180528, 0.6945878286440125, 0.5912791709108968, 0.7104530039150774, 0.5091293859428161, 0.08033413426157159, 0.8033413426157159, 0.27209156958957226, 0.14841358341249397, 0.03298079631388755, 0.04947119447083132, 0.39576955576665057, 0.05771639354930321, 0.04122599539235944, 0.008245199078471887, 0.24926348233280265, 0.24926348233280265, 0.24926348233280265, 0.7003161359708933, 0.9476381555029565, 0.9221365491872723, 0.6686073793447167, 0.6559937414231006, 0.24599765303366272, 0.5806381637057833, 0.1845570029327751, 0.3691140058655502, 0.3691140058655502, 0.4647804828011084, 0.8177719605797888, 0.6870450554709193, 0.6870013668228635, 0.727974660055846, 0.1819936650139615, 0.2756153735831928, 0.6201345905621839, 0.0689038433957982, 0.7610404196700583, 0.12497414013157995, 0.6665287473684264, 0.04165804671052665, 0.04165804671052665, 0.0833160934210533, 0.07469142635112527, 0.821605689862378, 0.6945840108581277, 0.16388042852614657, 0.32776085705229313, 0.32776085705229313, 0.45229184351795054, 0.45229184351795054, 0.6718238540565558, 0.9384920840846273, 0.8270787118265883, 0.8362774730474608, 0.619928143585845, 0.3752707299585998, 0.500360973278133, 0.06254512165976663, 0.1647074887532377, 0.7411836993895697, 0.6213338215997548, 0.1691227201557017, 0.1691227201557017, 0.3382454403114034, 0.1691227201557017, 0.2542179421510753, 0.2542179421510753, 0.08473931405035844, 0.4236965702517922, 0.4648275670128656, 0.49156157159205266, 0.8070926684753147, 0.11529895263933067, 0.6926082972034547, 0.6118954800097987, 0.7844434369969556, 0.9522587588628443, 0.8163478579664235, 0.6679657496426702, 0.04174785935266689, 0.20873929676333444, 0.04174785935266689, 0.799388308219824, 0.6945837608855158, 0.3180996624842763, 0.6361993249685526, 0.07608211769215277, 0.7988622357676041, 0.11412317653822916, 0.6218776875369061, 0.5747422322248957, 0.5055471060028748, 0.37916032950215606, 0.6076883267003064, 0.39960159771088094, 0.39960159771088094, 0.6876066814017779, 0.229202227133926, 0.619928143585845, 0.622680387860533, 0.9362906147589036, 0.15778671205306738, 0.47336013615920214, 0.19723339006633422, 0.039446678013266845, 0.039446678013266845, 0.07889335602653369, 0.562219960047747, 0.2811099800238735, 0.6447354231637185, 0.5979947867531413, 0.2391979147012565, 0.1238648187415532, 0.4954592749662128, 0.1238648187415532, 0.1238648187415532, 0.5870744067988666, 0.8545160529204792, 0.518637108102126, 0.17287903603404203, 0.34575807206808407, 0.6076874608910678, 0.18356536583005642, 0.5506960974901692, 0.09178268291502821, 0.09178268291502821, 0.7006848308040783, 0.07631719463312996, 0.38158597316564974, 0.07631719463312996, 0.3052687785325198, 0.07631719463312996, 0.07631719463312996, 0.7444592623580686, 0.8377427637673079, 0.6495785072463506, 0.056485087586639185, 0.2965467098298557, 0.5931729105601256, 0.599902073254661, 0.8984635942851652, 0.23908445549002863, 0.717253366470086, 0.7610509459533653, 0.6447346930752031, 0.6218776781085841, 0.6911611802800433, 0.622680387860533, 0.7697759748833009, 0.6686074045109008, 0.30244326886093414, 0.6048865377218683, 0.6945878286440125, 0.21643689674388766, 0.4328737934877753, 0.20884702122050264, 0.7309645742717592, 0.6218776761150956, 0.44762860941243315, 0.07460476823540553, 0.37302384117702764, 0.417683627608834, 0.417683627608834, 0.5625613379370404, 0.1875204459790135, 0.3829078587290051, 0.13514395013964886, 0.2928118919692392, 0.0900959667597659, 0.06757197506982443, 0.45300157466497865, 0.45300157466497865, 0.9678705745581204, 0.619944224033052, 0.6474204970242899, 0.12948409940485797, 0.12948409940485797, 0.7933872725291914, 0.9287691495736381, 0.96229888780063, 0.41078528055171004, 0.20539264027585502, 0.41078528055171004, 0.6925812346432421, 0.7879804042453209, 0.6727849453977903, 0.6815128127921695, 0.23958959966364396, 0.2795211996075846, 0.3593843994954659, 0.07986319988788132, 0.03993159994394066, 0.8083292390483187, 0.16166584780966373, 0.5911973711718821, 0.05911973711718821, 0.29559868558594105, 0.6925803713768747, 0.8646272938500501, 0.8392292208720532, 0.24656647838002066, 0.09862659135200826, 0.12328323919001033, 0.12328323919001033, 0.0739699435140062, 0.09862659135200826, 0.024656647838002064, 0.12328323919001033, 0.04931329567600413, 0.0739699435140062, 0.18586539248766498, 0.2787980887314975, 0.2787980887314975, 0.18586539248766498, 0.44418286015967123, 0.8389785833577009, 0.24997931796693024, 0.4999586359338605, 0.7879868019958572, 0.6911612022600216, 0.8362975103014523, 0.8135828112633698, 0.6694702445254301, 0.2510513416970363, 0.29343381164322097, 0.4401507174648315, 0.07335845291080524, 0.07335845291080524, 0.6783982290830786, 0.2295047387780417, 0.6885142163341251, 0.6502778964372077, 0.32513894821860384, 0.49156277304776685, 0.7232283637996044, 0.6218776684683063, 0.3246238938934888, 0.4869358408402331, 0.5931440713573422, 0.5655842884321807, 0.28279214421609034, 0.3302620086527669, 0.4953930129791503, 0.7480184836387095, 0.35872444948041027, 0.5978740824673504, 0.7879802230290331, 0.6447348517899572, 0.6447348517899572, 0.6218776887942414, 0.6447354231637185, 0.4240052856254329, 0.08480105712508658, 0.3392042285003463, 0.08480105712508658, 0.7842632938521297, 0.9337764290102378, 0.6997909643729348, 0.7795816387497584, 0.7534707998959079, 0.9117514033043728, 0.8862093225795478, 0.6430123357370356, 0.8279275684009697, 0.6911612126002983, 0.7928368721061062, 0.8829593864341635, 0.8529209657433985, 0.04738449809685547, 0.04738449809685547, 0.8159908571493157, 0.17587878363283374, 0.1319090877246253, 0.6595454386231265, 0.7999112178988294, 0.4660315579556058, 0.4993195263810062, 0.6429262264853597, 0.6880489710579248, 0.08382005506540237, 0.5588003671026824, 0.3073402019064754, 0.8876382437743814, 0.8087752160425309, 0.18086352326144453, 0.6028784108714819, 0.06028784108714818, 0.06028784108714818, 0.06028784108714818, 0.6911612158767632, 0.7305453210882452, 0.4112079404554284, 0.5756911166375999, 0.9079205917738148, 0.2682133038359095, 0.13410665191795476, 0.536426607671819, 0.36188798315554266, 0.18094399157777133, 0.18094399157777133, 0.18094399157777133, 0.8132835056885276, 0.3499668020098679, 0.3499668020098679, 0.3499668020098679, 0.6718295156106325, 0.87980067183512, 0.6076875596176307, 0.9131802054495939, 0.20982633378289817, 0.5595368900877284, 0.03497105563048303, 0.06994211126096606, 0.10491316689144908, 0.03497105563048303, 0.32384116845644617, 0.16192058422822309, 0.32384116845644617, 0.4913918345687751, 0.6828776577157943, 0.42863272685875503, 0.28575515123917006, 0.14287757561958503, 0.14287757561958503, 0.6562759974836835, 0.6941564035815423, 0.5925309802672791, 0.29626549013363956, 0.7689867873473776, 0.6829129353299875, 0.8242696644001613, 0.8892540602393585, 0.6718199012262691, 0.8105421451412853, 0.7690512772369035, 0.2963268982744189, 0.5926537965488378, 0.5532950021834915, 0.27664750109174574, 0.6215387290072628, 0.2825176040942104, 0.05650352081884207, 0.7458196168800141, 0.16265042299195404, 0.5286138747238506, 0.28463824023591955, 0.04066260574798851, 0.7657285821938278, 0.15314571643876554, 0.6784516613324559, 0.08480645766655699, 0.08480645766655699, 0.16961291533311398, 0.611894328752884, 0.5931139353602487, 0.700273831644022, 0.9213477526388034, 0.8876262666337315, 0.6718229104734866, 0.06871155145145745, 0.8703463183851278, 0.06871155145145745, 0.6519284916616882, 0.05432737430514068, 0.12676387337866157, 0.018109124768380225, 0.12676387337866157, 0.018109124768380225, 0.9163382948939147, 0.11963349513929859, 0.19938915856549763, 0.41207092770202847, 0.06646305285516588, 0.013292610571033175, 0.11963349513929859, 0.0531704422841327, 0.013292610571033175, 0.7880364151112283, 0.899364548824567, 0.6924441516025419, 0.8813708533146528, 0.10649625317686225, 0.05324812658843112, 0.31948875953058675, 0.31948875953058675, 0.05324812658843112, 0.05324812658843112, 0.678966820209964, 0.2715867280839856, 0.4648421991159703, 0.9180049684022266, 0.6718203857642544, 0.5087172845520123, 0.41622323281528273, 0.046247025868364745, 0.6686173075792511, 0.7780143744862168, 0.8452414921037167, 0.5988766904881044, 0.8328794146183974, 0.6718238540565558, 0.8504644233842594, 0.7688784878507491, 0.8777617313969416, 0.12539453305670595, 0.07972685720652611, 0.8769954292717873, 0.1988084339966276, 0.3976168679932552, 0.3976168679932552, 0.2363470779147358, 0.14771692369670986, 0.029543384739341975, 0.1181735389573679, 0.08863015421802592, 0.14771692369670986, 0.14771692369670986, 0.08863015421802592, 0.6727849453977903, 0.6605528282974908, 0.2642211313189963, 0.7436539128016438, 0.9491778955961109, 0.9080632725948988, 0.6218776847136327, 0.619944224033052, 0.8619389024629381, 0.4663569464856317, 0.23317847324281585, 0.23317847324281585, 0.44591249701501606, 0.44591249701501606, 0.4818651710331075, 0.321243447355405, 0.1606217236777025, 0.1743523923559417, 0.3487047847118834, 0.1743523923559417, 0.21961493449871997, 0.6588448034961599, 0.5708281932430032, 0.2854140966215016, 0.16063059753607675, 0.2570089560577228, 0.28913507556493817, 0.09637835852164606, 0.1285044780288614, 0.03212611950721535, 0.7125190023410461, 0.21375570070231384, 0.8170274955275985, 0.10212843694094981, 0.29804693927206954, 0.11921877570882781, 0.20863285749044866, 0.16392581659963823, 0.08941408178162086, 0.04470704089081043, 0.029804693927206954, 0.04470704089081043, 0.40942435883597217, 0.5458991451146296], \"Term\": [\"abl\", \"abl\", \"abl\", \"absolut\", \"actual\", \"actual\", \"actual\", \"actual\", \"add\", \"addit\", \"addit\", \"ador\", \"ador\", \"ador\", \"age\", \"allow\", \"alot\", \"amaz\", \"amazon\", \"anim\", \"answer\", \"answer\", \"approach\", \"ask\", \"asterisk\", \"attach\", \"attent\", \"attract\", \"avail\", \"avail\", \"averag\", \"awesom\", \"babi\", \"babi\", \"babi\", \"babi\", \"babi\", \"babi\", \"babi\", \"babi\", \"bargain\", \"barn\", \"batteri\", \"bear\", \"bear\", \"beat\", \"beauti\", \"beauti\", \"bedroom\", \"begin\", \"bend\", \"bib\", \"big\", \"big\", \"big\", \"binki\", \"binki\", \"binki\", \"bird\", \"birthday\", \"birthday\", \"bite\", \"bless\", \"bless\", \"block\", \"blow\", \"board\", \"book\", \"book\", \"book\", \"book\", \"book\", \"book\", \"book\", \"book\", \"border\", \"box\", \"bracelet\", \"brass\", \"break\", \"breastfe\", \"breastfe\", \"bright\", \"bright\", \"brother\", \"brush\", \"busi\", \"button\", \"buy\", \"buy\", \"buy\", \"buy\", \"buy\", \"buy\", \"buyer\", \"calend\", \"calend\", \"calend\", \"calendar\", \"calendar\", \"calendar\", \"calendar\", \"calendar\", \"card\", \"carri\", \"caus\", \"certain\", \"chain\", \"charact\", \"charact\", \"cheap\", \"cherish\", \"chew\", \"chew\", \"child\", \"child\", \"choic\", \"christma\", \"chunk\", \"clever\", \"close\", \"cloth\", \"cloth\", \"cloth\", \"collect\", \"color\", \"color\", \"color\", \"color\", \"color\", \"color\", \"column\", \"come\", \"come\", \"come\", \"come\", \"come\", \"come\", \"come\", \"comfort\", \"comment\", \"comment\", \"commun\", \"compar\", \"complain\", \"complaint\", \"complaint\", \"complet\", \"connect\", \"contact\", \"continu\", \"control\", \"cook\", \"cost\", \"count\", \"countri\", \"cover\", \"crawl\", \"creativ\", \"cri\", \"crochet\", \"curl\", \"current\", \"cute\", \"cute\", \"cute\", \"cute\", \"cute\", \"cute\", \"daili\", \"date\", \"date\", \"daughter\", \"daughter\", \"daughter\", \"daughter\", \"daughter\", \"day\", \"deal\", \"decal\", \"decal\", \"decid\", \"definit\", \"definit\", \"describ\", \"descript\", \"design\", \"design\", \"design\", \"destroy\", \"destroy\", \"detail\", \"detail\", \"diaper\", \"diaper\", \"diaper\", \"diaper\", \"differ\", \"difficult\", \"dirti\", \"disappoint\", \"disappoint\", \"disappoint\", \"dispo\", \"divin\", \"doctor\", \"doctor\", \"document\", \"doll\", \"dozen\", \"dozen\", \"draw\", \"dressmak\", \"easi\", \"easi\", \"easi\", \"easi\", \"easili\", \"easy\", \"easy\", \"eat\", \"eat\", \"elmo\", \"elmo\", \"elmo\", \"encourag\", \"end\", \"end\", \"end\", \"enjoy\", \"enjoy\", \"enjoy\", \"enjoy\", \"entertain\", \"event\", \"event\", \"everyday\", \"exactli\", \"exactli\", \"exampl\", \"exampl\", \"excit\", \"excit\", \"excit\", \"excus\", \"expect\", \"experi\", \"explain\", \"fabric\", \"face\", \"face\", \"fact\", \"fairi\", \"fairi\", \"fall\", \"fall\", \"fall\", \"famili\", \"famili\", \"fantast\", \"fashion\", \"fast\", \"fast\", \"fault\", \"favorit\", \"favorit\", \"featur\", \"feed\", \"feed\", \"feed\", \"feel\", \"feel\", \"fill\", \"final\", \"find\", \"fine\", \"fine\", \"fine\", \"finger\", \"finish\", \"finish\", \"first\", \"first\", \"first\", \"first\", \"flammish\", \"flap\", \"flap\", \"flap\", \"flimsi\", \"flip\", \"floor\", \"flower\", \"follow\", \"foot\", \"foot\", \"forget\", \"forget\", \"format\", \"fortun\", \"free\", \"french\", \"friend\", \"friend\", \"friend\", \"friend\", \"friend\", \"frustrat\", \"futur\", \"gestur\", \"get\", \"get\", \"get\", \"get\", \"get\", \"gift\", \"gift\", \"gift\", \"gift\", \"gift\", \"girl\", \"give\", \"give\", \"give\", \"give\", \"glad\", \"glossi\", \"glue\", \"go\", \"go\", \"go\", \"go\", \"good\", \"good\", \"grab\", \"grab\", \"grandchild\", \"granddaught\", \"granddaught\", \"grat\", \"great\", \"great\", \"great\", \"great\", \"great\", \"great\", \"great\", \"great\", \"habit\", \"habit\", \"haha\", \"hair\", \"hair\", \"hair\", \"half\", \"hamper\", \"hand\", \"hand\", \"hand\", \"hand\", \"handl\", \"handl\", \"handl\", \"happen\", \"happen\", \"happen\", \"happi\", \"happi\", \"happi\", \"hard\", \"hard\", \"hard\", \"haul\", \"heart\", \"height\", \"help\", \"help\", \"help\", \"help\", \"help\", \"hide\", \"high\", \"high\", \"high\", \"highli\", \"highli\", \"highli\", \"hold\", \"hold\", \"hold\", \"holder\", \"home\", \"home\", \"home\", \"hondura\", \"hook\", \"hope\", \"hous\", \"hous\", \"huge\", \"idea\", \"idea\", \"illustr\", \"illustr\", \"illustr\", \"imagin\", \"import\", \"impress\", \"inaccur\", \"incomplet\", \"infant\", \"info\", \"info\", \"inform\", \"inform\", \"instruct\", \"instruct\", \"interact\", \"interact\", \"interact\", \"interest\", \"involv\", \"issu\", \"item\", \"item\", \"item\", \"item\", \"jesu\", \"journal\", \"keep\", \"keep\", \"kid\", \"kindergarten\", \"kiss\", \"kiss\", \"kit\", \"know\", \"know\", \"know\", \"know\", \"know\", \"lack\", \"ladi\", \"lamaz\", \"larg\", \"large\", \"later\", \"laugh\", \"learn\", \"learn\", \"learn\", \"leav\", \"leav\", \"let\", \"level\", \"life\", \"life\", \"life\", \"light\", \"line\", \"lion\", \"list\", \"live\", \"lock\", \"long\", \"long\", \"look\", \"look\", \"look\", \"look\", \"look\", \"look\", \"look\", \"look\", \"look\", \"lose\", \"lose\", \"lose\", \"loss\", \"lot\", \"lotion\", \"love\", \"love\", \"love\", \"love\", \"love\", \"love\", \"love\", \"love\", \"love\", \"love\", \"lunch\", \"mail\", \"main\", \"main\", \"make\", \"make\", \"matern\", \"matter\", \"mayb\", \"member\", \"member\", \"member\", \"merci\", \"mileston\", \"mileston\", \"milk\", \"mini\", \"mirror\", \"mom\", \"moment\", \"money\", \"money\", \"month\", \"month\", \"month\", \"month\", \"month\", \"month\", \"month\", \"month\", \"morn\", \"morn\", \"morn\", \"mother\", \"mouth\", \"move\", \"movi\", \"music\", \"music\", \"name\", \"nanni\", \"nanni\", \"nanni\", \"nap\", \"nativ\", \"nearli\", \"neat\", \"neck\", \"neck\", \"need\", \"need\", \"need\", \"needl\", \"nice\", \"nice\", \"nice\", \"nice\", \"nice\", \"night\", \"night\", \"nobl\", \"note\", \"note\", \"note\", \"notebook\", \"notebook\", \"novena\", \"nur\", \"object\", \"offer\", \"okay\", \"old\", \"old\", \"old\", \"open\", \"open\", \"opinion\", \"option\", \"option\", \"option\", \"option\", \"order\", \"order\", \"order\", \"order\", \"origin\", \"ornament\", \"overal\", \"overal\", \"overnight\", \"overpric\", \"pacifi\", \"pack\", \"packag\", \"page\", \"page\", \"page\", \"page\", \"pain\", \"pamper\", \"paper\", \"paper\", \"parent\", \"parent\", \"parent\", \"park\", \"pastel\", \"pattern\", \"pattern\", \"pee\", \"peekaboo\", \"peekaboo\", \"peel\", \"peel\", \"pen\", \"pendant\", \"peopl\", \"perfect\", \"perfect\", \"perfect\", \"perfect\", \"perfect\", \"perfect\", \"perfectli\", \"perfectli\", \"person\", \"phone\", \"phone\", \"photo\", \"photo\", \"photo\", \"photo\", \"photograph\", \"pick\", \"pictur\", \"pictur\", \"pictur\", \"piec\", \"pin\", \"pin\", \"pin\", \"pin\", \"pink\", \"place\", \"place\", \"place\", \"place\", \"place\", \"place\", \"plan\", \"plastic\", \"play\", \"play\", \"play\", \"plea\", \"pleas\", \"plu\", \"pocket\", \"pocket\", \"poop\", \"portray\", \"post\", \"pouch\", \"pray\", \"prayer\", \"prepar\", \"present\", \"present\", \"preserv\", \"pretend\", \"pretend\", \"pretti\", \"pretti\", \"previou\", \"price\", \"price\", \"price\", \"print\", \"print\", \"problem\", \"problem\", \"product\", \"product\", \"product\", \"product\", \"product\", \"provid\", \"provid\", \"pull\", \"puppet\", \"purcha\", \"purcha\", \"purcha\", \"purpo\", \"push\", \"put\", \"question\", \"question\", \"question\", \"quick\", \"quickli\", \"quilt\", \"rash\", \"read\", \"read\", \"read\", \"read\", \"read\", \"real\", \"real\", \"reason\", \"reason\", \"reason\", \"recal\", \"receiv\", \"recent\", \"recommend\", \"recommend\", \"recommend\", \"recommend\", \"recommend\", \"recommend\", \"recommend\", \"recommend\", \"recommend\", \"recommend\", \"record\", \"record\", \"record\", \"record\", \"refer\", \"regular\", \"rememb\", \"rememb\", \"repli\", \"report\", \"repre\", \"return\", \"review\", \"review\", \"right\", \"right\", \"right\", \"right\", \"rock\", \"roll\", \"roll\", \"room\", \"room\", \"rosari\", \"rough\", \"rush\", \"safe\", \"safe\", \"safeti\", \"satisfi\", \"satisfi\", \"save\", \"save\", \"saver\", \"say\", \"say\", \"schedul\", \"scrap\", \"scrapbook\", \"screen\", \"search\", \"second\", \"second\", \"second\", \"second\", \"section\", \"see\", \"select\", \"sen\", \"send\", \"set\", \"shake\", \"shelf\", \"short\", \"shorthand\", \"shower\", \"side\", \"simpl\", \"simpl\", \"simpl\", \"situat\", \"size\", \"size\", \"size\", \"skill\", \"sleep\", \"sleep\", \"slide\", \"slow\", \"small\", \"small\", \"small\", \"smile\", \"sock\", \"soft\", \"soft\", \"soft\", \"soft\", \"soft\", \"solut\", \"song\", \"soon\", \"soon\", \"sort\", \"space\", \"space\", \"space\", \"special\", \"special\", \"special\", \"special\", \"spend\", \"spot\", \"spot\", \"spot\", \"squar\", \"stack\", \"standarad\", \"star\", \"start\", \"start\", \"start\", \"start\", \"start\", \"start\", \"stay\", \"stay\", \"stay\", \"steel\", \"stick\", \"sticker\", \"sticker\", \"sticker\", \"sticker\", \"sticki\", \"stimul\", \"stop\", \"stop\", \"stori\", \"stroller\", \"strong\", \"stuff\", \"stumbl\", \"suck\", \"suggest\", \"super\", \"super\", \"suppos\", \"suppos\", \"sure\", \"sure\", \"sure\", \"sweet\", \"take\", \"take\", \"take\", \"take\", \"teach\", \"teach\", \"tell\", \"tell\", \"tell\", \"tell\", \"tend\", \"tender\", \"terribl\", \"textur\", \"thank\", \"thick\", \"thing\", \"thing\", \"thing\", \"think\", \"think\", \"think\", \"think\", \"think\", \"think\", \"throw\", \"time\", \"time\", \"time\", \"time\", \"time\", \"time\", \"time\", \"time\", \"today\", \"toddler\", \"tool\", \"tough\", \"track\", \"track\", \"track\", \"track\", \"track\", \"track\", \"tracker\", \"tracker\", \"transfer\", \"travel\", \"tree\", \"turn\", \"turn\", \"turn\", \"twinkl\", \"type\", \"understand\", \"unlik\", \"unrealist\", \"untier\", \"velcro\", \"visit\", \"wait\", \"wait\", \"walk\", \"walk\", \"wall\", \"wall\", \"wall\", \"want\", \"want\", \"want\", \"want\", \"want\", \"want\", \"want\", \"want\", \"warm\", \"wash\", \"wash\", \"wast\", \"wear\", \"week\", \"weekli\", \"ween\", \"weight\", \"well\", \"well\", \"well\", \"wife\", \"wife\", \"wipe\", \"wipe\", \"wipe\", \"wish\", \"wish\", \"wish\", \"wonder\", \"wonder\", \"word\", \"word\", \"work\", \"work\", \"work\", \"work\", \"work\", \"work\", \"worth\", \"worth\", \"write\", \"write\", \"year\", \"year\", \"year\", \"year\", \"year\", \"year\", \"year\", \"year\", \"young\", \"young\"]}, \"R\": 30, \"lambda.step\": 0.01, \"plot.opts\": {\"xlab\": \"PC1\", \"ylab\": \"PC2\"}, \"topic.order\": [5, 15, 18, 1, 14, 11, 4, 12, 6, 13, 20, 3, 8, 9, 10, 7, 19, 16, 17, 2]};\n",
       "\n",
       "function LDAvis_load_lib(url, callback){\n",
       "  var s = document.createElement('script');\n",
       "  s.src = url;\n",
       "  s.async = true;\n",
       "  s.onreadystatechange = s.onload = callback;\n",
       "  s.onerror = function(){console.warn(\"failed to load library \" + url);};\n",
       "  document.getElementsByTagName(\"head\")[0].appendChild(s);\n",
       "}\n",
       "\n",
       "if(typeof(LDAvis) !== \"undefined\"){\n",
       "   // already loaded: just create the visualization\n",
       "   !function(LDAvis){\n",
       "       new LDAvis(\"#\" + \"ldavis_el927140566595264176810541468\", ldavis_el927140566595264176810541468_data);\n",
       "   }(LDAvis);\n",
       "}else if(typeof define === \"function\" && define.amd){\n",
       "   // require.js is available: use it to load d3/LDAvis\n",
       "   require.config({paths: {d3: \"https://d3js.org/d3.v5\"}});\n",
       "   require([\"d3\"], function(d3){\n",
       "      window.d3 = d3;\n",
       "      LDAvis_load_lib(\"https://cdn.jsdelivr.net/gh/bmabey/pyLDAvis@3.3.1/pyLDAvis/js/ldavis.v3.0.0.js\", function(){\n",
       "        new LDAvis(\"#\" + \"ldavis_el927140566595264176810541468\", ldavis_el927140566595264176810541468_data);\n",
       "      });\n",
       "    });\n",
       "}else{\n",
       "    // require.js not available: dynamically load d3 & LDAvis\n",
       "    LDAvis_load_lib(\"https://d3js.org/d3.v5.js\", function(){\n",
       "         LDAvis_load_lib(\"https://cdn.jsdelivr.net/gh/bmabey/pyLDAvis@3.3.1/pyLDAvis/js/ldavis.v3.0.0.js\", function(){\n",
       "                 new LDAvis(\"#\" + \"ldavis_el927140566595264176810541468\", ldavis_el927140566595264176810541468_data);\n",
       "            })\n",
       "         });\n",
       "}\n",
       "</script>"
      ],
      "text/plain": [
       "PreparedData(topic_coordinates=              x         y  topics  cluster       Freq\n",
       "topic                                                \n",
       "4     -0.156431  0.037986       1        1  10.889535\n",
       "14    -0.249334 -0.065797       2        1  10.713061\n",
       "17    -0.014149  0.271797       3        1   9.529015\n",
       "0     -0.056800 -0.103383       4        1   8.006144\n",
       "13    -0.074901 -0.165763       5        1   7.936040\n",
       "10    -0.111857 -0.016772       6        1   6.793652\n",
       "3     -0.150567  0.125279       7        1   6.261715\n",
       "11    -0.033069  0.065012       8        1   5.792168\n",
       "5      0.000957  0.027767       9        1   5.583009\n",
       "12     0.013810  0.068035      10        1   4.185988\n",
       "19     0.022732  0.032660      11        1   4.023307\n",
       "2      0.048400 -0.087590      12        1   3.870615\n",
       "7      0.104154 -0.024272      13        1   2.981078\n",
       "8     -0.051373 -0.106312      14        1   2.503941\n",
       "9      0.067769 -0.008901      15        1   2.338521\n",
       "6      0.097637 -0.024842      16        1   2.205751\n",
       "18     0.140637  0.012354      17        1   1.877942\n",
       "15     0.131136 -0.037480      18        1   1.838817\n",
       "16     0.136052  0.005528      19        1   1.658490\n",
       "1      0.135196 -0.005307      20        1   1.011210, topic_info=         Term        Freq       Total Category  logprob  loglift\n",
       "9       month  121.000000  121.000000  Default  30.0000  30.0000\n",
       "32       love  133.000000  133.000000  Default  29.0000  29.0000\n",
       "50   daughter   51.000000   51.000000  Default  28.0000  28.0000\n",
       "67      great  111.000000  111.000000  Default  27.0000  27.0000\n",
       "343      play   70.000000   70.000000  Default  26.0000  26.0000\n",
       "..        ...         ...         ...      ...      ...      ...\n",
       "725     store    0.027031    0.942992  Topic20  -7.6294   1.0420\n",
       "17       soft    0.027986   16.587093  Topic20  -7.5947  -1.7907\n",
       "67      great    0.027041  111.057895  Topic20  -7.6291  -3.7264\n",
       "229     simpl    0.027036   21.103948  Topic20  -7.6293  -2.0660\n",
       "32       love    0.027032  133.658219  Topic20  -7.6294  -3.9120\n",
       "\n",
       "[856 rows x 6 columns], token_table=      Topic      Freq     Term\n",
       "term                          \n",
       "97        2  0.398172      abl\n",
       "97        3  0.497716      abl\n",
       "97       18  0.049772      abl\n",
       "374      15  0.440842  absolut\n",
       "285       4  0.156523   actual\n",
       "...     ...       ...      ...\n",
       "250      12  0.044707     year\n",
       "250      13  0.029805     year\n",
       "250      16  0.044707     year\n",
       "363       5  0.409424    young\n",
       "363       6  0.545899    young\n",
       "\n",
       "[969 rows x 3 columns], R=30, lambda_step=0.01, plot_opts={'xlab': 'PC1', 'ylab': 'PC2'}, topic_order=[5, 15, 18, 1, 14, 11, 4, 12, 6, 13, 20, 3, 8, 9, 10, 7, 19, 16, 17, 2])"
      ]
     },
     "execution_count": 35,
     "metadata": {},
     "output_type": "execute_result"
    }
   ],
   "source": [
    "pyLDAvis.enable_notebook()\n",
    "vis = pyLDAvis.gensim_models.prepare(lda_model, corpus, id2word)\n",
    "vis"
   ]
  },
  {
   "cell_type": "code",
   "execution_count": 36,
   "id": "10495164",
   "metadata": {},
   "outputs": [
    {
     "name": "stdout",
     "output_type": "stream",
     "text": [
      "Requirement already satisfied: gensim==3.8.3 in /Users/deth/opt/anaconda3/lib/python3.8/site-packages (3.8.3)\r\n",
      "Requirement already satisfied: numpy>=1.11.3 in /Users/deth/opt/anaconda3/lib/python3.8/site-packages (from gensim==3.8.3) (1.20.1)\r\n",
      "Requirement already satisfied: scipy>=0.18.1 in /Users/deth/opt/anaconda3/lib/python3.8/site-packages (from gensim==3.8.3) (1.6.2)\r\n",
      "Requirement already satisfied: smart-open>=1.8.1 in /Users/deth/opt/anaconda3/lib/python3.8/site-packages (from gensim==3.8.3) (5.2.1)\r\n",
      "Requirement already satisfied: six>=1.5.0 in /Users/deth/opt/anaconda3/lib/python3.8/site-packages (from gensim==3.8.3) (1.15.0)\r\n"
     ]
    }
   ],
   "source": [
    "!pip install gensim==3.8.3"
   ]
  },
  {
   "cell_type": "code",
   "execution_count": 37,
   "id": "8b4cdf5c",
   "metadata": {},
   "outputs": [],
   "source": [
    "# mallet_path = '/Users/deth/Desktop/mallet' # update this path\n",
    "# ldamallet = gensim.models.wrappers.LdaMallet(mallet_path, corpus=corpus, num_topics=20, id2word=id2word)"
   ]
  },
  {
   "cell_type": "code",
   "execution_count": 38,
   "id": "280b135a",
   "metadata": {},
   "outputs": [],
   "source": [
    "def compute_coherence_values(dictionary, corpus, texts, limit, start=2, step=3):\n",
    "    \"\"\"\n",
    "    Compute c_v coherence for various number of topics\n",
    "\n",
    "    Parameters:\n",
    "    ----------\n",
    "    dictionary : Gensim dictionary\n",
    "    corpus : Gensim corpus\n",
    "    texts : List of input texts\n",
    "    limit : Max num of topics\n",
    "\n",
    "    Returns:\n",
    "    -------\n",
    "    model_list : List of LDA topic models\n",
    "    coherence_values : Coherence values corresponding to the LDA model with respective number of topics\n",
    "    \"\"\"\n",
    "    coherence_values = []\n",
    "    model_list = []\n",
    "    for num_topics in range(start, limit, step):\n",
    "#         model = gensim.models.wrappers.LdaMallet(mallet_path, corpus=corpus, num_topics=num_topics, id2word=id2word)\n",
    "        model = gensim.models.ldamodel.LdaModel(corpus=corpus,\n",
    "                                           id2word=id2word,\n",
    "                                           num_topics=20, \n",
    "                                           random_state=100,\n",
    "                                           update_every=1,\n",
    "                                           chunksize=100,\n",
    "                                           passes=10,\n",
    "                                           alpha='auto',\n",
    "                                           per_word_topics=True)\n",
    "        model_list.append(model)\n",
    "        coherencemodel = CoherenceModel(model=model, texts=texts, dictionary=dictionary, coherence='c_v')\n",
    "        coherence_values.append(coherencemodel.get_coherence())\n",
    "\n",
    "    return model_list, coherence_values"
   ]
  },
  {
   "cell_type": "code",
   "execution_count": 39,
   "id": "dee3ce9f",
   "metadata": {},
   "outputs": [],
   "source": [
    "model_list, coherence_values = compute_coherence_values(dictionary=id2word, corpus=corpus, texts=data_lemmatized, start=2, limit=40, step=6)\n"
   ]
  },
  {
   "cell_type": "code",
   "execution_count": 40,
   "id": "38b35b4b",
   "metadata": {},
   "outputs": [
    {
     "data": {
      "text/plain": [
       "[<gensim.models.ldamodel.LdaModel at 0x7fd835717e20>,\n",
       " <gensim.models.ldamodel.LdaModel at 0x7fd8357500d0>,\n",
       " <gensim.models.ldamodel.LdaModel at 0x7fd8355c8940>,\n",
       " <gensim.models.ldamodel.LdaModel at 0x7fd835750250>,\n",
       " <gensim.models.ldamodel.LdaModel at 0x7fd83977e280>,\n",
       " <gensim.models.ldamodel.LdaModel at 0x7fd839358910>,\n",
       " <gensim.models.ldamodel.LdaModel at 0x7fd8383350d0>]"
      ]
     },
     "execution_count": 40,
     "metadata": {},
     "output_type": "execute_result"
    }
   ],
   "source": [
    "model_list"
   ]
  },
  {
   "cell_type": "code",
   "execution_count": 41,
   "id": "a44475a4",
   "metadata": {},
   "outputs": [
    {
     "data": {
      "text/plain": [
       "[0.34708236395176517,\n",
       " 0.34708236395176517,\n",
       " 0.34708236395176517,\n",
       " 0.34708236395176517,\n",
       " 0.34708236395176517,\n",
       " 0.34708236395176517,\n",
       " 0.34708236395176517]"
      ]
     },
     "execution_count": 41,
     "metadata": {},
     "output_type": "execute_result"
    }
   ],
   "source": [
    "coherence_values"
   ]
  },
  {
   "cell_type": "code",
   "execution_count": 42,
   "id": "6715fed8",
   "metadata": {},
   "outputs": [
    {
     "data": {
      "image/png": "[encoded data removed]",
      "text/plain": [
       "<Figure size 432x288 with 1 Axes>"
      ]
     },
     "metadata": {
      "needs_background": "light"
     },
     "output_type": "display_data"
    }
   ],
   "source": [
    "limit=40; start=2; step=6;\n",
    "x = range(start, limit, step)\n",
    "plt.plot(x, coherence_values)\n",
    "plt.xlabel(\"Num Topics\")\n",
    "plt.ylabel(\"Coherence score\")\n",
    "plt.legend((\"coherence_values\"), loc='best')\n",
    "plt.show()"
   ]
  },
  {
   "cell_type": "code",
   "execution_count": 43,
   "id": "1311b07b",
   "metadata": {},
   "outputs": [
    {
     "name": "stdout",
     "output_type": "stream",
     "text": [
      "Num Topics = 2  has Coherence Value of 0.3471\n",
      "Num Topics = 8  has Coherence Value of 0.3471\n",
      "Num Topics = 14  has Coherence Value of 0.3471\n",
      "Num Topics = 20  has Coherence Value of 0.3471\n",
      "Num Topics = 26  has Coherence Value of 0.3471\n",
      "Num Topics = 32  has Coherence Value of 0.3471\n",
      "Num Topics = 38  has Coherence Value of 0.3471\n"
     ]
    }
   ],
   "source": [
    "for m, cv in zip(x, coherence_values):\n",
    "    print(\"Num Topics =\", m, \" has Coherence Value of\", round(cv, 4))"
   ]
  },
  {
   "cell_type": "code",
   "execution_count": 44,
   "id": "dde18832",
   "metadata": {},
   "outputs": [
    {
     "name": "stdout",
     "output_type": "stream",
     "text": [
      "[(0,\n",
      "  '0.104*\"book\" + 0.040*\"child\" + 0.040*\"enjoy\" + 0.036*\"page\" + 0.030*\"keep\" '\n",
      "  '+ 0.029*\"wear\" + 0.028*\"perfect\" + 0.026*\"buy\" + 0.022*\"famili\" + '\n",
      "  '0.021*\"turn\"'),\n",
      " (1,\n",
      "  '0.093*\"price\" + 0.087*\"order\" + 0.056*\"day\" + 0.048*\"room\" + 0.016*\"right\" '\n",
      "  '+ 0.015*\"actual\" + 0.013*\"wipe\" + 0.011*\"know\" + 0.010*\"fine\" + '\n",
      "  '0.010*\"decal\"'),\n",
      " (2,\n",
      "  '0.056*\"babi\" + 0.039*\"write\" + 0.033*\"allow\" + 0.031*\"hope\" + '\n",
      "  '0.031*\"pretti\" + 0.029*\"understand\" + 0.028*\"weight\" + 0.027*\"room\" + '\n",
      "  '0.026*\"avail\" + 0.025*\"page\"'),\n",
      " (3,\n",
      "  '0.138*\"month\" + 0.102*\"love\" + 0.060*\"play\" + 0.039*\"face\" + 0.036*\"take\" + '\n",
      "  '0.036*\"toddler\" + 0.031*\"mayb\" + 0.024*\"music\" + 0.022*\"color\" + '\n",
      "  '0.020*\"get\"'),\n",
      " (4,\n",
      "  '0.067*\"differ\" + 0.055*\"month\" + 0.040*\"love\" + 0.035*\"free\" + 0.034*\"year\" '\n",
      "  '+ 0.030*\"buy\" + 0.028*\"color\" + 0.028*\"product\" + 0.027*\"see\" + '\n",
      "  '0.024*\"hand\"'),\n",
      " (5,\n",
      "  '0.062*\"chew\" + 0.058*\"need\" + 0.052*\"interest\" + 0.050*\"cute\" + '\n",
      "  '0.043*\"hous\" + 0.038*\"bite\" + 0.037*\"pull\" + 0.030*\"open\" + 0.025*\"idea\" + '\n",
      "  '0.024*\"carri\"'),\n",
      " (6,\n",
      "  '0.050*\"disappoint\" + 0.043*\"strong\" + 0.034*\"look\" + 0.031*\"cheap\" + '\n",
      "  '0.031*\"hard\" + 0.027*\"later\" + 0.024*\"year\" + 0.023*\"nativ\" + '\n",
      "  '0.022*\"recommend\" + 0.021*\"calendar\"'),\n",
      " (7,\n",
      "  '0.075*\"actual\" + 0.065*\"look\" + 0.058*\"high\" + 0.042*\"hard\" + 0.041*\"soon\" '\n",
      "  '+ 0.039*\"object\" + 0.030*\"want\" + 0.029*\"real\" + 0.027*\"come\" + '\n",
      "  '0.027*\"photo\"'),\n",
      " (8,\n",
      "  '0.112*\"daughter\" + 0.111*\"size\" + 0.076*\"stack\" + 0.064*\"love\" + '\n",
      "  '0.062*\"buy\" + 0.036*\"comfort\" + 0.033*\"recommend\" + 0.032*\"great\" + '\n",
      "  '0.023*\"safe\" + 0.023*\"friend\"'),\n",
      " (9,\n",
      "  '0.054*\"favorit\" + 0.034*\"lot\" + 0.031*\"featur\" + 0.031*\"return\" + '\n",
      "  '0.031*\"item\" + 0.026*\"product\" + 0.026*\"amazon\" + 0.023*\"hide\" + '\n",
      "  '0.022*\"suck\" + 0.019*\"recommend\"'),\n",
      " (10,\n",
      "  '0.055*\"small\" + 0.046*\"great\" + 0.036*\"star\" + 0.035*\"product\" + '\n",
      "  '0.032*\"hand\" + 0.031*\"come\" + 0.029*\"year\" + 0.022*\"young\" + 0.019*\"overal\" '\n",
      "  '+ 0.018*\"brother\"'),\n",
      " (11,\n",
      "  '0.086*\"easi\" + 0.041*\"great\" + 0.037*\"help\" + 0.036*\"small\" + 0.027*\"time\" '\n",
      "  '+ 0.023*\"month\" + 0.023*\"floor\" + 0.021*\"expect\" + 0.020*\"diaper\" + '\n",
      "  '0.020*\"babi\"'),\n",
      " (12,\n",
      "  '0.078*\"babi\" + 0.066*\"sleep\" + 0.049*\"night\" + 0.048*\"block\" + 0.046*\"walk\" '\n",
      "  '+ 0.030*\"take\" + 0.028*\"track\" + 0.021*\"get\" + 0.020*\"know\" + '\n",
      "  '0.020*\"detail\"'),\n",
      " (13,\n",
      "  '0.058*\"child\" + 0.052*\"daughter\" + 0.047*\"parent\" + 0.039*\"mouth\" + '\n",
      "  '0.032*\"good\" + 0.032*\"year\" + 0.030*\"push\" + 0.030*\"go\" + 0.024*\"life\" + '\n",
      "  '0.023*\"say\"'),\n",
      " (14,\n",
      "  '0.101*\"great\" + 0.081*\"good\" + 0.077*\"play\" + 0.067*\"love\" + 0.041*\"make\" + '\n",
      "  '0.041*\"babi\" + 0.039*\"buy\" + 0.036*\"gift\" + 0.034*\"friend\" + 0.027*\"book\"'),\n",
      " (15,\n",
      "  '0.108*\"hold\" + 0.095*\"go\" + 0.053*\"difficult\" + 0.044*\"send\" + '\n",
      "  '0.025*\"pocket\" + 0.022*\"alot\" + 0.019*\"diaper\" + 0.015*\"card\" + '\n",
      "  '0.015*\"current\" + 0.014*\"photo\"'),\n",
      " (16,\n",
      "  '0.045*\"inform\" + 0.040*\"space\" + 0.032*\"well\" + 0.029*\"want\" + '\n",
      "  '0.027*\"phone\" + 0.022*\"info\" + 0.019*\"perfect\" + 0.017*\"nanni\" + '\n",
      "  '0.017*\"paper\" + 0.017*\"situat\"'),\n",
      " (17,\n",
      "  '0.072*\"thing\" + 0.069*\"think\" + 0.060*\"time\" + 0.047*\"hard\" + 0.034*\"simpl\" '\n",
      "  '+ 0.033*\"month\" + 0.033*\"long\" + 0.030*\"nice\" + 0.030*\"start\" + '\n",
      "  '0.027*\"sleep\"'),\n",
      " (18,\n",
      "  '0.098*\"money\" + 0.044*\"want\" + 0.039*\"spend\" + 0.032*\"choic\" + '\n",
      "  '0.032*\"final\" + 0.031*\"music\" + 0.026*\"thing\" + 0.022*\"mileston\" + '\n",
      "  '0.019*\"stimul\" + 0.017*\"enjoy\"'),\n",
      " (19,\n",
      "  '0.068*\"fabric\" + 0.050*\"move\" + 0.037*\"hold\" + 0.034*\"plastic\" + '\n",
      "  '0.033*\"receiv\" + 0.030*\"wait\" + 0.029*\"great\" + 0.028*\"babi\" + 0.025*\"add\" '\n",
      "  '+ 0.024*\"live\"')]\n"
     ]
    }
   ],
   "source": [
    "optimal_model = model_list[3]\n",
    "model_topics = optimal_model.show_topics(formatted=False)\n",
    "pprint(optimal_model.print_topics(num_words=10))"
   ]
  },
  {
   "cell_type": "code",
   "execution_count": 58,
   "id": "c8ec91f9",
   "metadata": {},
   "outputs": [
    {
     "data": {
      "text/html": [
       "<div>\n",
       "<style scoped>\n",
       "    .dataframe tbody tr th:only-of-type {\n",
       "        vertical-align: middle;\n",
       "    }\n",
       "\n",
       "    .dataframe tbody tr th {\n",
       "        vertical-align: top;\n",
       "    }\n",
       "\n",
       "    .dataframe thead th {\n",
       "        text-align: right;\n",
       "    }\n",
       "</style>\n",
       "<table border=\"1\" class=\"dataframe\">\n",
       "  <thead>\n",
       "    <tr style=\"text-align: right;\">\n",
       "      <th></th>\n",
       "      <th>Document_No</th>\n",
       "      <th>Dominant_Topic</th>\n",
       "      <th>Topic_Perc_Contrib</th>\n",
       "      <th>Keywords</th>\n",
       "      <th>Text</th>\n",
       "    </tr>\n",
       "  </thead>\n",
       "  <tbody>\n",
       "    <tr>\n",
       "      <th>0</th>\n",
       "      <td>0</td>\n",
       "      <td>17.0</td>\n",
       "      <td>0.7869</td>\n",
       "      <td>thing, think, time, hard, simpl, month, long, nice, start, sleep</td>\n",
       "      <td>[flannel, wipe, opinion, worth, keep, order, someims, vims, cloth, wipe, ocean, blue, countwhich, larger, nicer, softer, textur, higher, qualiti, cloth, wipe, hand, face, usingthirsti, pack, wipe, boyfor, month, need, replac, start, rough, stink, issu, strip, longer, handl]</td>\n",
       "    </tr>\n",
       "    <tr>\n",
       "      <th>1</th>\n",
       "      <td>1</td>\n",
       "      <td>17.0</td>\n",
       "      <td>0.5917</td>\n",
       "      <td>thing, think, time, hard, simpl, month, long, nice, start, sleep</td>\n",
       "      <td>[come, earli, disappoint, love, planet, wise, bag, wipe, holder, kep, osocozi, wipe, moist, leak, highli, recommend]</td>\n",
       "    </tr>\n",
       "    <tr>\n",
       "      <th>2</th>\n",
       "      <td>2</td>\n",
       "      <td>17.0</td>\n",
       "      <td>0.5454</td>\n",
       "      <td>thing, think, time, hard, simpl, month, long, nice, start, sleep</td>\n",
       "      <td>[soft, comfort, warmer, look, size, perfectli, recommend, look, type, quilt]</td>\n",
       "    </tr>\n",
       "    <tr>\n",
       "      <th>3</th>\n",
       "      <td>3</td>\n",
       "      <td>17.0</td>\n",
       "      <td>0.8795</td>\n",
       "      <td>thing, think, time, hard, simpl, month, long, nice, start, sleep</td>\n",
       "      <td>[product, worth, purchas, like, posit, ingeni, approach, lose, binki, love, product, ownership, daughter, get, binki, proud, love, littl, fairi, love, artwork, chart, clever, approach, tool]</td>\n",
       "    </tr>\n",
       "    <tr>\n",
       "      <th>4</th>\n",
       "      <td>4</td>\n",
       "      <td>17.0</td>\n",
       "      <td>0.5997</td>\n",
       "      <td>thing, think, time, hard, simpl, month, long, nice, start, sleep</td>\n",
       "      <td>[kid, cri, stop, tri, ween, pacifi, thumbuddi, love, binki, fairi, puppet, easi, work, kid, allow, understand, pacifi, go, help, book, great, gift, expect, parent, save, headach, thank, book, rock]</td>\n",
       "    </tr>\n",
       "    <tr>\n",
       "      <th>5</th>\n",
       "      <td>5</td>\n",
       "      <td>17.0</td>\n",
       "      <td>0.5306</td>\n",
       "      <td>thing, think, time, hard, simpl, month, long, nice, start, sleep</td>\n",
       "      <td>[binki, fairi, come, hous, special, gift, book, help, explain, import, stop, pacifi, book, great, help, prepar, child, loss, favorit, item, doll, ador, lot, cute, movi, binki, fairi, tell, daughter, happen, binki, fairi, come, highli, recommend, product, parent, tri, break, pacifi, thumb, suck, habit]</td>\n",
       "    </tr>\n",
       "    <tr>\n",
       "      <th>6</th>\n",
       "      <td>6</td>\n",
       "      <td>17.0</td>\n",
       "      <td>0.3507</td>\n",
       "      <td>thing, think, time, hard, simpl, month, long, nice, start, sleep</td>\n",
       "      <td>[love, book, bind, tightli, abl, alot, photo, card, asid, design, space, book, shop, purchas, current, list, barn, nobl]</td>\n",
       "    </tr>\n",
       "    <tr>\n",
       "      <th>7</th>\n",
       "      <td>7</td>\n",
       "      <td>10.0</td>\n",
       "      <td>0.6591</td>\n",
       "      <td>small, great, star, product, hand, come, year, young, overal, brother</td>\n",
       "      <td>[perfect, parent, abl, track, babi, feed, sleep, diaper, chang, schedul, half, month, life, life, easier, doctor, question, habit, right]</td>\n",
       "    </tr>\n",
       "    <tr>\n",
       "      <th>8</th>\n",
       "      <td>8</td>\n",
       "      <td>17.0</td>\n",
       "      <td>0.4469</td>\n",
       "      <td>thing, think, time, hard, simpl, month, long, nice, start, sleep</td>\n",
       "      <td>[friend, pin, product, pinterest, decid, whirl, fantast, parent, help, track, feed, diaper, chang, like]</td>\n",
       "    </tr>\n",
       "    <tr>\n",
       "      <th>9</th>\n",
       "      <td>9</td>\n",
       "      <td>17.0</td>\n",
       "      <td>0.3443</td>\n",
       "      <td>thing, think, time, hard, simpl, month, long, nice, start, sleep</td>\n",
       "      <td>[easi, nanni, record, event, happen, babi, home, highli, recommend, want, stay, inform, babi, home, reason, think, standarad, print, option, plan, order, page, journal]</td>\n",
       "    </tr>\n",
       "  </tbody>\n",
       "</table>\n",
       "</div>"
      ],
      "text/plain": [
       "   Document_No  Dominant_Topic  Topic_Perc_Contrib  \\\n",
       "0            0            17.0              0.7869   \n",
       "1            1            17.0              0.5917   \n",
       "2            2            17.0              0.5454   \n",
       "3            3            17.0              0.8795   \n",
       "4            4            17.0              0.5997   \n",
       "5            5            17.0              0.5306   \n",
       "6            6            17.0              0.3507   \n",
       "7            7            10.0              0.6591   \n",
       "8            8            17.0              0.4469   \n",
       "9            9            17.0              0.3443   \n",
       "\n",
       "                                                                Keywords  \\\n",
       "0       thing, think, time, hard, simpl, month, long, nice, start, sleep   \n",
       "1       thing, think, time, hard, simpl, month, long, nice, start, sleep   \n",
       "2       thing, think, time, hard, simpl, month, long, nice, start, sleep   \n",
       "3       thing, think, time, hard, simpl, month, long, nice, start, sleep   \n",
       "4       thing, think, time, hard, simpl, month, long, nice, start, sleep   \n",
       "5       thing, think, time, hard, simpl, month, long, nice, start, sleep   \n",
       "6       thing, think, time, hard, simpl, month, long, nice, start, sleep   \n",
       "7  small, great, star, product, hand, come, year, young, overal, brother   \n",
       "8       thing, think, time, hard, simpl, month, long, nice, start, sleep   \n",
       "9       thing, think, time, hard, simpl, month, long, nice, start, sleep   \n",
       "\n",
       "                                                                                                                                                                                                                                                                                                             Text  \n",
       "0                              [flannel, wipe, opinion, worth, keep, order, someims, vims, cloth, wipe, ocean, blue, countwhich, larger, nicer, softer, textur, higher, qualiti, cloth, wipe, hand, face, usingthirsti, pack, wipe, boyfor, month, need, replac, start, rough, stink, issu, strip, longer, handl]  \n",
       "1                                                                                                                                                                                            [come, earli, disappoint, love, planet, wise, bag, wipe, holder, kep, osocozi, wipe, moist, leak, highli, recommend]  \n",
       "2                                                                                                                                                                                                                                    [soft, comfort, warmer, look, size, perfectli, recommend, look, type, quilt]  \n",
       "3                                                                                                                  [product, worth, purchas, like, posit, ingeni, approach, lose, binki, love, product, ownership, daughter, get, binki, proud, love, littl, fairi, love, artwork, chart, clever, approach, tool]  \n",
       "4                                                                                                           [kid, cri, stop, tri, ween, pacifi, thumbuddi, love, binki, fairi, puppet, easi, work, kid, allow, understand, pacifi, go, help, book, great, gift, expect, parent, save, headach, thank, book, rock]  \n",
       "5  [binki, fairi, come, hous, special, gift, book, help, explain, import, stop, pacifi, book, great, help, prepar, child, loss, favorit, item, doll, ador, lot, cute, movi, binki, fairi, tell, daughter, happen, binki, fairi, come, highli, recommend, product, parent, tri, break, pacifi, thumb, suck, habit]  \n",
       "6                                                                                                                                                                                        [love, book, bind, tightli, abl, alot, photo, card, asid, design, space, book, shop, purchas, current, list, barn, nobl]  \n",
       "7                                                                                                                                                                       [perfect, parent, abl, track, babi, feed, sleep, diaper, chang, schedul, half, month, life, life, easier, doctor, question, habit, right]  \n",
       "8                                                                                                                                                                                                        [friend, pin, product, pinterest, decid, whirl, fantast, parent, help, track, feed, diaper, chang, like]  \n",
       "9                                                                                                                                        [easi, nanni, record, event, happen, babi, home, highli, recommend, want, stay, inform, babi, home, reason, think, standarad, print, option, plan, order, page, journal]  "
      ]
     },
     "execution_count": 58,
     "metadata": {},
     "output_type": "execute_result"
    }
   ],
   "source": [
    "pd.set_option('display.max_colwidth', None)\n",
    "\n",
    "def format_topic_sentences(lda_model=lda_model, corpus=corpus, texts=data):\n",
    "    sent_topics_df=pd.DataFrame()\n",
    "    \n",
    "    for i, row_list in enumerate(lda_model[corpus]):\n",
    "        row=row_list[0] if lda_model.per_word_topics else row_list\n",
    "        row=sorted(row,key=lambda x:(x[1]),reverse=True)\n",
    "        \n",
    "        for j, (topic_num,prop_topic) in enumerate(row):\n",
    "            if j==0:\n",
    "                wp=lda_model.show_topic(topic_num)\n",
    "                topic_keywords=', '.join([word for word, prop in wp])\n",
    "                sent_topics_df=sent_topics_df.append(pd.Series([int(topic_num),round(prop_topic,4),topic_keywords]),ignore_index=True)\n",
    "            else:\n",
    "                break\n",
    "    sent_topics_df.columns=['Dominant_topic','Perc_contribution','Topic_keywords']\n",
    "    contents=pd.Series(texts)\n",
    "    sent_topics_df=pd.concat([sent_topics_df,contents],axis=1)\n",
    "    return sent_topics_df\n",
    "\n",
    "df_topic_sents_keywords = format_topic_sentences(lda_model=lda_model, corpus=bow_corpus, texts=processed_docs)\n",
    "\n",
    "# Format.  \n",
    "df_dominant_topic = df_topic_sents_keywords.reset_index()\n",
    "df_dominant_topic.columns = ['Document_No', 'Dominant_Topic', 'Topic_Perc_Contrib', 'Keywords', 'Text']\n",
    "df_dominant_topic.head(10)\n"
   ]
  },
  {
   "cell_type": "code",
   "execution_count": 55,
   "id": "55320708",
   "metadata": {},
   "outputs": [],
   "source": [
    "# sent_topics_sorteddf = pd.DataFrame()\n",
    "\n",
    "# sent_topics_outdf_grpd = df_dominant_topic.groupby('Dominant_Topic')\n",
    "\n",
    "# for i, grp in sent_topics_outdf_grpd:\n",
    "#     sent_topics_sorteddf = pd.concat([sent_topics_sorteddf, \n",
    "#                                              grp.sort_values(['Topic_Perc_Contrib'], ascending=[0]).head(1)], \n",
    "#                                             axis=0)\n",
    "\n",
    "# # Reset Index    \n",
    "# sent_topics_sorteddf.reset_index(drop=True, inplace=True)\n",
    "\n",
    "# # Format\n",
    "# sent_topics_sorteddf.columns = ['Topic_Num', \"Topic_Perc_Contrib\", \"Keywords\", \"Text\"]\n",
    "\n",
    "# # Show\n",
    "# sent_topics_sorteddf.head()"
   ]
  },
  {
   "cell_type": "code",
   "execution_count": 57,
   "id": "82bfced5",
   "metadata": {},
   "outputs": [],
   "source": [
    "# topic_counts = df_dominant_topic['Dominant_Topic'].value_counts()\n",
    "\n",
    "# # Percentage of Documents for Each Topic\n",
    "# topic_contribution = round(topic_counts/topic_counts.sum(), 4)\n",
    "\n",
    "# # Topic Number and Keywords\n",
    "# topic_num_keywords = df_topic_sents_keywords[['Dominant_Topic', 'Topic_Keywords']]\n",
    "\n",
    "# # Concatenate Column wise\n",
    "# df_dominant_topics = pd.concat([topic_num_keywords, topic_counts, topic_contribution], axis=1)\n",
    "\n",
    "# # Change Column names\n",
    "# df_dominant_topics.columns = ['Dominant_Topic', 'Topic_Keywords', 'Num_Documents', 'Perc_Documents']\n",
    "\n",
    "# # Show\n",
    "# df_dominant_topics"
   ]
  },
  {
   "cell_type": "code",
   "execution_count": null,
   "id": "ace2cb55",
   "metadata": {},
   "outputs": [],
   "source": []
  },
  {
   "cell_type": "code",
   "execution_count": null,
   "id": "946b8cc7",
   "metadata": {},
   "outputs": [],
   "source": []
  },
  {
   "cell_type": "code",
   "execution_count": null,
   "id": "51a06f93",
   "metadata": {},
   "outputs": [],
   "source": []
  },
  {
   "cell_type": "code",
   "execution_count": null,
   "id": "e1fb6e27",
   "metadata": {},
   "outputs": [],
   "source": []
  },
  {
   "cell_type": "code",
   "execution_count": null,
   "id": "b53003b0",
   "metadata": {},
   "outputs": [],
   "source": []
  },
  {
   "cell_type": "code",
   "execution_count": null,
   "id": "b3395721",
   "metadata": {},
   "outputs": [],
   "source": []
  }
 ],
 "metadata": {
  "kernelspec": {
   "display_name": "Python 3",
   "language": "python",
   "name": "python3"
  },
  "language_info": {
   "codemirror_mode": {
    "name": "ipython",
    "version": 3
   },
   "file_extension": ".py",
   "mimetype": "text/x-python",
   "name": "python",
   "nbconvert_exporter": "python",
   "pygments_lexer": "ipython3",
   "version": "3.8.8"
  }
 },
 "nbformat": 4,
 "nbformat_minor": 5
}
