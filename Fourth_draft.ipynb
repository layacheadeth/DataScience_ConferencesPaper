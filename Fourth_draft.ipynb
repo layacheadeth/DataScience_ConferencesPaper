{
 "cells": [
  {
   "cell_type": "code",
   "execution_count": 11,
   "id": "bb05a061",
   "metadata": {},
   "outputs": [
    {
     "data": {
      "text/html": [
       "<div>\n",
       "<style scoped>\n",
       "    .dataframe tbody tr th:only-of-type {\n",
       "        vertical-align: middle;\n",
       "    }\n",
       "\n",
       "    .dataframe tbody tr th {\n",
       "        vertical-align: top;\n",
       "    }\n",
       "\n",
       "    .dataframe thead th {\n",
       "        text-align: right;\n",
       "    }\n",
       "</style>\n",
       "<table border=\"1\" class=\"dataframe\">\n",
       "  <thead>\n",
       "    <tr style=\"text-align: right;\">\n",
       "      <th></th>\n",
       "      <th>name</th>\n",
       "      <th>review</th>\n",
       "      <th>rating</th>\n",
       "    </tr>\n",
       "  </thead>\n",
       "  <tbody>\n",
       "    <tr>\n",
       "      <th>0</th>\n",
       "      <td>Planetwise Flannel Wipes</td>\n",
       "      <td>These flannel wipes are OK, but in my opinion not worth keeping.  I also ordered someImse Vimse Cloth Wipes-Ocean Blue-12 countwhich are larger, had a nicer, softer texture and just seemed higher ...</td>\n",
       "      <td>3</td>\n",
       "    </tr>\n",
       "    <tr>\n",
       "      <th>1</th>\n",
       "      <td>Planetwise Wipe Pouch</td>\n",
       "      <td>it came early and was not disappointed. i love planet wise bags and now my wipe holder. it keps my osocozy wipes moist and does not leak. highly recommend it.</td>\n",
       "      <td>5</td>\n",
       "    </tr>\n",
       "    <tr>\n",
       "      <th>2</th>\n",
       "      <td>Annas Dream Full Quilt with 2 Shams</td>\n",
       "      <td>Very soft and comfortable and warmer than it looks...fit the full size bed perfectly...would recommend to anyone looking for this type of quilt</td>\n",
       "      <td>5</td>\n",
       "    </tr>\n",
       "    <tr>\n",
       "      <th>3</th>\n",
       "      <td>Stop Pacifier Sucking without tears with Thumbuddy To Love's Binky Fairy Puppet and Adorable Book</td>\n",
       "      <td>This is a product well worth the purchase.  I have not found anything else like this, and it is a positive, ingenious approach to losing the binky.  What I love most about this product is how much...</td>\n",
       "      <td>5</td>\n",
       "    </tr>\n",
       "    <tr>\n",
       "      <th>4</th>\n",
       "      <td>Stop Pacifier Sucking without tears with Thumbuddy To Love's Binky Fairy Puppet and Adorable Book</td>\n",
       "      <td>All of my kids have cried non-stop when I tried to ween them off their pacifier, until I found Thumbuddy To Love's Binky Fairy Puppet.  It is an easy way to work with your kids to allow them to un...</td>\n",
       "      <td>5</td>\n",
       "    </tr>\n",
       "    <tr>\n",
       "      <th>...</th>\n",
       "      <td>...</td>\n",
       "      <td>...</td>\n",
       "      <td>...</td>\n",
       "    </tr>\n",
       "    <tr>\n",
       "      <th>5695</th>\n",
       "      <td>Leachco Safer Bather Infant Bath Pad, Blue Fish</td>\n",
       "      <td>This is a for sure MUST for babies! So much better then those hard plastic tubs.. and a lot easier then folding up towel in the sink! It stays warm like the bath water so your child doesnt get chi...</td>\n",
       "      <td>5</td>\n",
       "    </tr>\n",
       "    <tr>\n",
       "      <th>5696</th>\n",
       "      <td>Leachco Safer Bather Infant Bath Pad, Blue Fish</td>\n",
       "      <td>mildews so bad! i bought a second one thinking that I was doing something wrong. I rinsed and even put outside every night to dry completely. I now need to buy a bath for my 6 mo old since she can...</td>\n",
       "      <td>2</td>\n",
       "    </tr>\n",
       "    <tr>\n",
       "      <th>5697</th>\n",
       "      <td>Leachco Safer Bather Infant Bath Pad, Blue Fish</td>\n",
       "      <td>The reason for the 1 star is because baby is not due until Dec 1 2013, and it has not been used. Mother to be is excited about it, but we won't know the thoughts until its used, then I'll re-rate it</td>\n",
       "      <td>1</td>\n",
       "    </tr>\n",
       "    <tr>\n",
       "      <th>5698</th>\n",
       "      <td>Leachco Safer Bather Infant Bath Pad, Blue Fish</td>\n",
       "      <td>This bathing pillow is the best!  It keeps baby warm and is very comfy.  My baby loves it - she can still kick around in the water while her head is elevated.  I highly recommend this product for ...</td>\n",
       "      <td>5</td>\n",
       "    </tr>\n",
       "    <tr>\n",
       "      <th>5699</th>\n",
       "      <td>Leachco Safer Bather Infant Bath Pad, Blue Fish</td>\n",
       "      <td>This is wonderful! The only reason I didn't give it 5 stars is because it is kind of a pain to dry out, but other than that it is great. My little boy has used this since his first bath, he is 8 w...</td>\n",
       "      <td>4</td>\n",
       "    </tr>\n",
       "  </tbody>\n",
       "</table>\n",
       "<p>5700 rows × 3 columns</p>\n",
       "</div>"
      ],
      "text/plain": [
       "                                                                                                   name  \\\n",
       "0                                                                              Planetwise Flannel Wipes   \n",
       "1                                                                                 Planetwise Wipe Pouch   \n",
       "2                                                                   Annas Dream Full Quilt with 2 Shams   \n",
       "3     Stop Pacifier Sucking without tears with Thumbuddy To Love's Binky Fairy Puppet and Adorable Book   \n",
       "4     Stop Pacifier Sucking without tears with Thumbuddy To Love's Binky Fairy Puppet and Adorable Book   \n",
       "...                                                                                                 ...   \n",
       "5695                                                    Leachco Safer Bather Infant Bath Pad, Blue Fish   \n",
       "5696                                                    Leachco Safer Bather Infant Bath Pad, Blue Fish   \n",
       "5697                                                    Leachco Safer Bather Infant Bath Pad, Blue Fish   \n",
       "5698                                                    Leachco Safer Bather Infant Bath Pad, Blue Fish   \n",
       "5699                                                    Leachco Safer Bather Infant Bath Pad, Blue Fish   \n",
       "\n",
       "                                                                                                                                                                                                       review  \\\n",
       "0     These flannel wipes are OK, but in my opinion not worth keeping.  I also ordered someImse Vimse Cloth Wipes-Ocean Blue-12 countwhich are larger, had a nicer, softer texture and just seemed higher ...   \n",
       "1                                              it came early and was not disappointed. i love planet wise bags and now my wipe holder. it keps my osocozy wipes moist and does not leak. highly recommend it.   \n",
       "2                                                             Very soft and comfortable and warmer than it looks...fit the full size bed perfectly...would recommend to anyone looking for this type of quilt   \n",
       "3     This is a product well worth the purchase.  I have not found anything else like this, and it is a positive, ingenious approach to losing the binky.  What I love most about this product is how much...   \n",
       "4     All of my kids have cried non-stop when I tried to ween them off their pacifier, until I found Thumbuddy To Love's Binky Fairy Puppet.  It is an easy way to work with your kids to allow them to un...   \n",
       "...                                                                                                                                                                                                       ...   \n",
       "5695  This is a for sure MUST for babies! So much better then those hard plastic tubs.. and a lot easier then folding up towel in the sink! It stays warm like the bath water so your child doesnt get chi...   \n",
       "5696  mildews so bad! i bought a second one thinking that I was doing something wrong. I rinsed and even put outside every night to dry completely. I now need to buy a bath for my 6 mo old since she can...   \n",
       "5697   The reason for the 1 star is because baby is not due until Dec 1 2013, and it has not been used. Mother to be is excited about it, but we won't know the thoughts until its used, then I'll re-rate it   \n",
       "5698  This bathing pillow is the best!  It keeps baby warm and is very comfy.  My baby loves it - she can still kick around in the water while her head is elevated.  I highly recommend this product for ...   \n",
       "5699  This is wonderful! The only reason I didn't give it 5 stars is because it is kind of a pain to dry out, but other than that it is great. My little boy has used this since his first bath, he is 8 w...   \n",
       "\n",
       "      rating  \n",
       "0          3  \n",
       "1          5  \n",
       "2          5  \n",
       "3          5  \n",
       "4          5  \n",
       "...      ...  \n",
       "5695       5  \n",
       "5696       2  \n",
       "5697       1  \n",
       "5698       5  \n",
       "5699       4  \n",
       "\n",
       "[5700 rows x 3 columns]"
      ]
     },
     "execution_count": 11,
     "metadata": {},
     "output_type": "execute_result"
    }
   ],
   "source": [
    "import pandas as pd\n",
    "import fractions\n",
    "import re\n",
    "import string\n",
    "import nltk\n",
    "import spacy \n",
    "import numpy as np\n",
    "import math\n",
    "from tqdm import tqdm \n",
    "\n",
    "from spacy.matcher import Matcher\n",
    "from spacy.tokens import Span\n",
    "from spacy import displacy\n",
    "pd.set_option('display.max_colwidth',200)\n",
    "\n",
    "\n",
    "data=pd.read_csv(\"amazon_baby.csv\",error_bad_lines=False)\n",
    "data1=data[:5700]\n",
    "data1"
   ]
  },
  {
   "cell_type": "code",
   "execution_count": 12,
   "id": "2ad52449",
   "metadata": {},
   "outputs": [],
   "source": [
    "labels=['Plannetwise Flannel Wipes',\"Nature's Lullables Second Year Sticker Calender\",\"Stop Pacifier Sucking without tears with Thumbuddy To Love's Binky Fairy Puppet and Adorable Book\",\"Nature's Lullabies First Year Sticker Calendar\"]"
   ]
  },
  {
   "cell_type": "code",
   "execution_count": 13,
   "id": "eacbbbfb",
   "metadata": {},
   "outputs": [],
   "source": [
    "label1=[\"Lamaze Peekaboo, I Love You\",\"Baby Tracker&reg; - Daily Childcare Journal, Schedule Log\",\"SoftPlay Peek-A-Boo Where's Elmo A Children's Book\",\"Baby's First Year Undated Wall Calendar with Stickers to Mark &quot;Firsts&quot; - Pink\",\"Lullaby and Goodnight by Pockets of Learning\",\"The First Years Massaging Action Teether\",\"Crown Crafts The Original NoJo BabySling by Dr. Sears - Denim\",\"Arm's Reach Original Co-sleeper 100% Cotton White Sheet\",\"Baby Trend Diaper Champ\",\"BABYBJ&Ouml;RN Navy Carrier\",\"SoftShells Breast Shell Soothers - Sore Nipples\",\"Evenflo Home D&eacute;cor Wood Gate, Natural Oak\",\"Baby B'Air Toddler Flight Vest - Red\",\"Medela 12 Volt Vehicle Lighter Adaptor\",\"Bugs On Board\",\"BABYBJORN Safe Step - Blue\"]"
   ]
  },
  {
   "cell_type": "code",
   "execution_count": 14,
   "id": "1ea98c35",
   "metadata": {},
   "outputs": [],
   "source": [
    "for i in label1:\n",
    "    labels.append(i)"
   ]
  },
  {
   "cell_type": "code",
   "execution_count": 15,
   "id": "269e2733",
   "metadata": {},
   "outputs": [
    {
     "name": "stdout",
     "output_type": "stream",
     "text": [
      "Plannetwise Flannel Wipes\n",
      "Nature's Lullables Second Year Sticker Calender\n",
      "Stop Pacifier Sucking without tears with Thumbuddy To Love's Binky Fairy Puppet and Adorable Book\n",
      "Nature's Lullabies First Year Sticker Calendar\n",
      "Lamaze Peekaboo, I Love You\n",
      "Baby Tracker&reg; - Daily Childcare Journal, Schedule Log\n",
      "SoftPlay Peek-A-Boo Where's Elmo A Children's Book\n",
      "Baby's First Year Undated Wall Calendar with Stickers to Mark &quot;Firsts&quot; - Pink\n",
      "Lullaby and Goodnight by Pockets of Learning\n",
      "The First Years Massaging Action Teether\n",
      "Crown Crafts The Original NoJo BabySling by Dr. Sears - Denim\n",
      "Arm's Reach Original Co-sleeper 100% Cotton White Sheet\n",
      "Baby Trend Diaper Champ\n",
      "BABYBJ&Ouml;RN Navy Carrier\n",
      "SoftShells Breast Shell Soothers - Sore Nipples\n",
      "Evenflo Home D&eacute;cor Wood Gate, Natural Oak\n",
      "Baby B'Air Toddler Flight Vest - Red\n",
      "Medela 12 Volt Vehicle Lighter Adaptor\n",
      "Bugs On Board\n",
      "BABYBJORN Safe Step - Blue\n"
     ]
    }
   ],
   "source": [
    "for i in labels:\n",
    "    print(i)"
   ]
  },
  {
   "cell_type": "code",
   "execution_count": 16,
   "id": "5fbc0c7b",
   "metadata": {},
   "outputs": [],
   "source": [
    "label2=[\"Cloth Diaper Pins Stainless Steel Traditional Safety Pin (Black)\",\"Our Baby Girl Memory Book\",\"Newborn Baby Tracker&reg; - Round the Clock Childcare Journal, Log Book\",\"Neurosmith - Music Blocks with Mozart Music Cartridge\",\"Modern House Trailing Cherry Blossom Vinyl Mural Art Wall Sticker Decal\",\"my first fish bowl by lamaze / learning curve\",\"Fisher Price Nesting Action Vehicles\",\"Sassy Who Loves Baby? Photo Album Book with teether handle\",\"My Quiet Book, Fabric Activity Book for Children\",\"\"]\n"
   ]
  },
  {
   "cell_type": "code",
   "execution_count": 17,
   "id": "07f9622d",
   "metadata": {},
   "outputs": [],
   "source": [
    "for i in label2:\n",
    "    labels.append(i)"
   ]
  },
  {
   "cell_type": "code",
   "execution_count": 18,
   "id": "a4a44bd3",
   "metadata": {},
   "outputs": [
    {
     "name": "stdout",
     "output_type": "stream",
     "text": [
      "Plannetwise Flannel Wipes\n",
      "Nature's Lullables Second Year Sticker Calender\n",
      "Stop Pacifier Sucking without tears with Thumbuddy To Love's Binky Fairy Puppet and Adorable Book\n",
      "Nature's Lullabies First Year Sticker Calendar\n",
      "Lamaze Peekaboo, I Love You\n",
      "Baby Tracker&reg; - Daily Childcare Journal, Schedule Log\n",
      "SoftPlay Peek-A-Boo Where's Elmo A Children's Book\n",
      "Baby's First Year Undated Wall Calendar with Stickers to Mark &quot;Firsts&quot; - Pink\n",
      "Lullaby and Goodnight by Pockets of Learning\n",
      "The First Years Massaging Action Teether\n",
      "Crown Crafts The Original NoJo BabySling by Dr. Sears - Denim\n",
      "Arm's Reach Original Co-sleeper 100% Cotton White Sheet\n",
      "Baby Trend Diaper Champ\n",
      "BABYBJ&Ouml;RN Navy Carrier\n",
      "SoftShells Breast Shell Soothers - Sore Nipples\n",
      "Evenflo Home D&eacute;cor Wood Gate, Natural Oak\n",
      "Baby B'Air Toddler Flight Vest - Red\n",
      "Medela 12 Volt Vehicle Lighter Adaptor\n",
      "Bugs On Board\n",
      "BABYBJORN Safe Step - Blue\n",
      "Cloth Diaper Pins Stainless Steel Traditional Safety Pin (Black)\n",
      "Our Baby Girl Memory Book\n",
      "Newborn Baby Tracker&reg; - Round the Clock Childcare Journal, Log Book\n",
      "Neurosmith - Music Blocks with Mozart Music Cartridge\n",
      "Modern House Trailing Cherry Blossom Vinyl Mural Art Wall Sticker Decal\n",
      "my first fish bowl by lamaze / learning curve\n",
      "Fisher Price Nesting Action Vehicles\n",
      "Sassy Who Loves Baby? Photo Album Book with teether handle\n",
      "My Quiet Book, Fabric Activity Book for Children\n",
      "\n"
     ]
    }
   ],
   "source": [
    "for i in labels:\n",
    "    print(i)"
   ]
  },
  {
   "cell_type": "code",
   "execution_count": 19,
   "id": "84df9284",
   "metadata": {},
   "outputs": [],
   "source": [
    "label3=[\"BABYBJORN Potty Chair - Red\",\"Philips Avent 3 Pack 9oz Bottles\",\"Munchkin Mozart Magic Cube\",\"PRIMO EuroBath, Pearl White\"]"
   ]
  },
  {
   "cell_type": "code",
   "execution_count": 20,
   "id": "4d982b83",
   "metadata": {},
   "outputs": [],
   "source": [
    "for i in label3:\n",
    "    labels.append(i)"
   ]
  },
  {
   "cell_type": "code",
   "execution_count": 21,
   "id": "d298e3ea",
   "metadata": {},
   "outputs": [
    {
     "name": "stdout",
     "output_type": "stream",
     "text": [
      "Plannetwise Flannel Wipes\n",
      "Nature's Lullables Second Year Sticker Calender\n",
      "Stop Pacifier Sucking without tears with Thumbuddy To Love's Binky Fairy Puppet and Adorable Book\n",
      "Nature's Lullabies First Year Sticker Calendar\n",
      "Lamaze Peekaboo, I Love You\n",
      "Baby Tracker&reg; - Daily Childcare Journal, Schedule Log\n",
      "SoftPlay Peek-A-Boo Where's Elmo A Children's Book\n",
      "Baby's First Year Undated Wall Calendar with Stickers to Mark &quot;Firsts&quot; - Pink\n",
      "Lullaby and Goodnight by Pockets of Learning\n",
      "The First Years Massaging Action Teether\n",
      "Crown Crafts The Original NoJo BabySling by Dr. Sears - Denim\n",
      "Arm's Reach Original Co-sleeper 100% Cotton White Sheet\n",
      "Baby Trend Diaper Champ\n",
      "BABYBJ&Ouml;RN Navy Carrier\n",
      "SoftShells Breast Shell Soothers - Sore Nipples\n",
      "Evenflo Home D&eacute;cor Wood Gate, Natural Oak\n",
      "Baby B'Air Toddler Flight Vest - Red\n",
      "Medela 12 Volt Vehicle Lighter Adaptor\n",
      "Bugs On Board\n",
      "BABYBJORN Safe Step - Blue\n",
      "Cloth Diaper Pins Stainless Steel Traditional Safety Pin (Black)\n",
      "Our Baby Girl Memory Book\n",
      "Newborn Baby Tracker&reg; - Round the Clock Childcare Journal, Log Book\n",
      "Neurosmith - Music Blocks with Mozart Music Cartridge\n",
      "Modern House Trailing Cherry Blossom Vinyl Mural Art Wall Sticker Decal\n",
      "my first fish bowl by lamaze / learning curve\n",
      "Fisher Price Nesting Action Vehicles\n",
      "Sassy Who Loves Baby? Photo Album Book with teether handle\n",
      "My Quiet Book, Fabric Activity Book for Children\n",
      "\n",
      "BABYBJORN Potty Chair - Red\n",
      "Philips Avent 3 Pack 9oz Bottles\n",
      "Munchkin Mozart Magic Cube\n",
      "PRIMO EuroBath, Pearl White\n"
     ]
    }
   ],
   "source": [
    "for i in labels:\n",
    "    print(i)"
   ]
  },
  {
   "cell_type": "code",
   "execution_count": 27,
   "id": "f25eb61d",
   "metadata": {},
   "outputs": [],
   "source": [
    "data1.name.value_counts().to_frame()\n",
    "# df_product=data1.name\n",
    "\n",
    "# data1.name.value_counts().to_frame()\n",
    "df_product=data1.name.value_counts().to_frame()\n",
    "df_product.to_csv(\"df_product_test.csv\")"
   ]
  },
  {
   "cell_type": "code",
   "execution_count": 23,
   "id": "020c1cf6",
   "metadata": {},
   "outputs": [
    {
     "name": "stderr",
     "output_type": "stream",
     "text": [
      "<ipython-input-23-00829bab1e77>:2: SettingWithCopyWarning: \n",
      "A value is trying to be set on a copy of a slice from a DataFrame.\n",
      "Try using .loc[row_indexer,col_indexer] = value instead\n",
      "\n",
      "See the caveats in the documentation: https://pandas.pydata.org/pandas-docs/stable/user_guide/indexing.html#returning-a-view-versus-a-copy\n",
      "  data_text['index']=data_text.index\n"
     ]
    },
    {
     "data": {
      "text/html": [
       "<div>\n",
       "<style scoped>\n",
       "    .dataframe tbody tr th:only-of-type {\n",
       "        vertical-align: middle;\n",
       "    }\n",
       "\n",
       "    .dataframe tbody tr th {\n",
       "        vertical-align: top;\n",
       "    }\n",
       "\n",
       "    .dataframe thead th {\n",
       "        text-align: right;\n",
       "    }\n",
       "</style>\n",
       "<table border=\"1\" class=\"dataframe\">\n",
       "  <thead>\n",
       "    <tr style=\"text-align: right;\">\n",
       "      <th></th>\n",
       "      <th>review</th>\n",
       "      <th>index</th>\n",
       "    </tr>\n",
       "  </thead>\n",
       "  <tbody>\n",
       "    <tr>\n",
       "      <th>0</th>\n",
       "      <td>These flannel wipes are OK, but in my opinion not worth keeping.  I also ordered someImse Vimse Cloth Wipes-Ocean Blue-12 countwhich are larger, had a nicer, softer texture and just seemed higher ...</td>\n",
       "      <td>0</td>\n",
       "    </tr>\n",
       "    <tr>\n",
       "      <th>1</th>\n",
       "      <td>it came early and was not disappointed. i love planet wise bags and now my wipe holder. it keps my osocozy wipes moist and does not leak. highly recommend it.</td>\n",
       "      <td>1</td>\n",
       "    </tr>\n",
       "    <tr>\n",
       "      <th>2</th>\n",
       "      <td>Very soft and comfortable and warmer than it looks...fit the full size bed perfectly...would recommend to anyone looking for this type of quilt</td>\n",
       "      <td>2</td>\n",
       "    </tr>\n",
       "    <tr>\n",
       "      <th>3</th>\n",
       "      <td>This is a product well worth the purchase.  I have not found anything else like this, and it is a positive, ingenious approach to losing the binky.  What I love most about this product is how much...</td>\n",
       "      <td>3</td>\n",
       "    </tr>\n",
       "    <tr>\n",
       "      <th>4</th>\n",
       "      <td>All of my kids have cried non-stop when I tried to ween them off their pacifier, until I found Thumbuddy To Love's Binky Fairy Puppet.  It is an easy way to work with your kids to allow them to un...</td>\n",
       "      <td>4</td>\n",
       "    </tr>\n",
       "    <tr>\n",
       "      <th>...</th>\n",
       "      <td>...</td>\n",
       "      <td>...</td>\n",
       "    </tr>\n",
       "    <tr>\n",
       "      <th>5695</th>\n",
       "      <td>This is a for sure MUST for babies! So much better then those hard plastic tubs.. and a lot easier then folding up towel in the sink! It stays warm like the bath water so your child doesnt get chi...</td>\n",
       "      <td>5695</td>\n",
       "    </tr>\n",
       "    <tr>\n",
       "      <th>5696</th>\n",
       "      <td>mildews so bad! i bought a second one thinking that I was doing something wrong. I rinsed and even put outside every night to dry completely. I now need to buy a bath for my 6 mo old since she can...</td>\n",
       "      <td>5696</td>\n",
       "    </tr>\n",
       "    <tr>\n",
       "      <th>5697</th>\n",
       "      <td>The reason for the 1 star is because baby is not due until Dec 1 2013, and it has not been used. Mother to be is excited about it, but we won't know the thoughts until its used, then I'll re-rate it</td>\n",
       "      <td>5697</td>\n",
       "    </tr>\n",
       "    <tr>\n",
       "      <th>5698</th>\n",
       "      <td>This bathing pillow is the best!  It keeps baby warm and is very comfy.  My baby loves it - she can still kick around in the water while her head is elevated.  I highly recommend this product for ...</td>\n",
       "      <td>5698</td>\n",
       "    </tr>\n",
       "    <tr>\n",
       "      <th>5699</th>\n",
       "      <td>This is wonderful! The only reason I didn't give it 5 stars is because it is kind of a pain to dry out, but other than that it is great. My little boy has used this since his first bath, he is 8 w...</td>\n",
       "      <td>5699</td>\n",
       "    </tr>\n",
       "  </tbody>\n",
       "</table>\n",
       "<p>5700 rows × 2 columns</p>\n",
       "</div>"
      ],
      "text/plain": [
       "                                                                                                                                                                                                       review  \\\n",
       "0     These flannel wipes are OK, but in my opinion not worth keeping.  I also ordered someImse Vimse Cloth Wipes-Ocean Blue-12 countwhich are larger, had a nicer, softer texture and just seemed higher ...   \n",
       "1                                              it came early and was not disappointed. i love planet wise bags and now my wipe holder. it keps my osocozy wipes moist and does not leak. highly recommend it.   \n",
       "2                                                             Very soft and comfortable and warmer than it looks...fit the full size bed perfectly...would recommend to anyone looking for this type of quilt   \n",
       "3     This is a product well worth the purchase.  I have not found anything else like this, and it is a positive, ingenious approach to losing the binky.  What I love most about this product is how much...   \n",
       "4     All of my kids have cried non-stop when I tried to ween them off their pacifier, until I found Thumbuddy To Love's Binky Fairy Puppet.  It is an easy way to work with your kids to allow them to un...   \n",
       "...                                                                                                                                                                                                       ...   \n",
       "5695  This is a for sure MUST for babies! So much better then those hard plastic tubs.. and a lot easier then folding up towel in the sink! It stays warm like the bath water so your child doesnt get chi...   \n",
       "5696  mildews so bad! i bought a second one thinking that I was doing something wrong. I rinsed and even put outside every night to dry completely. I now need to buy a bath for my 6 mo old since she can...   \n",
       "5697   The reason for the 1 star is because baby is not due until Dec 1 2013, and it has not been used. Mother to be is excited about it, but we won't know the thoughts until its used, then I'll re-rate it   \n",
       "5698  This bathing pillow is the best!  It keeps baby warm and is very comfy.  My baby loves it - she can still kick around in the water while her head is elevated.  I highly recommend this product for ...   \n",
       "5699  This is wonderful! The only reason I didn't give it 5 stars is because it is kind of a pain to dry out, but other than that it is great. My little boy has used this since his first bath, he is 8 w...   \n",
       "\n",
       "      index  \n",
       "0         0  \n",
       "1         1  \n",
       "2         2  \n",
       "3         3  \n",
       "4         4  \n",
       "...     ...  \n",
       "5695   5695  \n",
       "5696   5696  \n",
       "5697   5697  \n",
       "5698   5698  \n",
       "5699   5699  \n",
       "\n",
       "[5700 rows x 2 columns]"
      ]
     },
     "execution_count": 23,
     "metadata": {},
     "output_type": "execute_result"
    }
   ],
   "source": [
    "data_text=data1[[\"review\"]]\n",
    "data_text['index']=data_text.index\n",
    "documents=data_text\n",
    "documents"
   ]
  },
  {
   "cell_type": "code",
   "execution_count": 24,
   "id": "567119a7",
   "metadata": {},
   "outputs": [
    {
     "name": "stderr",
     "output_type": "stream",
     "text": [
      "<ipython-input-24-00cd468fc166>:1: SettingWithCopyWarning: \n",
      "A value is trying to be set on a copy of a slice from a DataFrame\n",
      "\n",
      "See the caveats in the documentation: https://pandas.pydata.org/pandas-docs/stable/user_guide/indexing.html#returning-a-view-versus-a-copy\n",
      "  documents.dropna(subset = [\"review\"], inplace=True) # drop those rows which have NaN value cells\n"
     ]
    }
   ],
   "source": [
    "documents.dropna(subset = [\"review\"], inplace=True) # drop those rows which have NaN value cells"
   ]
  },
  {
   "cell_type": "code",
   "execution_count": 25,
   "id": "b9428eed",
   "metadata": {},
   "outputs": [
    {
     "name": "stderr",
     "output_type": "stream",
     "text": [
      "[nltk_data] Downloading package wordnet to /Users/deth/nltk_data...\n",
      "[nltk_data]   Package wordnet is already up-to-date!\n"
     ]
    },
    {
     "data": {
      "text/plain": [
       "True"
      ]
     },
     "execution_count": 25,
     "metadata": {},
     "output_type": "execute_result"
    }
   ],
   "source": [
    "import gensim\n",
    "from gensim.utils import simple_preprocess\n",
    "from gensim.parsing.preprocessing import STOPWORDS\n",
    "from nltk.stem import WordNetLemmatizer, SnowballStemmer\n",
    "import nltk.stem as stemmer\n",
    "from nltk.stem.porter import *\n",
    "import numpy as np\n",
    "np.random.seed(2018)\n",
    "import nltk\n",
    "nltk.download('wordnet')"
   ]
  },
  {
   "cell_type": "code",
   "execution_count": 26,
   "id": "62f893ac",
   "metadata": {},
   "outputs": [],
   "source": [
    "doc_sample=documents[documents['index']==4].values[0][0]\n"
   ]
  },
  {
   "cell_type": "code",
   "execution_count": null,
   "id": "d6811eae",
   "metadata": {},
   "outputs": [],
   "source": []
  },
  {
   "cell_type": "code",
   "execution_count": null,
   "id": "475bd1d1",
   "metadata": {},
   "outputs": [],
   "source": []
  },
  {
   "cell_type": "code",
   "execution_count": null,
   "id": "9145c46a",
   "metadata": {},
   "outputs": [],
   "source": []
  },
  {
   "cell_type": "code",
   "execution_count": null,
   "id": "fba86914",
   "metadata": {},
   "outputs": [],
   "source": []
  },
  {
   "cell_type": "code",
   "execution_count": null,
   "id": "4b3a0616",
   "metadata": {},
   "outputs": [],
   "source": []
  },
  {
   "cell_type": "code",
   "execution_count": null,
   "id": "33f9407f",
   "metadata": {},
   "outputs": [],
   "source": []
  },
  {
   "cell_type": "code",
   "execution_count": null,
   "id": "e400576d",
   "metadata": {},
   "outputs": [],
   "source": []
  },
  {
   "cell_type": "code",
   "execution_count": null,
   "id": "b64d2e42",
   "metadata": {},
   "outputs": [],
   "source": []
  },
  {
   "cell_type": "code",
   "execution_count": null,
   "id": "d8ae9e7f",
   "metadata": {},
   "outputs": [],
   "source": []
  },
  {
   "cell_type": "code",
   "execution_count": null,
   "id": "a3e98c6f",
   "metadata": {},
   "outputs": [],
   "source": []
  },
  {
   "cell_type": "code",
   "execution_count": null,
   "id": "cac3e56f",
   "metadata": {},
   "outputs": [],
   "source": []
  },
  {
   "cell_type": "code",
   "execution_count": null,
   "id": "fb648900",
   "metadata": {},
   "outputs": [],
   "source": []
  },
  {
   "cell_type": "code",
   "execution_count": null,
   "id": "4459b9b7",
   "metadata": {},
   "outputs": [],
   "source": []
  }
 ],
 "metadata": {
  "kernelspec": {
   "display_name": "Python 3",
   "language": "python",
   "name": "python3"
  },
  "language_info": {
   "codemirror_mode": {
    "name": "ipython",
    "version": 3
   },
   "file_extension": ".py",
   "mimetype": "text/x-python",
   "name": "python",
   "nbconvert_exporter": "python",
   "pygments_lexer": "ipython3",
   "version": "3.8.8"
  }
 },
 "nbformat": 4,
 "nbformat_minor": 5
}
