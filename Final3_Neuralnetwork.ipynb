{
 "cells": [
  {
   "cell_type": "code",
   "execution_count": 90,
   "id": "91ac6483",
   "metadata": {},
   "outputs": [
    {
     "name": "stderr",
     "output_type": "stream",
     "text": [
      "/Users/deth/opt/anaconda3/lib/python3.8/site-packages/ipykernel/ipkernel.py:287: DeprecationWarning: `should_run_async` will not call `transform_cell` automatically in the future. Please pass the result to `transformed_cell` argument and any exception that happen during thetransform in `preprocessing_exc_tuple` in IPython 7.17 and above.\n",
      "  and should_run_async(code)\n"
     ]
    },
    {
     "data": {
      "text/html": [
       "<div>\n",
       "<style scoped>\n",
       "    .dataframe tbody tr th:only-of-type {\n",
       "        vertical-align: middle;\n",
       "    }\n",
       "\n",
       "    .dataframe tbody tr th {\n",
       "        vertical-align: top;\n",
       "    }\n",
       "\n",
       "    .dataframe thead th {\n",
       "        text-align: right;\n",
       "    }\n",
       "</style>\n",
       "<table border=\"1\" class=\"dataframe\">\n",
       "  <thead>\n",
       "    <tr style=\"text-align: right;\">\n",
       "      <th></th>\n",
       "      <th>Unnamed: 0</th>\n",
       "      <th>name</th>\n",
       "      <th>review</th>\n",
       "      <th>index</th>\n",
       "      <th>Category</th>\n",
       "    </tr>\n",
       "  </thead>\n",
       "  <tbody>\n",
       "    <tr>\n",
       "      <th>0</th>\n",
       "      <td>0</td>\n",
       "      <td>Planetwise Flannel Wipes</td>\n",
       "      <td>These flannel wipes are OK, but in my opinion ...</td>\n",
       "      <td>0</td>\n",
       "      <td>Baby_Care</td>\n",
       "    </tr>\n",
       "    <tr>\n",
       "      <th>1</th>\n",
       "      <td>1</td>\n",
       "      <td>Planetwise Wipe Pouch</td>\n",
       "      <td>it came early and was not disappointed. i love...</td>\n",
       "      <td>1</td>\n",
       "      <td>Diapering</td>\n",
       "    </tr>\n",
       "    <tr>\n",
       "      <th>2</th>\n",
       "      <td>2</td>\n",
       "      <td>Annas Dream Full Quilt with 2 Shams</td>\n",
       "      <td>Very soft and comfortable and warmer than it l...</td>\n",
       "      <td>2</td>\n",
       "      <td>Nursery</td>\n",
       "    </tr>\n",
       "    <tr>\n",
       "      <th>3</th>\n",
       "      <td>3</td>\n",
       "      <td>Stop Pacifier Sucking without tears with Thumb...</td>\n",
       "      <td>This is a product well worth the purchase.  I ...</td>\n",
       "      <td>3</td>\n",
       "      <td>Baby_Care</td>\n",
       "    </tr>\n",
       "    <tr>\n",
       "      <th>4</th>\n",
       "      <td>4</td>\n",
       "      <td>Stop Pacifier Sucking without tears with Thumb...</td>\n",
       "      <td>All of my kids have cried non-stop when I trie...</td>\n",
       "      <td>4</td>\n",
       "      <td>Baby_Care</td>\n",
       "    </tr>\n",
       "    <tr>\n",
       "      <th>...</th>\n",
       "      <td>...</td>\n",
       "      <td>...</td>\n",
       "      <td>...</td>\n",
       "      <td>...</td>\n",
       "      <td>...</td>\n",
       "    </tr>\n",
       "    <tr>\n",
       "      <th>293</th>\n",
       "      <td>295</td>\n",
       "      <td>Arm's Reach Original Co-sleeper 100% Cotton Wh...</td>\n",
       "      <td>I would recommend getting cheaper sheets made ...</td>\n",
       "      <td>295</td>\n",
       "      <td>Baby_Care</td>\n",
       "    </tr>\n",
       "    <tr>\n",
       "      <th>294</th>\n",
       "      <td>296</td>\n",
       "      <td>Arm's Reach Original Co-sleeper 100% Cotton Wh...</td>\n",
       "      <td>This is a must for anyone who is buying the Co...</td>\n",
       "      <td>296</td>\n",
       "      <td>Baby_Care</td>\n",
       "    </tr>\n",
       "    <tr>\n",
       "      <th>295</th>\n",
       "      <td>297</td>\n",
       "      <td>Arm's Reach Original Co-sleeper 100% Cotton Wh...</td>\n",
       "      <td>love having her so close!!!!!!  allows for goo...</td>\n",
       "      <td>297</td>\n",
       "      <td>Baby_Care</td>\n",
       "    </tr>\n",
       "    <tr>\n",
       "      <th>296</th>\n",
       "      <td>298</td>\n",
       "      <td>Arm's Reach Original Co-sleeper 100% Cotton Wh...</td>\n",
       "      <td>We love this full sized co-sleeper that can at...</td>\n",
       "      <td>298</td>\n",
       "      <td>Baby_Care</td>\n",
       "    </tr>\n",
       "    <tr>\n",
       "      <th>297</th>\n",
       "      <td>299</td>\n",
       "      <td>Arm's Reach Original Co-sleeper 100% Cotton Wh...</td>\n",
       "      <td>hope these work  glad to have found this produ...</td>\n",
       "      <td>299</td>\n",
       "      <td>Baby_Care</td>\n",
       "    </tr>\n",
       "  </tbody>\n",
       "</table>\n",
       "<p>298 rows × 5 columns</p>\n",
       "</div>"
      ],
      "text/plain": [
       "     Unnamed: 0                                               name  \\\n",
       "0             0                           Planetwise Flannel Wipes   \n",
       "1             1                              Planetwise Wipe Pouch   \n",
       "2             2                Annas Dream Full Quilt with 2 Shams   \n",
       "3             3  Stop Pacifier Sucking without tears with Thumb...   \n",
       "4             4  Stop Pacifier Sucking without tears with Thumb...   \n",
       "..          ...                                                ...   \n",
       "293         295  Arm's Reach Original Co-sleeper 100% Cotton Wh...   \n",
       "294         296  Arm's Reach Original Co-sleeper 100% Cotton Wh...   \n",
       "295         297  Arm's Reach Original Co-sleeper 100% Cotton Wh...   \n",
       "296         298  Arm's Reach Original Co-sleeper 100% Cotton Wh...   \n",
       "297         299  Arm's Reach Original Co-sleeper 100% Cotton Wh...   \n",
       "\n",
       "                                                review  index   Category  \n",
       "0    These flannel wipes are OK, but in my opinion ...      0  Baby_Care  \n",
       "1    it came early and was not disappointed. i love...      1  Diapering  \n",
       "2    Very soft and comfortable and warmer than it l...      2    Nursery  \n",
       "3    This is a product well worth the purchase.  I ...      3  Baby_Care  \n",
       "4    All of my kids have cried non-stop when I trie...      4  Baby_Care  \n",
       "..                                                 ...    ...        ...  \n",
       "293  I would recommend getting cheaper sheets made ...    295  Baby_Care  \n",
       "294  This is a must for anyone who is buying the Co...    296  Baby_Care  \n",
       "295  love having her so close!!!!!!  allows for goo...    297  Baby_Care  \n",
       "296  We love this full sized co-sleeper that can at...    298  Baby_Care  \n",
       "297  hope these work  glad to have found this produ...    299  Baby_Care  \n",
       "\n",
       "[298 rows x 5 columns]"
      ]
     },
     "execution_count": 90,
     "metadata": {},
     "output_type": "execute_result"
    }
   ],
   "source": [
    "import pandas as pd\n",
    "doc=pd.read_csv(\"used3.csv\")\n",
    "doc"
   ]
  },
  {
   "cell_type": "code",
   "execution_count": 91,
   "id": "9e60a658",
   "metadata": {},
   "outputs": [
    {
     "name": "stderr",
     "output_type": "stream",
     "text": [
      "/Users/deth/opt/anaconda3/lib/python3.8/site-packages/ipykernel/ipkernel.py:287: DeprecationWarning: `should_run_async` will not call `transform_cell` automatically in the future. Please pass the result to `transformed_cell` argument and any exception that happen during thetransform in `preprocessing_exc_tuple` in IPython 7.17 and above.\n",
      "  and should_run_async(code)\n"
     ]
    },
    {
     "data": {
      "text/html": [
       "<div>\n",
       "<style scoped>\n",
       "    .dataframe tbody tr th:only-of-type {\n",
       "        vertical-align: middle;\n",
       "    }\n",
       "\n",
       "    .dataframe tbody tr th {\n",
       "        vertical-align: top;\n",
       "    }\n",
       "\n",
       "    .dataframe thead th {\n",
       "        text-align: right;\n",
       "    }\n",
       "</style>\n",
       "<table border=\"1\" class=\"dataframe\">\n",
       "  <thead>\n",
       "    <tr style=\"text-align: right;\">\n",
       "      <th></th>\n",
       "      <th>Unnamed: 0</th>\n",
       "      <th>name</th>\n",
       "      <th>review</th>\n",
       "      <th>index</th>\n",
       "    </tr>\n",
       "    <tr>\n",
       "      <th>Category</th>\n",
       "      <th></th>\n",
       "      <th></th>\n",
       "      <th></th>\n",
       "      <th></th>\n",
       "    </tr>\n",
       "  </thead>\n",
       "  <tbody>\n",
       "    <tr>\n",
       "      <th>Baby_toddler_toys</th>\n",
       "      <td>82</td>\n",
       "      <td>82</td>\n",
       "      <td>82</td>\n",
       "      <td>82</td>\n",
       "    </tr>\n",
       "    <tr>\n",
       "      <th>Baby_Care</th>\n",
       "      <td>73</td>\n",
       "      <td>73</td>\n",
       "      <td>73</td>\n",
       "      <td>73</td>\n",
       "    </tr>\n",
       "    <tr>\n",
       "      <th>Baby_stationary</th>\n",
       "      <td>39</td>\n",
       "      <td>39</td>\n",
       "      <td>39</td>\n",
       "      <td>39</td>\n",
       "    </tr>\n",
       "    <tr>\n",
       "      <th>Gift</th>\n",
       "      <td>38</td>\n",
       "      <td>38</td>\n",
       "      <td>38</td>\n",
       "      <td>38</td>\n",
       "    </tr>\n",
       "    <tr>\n",
       "      <th>Nursery</th>\n",
       "      <td>35</td>\n",
       "      <td>35</td>\n",
       "      <td>35</td>\n",
       "      <td>35</td>\n",
       "    </tr>\n",
       "    <tr>\n",
       "      <th>Diapering</th>\n",
       "      <td>14</td>\n",
       "      <td>14</td>\n",
       "      <td>14</td>\n",
       "      <td>14</td>\n",
       "    </tr>\n",
       "    <tr>\n",
       "      <th>Activity_entertainment</th>\n",
       "      <td>13</td>\n",
       "      <td>13</td>\n",
       "      <td>13</td>\n",
       "      <td>13</td>\n",
       "    </tr>\n",
       "    <tr>\n",
       "      <th>Apparel_accessories</th>\n",
       "      <td>4</td>\n",
       "      <td>4</td>\n",
       "      <td>4</td>\n",
       "      <td>4</td>\n",
       "    </tr>\n",
       "  </tbody>\n",
       "</table>\n",
       "</div>"
      ],
      "text/plain": [
       "                        Unnamed: 0  name  review  index\n",
       "Category                                               \n",
       "Baby_toddler_toys               82    82      82     82\n",
       "Baby_Care                       73    73      73     73\n",
       "Baby_stationary                 39    39      39     39\n",
       "Gift                            38    38      38     38\n",
       "Nursery                         35    35      35     35\n",
       "Diapering                       14    14      14     14\n",
       "Activity_entertainment          13    13      13     13\n",
       "Apparel_accessories              4     4       4      4"
      ]
     },
     "execution_count": 91,
     "metadata": {},
     "output_type": "execute_result"
    }
   ],
   "source": [
    "# doc['Category'].value_counts()\n",
    "doc1=doc.groupby('Category').count()\n",
    "doc1.sort_values(by=['name'],ascending=False)"
   ]
  },
  {
   "cell_type": "code",
   "execution_count": 92,
   "id": "b0ad367b",
   "metadata": {},
   "outputs": [
    {
     "name": "stderr",
     "output_type": "stream",
     "text": [
      "/Users/deth/opt/anaconda3/lib/python3.8/site-packages/ipykernel/ipkernel.py:287: DeprecationWarning: `should_run_async` will not call `transform_cell` automatically in the future. Please pass the result to `transformed_cell` argument and any exception that happen during thetransform in `preprocessing_exc_tuple` in IPython 7.17 and above.\n",
      "  and should_run_async(code)\n",
      "<ipython-input-92-318acfee2307>:2: SettingWithCopyWarning: \n",
      "A value is trying to be set on a copy of a slice from a DataFrame.\n",
      "Try using .loc[row_indexer,col_indexer] = value instead\n",
      "\n",
      "See the caveats in the documentation: https://pandas.pydata.org/pandas-docs/stable/user_guide/indexing.html#returning-a-view-versus-a-copy\n",
      "  data_text['index']=data_text.index\n"
     ]
    }
   ],
   "source": [
    "data_text=doc[[\"review\",\"Category\"]]\n",
    "data_text['index']=data_text.index\n",
    "\n",
    "documents=data_text"
   ]
  },
  {
   "cell_type": "code",
   "execution_count": 93,
   "id": "8d8ee8b9",
   "metadata": {},
   "outputs": [
    {
     "name": "stderr",
     "output_type": "stream",
     "text": [
      "/Users/deth/opt/anaconda3/lib/python3.8/site-packages/ipykernel/ipkernel.py:287: DeprecationWarning: `should_run_async` will not call `transform_cell` automatically in the future. Please pass the result to `transformed_cell` argument and any exception that happen during thetransform in `preprocessing_exc_tuple` in IPython 7.17 and above.\n",
      "  and should_run_async(code)\n"
     ]
    },
    {
     "data": {
      "text/html": [
       "<div>\n",
       "<style scoped>\n",
       "    .dataframe tbody tr th:only-of-type {\n",
       "        vertical-align: middle;\n",
       "    }\n",
       "\n",
       "    .dataframe tbody tr th {\n",
       "        vertical-align: top;\n",
       "    }\n",
       "\n",
       "    .dataframe thead th {\n",
       "        text-align: right;\n",
       "    }\n",
       "</style>\n",
       "<table border=\"1\" class=\"dataframe\">\n",
       "  <thead>\n",
       "    <tr style=\"text-align: right;\">\n",
       "      <th></th>\n",
       "      <th>review</th>\n",
       "      <th>Category</th>\n",
       "      <th>index</th>\n",
       "    </tr>\n",
       "  </thead>\n",
       "  <tbody>\n",
       "    <tr>\n",
       "      <th>0</th>\n",
       "      <td>These flannel wipes are OK, but in my opinion ...</td>\n",
       "      <td>Baby_Care</td>\n",
       "      <td>0</td>\n",
       "    </tr>\n",
       "    <tr>\n",
       "      <th>1</th>\n",
       "      <td>it came early and was not disappointed. i love...</td>\n",
       "      <td>Diapering</td>\n",
       "      <td>1</td>\n",
       "    </tr>\n",
       "    <tr>\n",
       "      <th>2</th>\n",
       "      <td>Very soft and comfortable and warmer than it l...</td>\n",
       "      <td>Nursery</td>\n",
       "      <td>2</td>\n",
       "    </tr>\n",
       "    <tr>\n",
       "      <th>3</th>\n",
       "      <td>This is a product well worth the purchase.  I ...</td>\n",
       "      <td>Baby_Care</td>\n",
       "      <td>3</td>\n",
       "    </tr>\n",
       "    <tr>\n",
       "      <th>4</th>\n",
       "      <td>All of my kids have cried non-stop when I trie...</td>\n",
       "      <td>Baby_Care</td>\n",
       "      <td>4</td>\n",
       "    </tr>\n",
       "    <tr>\n",
       "      <th>...</th>\n",
       "      <td>...</td>\n",
       "      <td>...</td>\n",
       "      <td>...</td>\n",
       "    </tr>\n",
       "    <tr>\n",
       "      <th>293</th>\n",
       "      <td>I would recommend getting cheaper sheets made ...</td>\n",
       "      <td>Baby_Care</td>\n",
       "      <td>293</td>\n",
       "    </tr>\n",
       "    <tr>\n",
       "      <th>294</th>\n",
       "      <td>This is a must for anyone who is buying the Co...</td>\n",
       "      <td>Baby_Care</td>\n",
       "      <td>294</td>\n",
       "    </tr>\n",
       "    <tr>\n",
       "      <th>295</th>\n",
       "      <td>love having her so close!!!!!!  allows for goo...</td>\n",
       "      <td>Baby_Care</td>\n",
       "      <td>295</td>\n",
       "    </tr>\n",
       "    <tr>\n",
       "      <th>296</th>\n",
       "      <td>We love this full sized co-sleeper that can at...</td>\n",
       "      <td>Baby_Care</td>\n",
       "      <td>296</td>\n",
       "    </tr>\n",
       "    <tr>\n",
       "      <th>297</th>\n",
       "      <td>hope these work  glad to have found this produ...</td>\n",
       "      <td>Baby_Care</td>\n",
       "      <td>297</td>\n",
       "    </tr>\n",
       "  </tbody>\n",
       "</table>\n",
       "<p>298 rows × 3 columns</p>\n",
       "</div>"
      ],
      "text/plain": [
       "                                                review   Category  index\n",
       "0    These flannel wipes are OK, but in my opinion ...  Baby_Care      0\n",
       "1    it came early and was not disappointed. i love...  Diapering      1\n",
       "2    Very soft and comfortable and warmer than it l...    Nursery      2\n",
       "3    This is a product well worth the purchase.  I ...  Baby_Care      3\n",
       "4    All of my kids have cried non-stop when I trie...  Baby_Care      4\n",
       "..                                                 ...        ...    ...\n",
       "293  I would recommend getting cheaper sheets made ...  Baby_Care    293\n",
       "294  This is a must for anyone who is buying the Co...  Baby_Care    294\n",
       "295  love having her so close!!!!!!  allows for goo...  Baby_Care    295\n",
       "296  We love this full sized co-sleeper that can at...  Baby_Care    296\n",
       "297  hope these work  glad to have found this produ...  Baby_Care    297\n",
       "\n",
       "[298 rows x 3 columns]"
      ]
     },
     "execution_count": 93,
     "metadata": {},
     "output_type": "execute_result"
    }
   ],
   "source": [
    "documents"
   ]
  },
  {
   "cell_type": "code",
   "execution_count": 94,
   "id": "9b2231ff",
   "metadata": {},
   "outputs": [
    {
     "name": "stderr",
     "output_type": "stream",
     "text": [
      "/Users/deth/opt/anaconda3/lib/python3.8/site-packages/ipykernel/ipkernel.py:287: DeprecationWarning: `should_run_async` will not call `transform_cell` automatically in the future. Please pass the result to `transformed_cell` argument and any exception that happen during thetransform in `preprocessing_exc_tuple` in IPython 7.17 and above.\n",
      "  and should_run_async(code)\n",
      "[nltk_data] Downloading package wordnet to /Users/deth/nltk_data...\n",
      "[nltk_data]   Package wordnet is already up-to-date!\n"
     ]
    },
    {
     "data": {
      "text/plain": [
       "True"
      ]
     },
     "execution_count": 94,
     "metadata": {},
     "output_type": "execute_result"
    }
   ],
   "source": [
    "import gensim\n",
    "from gensim.utils import simple_preprocess\n",
    "from gensim.parsing.preprocessing import STOPWORDS\n",
    "from nltk.stem import WordNetLemmatizer, SnowballStemmer\n",
    "import nltk.stem as stemmer\n",
    "from nltk.stem.porter import *\n",
    "import numpy as np\n",
    "np.random.seed(2018)\n",
    "import nltk\n",
    "nltk.download('wordnet')"
   ]
  },
  {
   "cell_type": "code",
   "execution_count": 95,
   "id": "21ca7bed",
   "metadata": {},
   "outputs": [
    {
     "name": "stderr",
     "output_type": "stream",
     "text": [
      "/Users/deth/opt/anaconda3/lib/python3.8/site-packages/ipykernel/ipkernel.py:287: DeprecationWarning: `should_run_async` will not call `transform_cell` automatically in the future. Please pass the result to `transformed_cell` argument and any exception that happen during thetransform in `preprocessing_exc_tuple` in IPython 7.17 and above.\n",
      "  and should_run_async(code)\n"
     ]
    }
   ],
   "source": [
    "stemmer=PorterStemmer()\n",
    "def lemmatize_stemming(text):\n",
    "      return stemmer.stem(WordNetLemmatizer().lemmatize(text,pos='v'))\n",
    "\n",
    "def preprocess(text):\n",
    "    result=[]\n",
    "    for token in gensim.utils.simple_preprocess(text):\n",
    "        if token not in gensim.parsing.preprocessing.STOPWORDS and len(token) >3:\n",
    "              result.append(lemmatize_stemming(token))\n",
    "  \n",
    "    return result"
   ]
  },
  {
   "cell_type": "code",
   "execution_count": 96,
   "id": "64d6625c",
   "metadata": {},
   "outputs": [
    {
     "name": "stdout",
     "output_type": "stream",
     "text": [
      "original document\n",
      "['All', 'of', 'my', 'kids', 'have', 'cried', 'non-stop', 'when', 'I', 'tried', 'to', 'ween', 'them', 'off', 'their', 'pacifier,', 'until', 'I', 'found', 'Thumbuddy', 'To', \"Love's\", 'Binky', 'Fairy', 'Puppet.', '', 'It', 'is', 'an', 'easy', 'way', 'to', 'work', 'with', 'your', 'kids', 'to', 'allow', 'them', 'to', 'understand', 'where', 'their', 'pacifier', 'is', 'going', 'and', 'help', 'them', 'part', 'from', 'it.This', 'is', 'a', 'must', 'buy', 'book,', 'and', 'a', 'great', 'gift', 'for', 'expecting', 'parents!!', '', 'You', 'will', 'save', 'them', 'soo', 'many', 'headaches.Thanks', 'for', 'this', 'book!', '', 'You', 'all', 'rock!!']\n",
      "\n",
      "\n",
      " tokenized and lemmatized document: \n",
      "['kid', 'cri', 'stop', 'tri', 'ween', 'pacifi', 'thumbuddi', 'love', 'binki', 'fairi', 'puppet', 'easi', 'work', 'kid', 'allow', 'understand', 'pacifi', 'go', 'help', 'book', 'great', 'gift', 'expect', 'parent', 'save', 'headach', 'thank', 'book', 'rock']\n"
     ]
    },
    {
     "name": "stderr",
     "output_type": "stream",
     "text": [
      "/Users/deth/opt/anaconda3/lib/python3.8/site-packages/ipykernel/ipkernel.py:287: DeprecationWarning: `should_run_async` will not call `transform_cell` automatically in the future. Please pass the result to `transformed_cell` argument and any exception that happen during thetransform in `preprocessing_exc_tuple` in IPython 7.17 and above.\n",
      "  and should_run_async(code)\n"
     ]
    }
   ],
   "source": [
    "doc_sample=documents[documents['index']==4].values[0][0]\n",
    "print('original document')\n",
    "words=[]\n",
    "for word in doc_sample.split(' '):\n",
    "      words.append(word)\n",
    "print(words)\n",
    "print('\\n\\n tokenized and lemmatized document: ')\n",
    "print(preprocess(doc_sample))"
   ]
  },
  {
   "cell_type": "code",
   "execution_count": 97,
   "id": "cfbcd17c",
   "metadata": {},
   "outputs": [
    {
     "name": "stderr",
     "output_type": "stream",
     "text": [
      "/Users/deth/opt/anaconda3/lib/python3.8/site-packages/ipykernel/ipkernel.py:287: DeprecationWarning: `should_run_async` will not call `transform_cell` automatically in the future. Please pass the result to `transformed_cell` argument and any exception that happen during thetransform in `preprocessing_exc_tuple` in IPython 7.17 and above.\n",
      "  and should_run_async(code)\n",
      "<ipython-input-97-00cd468fc166>:1: SettingWithCopyWarning: \n",
      "A value is trying to be set on a copy of a slice from a DataFrame\n",
      "\n",
      "See the caveats in the documentation: https://pandas.pydata.org/pandas-docs/stable/user_guide/indexing.html#returning-a-view-versus-a-copy\n",
      "  documents.dropna(subset = [\"review\"], inplace=True) # drop those rows which have NaN value cells\n"
     ]
    }
   ],
   "source": [
    "documents.dropna(subset = [\"review\"], inplace=True) # drop those rows which have NaN value cells\n"
   ]
  },
  {
   "cell_type": "code",
   "execution_count": 98,
   "id": "1b1da492",
   "metadata": {},
   "outputs": [
    {
     "name": "stderr",
     "output_type": "stream",
     "text": [
      "/Users/deth/opt/anaconda3/lib/python3.8/site-packages/ipykernel/ipkernel.py:287: DeprecationWarning: `should_run_async` will not call `transform_cell` automatically in the future. Please pass the result to `transformed_cell` argument and any exception that happen during thetransform in `preprocessing_exc_tuple` in IPython 7.17 and above.\n",
      "  and should_run_async(code)\n"
     ]
    },
    {
     "data": {
      "text/plain": [
       "0      [flannel, wipe, opinion, worth, keep, order, s...\n",
       "1      [come, earli, disappoint, love, planet, wise, ...\n",
       "2      [soft, comfort, warmer, look, size, perfectli,...\n",
       "3      [product, worth, purchas, like, posit, ingeni,...\n",
       "4      [kid, cri, stop, tri, ween, pacifi, thumbuddi,...\n",
       "                             ...                        \n",
       "293    [recommend, get, cheaper, sheet, playpen, star...\n",
       "294    [buy, sleeper, add, comfort, easili, clean, su...\n",
       "295    [love, have, close, allow, good, interact, eas...\n",
       "296    [love, size, sleeper, attach, stand, bassinet,...\n",
       "297    [hope, work, glad, product, easi, task, hope, ...\n",
       "Name: review, Length: 298, dtype: object"
      ]
     },
     "execution_count": 98,
     "metadata": {},
     "output_type": "execute_result"
    }
   ],
   "source": [
    "processed_docs = documents['review'].map(preprocess)\n",
    "processed_docs"
   ]
  },
  {
   "cell_type": "code",
   "execution_count": 99,
   "id": "1d8da2e6",
   "metadata": {},
   "outputs": [
    {
     "name": "stdout",
     "output_type": "stream",
     "text": [
      "0 blue\n",
      "1 boyfor\n",
      "2 cloth\n",
      "3 countwhich\n",
      "4 face\n",
      "5 flannel\n",
      "6 hand\n",
      "7 handl\n",
      "8 higher\n",
      "9 issu\n",
      "10 keep\n"
     ]
    },
    {
     "name": "stderr",
     "output_type": "stream",
     "text": [
      "/Users/deth/opt/anaconda3/lib/python3.8/site-packages/ipykernel/ipkernel.py:287: DeprecationWarning: `should_run_async` will not call `transform_cell` automatically in the future. Please pass the result to `transformed_cell` argument and any exception that happen during thetransform in `preprocessing_exc_tuple` in IPython 7.17 and above.\n",
      "  and should_run_async(code)\n"
     ]
    }
   ],
   "source": [
    "dictionary=gensim.corpora.Dictionary(processed_docs)\n",
    "count=0\n",
    "\n",
    "for k,v in dictionary.iteritems():\n",
    "    print(k,v)\n",
    "    count+=1\n",
    "    if count>10:\n",
    "        break"
   ]
  },
  {
   "cell_type": "code",
   "execution_count": 100,
   "id": "5da770cf",
   "metadata": {},
   "outputs": [
    {
     "name": "stderr",
     "output_type": "stream",
     "text": [
      "/Users/deth/opt/anaconda3/lib/python3.8/site-packages/ipykernel/ipkernel.py:287: DeprecationWarning: `should_run_async` will not call `transform_cell` automatically in the future. Please pass the result to `transformed_cell` argument and any exception that happen during thetransform in `preprocessing_exc_tuple` in IPython 7.17 and above.\n",
      "  and should_run_async(code)\n"
     ]
    }
   ],
   "source": [
    "dictionary.filter_extremes(no_below=15,no_above=0.5)\n"
   ]
  },
  {
   "cell_type": "code",
   "execution_count": 101,
   "id": "2715184f",
   "metadata": {},
   "outputs": [
    {
     "name": "stderr",
     "output_type": "stream",
     "text": [
      "/Users/deth/opt/anaconda3/lib/python3.8/site-packages/ipykernel/ipkernel.py:287: DeprecationWarning: `should_run_async` will not call `transform_cell` automatically in the future. Please pass the result to `transformed_cell` argument and any exception that happen during thetransform in `preprocessing_exc_tuple` in IPython 7.17 and above.\n",
      "  and should_run_async(code)\n"
     ]
    },
    {
     "data": {
      "text/plain": [
       "[(7, 1),\n",
       " (17, 2),\n",
       " (18, 1),\n",
       " (19, 1),\n",
       " (20, 1),\n",
       " (21, 1),\n",
       " (22, 1),\n",
       " (23, 1),\n",
       " (24, 1),\n",
       " (25, 1)]"
      ]
     },
     "execution_count": 101,
     "metadata": {},
     "output_type": "execute_result"
    }
   ],
   "source": [
    "bow_corpus=[dictionary.doc2bow(doc) for doc in processed_docs]\n",
    "bow_corpus[4]\n"
   ]
  },
  {
   "cell_type": "code",
   "execution_count": 102,
   "id": "7771886b",
   "metadata": {},
   "outputs": [
    {
     "name": "stdout",
     "output_type": "stream",
     "text": [
      "Word 7 (\"love\") appears 1 time.\n",
      "Word 17 (\"book\") appears 2 time.\n",
      "Word 18 (\"easi\") appears 1 time.\n",
      "Word 19 (\"gift\") appears 1 time.\n",
      "Word 20 (\"go\") appears 1 time.\n",
      "Word 21 (\"great\") appears 1 time.\n",
      "Word 22 (\"help\") appears 1 time.\n",
      "Word 23 (\"parent\") appears 1 time.\n",
      "Word 24 (\"tri\") appears 1 time.\n",
      "Word 25 (\"work\") appears 1 time.\n"
     ]
    },
    {
     "name": "stderr",
     "output_type": "stream",
     "text": [
      "/Users/deth/opt/anaconda3/lib/python3.8/site-packages/ipykernel/ipkernel.py:287: DeprecationWarning: `should_run_async` will not call `transform_cell` automatically in the future. Please pass the result to `transformed_cell` argument and any exception that happen during thetransform in `preprocessing_exc_tuple` in IPython 7.17 and above.\n",
      "  and should_run_async(code)\n"
     ]
    }
   ],
   "source": [
    "bow_doc_4=bow_corpus[4]\n",
    "for i in range(len(bow_doc_4)):\n",
    "    print(\"Word {} (\\\"{}\\\") appears {} time.\".format(bow_doc_4[i][0], \n",
    "                                               dictionary[bow_doc_4[i][0]], \n",
    "bow_doc_4[i][1]))"
   ]
  },
  {
   "cell_type": "code",
   "execution_count": 103,
   "id": "68de87b1",
   "metadata": {},
   "outputs": [
    {
     "name": "stdout",
     "output_type": "stream",
     "text": [
      "[(0, 0.45847048521946704),\n",
      " (1, 0.5157692749209133),\n",
      " (2, 0.24637037896272043),\n",
      " (3, 0.48908461115407986),\n",
      " (4, 0.4731646106084116)]\n"
     ]
    },
    {
     "name": "stderr",
     "output_type": "stream",
     "text": [
      "/Users/deth/opt/anaconda3/lib/python3.8/site-packages/ipykernel/ipkernel.py:287: DeprecationWarning: `should_run_async` will not call `transform_cell` automatically in the future. Please pass the result to `transformed_cell` argument and any exception that happen during thetransform in `preprocessing_exc_tuple` in IPython 7.17 and above.\n",
      "  and should_run_async(code)\n"
     ]
    }
   ],
   "source": [
    "from gensim import corpora, models\n",
    "tfidf=models.TfidfModel(bow_corpus)\n",
    "corpus_tfidf=tfidf[bow_corpus]\n",
    "\n",
    "from pprint import pprint\n",
    "\n",
    "for doc in corpus_tfidf:\n",
    "  pprint(doc)\n",
    "  break"
   ]
  },
  {
   "cell_type": "code",
   "execution_count": 104,
   "id": "5acdad65",
   "metadata": {},
   "outputs": [
    {
     "name": "stderr",
     "output_type": "stream",
     "text": [
      "/Users/deth/opt/anaconda3/lib/python3.8/site-packages/ipykernel/ipkernel.py:287: DeprecationWarning: `should_run_async` will not call `transform_cell` automatically in the future. Please pass the result to `transformed_cell` argument and any exception that happen during thetransform in `preprocessing_exc_tuple` in IPython 7.17 and above.\n",
      "  and should_run_async(code)\n"
     ]
    }
   ],
   "source": [
    "lda_model=gensim.models.LdaMulticore(bow_corpus,num_topics=8,id2word=dictionary,passes=2,workers=2)"
   ]
  },
  {
   "cell_type": "code",
   "execution_count": 105,
   "id": "86e33290",
   "metadata": {},
   "outputs": [
    {
     "name": "stdout",
     "output_type": "stream",
     "text": [
      "Topic:0\n",
      "words:0.084*\"love\" + 0.071*\"like\" + 0.057*\"teeth\" + 0.048*\"easi\" + 0.047*\"buy\" + 0.043*\"book\" + 0.040*\"go\" + 0.034*\"toy\" + 0.033*\"month\" + 0.028*\"great\"\n",
      "\n",
      "Topic:1\n",
      "words:0.054*\"love\" + 0.046*\"friend\" + 0.045*\"recommend\" + 0.040*\"color\" + 0.039*\"differ\" + 0.039*\"great\" + 0.036*\"littl\" + 0.035*\"sling\" + 0.034*\"look\" + 0.034*\"price\"\n",
      "\n",
      "Topic:2\n",
      "words:0.108*\"love\" + 0.087*\"book\" + 0.078*\"babi\" + 0.058*\"great\" + 0.044*\"time\" + 0.036*\"play\" + 0.032*\"littl\" + 0.030*\"product\" + 0.025*\"month\" + 0.024*\"buy\"\n",
      "\n",
      "Topic:3\n",
      "words:0.123*\"think\" + 0.055*\"book\" + 0.054*\"teeth\" + 0.041*\"cute\" + 0.040*\"teether\" + 0.036*\"come\" + 0.032*\"interact\" + 0.031*\"good\" + 0.029*\"price\" + 0.027*\"thing\"\n",
      "\n",
      "Topic:4\n",
      "words:0.090*\"month\" + 0.073*\"year\" + 0.057*\"love\" + 0.050*\"babi\" + 0.036*\"great\" + 0.025*\"buy\" + 0.022*\"small\" + 0.022*\"play\" + 0.022*\"recommend\" + 0.020*\"want\"\n",
      "\n",
      "Topic:5\n",
      "words:0.111*\"sling\" + 0.078*\"babi\" + 0.040*\"daughter\" + 0.039*\"love\" + 0.033*\"like\" + 0.029*\"great\" + 0.028*\"think\" + 0.028*\"buy\" + 0.026*\"play\" + 0.026*\"time\"\n",
      "\n",
      "Topic:6\n",
      "words:0.103*\"babi\" + 0.077*\"like\" + 0.042*\"vibrat\" + 0.040*\"look\" + 0.034*\"love\" + 0.030*\"month\" + 0.029*\"littl\" + 0.028*\"chew\" + 0.027*\"great\" + 0.027*\"time\"\n",
      "\n",
      "Topic:7\n",
      "words:0.101*\"book\" + 0.095*\"diaper\" + 0.042*\"like\" + 0.040*\"perfect\" + 0.037*\"play\" + 0.030*\"month\" + 0.029*\"work\" + 0.027*\"track\" + 0.027*\"cute\" + 0.027*\"sleep\"\n",
      "\n"
     ]
    },
    {
     "name": "stderr",
     "output_type": "stream",
     "text": [
      "/Users/deth/opt/anaconda3/lib/python3.8/site-packages/ipykernel/ipkernel.py:287: DeprecationWarning: `should_run_async` will not call `transform_cell` automatically in the future. Please pass the result to `transformed_cell` argument and any exception that happen during thetransform in `preprocessing_exc_tuple` in IPython 7.17 and above.\n",
      "  and should_run_async(code)\n"
     ]
    }
   ],
   "source": [
    "\n",
    "\n",
    "for idx, topic in lda_model.print_topics(-1):\n",
    "        print('Topic:{}\\nwords:{}\\n'.format(idx,topic))\n",
    "   \n",
    "        \n",
    "   \n",
    "    \n",
    "  "
   ]
  },
  {
   "cell_type": "code",
   "execution_count": 106,
   "id": "21942757",
   "metadata": {},
   "outputs": [
    {
     "name": "stdout",
     "output_type": "stream",
     "text": [
      "\n",
      "Score:0.5181993842124939\t \n",
      "Topic:0.084*\"love\" + 0.071*\"like\" + 0.057*\"teeth\" + 0.048*\"easi\" + 0.047*\"buy\" + 0.043*\"book\" + 0.040*\"go\" + 0.034*\"toy\" + 0.033*\"month\" + 0.028*\"great\"\n",
      "Category:\n",
      "\n",
      "\n",
      "Score:0.41922393441200256\t \n",
      "Topic:0.108*\"love\" + 0.087*\"book\" + 0.078*\"babi\" + 0.058*\"great\" + 0.044*\"time\" + 0.036*\"play\" + 0.032*\"littl\" + 0.030*\"product\" + 0.025*\"month\" + 0.024*\"buy\"\n",
      "Category:\n",
      "\n",
      "\n",
      "Score:0.010439679957926273\t \n",
      "Topic:0.101*\"book\" + 0.095*\"diaper\" + 0.042*\"like\" + 0.040*\"perfect\" + 0.037*\"play\" + 0.030*\"month\" + 0.029*\"work\" + 0.027*\"track\" + 0.027*\"cute\" + 0.027*\"sleep\"\n",
      "Category:\n",
      "\n",
      "\n",
      "Score:0.010432859882712364\t \n",
      "Topic:0.090*\"month\" + 0.073*\"year\" + 0.057*\"love\" + 0.050*\"babi\" + 0.036*\"great\" + 0.025*\"buy\" + 0.022*\"small\" + 0.022*\"play\" + 0.022*\"recommend\" + 0.020*\"want\"\n",
      "Category:\n",
      "\n",
      "\n",
      "Score:0.010428807698190212\t \n",
      "Topic:0.103*\"babi\" + 0.077*\"like\" + 0.042*\"vibrat\" + 0.040*\"look\" + 0.034*\"love\" + 0.030*\"month\" + 0.029*\"littl\" + 0.028*\"chew\" + 0.027*\"great\" + 0.027*\"time\"\n",
      "Category:\n",
      "\n",
      "\n",
      "Score:0.010428532026708126\t \n",
      "Topic:0.111*\"sling\" + 0.078*\"babi\" + 0.040*\"daughter\" + 0.039*\"love\" + 0.033*\"like\" + 0.029*\"great\" + 0.028*\"think\" + 0.028*\"buy\" + 0.026*\"play\" + 0.026*\"time\"\n",
      "Category:\n",
      "\n",
      "\n",
      "Score:0.010425525717437267\t \n",
      "Topic:0.054*\"love\" + 0.046*\"friend\" + 0.045*\"recommend\" + 0.040*\"color\" + 0.039*\"differ\" + 0.039*\"great\" + 0.036*\"littl\" + 0.035*\"sling\" + 0.034*\"look\" + 0.034*\"price\"\n",
      "Category:\n",
      "\n",
      "\n",
      "Score:0.010421276092529297\t \n",
      "Topic:0.123*\"think\" + 0.055*\"book\" + 0.054*\"teeth\" + 0.041*\"cute\" + 0.040*\"teether\" + 0.036*\"come\" + 0.032*\"interact\" + 0.031*\"good\" + 0.029*\"price\" + 0.027*\"thing\"\n",
      "Category:\n",
      "\n"
     ]
    },
    {
     "name": "stderr",
     "output_type": "stream",
     "text": [
      "/Users/deth/opt/anaconda3/lib/python3.8/site-packages/ipykernel/ipkernel.py:287: DeprecationWarning: `should_run_async` will not call `transform_cell` automatically in the future. Please pass the result to `transformed_cell` argument and any exception that happen during thetransform in `preprocessing_exc_tuple` in IPython 7.17 and above.\n",
      "  and should_run_async(code)\n"
     ]
    }
   ],
   "source": [
    "category=\"\"\n",
    "\n",
    "for index, score in sorted(lda_model[bow_corpus[4]],key=lambda tup:-1*tup[1]):\n",
    "    \n",
    "        print(\"\\nScore:{}\\t \\nTopic:{}\\nCategory:{}\\n\".format(score,lda_model.print_topic(index,10),category))\n",
    "    "
   ]
  },
  {
   "cell_type": "code",
   "execution_count": 107,
   "id": "b9f9d33d",
   "metadata": {},
   "outputs": [
    {
     "name": "stderr",
     "output_type": "stream",
     "text": [
      "/Users/deth/opt/anaconda3/lib/python3.8/site-packages/ipykernel/ipkernel.py:287: DeprecationWarning: `should_run_async` will not call `transform_cell` automatically in the future. Please pass the result to `transformed_cell` argument and any exception that happen during thetransform in `preprocessing_exc_tuple` in IPython 7.17 and above.\n",
      "  and should_run_async(code)\n"
     ]
    },
    {
     "name": "stdout",
     "output_type": "stream",
     "text": [
      "Topic: 0 Word: 0.076*\"book\" + 0.046*\"buy\" + 0.030*\"like\" + 0.030*\"great\" + 0.029*\"enjoy\" + 0.027*\"love\" + 0.026*\"help\" + 0.025*\"read\" + 0.024*\"use\" + 0.024*\"color\"\n",
      "Topic: 1 Word: 0.062*\"keep\" + 0.051*\"littl\" + 0.042*\"start\" + 0.038*\"love\" + 0.037*\"great\" + 0.036*\"take\" + 0.031*\"sleep\" + 0.029*\"year\" + 0.028*\"play\" + 0.027*\"daughter\"\n",
      "Topic: 2 Word: 0.069*\"book\" + 0.064*\"page\" + 0.051*\"babi\" + 0.045*\"gift\" + 0.042*\"time\" + 0.040*\"year\" + 0.034*\"best\" + 0.033*\"read\" + 0.029*\"cute\" + 0.027*\"durabl\"\n",
      "Topic: 3 Word: 0.062*\"play\" + 0.058*\"sling\" + 0.046*\"think\" + 0.032*\"cute\" + 0.030*\"size\" + 0.029*\"turn\" + 0.028*\"love\" + 0.026*\"parent\" + 0.025*\"color\" + 0.024*\"look\"\n",
      "Topic: 4 Word: 0.055*\"make\" + 0.043*\"friend\" + 0.043*\"love\" + 0.043*\"year\" + 0.042*\"teeth\" + 0.036*\"stack\" + 0.033*\"differ\" + 0.031*\"recommend\" + 0.027*\"favorit\" + 0.026*\"babi\"\n",
      "Topic: 5 Word: 0.052*\"babi\" + 0.049*\"track\" + 0.043*\"diaper\" + 0.041*\"look\" + 0.040*\"like\" + 0.038*\"want\" + 0.037*\"perfect\" + 0.036*\"color\" + 0.033*\"month\" + 0.029*\"hold\"\n",
      "Topic: 6 Word: 0.060*\"hard\" + 0.037*\"purchas\" + 0.034*\"book\" + 0.034*\"good\" + 0.032*\"like\" + 0.030*\"year\" + 0.030*\"perfect\" + 0.028*\"diaper\" + 0.028*\"babi\" + 0.026*\"time\"\n",
      "Topic: 7 Word: 0.056*\"easi\" + 0.052*\"vibrat\" + 0.045*\"teeth\" + 0.045*\"teether\" + 0.045*\"month\" + 0.042*\"chew\" + 0.033*\"love\" + 0.033*\"play\" + 0.032*\"great\" + 0.028*\"year\"\n"
     ]
    }
   ],
   "source": [
    "lda_model_tfidf=gensim.models.LdaMulticore(corpus_tfidf,num_topics=8,id2word=dictionary,passes=2,workers=4)\n",
    "for idx, topic in lda_model_tfidf.print_topics(-1):\n",
    "      print('Topic: {} Word: {}'.format(idx,topic))"
   ]
  },
  {
   "cell_type": "code",
   "execution_count": 108,
   "id": "f81ba933",
   "metadata": {},
   "outputs": [
    {
     "name": "stdout",
     "output_type": "stream",
     "text": [
      "\n",
      "Score:0.9270020723342896\t \n",
      "Topic:0.084*\"love\" + 0.071*\"like\" + 0.057*\"teeth\" + 0.048*\"easi\" + 0.047*\"buy\" + 0.043*\"book\" + 0.040*\"go\" + 0.034*\"toy\" + 0.033*\"month\" + 0.028*\"great\"\n",
      "\n",
      "Score:0.010435412637889385\t \n",
      "Topic:0.101*\"book\" + 0.095*\"diaper\" + 0.042*\"like\" + 0.040*\"perfect\" + 0.037*\"play\" + 0.030*\"month\" + 0.029*\"work\" + 0.027*\"track\" + 0.027*\"cute\" + 0.027*\"sleep\"\n",
      "\n",
      "Score:0.010432274080812931\t \n",
      "Topic:0.108*\"love\" + 0.087*\"book\" + 0.078*\"babi\" + 0.058*\"great\" + 0.044*\"time\" + 0.036*\"play\" + 0.032*\"littl\" + 0.030*\"product\" + 0.025*\"month\" + 0.024*\"buy\"\n",
      "\n",
      "Score:0.010428800247609615\t \n",
      "Topic:0.123*\"think\" + 0.055*\"book\" + 0.054*\"teeth\" + 0.041*\"cute\" + 0.040*\"teether\" + 0.036*\"come\" + 0.032*\"interact\" + 0.031*\"good\" + 0.029*\"price\" + 0.027*\"thing\"\n",
      "\n",
      "Score:0.010427416302263737\t \n",
      "Topic:0.054*\"love\" + 0.046*\"friend\" + 0.045*\"recommend\" + 0.040*\"color\" + 0.039*\"differ\" + 0.039*\"great\" + 0.036*\"littl\" + 0.035*\"sling\" + 0.034*\"look\" + 0.034*\"price\"\n",
      "\n",
      "Score:0.010425320826470852\t \n",
      "Topic:0.111*\"sling\" + 0.078*\"babi\" + 0.040*\"daughter\" + 0.039*\"love\" + 0.033*\"like\" + 0.029*\"great\" + 0.028*\"think\" + 0.028*\"buy\" + 0.026*\"play\" + 0.026*\"time\"\n",
      "\n",
      "Score:0.01042481604963541\t \n",
      "Topic:0.103*\"babi\" + 0.077*\"like\" + 0.042*\"vibrat\" + 0.040*\"look\" + 0.034*\"love\" + 0.030*\"month\" + 0.029*\"littl\" + 0.028*\"chew\" + 0.027*\"great\" + 0.027*\"time\"\n",
      "\n",
      "Score:0.010423880070447922\t \n",
      "Topic:0.090*\"month\" + 0.073*\"year\" + 0.057*\"love\" + 0.050*\"babi\" + 0.036*\"great\" + 0.025*\"buy\" + 0.022*\"small\" + 0.022*\"play\" + 0.022*\"recommend\" + 0.020*\"want\"\n"
     ]
    },
    {
     "name": "stderr",
     "output_type": "stream",
     "text": [
      "/Users/deth/opt/anaconda3/lib/python3.8/site-packages/ipykernel/ipkernel.py:287: DeprecationWarning: `should_run_async` will not call `transform_cell` automatically in the future. Please pass the result to `transformed_cell` argument and any exception that happen during thetransform in `preprocessing_exc_tuple` in IPython 7.17 and above.\n",
      "  and should_run_async(code)\n"
     ]
    }
   ],
   "source": [
    "for index, score in sorted(lda_model_tfidf[bow_corpus[4]],key=lambda tup:-1*tup[1]):\n",
    "  print(\"\\nScore:{}\\t \\nTopic:{}\".format(score,lda_model.print_topic(index,10)))"
   ]
  },
  {
   "cell_type": "code",
   "execution_count": 109,
   "id": "c928c9b2",
   "metadata": {},
   "outputs": [
    {
     "name": "stderr",
     "output_type": "stream",
     "text": [
      "/Users/deth/opt/anaconda3/lib/python3.8/site-packages/ipykernel/ipkernel.py:287: DeprecationWarning: `should_run_async` will not call `transform_cell` automatically in the future. Please pass the result to `transformed_cell` argument and any exception that happen during thetransform in `preprocessing_exc_tuple` in IPython 7.17 and above.\n",
      "  and should_run_async(code)\n"
     ]
    },
    {
     "data": {
      "text/html": [
       "\n",
       "<link rel=\"stylesheet\" type=\"text/css\" href=\"https://cdn.jsdelivr.net/gh/bmabey/pyLDAvis@3.3.1/pyLDAvis/js/ldavis.v1.0.0.css\">\n",
       "\n",
       "\n",
       "<div id=\"ldavis_el9701404043135440644092969070\"></div>\n",
       "<script type=\"text/javascript\">\n",
       "\n",
       "var ldavis_el9701404043135440644092969070_data = {\"mdsDat\": {\"x\": [0.03180527551275132, -0.015900005081376865, 0.02813890566139441, -0.03238236084921463, 0.11736447459111855, -0.02524202905697206, 0.04507070715377043, -0.1488549679314712], \"y\": [-0.008316441707951745, 0.0051605315074298415, 0.0041110401067707214, 0.061635277675186305, -0.08196644439770083, -0.05888463742518572, 0.11349629659279062, -0.03523562235133922], \"topics\": [1, 2, 3, 4, 5, 6, 7, 8], \"cluster\": [1, 1, 1, 1, 1, 1, 1, 1], \"Freq\": [19.676045165472765, 19.619840728639097, 19.233446779013537, 16.258524616506957, 8.515094796170606, 8.13475703824782, 5.591934540565759, 2.9703563353834608]}, \"tinfo\": {\"Term\": [\"think\", \"book\", \"sling\", \"diaper\", \"teeth\", \"like\", \"cute\", \"love\", \"teether\", \"price\", \"year\", \"vibrat\", \"buy\", \"recommend\", \"come\", \"friend\", \"page\", \"differ\", \"color\", \"go\", \"easi\", \"good\", \"small\", \"interact\", \"look\", \"month\", \"learn\", \"make\", \"enjoy\", \"perfect\", \"plastic\", \"product\", \"book\", \"time\", \"love\", \"interact\", \"great\", \"read\", \"play\", \"turn\", \"durabl\", \"easi\", \"right\", \"littl\", \"come\", \"toy\", \"take\", \"best\", \"babi\", \"keep\", \"tri\", \"buy\", \"enjoy\", \"know\", \"daughter\", \"thing\", \"favorit\", \"help\", \"work\", \"page\", \"year\", \"month\", \"color\", \"look\", \"recommend\", \"chew\", \"vibrat\", \"hold\", \"look\", \"teether\", \"like\", \"hard\", \"start\", \"good\", \"nice\", \"take\", \"gift\", \"get\", \"babi\", \"know\", \"learn\", \"teeth\", \"plastic\", \"purchas\", \"product\", \"want\", \"turn\", \"perfect\", \"give\", \"thing\", \"sleep\", \"track\", \"best\", \"use\", \"littl\", \"time\", \"month\", \"great\", \"love\", \"daughter\", \"play\", \"come\", \"year\", \"month\", \"small\", \"highli\", \"purchas\", \"give\", \"price\", \"page\", \"work\", \"cute\", \"need\", \"durabl\", \"hand\", \"child\", \"want\", \"read\", \"color\", \"track\", \"recommend\", \"simpl\", \"help\", \"size\", \"keep\", \"buy\", \"nice\", \"gift\", \"think\", \"abl\", \"toy\", \"get\", \"great\", \"love\", \"play\", \"babi\", \"daughter\", \"littl\", \"look\", \"time\", \"sling\", \"stack\", \"size\", \"best\", \"make\", \"daughter\", \"favorit\", \"abl\", \"get\", \"sleep\", \"think\", \"differ\", \"learn\", \"go\", \"buy\", \"friend\", \"come\", \"tri\", \"right\", \"babi\", \"recommend\", \"durabl\", \"time\", \"play\", \"help\", \"thing\", \"read\", \"highli\", \"parent\", \"child\", \"like\", \"great\", \"love\", \"teeth\", \"littl\", \"book\", \"year\", \"month\", \"look\", \"diaper\", \"perfect\", \"right\", \"track\", \"work\", \"sleep\", \"book\", \"interact\", \"page\", \"cute\", \"parent\", \"child\", \"friend\", \"need\", \"size\", \"want\", \"color\", \"play\", \"hand\", \"take\", \"simpl\", \"recommend\", \"actual\", \"start\", \"durabl\", \"know\", \"hard\", \"abl\", \"like\", \"littl\", \"month\", \"easi\", \"great\", \"babi\", \"love\", \"time\", \"teeth\", \"go\", \"actual\", \"easi\", \"keep\", \"toy\", \"simpl\", \"buy\", \"tri\", \"teether\", \"like\", \"hold\", \"nice\", \"cute\", \"favorit\", \"vibrat\", \"hand\", \"enjoy\", \"interact\", \"love\", \"gift\", \"start\", \"daughter\", \"help\", \"book\", \"think\", \"need\", \"good\", \"parent\", \"month\", \"littl\", \"great\", \"babi\", \"play\", \"friend\", \"price\", \"use\", \"enjoy\", \"differ\", \"color\", \"stack\", \"recommend\", \"make\", \"small\", \"learn\", \"know\", \"good\", \"size\", \"highli\", \"look\", \"hand\", \"come\", \"right\", \"page\", \"littl\", \"diaper\", \"easi\", \"sling\", \"work\", \"actual\", \"great\", \"buy\", \"nice\", \"tri\", \"love\", \"like\", \"babi\", \"book\", \"think\", \"interact\", \"price\", \"teether\", \"teeth\", \"cute\", \"turn\", \"learn\", \"good\", \"come\", \"make\", \"child\", \"page\", \"small\", \"thing\", \"get\", \"keep\", \"hard\", \"differ\", \"go\", \"book\", \"vibrat\", \"toy\", \"enjoy\", \"sleep\", \"time\", \"sling\", \"buy\", \"right\", \"need\", \"year\", \"babi\", \"love\"], \"Freq\": [47.0, 108.0, 72.0, 30.0, 40.0, 101.0, 30.0, 163.0, 26.0, 17.0, 67.0, 34.0, 58.0, 40.0, 37.0, 23.0, 29.0, 28.0, 32.0, 30.0, 45.0, 29.0, 26.0, 16.0, 48.0, 104.0, 20.0, 19.0, 22.0, 30.0, 8.82426808638833, 17.003996341118913, 49.09948205894739, 24.61656037365156, 60.93018028477048, 5.597900934999891, 32.527026263437, 6.533285472527828, 20.49500088221733, 5.7777230866753335, 5.570274191791054, 13.062254792532702, 4.11379183737217, 17.94883495724722, 9.416129707908244, 9.035669596326844, 5.99724815964492, 4.247753027129238, 43.99401445861796, 4.812002373284584, 4.80823757715413, 13.290419535996186, 5.070041899904564, 4.5214396588517785, 11.052388179952624, 7.257007026713555, 4.511146445283814, 6.206344810465559, 5.854524717295241, 5.906316443156965, 12.345336807877304, 14.103494496386, 5.724930185990209, 6.161124642522437, 5.050005250850851, 15.526361090834115, 23.6394775280178, 13.311702923001432, 22.598204055579554, 12.170022990586205, 43.48815741236956, 10.645316408591084, 10.339158438437652, 10.65095901284359, 8.208797294789285, 8.165414922042434, 9.676178668799261, 7.204093731466148, 58.28372885761895, 6.199845521479864, 6.018076653178413, 12.14956671406871, 4.36216771879864, 5.953524022472299, 9.951453400542043, 9.337920386800278, 5.253395709236602, 8.128757929224655, 5.978176579337115, 8.889247314224711, 6.995616396476011, 6.079856245015177, 4.1537271058517975, 4.1914650382439795, 16.091864819550423, 15.001498172032417, 16.795819045096785, 15.333233569941067, 19.35582389848552, 7.434227104588273, 7.3370941524706845, 6.4352464094122706, 40.12207069893275, 49.55186136668311, 12.286676954378304, 9.787467921006108, 8.745175054622386, 8.862024196716419, 6.664735873707841, 10.62252473464697, 10.25847877270385, 10.865720540801957, 10.521300116724428, 6.398252419338201, 10.51963285626218, 7.213398790025228, 10.930524620187704, 6.421256705271947, 10.08213795115467, 7.6808179862423, 12.07783535346668, 5.764599332437012, 8.307904885116974, 5.998657605003722, 5.387411223327725, 13.643044253057866, 5.304582011554028, 6.319620672059523, 10.185994598394231, 4.4728031492353, 7.407029339131694, 4.670821956677469, 19.911763596914977, 31.312239674428977, 12.122559281091517, 27.690624932350808, 8.812447625747426, 9.706222658098456, 7.549408857039347, 6.64805298370313, 52.025420163787004, 8.26376442255987, 9.065351811250538, 6.982557727841016, 7.598265905302328, 18.876138473400896, 7.66057675513908, 7.1661741962919665, 7.557153107984446, 8.845511461002546, 13.245660630511935, 7.5313400165922655, 5.246183260295579, 7.829169133211208, 13.125384440312583, 5.223132410519923, 8.070220577723191, 4.364363925073233, 3.3454462873454314, 36.42425169127484, 7.980158633169351, 3.6245107237225707, 12.096712446684318, 12.153783123331651, 5.462411916594865, 6.247406292968715, 3.6602096752785127, 4.003274954297603, 3.8931678474935465, 3.7917708875306384, 15.197705567665501, 13.311477970886754, 18.370228313384285, 6.083932799856386, 7.780582546489601, 9.132267266564504, 6.109668075502681, 6.459191191980608, 5.471830664920895, 23.180033775599473, 9.896338048523637, 4.593800002644007, 6.6938866110909965, 6.9725733408290385, 6.5920130478559, 24.649772190315677, 3.6386106931104916, 6.417704349388253, 6.652039227010283, 3.8934938202464955, 3.685394839046603, 3.8302969845594244, 4.943217918634946, 3.44721264316453, 5.0225093766324935, 4.675071356462914, 9.005354875295419, 4.362255102413299, 3.1045886659166184, 2.5617290540629143, 5.077651387760221, 2.323747898660402, 3.287210832187982, 2.1417734788945317, 2.280625057312985, 2.9646551573069164, 2.2446005614143405, 10.148609015498826, 6.298748492721123, 7.245832205297851, 3.911567883020507, 5.960000976634029, 5.541404189214252, 4.58152765391322, 3.0785091849072317, 13.30287286773755, 9.357859887830747, 5.875253055250535, 11.312397061313568, 4.898714429848307, 8.008376270907448, 4.001196947034044, 10.992264207158112, 3.4010564914070223, 4.342195907026959, 16.533257176733542, 4.60421592124353, 3.514152646925982, 4.595963616950144, 2.9775418837977417, 4.6676359890358325, 4.1784992490937585, 2.859676401018869, 2.0297249314933827, 19.521297801270165, 3.2305446133782842, 3.092079691210654, 5.456952581497897, 2.7720819103542538, 10.024088380793104, 4.332593304761686, 2.6128809529334416, 2.491066153099877, 1.6711167417393678, 7.659550454886774, 4.879144679666847, 6.586583849574728, 5.522405056546852, 2.830820742168636, 7.350459391435547, 5.520718794349686, 5.189057098167817, 4.931765385988298, 6.243837689697404, 6.400715659393473, 3.7195571941640995, 7.208468097722418, 3.385146148840229, 3.7779675562707955, 2.7559234775345933, 2.594653546684665, 3.51503510307914, 2.6228796795445266, 2.6188076883256186, 5.538013916927109, 3.497386817423981, 3.3731900386166562, 1.3709464727028202, 2.47321583573232, 5.769989129393567, 2.519658275641209, 3.7004833975931346, 5.693181991213784, 2.0865882388416397, 1.3890666392527016, 6.2319940175070485, 3.2989040841018964, 1.2598844597252459, 1.092225297445253, 8.615712019653577, 4.92815241705925, 5.269716435134555, 1.975191603100317, 10.494047964926919, 2.7126754746874155, 2.49961241758587, 3.449851617365628, 4.644089453673021, 3.4690784594581787, 2.0770479121912837, 2.03830513122483, 2.626582453200707, 3.053106949122278, 1.5628181242716166, 1.7580752023076427, 2.2328574167230206, 1.8022104324682433, 2.3240993789611215, 1.4854040423121202, 1.2827808735938693, 1.6909273918182446, 1.7245302861632716, 1.6815350821563881, 4.7055310973071895, 1.3899301479593011, 1.3902756344974556, 0.8616447763346186, 0.8971727057858039, 1.9933447044822923, 2.120268675225376, 1.4964319726100122, 0.3659285000839542, 0.6740001566225082, 1.4758366861375987, 2.2428037756010073, 0.9061698900390814], \"Total\": [47.0, 108.0, 72.0, 30.0, 40.0, 101.0, 30.0, 163.0, 26.0, 17.0, 67.0, 34.0, 58.0, 40.0, 37.0, 23.0, 29.0, 28.0, 32.0, 30.0, 45.0, 29.0, 26.0, 16.0, 48.0, 104.0, 20.0, 19.0, 22.0, 30.0, 15.085675700568055, 36.13227663670078, 108.75741798855591, 64.43142025971514, 163.59317953594532, 16.06071128433501, 100.33221086033015, 20.792945995874312, 65.28703408742307, 19.661251508612374, 18.979688016385598, 45.71299233928207, 15.697634487350559, 68.76601234606214, 37.2050354719676, 35.937684287761364, 24.410758332921276, 17.47433522725845, 184.96894939635925, 20.40777932591463, 20.444471027545653, 58.73313912787935, 22.426322463405274, 20.59102479058259, 52.04244019565241, 34.34275718641405, 21.485877743231004, 29.830165449493023, 28.939764333555146, 29.233759093600778, 67.69644888112614, 104.12744414913614, 32.70177887298277, 48.88991621316662, 40.555823817898265, 21.90530973913209, 34.42120090222338, 28.737687312442475, 48.88991621316662, 26.47300695037076, 101.20823419465566, 27.856991647607167, 28.68749860627254, 29.98367781632918, 23.4124914152165, 24.410758332921276, 29.282284487697797, 22.759331923899893, 184.96894939635925, 20.59102479058259, 20.104877252251836, 40.81525005348608, 15.085675700568055, 20.955726701977405, 36.13227663670078, 34.256767149279085, 19.661251508612374, 30.993863573423816, 22.995642113508655, 34.34275718641405, 28.98126658017417, 25.517506455830524, 17.47433522725845, 17.732539898632183, 68.76601234606214, 64.43142025971514, 104.12744414913614, 100.33221086033015, 163.59317953594532, 52.04244019565241, 65.28703408742307, 37.2050354719676, 67.69644888112614, 104.12744414913614, 26.202652603538585, 22.75848661692103, 20.955726701977405, 22.995642113508655, 17.675474765100827, 29.233759093600778, 28.939764333555146, 30.900537558851887, 30.397855153488845, 18.979688016385598, 32.27889705576287, 22.400951193087135, 34.256767149279085, 20.792945995874312, 32.70177887298277, 25.517506455830524, 40.555823817898265, 20.40410105320528, 29.830165449493023, 22.46919561666583, 20.40777932591463, 58.73313912787935, 23.4124914152165, 29.282284487697797, 47.91756912837626, 21.405975782268776, 35.937684287761364, 22.759331923899893, 100.33221086033015, 163.59317953594532, 65.28703408742307, 184.96894939635925, 52.04244019565241, 68.76601234606214, 48.88991621316662, 64.43142025971514, 72.8760724199016, 19.233119887665175, 22.46919561666583, 17.47433522725845, 19.69233436637609, 52.04244019565241, 21.485877743231004, 21.405975782268776, 22.759331923899893, 28.98126658017417, 47.91756912837626, 28.684985968181426, 20.104877252251836, 30.931143863943127, 58.73313912787935, 23.52395728050629, 37.2050354719676, 20.444471027545653, 15.697634487350559, 184.96894939635925, 40.555823817898265, 18.979688016385598, 64.43142025971514, 65.28703408742307, 29.830165449493023, 34.34275718641405, 20.792945995874312, 22.75848661692103, 22.578995132650142, 22.400951193087135, 101.20823419465566, 100.33221086033015, 163.59317953594532, 40.81525005348608, 68.76601234606214, 108.75741798855591, 67.69644888112614, 104.12744414913614, 48.88991621316662, 30.055276444149136, 30.993863573423816, 15.697634487350559, 25.517506455830524, 28.939764333555146, 28.98126658017417, 108.75741798855591, 16.06071128433501, 29.233759093600778, 30.900537558851887, 22.578995132650142, 22.400951193087135, 23.52395728050629, 30.397855153488845, 22.46919561666583, 34.256767149279085, 32.70177887298277, 65.28703408742307, 32.27889705576287, 24.410758332921276, 20.40410105320528, 40.555823817898265, 19.795255662180548, 28.68749860627254, 18.979688016385598, 20.59102479058259, 27.856991647607167, 21.405975782268776, 101.20823419465566, 68.76601234606214, 104.12744414913614, 45.71299233928207, 100.33221086033015, 184.96894939635925, 163.59317953594532, 64.43142025971514, 40.81525005348608, 30.931143863943127, 19.795255662180548, 45.71299233928207, 20.40777932591463, 35.937684287761364, 20.40410105320528, 58.73313912787935, 20.444471027545653, 26.47300695037076, 101.20823419465566, 28.737687312442475, 23.4124914152165, 30.900537558851887, 21.485877743231004, 34.42120090222338, 32.27889705576287, 22.426322463405274, 16.06071128433501, 163.59317953594532, 29.282284487697797, 28.68749860627254, 52.04244019565241, 29.830165449493023, 108.75741798855591, 47.91756912837626, 30.397855153488845, 29.98367781632918, 22.578995132650142, 104.12744414913614, 68.76601234606214, 100.33221086033015, 184.96894939635925, 65.28703408742307, 23.52395728050629, 17.675474765100827, 17.732539898632183, 22.426322463405274, 28.684985968181426, 32.70177887298277, 19.233119887665175, 40.555823817898265, 19.69233436637609, 26.202652603538585, 20.104877252251836, 20.59102479058259, 29.98367781632918, 22.46919561666583, 22.75848661692103, 48.88991621316662, 32.27889705576287, 37.2050354719676, 15.697634487350559, 29.233759093600778, 68.76601234606214, 30.055276444149136, 45.71299233928207, 72.8760724199016, 28.939764333555146, 19.795255662180548, 100.33221086033015, 58.73313912787935, 23.4124914152165, 20.444471027545653, 163.59317953594532, 101.20823419465566, 184.96894939635925, 108.75741798855591, 47.91756912837626, 16.06071128433501, 17.675474765100827, 26.47300695037076, 40.81525005348608, 30.900537558851887, 19.661251508612374, 20.104877252251836, 29.98367781632918, 37.2050354719676, 19.69233436637609, 22.400951193087135, 29.233759093600778, 26.202652603538585, 34.34275718641405, 22.759331923899893, 20.40777932591463, 27.856991647607167, 28.684985968181426, 30.931143863943127, 108.75741798855591, 34.42120090222338, 35.937684287761364, 22.426322463405274, 28.98126658017417, 64.43142025971514, 72.8760724199016, 58.73313912787935, 15.697634487350559, 30.397855153488845, 67.69644888112614, 184.96894939635925, 163.59317953594532], \"Category\": [\"Default\", \"Default\", \"Default\", \"Default\", \"Default\", \"Default\", \"Default\", \"Default\", \"Default\", \"Default\", \"Default\", \"Default\", \"Default\", \"Default\", \"Default\", \"Default\", \"Default\", \"Default\", \"Default\", \"Default\", \"Default\", \"Default\", \"Default\", \"Default\", \"Default\", \"Default\", \"Default\", \"Default\", \"Default\", \"Default\", \"Topic1\", \"Topic1\", \"Topic1\", \"Topic1\", \"Topic1\", \"Topic1\", \"Topic1\", \"Topic1\", \"Topic1\", \"Topic1\", \"Topic1\", \"Topic1\", \"Topic1\", \"Topic1\", \"Topic1\", \"Topic1\", \"Topic1\", \"Topic1\", \"Topic1\", \"Topic1\", \"Topic1\", \"Topic1\", \"Topic1\", \"Topic1\", \"Topic1\", \"Topic1\", \"Topic1\", \"Topic1\", \"Topic1\", \"Topic1\", \"Topic1\", \"Topic1\", \"Topic1\", \"Topic1\", \"Topic1\", \"Topic2\", \"Topic2\", \"Topic2\", \"Topic2\", \"Topic2\", \"Topic2\", \"Topic2\", \"Topic2\", \"Topic2\", \"Topic2\", \"Topic2\", \"Topic2\", \"Topic2\", \"Topic2\", \"Topic2\", \"Topic2\", \"Topic2\", \"Topic2\", \"Topic2\", \"Topic2\", \"Topic2\", \"Topic2\", \"Topic2\", \"Topic2\", \"Topic2\", \"Topic2\", \"Topic2\", \"Topic2\", \"Topic2\", \"Topic2\", \"Topic2\", \"Topic2\", \"Topic2\", \"Topic2\", \"Topic2\", \"Topic2\", \"Topic2\", \"Topic3\", \"Topic3\", \"Topic3\", \"Topic3\", \"Topic3\", \"Topic3\", \"Topic3\", \"Topic3\", \"Topic3\", \"Topic3\", \"Topic3\", \"Topic3\", \"Topic3\", \"Topic3\", \"Topic3\", \"Topic3\", \"Topic3\", \"Topic3\", \"Topic3\", \"Topic3\", \"Topic3\", \"Topic3\", \"Topic3\", \"Topic3\", \"Topic3\", \"Topic3\", \"Topic3\", \"Topic3\", \"Topic3\", \"Topic3\", \"Topic3\", \"Topic3\", \"Topic3\", \"Topic3\", \"Topic3\", \"Topic3\", \"Topic3\", \"Topic3\", \"Topic4\", \"Topic4\", \"Topic4\", \"Topic4\", \"Topic4\", \"Topic4\", \"Topic4\", \"Topic4\", \"Topic4\", \"Topic4\", \"Topic4\", \"Topic4\", \"Topic4\", \"Topic4\", \"Topic4\", \"Topic4\", \"Topic4\", \"Topic4\", \"Topic4\", \"Topic4\", \"Topic4\", \"Topic4\", \"Topic4\", \"Topic4\", \"Topic4\", \"Topic4\", \"Topic4\", \"Topic4\", \"Topic4\", \"Topic4\", \"Topic4\", \"Topic4\", \"Topic4\", \"Topic4\", \"Topic4\", \"Topic4\", \"Topic4\", \"Topic4\", \"Topic4\", \"Topic5\", \"Topic5\", \"Topic5\", \"Topic5\", \"Topic5\", \"Topic5\", \"Topic5\", \"Topic5\", \"Topic5\", \"Topic5\", \"Topic5\", \"Topic5\", \"Topic5\", \"Topic5\", \"Topic5\", \"Topic5\", \"Topic5\", \"Topic5\", \"Topic5\", \"Topic5\", \"Topic5\", \"Topic5\", \"Topic5\", \"Topic5\", \"Topic5\", \"Topic5\", \"Topic5\", \"Topic5\", \"Topic5\", \"Topic5\", \"Topic5\", \"Topic5\", \"Topic5\", \"Topic5\", \"Topic5\", \"Topic5\", \"Topic6\", \"Topic6\", \"Topic6\", \"Topic6\", \"Topic6\", \"Topic6\", \"Topic6\", \"Topic6\", \"Topic6\", \"Topic6\", \"Topic6\", \"Topic6\", \"Topic6\", \"Topic6\", \"Topic6\", \"Topic6\", \"Topic6\", \"Topic6\", \"Topic6\", \"Topic6\", \"Topic6\", \"Topic6\", \"Topic6\", \"Topic6\", \"Topic6\", \"Topic6\", \"Topic6\", \"Topic6\", \"Topic6\", \"Topic6\", \"Topic6\", \"Topic6\", \"Topic6\", \"Topic6\", \"Topic7\", \"Topic7\", \"Topic7\", \"Topic7\", \"Topic7\", \"Topic7\", \"Topic7\", \"Topic7\", \"Topic7\", \"Topic7\", \"Topic7\", \"Topic7\", \"Topic7\", \"Topic7\", \"Topic7\", \"Topic7\", \"Topic7\", \"Topic7\", \"Topic7\", \"Topic7\", \"Topic7\", \"Topic7\", \"Topic7\", \"Topic7\", \"Topic7\", \"Topic7\", \"Topic7\", \"Topic7\", \"Topic7\", \"Topic7\", \"Topic7\", \"Topic7\", \"Topic7\", \"Topic7\", \"Topic8\", \"Topic8\", \"Topic8\", \"Topic8\", \"Topic8\", \"Topic8\", \"Topic8\", \"Topic8\", \"Topic8\", \"Topic8\", \"Topic8\", \"Topic8\", \"Topic8\", \"Topic8\", \"Topic8\", \"Topic8\", \"Topic8\", \"Topic8\", \"Topic8\", \"Topic8\", \"Topic8\", \"Topic8\", \"Topic8\", \"Topic8\", \"Topic8\", \"Topic8\", \"Topic8\", \"Topic8\", \"Topic8\", \"Topic8\", \"Topic8\", \"Topic8\", \"Topic8\"], \"logprob\": [30.0, 29.0, 28.0, 27.0, 26.0, 25.0, 24.0, 23.0, 22.0, 21.0, 20.0, 19.0, 18.0, 17.0, 16.0, 15.0, 14.0, 13.0, 12.0, 11.0, 10.0, 9.0, 8.0, 7.0, 6.0, 5.0, 4.0, 3.0, 2.0, 1.0, -4.1591, -3.5032, -2.4428, -3.1332, -2.2269, -4.6143, -2.8546, -4.4597, -3.3165, -4.5826, -4.6192, -3.7669, -4.9223, -3.4491, -4.0942, -4.1355, -4.5453, -4.8903, -2.5526, -4.7655, -4.7663, -3.7496, -4.7133, -4.8278, -3.934, -4.3547, -4.8301, -4.5111, -4.5694, -4.5606, -3.8234, -3.6902, -4.5918, -4.5184, -4.7173, -3.5912, -3.1709, -3.7451, -3.2159, -3.8348, -2.5613, -3.9687, -3.9978, -3.9681, -4.2286, -4.2339, -4.0641, -4.3591, -2.2685, -4.5093, -4.539, -3.8365, -4.8608, -4.5498, -4.0361, -4.0997, -4.6749, -4.2384, -4.5457, -4.1489, -4.3885, -4.5288, -4.9098, -4.9007, -3.5555, -3.6256, -3.5127, -3.6038, -3.3708, -4.3277, -4.3408, -4.472, -2.622, -2.4109, -3.8054, -4.0328, -4.1454, -4.1321, -4.4171, -3.9509, -3.9858, -3.9283, -3.9605, -4.4579, -3.9607, -4.338, -3.9223, -4.4543, -4.0031, -4.2752, -3.8225, -4.5622, -4.1967, -4.5224, -4.6298, -3.7007, -4.6453, -4.4702, -3.9929, -4.8159, -4.3115, -4.7726, -3.3226, -2.8699, -3.8188, -2.9928, -4.1377, -4.0411, -4.2924, -4.4196, -2.1941, -4.034, -3.9414, -4.2024, -4.1179, -3.208, -4.1098, -4.1765, -4.1234, -3.966, -3.5622, -4.1268, -4.4884, -4.088, -3.5713, -4.4928, -4.0577, -4.6724, -4.9383, -2.5506, -4.0689, -4.8581, -3.6529, -3.6482, -4.448, -4.3137, -4.8483, -4.7588, -4.7866, -4.813, -3.4247, -3.5572, -3.2351, -4.3402, -4.0942, -3.934, -4.336, -4.2804, -4.4462, -2.3558, -3.2069, -3.9744, -3.5979, -3.5571, -3.6132, -2.2943, -4.2075, -3.64, -3.6042, -4.1398, -4.1947, -4.1561, -3.9011, -4.2615, -3.8852, -3.9568, -3.3013, -4.0261, -4.3662, -4.5584, -3.8742, -4.6559, -4.309, -4.7375, -4.6746, -4.4123, -4.6906, -3.1817, -3.6587, -3.5187, -4.1351, -3.714, -3.7868, -3.9771, -4.3746, -2.8654, -3.2172, -3.6826, -3.0275, -3.8644, -3.3729, -4.0668, -3.0562, -4.2293, -3.985, -2.648, -3.9264, -4.1966, -3.9282, -4.3623, -3.9127, -4.0234, -4.4027, -4.7455, -2.4819, -4.2807, -4.3245, -3.7565, -4.4338, -3.1484, -3.9872, -4.4929, -4.5407, -4.9399, -3.4174, -3.8684, -3.5684, -3.7446, -4.4128, -3.0838, -3.3701, -3.432, -3.4829, -3.247, -3.2222, -3.765, -3.1033, -3.8592, -3.7494, -4.0648, -4.1251, -3.8215, -4.1143, -4.1159, -3.3669, -3.8266, -3.8627, -4.7631, -4.1731, -3.3259, -4.1544, -3.7701, -3.3393, -4.343, -4.7499, -3.2489, -3.885, -4.8476, -4.9904, -2.925, -3.4836, -3.4166, -4.3979, -2.0951, -3.448, -3.5298, -3.2076, -2.9103, -3.202, -3.715, -3.7338, -3.4802, -3.3298, -3.9994, -3.8817, -3.6426, -3.8569, -3.6026, -4.0502, -4.1969, -3.9207, -3.901, -3.9262, -2.8972, -4.1167, -4.1164, -4.5948, -4.5544, -3.7561, -3.6944, -4.0428, -5.4512, -4.8405, -4.0567, -3.6382, -4.5445], \"loglift\": [30.0, 29.0, 28.0, 27.0, 26.0, 25.0, 24.0, 23.0, 22.0, 21.0, 20.0, 19.0, 18.0, 17.0, 16.0, 15.0, 14.0, 13.0, 12.0, 11.0, 10.0, 9.0, 8.0, 7.0, 6.0, 5.0, 4.0, 3.0, 2.0, 1.0, 1.0895, 0.872, 0.8305, 0.6636, 0.6381, 0.5718, 0.4994, 0.4681, 0.4672, 0.4011, 0.3998, 0.3731, 0.2866, 0.2826, 0.2517, 0.2452, 0.222, 0.2114, 0.1896, 0.181, 0.1784, 0.1398, 0.1389, 0.1097, 0.0764, 0.0713, 0.0649, 0.0558, 0.0278, 0.0265, -0.076, -0.3734, -0.1168, -0.4455, -0.4575, 1.2844, 1.2529, 0.8591, 0.8569, 0.8515, 0.7839, 0.6667, 0.6081, 0.5936, 0.5806, 0.5335, 0.5213, 0.4783, 0.4738, 0.4283, 0.4224, 0.4169, 0.3879, 0.3702, 0.3392, 0.3288, 0.3089, 0.2902, 0.2814, 0.2771, 0.2073, 0.1942, 0.1919, 0.1863, 0.1762, 0.1712, -0.1959, -0.2498, -0.5058, -0.3173, -0.5572, -0.126, 1.1254, 0.9059, 0.8912, 0.8047, 0.7746, 0.695, 0.6732, 0.6362, 0.6114, 0.6034, 0.5875, 0.5612, 0.5273, 0.5154, 0.5062, 0.4735, 0.4719, 0.4479, 0.4372, 0.3845, 0.3702, 0.3279, 0.3167, 0.1887, 0.1638, 0.1152, 0.1001, 0.0829, 0.0692, 0.0649, 0.0313, -0.0049, -0.0352, -0.2506, -0.1274, -0.3094, -0.2196, -0.6228, 1.4795, 0.9718, 0.9089, 0.8992, 0.8642, 0.8024, 0.7852, 0.7223, 0.7141, 0.6298, 0.5307, 0.4793, 0.4731, 0.4426, 0.3181, 0.3116, 0.2883, 0.2723, 0.2706, 0.1916, 0.1908, 0.1609, 0.1439, 0.1354, 0.1189, 0.1123, 0.0795, 0.0787, 0.0588, 0.0403, -0.0795, -0.2033, -0.3701, -0.0869, -0.3625, -0.6608, -0.5886, -0.9636, -0.3734, 2.2036, 1.3217, 1.2345, 1.1252, 1.0401, 0.9825, 0.979, 0.9786, 0.9471, 0.9275, 0.7056, 0.6586, 0.6483, 0.647, 0.5888, 0.5434, 0.5181, 0.4824, 0.4619, 0.4012, 0.3883, 0.3855, 0.3211, 0.2969, 0.2816, 0.2629, 0.223, 0.2082, 0.1635, 0.073, -0.2019, 0.0049, -0.3601, -1.0446, -1.112, -0.5778, 1.3879, 1.3135, 1.2943, 1.1125, 1.0821, 1.0077, 0.8799, 0.8332, 0.7154, 0.7013, 0.6972, 0.6778, 0.6126, 0.6034, 0.5327, 0.511, 0.4646, 0.4495, 0.4405, 0.3831, 0.3047, 0.2814, 0.2539, 0.1331, 0.1249, 0.1057, 0.0551, 0.0211, -0.0945, -0.1006, -0.1367, -0.2144, -1.0024, -0.6292, 1.7206, 1.7202, 1.655, 1.3693, 1.3591, 1.2528, 1.2408, 1.1564, 1.123, 0.9472, 0.8966, 0.8124, 0.7402, 0.736, 0.7216, 0.7059, 0.6614, 0.4833, 0.4458, 0.414, 0.4058, 0.4049, 0.3699, 0.3344, 0.2542, 0.227, 0.1051, 0.0044, -0.0384, -0.0457, -0.06, -0.1384, -0.6744, -1.1246, 1.9978, 1.738, 1.5604, 1.4787, 1.343, 1.3296, 1.2688, 1.2276, 1.0815, 1.0162, 0.9827, 0.9716, 0.9444, 0.8396, 0.8234, 0.7872, 0.7496, 0.7147, 0.7051, 0.6044, 0.3761, 0.3071, 0.2642, 0.2573, 0.0413, 0.0407, -0.0207, -0.1534, -0.2423, -0.2924, -0.3093, -0.896, -1.6794]}, \"token.table\": {\"Topic\": [1, 2, 3, 4, 5, 7, 1, 2, 3, 5, 6, 7, 1, 2, 3, 4, 5, 6, 7, 8, 1, 2, 3, 4, 6, 1, 2, 3, 4, 5, 6, 7, 8, 1, 2, 3, 4, 6, 7, 8, 1, 2, 3, 4, 6, 1, 3, 4, 5, 7, 8, 1, 2, 3, 4, 5, 7, 1, 2, 3, 4, 6, 7, 8, 1, 2, 3, 4, 5, 6, 8, 1, 2, 3, 4, 6, 1, 3, 4, 5, 6, 7, 1, 2, 3, 4, 5, 6, 7, 8, 1, 2, 3, 4, 5, 1, 2, 3, 4, 5, 6, 7, 1, 2, 3, 4, 6, 7, 8, 1, 2, 3, 4, 6, 7, 1, 2, 3, 4, 5, 6, 7, 1, 2, 3, 4, 8, 1, 2, 3, 4, 5, 6, 7, 1, 2, 3, 4, 6, 7, 1, 2, 3, 4, 5, 6, 8, 1, 2, 3, 4, 5, 6, 7, 8, 1, 2, 3, 4, 5, 6, 7, 1, 2, 3, 4, 5, 6, 7, 8, 1, 2, 3, 4, 5, 6, 8, 1, 2, 3, 4, 5, 6, 7, 8, 1, 2, 3, 4, 7, 1, 2, 3, 4, 5, 6, 7, 1, 3, 4, 5, 6, 8, 1, 2, 3, 4, 6, 8, 1, 2, 3, 4, 5, 6, 7, 2, 3, 4, 6, 7, 8, 1, 2, 3, 4, 5, 6, 7, 8, 1, 2, 3, 4, 5, 6, 7, 1, 2, 3, 4, 5, 6, 7, 1, 2, 3, 4, 5, 6, 7, 8, 1, 2, 3, 4, 7, 8, 1, 2, 3, 4, 5, 6, 7, 8, 1, 2, 3, 4, 5, 6, 8, 1, 2, 3, 4, 6, 7, 1, 3, 5, 6, 7, 8, 1, 2, 3, 4, 5, 6, 1, 2, 3, 4, 5, 6, 7, 1, 2, 3, 1, 2, 3, 4, 5, 6, 7, 1, 3, 5, 7, 8, 1, 2, 3, 4, 5, 6, 1, 2, 3, 4, 1, 2, 3, 4, 1, 2, 3, 4, 5, 7, 1, 3, 4, 5, 7, 1, 2, 3, 4, 5, 6, 7, 1, 3, 4, 5, 7, 1, 2, 3, 4, 5, 7, 8, 1, 2, 3, 4, 6, 7, 8, 1, 2, 3, 4, 5, 7, 8, 1, 3, 4, 7, 1, 2, 3, 4, 5, 6, 1, 2, 3, 4, 5, 6, 7, 1, 2, 3, 4, 6, 7, 8, 1, 2, 3, 4, 6, 7, 8, 1, 2, 3, 4, 5, 7, 8, 1, 2, 3, 4, 5, 6, 8, 1, 2, 3, 4, 5, 6, 8, 1, 2, 3, 4, 5, 6, 7, 8, 1, 2, 3, 5, 6, 1, 2, 3, 4, 5, 6, 7, 1, 2, 3, 4, 5, 8, 1, 2, 3, 4, 5, 6, 7, 1, 2, 3, 4, 6, 7, 8, 1, 2, 3, 4, 5, 6, 7, 1, 2, 3, 5, 6, 7, 1, 2, 3, 4, 5, 6, 7, 8], \"Freq\": [0.1401477807185502, 0.18686370762473356, 0.18686370762473356, 0.32701148834328375, 0.09343185381236678, 0.04671592690618339, 0.10103431014639848, 0.2525857753659962, 0.15155146521959773, 0.10103431014639848, 0.30310293043919545, 0.05051715507319924, 0.23787776350351078, 0.3135661428000824, 0.15137675859314323, 0.194627261048327, 0.03243787684138783, 0.03243787684138783, 0.027031564034489863, 0.010812625613795946, 0.22890713426169976, 0.22890713426169976, 0.05722678356542494, 0.4005874849579746, 0.05722678356542494, 0.4505439804129596, 0.036779100441874255, 0.04597387555234282, 0.08275297599421708, 0.2298693777617141, 0.09194775110468564, 0.018389550220937127, 0.04597387555234282, 0.22134011893515806, 0.051078488985036474, 0.2383662819301702, 0.22134011893515806, 0.18728779294513373, 0.051078488985036474, 0.017026162995012157, 0.09130206437698342, 0.7304165150158674, 0.04565103218849171, 0.09130206437698342, 0.04565103218849171, 0.17856384604035866, 0.31248673057062765, 0.17856384604035866, 0.17856384604035866, 0.044640961510089665, 0.08928192302017933, 0.18347625746307702, 0.09173812873153851, 0.30579376243846174, 0.09173812873153851, 0.15289688121923087, 0.18347625746307702, 0.24190273939615284, 0.16126849293076856, 0.10751232862051237, 0.21502465724102474, 0.08063424646538428, 0.08063424646538428, 0.08063424646538428, 0.09708568966757694, 0.032361896555858985, 0.3559808621144488, 0.06472379311171797, 0.22653327589101288, 0.1618094827792949, 0.09708568966757694, 0.21136595360720484, 0.13450560684094853, 0.17293578022407669, 0.36508664713971745, 0.09607543345782038, 0.033272028020047376, 0.033272028020047376, 0.033272028020047376, 0.7652566444610897, 0.033272028020047376, 0.09981608406014214, 0.13944577154184304, 0.1743072144273038, 0.06972288577092152, 0.2788915430836861, 0.03486144288546076, 0.06972288577092152, 0.20916865731276454, 0.06972288577092152, 0.31612743027282975, 0.05268790504547162, 0.31612743027282975, 0.21075162018188648, 0.10537581009094324, 0.2843830459295671, 0.13125371350595402, 0.08750247567063603, 0.08750247567063603, 0.08750247567063603, 0.24063180809424906, 0.08750247567063603, 0.22295229225205684, 0.1337713753512341, 0.08918091690082273, 0.1337713753512341, 0.1337713753512341, 0.22295229225205684, 0.04459045845041137, 0.23271099555498587, 0.1861687964439887, 0.046542199110997176, 0.3723375928879774, 0.13962659733299151, 0.046542199110997176, 0.21254927223249864, 0.042509854446499726, 0.042509854446499726, 0.21254927223249864, 0.1700394177859989, 0.042509854446499726, 0.29756898112549807, 0.04393802082344456, 0.3075661457641119, 0.21969010411722278, 0.35150416658755645, 0.04393802082344456, 0.1366013639298019, 0.3415034098245048, 0.20490204589470287, 0.06830068196490095, 0.06830068196490095, 0.10245102294735144, 0.034150340982450476, 0.13045950120425936, 0.26091900240851873, 0.39137850361277815, 0.13045950120425936, 0.04348650040141979, 0.04348650040141979, 0.12931949809534385, 0.1616493726191798, 0.06465974904767192, 0.2586389961906877, 0.03232987452383596, 0.29096887071452365, 0.06465974904767192, 0.10005443689653686, 0.36686626862063515, 0.13340591586204914, 0.06670295793102457, 0.033351478965512285, 0.06670295793102457, 0.13340591586204914, 0.10005443689653686, 0.32890733411564543, 0.14950333368892976, 0.19933777825190632, 0.1295695558637391, 0.0598013334755719, 0.06976822238816721, 0.0598013334755719, 0.06195998570040771, 0.09293997855061158, 0.34077992135224244, 0.1548999642510193, 0.12391997140081543, 0.12391997140081543, 0.09293997855061158, 0.030979992850203857, 0.10769289225305458, 0.39487393826120015, 0.17948815375509097, 0.14359052300407277, 0.10769289225305458, 0.03589763075101819, 0.07179526150203638, 0.20113867655742326, 0.13409245103828218, 0.26818490207656437, 0.16761556379785272, 0.033523112759570546, 0.10056933827871163, 0.033523112759570546, 0.033523112759570546, 0.17575861116468014, 0.043939652791170035, 0.43939652791170036, 0.17575861116468014, 0.1318189583735101, 0.1391900453405007, 0.4523676473566273, 0.06959502267025035, 0.06959502267025035, 0.06959502267025035, 0.17398755667562588, 0.034797511335125174, 0.3735824580728355, 0.06226374301213925, 0.06226374301213925, 0.249054972048557, 0.1245274860242785, 0.18679122903641776, 0.2450046092791094, 0.14700276556746564, 0.2450046092791094, 0.04900092185582188, 0.2450046092791094, 0.04900092185582188, 0.24282424264220084, 0.29138909117064105, 0.09712969705688035, 0.048564848528440174, 0.09712969705688035, 0.048564848528440174, 0.14569454558532052, 0.29843504761154277, 0.14921752380577138, 0.24869587300961898, 0.0497391746019238, 0.14921752380577138, 0.0994783492038476, 0.04940309491403049, 0.42486661626066224, 0.05928371389683659, 0.14820928474209147, 0.09880618982806098, 0.16797052270770368, 0.04940309491403049, 0.009880618982806098, 0.26175721676888486, 0.2326730815723421, 0.1454206759827138, 0.11633654078617105, 0.08725240558962828, 0.0727103379913569, 0.08725240558962828, 0.12272469385791523, 0.47044465978867506, 0.16363292514388697, 0.10227057821492935, 0.02045411564298587, 0.02045411564298587, 0.12272469385791523, 0.37287618085934227, 0.11614176125127054, 0.18949445256786246, 0.11002903697488789, 0.030563621381913302, 0.12225448552765321, 0.055014518487443945, 0.006112724276382661, 0.10156236242946004, 0.10156236242946004, 0.15234354364419006, 0.40624944971784016, 0.15234354364419006, 0.10156236242946004, 0.13445062552335918, 0.16326147384979328, 0.48018080544056846, 0.05762169665286822, 0.06722531276167959, 0.07682892887049096, 0.00960361610881137, 0.00960361610881137, 0.03289705786644053, 0.19738234719864317, 0.3618676365308458, 0.13158823146576212, 0.16448528933220266, 0.09869117359932159, 0.03289705786644053, 0.1281367261089611, 0.34169793629056294, 0.21356121018160185, 0.04271224203632037, 0.17084896814528147, 0.04271224203632037, 0.2052421647448477, 0.37627730203222076, 0.2052421647448477, 0.034207027457474615, 0.06841405491494923, 0.06841405491494923, 0.1328668517963352, 0.221444752993892, 0.17715580239511358, 0.17715580239511358, 0.17715580239511358, 0.08857790119755679, 0.06452890247974544, 0.25811560991898175, 0.1613222561993636, 0.09679335371961816, 0.3226445123987272, 0.03226445123987272, 0.03226445123987272, 0.5965924350117843, 0.26515219333857076, 0.06628804833464269, 0.3063395401484904, 0.10721883905197165, 0.18380372408909423, 0.18380372408909423, 0.1378527930668207, 0.04595093102227356, 0.01531697700742452, 0.11315113322720366, 0.39602896629521284, 0.05657556661360183, 0.339453399681611, 0.11315113322720366, 0.4704934640828174, 0.27676086122518667, 0.11070434449007467, 0.055352172245037336, 0.055352172245037336, 0.027676086122518668, 0.19087861074379042, 0.28631791611568563, 0.4294768741735284, 0.09543930537189521, 0.3366526321661646, 0.14427969949978484, 0.28855939899956967, 0.19237293266637978, 0.1232868557288036, 0.07397211343728216, 0.29588845374912864, 0.19725896916608576, 0.1232868557288036, 0.17260159802032504, 0.2548154630064341, 0.06370386575160852, 0.19111159725482554, 0.31851932875804256, 0.06370386575160852, 0.1470292659391005, 0.1470292659391005, 0.294058531878201, 0.049009755313033504, 0.1470292659391005, 0.19603902125213402, 0.049009755313033504, 0.04450537602949529, 0.26703225617697174, 0.4005483842654576, 0.13351612808848587, 0.13351612808848587, 0.10351514457453952, 0.2415353373405922, 0.06901009638302635, 0.3105454337236186, 0.2415353373405922, 0.03450504819151318, 0.03450504819151318, 0.054887699997779336, 0.054887699997779336, 0.054887699997779336, 0.7135400999711313, 0.013721924999444834, 0.082331549996669, 0.027443849998889668, 0.03816407503204287, 0.11449222509612861, 0.45796890038451443, 0.11449222509612861, 0.03816407503204287, 0.15265630012817147, 0.07632815006408573, 0.20797457840240105, 0.15598093380180078, 0.4159491568048021, 0.20797457840240105, 0.06971677898618525, 0.34858389493092623, 0.20915033695855573, 0.1394335579723705, 0.10457516847927786, 0.10457516847927786, 0.2457932653369548, 0.32772435378260645, 0.08193108844565161, 0.1228966326684774, 0.1228966326684774, 0.040965544222825806, 0.040965544222825806, 0.04900129234487386, 0.2940077540692432, 0.04900129234487386, 0.1470038770346216, 0.3185084002416801, 0.02450064617243693, 0.12250323086218465, 0.07554865239711614, 0.45329191438269684, 0.07554865239711614, 0.07554865239711614, 0.15109730479423228, 0.03777432619855807, 0.11332297859567421, 0.20382754832419778, 0.26206399070254, 0.17470932713502668, 0.17470932713502668, 0.058236442378342225, 0.029118221189171112, 0.058236442378342225, 0.041738344335493886, 0.10434586083873472, 0.20869172167746944, 0.2712992381807103, 0.041738344335493886, 0.08347668867098777, 0.20869172167746944, 0.38800945096706035, 0.2328056705802362, 0.1086426462707769, 0.18624453646418895, 0.04656113411604724, 0.015520378038682415, 0.03104075607736483, 0.2504334983838946, 0.08347783279463153, 0.19478160985414025, 0.08347783279463153, 0.055651888529754355, 0.22260755411901742, 0.027825944264877178, 0.027825944264877178, 0.11756634627262048, 0.23513269254524097, 0.31351025672698796, 0.27432147463611445, 0.039188782090873495, 0.24456489939325407, 0.14673893963595244, 0.09782595975730163, 0.19565191951460326, 0.048912979878650814, 0.14673893963595244, 0.048912979878650814, 0.30516877307488655, 0.25430731089573877, 0.15258438653744327, 0.10172292435829551, 0.050861462179147755, 0.10172292435829551, 0.05639350063310084, 0.22557400253240337, 0.16918050189930253, 0.11278700126620168, 0.05639350063310084, 0.05639350063310084, 0.28196750316550423, 0.029051862625031382, 0.6972447030007531, 0.029051862625031382, 0.058103725250062764, 0.1452593131251569, 0.029051862625031382, 0.029051862625031382, 0.05838262528640532, 0.2627218137888239, 0.32110443907522923, 0.08757393792960796, 0.14595656321601327, 0.05838262528640532, 0.02919131264320266, 0.2073271893594208, 0.06910906311980693, 0.3455453155990347, 0.24188172091932425, 0.06910906311980693, 0.06910906311980693, 0.17726188298402185, 0.05908729432800729, 0.5908729432800729, 0.08863094149201092, 0.04431547074600546, 0.014771823582001822, 0.014771823582001822, 0.014771823582001822], \"Term\": [\"abl\", \"abl\", \"abl\", \"abl\", \"abl\", \"abl\", \"actual\", \"actual\", \"actual\", \"actual\", \"actual\", \"actual\", \"babi\", \"babi\", \"babi\", \"babi\", \"babi\", \"babi\", \"babi\", \"babi\", \"best\", \"best\", \"best\", \"best\", \"best\", \"book\", \"book\", \"book\", \"book\", \"book\", \"book\", \"book\", \"book\", \"buy\", \"buy\", \"buy\", \"buy\", \"buy\", \"buy\", \"buy\", \"chew\", \"chew\", \"chew\", \"chew\", \"chew\", \"child\", \"child\", \"child\", \"child\", \"child\", \"child\", \"color\", \"color\", \"color\", \"color\", \"color\", \"color\", \"come\", \"come\", \"come\", \"come\", \"come\", \"come\", \"come\", \"cute\", \"cute\", \"cute\", \"cute\", \"cute\", \"cute\", \"cute\", \"daughter\", \"daughter\", \"daughter\", \"daughter\", \"daughter\", \"diaper\", \"diaper\", \"diaper\", \"diaper\", \"diaper\", \"diaper\", \"differ\", \"differ\", \"differ\", \"differ\", \"differ\", \"differ\", \"differ\", \"differ\", \"durabl\", \"durabl\", \"durabl\", \"durabl\", \"durabl\", \"easi\", \"easi\", \"easi\", \"easi\", \"easi\", \"easi\", \"easi\", \"enjoy\", \"enjoy\", \"enjoy\", \"enjoy\", \"enjoy\", \"enjoy\", \"enjoy\", \"favorit\", \"favorit\", \"favorit\", \"favorit\", \"favorit\", \"favorit\", \"friend\", \"friend\", \"friend\", \"friend\", \"friend\", \"friend\", \"friend\", \"get\", \"get\", \"get\", \"get\", \"get\", \"gift\", \"gift\", \"gift\", \"gift\", \"gift\", \"gift\", \"gift\", \"give\", \"give\", \"give\", \"give\", \"give\", \"give\", \"go\", \"go\", \"go\", \"go\", \"go\", \"go\", \"go\", \"good\", \"good\", \"good\", \"good\", \"good\", \"good\", \"good\", \"good\", \"great\", \"great\", \"great\", \"great\", \"great\", \"great\", \"great\", \"hand\", \"hand\", \"hand\", \"hand\", \"hand\", \"hand\", \"hand\", \"hand\", \"hard\", \"hard\", \"hard\", \"hard\", \"hard\", \"hard\", \"hard\", \"help\", \"help\", \"help\", \"help\", \"help\", \"help\", \"help\", \"help\", \"highli\", \"highli\", \"highli\", \"highli\", \"highli\", \"hold\", \"hold\", \"hold\", \"hold\", \"hold\", \"hold\", \"hold\", \"interact\", \"interact\", \"interact\", \"interact\", \"interact\", \"interact\", \"keep\", \"keep\", \"keep\", \"keep\", \"keep\", \"keep\", \"know\", \"know\", \"know\", \"know\", \"know\", \"know\", \"know\", \"learn\", \"learn\", \"learn\", \"learn\", \"learn\", \"learn\", \"like\", \"like\", \"like\", \"like\", \"like\", \"like\", \"like\", \"like\", \"littl\", \"littl\", \"littl\", \"littl\", \"littl\", \"littl\", \"littl\", \"look\", \"look\", \"look\", \"look\", \"look\", \"look\", \"look\", \"love\", \"love\", \"love\", \"love\", \"love\", \"love\", \"love\", \"love\", \"make\", \"make\", \"make\", \"make\", \"make\", \"make\", \"month\", \"month\", \"month\", \"month\", \"month\", \"month\", \"month\", \"month\", \"need\", \"need\", \"need\", \"need\", \"need\", \"need\", \"need\", \"nice\", \"nice\", \"nice\", \"nice\", \"nice\", \"nice\", \"page\", \"page\", \"page\", \"page\", \"page\", \"page\", \"parent\", \"parent\", \"parent\", \"parent\", \"parent\", \"parent\", \"perfect\", \"perfect\", \"perfect\", \"perfect\", \"perfect\", \"perfect\", \"perfect\", \"plastic\", \"plastic\", \"plastic\", \"play\", \"play\", \"play\", \"play\", \"play\", \"play\", \"play\", \"price\", \"price\", \"price\", \"price\", \"price\", \"product\", \"product\", \"product\", \"product\", \"product\", \"product\", \"purchas\", \"purchas\", \"purchas\", \"purchas\", \"read\", \"read\", \"read\", \"read\", \"recommend\", \"recommend\", \"recommend\", \"recommend\", \"recommend\", \"recommend\", \"right\", \"right\", \"right\", \"right\", \"right\", \"simpl\", \"simpl\", \"simpl\", \"simpl\", \"simpl\", \"simpl\", \"simpl\", \"size\", \"size\", \"size\", \"size\", \"size\", \"sleep\", \"sleep\", \"sleep\", \"sleep\", \"sleep\", \"sleep\", \"sleep\", \"sling\", \"sling\", \"sling\", \"sling\", \"sling\", \"sling\", \"sling\", \"small\", \"small\", \"small\", \"small\", \"small\", \"small\", \"small\", \"stack\", \"stack\", \"stack\", \"stack\", \"start\", \"start\", \"start\", \"start\", \"start\", \"start\", \"take\", \"take\", \"take\", \"take\", \"take\", \"take\", \"take\", \"teeth\", \"teeth\", \"teeth\", \"teeth\", \"teeth\", \"teeth\", \"teeth\", \"teether\", \"teether\", \"teether\", \"teether\", \"teether\", \"teether\", \"teether\", \"thing\", \"thing\", \"thing\", \"thing\", \"thing\", \"thing\", \"thing\", \"think\", \"think\", \"think\", \"think\", \"think\", \"think\", \"think\", \"time\", \"time\", \"time\", \"time\", \"time\", \"time\", \"time\", \"toy\", \"toy\", \"toy\", \"toy\", \"toy\", \"toy\", \"toy\", \"toy\", \"track\", \"track\", \"track\", \"track\", \"track\", \"tri\", \"tri\", \"tri\", \"tri\", \"tri\", \"tri\", \"tri\", \"turn\", \"turn\", \"turn\", \"turn\", \"turn\", \"turn\", \"use\", \"use\", \"use\", \"use\", \"use\", \"use\", \"use\", \"vibrat\", \"vibrat\", \"vibrat\", \"vibrat\", \"vibrat\", \"vibrat\", \"vibrat\", \"want\", \"want\", \"want\", \"want\", \"want\", \"want\", \"want\", \"work\", \"work\", \"work\", \"work\", \"work\", \"work\", \"year\", \"year\", \"year\", \"year\", \"year\", \"year\", \"year\", \"year\"]}, \"R\": 30, \"lambda.step\": 0.01, \"plot.opts\": {\"xlab\": \"PC1\", \"ylab\": \"PC2\"}, \"topic.order\": [3, 7, 5, 6, 8, 1, 2, 4]};\n",
       "\n",
       "function LDAvis_load_lib(url, callback){\n",
       "  var s = document.createElement('script');\n",
       "  s.src = url;\n",
       "  s.async = true;\n",
       "  s.onreadystatechange = s.onload = callback;\n",
       "  s.onerror = function(){console.warn(\"failed to load library \" + url);};\n",
       "  document.getElementsByTagName(\"head\")[0].appendChild(s);\n",
       "}\n",
       "\n",
       "if(typeof(LDAvis) !== \"undefined\"){\n",
       "   // already loaded: just create the visualization\n",
       "   !function(LDAvis){\n",
       "       new LDAvis(\"#\" + \"ldavis_el9701404043135440644092969070\", ldavis_el9701404043135440644092969070_data);\n",
       "   }(LDAvis);\n",
       "}else if(typeof define === \"function\" && define.amd){\n",
       "   // require.js is available: use it to load d3/LDAvis\n",
       "   require.config({paths: {d3: \"https://d3js.org/d3.v5\"}});\n",
       "   require([\"d3\"], function(d3){\n",
       "      window.d3 = d3;\n",
       "      LDAvis_load_lib(\"https://cdn.jsdelivr.net/gh/bmabey/pyLDAvis@3.3.1/pyLDAvis/js/ldavis.v3.0.0.js\", function(){\n",
       "        new LDAvis(\"#\" + \"ldavis_el9701404043135440644092969070\", ldavis_el9701404043135440644092969070_data);\n",
       "      });\n",
       "    });\n",
       "}else{\n",
       "    // require.js not available: dynamically load d3 & LDAvis\n",
       "    LDAvis_load_lib(\"https://d3js.org/d3.v5.js\", function(){\n",
       "         LDAvis_load_lib(\"https://cdn.jsdelivr.net/gh/bmabey/pyLDAvis@3.3.1/pyLDAvis/js/ldavis.v3.0.0.js\", function(){\n",
       "                 new LDAvis(\"#\" + \"ldavis_el9701404043135440644092969070\", ldavis_el9701404043135440644092969070_data);\n",
       "            })\n",
       "         });\n",
       "}\n",
       "</script>"
      ],
      "text/plain": [
       "PreparedData(topic_coordinates=              x         y  topics  cluster       Freq\n",
       "topic                                                \n",
       "2      0.031805 -0.008316       1        1  19.676045\n",
       "6     -0.015900  0.005161       2        1  19.619841\n",
       "4      0.028139  0.004111       3        1  19.233447\n",
       "5     -0.032382  0.061635       4        1  16.258525\n",
       "7      0.117364 -0.081966       5        1   8.515095\n",
       "0     -0.025242 -0.058885       6        1   8.134757\n",
       "1      0.045071  0.113496       7        1   5.591935\n",
       "3     -0.148855 -0.035236       8        1   2.970356, topic_info=      Term        Freq       Total Category  logprob  loglift\n",
       "38   think   47.000000   47.000000  Default  30.0000  30.0000\n",
       "17    book  108.000000  108.000000  Default  29.0000  29.0000\n",
       "74   sling   72.000000   72.000000  Default  28.0000  28.0000\n",
       "31  diaper   30.000000   30.000000  Default  27.0000  27.0000\n",
       "64   teeth   40.000000   40.000000  Default  26.0000  26.0000\n",
       "..     ...         ...         ...      ...      ...      ...\n",
       "33   right    0.365929   15.697634   Topic8  -5.4512  -0.2423\n",
       "3     need    0.674000   30.397855   Topic8  -4.8405  -0.2924\n",
       "53    year    1.475837   67.696449   Topic8  -4.0567  -0.3093\n",
       "30    babi    2.242804  184.968949   Topic8  -3.6382  -0.8960\n",
       "7     love    0.906170  163.593180   Topic8  -4.5445  -1.6794\n",
       "\n",
       "[316 rows x 6 columns], token_table=      Topic      Freq  Term\n",
       "term                       \n",
       "29        1  0.140148   abl\n",
       "29        2  0.186864   abl\n",
       "29        3  0.186864   abl\n",
       "29        4  0.327011   abl\n",
       "29        5  0.093432   abl\n",
       "...     ...       ...   ...\n",
       "53        4  0.088631  year\n",
       "53        5  0.044315  year\n",
       "53        6  0.014772  year\n",
       "53        7  0.014772  year\n",
       "53        8  0.014772  year\n",
       "\n",
       "[484 rows x 3 columns], R=30, lambda_step=0.01, plot_opts={'xlab': 'PC1', 'ylab': 'PC2'}, topic_order=[3, 7, 5, 6, 8, 1, 2, 4])"
      ]
     },
     "execution_count": 109,
     "metadata": {},
     "output_type": "execute_result"
    }
   ],
   "source": [
    "import pyLDAvis\n",
    "import pyLDAvis.gensim_models\n",
    "pyLDAvis.enable_notebook()\n",
    "vis = pyLDAvis.gensim_models.prepare(lda_model, bow_corpus, dictionary)\n",
    "vis"
   ]
  },
  {
   "cell_type": "code",
   "execution_count": 110,
   "id": "8bef6203",
   "metadata": {},
   "outputs": [
    {
     "name": "stdout",
     "output_type": "stream",
     "text": [
      "\n",
      "Score:0.5621566772460938\t \n",
      "Topic:0.111*\"sling\" + 0.078*\"babi\" + 0.040*\"daughter\" + 0.039*\"love\" + 0.033*\"like\"\n",
      "Category:\n",
      "\n",
      "\n",
      "Score:0.06263367831707001\t \n",
      "Topic:0.084*\"love\" + 0.071*\"like\" + 0.057*\"teeth\" + 0.048*\"easi\" + 0.047*\"buy\"\n",
      "Category:\n",
      "\n",
      "\n",
      "Score:0.06258075684309006\t \n",
      "Topic:0.108*\"love\" + 0.087*\"book\" + 0.078*\"babi\" + 0.058*\"great\" + 0.044*\"time\"\n",
      "Category:\n",
      "\n",
      "\n",
      "Score:0.06257611513137817\t \n",
      "Topic:0.103*\"babi\" + 0.077*\"like\" + 0.042*\"vibrat\" + 0.040*\"look\" + 0.034*\"love\"\n",
      "Category:\n",
      "\n",
      "\n",
      "Score:0.06254635751247406\t \n",
      "Topic:0.054*\"love\" + 0.046*\"friend\" + 0.045*\"recommend\" + 0.040*\"color\" + 0.039*\"differ\"\n",
      "Category:\n",
      "\n",
      "\n",
      "Score:0.0625053197145462\t \n",
      "Topic:0.090*\"month\" + 0.073*\"year\" + 0.057*\"love\" + 0.050*\"babi\" + 0.036*\"great\"\n",
      "Category:\n",
      "\n",
      "\n",
      "Score:0.06250058859586716\t \n",
      "Topic:0.123*\"think\" + 0.055*\"book\" + 0.054*\"teeth\" + 0.041*\"cute\" + 0.040*\"teether\"\n",
      "Category:\n",
      "\n",
      "\n",
      "Score:0.06250055879354477\t \n",
      "Topic:0.101*\"book\" + 0.095*\"diaper\" + 0.042*\"like\" + 0.040*\"perfect\" + 0.037*\"play\"\n",
      "Category:\n",
      "\n"
     ]
    },
    {
     "name": "stderr",
     "output_type": "stream",
     "text": [
      "/Users/deth/opt/anaconda3/lib/python3.8/site-packages/ipykernel/ipkernel.py:287: DeprecationWarning: `should_run_async` will not call `transform_cell` automatically in the future. Please pass the result to `transformed_cell` argument and any exception that happen during thetransform in `preprocessing_exc_tuple` in IPython 7.17 and above.\n",
      "  and should_run_async(code)\n"
     ]
    }
   ],
   "source": [
    "unseen_document = 'This wallpaper has always been one of my favorite  '\n",
    "bow_vector = dictionary.doc2bow(preprocess(unseen_document))\n",
    "for index, score in sorted(lda_model[bow_vector], key=lambda tup: -1*tup[1]):\n",
    "    \n",
    "        print(\"\\nScore:{}\\t \\nTopic:{}\\nCategory:{}\\n\".format(score,lda_model.print_topic(index,5),category))\n",
    "  "
   ]
  },
  {
   "cell_type": "code",
   "execution_count": 111,
   "id": "4cc5e063",
   "metadata": {},
   "outputs": [
    {
     "name": "stdout",
     "output_type": "stream",
     "text": [
      "\n",
      "Score:0.5621153116226196\t \n",
      "Topic:0.090*\"month\" + 0.073*\"year\" + 0.057*\"love\" + 0.050*\"babi\" + 0.036*\"great\"\n",
      "Category:\n",
      "\n",
      "\n",
      "Score:0.06267736107110977\t \n",
      "Topic:0.084*\"love\" + 0.071*\"like\" + 0.057*\"teeth\" + 0.048*\"easi\" + 0.047*\"buy\"\n",
      "Category:\n",
      "\n",
      "\n",
      "Score:0.06257849931716919\t \n",
      "Topic:0.123*\"think\" + 0.055*\"book\" + 0.054*\"teeth\" + 0.041*\"cute\" + 0.040*\"teether\"\n",
      "Category:\n",
      "\n",
      "\n",
      "Score:0.06255055963993073\t \n",
      "Topic:0.108*\"love\" + 0.087*\"book\" + 0.078*\"babi\" + 0.058*\"great\" + 0.044*\"time\"\n",
      "Category:\n",
      "\n",
      "\n",
      "Score:0.0625317171216011\t \n",
      "Topic:0.101*\"book\" + 0.095*\"diaper\" + 0.042*\"like\" + 0.040*\"perfect\" + 0.037*\"play\"\n",
      "Category:\n",
      "\n",
      "\n",
      "Score:0.06253081560134888\t \n",
      "Topic:0.111*\"sling\" + 0.078*\"babi\" + 0.040*\"daughter\" + 0.039*\"love\" + 0.033*\"like\"\n",
      "Category:\n",
      "\n",
      "\n",
      "Score:0.06251529604196548\t \n",
      "Topic:0.054*\"love\" + 0.046*\"friend\" + 0.045*\"recommend\" + 0.040*\"color\" + 0.039*\"differ\"\n",
      "Category:\n",
      "\n",
      "\n",
      "Score:0.06250043958425522\t \n",
      "Topic:0.103*\"babi\" + 0.077*\"like\" + 0.042*\"vibrat\" + 0.040*\"look\" + 0.034*\"love\"\n",
      "Category:\n",
      "\n"
     ]
    },
    {
     "name": "stderr",
     "output_type": "stream",
     "text": [
      "/Users/deth/opt/anaconda3/lib/python3.8/site-packages/ipykernel/ipkernel.py:287: DeprecationWarning: `should_run_async` will not call `transform_cell` automatically in the future. Please pass the result to `transformed_cell` argument and any exception that happen during thetransform in `preprocessing_exc_tuple` in IPython 7.17 and above.\n",
      "  and should_run_async(code)\n"
     ]
    }
   ],
   "source": [
    "unseen_document = 'This wallpaper has always been one of my favorite  '\n",
    "bow_vector = dictionary.doc2bow(preprocess(unseen_document))\n",
    "for index, score in sorted(lda_model_tfidf[bow_vector], key=lambda tup: -1*tup[1]):\n",
    "    \n",
    "        print(\"\\nScore:{}\\t \\nTopic:{}\\nCategory:{}\\n\".format(score,lda_model.print_topic(index,5),category))\n",
    "  "
   ]
  },
  {
   "cell_type": "code",
   "execution_count": 112,
   "id": "1231b95a",
   "metadata": {},
   "outputs": [
    {
     "name": "stderr",
     "output_type": "stream",
     "text": [
      "/Users/deth/opt/anaconda3/lib/python3.8/site-packages/ipykernel/ipkernel.py:287: DeprecationWarning: `should_run_async` will not call `transform_cell` automatically in the future. Please pass the result to `transformed_cell` argument and any exception that happen during thetransform in `preprocessing_exc_tuple` in IPython 7.17 and above.\n",
      "  and should_run_async(code)\n"
     ]
    },
    {
     "data": {
      "text/html": [
       "<div>\n",
       "<style scoped>\n",
       "    .dataframe tbody tr th:only-of-type {\n",
       "        vertical-align: middle;\n",
       "    }\n",
       "\n",
       "    .dataframe tbody tr th {\n",
       "        vertical-align: top;\n",
       "    }\n",
       "\n",
       "    .dataframe thead th {\n",
       "        text-align: right;\n",
       "    }\n",
       "</style>\n",
       "<table border=\"1\" class=\"dataframe\">\n",
       "  <thead>\n",
       "    <tr style=\"text-align: right;\">\n",
       "      <th></th>\n",
       "      <th>Document_No</th>\n",
       "      <th>Dominant_Topic</th>\n",
       "      <th>Topic_Perc_Contrib</th>\n",
       "      <th>Keywords</th>\n",
       "      <th>Text</th>\n",
       "      <th>index</th>\n",
       "    </tr>\n",
       "  </thead>\n",
       "  <tbody>\n",
       "    <tr>\n",
       "      <th>0</th>\n",
       "      <td>0</td>\n",
       "      <td>4.0</td>\n",
       "      <td>0.8540</td>\n",
       "      <td>month, year, love, babi, great, buy, small, pl...</td>\n",
       "      <td>[flannel, wipe, opinion, worth, keep, order, s...</td>\n",
       "      <td>0</td>\n",
       "    </tr>\n",
       "    <tr>\n",
       "      <th>1</th>\n",
       "      <td>1</td>\n",
       "      <td>1.0</td>\n",
       "      <td>0.8248</td>\n",
       "      <td>love, friend, recommend, color, differ, great,...</td>\n",
       "      <td>[come, earli, disappoint, love, planet, wise, ...</td>\n",
       "      <td>1</td>\n",
       "    </tr>\n",
       "    <tr>\n",
       "      <th>2</th>\n",
       "      <td>2</td>\n",
       "      <td>1.0</td>\n",
       "      <td>0.8249</td>\n",
       "      <td>love, friend, recommend, color, differ, great,...</td>\n",
       "      <td>[soft, comfort, warmer, look, size, perfectli,...</td>\n",
       "      <td>2</td>\n",
       "    </tr>\n",
       "    <tr>\n",
       "      <th>3</th>\n",
       "      <td>3</td>\n",
       "      <td>2.0</td>\n",
       "      <td>0.5752</td>\n",
       "      <td>love, book, babi, great, time, play, littl, pr...</td>\n",
       "      <td>[product, worth, purchas, like, posit, ingeni,...</td>\n",
       "      <td>3</td>\n",
       "    </tr>\n",
       "    <tr>\n",
       "      <th>4</th>\n",
       "      <td>4</td>\n",
       "      <td>0.0</td>\n",
       "      <td>0.5151</td>\n",
       "      <td>love, like, teeth, easi, buy, book, go, toy, m...</td>\n",
       "      <td>[kid, cri, stop, tri, ween, pacifi, thumbuddi,...</td>\n",
       "      <td>4</td>\n",
       "    </tr>\n",
       "    <tr>\n",
       "      <th>...</th>\n",
       "      <td>...</td>\n",
       "      <td>...</td>\n",
       "      <td>...</td>\n",
       "      <td>...</td>\n",
       "      <td>...</td>\n",
       "      <td>...</td>\n",
       "    </tr>\n",
       "    <tr>\n",
       "      <th>293</th>\n",
       "      <td>293</td>\n",
       "      <td>5.0</td>\n",
       "      <td>0.7809</td>\n",
       "      <td>sling, babi, daughter, love, like, great, thin...</td>\n",
       "      <td>[recommend, get, cheaper, sheet, playpen, star...</td>\n",
       "      <td>293</td>\n",
       "    </tr>\n",
       "    <tr>\n",
       "      <th>294</th>\n",
       "      <td>294</td>\n",
       "      <td>5.0</td>\n",
       "      <td>0.8247</td>\n",
       "      <td>sling, babi, daughter, love, like, great, thin...</td>\n",
       "      <td>[buy, sleeper, add, comfort, easili, clean, su...</td>\n",
       "      <td>294</td>\n",
       "    </tr>\n",
       "    <tr>\n",
       "      <th>295</th>\n",
       "      <td>295</td>\n",
       "      <td>0.0</td>\n",
       "      <td>0.8247</td>\n",
       "      <td>love, like, teeth, easi, buy, book, go, toy, m...</td>\n",
       "      <td>[love, have, close, allow, good, interact, eas...</td>\n",
       "      <td>295</td>\n",
       "    </tr>\n",
       "    <tr>\n",
       "      <th>296</th>\n",
       "      <td>296</td>\n",
       "      <td>7.0</td>\n",
       "      <td>0.8904</td>\n",
       "      <td>book, diaper, like, perfect, play, month, work...</td>\n",
       "      <td>[love, size, sleeper, attach, stand, bassinet,...</td>\n",
       "      <td>296</td>\n",
       "    </tr>\n",
       "    <tr>\n",
       "      <th>297</th>\n",
       "      <td>297</td>\n",
       "      <td>2.0</td>\n",
       "      <td>0.8540</td>\n",
       "      <td>love, book, babi, great, time, play, littl, pr...</td>\n",
       "      <td>[hope, work, glad, product, easi, task, hope, ...</td>\n",
       "      <td>297</td>\n",
       "    </tr>\n",
       "  </tbody>\n",
       "</table>\n",
       "<p>298 rows × 6 columns</p>\n",
       "</div>"
      ],
      "text/plain": [
       "     Document_No  Dominant_Topic  Topic_Perc_Contrib  \\\n",
       "0              0             4.0              0.8540   \n",
       "1              1             1.0              0.8248   \n",
       "2              2             1.0              0.8249   \n",
       "3              3             2.0              0.5752   \n",
       "4              4             0.0              0.5151   \n",
       "..           ...             ...                 ...   \n",
       "293          293             5.0              0.7809   \n",
       "294          294             5.0              0.8247   \n",
       "295          295             0.0              0.8247   \n",
       "296          296             7.0              0.8904   \n",
       "297          297             2.0              0.8540   \n",
       "\n",
       "                                              Keywords  \\\n",
       "0    month, year, love, babi, great, buy, small, pl...   \n",
       "1    love, friend, recommend, color, differ, great,...   \n",
       "2    love, friend, recommend, color, differ, great,...   \n",
       "3    love, book, babi, great, time, play, littl, pr...   \n",
       "4    love, like, teeth, easi, buy, book, go, toy, m...   \n",
       "..                                                 ...   \n",
       "293  sling, babi, daughter, love, like, great, thin...   \n",
       "294  sling, babi, daughter, love, like, great, thin...   \n",
       "295  love, like, teeth, easi, buy, book, go, toy, m...   \n",
       "296  book, diaper, like, perfect, play, month, work...   \n",
       "297  love, book, babi, great, time, play, littl, pr...   \n",
       "\n",
       "                                                  Text  index  \n",
       "0    [flannel, wipe, opinion, worth, keep, order, s...      0  \n",
       "1    [come, earli, disappoint, love, planet, wise, ...      1  \n",
       "2    [soft, comfort, warmer, look, size, perfectli,...      2  \n",
       "3    [product, worth, purchas, like, posit, ingeni,...      3  \n",
       "4    [kid, cri, stop, tri, ween, pacifi, thumbuddi,...      4  \n",
       "..                                                 ...    ...  \n",
       "293  [recommend, get, cheaper, sheet, playpen, star...    293  \n",
       "294  [buy, sleeper, add, comfort, easili, clean, su...    294  \n",
       "295  [love, have, close, allow, good, interact, eas...    295  \n",
       "296  [love, size, sleeper, attach, stand, bassinet,...    296  \n",
       "297  [hope, work, glad, product, easi, task, hope, ...    297  \n",
       "\n",
       "[298 rows x 6 columns]"
      ]
     },
     "execution_count": 112,
     "metadata": {},
     "output_type": "execute_result"
    }
   ],
   "source": [
    "def format_topic_sentences(lda_model=lda_model_tfidf, corpus=bow_corpus, texts=processed_docs):\n",
    "    sent_topics_df=pd.DataFrame()\n",
    "    \n",
    "    for i, row_list in enumerate(lda_model[corpus]):\n",
    "        row=row_list[0] if lda_model.per_word_topics else row_list\n",
    "        row=sorted(row,key=lambda x:(x[1]),reverse=True)\n",
    "        \n",
    "        for j, (topic_num,prop_topic) in enumerate(row):\n",
    "            if j==0:\n",
    "                wp=lda_model.show_topic(topic_num)\n",
    "                topic_keywords=', '.join([word for word, prop in wp])\n",
    "                sent_topics_df=sent_topics_df.append(pd.Series([int(topic_num),round(prop_topic,4),topic_keywords]),ignore_index=True)\n",
    "            else:\n",
    "                break\n",
    "    sent_topics_df.columns=['Dominant_topic','Perc_contribution','Topic_keywords']\n",
    "    contents=pd.Series(texts)\n",
    "    sent_topics_df=pd.concat([sent_topics_df,contents],axis=1)\n",
    "    return sent_topics_df\n",
    "\n",
    "df_topic_sents_keywords = format_topic_sentences(lda_model=lda_model, corpus=bow_corpus, texts=processed_docs)\n",
    "\n",
    "# Format.  \n",
    "df_dominant_topic = df_topic_sents_keywords.reset_index()\n",
    "df_dominant_topic.columns = ['Document_No', 'Dominant_Topic', 'Topic_Perc_Contrib', 'Keywords', 'Text']\n",
    "df_dominant_topic['index']=df_dominant_topic.index\n",
    "df_dominant_topic\n",
    "\n"
   ]
  },
  {
   "cell_type": "code",
   "execution_count": 113,
   "id": "0ccf357b",
   "metadata": {},
   "outputs": [
    {
     "name": "stderr",
     "output_type": "stream",
     "text": [
      "/Users/deth/opt/anaconda3/lib/python3.8/site-packages/ipykernel/ipkernel.py:287: DeprecationWarning: `should_run_async` will not call `transform_cell` automatically in the future. Please pass the result to `transformed_cell` argument and any exception that happen during thetransform in `preprocessing_exc_tuple` in IPython 7.17 and above.\n",
      "  and should_run_async(code)\n"
     ]
    },
    {
     "data": {
      "text/html": [
       "<div>\n",
       "<style scoped>\n",
       "    .dataframe tbody tr th:only-of-type {\n",
       "        vertical-align: middle;\n",
       "    }\n",
       "\n",
       "    .dataframe tbody tr th {\n",
       "        vertical-align: top;\n",
       "    }\n",
       "\n",
       "    .dataframe thead th {\n",
       "        text-align: right;\n",
       "    }\n",
       "</style>\n",
       "<table border=\"1\" class=\"dataframe\">\n",
       "  <thead>\n",
       "    <tr style=\"text-align: right;\">\n",
       "      <th></th>\n",
       "      <th>Document_No</th>\n",
       "      <th>Dominant_Topic</th>\n",
       "      <th>Topic_Perc_Contrib</th>\n",
       "      <th>Keywords</th>\n",
       "      <th>Text</th>\n",
       "      <th>index</th>\n",
       "      <th>Category</th>\n",
       "      <th>review</th>\n",
       "    </tr>\n",
       "  </thead>\n",
       "  <tbody>\n",
       "    <tr>\n",
       "      <th>0</th>\n",
       "      <td>0</td>\n",
       "      <td>4.0</td>\n",
       "      <td>0.8540</td>\n",
       "      <td>month, year, love, babi, great, buy, small, pl...</td>\n",
       "      <td>[flannel, wipe, opinion, worth, keep, order, s...</td>\n",
       "      <td>0</td>\n",
       "      <td>Baby_Care</td>\n",
       "      <td>These flannel wipes are OK, but in my opinion ...</td>\n",
       "    </tr>\n",
       "    <tr>\n",
       "      <th>1</th>\n",
       "      <td>1</td>\n",
       "      <td>1.0</td>\n",
       "      <td>0.8248</td>\n",
       "      <td>love, friend, recommend, color, differ, great,...</td>\n",
       "      <td>[come, earli, disappoint, love, planet, wise, ...</td>\n",
       "      <td>1</td>\n",
       "      <td>Diapering</td>\n",
       "      <td>it came early and was not disappointed. i love...</td>\n",
       "    </tr>\n",
       "    <tr>\n",
       "      <th>2</th>\n",
       "      <td>2</td>\n",
       "      <td>1.0</td>\n",
       "      <td>0.8249</td>\n",
       "      <td>love, friend, recommend, color, differ, great,...</td>\n",
       "      <td>[soft, comfort, warmer, look, size, perfectli,...</td>\n",
       "      <td>2</td>\n",
       "      <td>Nursery</td>\n",
       "      <td>Very soft and comfortable and warmer than it l...</td>\n",
       "    </tr>\n",
       "    <tr>\n",
       "      <th>3</th>\n",
       "      <td>3</td>\n",
       "      <td>2.0</td>\n",
       "      <td>0.5752</td>\n",
       "      <td>love, book, babi, great, time, play, littl, pr...</td>\n",
       "      <td>[product, worth, purchas, like, posit, ingeni,...</td>\n",
       "      <td>3</td>\n",
       "      <td>Baby_Care</td>\n",
       "      <td>This is a product well worth the purchase.  I ...</td>\n",
       "    </tr>\n",
       "    <tr>\n",
       "      <th>4</th>\n",
       "      <td>4</td>\n",
       "      <td>0.0</td>\n",
       "      <td>0.5151</td>\n",
       "      <td>love, like, teeth, easi, buy, book, go, toy, m...</td>\n",
       "      <td>[kid, cri, stop, tri, ween, pacifi, thumbuddi,...</td>\n",
       "      <td>4</td>\n",
       "      <td>Baby_Care</td>\n",
       "      <td>All of my kids have cried non-stop when I trie...</td>\n",
       "    </tr>\n",
       "    <tr>\n",
       "      <th>...</th>\n",
       "      <td>...</td>\n",
       "      <td>...</td>\n",
       "      <td>...</td>\n",
       "      <td>...</td>\n",
       "      <td>...</td>\n",
       "      <td>...</td>\n",
       "      <td>...</td>\n",
       "      <td>...</td>\n",
       "    </tr>\n",
       "    <tr>\n",
       "      <th>293</th>\n",
       "      <td>293</td>\n",
       "      <td>5.0</td>\n",
       "      <td>0.7809</td>\n",
       "      <td>sling, babi, daughter, love, like, great, thin...</td>\n",
       "      <td>[recommend, get, cheaper, sheet, playpen, star...</td>\n",
       "      <td>293</td>\n",
       "      <td>Baby_Care</td>\n",
       "      <td>I would recommend getting cheaper sheets made ...</td>\n",
       "    </tr>\n",
       "    <tr>\n",
       "      <th>294</th>\n",
       "      <td>294</td>\n",
       "      <td>5.0</td>\n",
       "      <td>0.8247</td>\n",
       "      <td>sling, babi, daughter, love, like, great, thin...</td>\n",
       "      <td>[buy, sleeper, add, comfort, easili, clean, su...</td>\n",
       "      <td>294</td>\n",
       "      <td>Baby_Care</td>\n",
       "      <td>This is a must for anyone who is buying the Co...</td>\n",
       "    </tr>\n",
       "    <tr>\n",
       "      <th>295</th>\n",
       "      <td>295</td>\n",
       "      <td>0.0</td>\n",
       "      <td>0.8247</td>\n",
       "      <td>love, like, teeth, easi, buy, book, go, toy, m...</td>\n",
       "      <td>[love, have, close, allow, good, interact, eas...</td>\n",
       "      <td>295</td>\n",
       "      <td>Baby_Care</td>\n",
       "      <td>love having her so close!!!!!!  allows for goo...</td>\n",
       "    </tr>\n",
       "    <tr>\n",
       "      <th>296</th>\n",
       "      <td>296</td>\n",
       "      <td>7.0</td>\n",
       "      <td>0.8904</td>\n",
       "      <td>book, diaper, like, perfect, play, month, work...</td>\n",
       "      <td>[love, size, sleeper, attach, stand, bassinet,...</td>\n",
       "      <td>296</td>\n",
       "      <td>Baby_Care</td>\n",
       "      <td>We love this full sized co-sleeper that can at...</td>\n",
       "    </tr>\n",
       "    <tr>\n",
       "      <th>297</th>\n",
       "      <td>297</td>\n",
       "      <td>2.0</td>\n",
       "      <td>0.8540</td>\n",
       "      <td>love, book, babi, great, time, play, littl, pr...</td>\n",
       "      <td>[hope, work, glad, product, easi, task, hope, ...</td>\n",
       "      <td>297</td>\n",
       "      <td>Baby_Care</td>\n",
       "      <td>hope these work  glad to have found this produ...</td>\n",
       "    </tr>\n",
       "  </tbody>\n",
       "</table>\n",
       "<p>298 rows × 8 columns</p>\n",
       "</div>"
      ],
      "text/plain": [
       "     Document_No  Dominant_Topic  Topic_Perc_Contrib  \\\n",
       "0              0             4.0              0.8540   \n",
       "1              1             1.0              0.8248   \n",
       "2              2             1.0              0.8249   \n",
       "3              3             2.0              0.5752   \n",
       "4              4             0.0              0.5151   \n",
       "..           ...             ...                 ...   \n",
       "293          293             5.0              0.7809   \n",
       "294          294             5.0              0.8247   \n",
       "295          295             0.0              0.8247   \n",
       "296          296             7.0              0.8904   \n",
       "297          297             2.0              0.8540   \n",
       "\n",
       "                                              Keywords  \\\n",
       "0    month, year, love, babi, great, buy, small, pl...   \n",
       "1    love, friend, recommend, color, differ, great,...   \n",
       "2    love, friend, recommend, color, differ, great,...   \n",
       "3    love, book, babi, great, time, play, littl, pr...   \n",
       "4    love, like, teeth, easi, buy, book, go, toy, m...   \n",
       "..                                                 ...   \n",
       "293  sling, babi, daughter, love, like, great, thin...   \n",
       "294  sling, babi, daughter, love, like, great, thin...   \n",
       "295  love, like, teeth, easi, buy, book, go, toy, m...   \n",
       "296  book, diaper, like, perfect, play, month, work...   \n",
       "297  love, book, babi, great, time, play, littl, pr...   \n",
       "\n",
       "                                                  Text  index   Category  \\\n",
       "0    [flannel, wipe, opinion, worth, keep, order, s...      0  Baby_Care   \n",
       "1    [come, earli, disappoint, love, planet, wise, ...      1  Diapering   \n",
       "2    [soft, comfort, warmer, look, size, perfectli,...      2    Nursery   \n",
       "3    [product, worth, purchas, like, posit, ingeni,...      3  Baby_Care   \n",
       "4    [kid, cri, stop, tri, ween, pacifi, thumbuddi,...      4  Baby_Care   \n",
       "..                                                 ...    ...        ...   \n",
       "293  [recommend, get, cheaper, sheet, playpen, star...    293  Baby_Care   \n",
       "294  [buy, sleeper, add, comfort, easili, clean, su...    294  Baby_Care   \n",
       "295  [love, have, close, allow, good, interact, eas...    295  Baby_Care   \n",
       "296  [love, size, sleeper, attach, stand, bassinet,...    296  Baby_Care   \n",
       "297  [hope, work, glad, product, easi, task, hope, ...    297  Baby_Care   \n",
       "\n",
       "                                                review  \n",
       "0    These flannel wipes are OK, but in my opinion ...  \n",
       "1    it came early and was not disappointed. i love...  \n",
       "2    Very soft and comfortable and warmer than it l...  \n",
       "3    This is a product well worth the purchase.  I ...  \n",
       "4    All of my kids have cried non-stop when I trie...  \n",
       "..                                                 ...  \n",
       "293  I would recommend getting cheaper sheets made ...  \n",
       "294  This is a must for anyone who is buying the Co...  \n",
       "295  love having her so close!!!!!!  allows for goo...  \n",
       "296  We love this full sized co-sleeper that can at...  \n",
       "297  hope these work  glad to have found this produ...  \n",
       "\n",
       "[298 rows x 8 columns]"
      ]
     },
     "execution_count": 113,
     "metadata": {},
     "output_type": "execute_result"
    }
   ],
   "source": [
    "new_df_1 = pd.merge(df_dominant_topic, documents[['Category','index','review']], on='index')\n",
    "\n",
    "new_df_1"
   ]
  },
  {
   "cell_type": "code",
   "execution_count": 114,
   "id": "d0b0c9a0",
   "metadata": {},
   "outputs": [
    {
     "name": "stderr",
     "output_type": "stream",
     "text": [
      "/Users/deth/opt/anaconda3/lib/python3.8/site-packages/ipykernel/ipkernel.py:287: DeprecationWarning: `should_run_async` will not call `transform_cell` automatically in the future. Please pass the result to `transformed_cell` argument and any exception that happen during thetransform in `preprocessing_exc_tuple` in IPython 7.17 and above.\n",
      "  and should_run_async(code)\n"
     ]
    }
   ],
   "source": [
    "from sklearn.feature_extraction.text import CountVectorizer\n",
    "from sklearn.model_selection import train_test_split\n",
    "\n",
    "\n",
    "from sklearn.metrics import accuracy_score\n",
    "from sklearn.metrics import classification_report\n",
    "from sklearn.metrics import f1_score\n",
    "count_vec=CountVectorizer(min_df=0, lowercase=False)\n",
    "bow=count_vec.fit_transform(new_df_1['Keywords'].astype(str))\n",
    "bow=np.array(bow.todense())\n",
    "bow1=count_vec.fit_transform(new_df_1['Text'].astype(str))\n",
    "bow1=np.array(bow1.todense())\n",
    "bow2=np.concatenate((bow,bow1),axis=1)\n"
   ]
  },
  {
   "cell_type": "code",
   "execution_count": 115,
   "id": "6301ec29",
   "metadata": {},
   "outputs": [
    {
     "name": "stderr",
     "output_type": "stream",
     "text": [
      "/Users/deth/opt/anaconda3/lib/python3.8/site-packages/ipykernel/ipkernel.py:287: DeprecationWarning: `should_run_async` will not call `transform_cell` automatically in the future. Please pass the result to `transformed_cell` argument and any exception that happen during thetransform in `preprocessing_exc_tuple` in IPython 7.17 and above.\n",
      "  and should_run_async(code)\n"
     ]
    }
   ],
   "source": [
    "x=bow\n",
    "y=new_df_1['Category']"
   ]
  },
  {
   "cell_type": "code",
   "execution_count": 116,
   "id": "285427fb",
   "metadata": {},
   "outputs": [
    {
     "name": "stderr",
     "output_type": "stream",
     "text": [
      "/Users/deth/opt/anaconda3/lib/python3.8/site-packages/ipykernel/ipkernel.py:287: DeprecationWarning: `should_run_async` will not call `transform_cell` automatically in the future. Please pass the result to `transformed_cell` argument and any exception that happen during thetransform in `preprocessing_exc_tuple` in IPython 7.17 and above.\n",
      "  and should_run_async(code)\n"
     ]
    },
    {
     "data": {
      "text/plain": [
       "array([[1, 0, 1, ..., 1, 0, 1],\n",
       "       [0, 0, 0, ..., 0, 0, 0],\n",
       "       [0, 0, 0, ..., 0, 0, 0],\n",
       "       ...,\n",
       "       [0, 1, 1, ..., 0, 0, 0],\n",
       "       [0, 1, 0, ..., 0, 1, 0],\n",
       "       [1, 1, 1, ..., 0, 0, 0]])"
      ]
     },
     "execution_count": 116,
     "metadata": {},
     "output_type": "execute_result"
    }
   ],
   "source": [
    "x"
   ]
  },
  {
   "cell_type": "code",
   "execution_count": 117,
   "id": "a1d335db",
   "metadata": {},
   "outputs": [
    {
     "name": "stderr",
     "output_type": "stream",
     "text": [
      "/Users/deth/opt/anaconda3/lib/python3.8/site-packages/ipykernel/ipkernel.py:287: DeprecationWarning: `should_run_async` will not call `transform_cell` automatically in the future. Please pass the result to `transformed_cell` argument and any exception that happen during thetransform in `preprocessing_exc_tuple` in IPython 7.17 and above.\n",
      "  and should_run_async(code)\n"
     ]
    },
    {
     "data": {
      "text/plain": [
       "0      Baby_Care\n",
       "1      Diapering\n",
       "2        Nursery\n",
       "3      Baby_Care\n",
       "4      Baby_Care\n",
       "         ...    \n",
       "293    Baby_Care\n",
       "294    Baby_Care\n",
       "295    Baby_Care\n",
       "296    Baby_Care\n",
       "297    Baby_Care\n",
       "Name: Category, Length: 298, dtype: object"
      ]
     },
     "execution_count": 117,
     "metadata": {},
     "output_type": "execute_result"
    }
   ],
   "source": [
    "# y1 = y.astype(int)\n",
    "# y1 = pd.to_numeric(y, errors='coerce').astype('Int64')\n",
    "\n",
    "y\n"
   ]
  },
  {
   "cell_type": "code",
   "execution_count": 118,
   "id": "edd8201b",
   "metadata": {},
   "outputs": [
    {
     "name": "stderr",
     "output_type": "stream",
     "text": [
      "/Users/deth/opt/anaconda3/lib/python3.8/site-packages/ipykernel/ipkernel.py:287: DeprecationWarning: `should_run_async` will not call `transform_cell` automatically in the future. Please pass the result to `transformed_cell` argument and any exception that happen during thetransform in `preprocessing_exc_tuple` in IPython 7.17 and above.\n",
      "  and should_run_async(code)\n"
     ]
    },
    {
     "data": {
      "text/plain": [
       "array([0, 1, 2, 0, 0, 0, 2, 3, 3, 3, 3, 3, 3, 3, 4, 4, 4, 4, 4, 4, 4, 4,\n",
       "       4, 4, 4, 4, 3, 5, 5, 5, 5, 5, 5, 5, 5, 5, 5, 5, 4, 4, 4, 4, 4, 4,\n",
       "       4, 4, 4, 4, 4, 4, 3, 6, 6, 4, 4, 4, 4, 3, 3, 3, 3, 3, 3, 4, 4, 2,\n",
       "       2, 2, 2, 2, 2, 2, 3, 1, 2, 1, 1, 1, 1, 1, 1, 1, 1, 1, 1, 1, 1, 2,\n",
       "       2, 2, 2, 7, 2, 7, 6, 7, 7, 2, 3, 3, 3, 3, 3, 3, 3, 3, 3, 3, 3, 3,\n",
       "       3, 3, 3, 6, 6, 6, 2, 2, 2, 2, 2, 2, 2, 2, 6, 6, 6, 6, 6, 6, 6, 6,\n",
       "       6, 3, 6, 6, 6, 6, 6, 6, 6, 6, 6, 6, 6, 6, 6, 6, 6, 6, 6, 6, 6, 6,\n",
       "       6, 6, 6, 6, 6, 6, 6, 6, 6, 6, 6, 6, 6, 6, 6, 6, 6, 6, 6, 6, 6, 6,\n",
       "       2, 2, 2, 2, 2, 2, 2, 2, 6, 6, 6, 6, 3, 3, 3, 3, 3, 3, 0, 0, 6, 6,\n",
       "       6, 6, 6, 6, 6, 6, 6, 6, 6, 6, 4, 4, 4, 4, 0, 2, 2, 2, 6, 6, 6, 6,\n",
       "       6, 4, 4, 6, 5, 5, 6, 6, 6, 4, 4, 4, 0, 0, 0, 0, 0, 0, 0, 0, 0, 0,\n",
       "       0, 0, 0, 0, 0, 0, 0, 0, 0, 0, 0, 0, 0, 0, 0, 0, 0, 0, 0, 0, 0, 0,\n",
       "       0, 0, 0, 0, 0, 0, 0, 0, 0, 0, 0, 0, 0, 0, 0, 0, 0, 0, 0, 0, 0, 0,\n",
       "       0, 0, 0, 0, 0, 0, 0, 0, 0, 0, 0, 0])"
      ]
     },
     "execution_count": 118,
     "metadata": {},
     "output_type": "execute_result"
    }
   ],
   "source": [
    "y=pd.factorize(y)[0]\n",
    "y"
   ]
  },
  {
   "cell_type": "code",
   "execution_count": 119,
   "id": "6232ea8c",
   "metadata": {},
   "outputs": [
    {
     "name": "stderr",
     "output_type": "stream",
     "text": [
      "/Users/deth/opt/anaconda3/lib/python3.8/site-packages/ipykernel/ipkernel.py:287: DeprecationWarning: `should_run_async` will not call `transform_cell` automatically in the future. Please pass the result to `transformed_cell` argument and any exception that happen during thetransform in `preprocessing_exc_tuple` in IPython 7.17 and above.\n",
      "  and should_run_async(code)\n"
     ]
    }
   ],
   "source": [
    "X_train,X_test,y_train,y_test=train_test_split(x,y,test_size=0.3,stratify=y)\n"
   ]
  },
  {
   "cell_type": "code",
   "execution_count": 120,
   "id": "4d7a3675",
   "metadata": {},
   "outputs": [
    {
     "name": "stderr",
     "output_type": "stream",
     "text": [
      "/Users/deth/opt/anaconda3/lib/python3.8/site-packages/ipykernel/ipkernel.py:287: DeprecationWarning: `should_run_async` will not call `transform_cell` automatically in the future. Please pass the result to `transformed_cell` argument and any exception that happen during thetransform in `preprocessing_exc_tuple` in IPython 7.17 and above.\n",
      "  and should_run_async(code)\n"
     ]
    }
   ],
   "source": [
    "from keras.models import Sequential\n",
    "from keras import layers\n",
    "input_dim=X_train.shape[1]\n",
    "model=Sequential()\n",
    "model.add(layers.Dense(10,input_dim=input_dim,activation='relu'))\n",
    "model.add(layers.Dense(1,activation='sigmoid'))"
   ]
  },
  {
   "cell_type": "code",
   "execution_count": 121,
   "id": "b8d19850",
   "metadata": {},
   "outputs": [
    {
     "name": "stdout",
     "output_type": "stream",
     "text": [
      "Model: \"sequential\"\n",
      "_________________________________________________________________\n",
      " Layer (type)                Output Shape              Param #   \n",
      "=================================================================\n",
      " dense (Dense)               (None, 10)                410       \n",
      "                                                                 \n",
      " dense_1 (Dense)             (None, 1)                 11        \n",
      "                                                                 \n",
      "=================================================================\n",
      "Total params: 421\n",
      "Trainable params: 421\n",
      "Non-trainable params: 0\n",
      "_________________________________________________________________\n"
     ]
    },
    {
     "name": "stderr",
     "output_type": "stream",
     "text": [
      "/Users/deth/opt/anaconda3/lib/python3.8/site-packages/ipykernel/ipkernel.py:287: DeprecationWarning: `should_run_async` will not call `transform_cell` automatically in the future. Please pass the result to `transformed_cell` argument and any exception that happen during thetransform in `preprocessing_exc_tuple` in IPython 7.17 and above.\n",
      "  and should_run_async(code)\n"
     ]
    }
   ],
   "source": [
    "model.compile(loss='binary_crossentropy',optimizer='adam',metrics=['accuracy'])\n",
    "model.summary()"
   ]
  },
  {
   "cell_type": "code",
   "execution_count": 122,
   "id": "9dfec68b",
   "metadata": {},
   "outputs": [
    {
     "name": "stderr",
     "output_type": "stream",
     "text": [
      "/Users/deth/opt/anaconda3/lib/python3.8/site-packages/ipykernel/ipkernel.py:287: DeprecationWarning: `should_run_async` will not call `transform_cell` automatically in the future. Please pass the result to `transformed_cell` argument and any exception that happen during thetransform in `preprocessing_exc_tuple` in IPython 7.17 and above.\n",
      "  and should_run_async(code)\n"
     ]
    }
   ],
   "source": [
    "history=model.fit(X_train,y_train,epochs=100,verbose=False,validation_data=(X_test,y_test),batch_size=10)\n"
   ]
  },
  {
   "cell_type": "code",
   "execution_count": 123,
   "id": "4c161c42",
   "metadata": {},
   "outputs": [
    {
     "name": "stderr",
     "output_type": "stream",
     "text": [
      "/Users/deth/opt/anaconda3/lib/python3.8/site-packages/ipykernel/ipkernel.py:287: DeprecationWarning: `should_run_async` will not call `transform_cell` automatically in the future. Please pass the result to `transformed_cell` argument and any exception that happen during thetransform in `preprocessing_exc_tuple` in IPython 7.17 and above.\n",
      "  and should_run_async(code)\n"
     ]
    }
   ],
   "source": [
    "from keras.backend import clear_session\n",
    "clear_session()"
   ]
  },
  {
   "cell_type": "code",
   "execution_count": 124,
   "id": "758662d7",
   "metadata": {},
   "outputs": [
    {
     "name": "stdout",
     "output_type": "stream",
     "text": [
      "Training Accuracy: 0.0481\n",
      "Testing Accuracy:  0.0444\n"
     ]
    },
    {
     "name": "stderr",
     "output_type": "stream",
     "text": [
      "/Users/deth/opt/anaconda3/lib/python3.8/site-packages/ipykernel/ipkernel.py:287: DeprecationWarning: `should_run_async` will not call `transform_cell` automatically in the future. Please pass the result to `transformed_cell` argument and any exception that happen during thetransform in `preprocessing_exc_tuple` in IPython 7.17 and above.\n",
      "  and should_run_async(code)\n"
     ]
    }
   ],
   "source": [
    "loss, accuracy = model.evaluate(X_train, y_train, verbose=False)\n",
    "print(\"Training Accuracy: {:.4f}\".format(accuracy))\n",
    "loss, accuracy = model.evaluate(X_test, y_test, verbose=False)\n",
    "print(\"Testing Accuracy:  {:.4f}\".format(accuracy))"
   ]
  },
  {
   "cell_type": "code",
   "execution_count": 125,
   "id": "1e763997",
   "metadata": {},
   "outputs": [
    {
     "name": "stderr",
     "output_type": "stream",
     "text": [
      "/Users/deth/opt/anaconda3/lib/python3.8/site-packages/ipykernel/ipkernel.py:287: DeprecationWarning: `should_run_async` will not call `transform_cell` automatically in the future. Please pass the result to `transformed_cell` argument and any exception that happen during thetransform in `preprocessing_exc_tuple` in IPython 7.17 and above.\n",
      "  and should_run_async(code)\n"
     ]
    }
   ],
   "source": [
    "import matplotlib.pyplot as plt\n",
    "plt.style.use('ggplot')\n",
    "\n",
    "def plot_history(history):\n",
    "    acc = history.history['accuracy']\n",
    "    val_acc = history.history['val_accuracy']\n",
    "    loss = history.history['loss']\n",
    "    val_loss = history.history['val_loss']\n",
    "    x = range(1, len(acc) + 1)\n",
    "\n",
    "    plt.figure(figsize=(12, 5))\n",
    "    plt.subplot(1, 2, 1)\n",
    "    plt.plot(x, acc, 'b', label='Training acc')\n",
    "    plt.plot(x, val_acc, 'r', label='Validation acc')\n",
    "    plt.title('Training and validation accuracy')\n",
    "    plt.legend()\n",
    "    plt.subplot(1, 2, 2)\n",
    "    plt.plot(x, loss, 'b', label='Training loss')\n",
    "    plt.plot(x, val_loss, 'r', label='Validation loss')\n",
    "    plt.title('Training and validation loss')\n",
    "    plt.legend()"
   ]
  },
  {
   "cell_type": "code",
   "execution_count": 126,
   "id": "c5770bdf",
   "metadata": {},
   "outputs": [
    {
     "name": "stderr",
     "output_type": "stream",
     "text": [
      "/Users/deth/opt/anaconda3/lib/python3.8/site-packages/ipykernel/ipkernel.py:287: DeprecationWarning: `should_run_async` will not call `transform_cell` automatically in the future. Please pass the result to `transformed_cell` argument and any exception that happen during thetransform in `preprocessing_exc_tuple` in IPython 7.17 and above.\n",
      "  and should_run_async(code)\n"
     ]
    },
    {
     "data": {
      "image/png": "[encoded data removed]",
      "text/plain": [
       "<Figure size 864x360 with 2 Axes>"
      ]
     },
     "metadata": {},
     "output_type": "display_data"
    }
   ],
   "source": [
    "plot_history(history)\n"
   ]
  },
  {
   "cell_type": "code",
   "execution_count": null,
   "id": "190a10b8",
   "metadata": {},
   "outputs": [],
   "source": []
  },
  {
   "cell_type": "code",
   "execution_count": null,
   "id": "1d8fd6f1",
   "metadata": {},
   "outputs": [],
   "source": []
  },
  {
   "cell_type": "code",
   "execution_count": null,
   "id": "65d65435",
   "metadata": {},
   "outputs": [],
   "source": []
  },
  {
   "cell_type": "code",
   "execution_count": null,
   "id": "8157a0d9",
   "metadata": {},
   "outputs": [],
   "source": []
  }
 ],
 "metadata": {
  "kernelspec": {
   "display_name": "Python 3",
   "language": "python",
   "name": "python3"
  },
  "language_info": {
   "codemirror_mode": {
    "name": "ipython",
    "version": 3
   },
   "file_extension": ".py",
   "mimetype": "text/x-python",
   "name": "python",
   "nbconvert_exporter": "python",
   "pygments_lexer": "ipython3",
   "version": "3.8.8"
  }
 },
 "nbformat": 4,
 "nbformat_minor": 5
}
