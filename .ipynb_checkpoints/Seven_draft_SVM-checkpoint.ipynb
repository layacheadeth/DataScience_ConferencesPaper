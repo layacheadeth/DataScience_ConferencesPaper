{
 "cells": [
  {
   "cell_type": "code",
   "execution_count": 1,
   "id": "7adebe81",
   "metadata": {},
   "outputs": [
    {
     "data": {
      "text/html": [
       "<div>\n",
       "<style scoped>\n",
       "    .dataframe tbody tr th:only-of-type {\n",
       "        vertical-align: middle;\n",
       "    }\n",
       "\n",
       "    .dataframe tbody tr th {\n",
       "        vertical-align: top;\n",
       "    }\n",
       "\n",
       "    .dataframe thead th {\n",
       "        text-align: right;\n",
       "    }\n",
       "</style>\n",
       "<table border=\"1\" class=\"dataframe\">\n",
       "  <thead>\n",
       "    <tr style=\"text-align: right;\">\n",
       "      <th></th>\n",
       "      <th>Product</th>\n",
       "      <th>name</th>\n",
       "      <th>Category</th>\n",
       "    </tr>\n",
       "  </thead>\n",
       "  <tbody>\n",
       "    <tr>\n",
       "      <th>0</th>\n",
       "      <td>Baby Trend Diaper Champ</td>\n",
       "      <td>333</td>\n",
       "      <td>Diapering</td>\n",
       "    </tr>\n",
       "    <tr>\n",
       "      <th>1</th>\n",
       "      <td>BABYBJORN Potty Chair - Red</td>\n",
       "      <td>232</td>\n",
       "      <td>Nursery</td>\n",
       "    </tr>\n",
       "    <tr>\n",
       "      <th>2</th>\n",
       "      <td>Philips Avent 3 Pack 9oz Bottles</td>\n",
       "      <td>191</td>\n",
       "      <td>Baby_care</td>\n",
       "    </tr>\n",
       "    <tr>\n",
       "      <th>3</th>\n",
       "      <td>Munchkin Mozart Magic Cube</td>\n",
       "      <td>191</td>\n",
       "      <td>Activity_entertainment</td>\n",
       "    </tr>\n",
       "    <tr>\n",
       "      <th>4</th>\n",
       "      <td>PRIMO EuroBath, Pearl White</td>\n",
       "      <td>182</td>\n",
       "      <td>Nursery</td>\n",
       "    </tr>\n",
       "    <tr>\n",
       "      <th>...</th>\n",
       "      <td>...</td>\n",
       "      <td>...</td>\n",
       "      <td>...</td>\n",
       "    </tr>\n",
       "    <tr>\n",
       "      <th>356</th>\n",
       "      <td>Semanario (7) Little Girls 14k Gold Overlay Ba...</td>\n",
       "      <td>1</td>\n",
       "      <td>Apparel_accessories</td>\n",
       "    </tr>\n",
       "    <tr>\n",
       "      <th>357</th>\n",
       "      <td>Gerber Diaper Service Cloth Diapers (6-pk.)</td>\n",
       "      <td>1</td>\n",
       "      <td>Diapering</td>\n",
       "    </tr>\n",
       "    <tr>\n",
       "      <th>358</th>\n",
       "      <td>Large Jungle Animals (Panda, Lion, Elephant, G...</td>\n",
       "      <td>1</td>\n",
       "      <td>Baby_toddler_toys</td>\n",
       "    </tr>\n",
       "    <tr>\n",
       "      <th>359</th>\n",
       "      <td>Beautiful Girl and Black Flower Removable Viny...</td>\n",
       "      <td>1</td>\n",
       "      <td>Nursery</td>\n",
       "    </tr>\n",
       "    <tr>\n",
       "      <th>360</th>\n",
       "      <td>Playtex VentAire Bottle 6 oz. - 1 pk.</td>\n",
       "      <td>1</td>\n",
       "      <td>Baby_care</td>\n",
       "    </tr>\n",
       "  </tbody>\n",
       "</table>\n",
       "<p>361 rows × 3 columns</p>\n",
       "</div>"
      ],
      "text/plain": [
       "                                               Product  name  \\\n",
       "0                              Baby Trend Diaper Champ   333   \n",
       "1                          BABYBJORN Potty Chair - Red   232   \n",
       "2                     Philips Avent 3 Pack 9oz Bottles   191   \n",
       "3                           Munchkin Mozart Magic Cube   191   \n",
       "4                          PRIMO EuroBath, Pearl White   182   \n",
       "..                                                 ...   ...   \n",
       "356  Semanario (7) Little Girls 14k Gold Overlay Ba...     1   \n",
       "357        Gerber Diaper Service Cloth Diapers (6-pk.)     1   \n",
       "358  Large Jungle Animals (Panda, Lion, Elephant, G...     1   \n",
       "359  Beautiful Girl and Black Flower Removable Viny...     1   \n",
       "360              Playtex VentAire Bottle 6 oz. - 1 pk.     1   \n",
       "\n",
       "                   Category  \n",
       "0                 Diapering  \n",
       "1                   Nursery  \n",
       "2                 Baby_care  \n",
       "3    Activity_entertainment  \n",
       "4                   Nursery  \n",
       "..                      ...  \n",
       "356     Apparel_accessories  \n",
       "357               Diapering  \n",
       "358       Baby_toddler_toys  \n",
       "359                 Nursery  \n",
       "360               Baby_care  \n",
       "\n",
       "[361 rows x 3 columns]"
      ]
     },
     "execution_count": 1,
     "metadata": {},
     "output_type": "execute_result"
    }
   ],
   "source": [
    "import pandas as pd\n",
    "import fractions\n",
    "import re\n",
    "import string\n",
    "import nltk\n",
    "import spacy \n",
    "import numpy as np\n",
    "import math\n",
    "from tqdm import tqdm \n",
    "\n",
    "from spacy.matcher import Matcher\n",
    "from spacy.tokens import Span\n",
    "from spacy import displacy\n",
    "\n",
    "\n",
    "\n",
    "data=pd.read_csv(\"df_product_test.csv\")\n",
    "data"
   ]
  },
  {
   "cell_type": "code",
   "execution_count": 2,
   "id": "8f9abc73",
   "metadata": {},
   "outputs": [],
   "source": [
    "from sklearn.feature_extraction.text import CountVectorizer\n",
    "from sklearn.model_selection import train_test_split\n",
    "from sklearn.naive_bayes import MultinomialNB\n",
    "\n",
    "from sklearn.metrics import accuracy_score\n",
    "from sklearn.metrics import classification_report\n",
    "from sklearn.metrics import f1_score"
   ]
  },
  {
   "cell_type": "code",
   "execution_count": 3,
   "id": "982794d5",
   "metadata": {},
   "outputs": [],
   "source": [
    "data_new = data.rename(columns={'total': 'name'}, index={'ONE': 'Row_1'})\n"
   ]
  },
  {
   "cell_type": "code",
   "execution_count": 4,
   "id": "ce7f3b28",
   "metadata": {},
   "outputs": [
    {
     "data": {
      "text/html": [
       "<div>\n",
       "<style scoped>\n",
       "    .dataframe tbody tr th:only-of-type {\n",
       "        vertical-align: middle;\n",
       "    }\n",
       "\n",
       "    .dataframe tbody tr th {\n",
       "        vertical-align: top;\n",
       "    }\n",
       "\n",
       "    .dataframe thead th {\n",
       "        text-align: right;\n",
       "    }\n",
       "</style>\n",
       "<table border=\"1\" class=\"dataframe\">\n",
       "  <thead>\n",
       "    <tr style=\"text-align: right;\">\n",
       "      <th></th>\n",
       "      <th>Product</th>\n",
       "      <th>name</th>\n",
       "      <th>Category</th>\n",
       "    </tr>\n",
       "  </thead>\n",
       "  <tbody>\n",
       "    <tr>\n",
       "      <th>0</th>\n",
       "      <td>Baby Trend Diaper Champ</td>\n",
       "      <td>333</td>\n",
       "      <td>Diapering</td>\n",
       "    </tr>\n",
       "    <tr>\n",
       "      <th>1</th>\n",
       "      <td>BABYBJORN Potty Chair - Red</td>\n",
       "      <td>232</td>\n",
       "      <td>Nursery</td>\n",
       "    </tr>\n",
       "    <tr>\n",
       "      <th>2</th>\n",
       "      <td>Philips Avent 3 Pack 9oz Bottles</td>\n",
       "      <td>191</td>\n",
       "      <td>Baby_care</td>\n",
       "    </tr>\n",
       "    <tr>\n",
       "      <th>3</th>\n",
       "      <td>Munchkin Mozart Magic Cube</td>\n",
       "      <td>191</td>\n",
       "      <td>Activity_entertainment</td>\n",
       "    </tr>\n",
       "    <tr>\n",
       "      <th>4</th>\n",
       "      <td>PRIMO EuroBath, Pearl White</td>\n",
       "      <td>182</td>\n",
       "      <td>Nursery</td>\n",
       "    </tr>\n",
       "  </tbody>\n",
       "</table>\n",
       "</div>"
      ],
      "text/plain": [
       "                            Product  name                Category\n",
       "0           Baby Trend Diaper Champ   333               Diapering\n",
       "1       BABYBJORN Potty Chair - Red   232                 Nursery\n",
       "2  Philips Avent 3 Pack 9oz Bottles   191               Baby_care\n",
       "3        Munchkin Mozart Magic Cube   191  Activity_entertainment\n",
       "4       PRIMO EuroBath, Pearl White   182                 Nursery"
      ]
     },
     "execution_count": 4,
     "metadata": {},
     "output_type": "execute_result"
    }
   ],
   "source": [
    "data_new.head()\n"
   ]
  },
  {
   "cell_type": "code",
   "execution_count": 5,
   "id": "654a090e",
   "metadata": {},
   "outputs": [],
   "source": [
    "count_vec=CountVectorizer()\n",
    "bow=count_vec.fit_transform(data_new['Product'])\n",
    "bow=np.array(bow.todense())"
   ]
  },
  {
   "cell_type": "code",
   "execution_count": 6,
   "id": "9d44bec6",
   "metadata": {},
   "outputs": [],
   "source": [
    "x=bow\n",
    "y=data_new['Category']"
   ]
  },
  {
   "cell_type": "code",
   "execution_count": 7,
   "id": "656f4bfa",
   "metadata": {},
   "outputs": [],
   "source": [
    "X_train,X_test,y_train,y_test=train_test_split(x,y,test_size=0.3,stratify=y)\n"
   ]
  },
  {
   "cell_type": "code",
   "execution_count": 8,
   "id": "e1888f9b",
   "metadata": {},
   "outputs": [],
   "source": [
    "from sklearn import svm\n"
   ]
  },
  {
   "cell_type": "code",
   "execution_count": 9,
   "id": "4f5add55",
   "metadata": {},
   "outputs": [],
   "source": [
    "from sklearn import metrics"
   ]
  },
  {
   "cell_type": "code",
   "execution_count": null,
   "id": "a137d7de",
   "metadata": {},
   "outputs": [],
   "source": [
    "model=svm.SVC(kernel='linear').fit(X_train,y_train)\n"
   ]
  },
  {
   "cell_type": "code",
   "execution_count": null,
   "id": "c5a2acec",
   "metadata": {},
   "outputs": [],
   "source": []
  },
  {
   "cell_type": "code",
   "execution_count": null,
   "id": "af5ed713",
   "metadata": {},
   "outputs": [],
   "source": []
  },
  {
   "cell_type": "code",
   "execution_count": null,
   "id": "39558569",
   "metadata": {},
   "outputs": [],
   "source": []
  },
  {
   "cell_type": "code",
   "execution_count": null,
   "id": "55c16e2b",
   "metadata": {},
   "outputs": [],
   "source": []
  },
  {
   "cell_type": "code",
   "execution_count": null,
   "id": "93a4e2c4",
   "metadata": {},
   "outputs": [],
   "source": []
  },
  {
   "cell_type": "code",
   "execution_count": null,
   "id": "01f41c7e",
   "metadata": {},
   "outputs": [],
   "source": []
  },
  {
   "cell_type": "code",
   "execution_count": null,
   "id": "228d26bf",
   "metadata": {},
   "outputs": [],
   "source": []
  },
  {
   "cell_type": "code",
   "execution_count": null,
   "id": "96f15680",
   "metadata": {},
   "outputs": [],
   "source": []
  },
  {
   "cell_type": "code",
   "execution_count": null,
   "id": "cbe32111",
   "metadata": {},
   "outputs": [],
   "source": []
  },
  {
   "cell_type": "code",
   "execution_count": null,
   "id": "17703fd4",
   "metadata": {},
   "outputs": [],
   "source": []
  },
  {
   "cell_type": "code",
   "execution_count": null,
   "id": "f2521a8e",
   "metadata": {},
   "outputs": [],
   "source": []
  }
 ],
 "metadata": {
  "kernelspec": {
   "display_name": "Python 3",
   "language": "python",
   "name": "python3"
  },
  "language_info": {
   "codemirror_mode": {
    "name": "ipython",
    "version": 3
   },
   "file_extension": ".py",
   "mimetype": "text/x-python",
   "name": "python",
   "nbconvert_exporter": "python",
   "pygments_lexer": "ipython3",
   "version": "3.8.8"
  }
 },
 "nbformat": 4,
 "nbformat_minor": 5
}
