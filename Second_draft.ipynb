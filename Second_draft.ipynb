{
 "cells": [
  {
   "cell_type": "code",
   "execution_count": 37,
   "id": "b88c5be7",
   "metadata": {},
   "outputs": [
    {
     "name": "stdout",
     "output_type": "stream",
     "text": [
      "Requirement already satisfied: spacy in /Users/deth/opt/anaconda3/lib/python3.8/site-packages (3.2.1)\n",
      "Requirement already satisfied: spacy-loggers<2.0.0,>=1.0.0 in /Users/deth/opt/anaconda3/lib/python3.8/site-packages (from spacy) (1.0.1)\n",
      "Requirement already satisfied: preshed<3.1.0,>=3.0.2 in /Users/deth/opt/anaconda3/lib/python3.8/site-packages (from spacy) (3.0.6)\n",
      "Requirement already satisfied: blis<0.8.0,>=0.4.0 in /Users/deth/opt/anaconda3/lib/python3.8/site-packages (from spacy) (0.7.5)\n",
      "Requirement already satisfied: typer<0.5.0,>=0.3.0 in /Users/deth/opt/anaconda3/lib/python3.8/site-packages (from spacy) (0.4.0)\n",
      "Requirement already satisfied: numpy>=1.15.0 in /Users/deth/opt/anaconda3/lib/python3.8/site-packages (from spacy) (1.20.1)\n",
      "Requirement already satisfied: packaging>=20.0 in /Users/deth/opt/anaconda3/lib/python3.8/site-packages (from spacy) (20.9)\n",
      "Requirement already satisfied: requests<3.0.0,>=2.13.0 in /Users/deth/opt/anaconda3/lib/python3.8/site-packages (from spacy) (2.25.1)\n",
      "Requirement already satisfied: jinja2 in /Users/deth/opt/anaconda3/lib/python3.8/site-packages (from spacy) (2.11.3)\n",
      "Requirement already satisfied: tqdm<5.0.0,>=4.38.0 in /Users/deth/opt/anaconda3/lib/python3.8/site-packages (from spacy) (4.59.0)\n",
      "Requirement already satisfied: srsly<3.0.0,>=2.4.1 in /Users/deth/opt/anaconda3/lib/python3.8/site-packages (from spacy) (2.4.2)\n",
      "Requirement already satisfied: pydantic!=1.8,!=1.8.1,<1.9.0,>=1.7.4 in /Users/deth/opt/anaconda3/lib/python3.8/site-packages (from spacy) (1.8.2)\n",
      "Requirement already satisfied: langcodes<4.0.0,>=3.2.0 in /Users/deth/opt/anaconda3/lib/python3.8/site-packages (from spacy) (3.3.0)\n",
      "Requirement already satisfied: catalogue<2.1.0,>=2.0.6 in /Users/deth/opt/anaconda3/lib/python3.8/site-packages (from spacy) (2.0.6)\n",
      "Requirement already satisfied: wasabi<1.1.0,>=0.8.1 in /Users/deth/opt/anaconda3/lib/python3.8/site-packages (from spacy) (0.9.0)\n",
      "Requirement already satisfied: pathy>=0.3.5 in /Users/deth/opt/anaconda3/lib/python3.8/site-packages (from spacy) (0.6.1)\n",
      "Requirement already satisfied: setuptools in /Users/deth/opt/anaconda3/lib/python3.8/site-packages (from spacy) (52.0.0.post20210125)\n",
      "Requirement already satisfied: murmurhash<1.1.0,>=0.28.0 in /Users/deth/opt/anaconda3/lib/python3.8/site-packages (from spacy) (1.0.6)\n",
      "Requirement already satisfied: cymem<2.1.0,>=2.0.2 in /Users/deth/opt/anaconda3/lib/python3.8/site-packages (from spacy) (2.0.6)\n",
      "Requirement already satisfied: spacy-legacy<3.1.0,>=3.0.8 in /Users/deth/opt/anaconda3/lib/python3.8/site-packages (from spacy) (3.0.8)\n",
      "Requirement already satisfied: thinc<8.1.0,>=8.0.12 in /Users/deth/opt/anaconda3/lib/python3.8/site-packages (from spacy) (8.0.13)\n",
      "Requirement already satisfied: pyparsing>=2.0.2 in /Users/deth/opt/anaconda3/lib/python3.8/site-packages (from packaging>=20.0->spacy) (2.4.7)\n",
      "Requirement already satisfied: smart-open<6.0.0,>=5.0.0 in /Users/deth/opt/anaconda3/lib/python3.8/site-packages (from pathy>=0.3.5->spacy) (5.2.1)\n",
      "Requirement already satisfied: typing-extensions>=3.7.4.3 in /Users/deth/opt/anaconda3/lib/python3.8/site-packages (from pydantic!=1.8,!=1.8.1,<1.9.0,>=1.7.4->spacy) (3.7.4.3)\n",
      "Requirement already satisfied: idna<3,>=2.5 in /Users/deth/opt/anaconda3/lib/python3.8/site-packages (from requests<3.0.0,>=2.13.0->spacy) (2.10)\n",
      "Requirement already satisfied: chardet<5,>=3.0.2 in /Users/deth/opt/anaconda3/lib/python3.8/site-packages (from requests<3.0.0,>=2.13.0->spacy) (4.0.0)\n",
      "Requirement already satisfied: certifi>=2017.4.17 in /Users/deth/opt/anaconda3/lib/python3.8/site-packages (from requests<3.0.0,>=2.13.0->spacy) (2020.12.5)\n",
      "Requirement already satisfied: urllib3<1.27,>=1.21.1 in /Users/deth/opt/anaconda3/lib/python3.8/site-packages (from requests<3.0.0,>=2.13.0->spacy) (1.26.4)\n",
      "Requirement already satisfied: click<9.0.0,>=7.1.1 in /Users/deth/opt/anaconda3/lib/python3.8/site-packages (from typer<0.5.0,>=0.3.0->spacy) (7.1.2)\n",
      "Requirement already satisfied: MarkupSafe>=0.23 in /Users/deth/opt/anaconda3/lib/python3.8/site-packages (from jinja2->spacy) (1.1.1)\n"
     ]
    }
   ],
   "source": [
    "!pip install spacy"
   ]
  },
  {
   "cell_type": "code",
   "execution_count": 38,
   "id": "4489baa0",
   "metadata": {},
   "outputs": [
    {
     "name": "stdout",
     "output_type": "stream",
     "text": [
      "Collecting en-core-web-sm==3.2.0\n",
      "  Downloading https://github.com/explosion/spacy-models/releases/download/en_core_web_sm-3.2.0/en_core_web_sm-3.2.0-py3-none-any.whl (13.9 MB)\n",
      "\u001b[K     |████████████████████████████████| 13.9 MB 124 kB/s eta 0:00:01\n",
      "\u001b[?25hRequirement already satisfied: spacy<3.3.0,>=3.2.0 in /Users/deth/opt/anaconda3/lib/python3.8/site-packages (from en-core-web-sm==3.2.0) (3.2.1)\n",
      "Requirement already satisfied: wasabi<1.1.0,>=0.8.1 in /Users/deth/opt/anaconda3/lib/python3.8/site-packages (from spacy<3.3.0,>=3.2.0->en-core-web-sm==3.2.0) (0.9.0)\n",
      "Requirement already satisfied: setuptools in /Users/deth/opt/anaconda3/lib/python3.8/site-packages (from spacy<3.3.0,>=3.2.0->en-core-web-sm==3.2.0) (52.0.0.post20210125)\n",
      "Requirement already satisfied: numpy>=1.15.0 in /Users/deth/opt/anaconda3/lib/python3.8/site-packages (from spacy<3.3.0,>=3.2.0->en-core-web-sm==3.2.0) (1.20.1)\n",
      "Requirement already satisfied: pydantic!=1.8,!=1.8.1,<1.9.0,>=1.7.4 in /Users/deth/opt/anaconda3/lib/python3.8/site-packages (from spacy<3.3.0,>=3.2.0->en-core-web-sm==3.2.0) (1.8.2)\n",
      "Requirement already satisfied: cymem<2.1.0,>=2.0.2 in /Users/deth/opt/anaconda3/lib/python3.8/site-packages (from spacy<3.3.0,>=3.2.0->en-core-web-sm==3.2.0) (2.0.6)\n",
      "Requirement already satisfied: catalogue<2.1.0,>=2.0.6 in /Users/deth/opt/anaconda3/lib/python3.8/site-packages (from spacy<3.3.0,>=3.2.0->en-core-web-sm==3.2.0) (2.0.6)\n",
      "Requirement already satisfied: thinc<8.1.0,>=8.0.12 in /Users/deth/opt/anaconda3/lib/python3.8/site-packages (from spacy<3.3.0,>=3.2.0->en-core-web-sm==3.2.0) (8.0.13)\n",
      "Requirement already satisfied: srsly<3.0.0,>=2.4.1 in /Users/deth/opt/anaconda3/lib/python3.8/site-packages (from spacy<3.3.0,>=3.2.0->en-core-web-sm==3.2.0) (2.4.2)\n",
      "Requirement already satisfied: tqdm<5.0.0,>=4.38.0 in /Users/deth/opt/anaconda3/lib/python3.8/site-packages (from spacy<3.3.0,>=3.2.0->en-core-web-sm==3.2.0) (4.59.0)\n",
      "Requirement already satisfied: murmurhash<1.1.0,>=0.28.0 in /Users/deth/opt/anaconda3/lib/python3.8/site-packages (from spacy<3.3.0,>=3.2.0->en-core-web-sm==3.2.0) (1.0.6)\n",
      "Requirement already satisfied: jinja2 in /Users/deth/opt/anaconda3/lib/python3.8/site-packages (from spacy<3.3.0,>=3.2.0->en-core-web-sm==3.2.0) (2.11.3)\n",
      "Requirement already satisfied: blis<0.8.0,>=0.4.0 in /Users/deth/opt/anaconda3/lib/python3.8/site-packages (from spacy<3.3.0,>=3.2.0->en-core-web-sm==3.2.0) (0.7.5)\n",
      "Requirement already satisfied: typer<0.5.0,>=0.3.0 in /Users/deth/opt/anaconda3/lib/python3.8/site-packages (from spacy<3.3.0,>=3.2.0->en-core-web-sm==3.2.0) (0.4.0)\n",
      "Requirement already satisfied: packaging>=20.0 in /Users/deth/opt/anaconda3/lib/python3.8/site-packages (from spacy<3.3.0,>=3.2.0->en-core-web-sm==3.2.0) (20.9)\n",
      "Requirement already satisfied: langcodes<4.0.0,>=3.2.0 in /Users/deth/opt/anaconda3/lib/python3.8/site-packages (from spacy<3.3.0,>=3.2.0->en-core-web-sm==3.2.0) (3.3.0)\n",
      "Requirement already satisfied: preshed<3.1.0,>=3.0.2 in /Users/deth/opt/anaconda3/lib/python3.8/site-packages (from spacy<3.3.0,>=3.2.0->en-core-web-sm==3.2.0) (3.0.6)\n",
      "Requirement already satisfied: spacy-loggers<2.0.0,>=1.0.0 in /Users/deth/opt/anaconda3/lib/python3.8/site-packages (from spacy<3.3.0,>=3.2.0->en-core-web-sm==3.2.0) (1.0.1)\n",
      "Requirement already satisfied: requests<3.0.0,>=2.13.0 in /Users/deth/opt/anaconda3/lib/python3.8/site-packages (from spacy<3.3.0,>=3.2.0->en-core-web-sm==3.2.0) (2.25.1)\n",
      "Requirement already satisfied: pathy>=0.3.5 in /Users/deth/opt/anaconda3/lib/python3.8/site-packages (from spacy<3.3.0,>=3.2.0->en-core-web-sm==3.2.0) (0.6.1)\n",
      "Requirement already satisfied: spacy-legacy<3.1.0,>=3.0.8 in /Users/deth/opt/anaconda3/lib/python3.8/site-packages (from spacy<3.3.0,>=3.2.0->en-core-web-sm==3.2.0) (3.0.8)\n",
      "Requirement already satisfied: pyparsing>=2.0.2 in /Users/deth/opt/anaconda3/lib/python3.8/site-packages (from packaging>=20.0->spacy<3.3.0,>=3.2.0->en-core-web-sm==3.2.0) (2.4.7)\n",
      "Requirement already satisfied: smart-open<6.0.0,>=5.0.0 in /Users/deth/opt/anaconda3/lib/python3.8/site-packages (from pathy>=0.3.5->spacy<3.3.0,>=3.2.0->en-core-web-sm==3.2.0) (5.2.1)\n",
      "Requirement already satisfied: typing-extensions>=3.7.4.3 in /Users/deth/opt/anaconda3/lib/python3.8/site-packages (from pydantic!=1.8,!=1.8.1,<1.9.0,>=1.7.4->spacy<3.3.0,>=3.2.0->en-core-web-sm==3.2.0) (3.7.4.3)\n",
      "Requirement already satisfied: urllib3<1.27,>=1.21.1 in /Users/deth/opt/anaconda3/lib/python3.8/site-packages (from requests<3.0.0,>=2.13.0->spacy<3.3.0,>=3.2.0->en-core-web-sm==3.2.0) (1.26.4)\n",
      "Requirement already satisfied: certifi>=2017.4.17 in /Users/deth/opt/anaconda3/lib/python3.8/site-packages (from requests<3.0.0,>=2.13.0->spacy<3.3.0,>=3.2.0->en-core-web-sm==3.2.0) (2020.12.5)\n",
      "Requirement already satisfied: idna<3,>=2.5 in /Users/deth/opt/anaconda3/lib/python3.8/site-packages (from requests<3.0.0,>=2.13.0->spacy<3.3.0,>=3.2.0->en-core-web-sm==3.2.0) (2.10)\n",
      "Requirement already satisfied: chardet<5,>=3.0.2 in /Users/deth/opt/anaconda3/lib/python3.8/site-packages (from requests<3.0.0,>=2.13.0->spacy<3.3.0,>=3.2.0->en-core-web-sm==3.2.0) (4.0.0)\n",
      "Requirement already satisfied: click<9.0.0,>=7.1.1 in /Users/deth/opt/anaconda3/lib/python3.8/site-packages (from typer<0.5.0,>=0.3.0->spacy<3.3.0,>=3.2.0->en-core-web-sm==3.2.0) (7.1.2)\n",
      "Requirement already satisfied: MarkupSafe>=0.23 in /Users/deth/opt/anaconda3/lib/python3.8/site-packages (from jinja2->spacy<3.3.0,>=3.2.0->en-core-web-sm==3.2.0) (1.1.1)\n",
      "Installing collected packages: en-core-web-sm\n",
      "Successfully installed en-core-web-sm-3.2.0\n",
      "\u001b[38;5;2m✔ Download and installation successful\u001b[0m\n",
      "You can now load the package via spacy.load('en_core_web_sm')\n"
     ]
    }
   ],
   "source": [
    "!python3 -m spacy download en_core_web_sm\n"
   ]
  },
  {
   "cell_type": "code",
   "execution_count": 39,
   "id": "13dcd86b",
   "metadata": {},
   "outputs": [
    {
     "data": {
      "text/html": [
       "<div>\n",
       "<style scoped>\n",
       "    .dataframe tbody tr th:only-of-type {\n",
       "        vertical-align: middle;\n",
       "    }\n",
       "\n",
       "    .dataframe tbody tr th {\n",
       "        vertical-align: top;\n",
       "    }\n",
       "\n",
       "    .dataframe thead th {\n",
       "        text-align: right;\n",
       "    }\n",
       "</style>\n",
       "<table border=\"1\" class=\"dataframe\">\n",
       "  <thead>\n",
       "    <tr style=\"text-align: right;\">\n",
       "      <th></th>\n",
       "      <th>name</th>\n",
       "      <th>review</th>\n",
       "      <th>rating</th>\n",
       "    </tr>\n",
       "  </thead>\n",
       "  <tbody>\n",
       "    <tr>\n",
       "      <th>0</th>\n",
       "      <td>Planetwise Flannel Wipes</td>\n",
       "      <td>These flannel wipes are OK, but in my opinion not worth keeping.  I also ordered someImse Vimse Cloth Wipes-Ocean Blue-12 countwhich are larger, had a nicer, softer texture and just seemed higher ...</td>\n",
       "      <td>3</td>\n",
       "    </tr>\n",
       "    <tr>\n",
       "      <th>1</th>\n",
       "      <td>Planetwise Wipe Pouch</td>\n",
       "      <td>it came early and was not disappointed. i love planet wise bags and now my wipe holder. it keps my osocozy wipes moist and does not leak. highly recommend it.</td>\n",
       "      <td>5</td>\n",
       "    </tr>\n",
       "    <tr>\n",
       "      <th>2</th>\n",
       "      <td>Annas Dream Full Quilt with 2 Shams</td>\n",
       "      <td>Very soft and comfortable and warmer than it looks...fit the full size bed perfectly...would recommend to anyone looking for this type of quilt</td>\n",
       "      <td>5</td>\n",
       "    </tr>\n",
       "    <tr>\n",
       "      <th>3</th>\n",
       "      <td>Stop Pacifier Sucking without tears with Thumbuddy To Love's Binky Fairy Puppet and Adorable Book</td>\n",
       "      <td>This is a product well worth the purchase.  I have not found anything else like this, and it is a positive, ingenious approach to losing the binky.  What I love most about this product is how much...</td>\n",
       "      <td>5</td>\n",
       "    </tr>\n",
       "    <tr>\n",
       "      <th>4</th>\n",
       "      <td>Stop Pacifier Sucking without tears with Thumbuddy To Love's Binky Fairy Puppet and Adorable Book</td>\n",
       "      <td>All of my kids have cried non-stop when I tried to ween them off their pacifier, until I found Thumbuddy To Love's Binky Fairy Puppet.  It is an easy way to work with your kids to allow them to un...</td>\n",
       "      <td>5</td>\n",
       "    </tr>\n",
       "    <tr>\n",
       "      <th>...</th>\n",
       "      <td>...</td>\n",
       "      <td>...</td>\n",
       "      <td>...</td>\n",
       "    </tr>\n",
       "    <tr>\n",
       "      <th>183526</th>\n",
       "      <td>Baby Teething Necklace for Mom Pretty Donut Shaped Pendant (Smokey Black)</td>\n",
       "      <td>Such a great idea! very handy to have and look really cool too, not to mention great for baby's gums to help reduce the pain of teething!</td>\n",
       "      <td>5</td>\n",
       "    </tr>\n",
       "    <tr>\n",
       "      <th>183527</th>\n",
       "      <td>Baby Teething Necklace for Mom Pretty Donut Shaped Pendant (Smokey Black)</td>\n",
       "      <td>This product rocks!  It is a great blend of function and fashion.  Aside from the unique concept of having something easily accessible and cool for baby to play and soothe themselves as cool acces...</td>\n",
       "      <td>5</td>\n",
       "    </tr>\n",
       "    <tr>\n",
       "      <th>183528</th>\n",
       "      <td>Abstract 2 PK Baby / Toddler Training Cup (Pink)</td>\n",
       "      <td>This item looks great and cool for my kids....I know this Company and its great in quality...</td>\n",
       "      <td>5</td>\n",
       "    </tr>\n",
       "    <tr>\n",
       "      <th>183529</th>\n",
       "      <td>Baby Food Freezer Tray - Bacteria Resistant, BPA and Phthalate Free - FREE Recipe E-book - Silicone Storage Container with Lid for Homemade Baby Food - 9 Easy-Out Portions - Lifetime Guarantee - P...</td>\n",
       "      <td>I am extremely happy with this product. I have been searching for a product like this for a long time and just not found the right one. I am a mum who is very into my organic products and unllike ...</td>\n",
       "      <td>5</td>\n",
       "    </tr>\n",
       "    <tr>\n",
       "      <th>183530</th>\n",
       "      <td>Best 2 Pack Baby Car Shade for Kids - Window Shade Baby - Cheapest Baby Sun Shade with Excellent Quality - Great Protection Car Window Shade for Travel, Trips, or Just for Shade - Better Than Brit...</td>\n",
       "      <td>I love this product very mush . I have bought many car shades earlier but they never protected me from direct sun exposure . But these really work well and It also Keeps the temperature of the car</td>\n",
       "      <td>5</td>\n",
       "    </tr>\n",
       "  </tbody>\n",
       "</table>\n",
       "<p>183531 rows × 3 columns</p>\n",
       "</div>"
      ],
      "text/plain": [
       "                                                                                                                                                                                                           name  \\\n",
       "0                                                                                                                                                                                      Planetwise Flannel Wipes   \n",
       "1                                                                                                                                                                                         Planetwise Wipe Pouch   \n",
       "2                                                                                                                                                                           Annas Dream Full Quilt with 2 Shams   \n",
       "3                                                                                                             Stop Pacifier Sucking without tears with Thumbuddy To Love's Binky Fairy Puppet and Adorable Book   \n",
       "4                                                                                                             Stop Pacifier Sucking without tears with Thumbuddy To Love's Binky Fairy Puppet and Adorable Book   \n",
       "...                                                                                                                                                                                                         ...   \n",
       "183526                                                                                                                                Baby Teething Necklace for Mom Pretty Donut Shaped Pendant (Smokey Black)   \n",
       "183527                                                                                                                                Baby Teething Necklace for Mom Pretty Donut Shaped Pendant (Smokey Black)   \n",
       "183528                                                                                                                                                         Abstract 2 PK Baby / Toddler Training Cup (Pink)   \n",
       "183529  Baby Food Freezer Tray - Bacteria Resistant, BPA and Phthalate Free - FREE Recipe E-book - Silicone Storage Container with Lid for Homemade Baby Food - 9 Easy-Out Portions - Lifetime Guarantee - P...   \n",
       "183530  Best 2 Pack Baby Car Shade for Kids - Window Shade Baby - Cheapest Baby Sun Shade with Excellent Quality - Great Protection Car Window Shade for Travel, Trips, or Just for Shade - Better Than Brit...   \n",
       "\n",
       "                                                                                                                                                                                                         review  \\\n",
       "0       These flannel wipes are OK, but in my opinion not worth keeping.  I also ordered someImse Vimse Cloth Wipes-Ocean Blue-12 countwhich are larger, had a nicer, softer texture and just seemed higher ...   \n",
       "1                                                it came early and was not disappointed. i love planet wise bags and now my wipe holder. it keps my osocozy wipes moist and does not leak. highly recommend it.   \n",
       "2                                                               Very soft and comfortable and warmer than it looks...fit the full size bed perfectly...would recommend to anyone looking for this type of quilt   \n",
       "3       This is a product well worth the purchase.  I have not found anything else like this, and it is a positive, ingenious approach to losing the binky.  What I love most about this product is how much...   \n",
       "4       All of my kids have cried non-stop when I tried to ween them off their pacifier, until I found Thumbuddy To Love's Binky Fairy Puppet.  It is an easy way to work with your kids to allow them to un...   \n",
       "...                                                                                                                                                                                                         ...   \n",
       "183526                                                                Such a great idea! very handy to have and look really cool too, not to mention great for baby's gums to help reduce the pain of teething!   \n",
       "183527  This product rocks!  It is a great blend of function and fashion.  Aside from the unique concept of having something easily accessible and cool for baby to play and soothe themselves as cool acces...   \n",
       "183528                                                                                                            This item looks great and cool for my kids....I know this Company and its great in quality...   \n",
       "183529  I am extremely happy with this product. I have been searching for a product like this for a long time and just not found the right one. I am a mum who is very into my organic products and unllike ...   \n",
       "183530     I love this product very mush . I have bought many car shades earlier but they never protected me from direct sun exposure . But these really work well and It also Keeps the temperature of the car   \n",
       "\n",
       "        rating  \n",
       "0            3  \n",
       "1            5  \n",
       "2            5  \n",
       "3            5  \n",
       "4            5  \n",
       "...        ...  \n",
       "183526       5  \n",
       "183527       5  \n",
       "183528       5  \n",
       "183529       5  \n",
       "183530       5  \n",
       "\n",
       "[183531 rows x 3 columns]"
      ]
     },
     "execution_count": 39,
     "metadata": {},
     "output_type": "execute_result"
    }
   ],
   "source": [
    "import pandas as pd\n",
    "import fractions\n",
    "import re\n",
    "import string\n",
    "import nltk\n",
    "import spacy \n",
    "import numpy as np\n",
    "import math\n",
    "from tqdm import tqdm \n",
    "\n",
    "from spacy.matcher import Matcher\n",
    "from spacy.tokens import Span\n",
    "from spacy import displacy\n",
    "pd.set_option('display.max_colwidth',200)\n",
    "\n",
    "\n",
    "data=pd.read_csv(\"amazon_baby.csv\",error_bad_lines=False)\n",
    "data"
   ]
  },
  {
   "cell_type": "code",
   "execution_count": 40,
   "id": "7cdc5112",
   "metadata": {},
   "outputs": [
    {
     "name": "stdout",
     "output_type": "stream",
     "text": [
      "Requirement already satisfied: Pystemmer in /Users/deth/opt/anaconda3/lib/python3.8/site-packages (2.0.1)\r\n"
     ]
    }
   ],
   "source": [
    "!pip3 install Pystemmer "
   ]
  },
  {
   "cell_type": "code",
   "execution_count": 41,
   "id": "48c2f2b7",
   "metadata": {},
   "outputs": [],
   "source": [
    "nlp=spacy.load('en_core_web_sm')\n"
   ]
  },
  {
   "cell_type": "code",
   "execution_count": 42,
   "id": "39bfad9a",
   "metadata": {},
   "outputs": [
    {
     "name": "stderr",
     "output_type": "stream",
     "text": [
      "<ipython-input-42-1da49a032119>:2: SettingWithCopyWarning: \n",
      "A value is trying to be set on a copy of a slice from a DataFrame.\n",
      "Try using .loc[row_indexer,col_indexer] = value instead\n",
      "\n",
      "See the caveats in the documentation: https://pandas.pydata.org/pandas-docs/stable/user_guide/indexing.html#returning-a-view-versus-a-copy\n",
      "  data_text['index']=data_text.index\n"
     ]
    },
    {
     "data": {
      "text/html": [
       "<div>\n",
       "<style scoped>\n",
       "    .dataframe tbody tr th:only-of-type {\n",
       "        vertical-align: middle;\n",
       "    }\n",
       "\n",
       "    .dataframe tbody tr th {\n",
       "        vertical-align: top;\n",
       "    }\n",
       "\n",
       "    .dataframe thead th {\n",
       "        text-align: right;\n",
       "    }\n",
       "</style>\n",
       "<table border=\"1\" class=\"dataframe\">\n",
       "  <thead>\n",
       "    <tr style=\"text-align: right;\">\n",
       "      <th></th>\n",
       "      <th>review</th>\n",
       "      <th>index</th>\n",
       "    </tr>\n",
       "  </thead>\n",
       "  <tbody>\n",
       "    <tr>\n",
       "      <th>0</th>\n",
       "      <td>These flannel wipes are OK, but in my opinion not worth keeping.  I also ordered someImse Vimse Cloth Wipes-Ocean Blue-12 countwhich are larger, had a nicer, softer texture and just seemed higher ...</td>\n",
       "      <td>0</td>\n",
       "    </tr>\n",
       "    <tr>\n",
       "      <th>1</th>\n",
       "      <td>it came early and was not disappointed. i love planet wise bags and now my wipe holder. it keps my osocozy wipes moist and does not leak. highly recommend it.</td>\n",
       "      <td>1</td>\n",
       "    </tr>\n",
       "    <tr>\n",
       "      <th>2</th>\n",
       "      <td>Very soft and comfortable and warmer than it looks...fit the full size bed perfectly...would recommend to anyone looking for this type of quilt</td>\n",
       "      <td>2</td>\n",
       "    </tr>\n",
       "    <tr>\n",
       "      <th>3</th>\n",
       "      <td>This is a product well worth the purchase.  I have not found anything else like this, and it is a positive, ingenious approach to losing the binky.  What I love most about this product is how much...</td>\n",
       "      <td>3</td>\n",
       "    </tr>\n",
       "    <tr>\n",
       "      <th>4</th>\n",
       "      <td>All of my kids have cried non-stop when I tried to ween them off their pacifier, until I found Thumbuddy To Love's Binky Fairy Puppet.  It is an easy way to work with your kids to allow them to un...</td>\n",
       "      <td>4</td>\n",
       "    </tr>\n",
       "    <tr>\n",
       "      <th>...</th>\n",
       "      <td>...</td>\n",
       "      <td>...</td>\n",
       "    </tr>\n",
       "    <tr>\n",
       "      <th>183526</th>\n",
       "      <td>Such a great idea! very handy to have and look really cool too, not to mention great for baby's gums to help reduce the pain of teething!</td>\n",
       "      <td>183526</td>\n",
       "    </tr>\n",
       "    <tr>\n",
       "      <th>183527</th>\n",
       "      <td>This product rocks!  It is a great blend of function and fashion.  Aside from the unique concept of having something easily accessible and cool for baby to play and soothe themselves as cool acces...</td>\n",
       "      <td>183527</td>\n",
       "    </tr>\n",
       "    <tr>\n",
       "      <th>183528</th>\n",
       "      <td>This item looks great and cool for my kids....I know this Company and its great in quality...</td>\n",
       "      <td>183528</td>\n",
       "    </tr>\n",
       "    <tr>\n",
       "      <th>183529</th>\n",
       "      <td>I am extremely happy with this product. I have been searching for a product like this for a long time and just not found the right one. I am a mum who is very into my organic products and unllike ...</td>\n",
       "      <td>183529</td>\n",
       "    </tr>\n",
       "    <tr>\n",
       "      <th>183530</th>\n",
       "      <td>I love this product very mush . I have bought many car shades earlier but they never protected me from direct sun exposure . But these really work well and It also Keeps the temperature of the car</td>\n",
       "      <td>183530</td>\n",
       "    </tr>\n",
       "  </tbody>\n",
       "</table>\n",
       "<p>183531 rows × 2 columns</p>\n",
       "</div>"
      ],
      "text/plain": [
       "                                                                                                                                                                                                         review  \\\n",
       "0       These flannel wipes are OK, but in my opinion not worth keeping.  I also ordered someImse Vimse Cloth Wipes-Ocean Blue-12 countwhich are larger, had a nicer, softer texture and just seemed higher ...   \n",
       "1                                                it came early and was not disappointed. i love planet wise bags and now my wipe holder. it keps my osocozy wipes moist and does not leak. highly recommend it.   \n",
       "2                                                               Very soft and comfortable and warmer than it looks...fit the full size bed perfectly...would recommend to anyone looking for this type of quilt   \n",
       "3       This is a product well worth the purchase.  I have not found anything else like this, and it is a positive, ingenious approach to losing the binky.  What I love most about this product is how much...   \n",
       "4       All of my kids have cried non-stop when I tried to ween them off their pacifier, until I found Thumbuddy To Love's Binky Fairy Puppet.  It is an easy way to work with your kids to allow them to un...   \n",
       "...                                                                                                                                                                                                         ...   \n",
       "183526                                                                Such a great idea! very handy to have and look really cool too, not to mention great for baby's gums to help reduce the pain of teething!   \n",
       "183527  This product rocks!  It is a great blend of function and fashion.  Aside from the unique concept of having something easily accessible and cool for baby to play and soothe themselves as cool acces...   \n",
       "183528                                                                                                            This item looks great and cool for my kids....I know this Company and its great in quality...   \n",
       "183529  I am extremely happy with this product. I have been searching for a product like this for a long time and just not found the right one. I am a mum who is very into my organic products and unllike ...   \n",
       "183530     I love this product very mush . I have bought many car shades earlier but they never protected me from direct sun exposure . But these really work well and It also Keeps the temperature of the car   \n",
       "\n",
       "         index  \n",
       "0            0  \n",
       "1            1  \n",
       "2            2  \n",
       "3            3  \n",
       "4            4  \n",
       "...        ...  \n",
       "183526  183526  \n",
       "183527  183527  \n",
       "183528  183528  \n",
       "183529  183529  \n",
       "183530  183530  \n",
       "\n",
       "[183531 rows x 2 columns]"
      ]
     },
     "execution_count": 42,
     "metadata": {},
     "output_type": "execute_result"
    }
   ],
   "source": [
    "data_text=data[[\"review\"]]\n",
    "data_text['index']=data_text.index\n",
    "\n",
    "documents=data_text\n",
    "documents\n",
    "\n"
   ]
  },
  {
   "cell_type": "code",
   "execution_count": 43,
   "id": "04cc5faf",
   "metadata": {},
   "outputs": [
    {
     "data": {
      "text/plain": [
       "\"All of my kids have cried non-stop when I tried to ween them off their pacifier, until I found Thumbuddy To Love's Binky Fairy Puppet.  It is an easy way to work with your kids to allow them to understand where their pacifier is going and help them part from it.This is a must buy book, and a great gift for expecting parents!!  You will save them soo many headaches.Thanks for this book!  You all rock!!\""
      ]
     },
     "execution_count": 43,
     "metadata": {},
     "output_type": "execute_result"
    }
   ],
   "source": [
    "documents[\"review\"][4]"
   ]
  },
  {
   "cell_type": "code",
   "execution_count": 44,
   "id": "14f59bfd",
   "metadata": {},
   "outputs": [
    {
     "data": {
      "text/plain": [
       "0         These flannel wipes are OK, but in my opinion not worth keeping.  I also ordered someImse Vimse Cloth Wipes-Ocean Blue-12 countwhich are larger, had a nicer, softer texture and just seemed higher ...\n",
       "1                                                  it came early and was not disappointed. i love planet wise bags and now my wipe holder. it keps my osocozy wipes moist and does not leak. highly recommend it.\n",
       "2                                                                 Very soft and comfortable and warmer than it looks...fit the full size bed perfectly...would recommend to anyone looking for this type of quilt\n",
       "3         This is a product well worth the purchase.  I have not found anything else like this, and it is a positive, ingenious approach to losing the binky.  What I love most about this product is how much...\n",
       "4         All of my kids have cried non-stop when I tried to ween them off their pacifier, until I found Thumbuddy To Love's Binky Fairy Puppet.  It is an easy way to work with your kids to allow them to un...\n",
       "                                                                                                           ...                                                                                                   \n",
       "183526                                                                  Such a great idea! very handy to have and look really cool too, not to mention great for baby's gums to help reduce the pain of teething!\n",
       "183527    This product rocks!  It is a great blend of function and fashion.  Aside from the unique concept of having something easily accessible and cool for baby to play and soothe themselves as cool acces...\n",
       "183528                                                                                                              This item looks great and cool for my kids....I know this Company and its great in quality...\n",
       "183529    I am extremely happy with this product. I have been searching for a product like this for a long time and just not found the right one. I am a mum who is very into my organic products and unllike ...\n",
       "183530       I love this product very mush . I have bought many car shades earlier but they never protected me from direct sun exposure . But these really work well and It also Keeps the temperature of the car\n",
       "Name: review, Length: 183531, dtype: object"
      ]
     },
     "execution_count": 44,
     "metadata": {},
     "output_type": "execute_result"
    }
   ],
   "source": [
    "documents[\"review\"]\n"
   ]
  },
  {
   "cell_type": "code",
   "execution_count": 45,
   "id": "21820589",
   "metadata": {},
   "outputs": [],
   "source": [
    "used_doc=documents[:57000]"
   ]
  },
  {
   "cell_type": "code",
   "execution_count": 46,
   "id": "4bdb3f3b",
   "metadata": {},
   "outputs": [
    {
     "data": {
      "text/html": [
       "<div>\n",
       "<style scoped>\n",
       "    .dataframe tbody tr th:only-of-type {\n",
       "        vertical-align: middle;\n",
       "    }\n",
       "\n",
       "    .dataframe tbody tr th {\n",
       "        vertical-align: top;\n",
       "    }\n",
       "\n",
       "    .dataframe thead th {\n",
       "        text-align: right;\n",
       "    }\n",
       "</style>\n",
       "<table border=\"1\" class=\"dataframe\">\n",
       "  <thead>\n",
       "    <tr style=\"text-align: right;\">\n",
       "      <th></th>\n",
       "      <th>review</th>\n",
       "      <th>index</th>\n",
       "    </tr>\n",
       "  </thead>\n",
       "  <tbody>\n",
       "    <tr>\n",
       "      <th>0</th>\n",
       "      <td>These flannel wipes are OK, but in my opinion not worth keeping.  I also ordered someImse Vimse Cloth Wipes-Ocean Blue-12 countwhich are larger, had a nicer, softer texture and just seemed higher ...</td>\n",
       "      <td>0</td>\n",
       "    </tr>\n",
       "    <tr>\n",
       "      <th>1</th>\n",
       "      <td>it came early and was not disappointed. i love planet wise bags and now my wipe holder. it keps my osocozy wipes moist and does not leak. highly recommend it.</td>\n",
       "      <td>1</td>\n",
       "    </tr>\n",
       "    <tr>\n",
       "      <th>2</th>\n",
       "      <td>Very soft and comfortable and warmer than it looks...fit the full size bed perfectly...would recommend to anyone looking for this type of quilt</td>\n",
       "      <td>2</td>\n",
       "    </tr>\n",
       "    <tr>\n",
       "      <th>3</th>\n",
       "      <td>This is a product well worth the purchase.  I have not found anything else like this, and it is a positive, ingenious approach to losing the binky.  What I love most about this product is how much...</td>\n",
       "      <td>3</td>\n",
       "    </tr>\n",
       "    <tr>\n",
       "      <th>4</th>\n",
       "      <td>All of my kids have cried non-stop when I tried to ween them off their pacifier, until I found Thumbuddy To Love's Binky Fairy Puppet.  It is an easy way to work with your kids to allow them to un...</td>\n",
       "      <td>4</td>\n",
       "    </tr>\n",
       "    <tr>\n",
       "      <th>...</th>\n",
       "      <td>...</td>\n",
       "      <td>...</td>\n",
       "    </tr>\n",
       "    <tr>\n",
       "      <th>56995</th>\n",
       "      <td>I bought this bottle when I was pregnant with my now 7 month old son. I purchased them because they were BPA free and they were suppose to be good for a baby who is both breast fed and bottle fed....</td>\n",
       "      <td>56995</td>\n",
       "    </tr>\n",
       "    <tr>\n",
       "      <th>56996</th>\n",
       "      <td>I buy them for being orthodontic but still my baby has not wanted to use. Even I could not convince her to use any kind of nipple</td>\n",
       "      <td>56996</td>\n",
       "    </tr>\n",
       "    <tr>\n",
       "      <th>56997</th>\n",
       "      <td>My baby has a strong suction and ends up gulping a lot of air with the slow flow nipples.  She is 3 weeks old and is switching between breast and this bottle.  I can hear the sound of milk flow pl...</td>\n",
       "      <td>56997</td>\n",
       "    </tr>\n",
       "    <tr>\n",
       "      <th>56998</th>\n",
       "      <td>This is a cute bottle but not my baby's favorite.  She prefers Dr. Brown's Natural Flow Feeding Bottles or Playtex VentAire Bottles -- both of which are available on Amazon.</td>\n",
       "      <td>56998</td>\n",
       "    </tr>\n",
       "    <tr>\n",
       "      <th>56999</th>\n",
       "      <td>Boring. I thought my very alert baby would love this... Nope! He does like the contrast books and flash cards; but forget about this mobile!</td>\n",
       "      <td>56999</td>\n",
       "    </tr>\n",
       "  </tbody>\n",
       "</table>\n",
       "<p>57000 rows × 2 columns</p>\n",
       "</div>"
      ],
      "text/plain": [
       "                                                                                                                                                                                                        review  \\\n",
       "0      These flannel wipes are OK, but in my opinion not worth keeping.  I also ordered someImse Vimse Cloth Wipes-Ocean Blue-12 countwhich are larger, had a nicer, softer texture and just seemed higher ...   \n",
       "1                                               it came early and was not disappointed. i love planet wise bags and now my wipe holder. it keps my osocozy wipes moist and does not leak. highly recommend it.   \n",
       "2                                                              Very soft and comfortable and warmer than it looks...fit the full size bed perfectly...would recommend to anyone looking for this type of quilt   \n",
       "3      This is a product well worth the purchase.  I have not found anything else like this, and it is a positive, ingenious approach to losing the binky.  What I love most about this product is how much...   \n",
       "4      All of my kids have cried non-stop when I tried to ween them off their pacifier, until I found Thumbuddy To Love's Binky Fairy Puppet.  It is an easy way to work with your kids to allow them to un...   \n",
       "...                                                                                                                                                                                                        ...   \n",
       "56995  I bought this bottle when I was pregnant with my now 7 month old son. I purchased them because they were BPA free and they were suppose to be good for a baby who is both breast fed and bottle fed....   \n",
       "56996                                                                        I buy them for being orthodontic but still my baby has not wanted to use. Even I could not convince her to use any kind of nipple   \n",
       "56997  My baby has a strong suction and ends up gulping a lot of air with the slow flow nipples.  She is 3 weeks old and is switching between breast and this bottle.  I can hear the sound of milk flow pl...   \n",
       "56998                            This is a cute bottle but not my baby's favorite.  She prefers Dr. Brown's Natural Flow Feeding Bottles or Playtex VentAire Bottles -- both of which are available on Amazon.   \n",
       "56999                                                             Boring. I thought my very alert baby would love this... Nope! He does like the contrast books and flash cards; but forget about this mobile!   \n",
       "\n",
       "       index  \n",
       "0          0  \n",
       "1          1  \n",
       "2          2  \n",
       "3          3  \n",
       "4          4  \n",
       "...      ...  \n",
       "56995  56995  \n",
       "56996  56996  \n",
       "56997  56997  \n",
       "56998  56998  \n",
       "56999  56999  \n",
       "\n",
       "[57000 rows x 2 columns]"
      ]
     },
     "execution_count": 46,
     "metadata": {},
     "output_type": "execute_result"
    }
   ],
   "source": [
    "used_doc"
   ]
  },
  {
   "cell_type": "code",
   "execution_count": 47,
   "id": "893d16e0",
   "metadata": {},
   "outputs": [
    {
     "name": "stderr",
     "output_type": "stream",
     "text": [
      "<ipython-input-47-ada661c3bb41>:1: SettingWithCopyWarning: \n",
      "A value is trying to be set on a copy of a slice from a DataFrame\n",
      "\n",
      "See the caveats in the documentation: https://pandas.pydata.org/pandas-docs/stable/user_guide/indexing.html#returning-a-view-versus-a-copy\n",
      "  used_doc.dropna(subset = [\"review\"], inplace=True) # drop those rows which have NaN value cells\n"
     ]
    }
   ],
   "source": [
    "used_doc.dropna(subset = [\"review\"], inplace=True) # drop those rows which have NaN value cells"
   ]
  },
  {
   "cell_type": "code",
   "execution_count": 48,
   "id": "e7d99e73",
   "metadata": {},
   "outputs": [
    {
     "name": "stderr",
     "output_type": "stream",
     "text": [
      "[nltk_data] Downloading package wordnet to /Users/deth/nltk_data...\n",
      "[nltk_data]   Package wordnet is already up-to-date!\n"
     ]
    },
    {
     "data": {
      "text/plain": [
       "True"
      ]
     },
     "execution_count": 48,
     "metadata": {},
     "output_type": "execute_result"
    }
   ],
   "source": [
    "import gensim\n",
    "from gensim.utils import simple_preprocess\n",
    "from gensim.parsing.preprocessing import STOPWORDS\n",
    "from nltk.stem import WordNetLemmatizer, SnowballStemmer\n",
    "import nltk.stem as stemmer\n",
    "from nltk.stem.porter import *\n",
    "import numpy as np\n",
    "np.random.seed(2018)\n",
    "import nltk\n",
    "nltk.download('wordnet')"
   ]
  },
  {
   "cell_type": "code",
   "execution_count": 49,
   "id": "fdb152a8",
   "metadata": {},
   "outputs": [],
   "source": [
    "stemmer=PorterStemmer()\n",
    "def lemmatize_stemming(text):\n",
    "      return stemmer.stem(WordNetLemmatizer().lemmatize(text,pos='v'))\n",
    "\n",
    "def preprocess(text):\n",
    "    result=[]\n",
    "    for token in gensim.utils.simple_preprocess(text):\n",
    "        if token not in gensim.parsing.preprocessing.STOPWORDS and len(token) >3:\n",
    "              result.append(lemmatize_stemming(token))\n",
    "  \n",
    "    return result"
   ]
  },
  {
   "cell_type": "code",
   "execution_count": 50,
   "id": "6422c6bc",
   "metadata": {},
   "outputs": [
    {
     "name": "stdout",
     "output_type": "stream",
     "text": [
      "original document\n",
      "['All', 'of', 'my', 'kids', 'have', 'cried', 'non-stop', 'when', 'I', 'tried', 'to', 'ween', 'them', 'off', 'their', 'pacifier,', 'until', 'I', 'found', 'Thumbuddy', 'To', \"Love's\", 'Binky', 'Fairy', 'Puppet.', '', 'It', 'is', 'an', 'easy', 'way', 'to', 'work', 'with', 'your', 'kids', 'to', 'allow', 'them', 'to', 'understand', 'where', 'their', 'pacifier', 'is', 'going', 'and', 'help', 'them', 'part', 'from', 'it.This', 'is', 'a', 'must', 'buy', 'book,', 'and', 'a', 'great', 'gift', 'for', 'expecting', 'parents!!', '', 'You', 'will', 'save', 'them', 'soo', 'many', 'headaches.Thanks', 'for', 'this', 'book!', '', 'You', 'all', 'rock!!']\n",
      "\n",
      "\n",
      " tokenized and lemmatized document: \n",
      "['kid', 'cri', 'stop', 'tri', 'ween', 'pacifi', 'thumbuddi', 'love', 'binki', 'fairi', 'puppet', 'easi', 'work', 'kid', 'allow', 'understand', 'pacifi', 'go', 'help', 'book', 'great', 'gift', 'expect', 'parent', 'save', 'headach', 'thank', 'book', 'rock']\n"
     ]
    }
   ],
   "source": [
    "doc_sample=used_doc[used_doc['index']==4].values[0][0]\n",
    "print('original document')\n",
    "words=[]\n",
    "for word in doc_sample.split(' '):\n",
    "      words.append(word)\n",
    "print(words)\n",
    "print('\\n\\n tokenized and lemmatized document: ')\n",
    "print(preprocess(doc_sample))"
   ]
  },
  {
   "cell_type": "code",
   "execution_count": 51,
   "id": "6ced4612",
   "metadata": {},
   "outputs": [
    {
     "data": {
      "text/plain": [
       "0    [flannel, wipe, opinion, worth, keep, order, someims, vims, cloth, wipe, ocean, blue, countwhich, larger, nicer, softer, textur, higher, qualiti, cloth, wipe, hand, face, usingthirsti, pack, wipe,...\n",
       "1                                                                                       [come, earli, disappoint, love, planet, wise, bag, wipe, holder, kep, osocozi, wipe, moist, leak, highli, recommend]\n",
       "2                                                                                                                               [soft, comfort, warmer, look, size, perfectli, recommend, look, type, quilt]\n",
       "3             [product, worth, purchas, like, posit, ingeni, approach, lose, binki, love, product, ownership, daughter, get, binki, proud, love, littl, fairi, love, artwork, chart, clever, approach, tool]\n",
       "4      [kid, cri, stop, tri, ween, pacifi, thumbuddi, love, binki, fairi, puppet, easi, work, kid, allow, understand, pacifi, go, help, book, great, gift, expect, parent, save, headach, thank, book, rock]\n",
       "5    [binki, fairi, come, hous, special, gift, book, help, explain, import, stop, pacifi, book, great, help, prepar, child, loss, favorit, item, doll, ador, lot, cute, movi, binki, fairi, tell, daughte...\n",
       "6                                                                                   [love, book, bind, tightli, abl, alot, photo, card, asid, design, space, book, shop, purchas, current, list, barn, nobl]\n",
       "7                                                                  [perfect, parent, abl, track, babi, feed, sleep, diaper, chang, schedul, half, month, life, life, easier, doctor, question, habit, right]\n",
       "8                                                                                                   [friend, pin, product, pinterest, decid, whirl, fantast, parent, help, track, feed, diaper, chang, like]\n",
       "9                                   [easi, nanni, record, event, happen, babi, home, highli, recommend, want, stay, inform, babi, home, reason, think, standarad, print, option, plan, order, page, journal]\n",
       "Name: review, dtype: object"
      ]
     },
     "execution_count": 51,
     "metadata": {},
     "output_type": "execute_result"
    }
   ],
   "source": [
    "processed_docs = used_doc['review'].map(preprocess)\n",
    "processed_docs[:10]"
   ]
  },
  {
   "cell_type": "code",
   "execution_count": 52,
   "id": "05cbb6ec",
   "metadata": {},
   "outputs": [
    {
     "data": {
      "text/plain": [
       "['kid',\n",
       " 'cri',\n",
       " 'stop',\n",
       " 'tri',\n",
       " 'ween',\n",
       " 'pacifi',\n",
       " 'thumbuddi',\n",
       " 'love',\n",
       " 'binki',\n",
       " 'fairi',\n",
       " 'puppet',\n",
       " 'easi',\n",
       " 'work',\n",
       " 'kid',\n",
       " 'allow',\n",
       " 'understand',\n",
       " 'pacifi',\n",
       " 'go',\n",
       " 'help',\n",
       " 'book',\n",
       " 'great',\n",
       " 'gift',\n",
       " 'expect',\n",
       " 'parent',\n",
       " 'save',\n",
       " 'headach',\n",
       " 'thank',\n",
       " 'book',\n",
       " 'rock']"
      ]
     },
     "execution_count": 52,
     "metadata": {},
     "output_type": "execute_result"
    }
   ],
   "source": [
    "test=processed_docs[4]\n",
    "test"
   ]
  },
  {
   "cell_type": "code",
   "execution_count": 53,
   "id": "dc2b524c",
   "metadata": {},
   "outputs": [
    {
     "name": "stdout",
     "output_type": "stream",
     "text": [
      "0 blue\n",
      "1 boyfor\n",
      "2 cloth\n",
      "3 countwhich\n",
      "4 face\n",
      "5 flannel\n",
      "6 hand\n",
      "7 handl\n",
      "8 higher\n",
      "9 issu\n",
      "10 keep\n"
     ]
    }
   ],
   "source": [
    "dictionary=gensim.corpora.Dictionary(processed_docs)\n",
    "count=0\n",
    "\n",
    "for k,v in dictionary.iteritems():\n",
    "    print(k,v)\n",
    "    count+=1\n",
    "    if count>10:\n",
    "        break"
   ]
  },
  {
   "cell_type": "code",
   "execution_count": 54,
   "id": "1b09785e",
   "metadata": {},
   "outputs": [
    {
     "name": "stdout",
     "output_type": "stream",
     "text": [
      "Pairs\n",
      "[('kid', 2), ('cri', 1), ('stop', 1), ('tri', 1), ('ween', 1), ('pacifi', 2), ('thumbuddi', 1), ('love', 1), ('binki', 1), ('fairi', 1), ('puppet', 1), ('easi', 1), ('work', 1), ('kid', 2), ('allow', 1), ('understand', 1), ('pacifi', 2), ('go', 1), ('help', 1), ('book', 2), ('great', 1), ('gift', 1), ('expect', 1), ('parent', 1), ('save', 1), ('headach', 1), ('thank', 1), ('book', 2), ('rock', 1)]\n"
     ]
    }
   ],
   "source": [
    "wordfreq = []\n",
    "for w in test:\n",
    "    wordfreq.append(test.count(w))\n",
    "\n",
    "\n",
    "print(\"Pairs\\n\" + str(list(zip(test, wordfreq))))"
   ]
  },
  {
   "cell_type": "code",
   "execution_count": 55,
   "id": "57934f47",
   "metadata": {},
   "outputs": [
    {
     "name": "stdout",
     "output_type": "stream",
     "text": [
      "2\n"
     ]
    }
   ],
   "source": [
    "print(max(wordfreq))"
   ]
  },
  {
   "cell_type": "code",
   "execution_count": 56,
   "id": "6633ab67",
   "metadata": {},
   "outputs": [
    {
     "name": "stdout",
     "output_type": "stream",
     "text": [
      "Pairs\n",
      "[('kid', 2), ('cri', 1), ('stop', 1), ('tri', 1), ('ween', 1), ('pacifi', 2), ('thumbuddi', 1), ('love', 1), ('binki', 1), ('fairi', 1), ('puppet', 1), ('easi', 1), ('work', 1), ('kid', 2), ('allow', 1), ('understand', 1), ('pacifi', 2), ('go', 1), ('help', 1), ('book', 2), ('great', 1), ('gift', 1), ('expect', 1), ('parent', 1), ('save', 1), ('headach', 1), ('thank', 1), ('book', 2), ('rock', 1)]\n"
     ]
    }
   ],
   "source": [
    "if max(wordfreq):\n",
    "    print(\"Pairs\\n\" + str(list(zip(test, wordfreq))))\n",
    "        "
   ]
  },
  {
   "cell_type": "code",
   "execution_count": 57,
   "id": "f265603f",
   "metadata": {},
   "outputs": [],
   "source": [
    "test_text=nlp(doc_sample)\n",
    "\n",
    "\n"
   ]
  },
  {
   "cell_type": "code",
   "execution_count": 58,
   "id": "cdf1262d",
   "metadata": {},
   "outputs": [
    {
     "name": "stdout",
     "output_type": "stream",
     "text": [
      "All -> nsubj -> PRON\n",
      "of -> prep -> ADP\n",
      "my -> poss -> PRON\n",
      "kids -> pobj -> NOUN\n",
      "have -> aux -> AUX\n",
      "cried -> ROOT -> VERB\n",
      "non -> dobj -> ADJ\n",
      "- -> xcomp -> ADJ\n",
      "stop -> dobj -> NOUN\n",
      "when -> advmod -> SCONJ\n",
      "I -> nsubj -> PRON\n",
      "tried -> advcl -> VERB\n",
      "to -> aux -> PART\n",
      "ween -> xcomp -> VERB\n",
      "them -> dobj -> PRON\n",
      "off -> prep -> ADP\n",
      "their -> poss -> PRON\n",
      "pacifier -> pobj -> NOUN\n",
      ", -> punct -> PUNCT\n",
      "until -> mark -> SCONJ\n",
      "I -> nsubj -> PRON\n",
      "found -> advcl -> VERB\n",
      "Thumbuddy -> dobj -> PROPN\n",
      "To -> prep -> ADP\n",
      "Love -> poss -> PROPN\n",
      "'s -> case -> PART\n",
      "Binky -> compound -> PROPN\n",
      "Fairy -> compound -> PROPN\n",
      "Puppet -> pobj -> PROPN\n",
      ". -> punct -> PUNCT\n",
      "  -> dep -> SPACE\n",
      "It -> nsubj -> PRON\n",
      "is -> ROOT -> AUX\n",
      "an -> det -> DET\n",
      "easy -> amod -> ADJ\n",
      "way -> attr -> NOUN\n",
      "to -> aux -> PART\n",
      "work -> relcl -> VERB\n",
      "with -> prep -> ADP\n",
      "your -> poss -> PRON\n",
      "kids -> pobj -> NOUN\n",
      "to -> aux -> PART\n",
      "allow -> advcl -> VERB\n",
      "them -> nsubj -> PRON\n",
      "to -> aux -> PART\n",
      "understand -> ccomp -> VERB\n",
      "where -> advmod -> SCONJ\n",
      "their -> poss -> PRON\n",
      "pacifier -> nsubj -> NOUN\n",
      "is -> aux -> AUX\n",
      "going -> ccomp -> VERB\n",
      "and -> cc -> CCONJ\n",
      "help -> conj -> VERB\n",
      "them -> dobj -> PRON\n",
      "part -> dobj -> NOUN\n",
      "from -> prep -> ADP\n",
      "it -> pobj -> PRON\n",
      ". -> punct -> PUNCT\n",
      "This -> nsubj -> PRON\n",
      "is -> ROOT -> AUX\n",
      "a -> nsubj -> PRON\n",
      "must -> aux -> AUX\n",
      "buy -> attr -> VERB\n",
      "book -> dobj -> NOUN\n",
      ", -> punct -> PUNCT\n",
      "and -> cc -> CCONJ\n",
      "a -> det -> DET\n",
      "great -> amod -> ADJ\n",
      "gift -> conj -> NOUN\n",
      "for -> prep -> ADP\n",
      "expecting -> pcomp -> VERB\n",
      "parents -> dobj -> NOUN\n",
      "! -> punct -> PUNCT\n",
      "! -> punct -> PUNCT\n",
      "  -> dep -> SPACE\n",
      "You -> nsubj -> PRON\n",
      "will -> aux -> AUX\n",
      "save -> ROOT -> VERB\n",
      "them -> dative -> PRON\n",
      "soo -> dobj -> NOUN\n",
      "many -> amod -> ADJ\n",
      "headaches -> dobj -> NOUN\n",
      ". -> punct -> PUNCT\n",
      "Thanks -> ROOT -> NOUN\n",
      "for -> prep -> ADP\n",
      "this -> det -> DET\n",
      "book -> pobj -> NOUN\n",
      "! -> punct -> PUNCT\n",
      "  -> dep -> SPACE\n",
      "You -> nsubj -> PRON\n",
      "all -> det -> DET\n",
      "rock -> ROOT -> NOUN\n",
      "! -> punct -> PUNCT\n",
      "! -> punct -> PUNCT\n"
     ]
    }
   ],
   "source": [
    "for tok in test_text:\n",
    "    print(tok.text,'->',tok.dep_,'->',tok.pos_)"
   ]
  },
  {
   "cell_type": "code",
   "execution_count": 59,
   "id": "5fd9e60d",
   "metadata": {},
   "outputs": [
    {
     "name": "stdout",
     "output_type": "stream",
     "text": [
      "kids -> pobj -> NOUN\n",
      "stop -> dobj -> NOUN\n",
      "pacifier -> pobj -> NOUN\n",
      "way -> attr -> NOUN\n",
      "kids -> pobj -> NOUN\n",
      "pacifier -> nsubj -> NOUN\n",
      "part -> dobj -> NOUN\n",
      "book -> dobj -> NOUN\n",
      "gift -> conj -> NOUN\n",
      "parents -> dobj -> NOUN\n",
      "soo -> dobj -> NOUN\n",
      "headaches -> dobj -> NOUN\n",
      "Thanks -> ROOT -> NOUN\n",
      "book -> pobj -> NOUN\n",
      "rock -> ROOT -> NOUN\n"
     ]
    }
   ],
   "source": [
    "for tok in test_text:\n",
    "    if tok.pos_=='NOUN':\n",
    "        print(tok.text,'->',tok.dep_,'->',tok.pos_)"
   ]
  },
  {
   "cell_type": "code",
   "execution_count": 61,
   "id": "c1b964b3",
   "metadata": {},
   "outputs": [
    {
     "name": "stdout",
     "output_type": "stream",
     "text": [
      "kids -> NOUN\n",
      "stop -> NOUN\n",
      "pacifier -> NOUN\n",
      "way -> NOUN\n",
      "kids -> NOUN\n",
      "pacifier -> NOUN\n",
      "part -> NOUN\n",
      "book -> NOUN\n",
      "gift -> NOUN\n",
      "parents -> NOUN\n",
      "soo -> NOUN\n",
      "headaches -> NOUN\n",
      "Thanks -> NOUN\n",
      "book -> NOUN\n",
      "rock -> NOUN\n"
     ]
    }
   ],
   "source": [
    "noun=[]\n",
    "for tok in test_text:\n",
    "    if tok.pos_=='NOUN':\n",
    "        print(tok.text,'->',tok.pos_)\n",
    "        noun.append(tok.text)"
   ]
  },
  {
   "cell_type": "code",
   "execution_count": 62,
   "id": "1f43e9d4",
   "metadata": {},
   "outputs": [
    {
     "data": {
      "text/plain": [
       "['kids',\n",
       " 'stop',\n",
       " 'pacifier',\n",
       " 'way',\n",
       " 'kids',\n",
       " 'pacifier',\n",
       " 'part',\n",
       " 'book',\n",
       " 'gift',\n",
       " 'parents',\n",
       " 'soo',\n",
       " 'headaches',\n",
       " 'Thanks',\n",
       " 'book',\n",
       " 'rock']"
      ]
     },
     "execution_count": 62,
     "metadata": {},
     "output_type": "execute_result"
    }
   ],
   "source": [
    "noun"
   ]
  },
  {
   "cell_type": "code",
   "execution_count": 63,
   "id": "b3d32f2f",
   "metadata": {},
   "outputs": [
    {
     "name": "stdout",
     "output_type": "stream",
     "text": [
      "Pairs\n",
      "[('kids', 2), ('stop', 1), ('pacifier', 2), ('way', 1), ('kids', 2), ('pacifier', 2), ('part', 1), ('book', 2), ('gift', 1), ('parents', 1), ('soo', 1), ('headaches', 1), ('Thanks', 1), ('book', 2), ('rock', 1)]\n"
     ]
    }
   ],
   "source": [
    "word_freq = []\n",
    "for w in noun:\n",
    "    word_freq.append(noun.count(w))\n",
    "\n",
    "\n",
    "print(\"Pairs\\n\" + str(list(zip(noun, word_freq))))"
   ]
  },
  {
   "cell_type": "code",
   "execution_count": 69,
   "id": "569b913e",
   "metadata": {},
   "outputs": [],
   "source": [
    "test_list= (list(zip(noun, word_freq)))"
   ]
  },
  {
   "cell_type": "code",
   "execution_count": 70,
   "id": "12dce5bc",
   "metadata": {},
   "outputs": [
    {
     "data": {
      "text/plain": [
       "[('kids', 2),\n",
       " ('stop', 1),\n",
       " ('pacifier', 2),\n",
       " ('way', 1),\n",
       " ('kids', 2),\n",
       " ('pacifier', 2),\n",
       " ('part', 1),\n",
       " ('book', 2),\n",
       " ('gift', 1),\n",
       " ('parents', 1),\n",
       " ('soo', 1),\n",
       " ('headaches', 1),\n",
       " ('Thanks', 1),\n",
       " ('book', 2),\n",
       " ('rock', 1)]"
      ]
     },
     "execution_count": 70,
     "metadata": {},
     "output_type": "execute_result"
    }
   ],
   "source": [
    "test_list"
   ]
  },
  {
   "cell_type": "code",
   "execution_count": 72,
   "id": "9ec65465",
   "metadata": {},
   "outputs": [
    {
     "name": "stdout",
     "output_type": "stream",
     "text": [
      "kids 2\n",
      "pacifier 2\n",
      "kids 2\n",
      "pacifier 2\n",
      "book 2\n",
      "book 2\n"
     ]
    }
   ],
   "source": [
    "for i in test_list:\n",
    "    if i[1]==max(word_freq):\n",
    "        print(i[0],i[1])"
   ]
  },
  {
   "cell_type": "code",
   "execution_count": 73,
   "id": "2156a624",
   "metadata": {},
   "outputs": [],
   "source": []
  },
  {
   "cell_type": "code",
   "execution_count": null,
   "id": "525b851a",
   "metadata": {},
   "outputs": [],
   "source": []
  },
  {
   "cell_type": "code",
   "execution_count": null,
   "id": "1917915f",
   "metadata": {},
   "outputs": [],
   "source": []
  },
  {
   "cell_type": "code",
   "execution_count": null,
   "id": "4dafcfe1",
   "metadata": {},
   "outputs": [],
   "source": []
  },
  {
   "cell_type": "code",
   "execution_count": null,
   "id": "3829b5fd",
   "metadata": {},
   "outputs": [],
   "source": []
  },
  {
   "cell_type": "code",
   "execution_count": null,
   "id": "60b38fd0",
   "metadata": {},
   "outputs": [],
   "source": []
  }
 ],
 "metadata": {
  "kernelspec": {
   "display_name": "Python 3",
   "language": "python",
   "name": "python3"
  },
  "language_info": {
   "codemirror_mode": {
    "name": "ipython",
    "version": 3
   },
   "file_extension": ".py",
   "mimetype": "text/x-python",
   "name": "python",
   "nbconvert_exporter": "python",
   "pygments_lexer": "ipython3",
   "version": "3.8.8"
  }
 },
 "nbformat": 4,
 "nbformat_minor": 5
}
