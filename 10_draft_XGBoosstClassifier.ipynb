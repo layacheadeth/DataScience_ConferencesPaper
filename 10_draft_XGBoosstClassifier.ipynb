{
 "cells": [
  {
   "cell_type": "code",
   "execution_count": 1,
   "id": "aad6805c",
   "metadata": {},
   "outputs": [
    {
     "data": {
      "text/html": [
       "<div>\n",
       "<style scoped>\n",
       "    .dataframe tbody tr th:only-of-type {\n",
       "        vertical-align: middle;\n",
       "    }\n",
       "\n",
       "    .dataframe tbody tr th {\n",
       "        vertical-align: top;\n",
       "    }\n",
       "\n",
       "    .dataframe thead th {\n",
       "        text-align: right;\n",
       "    }\n",
       "</style>\n",
       "<table border=\"1\" class=\"dataframe\">\n",
       "  <thead>\n",
       "    <tr style=\"text-align: right;\">\n",
       "      <th></th>\n",
       "      <th>Product</th>\n",
       "      <th>name</th>\n",
       "      <th>Category</th>\n",
       "    </tr>\n",
       "  </thead>\n",
       "  <tbody>\n",
       "    <tr>\n",
       "      <th>0</th>\n",
       "      <td>Baby Trend Diaper Champ</td>\n",
       "      <td>333</td>\n",
       "      <td>Diapering</td>\n",
       "    </tr>\n",
       "    <tr>\n",
       "      <th>1</th>\n",
       "      <td>BABYBJORN Potty Chair - Red</td>\n",
       "      <td>232</td>\n",
       "      <td>Nursery</td>\n",
       "    </tr>\n",
       "    <tr>\n",
       "      <th>2</th>\n",
       "      <td>Philips Avent 3 Pack 9oz Bottles</td>\n",
       "      <td>191</td>\n",
       "      <td>Baby_care</td>\n",
       "    </tr>\n",
       "    <tr>\n",
       "      <th>3</th>\n",
       "      <td>Munchkin Mozart Magic Cube</td>\n",
       "      <td>191</td>\n",
       "      <td>Activity_entertainment</td>\n",
       "    </tr>\n",
       "    <tr>\n",
       "      <th>4</th>\n",
       "      <td>PRIMO EuroBath, Pearl White</td>\n",
       "      <td>182</td>\n",
       "      <td>Nursery</td>\n",
       "    </tr>\n",
       "    <tr>\n",
       "      <th>...</th>\n",
       "      <td>...</td>\n",
       "      <td>...</td>\n",
       "      <td>...</td>\n",
       "    </tr>\n",
       "    <tr>\n",
       "      <th>356</th>\n",
       "      <td>Semanario (7) Little Girls 14k Gold Overlay Ba...</td>\n",
       "      <td>1</td>\n",
       "      <td>Apparel_accessories</td>\n",
       "    </tr>\n",
       "    <tr>\n",
       "      <th>357</th>\n",
       "      <td>Gerber Diaper Service Cloth Diapers (6-pk.)</td>\n",
       "      <td>1</td>\n",
       "      <td>Diapering</td>\n",
       "    </tr>\n",
       "    <tr>\n",
       "      <th>358</th>\n",
       "      <td>Large Jungle Animals (Panda, Lion, Elephant, G...</td>\n",
       "      <td>1</td>\n",
       "      <td>Baby_toddler_toys</td>\n",
       "    </tr>\n",
       "    <tr>\n",
       "      <th>359</th>\n",
       "      <td>Beautiful Girl and Black Flower Removable Viny...</td>\n",
       "      <td>1</td>\n",
       "      <td>Nursery</td>\n",
       "    </tr>\n",
       "    <tr>\n",
       "      <th>360</th>\n",
       "      <td>Playtex VentAire Bottle 6 oz. - 1 pk.</td>\n",
       "      <td>1</td>\n",
       "      <td>Baby_care</td>\n",
       "    </tr>\n",
       "  </tbody>\n",
       "</table>\n",
       "<p>361 rows × 3 columns</p>\n",
       "</div>"
      ],
      "text/plain": [
       "                                               Product  name  \\\n",
       "0                              Baby Trend Diaper Champ   333   \n",
       "1                          BABYBJORN Potty Chair - Red   232   \n",
       "2                     Philips Avent 3 Pack 9oz Bottles   191   \n",
       "3                           Munchkin Mozart Magic Cube   191   \n",
       "4                          PRIMO EuroBath, Pearl White   182   \n",
       "..                                                 ...   ...   \n",
       "356  Semanario (7) Little Girls 14k Gold Overlay Ba...     1   \n",
       "357        Gerber Diaper Service Cloth Diapers (6-pk.)     1   \n",
       "358  Large Jungle Animals (Panda, Lion, Elephant, G...     1   \n",
       "359  Beautiful Girl and Black Flower Removable Viny...     1   \n",
       "360              Playtex VentAire Bottle 6 oz. - 1 pk.     1   \n",
       "\n",
       "                   Category  \n",
       "0                 Diapering  \n",
       "1                   Nursery  \n",
       "2                 Baby_care  \n",
       "3    Activity_entertainment  \n",
       "4                   Nursery  \n",
       "..                      ...  \n",
       "356     Apparel_accessories  \n",
       "357               Diapering  \n",
       "358       Baby_toddler_toys  \n",
       "359                 Nursery  \n",
       "360               Baby_care  \n",
       "\n",
       "[361 rows x 3 columns]"
      ]
     },
     "execution_count": 1,
     "metadata": {},
     "output_type": "execute_result"
    }
   ],
   "source": [
    "import pandas as pd\n",
    "import fractions\n",
    "import re\n",
    "import string\n",
    "import nltk\n",
    "import spacy \n",
    "import numpy as np\n",
    "import math\n",
    "from tqdm import tqdm \n",
    "\n",
    "from spacy.matcher import Matcher\n",
    "from spacy.tokens import Span\n",
    "from spacy import displacy\n",
    "\n",
    "\n",
    "\n",
    "data=pd.read_csv(\"df_product_test.csv\")\n",
    "data"
   ]
  },
  {
   "cell_type": "code",
   "execution_count": 2,
   "id": "431c61b1",
   "metadata": {},
   "outputs": [],
   "source": [
    "from sklearn.feature_extraction.text import CountVectorizer\n",
    "from sklearn.model_selection import train_test_split\n",
    "\n",
    "\n",
    "from sklearn.metrics import accuracy_score\n",
    "from sklearn.metrics import classification_report\n",
    "from sklearn.metrics import f1_score"
   ]
  },
  {
   "cell_type": "code",
   "execution_count": 3,
   "id": "0f4d1ffe",
   "metadata": {},
   "outputs": [],
   "source": [
    "data_new = data.rename(columns={'total': 'name'}, index={'ONE': 'Row_1'})\n"
   ]
  },
  {
   "cell_type": "code",
   "execution_count": 4,
   "id": "004048b3",
   "metadata": {},
   "outputs": [
    {
     "data": {
      "text/html": [
       "<div>\n",
       "<style scoped>\n",
       "    .dataframe tbody tr th:only-of-type {\n",
       "        vertical-align: middle;\n",
       "    }\n",
       "\n",
       "    .dataframe tbody tr th {\n",
       "        vertical-align: top;\n",
       "    }\n",
       "\n",
       "    .dataframe thead th {\n",
       "        text-align: right;\n",
       "    }\n",
       "</style>\n",
       "<table border=\"1\" class=\"dataframe\">\n",
       "  <thead>\n",
       "    <tr style=\"text-align: right;\">\n",
       "      <th></th>\n",
       "      <th>Product</th>\n",
       "      <th>name</th>\n",
       "      <th>Category</th>\n",
       "    </tr>\n",
       "  </thead>\n",
       "  <tbody>\n",
       "    <tr>\n",
       "      <th>0</th>\n",
       "      <td>Baby Trend Diaper Champ</td>\n",
       "      <td>333</td>\n",
       "      <td>Diapering</td>\n",
       "    </tr>\n",
       "    <tr>\n",
       "      <th>1</th>\n",
       "      <td>BABYBJORN Potty Chair - Red</td>\n",
       "      <td>232</td>\n",
       "      <td>Nursery</td>\n",
       "    </tr>\n",
       "    <tr>\n",
       "      <th>2</th>\n",
       "      <td>Philips Avent 3 Pack 9oz Bottles</td>\n",
       "      <td>191</td>\n",
       "      <td>Baby_care</td>\n",
       "    </tr>\n",
       "    <tr>\n",
       "      <th>3</th>\n",
       "      <td>Munchkin Mozart Magic Cube</td>\n",
       "      <td>191</td>\n",
       "      <td>Activity_entertainment</td>\n",
       "    </tr>\n",
       "    <tr>\n",
       "      <th>4</th>\n",
       "      <td>PRIMO EuroBath, Pearl White</td>\n",
       "      <td>182</td>\n",
       "      <td>Nursery</td>\n",
       "    </tr>\n",
       "  </tbody>\n",
       "</table>\n",
       "</div>"
      ],
      "text/plain": [
       "                            Product  name                Category\n",
       "0           Baby Trend Diaper Champ   333               Diapering\n",
       "1       BABYBJORN Potty Chair - Red   232                 Nursery\n",
       "2  Philips Avent 3 Pack 9oz Bottles   191               Baby_care\n",
       "3        Munchkin Mozart Magic Cube   191  Activity_entertainment\n",
       "4       PRIMO EuroBath, Pearl White   182                 Nursery"
      ]
     },
     "execution_count": 4,
     "metadata": {},
     "output_type": "execute_result"
    }
   ],
   "source": [
    "data_new.head()\n"
   ]
  },
  {
   "cell_type": "code",
   "execution_count": 5,
   "id": "5e26d752",
   "metadata": {},
   "outputs": [],
   "source": [
    "import xgboost as xgb\n"
   ]
  },
  {
   "cell_type": "code",
   "execution_count": 6,
   "id": "bb94e8bd",
   "metadata": {},
   "outputs": [],
   "source": [
    "count_vec=CountVectorizer()\n",
    "bow=count_vec.fit_transform(data_new['Product'])\n",
    "bow=np.array(bow.todense())"
   ]
  },
  {
   "cell_type": "code",
   "execution_count": 7,
   "id": "6b03245a",
   "metadata": {},
   "outputs": [],
   "source": [
    "x=bow\n",
    "y=data_new['Category']"
   ]
  },
  {
   "cell_type": "code",
   "execution_count": 8,
   "id": "0c1974bc",
   "metadata": {},
   "outputs": [
    {
     "data": {
      "text/plain": [
       "array([ 0,  1,  2,  3,  1,  4,  1,  1,  5,  6,  6,  0,  1,  4,  6,  7,  6,\n",
       "        6,  6,  2,  1,  1,  6,  4,  6,  6,  6,  0,  5,  5,  8,  2,  1,  8,\n",
       "        2,  2,  8,  6,  6,  9,  9,  9,  4,  6,  4,  3,  4,  0,  2,  9,  8,\n",
       "        2,  6,  6,  0,  6,  9,  1,  6,  9,  6,  2,  4,  1,  2, 10,  4,  4,\n",
       "        4,  4,  4,  2,  4,  4,  1,  8,  2,  4,  6,  9, 11,  6,  1,  4,  6,\n",
       "        6,  4,  8,  4,  2,  1,  9,  4,  4,  4,  6,  2,  6,  6,  2, 12,  6,\n",
       "        4,  6,  8,  4,  8,  8,  8,  2,  1,  6,  0,  0,  2,  6,  0,  2,  7,\n",
       "        3,  6,  6, 10,  0,  1,  1,  6,  2,  6, 13,  6,  2,  4,  4,  8, 10,\n",
       "        1,  8,  3,  0, 10,  4,  4,  4,  2, 11,  0,  9,  4, 11,  2,  2, 13,\n",
       "        4, 10,  4,  8,  4,  4,  8,  8,  9,  6, 11,  0,  8,  6,  6,  1,  5,\n",
       "        6,  2,  6,  2,  2, 13,  4,  6,  6,  2,  4,  6,  1,  4,  8,  2, 10,\n",
       "        6,  6, 12,  2,  6, 10, 10,  1,  2,  8,  4,  1, 13, 13,  1,  6,  6,\n",
       "        1,  6,  6,  2,  8,  0,  2,  2, 13,  4,  8,  8,  6,  6,  6, 10,  6,\n",
       "        2, 10, 13,  1,  1, 13,  2,  1,  8,  2,  8,  5,  0, 10,  1,  8,  8,\n",
       "       13,  1,  4,  8, 12,  0,  2,  1,  1, 12,  8,  6,  6,  1,  3,  1,  2,\n",
       "        2,  1,  3,  1,  1,  2,  1,  1, 13,  2,  7,  4,  8,  4, 13,  8,  1,\n",
       "        1,  2,  1,  0,  2,  8,  0,  1,  7,  2,  8,  1,  1,  8,  1,  2,  6,\n",
       "        8,  8,  1,  6,  4,  1,  9,  1,  1,  8,  1,  8,  0,  1,  4, 12,  2,\n",
       "       10, 11,  2,  8,  4,  1, 12,  6,  8,  8,  1,  6, 11,  2,  4,  6,  6,\n",
       "        1,  8,  4,  4,  8,  8,  8,  4, 11,  8,  2, 10, 11,  1,  1,  8,  1,\n",
       "        6,  8,  8,  1,  6,  2,  8,  1,  1,  2,  1,  1,  2,  1,  8,  2,  7,\n",
       "        0,  8,  1,  2])"
      ]
     },
     "execution_count": 8,
     "metadata": {},
     "output_type": "execute_result"
    }
   ],
   "source": [
    "y=pd.factorize(y)[0]\n",
    "y"
   ]
  },
  {
   "cell_type": "code",
   "execution_count": 9,
   "id": "00ca60cd",
   "metadata": {},
   "outputs": [
    {
     "data": {
      "text/plain": [
       "array([[0, 0, 0, ..., 0, 0, 0],\n",
       "       [0, 0, 0, ..., 0, 0, 0],\n",
       "       [0, 0, 0, ..., 0, 0, 0],\n",
       "       ...,\n",
       "       [0, 0, 0, ..., 0, 0, 0],\n",
       "       [0, 0, 0, ..., 0, 0, 0],\n",
       "       [0, 0, 0, ..., 0, 0, 0]])"
      ]
     },
     "execution_count": 9,
     "metadata": {},
     "output_type": "execute_result"
    }
   ],
   "source": [
    "x"
   ]
  },
  {
   "cell_type": "code",
   "execution_count": 10,
   "id": "517dbb12",
   "metadata": {},
   "outputs": [],
   "source": [
    "X_train, X_test, y_train, y_test = train_test_split(x, y, test_size=0.3, random_state=123)\n"
   ]
  },
  {
   "cell_type": "code",
   "execution_count": 52,
   "id": "6987b689",
   "metadata": {},
   "outputs": [],
   "source": [
    "from xgboost import XGBClassifier\n",
    "from sklearn.linear_model import SGDClassifier\n",
    "\n",
    "model = XGBClassifier(\n",
    "    learning_rate =0.05,\n",
    " n_estimators=1000,\n",
    " max_depth=100,\n",
    " min_child_weight=1,\n",
    " gamma=0,\n",
    " subsample=0.8,\n",
    " colsample_bytree=0.8,\n",
    " objective= 'binary:logistic',\n",
    " nthread=4,\n",
    " scale_pos_weight=1,\n",
    "\n",
    "\n",
    "\n",
    "\n",
    ")\n",
    "# model=SGDClassifier(loss='modified_huber',shuffle=True,random_state=101)\n",
    "\n"
   ]
  },
  {
   "cell_type": "code",
   "execution_count": 53,
   "id": "0cb6db5f",
   "metadata": {},
   "outputs": [
    {
     "name": "stderr",
     "output_type": "stream",
     "text": [
      "/Users/deth/opt/anaconda3/lib/python3.8/site-packages/xgboost/sklearn.py:1224: UserWarning: The use of label encoder in XGBClassifier is deprecated and will be removed in a future release. To remove this warning, do the following: 1) Pass option use_label_encoder=False when constructing XGBClassifier object; and 2) Encode your labels (y) as integers starting with 0, i.e. 0, 1, 2, ..., [num_class - 1].\n",
      "  warnings.warn(label_encoder_deprecation_msg, UserWarning)\n"
     ]
    },
    {
     "name": "stdout",
     "output_type": "stream",
     "text": [
      "[13:57:03] WARNING: /Users/runner/work/xgboost/xgboost/src/learner.cc:576: \n",
      "Parameters: { \"scale_pos_weight\" } might not be used.\n",
      "\n",
      "  This could be a false alarm, with some parameters getting used by language bindings but\n",
      "  then being mistakenly passed down to XGBoost core, or some parameter actually being used\n",
      "  but getting flagged wrongly here. Please open an issue if you find any such cases.\n",
      "\n",
      "\n",
      "[13:57:03] WARNING: /Users/runner/work/xgboost/xgboost/src/learner.cc:1115: Starting in XGBoost 1.3.0, the default evaluation metric used with the objective 'multi:softprob' was changed from 'merror' to 'mlogloss'. Explicitly set eval_metric if you'd like to restore the old behavior.\n"
     ]
    },
    {
     "data": {
      "text/plain": [
       "XGBClassifier(base_score=0.5, booster='gbtree', colsample_bylevel=1,\n",
       "              colsample_bynode=1, colsample_bytree=0.8,\n",
       "              enable_categorical=False, gamma=0, gpu_id=-1,\n",
       "              importance_type=None, interaction_constraints='',\n",
       "              learning_rate=0.05, max_delta_step=0, max_depth=100,\n",
       "              min_child_weight=1, missing=nan, monotone_constraints='()',\n",
       "              n_estimators=1000, n_jobs=4, nthread=4, num_parallel_tree=1,\n",
       "              objective='multi:softprob', predictor='auto', random_state=0,\n",
       "              reg_alpha=0, reg_lambda=1, scale_pos_weight=1, subsample=0.8,\n",
       "              tree_method='exact', validate_parameters=1, verbosity=None)"
      ]
     },
     "execution_count": 53,
     "metadata": {},
     "output_type": "execute_result"
    }
   ],
   "source": [
    "model.fit(X_train, y_train)\n"
   ]
  },
  {
   "cell_type": "code",
   "execution_count": 54,
   "id": "49597fb9",
   "metadata": {},
   "outputs": [],
   "source": [
    "y_pred = model.predict(X_test)\n"
   ]
  },
  {
   "cell_type": "code",
   "execution_count": 55,
   "id": "4f66744d",
   "metadata": {},
   "outputs": [
    {
     "data": {
      "text/plain": [
       "array([ 8,  1,  0,  1,  2,  1,  4,  8,  1,  0, 13,  1,  4,  6,  2,  2,  1,\n",
       "        1,  8,  1,  8,  4,  2,  2,  2,  6,  8,  2,  4,  1,  8,  6,  6,  1,\n",
       "       10,  8,  8, 11,  1,  1,  2,  2,  1,  8,  1,  1,  1,  8,  6,  1,  8,\n",
       "        6,  6,  1,  2,  1,  8,  6,  1,  8,  8,  8,  8,  8,  1,  1,  2,  6,\n",
       "        4,  8,  2,  6,  1,  1,  8,  6,  8,  8,  2,  1, 12, 12,  6,  1,  8,\n",
       "        6,  8,  1,  1,  8,  8,  2,  8,  4,  1,  8,  2,  6,  8,  4,  4,  8,\n",
       "        2,  1,  8,  8,  6,  6,  2])"
      ]
     },
     "execution_count": 55,
     "metadata": {},
     "output_type": "execute_result"
    }
   ],
   "source": [
    "y_pred\n"
   ]
  },
  {
   "cell_type": "code",
   "execution_count": 56,
   "id": "5c1ee4f1",
   "metadata": {},
   "outputs": [
    {
     "data": {
      "text/plain": [
       "0.46788990825688076"
      ]
     },
     "execution_count": 56,
     "metadata": {},
     "output_type": "execute_result"
    }
   ],
   "source": [
    "accuracy = accuracy_score(y_test, y_pred)\n",
    "accuracy"
   ]
  },
  {
   "cell_type": "code",
   "execution_count": 57,
   "id": "afcced73",
   "metadata": {},
   "outputs": [],
   "source": [
    "# data_dmatrix = xgb.DMatrix(data=x,label=y)\n"
   ]
  },
  {
   "cell_type": "code",
   "execution_count": 58,
   "id": "a456a0ca",
   "metadata": {},
   "outputs": [],
   "source": [
    "# params = {\"objective\":\"reg:linear\",'colsample_bytree': 0.3,'learning_rate': 0.1,\n",
    "#                 'max_depth': 5, 'alpha': 10}\n",
    "\n",
    "# cv_results = xgb.cv(dtrain=data_dmatrix, params=params, nfold=3,\n",
    "#                     num_boost_round=50,early_stopping_rounds=10,metrics=\"accuracy\", as_pandas=True, seed=123)"
   ]
  },
  {
   "cell_type": "code",
   "execution_count": null,
   "id": "131ae125",
   "metadata": {},
   "outputs": [],
   "source": []
  },
  {
   "cell_type": "code",
   "execution_count": null,
   "id": "eb649916",
   "metadata": {},
   "outputs": [],
   "source": []
  },
  {
   "cell_type": "code",
   "execution_count": null,
   "id": "5cf64bbf",
   "metadata": {},
   "outputs": [],
   "source": []
  },
  {
   "cell_type": "code",
   "execution_count": null,
   "id": "5636612e",
   "metadata": {},
   "outputs": [],
   "source": []
  },
  {
   "cell_type": "code",
   "execution_count": null,
   "id": "e3e15345",
   "metadata": {},
   "outputs": [],
   "source": []
  },
  {
   "cell_type": "code",
   "execution_count": null,
   "id": "32613524",
   "metadata": {},
   "outputs": [],
   "source": []
  },
  {
   "cell_type": "code",
   "execution_count": null,
   "id": "db5c1921",
   "metadata": {},
   "outputs": [],
   "source": []
  },
  {
   "cell_type": "code",
   "execution_count": null,
   "id": "df660a89",
   "metadata": {},
   "outputs": [],
   "source": []
  },
  {
   "cell_type": "code",
   "execution_count": null,
   "id": "858414f0",
   "metadata": {},
   "outputs": [],
   "source": []
  }
 ],
 "metadata": {
  "kernelspec": {
   "display_name": "Python 3",
   "language": "python",
   "name": "python3"
  },
  "language_info": {
   "codemirror_mode": {
    "name": "ipython",
    "version": 3
   },
   "file_extension": ".py",
   "mimetype": "text/x-python",
   "name": "python",
   "nbconvert_exporter": "python",
   "pygments_lexer": "ipython3",
   "version": "3.8.8"
  }
 },
 "nbformat": 4,
 "nbformat_minor": 5
}
