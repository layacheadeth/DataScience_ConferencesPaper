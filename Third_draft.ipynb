{
 "cells": [
  {
   "cell_type": "code",
   "execution_count": 1,
   "id": "403744b1",
   "metadata": {},
   "outputs": [
    {
     "data": {
      "text/html": [
       "<div>\n",
       "<style scoped>\n",
       "    .dataframe tbody tr th:only-of-type {\n",
       "        vertical-align: middle;\n",
       "    }\n",
       "\n",
       "    .dataframe tbody tr th {\n",
       "        vertical-align: top;\n",
       "    }\n",
       "\n",
       "    .dataframe thead th {\n",
       "        text-align: right;\n",
       "    }\n",
       "</style>\n",
       "<table border=\"1\" class=\"dataframe\">\n",
       "  <thead>\n",
       "    <tr style=\"text-align: right;\">\n",
       "      <th></th>\n",
       "      <th>name</th>\n",
       "      <th>review</th>\n",
       "      <th>rating</th>\n",
       "    </tr>\n",
       "  </thead>\n",
       "  <tbody>\n",
       "    <tr>\n",
       "      <th>0</th>\n",
       "      <td>Planetwise Flannel Wipes</td>\n",
       "      <td>These flannel wipes are OK, but in my opinion not worth keeping.  I also ordered someImse Vimse Cloth Wipes-Ocean Blue-12 countwhich are larger, had a nicer, softer texture and just seemed higher ...</td>\n",
       "      <td>3</td>\n",
       "    </tr>\n",
       "    <tr>\n",
       "      <th>1</th>\n",
       "      <td>Planetwise Wipe Pouch</td>\n",
       "      <td>it came early and was not disappointed. i love planet wise bags and now my wipe holder. it keps my osocozy wipes moist and does not leak. highly recommend it.</td>\n",
       "      <td>5</td>\n",
       "    </tr>\n",
       "    <tr>\n",
       "      <th>2</th>\n",
       "      <td>Annas Dream Full Quilt with 2 Shams</td>\n",
       "      <td>Very soft and comfortable and warmer than it looks...fit the full size bed perfectly...would recommend to anyone looking for this type of quilt</td>\n",
       "      <td>5</td>\n",
       "    </tr>\n",
       "    <tr>\n",
       "      <th>3</th>\n",
       "      <td>Stop Pacifier Sucking without tears with Thumbuddy To Love's Binky Fairy Puppet and Adorable Book</td>\n",
       "      <td>This is a product well worth the purchase.  I have not found anything else like this, and it is a positive, ingenious approach to losing the binky.  What I love most about this product is how much...</td>\n",
       "      <td>5</td>\n",
       "    </tr>\n",
       "    <tr>\n",
       "      <th>4</th>\n",
       "      <td>Stop Pacifier Sucking without tears with Thumbuddy To Love's Binky Fairy Puppet and Adorable Book</td>\n",
       "      <td>All of my kids have cried non-stop when I tried to ween them off their pacifier, until I found Thumbuddy To Love's Binky Fairy Puppet.  It is an easy way to work with your kids to allow them to un...</td>\n",
       "      <td>5</td>\n",
       "    </tr>\n",
       "    <tr>\n",
       "      <th>...</th>\n",
       "      <td>...</td>\n",
       "      <td>...</td>\n",
       "      <td>...</td>\n",
       "    </tr>\n",
       "    <tr>\n",
       "      <th>183526</th>\n",
       "      <td>Baby Teething Necklace for Mom Pretty Donut Shaped Pendant (Smokey Black)</td>\n",
       "      <td>Such a great idea! very handy to have and look really cool too, not to mention great for baby's gums to help reduce the pain of teething!</td>\n",
       "      <td>5</td>\n",
       "    </tr>\n",
       "    <tr>\n",
       "      <th>183527</th>\n",
       "      <td>Baby Teething Necklace for Mom Pretty Donut Shaped Pendant (Smokey Black)</td>\n",
       "      <td>This product rocks!  It is a great blend of function and fashion.  Aside from the unique concept of having something easily accessible and cool for baby to play and soothe themselves as cool acces...</td>\n",
       "      <td>5</td>\n",
       "    </tr>\n",
       "    <tr>\n",
       "      <th>183528</th>\n",
       "      <td>Abstract 2 PK Baby / Toddler Training Cup (Pink)</td>\n",
       "      <td>This item looks great and cool for my kids....I know this Company and its great in quality...</td>\n",
       "      <td>5</td>\n",
       "    </tr>\n",
       "    <tr>\n",
       "      <th>183529</th>\n",
       "      <td>Baby Food Freezer Tray - Bacteria Resistant, BPA and Phthalate Free - FREE Recipe E-book - Silicone Storage Container with Lid for Homemade Baby Food - 9 Easy-Out Portions - Lifetime Guarantee - P...</td>\n",
       "      <td>I am extremely happy with this product. I have been searching for a product like this for a long time and just not found the right one. I am a mum who is very into my organic products and unllike ...</td>\n",
       "      <td>5</td>\n",
       "    </tr>\n",
       "    <tr>\n",
       "      <th>183530</th>\n",
       "      <td>Best 2 Pack Baby Car Shade for Kids - Window Shade Baby - Cheapest Baby Sun Shade with Excellent Quality - Great Protection Car Window Shade for Travel, Trips, or Just for Shade - Better Than Brit...</td>\n",
       "      <td>I love this product very mush . I have bought many car shades earlier but they never protected me from direct sun exposure . But these really work well and It also Keeps the temperature of the car</td>\n",
       "      <td>5</td>\n",
       "    </tr>\n",
       "  </tbody>\n",
       "</table>\n",
       "<p>183531 rows × 3 columns</p>\n",
       "</div>"
      ],
      "text/plain": [
       "                                                                                                                                                                                                           name  \\\n",
       "0                                                                                                                                                                                      Planetwise Flannel Wipes   \n",
       "1                                                                                                                                                                                         Planetwise Wipe Pouch   \n",
       "2                                                                                                                                                                           Annas Dream Full Quilt with 2 Shams   \n",
       "3                                                                                                             Stop Pacifier Sucking without tears with Thumbuddy To Love's Binky Fairy Puppet and Adorable Book   \n",
       "4                                                                                                             Stop Pacifier Sucking without tears with Thumbuddy To Love's Binky Fairy Puppet and Adorable Book   \n",
       "...                                                                                                                                                                                                         ...   \n",
       "183526                                                                                                                                Baby Teething Necklace for Mom Pretty Donut Shaped Pendant (Smokey Black)   \n",
       "183527                                                                                                                                Baby Teething Necklace for Mom Pretty Donut Shaped Pendant (Smokey Black)   \n",
       "183528                                                                                                                                                         Abstract 2 PK Baby / Toddler Training Cup (Pink)   \n",
       "183529  Baby Food Freezer Tray - Bacteria Resistant, BPA and Phthalate Free - FREE Recipe E-book - Silicone Storage Container with Lid for Homemade Baby Food - 9 Easy-Out Portions - Lifetime Guarantee - P...   \n",
       "183530  Best 2 Pack Baby Car Shade for Kids - Window Shade Baby - Cheapest Baby Sun Shade with Excellent Quality - Great Protection Car Window Shade for Travel, Trips, or Just for Shade - Better Than Brit...   \n",
       "\n",
       "                                                                                                                                                                                                         review  \\\n",
       "0       These flannel wipes are OK, but in my opinion not worth keeping.  I also ordered someImse Vimse Cloth Wipes-Ocean Blue-12 countwhich are larger, had a nicer, softer texture and just seemed higher ...   \n",
       "1                                                it came early and was not disappointed. i love planet wise bags and now my wipe holder. it keps my osocozy wipes moist and does not leak. highly recommend it.   \n",
       "2                                                               Very soft and comfortable and warmer than it looks...fit the full size bed perfectly...would recommend to anyone looking for this type of quilt   \n",
       "3       This is a product well worth the purchase.  I have not found anything else like this, and it is a positive, ingenious approach to losing the binky.  What I love most about this product is how much...   \n",
       "4       All of my kids have cried non-stop when I tried to ween them off their pacifier, until I found Thumbuddy To Love's Binky Fairy Puppet.  It is an easy way to work with your kids to allow them to un...   \n",
       "...                                                                                                                                                                                                         ...   \n",
       "183526                                                                Such a great idea! very handy to have and look really cool too, not to mention great for baby's gums to help reduce the pain of teething!   \n",
       "183527  This product rocks!  It is a great blend of function and fashion.  Aside from the unique concept of having something easily accessible and cool for baby to play and soothe themselves as cool acces...   \n",
       "183528                                                                                                            This item looks great and cool for my kids....I know this Company and its great in quality...   \n",
       "183529  I am extremely happy with this product. I have been searching for a product like this for a long time and just not found the right one. I am a mum who is very into my organic products and unllike ...   \n",
       "183530     I love this product very mush . I have bought many car shades earlier but they never protected me from direct sun exposure . But these really work well and It also Keeps the temperature of the car   \n",
       "\n",
       "        rating  \n",
       "0            3  \n",
       "1            5  \n",
       "2            5  \n",
       "3            5  \n",
       "4            5  \n",
       "...        ...  \n",
       "183526       5  \n",
       "183527       5  \n",
       "183528       5  \n",
       "183529       5  \n",
       "183530       5  \n",
       "\n",
       "[183531 rows x 3 columns]"
      ]
     },
     "execution_count": 1,
     "metadata": {},
     "output_type": "execute_result"
    }
   ],
   "source": [
    "import pandas as pd\n",
    "import fractions\n",
    "import re\n",
    "import string\n",
    "import nltk\n",
    "import spacy \n",
    "import numpy as np\n",
    "import math\n",
    "from tqdm import tqdm \n",
    "\n",
    "from spacy.matcher import Matcher\n",
    "from spacy.tokens import Span\n",
    "from spacy import displacy\n",
    "pd.set_option('display.max_colwidth',200)\n",
    "\n",
    "\n",
    "data=pd.read_csv(\"amazon_baby.csv\",error_bad_lines=False)\n",
    "data"
   ]
  },
  {
   "cell_type": "code",
   "execution_count": 2,
   "id": "376cab5a",
   "metadata": {},
   "outputs": [],
   "source": [
    "nlp=spacy.load('en_core_web_sm')\n"
   ]
  },
  {
   "cell_type": "code",
   "execution_count": 3,
   "id": "15c11a4b",
   "metadata": {},
   "outputs": [
    {
     "name": "stderr",
     "output_type": "stream",
     "text": [
      "<ipython-input-3-586910c446a7>:2: SettingWithCopyWarning: \n",
      "A value is trying to be set on a copy of a slice from a DataFrame.\n",
      "Try using .loc[row_indexer,col_indexer] = value instead\n",
      "\n",
      "See the caveats in the documentation: https://pandas.pydata.org/pandas-docs/stable/user_guide/indexing.html#returning-a-view-versus-a-copy\n",
      "  data_text['index']=data_text.index\n"
     ]
    },
    {
     "data": {
      "text/html": [
       "<div>\n",
       "<style scoped>\n",
       "    .dataframe tbody tr th:only-of-type {\n",
       "        vertical-align: middle;\n",
       "    }\n",
       "\n",
       "    .dataframe tbody tr th {\n",
       "        vertical-align: top;\n",
       "    }\n",
       "\n",
       "    .dataframe thead th {\n",
       "        text-align: right;\n",
       "    }\n",
       "</style>\n",
       "<table border=\"1\" class=\"dataframe\">\n",
       "  <thead>\n",
       "    <tr style=\"text-align: right;\">\n",
       "      <th></th>\n",
       "      <th>review</th>\n",
       "      <th>index</th>\n",
       "    </tr>\n",
       "  </thead>\n",
       "  <tbody>\n",
       "    <tr>\n",
       "      <th>0</th>\n",
       "      <td>These flannel wipes are OK, but in my opinion not worth keeping.  I also ordered someImse Vimse Cloth Wipes-Ocean Blue-12 countwhich are larger, had a nicer, softer texture and just seemed higher ...</td>\n",
       "      <td>0</td>\n",
       "    </tr>\n",
       "    <tr>\n",
       "      <th>1</th>\n",
       "      <td>it came early and was not disappointed. i love planet wise bags and now my wipe holder. it keps my osocozy wipes moist and does not leak. highly recommend it.</td>\n",
       "      <td>1</td>\n",
       "    </tr>\n",
       "    <tr>\n",
       "      <th>2</th>\n",
       "      <td>Very soft and comfortable and warmer than it looks...fit the full size bed perfectly...would recommend to anyone looking for this type of quilt</td>\n",
       "      <td>2</td>\n",
       "    </tr>\n",
       "    <tr>\n",
       "      <th>3</th>\n",
       "      <td>This is a product well worth the purchase.  I have not found anything else like this, and it is a positive, ingenious approach to losing the binky.  What I love most about this product is how much...</td>\n",
       "      <td>3</td>\n",
       "    </tr>\n",
       "    <tr>\n",
       "      <th>4</th>\n",
       "      <td>All of my kids have cried non-stop when I tried to ween them off their pacifier, until I found Thumbuddy To Love's Binky Fairy Puppet.  It is an easy way to work with your kids to allow them to un...</td>\n",
       "      <td>4</td>\n",
       "    </tr>\n",
       "    <tr>\n",
       "      <th>...</th>\n",
       "      <td>...</td>\n",
       "      <td>...</td>\n",
       "    </tr>\n",
       "    <tr>\n",
       "      <th>183526</th>\n",
       "      <td>Such a great idea! very handy to have and look really cool too, not to mention great for baby's gums to help reduce the pain of teething!</td>\n",
       "      <td>183526</td>\n",
       "    </tr>\n",
       "    <tr>\n",
       "      <th>183527</th>\n",
       "      <td>This product rocks!  It is a great blend of function and fashion.  Aside from the unique concept of having something easily accessible and cool for baby to play and soothe themselves as cool acces...</td>\n",
       "      <td>183527</td>\n",
       "    </tr>\n",
       "    <tr>\n",
       "      <th>183528</th>\n",
       "      <td>This item looks great and cool for my kids....I know this Company and its great in quality...</td>\n",
       "      <td>183528</td>\n",
       "    </tr>\n",
       "    <tr>\n",
       "      <th>183529</th>\n",
       "      <td>I am extremely happy with this product. I have been searching for a product like this for a long time and just not found the right one. I am a mum who is very into my organic products and unllike ...</td>\n",
       "      <td>183529</td>\n",
       "    </tr>\n",
       "    <tr>\n",
       "      <th>183530</th>\n",
       "      <td>I love this product very mush . I have bought many car shades earlier but they never protected me from direct sun exposure . But these really work well and It also Keeps the temperature of the car</td>\n",
       "      <td>183530</td>\n",
       "    </tr>\n",
       "  </tbody>\n",
       "</table>\n",
       "<p>183531 rows × 2 columns</p>\n",
       "</div>"
      ],
      "text/plain": [
       "                                                                                                                                                                                                         review  \\\n",
       "0       These flannel wipes are OK, but in my opinion not worth keeping.  I also ordered someImse Vimse Cloth Wipes-Ocean Blue-12 countwhich are larger, had a nicer, softer texture and just seemed higher ...   \n",
       "1                                                it came early and was not disappointed. i love planet wise bags and now my wipe holder. it keps my osocozy wipes moist and does not leak. highly recommend it.   \n",
       "2                                                               Very soft and comfortable and warmer than it looks...fit the full size bed perfectly...would recommend to anyone looking for this type of quilt   \n",
       "3       This is a product well worth the purchase.  I have not found anything else like this, and it is a positive, ingenious approach to losing the binky.  What I love most about this product is how much...   \n",
       "4       All of my kids have cried non-stop when I tried to ween them off their pacifier, until I found Thumbuddy To Love's Binky Fairy Puppet.  It is an easy way to work with your kids to allow them to un...   \n",
       "...                                                                                                                                                                                                         ...   \n",
       "183526                                                                Such a great idea! very handy to have and look really cool too, not to mention great for baby's gums to help reduce the pain of teething!   \n",
       "183527  This product rocks!  It is a great blend of function and fashion.  Aside from the unique concept of having something easily accessible and cool for baby to play and soothe themselves as cool acces...   \n",
       "183528                                                                                                            This item looks great and cool for my kids....I know this Company and its great in quality...   \n",
       "183529  I am extremely happy with this product. I have been searching for a product like this for a long time and just not found the right one. I am a mum who is very into my organic products and unllike ...   \n",
       "183530     I love this product very mush . I have bought many car shades earlier but they never protected me from direct sun exposure . But these really work well and It also Keeps the temperature of the car   \n",
       "\n",
       "         index  \n",
       "0            0  \n",
       "1            1  \n",
       "2            2  \n",
       "3            3  \n",
       "4            4  \n",
       "...        ...  \n",
       "183526  183526  \n",
       "183527  183527  \n",
       "183528  183528  \n",
       "183529  183529  \n",
       "183530  183530  \n",
       "\n",
       "[183531 rows x 2 columns]"
      ]
     },
     "execution_count": 3,
     "metadata": {},
     "output_type": "execute_result"
    }
   ],
   "source": [
    "data_text=data[[\"review\"]]\n",
    "data_text['index']=data_text.index\n",
    "\n",
    "documents=data_text\n",
    "documents"
   ]
  },
  {
   "cell_type": "code",
   "execution_count": 4,
   "id": "f5fa1cf6",
   "metadata": {},
   "outputs": [],
   "source": [
    "used_doc=documents[:5700]"
   ]
  },
  {
   "cell_type": "code",
   "execution_count": 5,
   "id": "e1c7b705",
   "metadata": {},
   "outputs": [
    {
     "data": {
      "text/html": [
       "<div>\n",
       "<style scoped>\n",
       "    .dataframe tbody tr th:only-of-type {\n",
       "        vertical-align: middle;\n",
       "    }\n",
       "\n",
       "    .dataframe tbody tr th {\n",
       "        vertical-align: top;\n",
       "    }\n",
       "\n",
       "    .dataframe thead th {\n",
       "        text-align: right;\n",
       "    }\n",
       "</style>\n",
       "<table border=\"1\" class=\"dataframe\">\n",
       "  <thead>\n",
       "    <tr style=\"text-align: right;\">\n",
       "      <th></th>\n",
       "      <th>review</th>\n",
       "      <th>index</th>\n",
       "    </tr>\n",
       "  </thead>\n",
       "  <tbody>\n",
       "    <tr>\n",
       "      <th>0</th>\n",
       "      <td>These flannel wipes are OK, but in my opinion not worth keeping.  I also ordered someImse Vimse Cloth Wipes-Ocean Blue-12 countwhich are larger, had a nicer, softer texture and just seemed higher ...</td>\n",
       "      <td>0</td>\n",
       "    </tr>\n",
       "    <tr>\n",
       "      <th>1</th>\n",
       "      <td>it came early and was not disappointed. i love planet wise bags and now my wipe holder. it keps my osocozy wipes moist and does not leak. highly recommend it.</td>\n",
       "      <td>1</td>\n",
       "    </tr>\n",
       "    <tr>\n",
       "      <th>2</th>\n",
       "      <td>Very soft and comfortable and warmer than it looks...fit the full size bed perfectly...would recommend to anyone looking for this type of quilt</td>\n",
       "      <td>2</td>\n",
       "    </tr>\n",
       "    <tr>\n",
       "      <th>3</th>\n",
       "      <td>This is a product well worth the purchase.  I have not found anything else like this, and it is a positive, ingenious approach to losing the binky.  What I love most about this product is how much...</td>\n",
       "      <td>3</td>\n",
       "    </tr>\n",
       "    <tr>\n",
       "      <th>4</th>\n",
       "      <td>All of my kids have cried non-stop when I tried to ween them off their pacifier, until I found Thumbuddy To Love's Binky Fairy Puppet.  It is an easy way to work with your kids to allow them to un...</td>\n",
       "      <td>4</td>\n",
       "    </tr>\n",
       "    <tr>\n",
       "      <th>...</th>\n",
       "      <td>...</td>\n",
       "      <td>...</td>\n",
       "    </tr>\n",
       "    <tr>\n",
       "      <th>5695</th>\n",
       "      <td>This is a for sure MUST for babies! So much better then those hard plastic tubs.. and a lot easier then folding up towel in the sink! It stays warm like the bath water so your child doesnt get chi...</td>\n",
       "      <td>5695</td>\n",
       "    </tr>\n",
       "    <tr>\n",
       "      <th>5696</th>\n",
       "      <td>mildews so bad! i bought a second one thinking that I was doing something wrong. I rinsed and even put outside every night to dry completely. I now need to buy a bath for my 6 mo old since she can...</td>\n",
       "      <td>5696</td>\n",
       "    </tr>\n",
       "    <tr>\n",
       "      <th>5697</th>\n",
       "      <td>The reason for the 1 star is because baby is not due until Dec 1 2013, and it has not been used. Mother to be is excited about it, but we won't know the thoughts until its used, then I'll re-rate it</td>\n",
       "      <td>5697</td>\n",
       "    </tr>\n",
       "    <tr>\n",
       "      <th>5698</th>\n",
       "      <td>This bathing pillow is the best!  It keeps baby warm and is very comfy.  My baby loves it - she can still kick around in the water while her head is elevated.  I highly recommend this product for ...</td>\n",
       "      <td>5698</td>\n",
       "    </tr>\n",
       "    <tr>\n",
       "      <th>5699</th>\n",
       "      <td>This is wonderful! The only reason I didn't give it 5 stars is because it is kind of a pain to dry out, but other than that it is great. My little boy has used this since his first bath, he is 8 w...</td>\n",
       "      <td>5699</td>\n",
       "    </tr>\n",
       "  </tbody>\n",
       "</table>\n",
       "<p>5700 rows × 2 columns</p>\n",
       "</div>"
      ],
      "text/plain": [
       "                                                                                                                                                                                                       review  \\\n",
       "0     These flannel wipes are OK, but in my opinion not worth keeping.  I also ordered someImse Vimse Cloth Wipes-Ocean Blue-12 countwhich are larger, had a nicer, softer texture and just seemed higher ...   \n",
       "1                                              it came early and was not disappointed. i love planet wise bags and now my wipe holder. it keps my osocozy wipes moist and does not leak. highly recommend it.   \n",
       "2                                                             Very soft and comfortable and warmer than it looks...fit the full size bed perfectly...would recommend to anyone looking for this type of quilt   \n",
       "3     This is a product well worth the purchase.  I have not found anything else like this, and it is a positive, ingenious approach to losing the binky.  What I love most about this product is how much...   \n",
       "4     All of my kids have cried non-stop when I tried to ween them off their pacifier, until I found Thumbuddy To Love's Binky Fairy Puppet.  It is an easy way to work with your kids to allow them to un...   \n",
       "...                                                                                                                                                                                                       ...   \n",
       "5695  This is a for sure MUST for babies! So much better then those hard plastic tubs.. and a lot easier then folding up towel in the sink! It stays warm like the bath water so your child doesnt get chi...   \n",
       "5696  mildews so bad! i bought a second one thinking that I was doing something wrong. I rinsed and even put outside every night to dry completely. I now need to buy a bath for my 6 mo old since she can...   \n",
       "5697   The reason for the 1 star is because baby is not due until Dec 1 2013, and it has not been used. Mother to be is excited about it, but we won't know the thoughts until its used, then I'll re-rate it   \n",
       "5698  This bathing pillow is the best!  It keeps baby warm and is very comfy.  My baby loves it - she can still kick around in the water while her head is elevated.  I highly recommend this product for ...   \n",
       "5699  This is wonderful! The only reason I didn't give it 5 stars is because it is kind of a pain to dry out, but other than that it is great. My little boy has used this since his first bath, he is 8 w...   \n",
       "\n",
       "      index  \n",
       "0         0  \n",
       "1         1  \n",
       "2         2  \n",
       "3         3  \n",
       "4         4  \n",
       "...     ...  \n",
       "5695   5695  \n",
       "5696   5696  \n",
       "5697   5697  \n",
       "5698   5698  \n",
       "5699   5699  \n",
       "\n",
       "[5700 rows x 2 columns]"
      ]
     },
     "execution_count": 5,
     "metadata": {},
     "output_type": "execute_result"
    }
   ],
   "source": [
    "used_doc"
   ]
  },
  {
   "cell_type": "code",
   "execution_count": 6,
   "id": "c4a92233",
   "metadata": {},
   "outputs": [
    {
     "name": "stderr",
     "output_type": "stream",
     "text": [
      "<ipython-input-6-ada661c3bb41>:1: SettingWithCopyWarning: \n",
      "A value is trying to be set on a copy of a slice from a DataFrame\n",
      "\n",
      "See the caveats in the documentation: https://pandas.pydata.org/pandas-docs/stable/user_guide/indexing.html#returning-a-view-versus-a-copy\n",
      "  used_doc.dropna(subset = [\"review\"], inplace=True) # drop those rows which have NaN value cells\n"
     ]
    }
   ],
   "source": [
    "used_doc.dropna(subset = [\"review\"], inplace=True) # drop those rows which have NaN value cells"
   ]
  },
  {
   "cell_type": "code",
   "execution_count": 7,
   "id": "4b919bbe",
   "metadata": {},
   "outputs": [
    {
     "name": "stderr",
     "output_type": "stream",
     "text": [
      "[nltk_data] Downloading package wordnet to /Users/deth/nltk_data...\n",
      "[nltk_data]   Package wordnet is already up-to-date!\n"
     ]
    },
    {
     "data": {
      "text/plain": [
       "True"
      ]
     },
     "execution_count": 7,
     "metadata": {},
     "output_type": "execute_result"
    }
   ],
   "source": [
    "import gensim\n",
    "from gensim.utils import simple_preprocess\n",
    "from gensim.parsing.preprocessing import STOPWORDS\n",
    "from nltk.stem import WordNetLemmatizer, SnowballStemmer\n",
    "import nltk.stem as stemmer\n",
    "from nltk.stem.porter import *\n",
    "import numpy as np\n",
    "np.random.seed(2018)\n",
    "import nltk\n",
    "nltk.download('wordnet')"
   ]
  },
  {
   "cell_type": "code",
   "execution_count": null,
   "id": "209f68cd",
   "metadata": {},
   "outputs": [],
   "source": []
  },
  {
   "cell_type": "code",
   "execution_count": null,
   "id": "8605a980",
   "metadata": {},
   "outputs": [],
   "source": []
  },
  {
   "cell_type": "code",
   "execution_count": 8,
   "id": "a02aa07c",
   "metadata": {},
   "outputs": [],
   "source": [
    "doc_sample=used_doc[used_doc['index']==4].values[0][0]\n"
   ]
  },
  {
   "cell_type": "code",
   "execution_count": 9,
   "id": "23ffd0f9",
   "metadata": {},
   "outputs": [],
   "source": [
    "test_text=nlp(doc_sample)\n",
    "\n"
   ]
  },
  {
   "cell_type": "code",
   "execution_count": 10,
   "id": "640189c5",
   "metadata": {},
   "outputs": [
    {
     "name": "stdout",
     "output_type": "stream",
     "text": [
      "kids -> NOUN\n",
      "stop -> NOUN\n",
      "pacifier -> NOUN\n",
      "way -> NOUN\n",
      "kids -> NOUN\n",
      "pacifier -> NOUN\n",
      "part -> NOUN\n",
      "book -> NOUN\n",
      "gift -> NOUN\n",
      "parents -> NOUN\n",
      "soo -> NOUN\n",
      "headaches -> NOUN\n",
      "Thanks -> NOUN\n",
      "book -> NOUN\n",
      "rock -> NOUN\n"
     ]
    }
   ],
   "source": [
    "noun=[]\n",
    "for tok in test_text:\n",
    "    if tok.pos_=='NOUN':\n",
    "        print(tok.text,'->',tok.pos_)\n",
    "        noun.append(tok.text)"
   ]
  },
  {
   "cell_type": "code",
   "execution_count": 11,
   "id": "821e5eec",
   "metadata": {},
   "outputs": [
    {
     "name": "stdout",
     "output_type": "stream",
     "text": [
      "Pairs\n",
      "[('kids', 2), ('stop', 1), ('pacifier', 2), ('way', 1), ('kids', 2), ('pacifier', 2), ('part', 1), ('book', 2), ('gift', 1), ('parents', 1), ('soo', 1), ('headaches', 1), ('Thanks', 1), ('book', 2), ('rock', 1)]\n"
     ]
    }
   ],
   "source": [
    "word_freq = []\n",
    "for w in noun:\n",
    "    word_freq.append(noun.count(w))\n",
    "\n",
    "test_list=list(zip(noun, word_freq))\n",
    "print(\"Pairs\\n\" + str(test_list))"
   ]
  },
  {
   "cell_type": "code",
   "execution_count": 12,
   "id": "424afa5d",
   "metadata": {},
   "outputs": [
    {
     "name": "stdout",
     "output_type": "stream",
     "text": [
      "kids 2\n",
      "pacifier 2\n",
      "kids 2\n",
      "pacifier 2\n",
      "book 2\n",
      "book 2\n"
     ]
    }
   ],
   "source": [
    "for i in test_list:\n",
    "    if i[1]==max(word_freq):\n",
    "        print(i[0],i[1])"
   ]
  },
  {
   "cell_type": "code",
   "execution_count": 13,
   "id": "24a4ee97",
   "metadata": {},
   "outputs": [
    {
     "data": {
      "text/plain": [
       "['kids',\n",
       " 'stop',\n",
       " 'pacifier',\n",
       " 'way',\n",
       " 'kids',\n",
       " 'pacifier',\n",
       " 'part',\n",
       " 'book',\n",
       " 'gift',\n",
       " 'parents',\n",
       " 'soo',\n",
       " 'headaches',\n",
       " 'Thanks',\n",
       " 'book',\n",
       " 'rock']"
      ]
     },
     "execution_count": 13,
     "metadata": {},
     "output_type": "execute_result"
    }
   ],
   "source": [
    "noun"
   ]
  },
  {
   "cell_type": "code",
   "execution_count": 14,
   "id": "52432626",
   "metadata": {},
   "outputs": [],
   "source": [
    "stemmer=PorterStemmer()\n",
    "def lemmatize_stemming(text):\n",
    "      return stemmer.stem(WordNetLemmatizer().lemmatize(text,pos='v'))\n",
    "\n",
    "def preprocess(text):\n",
    "    result=[]\n",
    "    for token in gensim.utils.simple_preprocess(text):\n",
    "        if token not in gensim.parsing.preprocessing.STOPWORDS and len(token) >3:\n",
    "              result.append(lemmatize_stemming(token))\n",
    "  \n",
    "    return result\n",
    "\n",
    "def preprocess1(text):\n",
    "    test_text=nlp(text)\n",
    "    noun=[]\n",
    "    for tok in test_text:\n",
    "        if tok.pos_=='NOUN':\n",
    "#             print(tok.text,'->',tok.pos_)\n",
    "            noun.append(tok.text)\n",
    "    return noun\n",
    "\n",
    "    \n",
    "\n"
   ]
  },
  {
   "cell_type": "code",
   "execution_count": 15,
   "id": "378b05bf",
   "metadata": {},
   "outputs": [
    {
     "data": {
      "text/plain": [
       "0            [flannel, wipes, opinion, countwhich, texture, quality, cloth, wipes, hands, faces, usingThirsties, months, issues, while, handles]\n",
       "1                                                                                            [planet, bags, wipe, holder, osocozy, wipes, moist]\n",
       "2                                                                                                                       [size, bed, type, quilt]\n",
       "3                         [product, purchase, approach, binky, product, ownership, daughter, binky, fairy, artwork, chart, back, approach, tool]\n",
       "4                                     [kids, stop, pacifier, way, kids, pacifier, part, book, gift, parents, soo, headaches, Thanks, book, rock]\n",
       "5    [house, gift, book, pacifier, book, job, child, loss, item, doll, lots, movies, daughter, product, parent, pacifier, thumb, sucking, habit]\n",
       "6                                                                                                      [book, alot, photos, cards, spaces, book]\n",
       "7                          [parents, track, baby, feeding, sleep, diaper, change, schedule, half, months, life, life, doctor, questions, habits]\n",
       "8                                                                       [friend, mine, product, whirl, parent, track, feedings, diaper, changes]\n",
       "9                                                        [way, nanny, events, baby, home, baby, reason, standarad, options, one, pages, journal]\n",
       "Name: review, dtype: object"
      ]
     },
     "execution_count": 15,
     "metadata": {},
     "output_type": "execute_result"
    }
   ],
   "source": [
    "processed_docs1 = used_doc['review'].map(preprocess1)\n",
    "processed_docs1[:10]"
   ]
  },
  {
   "cell_type": "code",
   "execution_count": 16,
   "id": "39bac7b1",
   "metadata": {
    "scrolled": true
   },
   "outputs": [
    {
     "name": "stdout",
     "output_type": "stream",
     "text": [
      "0 cloth\n",
      "1 countwhich\n",
      "2 faces\n",
      "3 flannel\n",
      "4 handles\n",
      "5 hands\n",
      "6 issues\n",
      "7 months\n",
      "8 opinion\n",
      "9 quality\n",
      "10 texture\n"
     ]
    }
   ],
   "source": [
    "dictionary=gensim.corpora.Dictionary(processed_docs1)\n",
    "count=0\n",
    "\n",
    "for k,v in dictionary.iteritems():\n",
    "    print(k,v)\n",
    "    count+=1\n",
    "    if count>10:\n",
    "        break"
   ]
  },
  {
   "cell_type": "code",
   "execution_count": null,
   "id": "a323648e",
   "metadata": {},
   "outputs": [],
   "source": [
    "print(dictionary)\n"
   ]
  },
  {
   "cell_type": "code",
   "execution_count": 17,
   "id": "ac9a3460",
   "metadata": {},
   "outputs": [],
   "source": [
    "dictionary.filter_extremes(no_below=15,no_above=0.5)"
   ]
  },
  {
   "cell_type": "code",
   "execution_count": 18,
   "id": "c8fe11a7",
   "metadata": {},
   "outputs": [
    {
     "data": {
      "text/plain": [
       "[(20, 1), (21, 2), (22, 1), (23, 2), (24, 2), (25, 1), (26, 1), (27, 1)]"
      ]
     },
     "execution_count": 18,
     "metadata": {},
     "output_type": "execute_result"
    }
   ],
   "source": [
    "bow_corpus=[dictionary.doc2bow(doc) for doc in processed_docs1]\n",
    "bow_corpus[4]"
   ]
  },
  {
   "cell_type": "code",
   "execution_count": 20,
   "id": "8c17352e",
   "metadata": {},
   "outputs": [
    {
     "name": "stdout",
     "output_type": "stream",
     "text": [
      "Word 20 (\"Thanks\") appears 1 time.\n",
      "Word 21 (\"book\") appears 2 time.\n",
      "Word 22 (\"gift\") appears 1 time.\n",
      "Word 23 (\"kids\") appears 2 time.\n",
      "Word 24 (\"pacifier\") appears 2 time.\n",
      "Word 25 (\"parents\") appears 1 time.\n",
      "Word 26 (\"part\") appears 1 time.\n",
      "Word 27 (\"way\") appears 1 time.\n"
     ]
    }
   ],
   "source": [
    "bow_doc_4=bow_corpus[4]\n",
    "for i in range(len(bow_doc_4)):\n",
    "    print(\"Word {} (\\\"{}\\\") appears {} time.\".format(bow_doc_4[i][0], \n",
    "                                               dictionary[bow_doc_4[i][0]]),\n",
    "bow_doc_4[i][1]))"
   ]
  },
  {
   "cell_type": "code",
   "execution_count": 21,
   "id": "50fffebf",
   "metadata": {},
   "outputs": [
    {
     "name": "stdout",
     "output_type": "stream",
     "text": [
      "[(0, 0.2901732745443343),\n",
      " (1, 0.3572577297886199),\n",
      " (2, 0.21248377678976674),\n",
      " (3, 0.2716193176756163),\n",
      " (4, 0.12272001347251357),\n",
      " (5, 0.3307631085174361),\n",
      " (6, 0.22310337734314678),\n",
      " (7, 0.2666720213422817),\n",
      " (8, 0.6510656314854755)]\n"
     ]
    }
   ],
   "source": [
    "from gensim import corpora, models\n",
    "tfidf=models.TfidfModel(bow_corpus)\n",
    "corpus_tfidf=tfidf[bow_corpus]\n",
    "\n",
    "from pprint import pprint\n",
    "\n",
    "for doc in corpus_tfidf:\n",
    "  pprint(doc)\n",
    "  break"
   ]
  },
  {
   "cell_type": "code",
   "execution_count": 22,
   "id": "dc6b43c1",
   "metadata": {},
   "outputs": [],
   "source": [
    "lda_model=gensim.models.LdaMulticore(bow_corpus,num_topics=10,id2word=dictionary,passes=2,workers=2)"
   ]
  },
  {
   "cell_type": "code",
   "execution_count": 36,
   "id": "20776e8b",
   "metadata": {},
   "outputs": [
    {
     "name": "stdout",
     "output_type": "stream",
     "text": [
      "Topic:0\n",
      "words:0.049*\"gate\" + 0.033*\"baby\" + 0.026*\"product\" + 0.025*\"son\" + 0.024*\"seat\" + 0.015*\"carrier\" + 0.014*\"way\" + 0.013*\"sheet\" + 0.013*\"top\" + 0.012*\"head\"\n",
      "Topic:4\n",
      "words:0.081*\"gate\" + 0.048*\"tub\" + 0.031*\"baby\" + 0.019*\"product\" + 0.019*\"time\" + 0.016*\"door\" + 0.016*\"son\" + 0.016*\"one\" + 0.013*\"year\" + 0.012*\"months\"\n",
      "Topic:7\n",
      "words:0.026*\"stool\" + 0.024*\"daughter\" + 0.020*\"son\" + 0.020*\"bed\" + 0.017*\"product\" + 0.015*\"crib\" + 0.014*\"play\" + 0.014*\"seat\" + 0.013*\"kids\" + 0.012*\"toddler\"\n",
      "Topic:6\n",
      "words:0.053*\"baby\" + 0.026*\"one\" + 0.026*\"diaper\" + 0.023*\"product\" + 0.022*\"diapers\" + 0.019*\"months\" + 0.015*\"bags\" + 0.014*\"weeks\" + 0.013*\"bag\" + 0.010*\"pail\"\n"
     ]
    }
   ],
   "source": [
    "for idx, topic in lda_model.print_topics(4):\n",
    "      print('Topic:{}\\nwords:{}'.format(idx,topic))"
   ]
  },
  {
   "cell_type": "code",
   "execution_count": 40,
   "id": "7339d65d",
   "metadata": {},
   "outputs": [
    {
     "name": "stdout",
     "output_type": "stream",
     "text": [
      "Topic: 6 Word: 0.019*\"potty\" + 0.017*\"seat\" + 0.012*\"chair\" + 0.011*\"stool\" + 0.011*\"son\" + 0.011*\"size\" + 0.009*\"diaper\" + 0.009*\"tub\" + 0.009*\"baby\" + 0.009*\"year\"\n",
      "Topic: 5 Word: 0.021*\"bottles\" + 0.017*\"bottle\" + 0.015*\"baby\" + 0.011*\"nipples\" + 0.010*\"crib\" + 0.010*\"product\" + 0.009*\"problem\" + 0.008*\"pump\" + 0.008*\"problems\" + 0.008*\"sheet\"\n",
      "Topic: 3 Word: 0.032*\"toy\" + 0.015*\"music\" + 0.013*\"son\" + 0.011*\"months\" + 0.011*\"baby\" + 0.011*\"product\" + 0.011*\"daughter\" + 0.010*\"month\" + 0.009*\"book\" + 0.009*\"thing\"\n",
      "Topic: 8 Word: 0.023*\"product\" + 0.021*\"baby\" + 0.016*\"bottles\" + 0.013*\"bottle\" + 0.012*\"tub\" + 0.011*\"water\" + 0.011*\"gift\" + 0.010*\"time\" + 0.009*\"minutes\" + 0.009*\"gate\"\n"
     ]
    }
   ],
   "source": [
    "lda_model_tfidf=gensim.models.LdaMulticore(corpus_tfidf,num_topics=10,id2word=dictionary,passes=2,workers=4)\n",
    "for idx, topic in lda_model_tfidf.print_topics(4):\n",
    "      print('Topic: {} Word: {}'.format(idx,topic))"
   ]
  },
  {
   "cell_type": "code",
   "execution_count": 42,
   "id": "e0c367fc",
   "metadata": {},
   "outputs": [
    {
     "name": "stdout",
     "output_type": "stream",
     "text": [
      "\n",
      "Score:0.5447636842727661\t \n",
      "Topic:0.026*\"stool\" + 0.024*\"daughter\" + 0.020*\"son\" + 0.020*\"bed\" + 0.017*\"product\" + 0.015*\"crib\" + 0.014*\"play\" + 0.014*\"seat\" + 0.013*\"kids\" + 0.012*\"toddler\"\n",
      "\n",
      "Score:0.38854557275772095\t \n",
      "Topic:0.049*\"gate\" + 0.033*\"baby\" + 0.026*\"product\" + 0.025*\"son\" + 0.024*\"seat\" + 0.015*\"carrier\" + 0.014*\"way\" + 0.013*\"sheet\" + 0.013*\"top\" + 0.012*\"head\"\n"
     ]
    }
   ],
   "source": [
    "# Performance evaluation by classifying sample document using LDA Bag of Words model\n",
    "for index, score in sorted(lda_model[bow_corpus[4]],key=lambda tup:-1*tup[1]):\n",
    "  print(\"\\nScore:{}\\t \\nTopic:{}\".format(score,lda_model.print_topic(index,10)))"
   ]
  },
  {
   "cell_type": "code",
   "execution_count": 43,
   "id": "205b7c2c",
   "metadata": {},
   "outputs": [
    {
     "name": "stdout",
     "output_type": "stream",
     "text": [
      "\n",
      "Score: 0.4853854179382324\t \n",
      "Topic: 0.019*\"potty\" + 0.017*\"seat\" + 0.012*\"chair\" + 0.011*\"stool\" + 0.011*\"son\" + 0.011*\"size\" + 0.009*\"diaper\" + 0.009*\"tub\" + 0.009*\"baby\" + 0.009*\"year\"\n",
      "\n",
      "Score: 0.4479242265224457\t \n",
      "Topic: 0.025*\"tub\" + 0.018*\"bottles\" + 0.013*\"son\" + 0.012*\"seat\" + 0.012*\"potty\" + 0.011*\"baby\" + 0.011*\"daughter\" + 0.011*\"time\" + 0.010*\"toilet\" + 0.010*\"bottle\"\n"
     ]
    }
   ],
   "source": [
    "# Performance evaluation by classifying sample document using LDA TF-IDF model.\n",
    "for index, score in sorted(lda_model_tfidf[bow_corpus[4]], key=lambda tup: -1*tup[1]):\n",
    "    print(\"\\nScore: {}\\t \\nTopic: {}\".format(score, lda_model_tfidf.print_topic(index, 10)))"
   ]
  },
  {
   "cell_type": "code",
   "execution_count": 44,
   "id": "eede38ff",
   "metadata": {},
   "outputs": [
    {
     "name": "stdout",
     "output_type": "stream",
     "text": [
      "Score: 0.5498700141906738\t Topic: 0.049*\"gate\" + 0.033*\"baby\" + 0.026*\"product\" + 0.025*\"son\" + 0.024*\"seat\"\n",
      "Score: 0.050024889409542084\t Topic: 0.053*\"baby\" + 0.026*\"one\" + 0.026*\"diaper\" + 0.023*\"product\" + 0.022*\"diapers\"\n",
      "Score: 0.05001718923449516\t Topic: 0.081*\"gate\" + 0.048*\"tub\" + 0.031*\"baby\" + 0.019*\"product\" + 0.019*\"time\"\n",
      "Score: 0.05001521483063698\t Topic: 0.098*\"bottles\" + 0.035*\"baby\" + 0.024*\"time\" + 0.023*\"nipples\" + 0.021*\"bottle\"\n",
      "Score: 0.05001511797308922\t Topic: 0.026*\"stool\" + 0.024*\"daughter\" + 0.020*\"son\" + 0.020*\"bed\" + 0.017*\"product\"\n",
      "Score: 0.050014678388834\t Topic: 0.052*\"toy\" + 0.045*\"son\" + 0.028*\"cups\" + 0.018*\"months\" + 0.017*\"baby\"\n",
      "Score: 0.05001425743103027\t Topic: 0.056*\"baby\" + 0.026*\"bottles\" + 0.022*\"monitor\" + 0.020*\"bottle\" + 0.020*\"time\"\n",
      "Score: 0.05001157894730568\t Topic: 0.054*\"baby\" + 0.027*\"months\" + 0.025*\"son\" + 0.024*\"diaper\" + 0.024*\"time\"\n",
      "Score: 0.050009746104478836\t Topic: 0.093*\"bottle\" + 0.078*\"bottles\" + 0.027*\"baby\" + 0.026*\"nipples\" + 0.025*\"water\"\n",
      "Score: 0.050007302314043045\t Topic: 0.052*\"baby\" + 0.038*\"daughter\" + 0.035*\"time\" + 0.034*\"seat\" + 0.024*\"bottles\"\n"
     ]
    }
   ],
   "source": [
    "unseen_document = 'This pacifier has always been an amazing product'\n",
    "bow_vector = dictionary.doc2bow(preprocess(unseen_document))\n",
    "for index, score in sorted(lda_model[bow_vector], key=lambda tup: -1*tup[1]):\n",
    "    print(\"Score: {}\\t Topic: {}\".format(score, lda_model.print_topic(index, 5)))"
   ]
  },
  {
   "cell_type": "code",
   "execution_count": 46,
   "id": "28adb593",
   "metadata": {},
   "outputs": [
    {
     "name": "stdout",
     "output_type": "stream",
     "text": [
      "Score: 0.5499119758605957\t Topic: 0.052*\"toy\" + 0.045*\"son\" + 0.028*\"cups\" + 0.018*\"months\" + 0.017*\"baby\"\n",
      "Score: 0.050017133355140686\t Topic: 0.098*\"bottles\" + 0.035*\"baby\" + 0.024*\"time\" + 0.023*\"nipples\" + 0.021*\"bottle\"\n",
      "Score: 0.050012409687042236\t Topic: 0.054*\"baby\" + 0.027*\"months\" + 0.025*\"son\" + 0.024*\"diaper\" + 0.024*\"time\"\n",
      "Score: 0.050009965896606445\t Topic: 0.056*\"baby\" + 0.026*\"bottles\" + 0.022*\"monitor\" + 0.020*\"bottle\" + 0.020*\"time\"\n",
      "Score: 0.05000922828912735\t Topic: 0.026*\"stool\" + 0.024*\"daughter\" + 0.020*\"son\" + 0.020*\"bed\" + 0.017*\"product\"\n",
      "Score: 0.05000898987054825\t Topic: 0.081*\"gate\" + 0.048*\"tub\" + 0.031*\"baby\" + 0.019*\"product\" + 0.019*\"time\"\n",
      "Score: 0.05000854656100273\t Topic: 0.052*\"baby\" + 0.038*\"daughter\" + 0.035*\"time\" + 0.034*\"seat\" + 0.024*\"bottles\"\n",
      "Score: 0.05000774562358856\t Topic: 0.053*\"baby\" + 0.026*\"one\" + 0.026*\"diaper\" + 0.023*\"product\" + 0.022*\"diapers\"\n",
      "Score: 0.05000704899430275\t Topic: 0.093*\"bottle\" + 0.078*\"bottles\" + 0.027*\"baby\" + 0.026*\"nipples\" + 0.025*\"water\"\n",
      "Score: 0.05000690743327141\t Topic: 0.049*\"gate\" + 0.033*\"baby\" + 0.026*\"product\" + 0.025*\"son\" + 0.024*\"seat\"\n"
     ]
    }
   ],
   "source": [
    "unseen_document = 'That Pacifier is a very bad products'\n",
    "bow_vector = dictionary.doc2bow(preprocess(unseen_document))\n",
    "for index, score in sorted(lda_model_tfidf[bow_vector], key=lambda tup: -1*tup[1]):\n",
    "    print(\"Score: {}\\t Topic: {}\".format(score, lda_model.print_topic(index, 5)))"
   ]
  },
  {
   "cell_type": "code",
   "execution_count": 47,
   "id": "854e22b1",
   "metadata": {},
   "outputs": [],
   "source": [
    "from gensim.test.utils import common_dictionary, common_corpus\n",
    "from gensim.models import LsiModel\n",
    "\n",
    "lsi_model=LsiModel(bow_corpus,num_topics=10,id2word=dictionary)"
   ]
  },
  {
   "cell_type": "code",
   "execution_count": 49,
   "id": "f073c08c",
   "metadata": {},
   "outputs": [
    {
     "name": "stdout",
     "output_type": "stream",
     "text": [
      "Topic:0\n",
      "words:-0.513*\"bottles\" + -0.473*\"baby\" + -0.327*\"bottle\" + -0.232*\"time\" + -0.198*\"tub\" + -0.161*\"son\" + -0.150*\"water\" + -0.143*\"months\" + -0.127*\"nipples\" + -0.125*\"product\"\n",
      "Topic:1\n",
      "words:-0.553*\"bottles\" + 0.540*\"tub\" + 0.299*\"baby\" + -0.294*\"bottle\" + 0.133*\"gate\" + 0.125*\"months\" + 0.121*\"bath\" + 0.118*\"seat\" + 0.109*\"son\" + -0.106*\"nipples\"\n",
      "Topic:2\n",
      "words:-0.674*\"gate\" + 0.539*\"tub\" + -0.168*\"seat\" + 0.129*\"water\" + -0.117*\"diaper\" + -0.110*\"product\" + -0.110*\"potty\" + 0.103*\"bottles\" + 0.099*\"bath\" + -0.098*\"one\"\n",
      "Topic:3\n",
      "words:0.628*\"gate\" + -0.418*\"seat\" + 0.330*\"tub\" + -0.242*\"potty\" + -0.180*\"diaper\" + -0.146*\"son\" + -0.146*\"toilet\" + -0.119*\"product\" + 0.113*\"bottles\" + -0.104*\"bag\"\n"
     ]
    }
   ],
   "source": [
    "for idx, topic in lsi_model.print_topics(4):\n",
    "      print('Topic:{}\\nwords:{}'.format(idx,topic))"
   ]
  },
  {
   "cell_type": "code",
   "execution_count": 50,
   "id": "be249ab2",
   "metadata": {},
   "outputs": [
    {
     "name": "stdout",
     "output_type": "stream",
     "text": [
      "Topic: 0 Word: 0.409*\"bottles\" + 0.302*\"tub\" + 0.270*\"bottle\" + 0.243*\"baby\" + 0.186*\"son\" + 0.167*\"time\" + 0.157*\"water\" + 0.154*\"product\" + 0.150*\"months\" + 0.147*\"daughter\"\n",
      "Topic: 1 Word: -0.620*\"tub\" + 0.519*\"bottles\" + 0.287*\"bottle\" + -0.173*\"bath\" + 0.165*\"nipples\" + -0.122*\"seat\" + 0.108*\"milk\" + 0.098*\"nipple\" + -0.098*\"gate\" + 0.089*\"pump\"\n",
      "Topic: 2 Word: 0.520*\"tub\" + -0.458*\"gate\" + -0.237*\"seat\" + 0.207*\"bottles\" + -0.186*\"potty\" + -0.182*\"diaper\" + 0.136*\"water\" + -0.135*\"toilet\" + 0.134*\"bath\" + -0.126*\"diapers\"\n",
      "Topic: 3 Word: -0.748*\"gate\" + 0.355*\"seat\" + 0.245*\"potty\" + 0.190*\"toilet\" + 0.143*\"diaper\" + -0.124*\"gates\" + -0.120*\"tub\" + 0.098*\"chair\" + 0.096*\"bags\" + 0.093*\"diapers\"\n",
      "Topic: 4 Word: 0.425*\"seat\" + -0.411*\"diaper\" + -0.307*\"bags\" + 0.278*\"potty\" + -0.267*\"diapers\" + -0.237*\"pail\" + -0.237*\"bag\" + 0.220*\"toilet\" + -0.152*\"smell\" + -0.144*\"trash\"\n",
      "Topic: 5 Word: -0.528*\"toy\" + 0.311*\"seat\" + -0.227*\"music\" + 0.189*\"diaper\" + 0.186*\"tub\" + 0.184*\"gate\" + 0.168*\"toilet\" + 0.166*\"bottles\" + -0.155*\"son\" + -0.150*\"product\"\n",
      "Topic: 6 Word: -0.577*\"bottle\" + 0.448*\"bottles\" + -0.315*\"water\" + -0.300*\"product\" + 0.182*\"toy\" + 0.159*\"nipples\" + 0.156*\"son\" + -0.143*\"milk\" + 0.111*\"tub\" + 0.107*\"potty\"\n",
      "Topic: 7 Word: -0.783*\"pump\" + 0.323*\"bottle\" + 0.218*\"potty\" + 0.131*\"water\" + 0.130*\"son\" + -0.129*\"seat\" + -0.126*\"breast\" + -0.121*\"milk\" + -0.112*\"product\" + 0.110*\"toy\"\n",
      "Topic: 8 Word: 0.634*\"potty\" + -0.430*\"seat\" + 0.331*\"pump\" + 0.209*\"chair\" + -0.188*\"product\" + -0.152*\"car\" + -0.146*\"bottles\" + -0.129*\"baby\" + -0.126*\"toilet\" + -0.117*\"toy\"\n",
      "Topic: 9 Word: 0.495*\"product\" + -0.437*\"toy\" + -0.280*\"bottle\" + -0.218*\"pump\" + 0.211*\"crib\" + -0.198*\"seat\" + 0.170*\"potty\" + 0.147*\"monitor\" + 0.145*\"baby\" + 0.132*\"sheet\"\n"
     ]
    }
   ],
   "source": [
    "lsi_model_tfidf=LsiModel(corpus_tfidf,num_topics=10,id2word=dictionary)\n",
    "for idx, topic in lsi_model_tfidf.print_topics(-1):\n",
    "      print('Topic: {} Word: {}'.format(idx,topic))"
   ]
  },
  {
   "cell_type": "code",
   "execution_count": 51,
   "id": "b36ee26b",
   "metadata": {},
   "outputs": [
    {
     "name": "stdout",
     "output_type": "stream",
     "text": [
      "\n",
      "Score:0.36824137484569447\t \n",
      "Topic:-0.553*\"bottles\" + 0.540*\"tub\" + 0.299*\"baby\" + -0.294*\"bottle\" + 0.133*\"gate\" + 0.125*\"months\" + 0.121*\"bath\" + 0.118*\"seat\" + 0.109*\"son\" + -0.106*\"nipples\"\n",
      "\n",
      "Score:0.10022226064378975\t \n",
      "Topic:0.477*\"diaper\" + -0.387*\"seat\" + -0.314*\"baby\" + 0.284*\"bag\" + 0.266*\"bags\" + 0.239*\"diapers\" + 0.188*\"pail\" + 0.166*\"bottle\" + 0.150*\"time\" + -0.147*\"potty\"\n",
      "\n",
      "Score:-0.14149001672561734\t \n",
      "Topic:0.713*\"bottle\" + -0.483*\"bottles\" + 0.284*\"water\" + -0.157*\"diaper\" + 0.148*\"seat\" + 0.134*\"milk\" + -0.107*\"son\" + -0.091*\"months\" + -0.084*\"diapers\" + -0.078*\"bag\"\n",
      "\n",
      "Score:-0.307759267018422\t \n",
      "Topic:-0.674*\"gate\" + 0.539*\"tub\" + -0.168*\"seat\" + 0.129*\"water\" + -0.117*\"diaper\" + -0.110*\"product\" + -0.110*\"potty\" + 0.103*\"bottles\" + 0.099*\"bath\" + -0.098*\"one\"\n",
      "\n",
      "Score:-0.39105892160722516\t \n",
      "Topic:0.628*\"gate\" + -0.418*\"seat\" + 0.330*\"tub\" + -0.242*\"potty\" + -0.180*\"diaper\" + -0.146*\"son\" + -0.146*\"toilet\" + -0.119*\"product\" + 0.113*\"bottles\" + -0.104*\"bag\"\n",
      "\n",
      "Score:-0.5237749005178093\t \n",
      "Topic:-0.513*\"bottles\" + -0.473*\"baby\" + -0.327*\"bottle\" + -0.232*\"time\" + -0.198*\"tub\" + -0.161*\"son\" + -0.150*\"water\" + -0.143*\"months\" + -0.127*\"nipples\" + -0.125*\"product\"\n",
      "\n",
      "Score:-0.5815244261658636\t \n",
      "Topic:0.705*\"baby\" + -0.330*\"tub\" + -0.314*\"seat\" + -0.280*\"son\" + -0.211*\"potty\" + -0.189*\"bottles\" + -0.143*\"gate\" + -0.123*\"daughter\" + -0.118*\"toilet\" + -0.080*\"chair\"\n",
      "\n",
      "Score:-0.8029651600867288\t \n",
      "Topic:-0.458*\"pump\" + 0.425*\"seat\" + -0.418*\"son\" + 0.261*\"diaper\" + -0.238*\"time\" + -0.189*\"potty\" + -0.173*\"months\" + 0.164*\"bottles\" + 0.133*\"tub\" + 0.129*\"diapers\"\n",
      "\n",
      "Score:-0.8163566241101404\t \n",
      "Topic:0.641*\"pump\" + -0.458*\"son\" + 0.265*\"seat\" + -0.235*\"potty\" + 0.223*\"time\" + -0.175*\"bottle\" + 0.162*\"milk\" + -0.130*\"months\" + 0.111*\"breast\" + 0.107*\"product\"\n",
      "\n",
      "Score:-0.9215504758429084\t \n",
      "Topic:-0.750*\"product\" + 0.335*\"potty\" + 0.180*\"diaper\" + 0.170*\"pump\" + -0.137*\"crib\" + 0.125*\"bottle\" + 0.120*\"nipples\" + 0.119*\"bag\" + -0.115*\"toy\" + -0.107*\"water\"\n"
     ]
    }
   ],
   "source": [
    "for index, score in sorted(lsi_model[bow_corpus[4310]],key=lambda tup:-1*tup[1]):\n",
    "  print(\"\\nScore:{}\\t \\nTopic:{}\".format(score,lsi_model.print_topic(index,10)))"
   ]
  },
  {
   "cell_type": "code",
   "execution_count": 52,
   "id": "a2d1065a",
   "metadata": {},
   "outputs": [
    {
     "name": "stdout",
     "output_type": "stream",
     "text": [
      "Score: 0.13580898449777484\t Topic: 0.056*\"baby\" + 0.026*\"bottles\" + 0.022*\"monitor\" + 0.020*\"bottle\" + 0.020*\"time\"\n",
      "Score: 0.1073368013835029\t Topic: 0.052*\"toy\" + 0.045*\"son\" + 0.028*\"cups\" + 0.018*\"months\" + 0.017*\"baby\"\n",
      "Score: 0.07417207920927511\t Topic: 0.053*\"baby\" + 0.026*\"one\" + 0.026*\"diaper\" + 0.023*\"product\" + 0.022*\"diapers\"\n",
      "Score: 0.06762209685231292\t Topic: 0.098*\"bottles\" + 0.035*\"baby\" + 0.024*\"time\" + 0.023*\"nipples\" + 0.021*\"bottle\"\n",
      "Score: 0.02520239213924264\t Topic: 0.026*\"stool\" + 0.024*\"daughter\" + 0.020*\"son\" + 0.020*\"bed\" + 0.017*\"product\"\n",
      "Score: -0.012778849332133697\t Topic: 0.081*\"gate\" + 0.048*\"tub\" + 0.031*\"baby\" + 0.019*\"product\" + 0.019*\"time\"\n",
      "Score: -0.11040737721106256\t Topic: 0.052*\"baby\" + 0.038*\"daughter\" + 0.035*\"time\" + 0.034*\"seat\" + 0.024*\"bottles\"\n",
      "Score: -0.11873621656973388\t Topic: 0.054*\"baby\" + 0.027*\"months\" + 0.025*\"son\" + 0.024*\"diaper\" + 0.024*\"time\"\n",
      "Score: -0.12462823815517327\t Topic: 0.049*\"gate\" + 0.033*\"baby\" + 0.026*\"product\" + 0.025*\"son\" + 0.024*\"seat\"\n",
      "Score: -0.7498066709841832\t Topic: 0.093*\"bottle\" + 0.078*\"bottles\" + 0.027*\"baby\" + 0.026*\"nipples\" + 0.025*\"water\"\n"
     ]
    }
   ],
   "source": [
    "unseen_document = 'That Pacifier is a very bad products'\n",
    "bow_vector = dictionary.doc2bow(preprocess(unseen_document))\n",
    "for index, score in sorted(lsi_model[bow_vector], key=lambda tup: -1*tup[1]):\n",
    "    print(\"Score: {}\\t Topic: {}\".format(score, lda_model.print_topic(index, 5)))"
   ]
  },
  {
   "cell_type": "code",
   "execution_count": null,
   "id": "eb258aa7",
   "metadata": {},
   "outputs": [],
   "source": []
  }
 ],
 "metadata": {
  "kernelspec": {
   "display_name": "Python 3",
   "language": "python",
   "name": "python3"
  },
  "language_info": {
   "codemirror_mode": {
    "name": "ipython",
    "version": 3
   },
   "file_extension": ".py",
   "mimetype": "text/x-python",
   "name": "python",
   "nbconvert_exporter": "python",
   "pygments_lexer": "ipython3",
   "version": "3.8.8"
  }
 },
 "nbformat": 4,
 "nbformat_minor": 5
}
