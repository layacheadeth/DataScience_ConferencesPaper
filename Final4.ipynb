{
 "cells": [
  {
   "cell_type": "code",
   "execution_count": 1,
   "id": "7c47a1c9",
   "metadata": {},
   "outputs": [
    {
     "data": {
      "text/html": [
       "<div>\n",
       "<style scoped>\n",
       "    .dataframe tbody tr th:only-of-type {\n",
       "        vertical-align: middle;\n",
       "    }\n",
       "\n",
       "    .dataframe tbody tr th {\n",
       "        vertical-align: top;\n",
       "    }\n",
       "\n",
       "    .dataframe thead th {\n",
       "        text-align: right;\n",
       "    }\n",
       "</style>\n",
       "<table border=\"1\" class=\"dataframe\">\n",
       "  <thead>\n",
       "    <tr style=\"text-align: right;\">\n",
       "      <th></th>\n",
       "      <th>Unnamed: 0</th>\n",
       "      <th>name</th>\n",
       "      <th>review</th>\n",
       "      <th>index</th>\n",
       "      <th>Category</th>\n",
       "    </tr>\n",
       "  </thead>\n",
       "  <tbody>\n",
       "    <tr>\n",
       "      <th>0</th>\n",
       "      <td>0</td>\n",
       "      <td>Planetwise Flannel Wipes</td>\n",
       "      <td>These flannel wipes are OK, but in my opinion ...</td>\n",
       "      <td>0</td>\n",
       "      <td>Baby_Care</td>\n",
       "    </tr>\n",
       "    <tr>\n",
       "      <th>1</th>\n",
       "      <td>1</td>\n",
       "      <td>Planetwise Wipe Pouch</td>\n",
       "      <td>it came early and was not disappointed. i love...</td>\n",
       "      <td>1</td>\n",
       "      <td>Diapering</td>\n",
       "    </tr>\n",
       "    <tr>\n",
       "      <th>2</th>\n",
       "      <td>2</td>\n",
       "      <td>Annas Dream Full Quilt with 2 Shams</td>\n",
       "      <td>Very soft and comfortable and warmer than it l...</td>\n",
       "      <td>2</td>\n",
       "      <td>Nursery</td>\n",
       "    </tr>\n",
       "    <tr>\n",
       "      <th>3</th>\n",
       "      <td>3</td>\n",
       "      <td>Stop Pacifier Sucking without tears with Thumb...</td>\n",
       "      <td>This is a product well worth the purchase.  I ...</td>\n",
       "      <td>3</td>\n",
       "      <td>Baby_Care</td>\n",
       "    </tr>\n",
       "    <tr>\n",
       "      <th>4</th>\n",
       "      <td>4</td>\n",
       "      <td>Stop Pacifier Sucking without tears with Thumb...</td>\n",
       "      <td>All of my kids have cried non-stop when I trie...</td>\n",
       "      <td>4</td>\n",
       "      <td>Baby_Care</td>\n",
       "    </tr>\n",
       "    <tr>\n",
       "      <th>...</th>\n",
       "      <td>...</td>\n",
       "      <td>...</td>\n",
       "      <td>...</td>\n",
       "      <td>...</td>\n",
       "      <td>...</td>\n",
       "    </tr>\n",
       "    <tr>\n",
       "      <th>408</th>\n",
       "      <td>654</td>\n",
       "      <td>U·nikaka Unisex Baby 0-48 Months 5-Pack Pants ...</td>\n",
       "      <td>The sweaters are very nice and fit quite well....</td>\n",
       "      <td>654</td>\n",
       "      <td>Apparel_accessories</td>\n",
       "    </tr>\n",
       "    <tr>\n",
       "      <th>409</th>\n",
       "      <td>658</td>\n",
       "      <td>U·nikaka Unisex Baby 0-48 Months 5-Pack Pants ...</td>\n",
       "      <td>My 13 month old is short and round lol. So I’m...</td>\n",
       "      <td>658</td>\n",
       "      <td>Apparel_accessories</td>\n",
       "    </tr>\n",
       "    <tr>\n",
       "      <th>410</th>\n",
       "      <td>660</td>\n",
       "      <td>HAICHEN TEC Ferret Clothes Turtleneck Sweater ...</td>\n",
       "      <td>This is sp cute and hilarious 100 recomend goo...</td>\n",
       "      <td>660</td>\n",
       "      <td>Apparel_accessories</td>\n",
       "    </tr>\n",
       "    <tr>\n",
       "      <th>411</th>\n",
       "      <td>661</td>\n",
       "      <td>HAICHEN TEC Ferret Clothes Turtleneck Sweater ...</td>\n",
       "      <td>Mr. B is only 4 weeks old and looks so handsom...</td>\n",
       "      <td>661</td>\n",
       "      <td>Apparel_accessories</td>\n",
       "    </tr>\n",
       "    <tr>\n",
       "      <th>412</th>\n",
       "      <td>663</td>\n",
       "      <td>HAICHEN TEC Ferret Clothes Turtleneck Sweater ...</td>\n",
       "      <td>I wanted to dress up my guinea pig but the swe...</td>\n",
       "      <td>663</td>\n",
       "      <td>Apparel_accessories</td>\n",
       "    </tr>\n",
       "  </tbody>\n",
       "</table>\n",
       "<p>413 rows × 5 columns</p>\n",
       "</div>"
      ],
      "text/plain": [
       "     Unnamed: 0                                               name  \\\n",
       "0             0                           Planetwise Flannel Wipes   \n",
       "1             1                              Planetwise Wipe Pouch   \n",
       "2             2                Annas Dream Full Quilt with 2 Shams   \n",
       "3             3  Stop Pacifier Sucking without tears with Thumb...   \n",
       "4             4  Stop Pacifier Sucking without tears with Thumb...   \n",
       "..          ...                                                ...   \n",
       "408         654  U·nikaka Unisex Baby 0-48 Months 5-Pack Pants ...   \n",
       "409         658  U·nikaka Unisex Baby 0-48 Months 5-Pack Pants ...   \n",
       "410         660  HAICHEN TEC Ferret Clothes Turtleneck Sweater ...   \n",
       "411         661  HAICHEN TEC Ferret Clothes Turtleneck Sweater ...   \n",
       "412         663  HAICHEN TEC Ferret Clothes Turtleneck Sweater ...   \n",
       "\n",
       "                                                review  index  \\\n",
       "0    These flannel wipes are OK, but in my opinion ...      0   \n",
       "1    it came early and was not disappointed. i love...      1   \n",
       "2    Very soft and comfortable and warmer than it l...      2   \n",
       "3    This is a product well worth the purchase.  I ...      3   \n",
       "4    All of my kids have cried non-stop when I trie...      4   \n",
       "..                                                 ...    ...   \n",
       "408  The sweaters are very nice and fit quite well....    654   \n",
       "409  My 13 month old is short and round lol. So I’m...    658   \n",
       "410  This is sp cute and hilarious 100 recomend goo...    660   \n",
       "411  Mr. B is only 4 weeks old and looks so handsom...    661   \n",
       "412  I wanted to dress up my guinea pig but the swe...    663   \n",
       "\n",
       "                Category  \n",
       "0              Baby_Care  \n",
       "1              Diapering  \n",
       "2                Nursery  \n",
       "3              Baby_Care  \n",
       "4              Baby_Care  \n",
       "..                   ...  \n",
       "408  Apparel_accessories  \n",
       "409  Apparel_accessories  \n",
       "410  Apparel_accessories  \n",
       "411  Apparel_accessories  \n",
       "412  Apparel_accessories  \n",
       "\n",
       "[413 rows x 5 columns]"
      ]
     },
     "execution_count": 1,
     "metadata": {},
     "output_type": "execute_result"
    }
   ],
   "source": [
    "import pandas as pd\n",
    "doc=pd.read_csv(\"used4.5.csv\")\n",
    "doc"
   ]
  },
  {
   "cell_type": "code",
   "execution_count": 2,
   "id": "4decabb4",
   "metadata": {},
   "outputs": [
    {
     "name": "stderr",
     "output_type": "stream",
     "text": [
      "<ipython-input-2-318acfee2307>:2: SettingWithCopyWarning: \n",
      "A value is trying to be set on a copy of a slice from a DataFrame.\n",
      "Try using .loc[row_indexer,col_indexer] = value instead\n",
      "\n",
      "See the caveats in the documentation: https://pandas.pydata.org/pandas-docs/stable/user_guide/indexing.html#returning-a-view-versus-a-copy\n",
      "  data_text['index']=data_text.index\n"
     ]
    }
   ],
   "source": [
    "data_text=doc[[\"review\",\"Category\"]]\n",
    "data_text['index']=data_text.index\n",
    "\n",
    "documents=data_text"
   ]
  },
  {
   "cell_type": "code",
   "execution_count": 3,
   "id": "256ee73c",
   "metadata": {},
   "outputs": [
    {
     "data": {
      "text/html": [
       "<div>\n",
       "<style scoped>\n",
       "    .dataframe tbody tr th:only-of-type {\n",
       "        vertical-align: middle;\n",
       "    }\n",
       "\n",
       "    .dataframe tbody tr th {\n",
       "        vertical-align: top;\n",
       "    }\n",
       "\n",
       "    .dataframe thead th {\n",
       "        text-align: right;\n",
       "    }\n",
       "</style>\n",
       "<table border=\"1\" class=\"dataframe\">\n",
       "  <thead>\n",
       "    <tr style=\"text-align: right;\">\n",
       "      <th></th>\n",
       "      <th>review</th>\n",
       "      <th>Category</th>\n",
       "      <th>index</th>\n",
       "    </tr>\n",
       "  </thead>\n",
       "  <tbody>\n",
       "    <tr>\n",
       "      <th>0</th>\n",
       "      <td>These flannel wipes are OK, but in my opinion ...</td>\n",
       "      <td>Baby_Care</td>\n",
       "      <td>0</td>\n",
       "    </tr>\n",
       "    <tr>\n",
       "      <th>1</th>\n",
       "      <td>it came early and was not disappointed. i love...</td>\n",
       "      <td>Diapering</td>\n",
       "      <td>1</td>\n",
       "    </tr>\n",
       "    <tr>\n",
       "      <th>2</th>\n",
       "      <td>Very soft and comfortable and warmer than it l...</td>\n",
       "      <td>Nursery</td>\n",
       "      <td>2</td>\n",
       "    </tr>\n",
       "    <tr>\n",
       "      <th>3</th>\n",
       "      <td>This is a product well worth the purchase.  I ...</td>\n",
       "      <td>Baby_Care</td>\n",
       "      <td>3</td>\n",
       "    </tr>\n",
       "    <tr>\n",
       "      <th>4</th>\n",
       "      <td>All of my kids have cried non-stop when I trie...</td>\n",
       "      <td>Baby_Care</td>\n",
       "      <td>4</td>\n",
       "    </tr>\n",
       "    <tr>\n",
       "      <th>...</th>\n",
       "      <td>...</td>\n",
       "      <td>...</td>\n",
       "      <td>...</td>\n",
       "    </tr>\n",
       "    <tr>\n",
       "      <th>408</th>\n",
       "      <td>The sweaters are very nice and fit quite well....</td>\n",
       "      <td>Apparel_accessories</td>\n",
       "      <td>408</td>\n",
       "    </tr>\n",
       "    <tr>\n",
       "      <th>409</th>\n",
       "      <td>My 13 month old is short and round lol. So I’m...</td>\n",
       "      <td>Apparel_accessories</td>\n",
       "      <td>409</td>\n",
       "    </tr>\n",
       "    <tr>\n",
       "      <th>410</th>\n",
       "      <td>This is sp cute and hilarious 100 recomend goo...</td>\n",
       "      <td>Apparel_accessories</td>\n",
       "      <td>410</td>\n",
       "    </tr>\n",
       "    <tr>\n",
       "      <th>411</th>\n",
       "      <td>Mr. B is only 4 weeks old and looks so handsom...</td>\n",
       "      <td>Apparel_accessories</td>\n",
       "      <td>411</td>\n",
       "    </tr>\n",
       "    <tr>\n",
       "      <th>412</th>\n",
       "      <td>I wanted to dress up my guinea pig but the swe...</td>\n",
       "      <td>Apparel_accessories</td>\n",
       "      <td>412</td>\n",
       "    </tr>\n",
       "  </tbody>\n",
       "</table>\n",
       "<p>413 rows × 3 columns</p>\n",
       "</div>"
      ],
      "text/plain": [
       "                                                review             Category  \\\n",
       "0    These flannel wipes are OK, but in my opinion ...            Baby_Care   \n",
       "1    it came early and was not disappointed. i love...            Diapering   \n",
       "2    Very soft and comfortable and warmer than it l...              Nursery   \n",
       "3    This is a product well worth the purchase.  I ...            Baby_Care   \n",
       "4    All of my kids have cried non-stop when I trie...            Baby_Care   \n",
       "..                                                 ...                  ...   \n",
       "408  The sweaters are very nice and fit quite well....  Apparel_accessories   \n",
       "409  My 13 month old is short and round lol. So I’m...  Apparel_accessories   \n",
       "410  This is sp cute and hilarious 100 recomend goo...  Apparel_accessories   \n",
       "411  Mr. B is only 4 weeks old and looks so handsom...  Apparel_accessories   \n",
       "412  I wanted to dress up my guinea pig but the swe...  Apparel_accessories   \n",
       "\n",
       "     index  \n",
       "0        0  \n",
       "1        1  \n",
       "2        2  \n",
       "3        3  \n",
       "4        4  \n",
       "..     ...  \n",
       "408    408  \n",
       "409    409  \n",
       "410    410  \n",
       "411    411  \n",
       "412    412  \n",
       "\n",
       "[413 rows x 3 columns]"
      ]
     },
     "execution_count": 3,
     "metadata": {},
     "output_type": "execute_result"
    }
   ],
   "source": [
    "documents"
   ]
  },
  {
   "cell_type": "code",
   "execution_count": 4,
   "id": "df794997",
   "metadata": {},
   "outputs": [
    {
     "name": "stderr",
     "output_type": "stream",
     "text": [
      "[nltk_data] Downloading package wordnet to /Users/deth/nltk_data...\n",
      "[nltk_data]   Package wordnet is already up-to-date!\n"
     ]
    },
    {
     "data": {
      "text/plain": [
       "True"
      ]
     },
     "execution_count": 4,
     "metadata": {},
     "output_type": "execute_result"
    }
   ],
   "source": [
    "import gensim\n",
    "from gensim.utils import simple_preprocess\n",
    "from gensim.parsing.preprocessing import STOPWORDS\n",
    "from nltk.stem import WordNetLemmatizer, SnowballStemmer\n",
    "import nltk.stem as stemmer\n",
    "from nltk.stem.porter import *\n",
    "import numpy as np\n",
    "np.random.seed(2018)\n",
    "import nltk\n",
    "nltk.download('wordnet')"
   ]
  },
  {
   "cell_type": "code",
   "execution_count": 5,
   "id": "ba240f0a",
   "metadata": {},
   "outputs": [],
   "source": [
    "stemmer=PorterStemmer()\n",
    "def lemmatize_stemming(text):\n",
    "      return stemmer.stem(WordNetLemmatizer().lemmatize(text,pos='v'))\n",
    "\n",
    "def preprocess(text):\n",
    "    result=[]\n",
    "    for token in gensim.utils.simple_preprocess(text):\n",
    "        if token not in gensim.parsing.preprocessing.STOPWORDS and len(token) >3:\n",
    "              result.append(lemmatize_stemming(token))\n",
    "  \n",
    "    return result"
   ]
  },
  {
   "cell_type": "code",
   "execution_count": 6,
   "id": "78244395",
   "metadata": {},
   "outputs": [
    {
     "name": "stdout",
     "output_type": "stream",
     "text": [
      "original document\n",
      "['All', 'of', 'my', 'kids', 'have', 'cried', 'non-stop', 'when', 'I', 'tried', 'to', 'ween', 'them', 'off', 'their', 'pacifier,', 'until', 'I', 'found', 'Thumbuddy', 'To', \"Love's\", 'Binky', 'Fairy', 'Puppet.', '', 'It', 'is', 'an', 'easy', 'way', 'to', 'work', 'with', 'your', 'kids', 'to', 'allow', 'them', 'to', 'understand', 'where', 'their', 'pacifier', 'is', 'going', 'and', 'help', 'them', 'part', 'from', 'it.This', 'is', 'a', 'must', 'buy', 'book,', 'and', 'a', 'great', 'gift', 'for', 'expecting', 'parents!!', '', 'You', 'will', 'save', 'them', 'soo', 'many', 'headaches.Thanks', 'for', 'this', 'book!', '', 'You', 'all', 'rock!!']\n",
      "\n",
      "\n",
      " tokenized and lemmatized document: \n",
      "['kid', 'cri', 'stop', 'tri', 'ween', 'pacifi', 'thumbuddi', 'love', 'binki', 'fairi', 'puppet', 'easi', 'work', 'kid', 'allow', 'understand', 'pacifi', 'go', 'help', 'book', 'great', 'gift', 'expect', 'parent', 'save', 'headach', 'thank', 'book', 'rock']\n"
     ]
    }
   ],
   "source": [
    "doc_sample=documents[documents['index']==4].values[0][0]\n",
    "print('original document')\n",
    "words=[]\n",
    "for word in doc_sample.split(' '):\n",
    "      words.append(word)\n",
    "print(words)\n",
    "print('\\n\\n tokenized and lemmatized document: ')\n",
    "print(preprocess(doc_sample))"
   ]
  },
  {
   "cell_type": "code",
   "execution_count": 7,
   "id": "a002241c",
   "metadata": {},
   "outputs": [
    {
     "name": "stderr",
     "output_type": "stream",
     "text": [
      "<ipython-input-7-00cd468fc166>:1: SettingWithCopyWarning: \n",
      "A value is trying to be set on a copy of a slice from a DataFrame\n",
      "\n",
      "See the caveats in the documentation: https://pandas.pydata.org/pandas-docs/stable/user_guide/indexing.html#returning-a-view-versus-a-copy\n",
      "  documents.dropna(subset = [\"review\"], inplace=True) # drop those rows which have NaN value cells\n"
     ]
    }
   ],
   "source": [
    "documents.dropna(subset = [\"review\"], inplace=True) # drop those rows which have NaN value cells\n"
   ]
  },
  {
   "cell_type": "code",
   "execution_count": 8,
   "id": "3514c639",
   "metadata": {},
   "outputs": [
    {
     "data": {
      "text/plain": [
       "0      [flannel, wipe, opinion, worth, keep, order, s...\n",
       "1      [come, earli, disappoint, love, planet, wise, ...\n",
       "2      [soft, comfort, warmer, look, size, perfectli,...\n",
       "3      [product, worth, purchas, like, posit, ingeni,...\n",
       "4      [kid, cri, stop, tri, ween, pacifi, thumbuddi,...\n",
       "                             ...                        \n",
       "408    [sweater, nice, ferret, mind, fabric, great, p...\n",
       "409    [month, short, round, find, difficult, pant, p...\n",
       "410    [cute, hilari, recomend, good, ador, halloween...\n",
       "411    [week, look, handsom, littl, sweater, hard, sw...\n",
       "412    [want, dress, guinea, sweater, small, especi, ...\n",
       "Name: review, Length: 413, dtype: object"
      ]
     },
     "execution_count": 8,
     "metadata": {},
     "output_type": "execute_result"
    }
   ],
   "source": [
    "processed_docs = documents['review'].map(preprocess)\n",
    "processed_docs"
   ]
  },
  {
   "cell_type": "code",
   "execution_count": 9,
   "id": "9b40dd71",
   "metadata": {},
   "outputs": [
    {
     "name": "stdout",
     "output_type": "stream",
     "text": [
      "0 blue\n",
      "1 boyfor\n",
      "2 cloth\n",
      "3 countwhich\n",
      "4 face\n",
      "5 flannel\n",
      "6 hand\n",
      "7 handl\n",
      "8 higher\n",
      "9 issu\n",
      "10 keep\n"
     ]
    }
   ],
   "source": [
    "dictionary=gensim.corpora.Dictionary(processed_docs)\n",
    "count=0\n",
    "\n",
    "for k,v in dictionary.iteritems():\n",
    "    print(k,v)\n",
    "    count+=1\n",
    "    if count>10:\n",
    "        break"
   ]
  },
  {
   "cell_type": "code",
   "execution_count": 10,
   "id": "602d83e2",
   "metadata": {},
   "outputs": [],
   "source": [
    "dictionary.filter_extremes(no_below=15,no_above=0.5)\n"
   ]
  },
  {
   "cell_type": "code",
   "execution_count": 11,
   "id": "0d26f3b7",
   "metadata": {},
   "outputs": [
    {
     "data": {
      "text/plain": [
       "[(13, 1),\n",
       " (24, 2),\n",
       " (25, 1),\n",
       " (26, 1),\n",
       " (27, 1),\n",
       " (28, 1),\n",
       " (29, 1),\n",
       " (30, 1),\n",
       " (31, 2),\n",
       " (32, 1),\n",
       " (33, 1),\n",
       " (34, 1)]"
      ]
     },
     "execution_count": 11,
     "metadata": {},
     "output_type": "execute_result"
    }
   ],
   "source": [
    "bow_corpus=[dictionary.doc2bow(doc) for doc in processed_docs]\n",
    "bow_corpus[4]\n"
   ]
  },
  {
   "cell_type": "code",
   "execution_count": 12,
   "id": "8da3ad7f",
   "metadata": {},
   "outputs": [
    {
     "name": "stdout",
     "output_type": "stream",
     "text": [
      "Word 13 (\"love\") appears 1 time.\n",
      "Word 24 (\"book\") appears 2 time.\n",
      "Word 25 (\"easi\") appears 1 time.\n",
      "Word 26 (\"expect\") appears 1 time.\n",
      "Word 27 (\"gift\") appears 1 time.\n",
      "Word 28 (\"go\") appears 1 time.\n",
      "Word 29 (\"great\") appears 1 time.\n",
      "Word 30 (\"help\") appears 1 time.\n",
      "Word 31 (\"kid\") appears 2 time.\n",
      "Word 32 (\"parent\") appears 1 time.\n",
      "Word 33 (\"tri\") appears 1 time.\n",
      "Word 34 (\"work\") appears 1 time.\n"
     ]
    }
   ],
   "source": [
    "bow_doc_4=bow_corpus[4]\n",
    "for i in range(len(bow_doc_4)):\n",
    "    print(\"Word {} (\\\"{}\\\") appears {} time.\".format(bow_doc_4[i][0], \n",
    "                                               dictionary[bow_doc_4[i][0]], \n",
    "bow_doc_4[i][1]))"
   ]
  },
  {
   "cell_type": "code",
   "execution_count": 13,
   "id": "582b9041",
   "metadata": {},
   "outputs": [
    {
     "name": "stdout",
     "output_type": "stream",
     "text": [
      "[(0, 0.37378287425890977),\n",
      " (1, 0.2910888830907095),\n",
      " (2, 0.32540999039054613),\n",
      " (3, 0.1454802833186967),\n",
      " (4, 0.2846385440521788),\n",
      " (5, 0.36733253522037906),\n",
      " (6, 0.36121313179202574),\n",
      " (7, 0.31688477799387366),\n",
      " (8, 0.28153961109325704),\n",
      " (9, 0.3498424166134522)]\n"
     ]
    }
   ],
   "source": [
    "from gensim import corpora, models\n",
    "tfidf=models.TfidfModel(bow_corpus)\n",
    "corpus_tfidf=tfidf[bow_corpus]\n",
    "\n",
    "from pprint import pprint\n",
    "\n",
    "for doc in corpus_tfidf:\n",
    "  pprint(doc)\n",
    "  break"
   ]
  },
  {
   "cell_type": "code",
   "execution_count": 14,
   "id": "0f9b048c",
   "metadata": {},
   "outputs": [
    {
     "name": "stdout",
     "output_type": "stream",
     "text": [
      "Topic: 0 Word: 0.025*\"love\" + 0.024*\"book\" + 0.023*\"month\" + 0.022*\"babi\" + 0.022*\"high\" + 0.022*\"learn\" + 0.022*\"great\" + 0.021*\"buy\" + 0.019*\"item\" + 0.017*\"time\"\n",
      "Topic: 1 Word: 0.042*\"sling\" + 0.032*\"gift\" + 0.027*\"babi\" + 0.027*\"monitor\" + 0.025*\"camera\" + 0.021*\"great\" + 0.019*\"play\" + 0.016*\"like\" + 0.016*\"give\" + 0.016*\"month\"\n",
      "Topic: 2 Word: 0.039*\"book\" + 0.029*\"year\" + 0.025*\"like\" + 0.021*\"look\" + 0.021*\"babi\" + 0.021*\"diaper\" + 0.020*\"page\" + 0.020*\"happi\" + 0.019*\"love\" + 0.017*\"track\"\n",
      "Topic: 3 Word: 0.039*\"play\" + 0.025*\"great\" + 0.022*\"easi\" + 0.021*\"favorit\" + 0.020*\"look\" + 0.019*\"item\" + 0.019*\"go\" + 0.018*\"like\" + 0.018*\"babi\" + 0.018*\"month\"\n",
      "Topic: 4 Word: 0.031*\"love\" + 0.023*\"easi\" + 0.022*\"babi\" + 0.022*\"need\" + 0.020*\"disappoint\" + 0.019*\"room\" + 0.019*\"nice\" + 0.019*\"good\" + 0.019*\"year\" + 0.018*\"littl\"\n",
      "Topic: 5 Word: 0.034*\"book\" + 0.030*\"price\" + 0.028*\"good\" + 0.028*\"qualiti\" + 0.027*\"famili\" + 0.027*\"cute\" + 0.026*\"teeth\" + 0.023*\"interact\" + 0.021*\"vibrat\" + 0.020*\"play\"\n",
      "Topic: 6 Word: 0.027*\"perfect\" + 0.027*\"diaper\" + 0.025*\"book\" + 0.023*\"think\" + 0.022*\"daughter\" + 0.021*\"babi\" + 0.021*\"year\" + 0.020*\"start\" + 0.019*\"receiv\" + 0.019*\"love\"\n",
      "Topic: 7 Word: 0.049*\"teether\" + 0.033*\"stick\" + 0.031*\"free\" + 0.026*\"vibrat\" + 0.025*\"buy\" + 0.024*\"help\" + 0.024*\"hard\" + 0.023*\"teeth\" + 0.018*\"like\" + 0.018*\"daughter\"\n"
     ]
    }
   ],
   "source": [
    "lda_model_tfidf=gensim.models.LdaMulticore(corpus_tfidf,num_topics=8,id2word=dictionary,passes=2,workers=4)\n",
    "for idx, topic in lda_model_tfidf.print_topics(-1):\n",
    "      print('Topic: {} Word: {}'.format(idx,topic))"
   ]
  },
  {
   "cell_type": "code",
   "execution_count": 15,
   "id": "2ea59294",
   "metadata": {},
   "outputs": [
    {
     "name": "stdout",
     "output_type": "stream",
     "text": [
      "\n",
      "Score:0.9415656328201294\t \n",
      "Topic:0.027*\"perfect\" + 0.027*\"diaper\" + 0.025*\"book\" + 0.023*\"think\" + 0.022*\"daughter\" + 0.021*\"babi\" + 0.021*\"year\" + 0.020*\"start\" + 0.019*\"receiv\" + 0.019*\"love\"\n"
     ]
    }
   ],
   "source": [
    "for index, score in sorted(lda_model_tfidf[bow_corpus[4]],key=lambda tup:-1*tup[1]):\n",
    "  print(\"\\nScore:{}\\t \\nTopic:{}\".format(score,lda_model_tfidf.print_topic(index,10)))"
   ]
  },
  {
   "cell_type": "code",
   "execution_count": 16,
   "id": "193aa9da",
   "metadata": {},
   "outputs": [
    {
     "data": {
      "text/html": [
       "\n",
       "<link rel=\"stylesheet\" type=\"text/css\" href=\"https://cdn.jsdelivr.net/gh/bmabey/pyLDAvis@3.3.1/pyLDAvis/js/ldavis.v1.0.0.css\">\n",
       "\n",
       "\n",
       "<div id=\"ldavis_el12321406795489416966362390047\"></div>\n",
       "<script type=\"text/javascript\">\n",
       "\n",
       "var ldavis_el12321406795489416966362390047_data = {\"mdsDat\": {\"x\": [-0.06259200756359778, 0.034101455587980854, 0.04479282658721481, -0.032208800681478675, -0.030715828386307084, 0.034196258608533675, -0.04995275540171491, 0.0623788512493693], \"y\": [0.05463504687733739, -0.015345514905014368, 0.01558694481264312, 0.006621822651259366, 0.03320570560411463, 0.01289019455961894, -0.09568870715018306, -0.011905492449776109], \"topics\": [1, 2, 3, 4, 5, 6, 7, 8], \"cluster\": [1, 1, 1, 1, 1, 1, 1, 1], \"Freq\": [22.626900400591726, 22.015241458002812, 12.90028784692669, 10.150351310399973, 9.301416199527598, 8.796870240762903, 7.119736800990038, 7.089195742798264]}, \"tinfo\": {\"Term\": [\"book\", \"teether\", \"sling\", \"free\", \"stick\", \"vibrat\", \"good\", \"play\", \"teeth\", \"qualiti\", \"price\", \"monitor\", \"famili\", \"item\", \"help\", \"happi\", \"year\", \"page\", \"love\", \"hard\", \"product\", \"camera\", \"high\", \"buy\", \"learn\", \"easi\", \"interact\", \"cute\", \"favorit\", \"read\", \"sling\", \"monitor\", \"camera\", \"hous\", \"wish\", \"gift\", \"screen\", \"light\", \"phone\", \"video\", \"order\", \"small\", \"face\", \"option\", \"give\", \"take\", \"sound\", \"make\", \"featur\", \"disappoint\", \"differ\", \"abl\", \"design\", \"best\", \"want\", \"overal\", \"free\", \"definit\", \"need\", \"size\", \"thing\", \"play\", \"great\", \"babi\", \"cute\", \"recommend\", \"work\", \"nice\", \"like\", \"month\", \"come\", \"easi\", \"littl\", \"receiv\", \"special\", \"money\", \"perfect\", \"start\", \"feel\", \"keep\", \"reason\", \"put\", \"soft\", \"super\", \"diaper\", \"tri\", \"think\", \"worth\", \"second\", \"turn\", \"daughter\", \"children\", \"sensit\", \"track\", \"year\", \"wall\", \"toy\", \"book\", \"say\", \"help\", \"child\", \"go\", \"kid\", \"look\", \"littl\", \"love\", \"babi\", \"cute\", \"gift\", \"month\", \"buy\", \"recommend\", \"great\", \"nice\", \"like\", \"happi\", \"page\", \"read\", \"chang\", \"older\", \"expect\", \"right\", \"enjoy\", \"batteri\", \"sleep\", \"chew\", \"book\", \"track\", \"review\", \"simpl\", \"year\", \"week\", \"stack\", \"use\", \"children\", \"parent\", \"vibrat\", \"purchas\", \"price\", \"friend\", \"look\", \"like\", \"diaper\", \"time\", \"complaint\", \"take\", \"littl\", \"love\", \"babi\", \"buy\", \"easi\", \"play\", \"great\", \"room\", \"complaint\", \"photo\", \"actual\", \"disappoint\", \"need\", \"option\", \"wall\", \"see\", \"keep\", \"place\", \"star\", \"plastic\", \"happi\", \"nice\", \"hard\", \"easi\", \"qualiti\", \"good\", \"simpl\", \"face\", \"love\", \"recommend\", \"highli\", \"pretti\", \"away\", \"work\", \"stick\", \"order\", \"overal\", \"year\", \"littl\", \"babi\", \"month\", \"come\", \"like\", \"daughter\", \"look\", \"monitor\", \"think\", \"diaper\", \"favorit\", \"item\", \"night\", \"sound\", \"use\", \"play\", \"have\", \"go\", \"sleep\", \"make\", \"turn\", \"super\", \"definit\", \"help\", \"long\", \"hold\", \"screen\", \"away\", \"size\", \"video\", \"easi\", \"color\", \"qualiti\", \"parent\", \"product\", \"better\", \"camera\", \"monitor\", \"feel\", \"look\", \"great\", \"good\", \"like\", \"month\", \"buy\", \"littl\", \"love\", \"babi\", \"high\", \"learn\", \"right\", \"life\", \"item\", \"sure\", \"activ\", \"review\", \"older\", \"read\", \"pictur\", \"wish\", \"happi\", \"put\", \"page\", \"have\", \"night\", \"best\", \"leav\", \"differ\", \"color\", \"favorit\", \"highli\", \"worth\", \"sensit\", \"buy\", \"time\", \"super\", \"make\", \"give\", \"book\", \"month\", \"love\", \"great\", \"daughter\", \"babi\", \"littl\", \"product\", \"look\", \"cute\", \"teether\", \"free\", \"stick\", \"plastic\", \"vibrat\", \"hard\", \"help\", \"chew\", \"teeth\", \"know\", \"star\", \"hold\", \"best\", \"activ\", \"child\", \"review\", \"hand\", \"buy\", \"toy\", \"product\", \"have\", \"see\", \"leav\", \"go\", \"design\", \"good\", \"complaint\", \"wall\", \"soft\", \"daughter\", \"want\", \"easi\", \"like\", \"great\", \"think\", \"month\", \"diaper\", \"love\", \"babi\", \"famili\", \"price\", \"interact\", \"qualiti\", \"activ\", \"teeth\", \"kid\", \"vibrat\", \"say\", \"good\", \"cute\", \"overal\", \"pictur\", \"worth\", \"book\", \"product\", \"pack\", \"hand\", \"highli\", \"page\", \"stack\", \"color\", \"learn\", \"featur\", \"time\", \"money\", \"away\", \"work\", \"size\", \"batteri\", \"play\", \"like\", \"year\", \"love\", \"babi\", \"month\", \"think\", \"great\", \"buy\"], \"Freq\": [91.0, 37.0, 63.0, 26.0, 36.0, 40.0, 59.0, 80.0, 46.0, 37.0, 32.0, 53.0, 26.0, 33.0, 44.0, 32.0, 74.0, 35.0, 101.0, 42.0, 54.0, 49.0, 21.0, 72.0, 26.0, 66.0, 27.0, 66.0, 36.0, 27.0, 53.03693523454032, 34.27069100738986, 31.414522728380458, 18.83792006815641, 15.583497226255812, 40.63097594410154, 12.208378486966968, 12.032595490612792, 16.5867189078682, 11.69386032200662, 13.977239758003659, 17.084232876660113, 13.424877605792753, 10.145967685716597, 19.93100812621074, 18.564478282373635, 10.359728838643257, 13.662387905624373, 7.868053884202269, 13.085601052203366, 15.676908497413931, 12.563603536007523, 10.873232495222018, 11.186038853903856, 17.69053109628568, 7.071229931282887, 8.44783012426972, 9.762871313893458, 13.962072740006523, 14.717812045781262, 12.923834042295058, 23.772774828705025, 26.12043431606775, 34.3359820363655, 19.42839219241397, 16.848206677836828, 14.751467360955166, 14.990418215611685, 20.212883748492896, 19.696501336112085, 13.656117255210098, 13.539625329908901, 13.31851428737317, 23.903095501720056, 18.983701120977354, 20.11338303940236, 33.068010622158525, 24.377635469249444, 17.22362076313672, 18.108236796919773, 12.83795358973579, 10.978608328333785, 17.45084585229282, 13.287854250688223, 32.95020640672836, 18.52681644130424, 28.504914561944084, 12.691621278160637, 10.508408323249284, 17.90747059226277, 27.533012608012847, 9.96412092232789, 9.467692199618014, 15.182705901411774, 25.403334635756103, 12.610176558126273, 18.492276523830583, 30.47121527777286, 10.966400323155696, 14.5085780462058, 10.884334954138449, 13.566586334770733, 10.856610724388267, 20.274989957587636, 21.585638003985064, 23.79305054368476, 25.85517396594843, 17.398792640457124, 17.892623111244188, 18.57809326935692, 15.417213882691753, 14.130230655261624, 15.067159840583539, 13.769168682023407, 14.175918207141875, 14.216919342037803, 14.59613247320031, 11.430153136289503, 10.273521750530207, 8.169652672210958, 10.839835932182716, 8.97258369991958, 11.945583352780007, 7.640134804584718, 10.470647545386386, 9.742681341327948, 28.41147558633558, 12.475674925656119, 8.4852811446798, 7.019117324106731, 21.12492505675098, 5.048449520301972, 8.21990858109942, 6.932732746482787, 6.428633711927468, 8.675700962615258, 9.090593863317732, 9.88052694436523, 7.216484008067827, 9.013591882780286, 15.412143980606006, 17.91197704138343, 15.2508100123386, 11.035718363497361, 2.8577412616607805, 7.5167640198517995, 11.975479099800802, 13.945570849854667, 15.284974663218675, 9.85070500737658, 9.402464063149695, 9.860400961599558, 9.446772896447968, 10.984966513102501, 5.9580937289862055, 8.667369951707522, 8.87386198579087, 11.342304222423047, 12.507750098940493, 6.208054102283968, 8.89845772074985, 5.925957610936078, 9.18855603580096, 7.319216823228012, 6.158117147075102, 5.010008555247971, 6.8825276955171795, 10.774115607516528, 8.254585453965731, 12.915754409838199, 6.753885021996481, 10.624637359264769, 4.206142579490461, 5.532746853757315, 17.790628445151192, 10.046278044185456, 6.168041288019248, 4.610423159682252, 3.797488344801606, 7.945680530170065, 5.89137754712703, 4.9936448363341635, 3.3832202679752243, 10.520688622023242, 10.266733672442912, 12.694124589451157, 9.581090998948309, 6.46335113657356, 8.927743888658119, 7.705150651395062, 7.325353349811711, 6.655372730959234, 6.87025464234978, 6.838008707769548, 11.045389541052138, 9.91162301594263, 7.591825234439367, 6.5821925261062475, 7.150358361722009, 20.017304996560753, 5.944401986903299, 9.882732948886796, 6.840310475585887, 7.533178117707806, 9.074798038145142, 6.065959529990562, 6.112618870296, 8.534988146364036, 5.44095456539465, 7.213877417617789, 4.150657521392119, 4.2569001454879825, 8.519368912602596, 4.069972499906893, 11.564737288343519, 8.713487869379016, 6.039840227144606, 6.063696763409523, 8.66691658199591, 3.9210321912996555, 7.636743352396043, 8.106476664603926, 5.303632646366277, 10.361684724732719, 12.997773441326931, 7.845561825322067, 9.557204197867186, 9.472217645983838, 7.942080407187377, 8.329003332592414, 9.068475644798763, 9.516675663230963, 11.036815387081292, 10.914048320454144, 7.7930223747671, 7.100468710291768, 9.294702273956466, 7.2857975365731775, 5.420625888790517, 6.672317272812343, 4.831333353504052, 6.450228242265063, 7.213441627473304, 5.620572500278138, 6.342748833994715, 4.765563157694095, 6.663506885165754, 4.456530174476516, 4.710339803496908, 5.761062378887385, 4.947812123199126, 7.594334063254972, 8.265877778648589, 5.6015081117403485, 5.291489994032864, 4.507041080874574, 3.696860161999263, 10.473307477329005, 8.422270281129933, 4.250390439291332, 5.060560376639584, 6.430908990786783, 11.783483271520867, 11.409220932700979, 12.295824586196957, 10.627740692357598, 8.101138400475266, 11.053959381074666, 6.8494113264904986, 5.8464588513696425, 6.237498218153687, 5.994167711329201, 19.677232140654283, 12.503770239578065, 12.994101593892369, 5.803616427958549, 10.182573566130591, 9.454606796311033, 9.516881993513092, 6.649086239018278, 9.17213866043093, 5.819229111197578, 5.191255505986685, 6.59538118616304, 5.713910991720582, 3.5597110355855235, 5.234550622034857, 4.048972510588706, 5.813558639750058, 9.74379047093391, 7.108312953976513, 7.00626372500809, 3.0561620982207254, 3.107523526562142, 3.666632307550523, 5.2874657639968365, 3.7845145652720342, 6.8610275159412515, 1.7155879527492943, 3.989453298791066, 4.16152277719858, 7.185456103612939, 5.420413729622477, 6.510941081889601, 7.239195226698922, 6.782617101852538, 5.631715078733191, 6.424024960629607, 5.829535355998028, 6.688578821052399, 5.7614093373226565, 10.60183978408497, 11.87320817874197, 9.059256466454803, 11.173102149775364, 4.992712232654285, 10.321844423725043, 7.148528273937165, 8.326513258204544, 6.396592147579186, 11.243598604524067, 10.588363811267204, 3.3958385842107552, 5.404117686838543, 4.531411828710342, 13.396824984637483, 7.711061088363735, 3.9010385939083636, 5.210052394818069, 4.35617218973639, 4.170180829221902, 3.6988669212600294, 5.825774482354457, 2.879380757293402, 2.3798589751835126, 6.319590381375031, 3.51621487037827, 2.418447802780666, 4.970139812251519, 4.753929100772922, 2.356101424352346, 7.997615596222222, 7.315252599599656, 5.946013597234055, 7.1454537196397165, 7.628276003665795, 6.143335969862512, 5.171886696395336, 5.469750829446559, 5.077609828934149], \"Total\": [91.0, 37.0, 63.0, 26.0, 36.0, 40.0, 59.0, 80.0, 46.0, 37.0, 32.0, 53.0, 26.0, 33.0, 44.0, 32.0, 74.0, 35.0, 101.0, 42.0, 54.0, 49.0, 21.0, 72.0, 26.0, 66.0, 27.0, 66.0, 36.0, 27.0, 63.02557337306932, 53.438945960495005, 49.42817911607978, 32.14788215765208, 27.930846113901165, 73.95737491477048, 22.300498737677696, 23.186985637710325, 32.23588081219056, 22.8177654978285, 31.92065173917245, 39.32147827854129, 31.455834945622218, 23.90524891253803, 47.346417860071746, 44.354692089220684, 25.212639069310338, 36.72112544912075, 22.349735409973665, 37.93216747963472, 46.366076704509226, 37.543760494220535, 32.81295711577946, 34.25605005472533, 54.58790731736917, 22.254995079679492, 26.71081584680247, 30.947577353977344, 44.78102242393714, 47.21664716972944, 41.826597846584804, 80.30593411410602, 89.92820395140089, 122.13057564027784, 66.56757568898026, 57.54719987576383, 49.31353380484407, 50.92699658516415, 87.34762184950831, 89.04462177573377, 48.19101709563505, 66.92938662468332, 79.19341674149021, 33.56983386374429, 28.517943582825616, 33.58249291659236, 61.1336616564443, 45.5994302314957, 34.9835175729345, 40.14516710954071, 28.908154784401475, 24.802827860275677, 39.71938252970433, 30.328504065347, 76.33252590850121, 43.635706848745336, 68.20045803700616, 30.370620591603785, 25.93345722080269, 44.80360582337277, 70.01266900282508, 25.84652786976009, 25.02532973685388, 40.38074648781313, 74.62277511116997, 37.14363451836976, 54.74956048753953, 91.89267983513523, 33.30140726219812, 44.53192950743093, 34.464117429432044, 43.18386643052099, 34.822262410794174, 70.84113710335038, 79.19341674149021, 101.23714680466954, 122.13057564027784, 66.56757568898026, 73.95737491477048, 89.04462177573377, 72.07257489400773, 57.54719987576383, 89.92820395140089, 50.92699658516415, 87.34762184950831, 32.25910429454774, 35.22947762255018, 27.78413641317062, 25.47327092499484, 20.437491355678645, 30.769387876989068, 25.576483580420412, 36.30894295994771, 23.651829438937572, 32.57564275120334, 31.503679653760287, 91.89267983513523, 40.38074648781313, 27.82199931912328, 23.865526460663627, 74.62277511116997, 19.401574076557374, 31.752931022034762, 27.528714009622277, 25.84652786976009, 37.39057115827576, 40.60667763781299, 44.59424404138538, 32.83002276942889, 41.11549065065902, 70.84113710335038, 87.34762184950831, 76.33252590850121, 59.55159146533503, 15.942100429592175, 44.354692089220684, 79.19341674149021, 101.23714680466954, 122.13057564027784, 72.07257489400773, 66.92938662468332, 80.30593411410602, 89.92820395140089, 22.971477095374617, 15.942100429592175, 26.99459009869796, 28.742531165834194, 37.93216747963472, 44.78102242393714, 23.90524891253803, 37.14363451836976, 25.252047315729314, 40.14516710954071, 32.17726525037675, 27.8480522989273, 23.119100299809638, 32.25910429454774, 50.92699658516415, 42.329123102463065, 66.92938662468332, 37.23550946463244, 59.93955238877737, 23.865526460663627, 31.455834945622218, 101.23714680466954, 57.54719987576383, 35.39802864510345, 26.992416636265126, 23.313102167840967, 49.31353380484407, 36.9742544784265, 31.92065173917245, 22.254995079679492, 74.62277511116997, 79.19341674149021, 122.13057564027784, 89.04462177573377, 48.19101709563505, 87.34762184950831, 70.01266900282508, 70.84113710335038, 53.438945960495005, 68.20045803700616, 76.33252590850121, 36.39203433504847, 33.34565375967148, 27.96303734959527, 25.212639069310338, 27.528714009622277, 80.30593411410602, 24.46076385872021, 43.18386643052099, 32.57564275120334, 36.72112544912075, 44.80360582337277, 30.328504065347, 30.947577353977344, 44.53192950743093, 28.936309719154316, 38.471779284914845, 22.300498737677696, 23.313102167840967, 47.21664716972944, 22.8177654978285, 66.92938662468332, 53.14450853899366, 37.23550946463244, 37.39057115827576, 54.57340565302038, 24.973580529741067, 49.42817911607978, 53.438945960495005, 34.9835175729345, 70.84113710335038, 89.92820395140089, 59.93955238877737, 87.34762184950831, 89.04462177573377, 72.07257489400773, 79.19341674149021, 101.23714680466954, 122.13057564027784, 21.804052499895057, 26.45969307908331, 25.576483580420412, 23.858852429509078, 33.34565375967148, 26.40948480446019, 21.77300818341506, 27.82199931912328, 20.437491355678645, 27.78413641317062, 35.60037884424713, 27.930846113901165, 32.25910429454774, 24.802827860275677, 35.22947762255018, 24.46076385872021, 27.96303734959527, 34.25605005472533, 29.808355426695943, 46.366076704509226, 53.14450853899366, 36.39203433504847, 35.39802864510345, 30.370620591603785, 25.02532973685388, 72.07257489400773, 59.55159146533503, 30.328504065347, 36.72112544912075, 47.346417860071746, 91.89267983513523, 89.04462177573377, 101.23714680466954, 89.92820395140089, 70.01266900282508, 122.13057564027784, 79.19341674149021, 54.57340565302038, 70.84113710335038, 66.56757568898026, 37.65839209065954, 26.71081584680247, 36.9742544784265, 23.119100299809638, 40.60667763781299, 42.329123102463065, 44.53192950743093, 31.503679653760287, 46.436951353497165, 30.436639952758743, 27.8480522989273, 38.471779284914845, 34.25605005472533, 21.77300818341506, 34.464117429432044, 27.82199931912328, 40.61578387916505, 72.07257489400773, 54.74956048753953, 54.57340565302038, 24.46076385872021, 25.252047315729314, 29.808355426695943, 43.18386643052099, 32.81295711577946, 59.93955238877737, 15.942100429592175, 37.14363451836976, 39.71938252970433, 70.01266900282508, 54.58790731736917, 66.92938662468332, 87.34762184950831, 89.92820395140089, 68.20045803700616, 89.04462177573377, 76.33252590850121, 101.23714680466954, 122.13057564027784, 26.166546175691842, 32.83002276942889, 27.269731415750698, 37.23550946463244, 21.77300818341506, 46.436951353497165, 34.822262410794174, 40.60667763781299, 33.30140726219812, 59.93955238877737, 66.56757568898026, 22.254995079679492, 35.60037884424713, 30.370620591603785, 91.89267983513523, 54.57340565302038, 27.85208903136081, 40.61578387916505, 35.39802864510345, 35.22947762255018, 31.752931022034762, 53.14450853899366, 26.45969307908331, 22.349735409973665, 59.55159146533503, 33.58249291659236, 23.313102167840967, 49.31353380484407, 47.21664716972944, 23.651829438937572, 80.30593411410602, 87.34762184950831, 74.62277511116997, 101.23714680466954, 122.13057564027784, 89.04462177573377, 68.20045803700616, 89.92820395140089, 72.07257489400773], \"Category\": [\"Default\", \"Default\", \"Default\", \"Default\", \"Default\", \"Default\", \"Default\", \"Default\", \"Default\", \"Default\", \"Default\", \"Default\", \"Default\", \"Default\", \"Default\", \"Default\", \"Default\", \"Default\", \"Default\", \"Default\", \"Default\", \"Default\", \"Default\", \"Default\", \"Default\", \"Default\", \"Default\", \"Default\", \"Default\", \"Default\", \"Topic1\", \"Topic1\", \"Topic1\", \"Topic1\", \"Topic1\", \"Topic1\", \"Topic1\", \"Topic1\", \"Topic1\", \"Topic1\", \"Topic1\", \"Topic1\", \"Topic1\", \"Topic1\", \"Topic1\", \"Topic1\", \"Topic1\", \"Topic1\", \"Topic1\", \"Topic1\", \"Topic1\", \"Topic1\", \"Topic1\", \"Topic1\", \"Topic1\", \"Topic1\", \"Topic1\", \"Topic1\", \"Topic1\", \"Topic1\", \"Topic1\", \"Topic1\", \"Topic1\", \"Topic1\", \"Topic1\", \"Topic1\", \"Topic1\", \"Topic1\", \"Topic1\", \"Topic1\", \"Topic1\", \"Topic1\", \"Topic1\", \"Topic2\", \"Topic2\", \"Topic2\", \"Topic2\", \"Topic2\", \"Topic2\", \"Topic2\", \"Topic2\", \"Topic2\", \"Topic2\", \"Topic2\", \"Topic2\", \"Topic2\", \"Topic2\", \"Topic2\", \"Topic2\", \"Topic2\", \"Topic2\", \"Topic2\", \"Topic2\", \"Topic2\", \"Topic2\", \"Topic2\", \"Topic2\", \"Topic2\", \"Topic2\", \"Topic2\", \"Topic2\", \"Topic2\", \"Topic2\", \"Topic2\", \"Topic2\", \"Topic2\", \"Topic2\", \"Topic2\", \"Topic2\", \"Topic2\", \"Topic2\", \"Topic2\", \"Topic2\", \"Topic2\", \"Topic2\", \"Topic3\", \"Topic3\", \"Topic3\", \"Topic3\", \"Topic3\", \"Topic3\", \"Topic3\", \"Topic3\", \"Topic3\", \"Topic3\", \"Topic3\", \"Topic3\", \"Topic3\", \"Topic3\", \"Topic3\", \"Topic3\", \"Topic3\", \"Topic3\", \"Topic3\", \"Topic3\", \"Topic3\", \"Topic3\", \"Topic3\", \"Topic3\", \"Topic3\", \"Topic3\", \"Topic3\", \"Topic3\", \"Topic3\", \"Topic3\", \"Topic3\", \"Topic3\", \"Topic3\", \"Topic3\", \"Topic3\", \"Topic3\", \"Topic3\", \"Topic3\", \"Topic4\", \"Topic4\", \"Topic4\", \"Topic4\", \"Topic4\", \"Topic4\", \"Topic4\", \"Topic4\", \"Topic4\", \"Topic4\", \"Topic4\", \"Topic4\", \"Topic4\", \"Topic4\", \"Topic4\", \"Topic4\", \"Topic4\", \"Topic4\", \"Topic4\", \"Topic4\", \"Topic4\", \"Topic4\", \"Topic4\", \"Topic4\", \"Topic4\", \"Topic4\", \"Topic4\", \"Topic4\", \"Topic4\", \"Topic4\", \"Topic4\", \"Topic4\", \"Topic4\", \"Topic4\", \"Topic4\", \"Topic4\", \"Topic4\", \"Topic4\", \"Topic4\", \"Topic4\", \"Topic4\", \"Topic5\", \"Topic5\", \"Topic5\", \"Topic5\", \"Topic5\", \"Topic5\", \"Topic5\", \"Topic5\", \"Topic5\", \"Topic5\", \"Topic5\", \"Topic5\", \"Topic5\", \"Topic5\", \"Topic5\", \"Topic5\", \"Topic5\", \"Topic5\", \"Topic5\", \"Topic5\", \"Topic5\", \"Topic5\", \"Topic5\", \"Topic5\", \"Topic5\", \"Topic5\", \"Topic5\", \"Topic5\", \"Topic5\", \"Topic5\", \"Topic5\", \"Topic5\", \"Topic5\", \"Topic5\", \"Topic5\", \"Topic5\", \"Topic5\", \"Topic5\", \"Topic6\", \"Topic6\", \"Topic6\", \"Topic6\", \"Topic6\", \"Topic6\", \"Topic6\", \"Topic6\", \"Topic6\", \"Topic6\", \"Topic6\", \"Topic6\", \"Topic6\", \"Topic6\", \"Topic6\", \"Topic6\", \"Topic6\", \"Topic6\", \"Topic6\", \"Topic6\", \"Topic6\", \"Topic6\", \"Topic6\", \"Topic6\", \"Topic6\", \"Topic6\", \"Topic6\", \"Topic6\", \"Topic6\", \"Topic6\", \"Topic6\", \"Topic6\", \"Topic6\", \"Topic6\", \"Topic6\", \"Topic6\", \"Topic6\", \"Topic6\", \"Topic6\", \"Topic6\", \"Topic7\", \"Topic7\", \"Topic7\", \"Topic7\", \"Topic7\", \"Topic7\", \"Topic7\", \"Topic7\", \"Topic7\", \"Topic7\", \"Topic7\", \"Topic7\", \"Topic7\", \"Topic7\", \"Topic7\", \"Topic7\", \"Topic7\", \"Topic7\", \"Topic7\", \"Topic7\", \"Topic7\", \"Topic7\", \"Topic7\", \"Topic7\", \"Topic7\", \"Topic7\", \"Topic7\", \"Topic7\", \"Topic7\", \"Topic7\", \"Topic7\", \"Topic7\", \"Topic7\", \"Topic7\", \"Topic7\", \"Topic7\", \"Topic7\", \"Topic7\", \"Topic7\", \"Topic8\", \"Topic8\", \"Topic8\", \"Topic8\", \"Topic8\", \"Topic8\", \"Topic8\", \"Topic8\", \"Topic8\", \"Topic8\", \"Topic8\", \"Topic8\", \"Topic8\", \"Topic8\", \"Topic8\", \"Topic8\", \"Topic8\", \"Topic8\", \"Topic8\", \"Topic8\", \"Topic8\", \"Topic8\", \"Topic8\", \"Topic8\", \"Topic8\", \"Topic8\", \"Topic8\", \"Topic8\", \"Topic8\", \"Topic8\", \"Topic8\", \"Topic8\", \"Topic8\", \"Topic8\", \"Topic8\", \"Topic8\", \"Topic8\", \"Topic8\", \"Topic8\"], \"logprob\": [30.0, 29.0, 28.0, 27.0, 26.0, 25.0, 24.0, 23.0, 22.0, 21.0, 20.0, 19.0, 18.0, 17.0, 16.0, 15.0, 14.0, 13.0, 12.0, 11.0, 10.0, 9.0, 8.0, 7.0, 6.0, 5.0, 4.0, 3.0, 2.0, 1.0, -3.1708, -3.6075, -3.6945, -4.2059, -4.3956, -3.4373, -4.6397, -4.6542, -4.3332, -4.6827, -4.5044, -4.3037, -4.5447, -4.8247, -4.1495, -4.2206, -4.8039, -4.5272, -5.079, -4.5703, -4.3896, -4.611, -4.7555, -4.7271, -4.2688, -5.1858, -5.0079, -4.8632, -4.5055, -4.4528, -4.5827, -3.9733, -3.8791, -3.6056, -4.1751, -4.3176, -4.4505, -4.4344, -4.1355, -4.1614, -4.5276, -4.5362, -4.5527, -3.9404, -4.1708, -4.113, -3.6158, -3.9207, -4.2681, -4.218, -4.562, -4.7185, -4.255, -4.5276, -3.6194, -4.1952, -3.7643, -4.5735, -4.7622, -4.2292, -3.799, -4.8154, -4.8665, -4.3942, -3.8795, -4.5799, -4.1971, -3.6976, -4.7196, -4.4397, -4.7271, -4.5068, -4.7296, -4.105, -4.0424, -3.945, -3.8619, -4.258, -4.23, -4.1924, -4.3789, -4.4661, -4.4019, -4.492, -4.4629, -3.9255, -3.8992, -4.1437, -4.2503, -4.4795, -4.1967, -4.3857, -4.0996, -4.5465, -4.2313, -4.3034, -3.2331, -4.0561, -4.4416, -4.6313, -3.5295, -4.9608, -4.4734, -4.6437, -4.7192, -4.4194, -4.3727, -4.2894, -4.6036, -4.3812, -3.8448, -3.6944, -3.8553, -4.1788, -5.5299, -4.5628, -4.0971, -3.9448, -3.853, -4.2924, -4.3389, -4.2914, -4.3342, -3.9437, -4.5554, -4.1806, -4.1571, -3.9116, -3.8138, -4.5143, -4.1543, -4.5608, -4.1222, -4.3497, -4.5224, -4.7287, -4.4112, -3.963, -4.2294, -3.7817, -4.4301, -3.977, -4.9036, -4.6295, -3.4615, -4.033, -4.5208, -4.8119, -5.0058, -4.2675, -4.5667, -4.732, -5.1213, -3.9868, -4.0113, -3.799, -4.0804, -4.474, -4.151, -4.2983, -4.3488, -4.4448, -4.413, -4.4177, -3.8508, -3.9591, -4.2258, -4.3685, -4.2857, -3.2562, -4.4704, -3.962, -4.33, -4.2335, -4.0473, -4.4501, -4.4425, -4.1087, -4.5589, -4.2768, -4.8296, -4.8043, -4.1105, -4.8492, -3.8049, -4.088, -4.4545, -4.4505, -4.0933, -4.8865, -4.2199, -4.1602, -4.5844, -3.9147, -3.6881, -4.1929, -3.9955, -4.0045, -4.1807, -4.1331, -4.048, -3.9998, -3.7958, -3.807, -4.1438, -4.2369, -3.9676, -4.2111, -4.5069, -4.2991, -4.6219, -4.333, -4.2211, -4.4706, -4.3498, -4.6356, -4.3004, -4.7027, -4.6473, -4.4459, -4.5981, -4.1697, -4.0849, -4.474, -4.531, -4.6914, -4.8896, -3.8482, -4.0662, -4.7501, -4.5756, -4.3359, -3.7304, -3.7626, -3.6878, -3.8336, -4.1051, -3.7943, -4.2729, -4.4312, -4.3665, -4.4063, -3.0061, -3.4595, -3.421, -4.2271, -3.6649, -3.739, -3.7325, -4.0911, -3.7694, -4.2244, -4.3386, -4.0992, -4.2426, -4.7159, -4.3303, -4.5871, -4.2253, -3.7089, -4.0243, -4.0387, -4.8684, -4.8517, -4.6863, -4.3202, -4.6546, -4.0597, -5.4458, -4.6019, -4.5597, -4.0135, -4.2954, -4.1121, -4.006, -4.0712, -4.2571, -4.1255, -4.2226, -4.0851, -4.2344, -3.6202, -3.507, -3.7775, -3.5677, -4.3733, -3.647, -4.0143, -3.8618, -4.1255, -3.5614, -3.6215, -4.7587, -4.2941, -4.4702, -3.3862, -3.9386, -4.62, -4.3307, -4.5096, -4.5533, -4.6732, -4.2189, -4.9237, -5.1142, -4.1376, -4.7239, -5.0981, -4.3778, -4.4223, -5.1242, -3.9021, -3.9913, -4.1985, -4.0148, -3.9494, -4.1659, -4.338, -4.282, -4.3564], \"loglift\": [30.0, 29.0, 28.0, 27.0, 26.0, 25.0, 24.0, 23.0, 22.0, 21.0, 20.0, 19.0, 18.0, 17.0, 16.0, 15.0, 14.0, 13.0, 12.0, 11.0, 10.0, 9.0, 8.0, 7.0, 6.0, 5.0, 4.0, 3.0, 2.0, 1.0, 1.3135, 1.0418, 1.0328, 0.9516, 0.9025, 0.8871, 0.8835, 0.8301, 0.8216, 0.8176, 0.6602, 0.6524, 0.6346, 0.629, 0.6208, 0.6151, 0.5966, 0.4973, 0.442, 0.4217, 0.4017, 0.3913, 0.3815, 0.3668, 0.3592, 0.3395, 0.3349, 0.3323, 0.3206, 0.3203, 0.3116, 0.2687, 0.2497, 0.2171, 0.2545, 0.2577, 0.2792, 0.263, 0.0225, -0.0227, 0.225, -0.112, -0.2967, 1.1738, 1.1065, 1.0008, 0.8989, 0.8872, 0.8048, 0.7173, 0.7017, 0.6984, 0.691, 0.6882, 0.6733, 0.6568, 0.6411, 0.6409, 0.6101, 0.5964, 0.5801, 0.5602, 0.5414, 0.5352, 0.4359, 0.4331, 0.428, 0.4096, 0.4027, 0.392, 0.3608, 0.3556, 0.348, 0.2624, 0.2136, 0.0654, -0.0391, 0.1716, 0.0943, -0.0537, -0.0288, 0.1091, -0.2731, 0.2055, -0.3049, 1.2286, 1.1668, 1.1597, 1.1399, 1.131, 1.0046, 1.0004, 0.9362, 0.9179, 0.9129, 0.8743, 0.8741, 0.8733, 0.8604, 0.8241, 0.7859, 0.7016, 0.6965, 0.6689, 0.6565, 0.587, 0.5512, 0.5409, 0.5329, 0.5303, 0.5226, 0.4635, 0.4375, 0.3622, 0.329, 0.2728, 0.1589, 0.0656, -0.0303, 0.0578, 0.0853, -0.0494, -0.2054, 1.5499, 1.3034, 1.1516, 1.1124, 1.0804, 1.0122, 0.9394, 0.8587, 0.8381, 0.8131, 0.8069, 0.7787, 0.7584, 0.7428, 0.7344, 0.653, 0.6425, 0.5805, 0.5575, 0.5518, 0.5498, 0.5489, 0.5423, 0.5404, 0.5204, 0.473, 0.4621, 0.4509, 0.4326, 0.4039, 0.3286, 0.2447, 0.0237, 0.0583, 0.2786, 0.0069, 0.0809, 0.0186, 0.2045, -0.0076, -0.1249, 1.1827, 1.1618, 1.0712, 1.032, 1.0269, 0.9858, 0.9604, 0.9003, 0.8143, 0.791, 0.7782, 0.7656, 0.7531, 0.723, 0.7039, 0.7011, 0.6937, 0.6745, 0.6626, 0.6511, 0.6193, 0.5669, 0.5561, 0.5559, 0.535, 0.5235, 0.5075, 0.4891, 0.4885, 0.4527, 0.4408, 0.3416, 0.1624, 0.1342, 0.1695, 0.1229, -0.0377, -0.177, 1.7499, 1.5452, 1.2423, 1.2188, 1.1533, 1.143, 1.0403, 1.0029, 0.9885, 0.9704, 0.8344, 0.8275, 0.8043, 0.7812, 0.7655, 0.7281, 0.6497, 0.648, 0.6349, 0.6216, 0.5699, 0.5595, 0.5302, 0.5229, 0.5184, 0.5019, 0.4748, 0.4657, 0.4489, 0.4344, 0.3769, 0.3761, 0.3226, 0.2952, 0.2741, 0.0285, -0.017, 0.1971, 0.0009, 0.0233, 1.9932, 1.8833, 1.5966, 1.2601, 1.259, 1.1433, 1.0992, 1.0867, 1.0204, 0.9878, 0.9625, 0.8787, 0.8513, 0.8313, 0.7577, 0.7149, 0.6983, 0.6413, 0.6008, 0.5896, 0.5624, 0.5472, 0.5468, 0.5422, 0.4824, 0.4748, 0.4131, 0.4112, 0.3863, 0.3657, 0.3327, 0.3121, 0.1519, 0.0577, 0.1483, 0.0132, 0.0701, -0.0748, -0.4116, 1.7431, 1.6295, 1.5446, 1.4428, 1.1739, 1.1428, 1.0632, 1.0621, 0.9968, 0.9731, 0.8081, 0.7666, 0.7614, 0.7442, 0.721, 0.6897, 0.6809, 0.593, 0.5515, 0.5127, 0.4966, 0.4359, 0.4286, 0.4068, 0.4034, 0.39, 0.3807, 0.3518, 0.3508, 0.3402, 0.3399, 0.1667, 0.1169, -0.0044, -0.1266, -0.0272, 0.0674, -0.1532, -0.0062]}, \"token.table\": {\"Topic\": [1, 2, 3, 4, 5, 6, 7, 8, 1, 2, 3, 5, 6, 7, 8, 1, 2, 3, 4, 5, 6, 7, 8, 1, 2, 3, 4, 5, 6, 7, 8, 1, 2, 3, 4, 5, 6, 7, 8, 1, 2, 3, 4, 5, 6, 8, 1, 2, 3, 4, 5, 6, 7, 8, 1, 2, 3, 4, 5, 6, 7, 8, 1, 2, 3, 4, 5, 6, 7, 8, 1, 2, 3, 4, 5, 6, 7, 8, 1, 2, 3, 4, 5, 6, 7, 8, 1, 2, 3, 4, 7, 1, 2, 3, 4, 5, 6, 7, 8, 1, 2, 3, 4, 5, 6, 7, 8, 1, 2, 3, 5, 6, 8, 1, 2, 3, 4, 5, 6, 7, 8, 1, 2, 3, 4, 5, 6, 7, 8, 1, 2, 3, 4, 5, 7, 1, 2, 3, 4, 5, 6, 7, 8, 1, 2, 3, 4, 5, 6, 7, 8, 1, 2, 3, 4, 5, 6, 7, 8, 1, 2, 3, 4, 6, 7, 8, 1, 2, 3, 4, 5, 6, 7, 8, 1, 2, 3, 4, 5, 6, 7, 8, 1, 2, 3, 4, 5, 6, 7, 8, 1, 2, 3, 4, 5, 6, 7, 8, 1, 2, 3, 4, 5, 6, 8, 1, 2, 3, 4, 5, 6, 7, 1, 2, 3, 4, 5, 6, 8, 1, 2, 3, 5, 6, 8, 1, 2, 3, 5, 6, 7, 8, 1, 2, 3, 4, 5, 6, 7, 8, 1, 2, 3, 4, 5, 6, 7, 8, 1, 2, 3, 4, 5, 6, 7, 1, 2, 3, 4, 5, 6, 7, 1, 2, 3, 4, 5, 6, 8, 1, 2, 3, 4, 5, 6, 7, 8, 1, 2, 3, 4, 5, 6, 7, 8, 1, 2, 3, 4, 5, 6, 7, 8, 1, 2, 3, 4, 5, 6, 7, 8, 1, 2, 3, 4, 5, 6, 7, 8, 1, 2, 3, 4, 5, 6, 7, 1, 2, 3, 4, 5, 6, 7, 8, 1, 2, 4, 5, 6, 7, 8, 1, 2, 3, 4, 5, 6, 7, 8, 1, 2, 3, 4, 6, 7, 8, 1, 2, 3, 4, 5, 6, 7, 8, 1, 2, 3, 4, 5, 6, 7, 8, 1, 2, 3, 4, 5, 7, 1, 2, 3, 4, 5, 6, 7, 8, 1, 2, 3, 4, 5, 6, 8, 1, 2, 4, 5, 6, 7, 8, 1, 2, 3, 4, 5, 7, 8, 1, 2, 3, 4, 5, 6, 7, 8, 1, 2, 3, 4, 5, 6, 8, 1, 2, 3, 4, 5, 6, 7, 8, 1, 2, 3, 4, 5, 6, 8, 1, 2, 4, 5, 6, 7, 1, 2, 3, 4, 5, 6, 7, 8, 1, 2, 3, 4, 5, 6, 7, 8, 1, 2, 3, 4, 5, 6, 7, 1, 2, 3, 4, 5, 6, 7, 8, 1, 2, 3, 4, 5, 6, 7, 8, 1, 2, 3, 4, 5, 6, 7, 1, 2, 3, 5, 6, 8, 1, 2, 3, 4, 5, 6, 7, 8, 1, 2, 3, 4, 5, 6, 7, 8, 1, 2, 3, 4, 5, 6, 8, 1, 2, 3, 4, 5, 6, 7, 8, 1, 2, 3, 4, 5, 6, 7, 8, 1, 2, 3, 4, 5, 6, 7, 8, 1, 2, 3, 4, 5, 7, 1, 2, 3, 4, 5, 6, 8, 1, 2, 3, 4, 5, 6, 8, 1, 2, 3, 4, 7, 8, 1, 2, 3, 4, 5, 6, 7, 8, 1, 2, 3, 4, 5, 6, 8, 1, 2, 3, 4, 5, 6, 7, 8, 1, 2, 3, 4, 5, 6, 7, 8, 1, 2, 3, 4, 5, 6, 7, 8, 1, 2, 3, 4, 5, 6, 7, 8, 1, 2, 3, 4, 5, 6, 1, 2, 3, 4, 5, 6, 7, 1, 2, 3, 4, 5, 6, 7, 8, 1, 2, 3, 4, 5, 6, 7, 8, 1, 2, 3, 4, 5, 6, 7, 8, 1, 2, 3, 4, 5, 6, 7, 8, 1, 2, 3, 4, 5, 6, 7, 8, 1, 2, 4, 6, 7, 8, 1, 2, 3, 4, 5, 6, 7, 8, 1, 2, 3, 4, 6, 8, 1, 2, 3, 4, 5, 6, 8, 1, 2, 3, 5, 6, 7, 8, 1, 2, 3, 4, 5, 6, 7, 8, 1, 2, 3, 4, 5, 6, 7, 8, 1, 2, 3, 5, 6, 7, 1, 2, 3, 4, 6, 7, 1, 2, 3, 4, 5, 6, 8, 1, 2, 3, 4, 5, 7, 1, 2, 3, 4, 5, 6, 8, 1, 2, 3, 4, 5, 6, 7, 1, 2, 3, 4, 6, 7, 8, 1, 2, 3, 4, 5, 6, 7, 8, 1, 2, 3, 4, 5, 6, 7, 8, 1, 2, 3, 4, 5, 6, 1, 2, 3, 4, 5, 6, 7, 8, 1, 2, 3, 4, 5, 6, 7, 8, 1, 2, 3, 4, 5, 6, 7, 8, 1, 2, 4, 5, 8, 1, 2, 3, 4, 8, 1, 2, 3, 5, 6, 8, 1, 2, 3, 4, 5, 6, 7, 8, 1, 2, 3, 4, 5, 6, 7, 8, 1, 2, 3, 4, 5, 6, 7, 1, 2, 3, 4, 5, 6, 8, 1, 2, 3, 4, 5, 6, 7, 8, 1, 2, 3, 4, 5, 6, 7, 8, 1, 2, 3, 4, 5, 6, 7, 8, 1, 2, 3, 4, 5, 6, 7, 8, 1, 2, 3, 4, 5, 6, 7, 8, 1, 2, 3, 4, 5, 6, 7, 8, 1, 2, 3, 4, 5, 6, 7, 8, 1, 2, 3, 4, 5, 6, 7, 8, 1, 2, 3, 4, 6, 7, 1, 2, 3, 4, 5, 6, 7, 8, 1, 2, 3, 4, 5, 6, 7, 8, 1, 2, 3, 4, 5, 6, 7, 1, 2, 3, 4, 5, 6, 7, 8, 1, 2, 4, 5, 6, 7, 1, 2, 3, 4, 5, 6, 7, 1, 2, 3, 4, 5, 6, 7, 8, 1, 2, 3, 4, 5, 6, 7, 1, 2, 4, 5, 6, 7, 1, 2, 3, 4, 5, 6, 7, 8, 1, 2, 3, 4, 5, 6, 7, 8, 1, 2, 3, 4, 5, 6, 7, 8], \"Freq\": [0.3462625967369788, 0.23972025927944685, 0.053271168728765965, 0.10654233745753193, 0.026635584364382982, 0.10654233745753193, 0.07990675309314894, 0.053271168728765965, 0.04592842622278166, 0.13778527866834497, 0.13778527866834497, 0.04592842622278166, 0.2296421311139083, 0.18371370489112665, 0.2296421311139083, 0.17395823531169807, 0.06958329412467923, 0.17395823531169807, 0.31312482356105653, 0.034791647062339615, 0.06958329412467923, 0.06958329412467923, 0.06958329412467923, 0.17157733755045956, 0.08578866877522978, 0.04289433438761489, 0.17157733755045956, 0.17157733755045956, 0.12868300316284467, 0.08578866877522978, 0.08578866877522978, 0.2783905653580415, 0.21288690292085527, 0.1228193670697242, 0.10644345146042763, 0.0818795780464828, 0.09006753585113107, 0.04912774682788968, 0.06550366243718624, 0.1268400826137007, 0.08456005507580047, 0.3382402203032019, 0.1268400826137007, 0.08456005507580047, 0.08456005507580047, 0.08456005507580047, 0.32111116087310376, 0.23353538972589366, 0.029191923715736708, 0.029191923715736708, 0.029191923715736708, 0.17515154229442023, 0.17515154229442023, 0.029191923715736708, 0.20021157935465017, 0.32033852696744025, 0.04004231587093003, 0.08008463174186006, 0.16016926348372013, 0.04004231587093003, 0.08008463174186006, 0.04004231587093003, 0.03264677888796261, 0.3264677888796261, 0.3047032696209843, 0.03264677888796261, 0.01088225962932087, 0.13058711555185043, 0.01088225962932087, 0.1414693751811713, 0.13874903199596136, 0.20812354799394203, 0.13874903199596136, 0.05549961279838454, 0.11099922559676909, 0.13874903199596136, 0.13874903199596136, 0.06937451599798068, 0.6271726079004031, 0.0202313744484001, 0.0606941233452003, 0.0809254977936004, 0.1618509955872008, 0.0202313744484001, 0.0202313744484001, 0.0202313744484001, 0.15702734100296192, 0.2747978467551834, 0.3925683525074048, 0.03925683525074048, 0.07851367050148096, 0.1904539427121758, 0.03174232378536263, 0.31742323785362636, 0.06348464757072526, 0.0952269713560879, 0.06348464757072526, 0.22219626649753843, 0.03174232378536263, 0.2611411714931682, 0.3191725429360944, 0.05803137144292626, 0.11606274288585253, 0.02901568572146313, 0.05803137144292626, 0.14507842860731565, 0.02901568572146313, 0.11606974890851543, 0.3868991630283848, 0.23213949781703086, 0.038689916302838474, 0.07737983260567695, 0.07737983260567695, 0.22579943497257582, 0.1317163370673359, 0.03763323916209597, 0.11289971748628791, 0.16934957622943186, 0.15053295664838387, 0.056449858743143955, 0.11289971748628791, 0.29051057320946366, 0.18675679706322665, 0.14525528660473183, 0.12450453137548442, 0.12450453137548442, 0.06225226568774221, 0.020750755229247405, 0.06225226568774221, 0.1881809748501719, 0.06272699161672397, 0.1881809748501719, 0.3763619497003438, 0.06272699161672397, 0.12545398323344795, 0.285424244511661, 0.25537958719464404, 0.07511164329254237, 0.030044657317016946, 0.04506698597552542, 0.09013397195105084, 0.04506698597552542, 0.1652456152435932, 0.07141564621394801, 0.39992761879810884, 0.09998190469952721, 0.11426503394231682, 0.05713251697115841, 0.11426503394231682, 0.09998190469952721, 0.042849387728368805, 0.32312707019423, 0.226188949135961, 0.064625414038846, 0.096938121058269, 0.193876242116538, 0.032312707019423, 0.032312707019423, 0.032312707019423, 0.3352334250517823, 0.2742818932241855, 0.06095153182759678, 0.06095153182759678, 0.06095153182759678, 0.12190306365519356, 0.09142729774139517, 0.07860345152461115, 0.43231898338536134, 0.1965086288115279, 0.09170402677871302, 0.052402301016407436, 0.013100575254101859, 0.07860345152461115, 0.052402301016407436, 0.34507987600434514, 0.19410743025244415, 0.08626996900108629, 0.08626996900108629, 0.04313498450054314, 0.17253993800217257, 0.06470247675081471, 0.04313498450054314, 0.34271703579763874, 0.026362848907510672, 0.10545139563004269, 0.2899913379826174, 0.052725697815021344, 0.07908854672253202, 0.052725697815021344, 0.026362848907510672, 0.2091756806095822, 0.08964672026124951, 0.13447008039187427, 0.1942345605660406, 0.17929344052249901, 0.05976448017416634, 0.1045878403047911, 0.02988224008708317, 0.1652485451481907, 0.24787281772228606, 0.3304970902963814, 0.02754142419136512, 0.08262427257409535, 0.08262427257409535, 0.08262427257409535, 0.2924985065019985, 0.19499900433466566, 0.3574981746135537, 0.03249983405577761, 0.03249983405577761, 0.03249983405577761, 0.03249983405577761, 0.41327785520470633, 0.12716241698606348, 0.12716241698606348, 0.19074362547909524, 0.03179060424651587, 0.06358120849303174, 0.03179060424651587, 0.03821673648809557, 0.19108368244047785, 0.19108368244047785, 0.07643347297619114, 0.07643347297619114, 0.42038410136905124, 0.1099141631702539, 0.19234978554794432, 0.1099141631702539, 0.3022639487181982, 0.16487124475538084, 0.05495708158512695, 0.08243562237769042, 0.35794607198928924, 0.17897303599464462, 0.08948651799732231, 0.08948651799732231, 0.13422977699598346, 0.08948651799732231, 0.044743258998661155, 0.08948651799732231, 0.11433955981300911, 0.48594312920528876, 0.057169779906504556, 0.028584889953252278, 0.1429244497662614, 0.028584889953252278, 0.057169779906504556, 0.08575466985975684, 0.2995041426620323, 0.07487603566550807, 0.037438017832754036, 0.037438017832754036, 0.037438017832754036, 0.037438017832754036, 0.4866942318258025, 0.29186080015337623, 0.14593040007668812, 0.21889560011503215, 0.09728693338445873, 0.04864346669222937, 0.09728693338445873, 0.07296520003834406, 0.5543733812516869, 0.24338343567147228, 0.0676065099087423, 0.01352130198174846, 0.05408520792699384, 0.05408520792699384, 0.01352130198174846, 0.42241844059054845, 0.1900882982657468, 0.042241844059054845, 0.06336276608858227, 0.06336276608858227, 0.12672553217716453, 0.042241844059054845, 0.042241844059054845, 0.13894077802536434, 0.32419514872585015, 0.046313592675121446, 0.046313592675121446, 0.23156796337560723, 0.06947038901268217, 0.11578398168780361, 0.023156796337560723, 0.20020169523733028, 0.06673389841244343, 0.116784322221776, 0.18351822063421944, 0.13346779682488685, 0.016683474603110857, 0.116784322221776, 0.18351822063421944, 0.2891195293308755, 0.16679972846012045, 0.10007983707607228, 0.03335994569202409, 0.14455976466543774, 0.122319800870755, 0.07783987328138955, 0.05559990948670682, 0.24620970088256172, 0.19696776070604938, 0.07386291026476852, 0.07386291026476852, 0.049241940176512344, 0.07386291026476852, 0.14772582052953703, 0.12310485044128086, 0.030999000805146802, 0.030999000805146802, 0.4339860112720552, 0.2169930056360276, 0.061998001610293604, 0.1859940048308808, 0.030999000805146802, 0.09449758716516493, 0.16537077753903862, 0.1417463807477474, 0.18899517433032986, 0.09449758716516493, 0.023624396791291233, 0.21261957112162108, 0.047248793582582466, 0.16352719085565304, 0.16352719085565304, 0.04088179771391326, 0.24529078628347958, 0.16352719085565304, 0.12264539314173979, 0.04088179771391326, 0.06736739308588453, 0.33683696542942265, 0.06736739308588453, 0.04491159539058969, 0.2021021792576536, 0.06736739308588453, 0.22455797695294846, 0.022455797695294846, 0.0458630339476945, 0.22931516973847246, 0.0458630339476945, 0.0458630339476945, 0.5044933734246394, 0.0458630339476945, 0.0458630339476945, 0.19775112535732403, 0.19775112535732403, 0.11300064306132802, 0.16950096459199204, 0.028250160765332006, 0.14125080382666003, 0.028250160765332006, 0.11300064306132802, 0.15595847427708284, 0.07797923713854142, 0.12996539523090236, 0.12996539523090236, 0.1819515533232633, 0.07797923713854142, 0.1819515533232633, 0.07797923713854142, 0.5910187149133082, 0.09331874445999604, 0.06221249630666402, 0.03110624815333201, 0.12442499261332804, 0.09331874445999604, 0.11001208461727763, 0.1466827794897035, 0.11001208461727763, 0.11001208461727763, 0.11001208461727763, 0.03667069487242588, 0.03667069487242588, 0.3300362538518329, 0.20992240999232892, 0.11995566285275938, 0.029988915713189845, 0.029988915713189845, 0.29988915713189845, 0.2699002414187086, 0.029988915713189845, 0.14945759183486046, 0.4483727755045814, 0.2241863877522907, 0.04981919727828682, 0.04981919727828682, 0.02490959863914341, 0.02490959863914341, 0.22973808839945353, 0.31588987154924864, 0.08615178314979507, 0.08615178314979507, 0.02871726104993169, 0.02871726104993169, 0.20102082734952184, 0.19713082683609978, 0.1314205512240665, 0.16427568903008316, 0.03285513780601663, 0.1314205512240665, 0.1314205512240665, 0.19713082683609978, 0.03285513780601663, 0.15117333326749907, 0.03779333331687477, 0.11337999995062431, 0.11337999995062431, 0.03779333331687477, 0.4157266664856225, 0.11337999995062431, 0.20128584466040297, 0.16773820388366917, 0.16773820388366917, 0.06709528155346767, 0.033547640776733834, 0.16773820388366917, 0.13419056310693533, 0.06709528155346767, 0.08382632844178048, 0.20956582110445118, 0.16765265688356096, 0.04191316422089024, 0.1257394926626707, 0.29339214954623166, 0.08382632844178048, 0.5175316959046075, 0.0862552826507679, 0.12938292397615186, 0.12938292397615186, 0.04312764132538395, 0.04312764132538395, 0.22897017201519357, 0.1602791204106355, 0.20607315481367422, 0.10303657740683711, 0.11448508600759678, 0.02289701720151936, 0.08013956020531775, 0.08013956020531775, 0.16415505903016775, 0.2778008691279762, 0.15152774679707792, 0.12627312233089827, 0.10101849786471861, 0.08839118563162879, 0.05050924893235931, 0.03788193669926948, 0.31102791224419585, 0.10367597074806528, 0.1727932845801088, 0.13823462766408703, 0.1727932845801088, 0.03455865691602176, 0.03455865691602176, 0.09881264313682142, 0.2823218375337755, 0.21174137815033162, 0.09881264313682142, 0.14116091876688774, 0.08469655126013265, 0.014116091876688774, 0.04234827563006632, 0.1086557686303011, 0.23706713155702058, 0.13828916007492867, 0.17780034866776545, 0.08890017433388273, 0.11853356577851029, 0.06914458003746433, 0.06914458003746433, 0.38125193138205454, 0.08169684243901168, 0.13616140406501948, 0.027232280813003894, 0.21785824650403116, 0.13616140406501948, 0.027232280813003894, 0.059554840224855514, 0.5955484022485552, 0.029777420112427757, 0.059554840224855514, 0.11910968044971103, 0.11910968044971103, 0.6362400939781758, 0.018712943940534583, 0.018712943940534583, 0.13099060758374206, 0.14970355152427667, 0.018712943940534583, 0.018712943940534583, 0.018712943940534583, 0.22460649055674187, 0.21337616602890477, 0.08984259622269675, 0.11230324527837093, 0.10107292075053384, 0.12353356980620803, 0.06738194716702256, 0.06738194716702256, 0.3126324331647344, 0.13398532849917189, 0.13398532849917189, 0.2903015450815391, 0.04466177616639063, 0.04466177616639063, 0.022330888083195315, 0.2945392621949699, 0.27490331138197194, 0.07854380325199198, 0.21599545894297795, 0.019635950812997995, 0.03927190162599599, 0.058907852438993984, 0.03927190162599599, 0.2145689656308685, 0.07152298854362284, 0.07152298854362284, 0.10728448281543425, 0.28609195417449135, 0.17880747135905709, 0.03576149427181142, 0.07152298854362284, 0.1467890529121343, 0.04892968430404477, 0.39143747443235816, 0.04892968430404477, 0.04892968430404477, 0.24464842152022384, 0.09785936860808954, 0.04892968430404477, 0.4183181708999112, 0.04183181708999112, 0.08366363417998224, 0.2509909025399467, 0.04183181708999112, 0.08366363417998224, 0.43858753619430185, 0.1566384057836792, 0.12531072462694337, 0.1566384057836792, 0.03132768115673584, 0.03132768115673584, 0.06265536231347169, 0.3145361288527776, 0.08986746538650787, 0.04493373269325394, 0.13480119807976182, 0.13480119807976182, 0.08986746538650787, 0.13480119807976182, 0.21542369741975687, 0.28723159655967584, 0.10771184870987843, 0.14361579827983792, 0.07180789913991896, 0.14361579827983792, 0.028385320120668096, 0.11354128048267238, 0.42577980181002145, 0.11354128048267238, 0.028385320120668096, 0.19869724084467666, 0.028385320120668096, 0.11354128048267238, 0.24070239424540066, 0.24070239424540066, 0.24070239424540066, 0.05348942094342237, 0.1604682628302671, 0.026744710471711185, 0.05348942094342237, 0.08178800131585008, 0.5398008086846104, 0.1308608021053601, 0.016357600263170013, 0.06543040105268005, 0.08178800131585008, 0.016357600263170013, 0.06543040105268005, 0.5273626645737924, 0.06204266642044617, 0.12408533284089233, 0.06204266642044617, 0.12408533284089233, 0.031021333210223084, 0.031021333210223084, 0.031021333210223084, 0.22226675708216811, 0.22226675708216811, 0.07408891902738937, 0.33340013562325216, 0.037044459513694686, 0.07408891902738937, 0.037044459513694686, 0.037044459513694686, 0.16853753231813076, 0.05617917743937692, 0.11235835487875384, 0.11235835487875384, 0.11235835487875384, 0.19662712103781924, 0.08426876615906538, 0.14044794359844232, 0.2797005876655296, 0.18646705844368638, 0.09323352922184319, 0.21754490151763411, 0.09323352922184319, 0.09323352922184319, 0.043254278368619475, 0.25952567021171685, 0.12976283510585843, 0.21627139184309738, 0.08650855673723895, 0.043254278368619475, 0.25952567021171685, 0.29885711765582107, 0.11207141912093291, 0.12452379902325879, 0.062261899511629394, 0.24904759804651758, 0.037357139706977634, 0.012452379902325878, 0.09961903921860703, 0.29637953903140923, 0.07409488475785231, 0.18523721189463077, 0.18523721189463077, 0.07409488475785231, 0.07409488475785231, 0.037047442378926154, 0.11114232713677846, 0.060919848092898285, 0.12183969618579657, 0.213219468325144, 0.09137977213934742, 0.060919848092898285, 0.030459924046449142, 0.030459924046449142, 0.3655190885573897, 0.1099436608033629, 0.2198873216067258, 0.05497183040168145, 0.07329577386890859, 0.16491549120504434, 0.1099436608033629, 0.12826760427059006, 0.14659154773781718, 0.269093024401613, 0.24666860570147855, 0.22424418700134413, 0.08969767480053766, 0.04484883740026883, 0.022424418700134414, 0.04484883740026883, 0.06727325610040324, 0.08063596664327172, 0.44349781653799447, 0.08063596664327172, 0.2015899166081793, 0.04031798332163586, 0.08063596664327172, 0.16113650883974084, 0.026856084806623475, 0.08056825441987042, 0.18799259364636434, 0.16113650883974084, 0.05371216961324695, 0.026856084806623475, 0.29541693287285825, 0.17995880547252965, 0.07198352218901187, 0.3959093720395653, 0.035991761094505935, 0.2159505665670356, 0.07198352218901187, 0.24214620587880356, 0.4497000966320638, 0.034592315125543366, 0.13836926050217346, 0.034592315125543366, 0.034592315125543366, 0.06918463025108673, 0.029788649060906093, 0.7149275774617463, 0.029788649060906093, 0.14894324530453046, 0.029788649060906093, 0.029788649060906093, 0.029788649060906093, 0.295409681734308, 0.24327856142825363, 0.10426224061210869, 0.17377040102018115, 0.017377040102018116, 0.08688520051009058, 0.017377040102018116, 0.052131120306054345, 0.17971389987646505, 0.035942779975293014, 0.2875422398023441, 0.035942779975293014, 0.035942779975293014, 0.25159945982705106, 0.14377111990117206, 0.035942779975293014, 0.1172952486047219, 0.03909841620157397, 0.3518857458141657, 0.07819683240314794, 0.31278732961259176, 0.07819683240314794, 0.17412898541058178, 0.043532246352645444, 0.13059673905793634, 0.4788547098790999, 0.13059673905793634, 0.043532246352645444, 0.15014380505402, 0.330316371118844, 0.09008628303241199, 0.060057522021607995, 0.060057522021607995, 0.09008628303241199, 0.18017256606482399, 0.5381045572638006, 0.04484204643865005, 0.04484204643865005, 0.0896840928773001, 0.1793681857546002, 0.04484204643865005, 0.19280113551498324, 0.42416249813296314, 0.1542409084119866, 0.11568068130898994, 0.03856022710299665, 0.03856022710299665, 0.03856022710299665, 0.1584029979822044, 0.27720524646885764, 0.0792014989911022, 0.23760449697330657, 0.0396007494955511, 0.0792014989911022, 0.11880224848665329, 0.23975708064953172, 0.3596356209742976, 0.03995951344158862, 0.03995951344158862, 0.1598380537663545, 0.07991902688317724, 0.07991902688317724, 0.04190144314009795, 0.20950721570048975, 0.29331010198068563, 0.1676057725603918, 0.04190144314009795, 0.0838028862801959, 0.0838028862801959, 0.0838028862801959, 0.3176845646426265, 0.2541476517141012, 0.0211789709761751, 0.0211789709761751, 0.19061073878557588, 0.0423579419523502, 0.0635369129285253, 0.1058948548808755, 0.24558226098867939, 0.030697782623584923, 0.30697782623584924, 0.030697782623584923, 0.21488447836509444, 0.12279113049433969, 0.8409284860650991, 0.015866575208775453, 0.031733150417550905, 0.031733150417550905, 0.015866575208775453, 0.015866575208775453, 0.031733150417550905, 0.015866575208775453, 0.4323336950756839, 0.15258836296788844, 0.10172557531192564, 0.05086278765596282, 0.05086278765596282, 0.10172557531192564, 0.02543139382798141, 0.07629418148394422, 0.05035325004119312, 0.4280026253501415, 0.15105975012357936, 0.05035325004119312, 0.05035325004119312, 0.07552987506178968, 0.10070650008238624, 0.07552987506178968, 0.3966264686734969, 0.11898794060204906, 0.11898794060204906, 0.2776385280714478, 0.03966264686734969, 0.03506564199117887, 0.6662471978323986, 0.10519692597353662, 0.07013128398235774, 0.03506564199117887, 0.18895893408505612, 0.12597262272337073, 0.25194524544674146, 0.15746577840421344, 0.12597262272337073, 0.12597262272337073, 0.10772746215057774, 0.25136407835134805, 0.03590915405019258, 0.21545492430115548, 0.07181830810038516, 0.07181830810038516, 0.17954577025096288, 0.07181830810038516, 0.17544078861043244, 0.5263223658312973, 0.06579029572891217, 0.08772039430521622, 0.021930098576304055, 0.021930098576304055, 0.08772039430521622, 0.021930098576304055, 0.027045846200454794, 0.21636676960363835, 0.05409169240090959, 0.16227507720272874, 0.13522923100227396, 0.05409169240090959, 0.3515960006059123, 0.06594456474644185, 0.428639670851872, 0.032972282373220925, 0.06594456474644185, 0.19783369423932554, 0.1318891294928837, 0.032972282373220925, 0.07573036788897253, 0.2650562876114038, 0.07573036788897253, 0.037865183944486264, 0.15146073577794505, 0.2650562876114038, 0.037865183944486264, 0.037865183944486264, 0.42836505237779526, 0.20290976165263985, 0.18036423258012432, 0.04509105814503108, 0.06763658721754662, 0.02254552907251554, 0.04509105814503108, 0.02254552907251554, 0.12920744848914678, 0.10767287374095566, 0.15074202323733793, 0.10767287374095566, 0.04306914949638226, 0.04306914949638226, 0.19381117273372017, 0.21534574748191132, 0.10621802413577093, 0.026554506033942733, 0.0796635181018282, 0.053109012067885465, 0.026554506033942733, 0.10621802413577093, 0.5310901206788546, 0.053109012067885465, 0.31080701441897135, 0.26299055066220656, 0.04781646375676483, 0.07172469563514725, 0.07172469563514725, 0.11954115939191207, 0.09563292751352966, 0.04781646375676483, 0.14662658122580224, 0.42521708555482646, 0.04398797436774067, 0.10263860685806156, 0.07331329061290112, 0.058650632490320896, 0.08797594873548134, 0.07331329061290112, 0.16792162482880071, 0.21829811227744095, 0.1847137873116808, 0.05037648744864022, 0.10075297489728044, 0.13433729986304058, 0.033584324965760144, 0.10075297489728044, 0.1278549076497725, 0.3287697625279864, 0.1278549076497725, 0.07305994722844142, 0.09132493403555178, 0.07305994722844142, 0.1278549076497725, 0.05479496042133107, 0.14858566326431819, 0.3714641581607954, 0.29717132652863637, 0.04952855442143939, 0.024764277210719696, 0.07429283163215909, 0.22917011599383616, 0.43542322038828873, 0.04583402319876723, 0.1375020695963017, 0.022917011599383617, 0.04583402319876723, 0.06875103479815085, 0.022917011599383617, 0.15623742489825002, 0.40175337830978575, 0.02231963212832143, 0.08927852851328572, 0.20087668915489287, 0.04463926425664286, 0.06695889638496429, 0.02231963212832143, 0.2179542421742906, 0.03632570702904843, 0.254279949203339, 0.14530282811619372, 0.254279949203339, 0.07265141405809686, 0.03632570702904843, 0.1723854402085235, 0.0246264914583605, 0.2216384231252445, 0.0738794743750815, 0.0246264914583605, 0.0246264914583605, 0.246264914583605, 0.197011931666884, 0.5259060095582981, 0.04382550079652484, 0.13147650238957453, 0.17530200318609937, 0.04382550079652484, 0.08765100159304968, 0.10769005381047887, 0.34999267488405633, 0.08076754035785916, 0.24230262107357747, 0.053845026905239436, 0.053845026905239436, 0.10769005381047887, 0.32974336047267067, 0.20150983139996542, 0.09159537790907518, 0.10991445349089023, 0.07327630232726015, 0.05495722674544511, 0.09159537790907518, 0.07327630232726015, 0.2061688388898888, 0.257711048612361, 0.257711048612361, 0.0515422097224722, 0.1030844194449444, 0.0515422097224722, 0.0515422097224722, 0.5728433694687398, 0.03580271059179624, 0.10740813177538872, 0.03580271059179624, 0.21481626355077743, 0.07160542118359248, 0.3041761326487324, 0.1622272707459906, 0.12167045305949296, 0.1622272707459906, 0.10139204421624413, 0.020278408843248826, 0.020278408843248826, 0.10139204421624413, 0.09877967395995113, 0.4280452538264549, 0.032926557986650375, 0.09877967395995113, 0.032926557986650375, 0.1646327899332519, 0.032926557986650375, 0.1646327899332519, 0.05360293816520443, 0.3350183635325277, 0.2814154253673232, 0.14740807995431218, 0.040202203623903324, 0.040202203623903324, 0.013400734541301107, 0.08040440724780665], \"Term\": [\"abl\", \"abl\", \"abl\", \"abl\", \"abl\", \"abl\", \"abl\", \"abl\", \"activ\", \"activ\", \"activ\", \"activ\", \"activ\", \"activ\", \"activ\", \"actual\", \"actual\", \"actual\", \"actual\", \"actual\", \"actual\", \"actual\", \"actual\", \"away\", \"away\", \"away\", \"away\", \"away\", \"away\", \"away\", \"away\", \"babi\", \"babi\", \"babi\", \"babi\", \"babi\", \"babi\", \"babi\", \"babi\", \"batteri\", \"batteri\", \"batteri\", \"batteri\", \"batteri\", \"batteri\", \"batteri\", \"best\", \"best\", \"best\", \"best\", \"best\", \"best\", \"best\", \"best\", \"better\", \"better\", \"better\", \"better\", \"better\", \"better\", \"better\", \"better\", \"book\", \"book\", \"book\", \"book\", \"book\", \"book\", \"book\", \"book\", \"buy\", \"buy\", \"buy\", \"buy\", \"buy\", \"buy\", \"buy\", \"buy\", \"camera\", \"camera\", \"camera\", \"camera\", \"camera\", \"camera\", \"camera\", \"camera\", \"chang\", \"chang\", \"chang\", \"chang\", \"chang\", \"chew\", \"chew\", \"chew\", \"chew\", \"chew\", \"chew\", \"chew\", \"chew\", \"child\", \"child\", \"child\", \"child\", \"child\", \"child\", \"child\", \"child\", \"children\", \"children\", \"children\", \"children\", \"children\", \"children\", \"color\", \"color\", \"color\", \"color\", \"color\", \"color\", \"color\", \"color\", \"come\", \"come\", \"come\", \"come\", \"come\", \"come\", \"come\", \"come\", \"complaint\", \"complaint\", \"complaint\", \"complaint\", \"complaint\", \"complaint\", \"cute\", \"cute\", \"cute\", \"cute\", \"cute\", \"cute\", \"cute\", \"cute\", \"daughter\", \"daughter\", \"daughter\", \"daughter\", \"daughter\", \"daughter\", \"daughter\", \"daughter\", \"definit\", \"definit\", \"definit\", \"definit\", \"definit\", \"definit\", \"definit\", \"definit\", \"design\", \"design\", \"design\", \"design\", \"design\", \"design\", \"design\", \"diaper\", \"diaper\", \"diaper\", \"diaper\", \"diaper\", \"diaper\", \"diaper\", \"diaper\", \"differ\", \"differ\", \"differ\", \"differ\", \"differ\", \"differ\", \"differ\", \"differ\", \"disappoint\", \"disappoint\", \"disappoint\", \"disappoint\", \"disappoint\", \"disappoint\", \"disappoint\", \"disappoint\", \"easi\", \"easi\", \"easi\", \"easi\", \"easi\", \"easi\", \"easi\", \"easi\", \"enjoy\", \"enjoy\", \"enjoy\", \"enjoy\", \"enjoy\", \"enjoy\", \"enjoy\", \"expect\", \"expect\", \"expect\", \"expect\", \"expect\", \"expect\", \"expect\", \"face\", \"face\", \"face\", \"face\", \"face\", \"face\", \"face\", \"famili\", \"famili\", \"famili\", \"famili\", \"famili\", \"famili\", \"favorit\", \"favorit\", \"favorit\", \"favorit\", \"favorit\", \"favorit\", \"favorit\", \"featur\", \"featur\", \"featur\", \"featur\", \"featur\", \"featur\", \"featur\", \"featur\", \"feel\", \"feel\", \"feel\", \"feel\", \"feel\", \"feel\", \"feel\", \"feel\", \"free\", \"free\", \"free\", \"free\", \"free\", \"free\", \"free\", \"friend\", \"friend\", \"friend\", \"friend\", \"friend\", \"friend\", \"friend\", \"gift\", \"gift\", \"gift\", \"gift\", \"gift\", \"gift\", \"gift\", \"give\", \"give\", \"give\", \"give\", \"give\", \"give\", \"give\", \"give\", \"go\", \"go\", \"go\", \"go\", \"go\", \"go\", \"go\", \"go\", \"good\", \"good\", \"good\", \"good\", \"good\", \"good\", \"good\", \"good\", \"great\", \"great\", \"great\", \"great\", \"great\", \"great\", \"great\", \"great\", \"hand\", \"hand\", \"hand\", \"hand\", \"hand\", \"hand\", \"hand\", \"hand\", \"happi\", \"happi\", \"happi\", \"happi\", \"happi\", \"happi\", \"happi\", \"hard\", \"hard\", \"hard\", \"hard\", \"hard\", \"hard\", \"hard\", \"hard\", \"have\", \"have\", \"have\", \"have\", \"have\", \"have\", \"have\", \"help\", \"help\", \"help\", \"help\", \"help\", \"help\", \"help\", \"help\", \"high\", \"high\", \"high\", \"high\", \"high\", \"high\", \"high\", \"highli\", \"highli\", \"highli\", \"highli\", \"highli\", \"highli\", \"highli\", \"highli\", \"hold\", \"hold\", \"hold\", \"hold\", \"hold\", \"hold\", \"hold\", \"hold\", \"hous\", \"hous\", \"hous\", \"hous\", \"hous\", \"hous\", \"interact\", \"interact\", \"interact\", \"interact\", \"interact\", \"interact\", \"interact\", \"interact\", \"item\", \"item\", \"item\", \"item\", \"item\", \"item\", \"item\", \"keep\", \"keep\", \"keep\", \"keep\", \"keep\", \"keep\", \"keep\", \"kid\", \"kid\", \"kid\", \"kid\", \"kid\", \"kid\", \"kid\", \"know\", \"know\", \"know\", \"know\", \"know\", \"know\", \"know\", \"know\", \"learn\", \"learn\", \"learn\", \"learn\", \"learn\", \"learn\", \"learn\", \"leav\", \"leav\", \"leav\", \"leav\", \"leav\", \"leav\", \"leav\", \"leav\", \"life\", \"life\", \"life\", \"life\", \"life\", \"life\", \"life\", \"light\", \"light\", \"light\", \"light\", \"light\", \"light\", \"like\", \"like\", \"like\", \"like\", \"like\", \"like\", \"like\", \"like\", \"littl\", \"littl\", \"littl\", \"littl\", \"littl\", \"littl\", \"littl\", \"littl\", \"long\", \"long\", \"long\", \"long\", \"long\", \"long\", \"long\", \"look\", \"look\", \"look\", \"look\", \"look\", \"look\", \"look\", \"look\", \"love\", \"love\", \"love\", \"love\", \"love\", \"love\", \"love\", \"love\", \"make\", \"make\", \"make\", \"make\", \"make\", \"make\", \"make\", \"money\", \"money\", \"money\", \"money\", \"money\", \"money\", \"monitor\", \"monitor\", \"monitor\", \"monitor\", \"monitor\", \"monitor\", \"monitor\", \"monitor\", \"month\", \"month\", \"month\", \"month\", \"month\", \"month\", \"month\", \"month\", \"need\", \"need\", \"need\", \"need\", \"need\", \"need\", \"need\", \"nice\", \"nice\", \"nice\", \"nice\", \"nice\", \"nice\", \"nice\", \"nice\", \"night\", \"night\", \"night\", \"night\", \"night\", \"night\", \"night\", \"night\", \"older\", \"older\", \"older\", \"older\", \"older\", \"older\", \"older\", \"older\", \"option\", \"option\", \"option\", \"option\", \"option\", \"option\", \"order\", \"order\", \"order\", \"order\", \"order\", \"order\", \"order\", \"overal\", \"overal\", \"overal\", \"overal\", \"overal\", \"overal\", \"overal\", \"pack\", \"pack\", \"pack\", \"pack\", \"pack\", \"pack\", \"page\", \"page\", \"page\", \"page\", \"page\", \"page\", \"page\", \"page\", \"parent\", \"parent\", \"parent\", \"parent\", \"parent\", \"parent\", \"parent\", \"perfect\", \"perfect\", \"perfect\", \"perfect\", \"perfect\", \"perfect\", \"perfect\", \"perfect\", \"phone\", \"phone\", \"phone\", \"phone\", \"phone\", \"phone\", \"phone\", \"phone\", \"photo\", \"photo\", \"photo\", \"photo\", \"photo\", \"photo\", \"photo\", \"photo\", \"pictur\", \"pictur\", \"pictur\", \"pictur\", \"pictur\", \"pictur\", \"pictur\", \"pictur\", \"place\", \"place\", \"place\", \"place\", \"place\", \"place\", \"plastic\", \"plastic\", \"plastic\", \"plastic\", \"plastic\", \"plastic\", \"plastic\", \"play\", \"play\", \"play\", \"play\", \"play\", \"play\", \"play\", \"play\", \"pretti\", \"pretti\", \"pretti\", \"pretti\", \"pretti\", \"pretti\", \"pretti\", \"pretti\", \"price\", \"price\", \"price\", \"price\", \"price\", \"price\", \"price\", \"price\", \"product\", \"product\", \"product\", \"product\", \"product\", \"product\", \"product\", \"product\", \"purchas\", \"purchas\", \"purchas\", \"purchas\", \"purchas\", \"purchas\", \"purchas\", \"purchas\", \"put\", \"put\", \"put\", \"put\", \"put\", \"put\", \"qualiti\", \"qualiti\", \"qualiti\", \"qualiti\", \"qualiti\", \"qualiti\", \"qualiti\", \"qualiti\", \"read\", \"read\", \"read\", \"read\", \"read\", \"read\", \"reason\", \"reason\", \"reason\", \"reason\", \"reason\", \"reason\", \"reason\", \"receiv\", \"receiv\", \"receiv\", \"receiv\", \"receiv\", \"receiv\", \"receiv\", \"recommend\", \"recommend\", \"recommend\", \"recommend\", \"recommend\", \"recommend\", \"recommend\", \"recommend\", \"review\", \"review\", \"review\", \"review\", \"review\", \"review\", \"review\", \"review\", \"right\", \"right\", \"right\", \"right\", \"right\", \"right\", \"room\", \"room\", \"room\", \"room\", \"room\", \"room\", \"say\", \"say\", \"say\", \"say\", \"say\", \"say\", \"say\", \"screen\", \"screen\", \"screen\", \"screen\", \"screen\", \"screen\", \"second\", \"second\", \"second\", \"second\", \"second\", \"second\", \"second\", \"see\", \"see\", \"see\", \"see\", \"see\", \"see\", \"see\", \"sensit\", \"sensit\", \"sensit\", \"sensit\", \"sensit\", \"sensit\", \"sensit\", \"simpl\", \"simpl\", \"simpl\", \"simpl\", \"simpl\", \"simpl\", \"simpl\", \"simpl\", \"size\", \"size\", \"size\", \"size\", \"size\", \"size\", \"size\", \"size\", \"sleep\", \"sleep\", \"sleep\", \"sleep\", \"sleep\", \"sleep\", \"sling\", \"sling\", \"sling\", \"sling\", \"sling\", \"sling\", \"sling\", \"sling\", \"small\", \"small\", \"small\", \"small\", \"small\", \"small\", \"small\", \"small\", \"soft\", \"soft\", \"soft\", \"soft\", \"soft\", \"soft\", \"soft\", \"soft\", \"sound\", \"sound\", \"sound\", \"sound\", \"sound\", \"special\", \"special\", \"special\", \"special\", \"special\", \"stack\", \"stack\", \"stack\", \"stack\", \"stack\", \"stack\", \"star\", \"star\", \"star\", \"star\", \"star\", \"star\", \"star\", \"star\", \"start\", \"start\", \"start\", \"start\", \"start\", \"start\", \"start\", \"start\", \"stick\", \"stick\", \"stick\", \"stick\", \"stick\", \"stick\", \"stick\", \"super\", \"super\", \"super\", \"super\", \"super\", \"super\", \"super\", \"sure\", \"sure\", \"sure\", \"sure\", \"sure\", \"sure\", \"sure\", \"sure\", \"take\", \"take\", \"take\", \"take\", \"take\", \"take\", \"take\", \"take\", \"teeth\", \"teeth\", \"teeth\", \"teeth\", \"teeth\", \"teeth\", \"teeth\", \"teeth\", \"teether\", \"teether\", \"teether\", \"teether\", \"teether\", \"teether\", \"teether\", \"teether\", \"thing\", \"thing\", \"thing\", \"thing\", \"thing\", \"thing\", \"thing\", \"thing\", \"think\", \"think\", \"think\", \"think\", \"think\", \"think\", \"think\", \"think\", \"time\", \"time\", \"time\", \"time\", \"time\", \"time\", \"time\", \"time\", \"toy\", \"toy\", \"toy\", \"toy\", \"toy\", \"toy\", \"toy\", \"toy\", \"track\", \"track\", \"track\", \"track\", \"track\", \"track\", \"tri\", \"tri\", \"tri\", \"tri\", \"tri\", \"tri\", \"tri\", \"tri\", \"turn\", \"turn\", \"turn\", \"turn\", \"turn\", \"turn\", \"turn\", \"turn\", \"use\", \"use\", \"use\", \"use\", \"use\", \"use\", \"use\", \"vibrat\", \"vibrat\", \"vibrat\", \"vibrat\", \"vibrat\", \"vibrat\", \"vibrat\", \"vibrat\", \"video\", \"video\", \"video\", \"video\", \"video\", \"video\", \"wall\", \"wall\", \"wall\", \"wall\", \"wall\", \"wall\", \"wall\", \"want\", \"want\", \"want\", \"want\", \"want\", \"want\", \"want\", \"want\", \"week\", \"week\", \"week\", \"week\", \"week\", \"week\", \"week\", \"wish\", \"wish\", \"wish\", \"wish\", \"wish\", \"wish\", \"work\", \"work\", \"work\", \"work\", \"work\", \"work\", \"work\", \"work\", \"worth\", \"worth\", \"worth\", \"worth\", \"worth\", \"worth\", \"worth\", \"worth\", \"year\", \"year\", \"year\", \"year\", \"year\", \"year\", \"year\", \"year\"]}, \"R\": 30, \"lambda.step\": 0.01, \"plot.opts\": {\"xlab\": \"PC1\", \"ylab\": \"PC2\"}, \"topic.order\": [2, 7, 3, 5, 4, 1, 8, 6]};\n",
       "\n",
       "function LDAvis_load_lib(url, callback){\n",
       "  var s = document.createElement('script');\n",
       "  s.src = url;\n",
       "  s.async = true;\n",
       "  s.onreadystatechange = s.onload = callback;\n",
       "  s.onerror = function(){console.warn(\"failed to load library \" + url);};\n",
       "  document.getElementsByTagName(\"head\")[0].appendChild(s);\n",
       "}\n",
       "\n",
       "if(typeof(LDAvis) !== \"undefined\"){\n",
       "   // already loaded: just create the visualization\n",
       "   !function(LDAvis){\n",
       "       new LDAvis(\"#\" + \"ldavis_el12321406795489416966362390047\", ldavis_el12321406795489416966362390047_data);\n",
       "   }(LDAvis);\n",
       "}else if(typeof define === \"function\" && define.amd){\n",
       "   // require.js is available: use it to load d3/LDAvis\n",
       "   require.config({paths: {d3: \"https://d3js.org/d3.v5\"}});\n",
       "   require([\"d3\"], function(d3){\n",
       "      window.d3 = d3;\n",
       "      LDAvis_load_lib(\"https://cdn.jsdelivr.net/gh/bmabey/pyLDAvis@3.3.1/pyLDAvis/js/ldavis.v3.0.0.js\", function(){\n",
       "        new LDAvis(\"#\" + \"ldavis_el12321406795489416966362390047\", ldavis_el12321406795489416966362390047_data);\n",
       "      });\n",
       "    });\n",
       "}else{\n",
       "    // require.js not available: dynamically load d3 & LDAvis\n",
       "    LDAvis_load_lib(\"https://d3js.org/d3.v5.js\", function(){\n",
       "         LDAvis_load_lib(\"https://cdn.jsdelivr.net/gh/bmabey/pyLDAvis@3.3.1/pyLDAvis/js/ldavis.v3.0.0.js\", function(){\n",
       "                 new LDAvis(\"#\" + \"ldavis_el12321406795489416966362390047\", ldavis_el12321406795489416966362390047_data);\n",
       "            })\n",
       "         });\n",
       "}\n",
       "</script>"
      ],
      "text/plain": [
       "PreparedData(topic_coordinates=              x         y  topics  cluster       Freq\n",
       "topic                                                \n",
       "1     -0.062592  0.054635       1        1  22.626900\n",
       "6      0.034101 -0.015346       2        1  22.015241\n",
       "2      0.044793  0.015587       3        1  12.900288\n",
       "4     -0.032209  0.006622       4        1  10.150351\n",
       "3     -0.030716  0.033206       5        1   9.301416\n",
       "0      0.034196  0.012890       6        1   8.796870\n",
       "7     -0.049953 -0.095689       7        1   7.119737\n",
       "5      0.062379 -0.011905       8        1   7.089196, topic_info=        Term       Freq       Total Category  logprob  loglift\n",
       "24      book  91.000000   91.000000  Default  30.0000  30.0000\n",
       "131  teether  37.000000   37.000000  Default  29.0000  29.0000\n",
       "135    sling  63.000000   63.000000  Default  28.0000  28.0000\n",
       "122     free  26.000000   26.000000  Default  27.0000  27.0000\n",
       "67     stick  36.000000   36.000000  Default  26.0000  26.0000\n",
       "..       ...        ...         ...      ...      ...      ...\n",
       "44      babi   7.628276  122.130576   Topic8  -3.9494  -0.1266\n",
       "3      month   6.143336   89.044622   Topic8  -4.1659  -0.0272\n",
       "56     think   5.171887   68.200458   Topic8  -4.3380   0.0674\n",
       "29     great   5.469751   89.928204   Topic8  -4.2820  -0.1532\n",
       "84       buy   5.077610   72.072575   Topic8  -4.3564  -0.0062\n",
       "\n",
       "[350 rows x 6 columns], token_table=      Topic      Freq  Term\n",
       "term                       \n",
       "41        1  0.346263   abl\n",
       "41        2  0.239720   abl\n",
       "41        3  0.053271   abl\n",
       "41        4  0.106542   abl\n",
       "41        5  0.026636   abl\n",
       "...     ...       ...   ...\n",
       "89        4  0.147408  year\n",
       "89        5  0.040202  year\n",
       "89        6  0.040202  year\n",
       "89        7  0.013401  year\n",
       "89        8  0.080404  year\n",
       "\n",
       "[1005 rows x 3 columns], R=30, lambda_step=0.01, plot_opts={'xlab': 'PC1', 'ylab': 'PC2'}, topic_order=[2, 7, 3, 5, 4, 1, 8, 6])"
      ]
     },
     "execution_count": 16,
     "metadata": {},
     "output_type": "execute_result"
    }
   ],
   "source": [
    "import pyLDAvis\n",
    "import pyLDAvis.gensim_models\n",
    "pyLDAvis.enable_notebook()\n",
    "vis = pyLDAvis.gensim_models.prepare(lda_model_tfidf, bow_corpus, dictionary)\n",
    "vis"
   ]
  },
  {
   "cell_type": "code",
   "execution_count": 17,
   "id": "29921d16",
   "metadata": {},
   "outputs": [
    {
     "name": "stdout",
     "output_type": "stream",
     "text": [
      "\n",
      "Score:0.5622897744178772\t \n",
      "Topic:0.039*\"play\" + 0.025*\"great\" + 0.022*\"easi\" + 0.021*\"favorit\" + 0.020*\"look\"\n",
      "\n",
      "\n",
      "Score:0.06258424371480942\t \n",
      "Topic:0.025*\"love\" + 0.024*\"book\" + 0.023*\"month\" + 0.022*\"babi\" + 0.022*\"high\"\n",
      "\n",
      "\n",
      "Score:0.06253807246685028\t \n",
      "Topic:0.039*\"book\" + 0.029*\"year\" + 0.025*\"like\" + 0.021*\"look\" + 0.021*\"babi\"\n",
      "\n",
      "\n",
      "Score:0.06253457069396973\t \n",
      "Topic:0.034*\"book\" + 0.030*\"price\" + 0.028*\"good\" + 0.028*\"qualiti\" + 0.027*\"famili\"\n",
      "\n",
      "\n",
      "Score:0.06253445893526077\t \n",
      "Topic:0.027*\"perfect\" + 0.027*\"diaper\" + 0.025*\"book\" + 0.023*\"think\" + 0.022*\"daughter\"\n",
      "\n",
      "\n",
      "Score:0.06251044571399689\t \n",
      "Topic:0.042*\"sling\" + 0.032*\"gift\" + 0.027*\"babi\" + 0.027*\"monitor\" + 0.025*\"camera\"\n",
      "\n",
      "\n",
      "Score:0.06250794231891632\t \n",
      "Topic:0.049*\"teether\" + 0.033*\"stick\" + 0.031*\"free\" + 0.026*\"vibrat\" + 0.025*\"buy\"\n",
      "\n",
      "\n",
      "Score:0.0625004842877388\t \n",
      "Topic:0.031*\"love\" + 0.023*\"easi\" + 0.022*\"babi\" + 0.022*\"need\" + 0.020*\"disappoint\"\n",
      "\n"
     ]
    },
    {
     "name": "stderr",
     "output_type": "stream",
     "text": [
      "/Users/deth/opt/anaconda3/lib/python3.8/site-packages/ipykernel/ipkernel.py:287: DeprecationWarning: `should_run_async` will not call `transform_cell` automatically in the future. Please pass the result to `transformed_cell` argument and any exception that happen during thetransform in `preprocessing_exc_tuple` in IPython 7.17 and above.\n",
      "  and should_run_async(code)\n"
     ]
    }
   ],
   "source": [
    "unseen_document = 'This wallpaper has always been one of my favorite  '\n",
    "bow_vector = dictionary.doc2bow(preprocess(unseen_document))\n",
    "for index, score in sorted(lda_model_tfidf[bow_vector], key=lambda tup: -1*tup[1]):\n",
    "    \n",
    "        print(\"\\nScore:{}\\t \\nTopic:{}\\n\".format(score,lda_model_tfidf.print_topic(index,5)))\n",
    "  "
   ]
  },
  {
   "cell_type": "code",
   "execution_count": 18,
   "id": "c0dedf5c",
   "metadata": {},
   "outputs": [
    {
     "name": "stderr",
     "output_type": "stream",
     "text": [
      "/Users/deth/opt/anaconda3/lib/python3.8/site-packages/ipykernel/ipkernel.py:287: DeprecationWarning: `should_run_async` will not call `transform_cell` automatically in the future. Please pass the result to `transformed_cell` argument and any exception that happen during thetransform in `preprocessing_exc_tuple` in IPython 7.17 and above.\n",
      "  and should_run_async(code)\n"
     ]
    },
    {
     "data": {
      "text/html": [
       "<div>\n",
       "<style scoped>\n",
       "    .dataframe tbody tr th:only-of-type {\n",
       "        vertical-align: middle;\n",
       "    }\n",
       "\n",
       "    .dataframe tbody tr th {\n",
       "        vertical-align: top;\n",
       "    }\n",
       "\n",
       "    .dataframe thead th {\n",
       "        text-align: right;\n",
       "    }\n",
       "</style>\n",
       "<table border=\"1\" class=\"dataframe\">\n",
       "  <thead>\n",
       "    <tr style=\"text-align: right;\">\n",
       "      <th></th>\n",
       "      <th>Document_No</th>\n",
       "      <th>Dominant_Topic</th>\n",
       "      <th>Topic_Perc_Contrib</th>\n",
       "      <th>Keywords</th>\n",
       "      <th>Text</th>\n",
       "      <th>index</th>\n",
       "    </tr>\n",
       "  </thead>\n",
       "  <tbody>\n",
       "    <tr>\n",
       "      <th>0</th>\n",
       "      <td>0</td>\n",
       "      <td>4.0</td>\n",
       "      <td>0.9203</td>\n",
       "      <td>love, easi, babi, need, disappoint, room, nice...</td>\n",
       "      <td>[flannel, wipe, opinion, worth, keep, order, s...</td>\n",
       "      <td>0</td>\n",
       "    </tr>\n",
       "    <tr>\n",
       "      <th>1</th>\n",
       "      <td>1</td>\n",
       "      <td>4.0</td>\n",
       "      <td>0.8540</td>\n",
       "      <td>love, easi, babi, need, disappoint, room, nice...</td>\n",
       "      <td>[come, earli, disappoint, love, planet, wise, ...</td>\n",
       "      <td>1</td>\n",
       "    </tr>\n",
       "    <tr>\n",
       "      <th>2</th>\n",
       "      <td>2</td>\n",
       "      <td>6.0</td>\n",
       "      <td>0.8540</td>\n",
       "      <td>perfect, diaper, book, think, daughter, babi, ...</td>\n",
       "      <td>[soft, comfort, warmer, look, size, perfectli,...</td>\n",
       "      <td>2</td>\n",
       "    </tr>\n",
       "    <tr>\n",
       "      <th>3</th>\n",
       "      <td>3</td>\n",
       "      <td>6.0</td>\n",
       "      <td>0.9270</td>\n",
       "      <td>perfect, diaper, book, think, daughter, babi, ...</td>\n",
       "      <td>[product, worth, purchas, like, posit, ingeni,...</td>\n",
       "      <td>3</td>\n",
       "    </tr>\n",
       "    <tr>\n",
       "      <th>4</th>\n",
       "      <td>4</td>\n",
       "      <td>6.0</td>\n",
       "      <td>0.9416</td>\n",
       "      <td>perfect, diaper, book, think, daughter, babi, ...</td>\n",
       "      <td>[kid, cri, stop, tri, ween, pacifi, thumbuddi,...</td>\n",
       "      <td>4</td>\n",
       "    </tr>\n",
       "    <tr>\n",
       "      <th>...</th>\n",
       "      <td>...</td>\n",
       "      <td>...</td>\n",
       "      <td>...</td>\n",
       "      <td>...</td>\n",
       "      <td>...</td>\n",
       "      <td>...</td>\n",
       "    </tr>\n",
       "    <tr>\n",
       "      <th>408</th>\n",
       "      <td>408</td>\n",
       "      <td>1.0</td>\n",
       "      <td>0.9026</td>\n",
       "      <td>sling, gift, babi, monitor, camera, great, pla...</td>\n",
       "      <td>[sweater, nice, ferret, mind, fabric, great, p...</td>\n",
       "      <td>408</td>\n",
       "    </tr>\n",
       "    <tr>\n",
       "      <th>409</th>\n",
       "      <td>409</td>\n",
       "      <td>6.0</td>\n",
       "      <td>0.9203</td>\n",
       "      <td>perfect, diaper, book, think, daughter, babi, ...</td>\n",
       "      <td>[month, short, round, find, difficult, pant, p...</td>\n",
       "      <td>409</td>\n",
       "    </tr>\n",
       "    <tr>\n",
       "      <th>410</th>\n",
       "      <td>410</td>\n",
       "      <td>5.0</td>\n",
       "      <td>0.8247</td>\n",
       "      <td>book, price, good, qualiti, famili, cute, teet...</td>\n",
       "      <td>[cute, hilari, recomend, good, ador, halloween...</td>\n",
       "      <td>410</td>\n",
       "    </tr>\n",
       "    <tr>\n",
       "      <th>411</th>\n",
       "      <td>411</td>\n",
       "      <td>6.0</td>\n",
       "      <td>0.9027</td>\n",
       "      <td>perfect, diaper, book, think, daughter, babi, ...</td>\n",
       "      <td>[week, look, handsom, littl, sweater, hard, sw...</td>\n",
       "      <td>411</td>\n",
       "    </tr>\n",
       "    <tr>\n",
       "      <th>412</th>\n",
       "      <td>412</td>\n",
       "      <td>1.0</td>\n",
       "      <td>0.8248</td>\n",
       "      <td>sling, gift, babi, monitor, camera, great, pla...</td>\n",
       "      <td>[want, dress, guinea, sweater, small, especi, ...</td>\n",
       "      <td>412</td>\n",
       "    </tr>\n",
       "  </tbody>\n",
       "</table>\n",
       "<p>413 rows × 6 columns</p>\n",
       "</div>"
      ],
      "text/plain": [
       "     Document_No  Dominant_Topic  Topic_Perc_Contrib  \\\n",
       "0              0             4.0              0.9203   \n",
       "1              1             4.0              0.8540   \n",
       "2              2             6.0              0.8540   \n",
       "3              3             6.0              0.9270   \n",
       "4              4             6.0              0.9416   \n",
       "..           ...             ...                 ...   \n",
       "408          408             1.0              0.9026   \n",
       "409          409             6.0              0.9203   \n",
       "410          410             5.0              0.8247   \n",
       "411          411             6.0              0.9027   \n",
       "412          412             1.0              0.8248   \n",
       "\n",
       "                                              Keywords  \\\n",
       "0    love, easi, babi, need, disappoint, room, nice...   \n",
       "1    love, easi, babi, need, disappoint, room, nice...   \n",
       "2    perfect, diaper, book, think, daughter, babi, ...   \n",
       "3    perfect, diaper, book, think, daughter, babi, ...   \n",
       "4    perfect, diaper, book, think, daughter, babi, ...   \n",
       "..                                                 ...   \n",
       "408  sling, gift, babi, monitor, camera, great, pla...   \n",
       "409  perfect, diaper, book, think, daughter, babi, ...   \n",
       "410  book, price, good, qualiti, famili, cute, teet...   \n",
       "411  perfect, diaper, book, think, daughter, babi, ...   \n",
       "412  sling, gift, babi, monitor, camera, great, pla...   \n",
       "\n",
       "                                                  Text  index  \n",
       "0    [flannel, wipe, opinion, worth, keep, order, s...      0  \n",
       "1    [come, earli, disappoint, love, planet, wise, ...      1  \n",
       "2    [soft, comfort, warmer, look, size, perfectli,...      2  \n",
       "3    [product, worth, purchas, like, posit, ingeni,...      3  \n",
       "4    [kid, cri, stop, tri, ween, pacifi, thumbuddi,...      4  \n",
       "..                                                 ...    ...  \n",
       "408  [sweater, nice, ferret, mind, fabric, great, p...    408  \n",
       "409  [month, short, round, find, difficult, pant, p...    409  \n",
       "410  [cute, hilari, recomend, good, ador, halloween...    410  \n",
       "411  [week, look, handsom, littl, sweater, hard, sw...    411  \n",
       "412  [want, dress, guinea, sweater, small, especi, ...    412  \n",
       "\n",
       "[413 rows x 6 columns]"
      ]
     },
     "execution_count": 18,
     "metadata": {},
     "output_type": "execute_result"
    }
   ],
   "source": [
    "def format_topic_sentences(lda_model=lda_model_tfidf, corpus=bow_corpus, texts=processed_docs):\n",
    "    sent_topics_df=pd.DataFrame()\n",
    "    \n",
    "    for i, row_list in enumerate(lda_model[corpus]):\n",
    "        row=row_list[0] if lda_model.per_word_topics else row_list\n",
    "        row=sorted(row,key=lambda x:(x[1]),reverse=True)\n",
    "        \n",
    "        for j, (topic_num,prop_topic) in enumerate(row):\n",
    "            if j==0:\n",
    "                wp=lda_model.show_topic(topic_num)\n",
    "                topic_keywords=', '.join([word for word, prop in wp])\n",
    "                sent_topics_df=sent_topics_df.append(pd.Series([int(topic_num),round(prop_topic,4),topic_keywords]),ignore_index=True)\n",
    "            else:\n",
    "                break\n",
    "    sent_topics_df.columns=['Dominant_topic','Perc_contribution','Topic_keywords']\n",
    "    contents=pd.Series(texts)\n",
    "    sent_topics_df=pd.concat([sent_topics_df,contents],axis=1)\n",
    "    return sent_topics_df\n",
    "\n",
    "df_topic_sents_keywords = format_topic_sentences(lda_model=lda_model_tfidf, corpus=bow_corpus, texts=processed_docs)\n",
    "\n",
    "# Format.  \n",
    "df_dominant_topic = df_topic_sents_keywords.reset_index()\n",
    "df_dominant_topic.columns = ['Document_No', 'Dominant_Topic', 'Topic_Perc_Contrib', 'Keywords', 'Text']\n",
    "df_dominant_topic['index']=df_dominant_topic.index\n",
    "df_dominant_topic"
   ]
  },
  {
   "cell_type": "code",
   "execution_count": 19,
   "id": "e0f9f978",
   "metadata": {},
   "outputs": [
    {
     "name": "stderr",
     "output_type": "stream",
     "text": [
      "/Users/deth/opt/anaconda3/lib/python3.8/site-packages/ipykernel/ipkernel.py:287: DeprecationWarning: `should_run_async` will not call `transform_cell` automatically in the future. Please pass the result to `transformed_cell` argument and any exception that happen during thetransform in `preprocessing_exc_tuple` in IPython 7.17 and above.\n",
      "  and should_run_async(code)\n"
     ]
    },
    {
     "data": {
      "text/html": [
       "<div>\n",
       "<style scoped>\n",
       "    .dataframe tbody tr th:only-of-type {\n",
       "        vertical-align: middle;\n",
       "    }\n",
       "\n",
       "    .dataframe tbody tr th {\n",
       "        vertical-align: top;\n",
       "    }\n",
       "\n",
       "    .dataframe thead th {\n",
       "        text-align: right;\n",
       "    }\n",
       "</style>\n",
       "<table border=\"1\" class=\"dataframe\">\n",
       "  <thead>\n",
       "    <tr style=\"text-align: right;\">\n",
       "      <th></th>\n",
       "      <th>Document_No</th>\n",
       "      <th>Dominant_Topic</th>\n",
       "      <th>Topic_Perc_Contrib</th>\n",
       "      <th>Keywords</th>\n",
       "      <th>Text</th>\n",
       "      <th>index</th>\n",
       "      <th>Category</th>\n",
       "      <th>review</th>\n",
       "    </tr>\n",
       "  </thead>\n",
       "  <tbody>\n",
       "    <tr>\n",
       "      <th>0</th>\n",
       "      <td>0</td>\n",
       "      <td>4.0</td>\n",
       "      <td>0.9203</td>\n",
       "      <td>love, easi, babi, need, disappoint, room, nice...</td>\n",
       "      <td>[flannel, wipe, opinion, worth, keep, order, s...</td>\n",
       "      <td>0</td>\n",
       "      <td>Baby_Care</td>\n",
       "      <td>These flannel wipes are OK, but in my opinion ...</td>\n",
       "    </tr>\n",
       "    <tr>\n",
       "      <th>1</th>\n",
       "      <td>1</td>\n",
       "      <td>4.0</td>\n",
       "      <td>0.8540</td>\n",
       "      <td>love, easi, babi, need, disappoint, room, nice...</td>\n",
       "      <td>[come, earli, disappoint, love, planet, wise, ...</td>\n",
       "      <td>1</td>\n",
       "      <td>Diapering</td>\n",
       "      <td>it came early and was not disappointed. i love...</td>\n",
       "    </tr>\n",
       "    <tr>\n",
       "      <th>2</th>\n",
       "      <td>2</td>\n",
       "      <td>6.0</td>\n",
       "      <td>0.8540</td>\n",
       "      <td>perfect, diaper, book, think, daughter, babi, ...</td>\n",
       "      <td>[soft, comfort, warmer, look, size, perfectli,...</td>\n",
       "      <td>2</td>\n",
       "      <td>Nursery</td>\n",
       "      <td>Very soft and comfortable and warmer than it l...</td>\n",
       "    </tr>\n",
       "    <tr>\n",
       "      <th>3</th>\n",
       "      <td>3</td>\n",
       "      <td>6.0</td>\n",
       "      <td>0.9270</td>\n",
       "      <td>perfect, diaper, book, think, daughter, babi, ...</td>\n",
       "      <td>[product, worth, purchas, like, posit, ingeni,...</td>\n",
       "      <td>3</td>\n",
       "      <td>Baby_Care</td>\n",
       "      <td>This is a product well worth the purchase.  I ...</td>\n",
       "    </tr>\n",
       "    <tr>\n",
       "      <th>4</th>\n",
       "      <td>4</td>\n",
       "      <td>6.0</td>\n",
       "      <td>0.9416</td>\n",
       "      <td>perfect, diaper, book, think, daughter, babi, ...</td>\n",
       "      <td>[kid, cri, stop, tri, ween, pacifi, thumbuddi,...</td>\n",
       "      <td>4</td>\n",
       "      <td>Baby_Care</td>\n",
       "      <td>All of my kids have cried non-stop when I trie...</td>\n",
       "    </tr>\n",
       "    <tr>\n",
       "      <th>...</th>\n",
       "      <td>...</td>\n",
       "      <td>...</td>\n",
       "      <td>...</td>\n",
       "      <td>...</td>\n",
       "      <td>...</td>\n",
       "      <td>...</td>\n",
       "      <td>...</td>\n",
       "      <td>...</td>\n",
       "    </tr>\n",
       "    <tr>\n",
       "      <th>408</th>\n",
       "      <td>408</td>\n",
       "      <td>1.0</td>\n",
       "      <td>0.9026</td>\n",
       "      <td>sling, gift, babi, monitor, camera, great, pla...</td>\n",
       "      <td>[sweater, nice, ferret, mind, fabric, great, p...</td>\n",
       "      <td>408</td>\n",
       "      <td>Apparel_accessories</td>\n",
       "      <td>The sweaters are very nice and fit quite well....</td>\n",
       "    </tr>\n",
       "    <tr>\n",
       "      <th>409</th>\n",
       "      <td>409</td>\n",
       "      <td>6.0</td>\n",
       "      <td>0.9203</td>\n",
       "      <td>perfect, diaper, book, think, daughter, babi, ...</td>\n",
       "      <td>[month, short, round, find, difficult, pant, p...</td>\n",
       "      <td>409</td>\n",
       "      <td>Apparel_accessories</td>\n",
       "      <td>My 13 month old is short and round lol. So I’m...</td>\n",
       "    </tr>\n",
       "    <tr>\n",
       "      <th>410</th>\n",
       "      <td>410</td>\n",
       "      <td>5.0</td>\n",
       "      <td>0.8247</td>\n",
       "      <td>book, price, good, qualiti, famili, cute, teet...</td>\n",
       "      <td>[cute, hilari, recomend, good, ador, halloween...</td>\n",
       "      <td>410</td>\n",
       "      <td>Apparel_accessories</td>\n",
       "      <td>This is sp cute and hilarious 100 recomend goo...</td>\n",
       "    </tr>\n",
       "    <tr>\n",
       "      <th>411</th>\n",
       "      <td>411</td>\n",
       "      <td>6.0</td>\n",
       "      <td>0.9027</td>\n",
       "      <td>perfect, diaper, book, think, daughter, babi, ...</td>\n",
       "      <td>[week, look, handsom, littl, sweater, hard, sw...</td>\n",
       "      <td>411</td>\n",
       "      <td>Apparel_accessories</td>\n",
       "      <td>Mr. B is only 4 weeks old and looks so handsom...</td>\n",
       "    </tr>\n",
       "    <tr>\n",
       "      <th>412</th>\n",
       "      <td>412</td>\n",
       "      <td>1.0</td>\n",
       "      <td>0.8248</td>\n",
       "      <td>sling, gift, babi, monitor, camera, great, pla...</td>\n",
       "      <td>[want, dress, guinea, sweater, small, especi, ...</td>\n",
       "      <td>412</td>\n",
       "      <td>Apparel_accessories</td>\n",
       "      <td>I wanted to dress up my guinea pig but the swe...</td>\n",
       "    </tr>\n",
       "  </tbody>\n",
       "</table>\n",
       "<p>413 rows × 8 columns</p>\n",
       "</div>"
      ],
      "text/plain": [
       "     Document_No  Dominant_Topic  Topic_Perc_Contrib  \\\n",
       "0              0             4.0              0.9203   \n",
       "1              1             4.0              0.8540   \n",
       "2              2             6.0              0.8540   \n",
       "3              3             6.0              0.9270   \n",
       "4              4             6.0              0.9416   \n",
       "..           ...             ...                 ...   \n",
       "408          408             1.0              0.9026   \n",
       "409          409             6.0              0.9203   \n",
       "410          410             5.0              0.8247   \n",
       "411          411             6.0              0.9027   \n",
       "412          412             1.0              0.8248   \n",
       "\n",
       "                                              Keywords  \\\n",
       "0    love, easi, babi, need, disappoint, room, nice...   \n",
       "1    love, easi, babi, need, disappoint, room, nice...   \n",
       "2    perfect, diaper, book, think, daughter, babi, ...   \n",
       "3    perfect, diaper, book, think, daughter, babi, ...   \n",
       "4    perfect, diaper, book, think, daughter, babi, ...   \n",
       "..                                                 ...   \n",
       "408  sling, gift, babi, monitor, camera, great, pla...   \n",
       "409  perfect, diaper, book, think, daughter, babi, ...   \n",
       "410  book, price, good, qualiti, famili, cute, teet...   \n",
       "411  perfect, diaper, book, think, daughter, babi, ...   \n",
       "412  sling, gift, babi, monitor, camera, great, pla...   \n",
       "\n",
       "                                                  Text  index  \\\n",
       "0    [flannel, wipe, opinion, worth, keep, order, s...      0   \n",
       "1    [come, earli, disappoint, love, planet, wise, ...      1   \n",
       "2    [soft, comfort, warmer, look, size, perfectli,...      2   \n",
       "3    [product, worth, purchas, like, posit, ingeni,...      3   \n",
       "4    [kid, cri, stop, tri, ween, pacifi, thumbuddi,...      4   \n",
       "..                                                 ...    ...   \n",
       "408  [sweater, nice, ferret, mind, fabric, great, p...    408   \n",
       "409  [month, short, round, find, difficult, pant, p...    409   \n",
       "410  [cute, hilari, recomend, good, ador, halloween...    410   \n",
       "411  [week, look, handsom, littl, sweater, hard, sw...    411   \n",
       "412  [want, dress, guinea, sweater, small, especi, ...    412   \n",
       "\n",
       "                Category                                             review  \n",
       "0              Baby_Care  These flannel wipes are OK, but in my opinion ...  \n",
       "1              Diapering  it came early and was not disappointed. i love...  \n",
       "2                Nursery  Very soft and comfortable and warmer than it l...  \n",
       "3              Baby_Care  This is a product well worth the purchase.  I ...  \n",
       "4              Baby_Care  All of my kids have cried non-stop when I trie...  \n",
       "..                   ...                                                ...  \n",
       "408  Apparel_accessories  The sweaters are very nice and fit quite well....  \n",
       "409  Apparel_accessories  My 13 month old is short and round lol. So I’m...  \n",
       "410  Apparel_accessories  This is sp cute and hilarious 100 recomend goo...  \n",
       "411  Apparel_accessories  Mr. B is only 4 weeks old and looks so handsom...  \n",
       "412  Apparel_accessories  I wanted to dress up my guinea pig but the swe...  \n",
       "\n",
       "[413 rows x 8 columns]"
      ]
     },
     "execution_count": 19,
     "metadata": {},
     "output_type": "execute_result"
    }
   ],
   "source": [
    "new_df_1 = pd.merge(df_dominant_topic, documents[['Category','index','review']], on='index')\n",
    "\n",
    "new_df_1"
   ]
  },
  {
   "cell_type": "code",
   "execution_count": 20,
   "id": "dad8d1cb",
   "metadata": {},
   "outputs": [
    {
     "name": "stderr",
     "output_type": "stream",
     "text": [
      "/Users/deth/opt/anaconda3/lib/python3.8/site-packages/ipykernel/ipkernel.py:287: DeprecationWarning: `should_run_async` will not call `transform_cell` automatically in the future. Please pass the result to `transformed_cell` argument and any exception that happen during thetransform in `preprocessing_exc_tuple` in IPython 7.17 and above.\n",
      "  and should_run_async(code)\n"
     ]
    }
   ],
   "source": [
    "from sklearn.feature_extraction.text import CountVectorizer\n",
    "from sklearn.model_selection import train_test_split\n",
    "\n",
    "\n",
    "from sklearn.metrics import accuracy_score\n",
    "from sklearn.metrics import classification_report\n",
    "from sklearn.metrics import f1_score\n",
    "count_vec=CountVectorizer()\n",
    "bow=count_vec.fit_transform(new_df_1['Keywords'].astype(str))\n",
    "bow=np.array(bow.todense())\n",
    "bow1=count_vec.fit_transform(new_df_1['Text'].astype(str))\n",
    "bow1=np.array(bow1.todense())\n",
    "bow2=np.concatenate((bow,bow1),axis=1)\n"
   ]
  },
  {
   "cell_type": "code",
   "execution_count": 21,
   "id": "a0a602fc",
   "metadata": {},
   "outputs": [
    {
     "name": "stderr",
     "output_type": "stream",
     "text": [
      "/Users/deth/opt/anaconda3/lib/python3.8/site-packages/ipykernel/ipkernel.py:287: DeprecationWarning: `should_run_async` will not call `transform_cell` automatically in the future. Please pass the result to `transformed_cell` argument and any exception that happen during thetransform in `preprocessing_exc_tuple` in IPython 7.17 and above.\n",
      "  and should_run_async(code)\n"
     ]
    }
   ],
   "source": [
    "x=bow2\n",
    "y=new_df_1['Category']"
   ]
  },
  {
   "cell_type": "code",
   "execution_count": 22,
   "id": "cfa1a715",
   "metadata": {},
   "outputs": [
    {
     "name": "stderr",
     "output_type": "stream",
     "text": [
      "/Users/deth/opt/anaconda3/lib/python3.8/site-packages/ipykernel/ipkernel.py:287: DeprecationWarning: `should_run_async` will not call `transform_cell` automatically in the future. Please pass the result to `transformed_cell` argument and any exception that happen during thetransform in `preprocessing_exc_tuple` in IPython 7.17 and above.\n",
      "  and should_run_async(code)\n"
     ]
    }
   ],
   "source": [
    "X_train,X_test,y_train,y_test=train_test_split(x,y,test_size=0.15,stratify=y)\n"
   ]
  },
  {
   "cell_type": "code",
   "execution_count": null,
   "id": "d5eba42e",
   "metadata": {},
   "outputs": [],
   "source": []
  },
  {
   "cell_type": "code",
   "execution_count": 23,
   "id": "dde47718",
   "metadata": {},
   "outputs": [
    {
     "name": "stderr",
     "output_type": "stream",
     "text": [
      "/Users/deth/opt/anaconda3/lib/python3.8/site-packages/ipykernel/ipkernel.py:287: DeprecationWarning: `should_run_async` will not call `transform_cell` automatically in the future. Please pass the result to `transformed_cell` argument and any exception that happen during thetransform in `preprocessing_exc_tuple` in IPython 7.17 and above.\n",
      "  and should_run_async(code)\n"
     ]
    }
   ],
   "source": [
    "from sklearn.model_selection import cross_val_score\n",
    "from sklearn.metrics import confusion_matrix\n",
    "def evaluate_model(X_train, y_train, model):\n",
    "    model.fit(X_train, y_train)\n",
    "    preds = model.predict(X_test)\n",
    "    scores = cross_val_score(model, X_train, y_train, cv=3, scoring=\"accuracy\")\n",
    "    diff = scores.mean() - model.score(X_test, y_test)\n",
    "    SD = diff / scores.std()\n",
    "    \n",
    "    print(f\"Training Score:{model.score(X_train, y_train)}\")\n",
    "    print(f\"Cross V Score: {scores.mean()} +/- {scores.std()}\")\n",
    "    print(f\"Testing Score: {model.score(X_test, y_test)}\")\n",
    "    print(f\"Cross & Test Diff: {diff}\")\n",
    "    print(f\"Standard Deviations Away: {SD}\")\n",
    "    print(confusion_matrix(y_test, preds))"
   ]
  },
  {
   "cell_type": "code",
   "execution_count": 24,
   "id": "06235bf2",
   "metadata": {},
   "outputs": [
    {
     "name": "stderr",
     "output_type": "stream",
     "text": [
      "/Users/deth/opt/anaconda3/lib/python3.8/site-packages/ipykernel/ipkernel.py:287: DeprecationWarning: `should_run_async` will not call `transform_cell` automatically in the future. Please pass the result to `transformed_cell` argument and any exception that happen during thetransform in `preprocessing_exc_tuple` in IPython 7.17 and above.\n",
      "  and should_run_async(code)\n"
     ]
    },
    {
     "data": {
      "text/plain": [
       "LogisticRegression(random_state=0, solver='liblinear')"
      ]
     },
     "execution_count": 24,
     "metadata": {},
     "output_type": "execute_result"
    }
   ],
   "source": [
    "from sklearn import svm\n",
    "from sklearn import metrics\n",
    "from sklearn.linear_model import LogisticRegression\n",
    "from xgboost import XGBClassifier\n",
    "from sklearn.tree import DecisionTreeClassifier # Import Decision Tree Classifier\n",
    "from sklearn.ensemble import GradientBoostingClassifier\n",
    "\n",
    "\n",
    "\n",
    "# model=svm.SVC(kernel='linear', C=1, random_state=0).fit(X_train,y_train) #0.54\n",
    "model = LogisticRegression(solver='liblinear', random_state=0)#0.61\n",
    "\n",
    "# # fit the model with data\n",
    "# model.fit(X_train,y_train)\n",
    "from sklearn.neighbors import KNeighborsClassifier\n",
    "\n",
    "# model = KNeighborsClassifier(n_neighbors=3)#0.42\n",
    "\n",
    "# # Train the model using the training sets\n",
    "# model.fit(X_train,y_train)\n",
    "\n",
    "# from sklearn.ensemble import RandomForestClassifier\n",
    "# from keras.models import Sequential\n",
    "\n",
    "# # Import `Dense` from `keras.layers`\n",
    "# from keras.layers import Dense\n",
    "\n",
    "# from keras.models import Sequential\n",
    "\n",
    "# # Import `Dense` from `keras.layers`\n",
    "# from keras.layers import Dense\n",
    "\n",
    "# # Initialize the constructor\n",
    "# model = Sequential()\n",
    "\n",
    "# # Add an input layer \n",
    "# model.add(Dense(12, activation='relu', input_shape=(298, 1721)))\n",
    "\n",
    "# # Add one hidden layer \n",
    "# model.add(Dense(8, activation='relu'))\n",
    "\n",
    "# # Add an output layer \n",
    "# model.add(Dense(1, activation='sigmoid'))\n",
    "\n",
    "# # #Create a Gaussian Classifier\n",
    "# model=XGBClassifier(\n",
    "# learning_rate =0.05,\n",
    "#  n_estimators=1000,\n",
    "#  max_depth=10,\n",
    "#  min_child_weight=1,\n",
    "#  gamma=0,\n",
    "#  subsample=0.9,\n",
    "#  colsample_bytree=0.9,\n",
    "#  objective= 'multi:softmax',\n",
    "#  nthread=10,\n",
    "#  scale_pos_weight=1\n",
    "# )\n",
    "# model=RandomForestClassifier(n_estimators=100)#0.55\n",
    "# model = GradientBoostingClassifier(n_estimators=20, learning_rate=0.5, max_features=2, max_depth=2, random_state=0)\n",
    "# model = Sequential()\n",
    "\n",
    "# # Add an input layer \n",
    "# model.add(Dense(12, activation='relu', input_shape=(1721,)))\n",
    "\n",
    "# # Add one hidden layer \n",
    "# model.add(Dense(8, activation='relu'))\n",
    "\n",
    "# # Add an output layer \n",
    "# model.add(Dense(1, activation='sigmoid'))\n",
    "# model.compile(loss='binary_crossentropy',\n",
    "#               optimizer='adam',\n",
    "#               metrics=['accuracy'])\n",
    "\n",
    "\n",
    "\n",
    "# #0.53 without parameter tuning\n",
    "#when tuning with max_depth=10,subsample=0.9,colsample_bytree=0.8 or 0.9 increase to 0.56\n",
    "\n",
    "# #Train the model using the training sets y_pred=clf.predict(X_test)\n",
    "# model.fit(X_train,y_train)\n",
    "\n",
    "from sklearn.naive_bayes import GaussianNB\n",
    "\n",
    "#Create a Gaussian Classifier\n",
    "# model = GaussianNB()\n",
    "# model = DecisionTreeClassifier()#0.47\n",
    "# model.compile(loss='binary_crossentropy',\n",
    "#               optimizer='adam',\n",
    "#               metrics=['accuracy'])\n",
    "# x1 = X_train.flatten()\n",
    "                \n",
    "# model.fit(x1, y_train,epochs=20, batch_size=1, verbose=1)\n",
    "\n",
    "# Train Decision Tree Classifer\n",
    "\n",
    "# with GaussinNB, 0.63\n",
    "\n",
    "# Train the model using the training sets\n",
    "model.fit(X_train,y_train)\n"
   ]
  },
  {
   "cell_type": "code",
   "execution_count": 55,
   "id": "d19a82b3",
   "metadata": {},
   "outputs": [
    {
     "name": "stderr",
     "output_type": "stream",
     "text": [
      "/Users/deth/opt/anaconda3/lib/python3.8/site-packages/ipykernel/ipkernel.py:287: DeprecationWarning: `should_run_async` will not call `transform_cell` automatically in the future. Please pass the result to `transformed_cell` argument and any exception that happen during thetransform in `preprocessing_exc_tuple` in IPython 7.17 and above.\n",
      "  and should_run_async(code)\n"
     ]
    },
    {
     "data": {
      "text/plain": [
       "0.5967741935483871"
      ]
     },
     "execution_count": 55,
     "metadata": {},
     "output_type": "execute_result"
    }
   ],
   "source": [
    "y_pred=model.predict(X_test)\n",
    "x1=accuracy_score(y_test,y_pred)\n",
    "x1"
   ]
  },
  {
   "cell_type": "code",
   "execution_count": 56,
   "id": "18dccfd3",
   "metadata": {},
   "outputs": [
    {
     "name": "stderr",
     "output_type": "stream",
     "text": [
      "/Users/deth/opt/anaconda3/lib/python3.8/site-packages/ipykernel/ipkernel.py:287: DeprecationWarning: `should_run_async` will not call `transform_cell` automatically in the future. Please pass the result to `transformed_cell` argument and any exception that happen during thetransform in `preprocessing_exc_tuple` in IPython 7.17 and above.\n",
      "  and should_run_async(code)\n"
     ]
    },
    {
     "data": {
      "text/plain": [
       "array(['Activity_entertainment', 'Apparel_accessories', 'Baby_Care',\n",
       "       'Baby_stationary', 'Baby_toddler_toys', 'Diapering', 'Gift',\n",
       "       'Nursery'], dtype=object)"
      ]
     },
     "execution_count": 56,
     "metadata": {},
     "output_type": "execute_result"
    }
   ],
   "source": [
    "model.classes_"
   ]
  },
  {
   "cell_type": "code",
   "execution_count": 57,
   "id": "d2ea27cf",
   "metadata": {},
   "outputs": [
    {
     "name": "stderr",
     "output_type": "stream",
     "text": [
      "/Users/deth/opt/anaconda3/lib/python3.8/site-packages/ipykernel/ipkernel.py:287: DeprecationWarning: `should_run_async` will not call `transform_cell` automatically in the future. Please pass the result to `transformed_cell` argument and any exception that happen during thetransform in `preprocessing_exc_tuple` in IPython 7.17 and above.\n",
      "  and should_run_async(code)\n"
     ]
    },
    {
     "data": {
      "text/plain": [
       "array([-0.52014885, -0.48950958, -0.30904785, -0.29777306, -0.27463923,\n",
       "       -0.48745508, -0.40969579, -0.358498  ])"
      ]
     },
     "execution_count": 57,
     "metadata": {},
     "output_type": "execute_result"
    }
   ],
   "source": [
    "model.intercept_"
   ]
  },
  {
   "cell_type": "code",
   "execution_count": 58,
   "id": "1bfb73b0",
   "metadata": {},
   "outputs": [
    {
     "name": "stderr",
     "output_type": "stream",
     "text": [
      "/Users/deth/opt/anaconda3/lib/python3.8/site-packages/ipykernel/ipkernel.py:287: DeprecationWarning: `should_run_async` will not call `transform_cell` automatically in the future. Please pass the result to `transformed_cell` argument and any exception that happen during thetransform in `preprocessing_exc_tuple` in IPython 7.17 and above.\n",
      "  and should_run_async(code)\n"
     ]
    },
    {
     "data": {
      "text/plain": [
       "array([[-0.35738148, -0.27826143, -0.16112654, ..., -0.01754219,\n",
       "         0.0287324 , -0.00391545],\n",
       "       [-0.33493762, -0.24917169, -0.11873994, ..., -0.00552896,\n",
       "        -0.00177696, -0.00206283],\n",
       "       [-0.26573421, -0.29144216, -0.00525057, ..., -0.00755567,\n",
       "        -0.00428059, -0.00822369],\n",
       "       ...,\n",
       "       [-0.30706257, -0.20059181, -0.11918124, ..., -0.00386227,\n",
       "        -0.00285155, -0.00117451],\n",
       "       [-0.22055093, -0.1706396 , -0.10540571, ..., -0.01305459,\n",
       "        -0.00281903, -0.00276259],\n",
       "       [-0.21134241, -0.22370813, -0.07032606, ..., -0.00653646,\n",
       "        -0.00389185,  0.01194743]])"
      ]
     },
     "execution_count": 58,
     "metadata": {},
     "output_type": "execute_result"
    }
   ],
   "source": [
    "model.coef_"
   ]
  },
  {
   "cell_type": "code",
   "execution_count": 59,
   "id": "68ac163e",
   "metadata": {},
   "outputs": [
    {
     "name": "stderr",
     "output_type": "stream",
     "text": [
      "/Users/deth/opt/anaconda3/lib/python3.8/site-packages/ipykernel/ipkernel.py:287: DeprecationWarning: `should_run_async` will not call `transform_cell` automatically in the future. Please pass the result to `transformed_cell` argument and any exception that happen during thetransform in `preprocessing_exc_tuple` in IPython 7.17 and above.\n",
      "  and should_run_async(code)\n"
     ]
    },
    {
     "data": {
      "text/plain": [
       "array([[0.1001958 , 0.09501206, 0.31833247, ..., 0.1007455 , 0.08408247,\n",
       "        0.09948766],\n",
       "       [0.08245863, 0.08217998, 0.14371867, ..., 0.16064918, 0.09351639,\n",
       "        0.1493261 ],\n",
       "       [0.06233721, 0.06781437, 0.11144228, ..., 0.15712583, 0.11619482,\n",
       "        0.11514441],\n",
       "       ...,\n",
       "       [0.09814632, 0.14516651, 0.1029238 , ..., 0.04937297, 0.08884696,\n",
       "        0.06462431],\n",
       "       [0.08605095, 0.09414507, 0.14840545, ..., 0.13084858, 0.11338283,\n",
       "        0.1007337 ],\n",
       "       [0.08310469, 0.19776718, 0.16600524, ..., 0.05707799, 0.11067412,\n",
       "        0.13528684]])"
      ]
     },
     "execution_count": 59,
     "metadata": {},
     "output_type": "execute_result"
    }
   ],
   "source": [
    "model.predict_proba(x)"
   ]
  },
  {
   "cell_type": "code",
   "execution_count": 60,
   "id": "365054c0",
   "metadata": {},
   "outputs": [
    {
     "name": "stderr",
     "output_type": "stream",
     "text": [
      "/Users/deth/opt/anaconda3/lib/python3.8/site-packages/ipykernel/ipkernel.py:287: DeprecationWarning: `should_run_async` will not call `transform_cell` automatically in the future. Please pass the result to `transformed_cell` argument and any exception that happen during thetransform in `preprocessing_exc_tuple` in IPython 7.17 and above.\n",
      "  and should_run_async(code)\n"
     ]
    },
    {
     "data": {
      "text/plain": [
       "array(['Baby_Care', 'Baby_toddler_toys', 'Baby_stationary', 'Baby_Care',\n",
       "       'Baby_Care', 'Baby_Care', 'Baby_stationary', 'Gift', 'Gift',\n",
       "       'Gift', 'Gift', 'Gift', 'Gift', 'Gift', 'Baby_stationary',\n",
       "       'Baby_stationary', 'Gift', 'Baby_stationary', 'Baby_stationary',\n",
       "       'Baby_stationary', 'Baby_stationary', 'Baby_stationary',\n",
       "       'Baby_stationary', 'Baby_stationary', 'Baby_stationary',\n",
       "       'Baby_stationary', 'Gift', 'Activity_entertainment',\n",
       "       'Baby_stationary', 'Baby_stationary', 'Activity_entertainment',\n",
       "       'Baby_stationary', 'Activity_entertainment',\n",
       "       'Activity_entertainment', 'Activity_entertainment',\n",
       "       'Activity_entertainment', 'Activity_entertainment',\n",
       "       'Baby_toddler_toys', 'Baby_stationary', 'Baby_stationary',\n",
       "       'Baby_stationary', 'Baby_stationary', 'Baby_stationary',\n",
       "       'Baby_stationary', 'Baby_stationary', 'Baby_toddler_toys',\n",
       "       'Baby_stationary', 'Baby_toddler_toys', 'Baby_Care',\n",
       "       'Baby_stationary', 'Gift', 'Baby_toddler_toys', 'Baby_stationary',\n",
       "       'Baby_toddler_toys', 'Baby_Care', 'Baby_stationary',\n",
       "       'Baby_stationary', 'Baby_toddler_toys', 'Baby_toddler_toys',\n",
       "       'Baby_stationary', 'Gift', 'Gift', 'Gift', 'Baby_stationary',\n",
       "       'Baby_stationary', 'Gift', 'Baby_toddler_toys', 'Nursery',\n",
       "       'Nursery', 'Nursery', 'Nursery', 'Baby_stationary', 'Gift',\n",
       "       'Diapering', 'Baby_stationary', 'Diapering', 'Nursery',\n",
       "       'Baby_Care', 'Diapering', 'Diapering', 'Diapering', 'Diapering',\n",
       "       'Diapering', 'Diapering', 'Diapering', 'Diapering', 'Diapering',\n",
       "       'Nursery', 'Nursery', 'Nursery', 'Nursery', 'Baby_toddler_toys',\n",
       "       'Nursery', 'Apparel_accessories', 'Baby_toddler_toys', 'Baby_Care',\n",
       "       'Apparel_accessories', 'Baby_stationary', 'Gift', 'Gift', 'Gift',\n",
       "       'Gift', 'Gift', 'Gift', 'Gift', 'Gift', 'Gift', 'Gift',\n",
       "       'Baby_toddler_toys', 'Gift', 'Gift', 'Gift', 'Gift',\n",
       "       'Baby_toddler_toys', 'Baby_toddler_toys', 'Baby_Care', 'Nursery',\n",
       "       'Nursery', 'Baby_toddler_toys', 'Baby_stationary', 'Nursery',\n",
       "       'Nursery', 'Baby_Care', 'Nursery', 'Baby_toddler_toys',\n",
       "       'Baby_toddler_toys', 'Baby_toddler_toys', 'Baby_toddler_toys',\n",
       "       'Baby_toddler_toys', 'Baby_toddler_toys', 'Baby_toddler_toys',\n",
       "       'Baby_toddler_toys', 'Baby_toddler_toys', 'Baby_Care',\n",
       "       'Baby_toddler_toys', 'Baby_toddler_toys', 'Baby_toddler_toys',\n",
       "       'Baby_toddler_toys', 'Baby_toddler_toys', 'Baby_toddler_toys',\n",
       "       'Baby_Care', 'Baby_toddler_toys', 'Baby_toddler_toys',\n",
       "       'Baby_toddler_toys', 'Baby_toddler_toys', 'Baby_toddler_toys',\n",
       "       'Baby_toddler_toys', 'Baby_toddler_toys', 'Baby_toddler_toys',\n",
       "       'Baby_toddler_toys', 'Baby_toddler_toys', 'Baby_toddler_toys',\n",
       "       'Baby_toddler_toys', 'Baby_toddler_toys', 'Baby_toddler_toys',\n",
       "       'Baby_toddler_toys', 'Baby_toddler_toys', 'Baby_toddler_toys',\n",
       "       'Baby_toddler_toys', 'Baby_toddler_toys', 'Baby_toddler_toys',\n",
       "       'Baby_toddler_toys', 'Baby_toddler_toys', 'Baby_toddler_toys',\n",
       "       'Baby_toddler_toys', 'Baby_toddler_toys', 'Baby_toddler_toys',\n",
       "       'Baby_toddler_toys', 'Baby_toddler_toys', 'Baby_toddler_toys',\n",
       "       'Baby_toddler_toys', 'Baby_toddler_toys', 'Baby_toddler_toys',\n",
       "       'Baby_toddler_toys', 'Baby_toddler_toys', 'Baby_toddler_toys',\n",
       "       'Nursery', 'Nursery', 'Nursery', 'Baby_Care', 'Baby_toddler_toys',\n",
       "       'Nursery', 'Baby_toddler_toys', 'Baby_toddler_toys', 'Baby_Care',\n",
       "       'Baby_toddler_toys', 'Baby_toddler_toys', 'Baby_Care', 'Baby_Care',\n",
       "       'Baby_toddler_toys', 'Gift', 'Gift', 'Gift',\n",
       "       'Activity_entertainment', 'Baby_Care', 'Baby_Care',\n",
       "       'Baby_toddler_toys', 'Baby_Care', 'Baby_toddler_toys',\n",
       "       'Baby_toddler_toys', 'Baby_toddler_toys', 'Baby_toddler_toys',\n",
       "       'Baby_toddler_toys', 'Baby_stationary', 'Baby_toddler_toys',\n",
       "       'Baby_toddler_toys', 'Baby_toddler_toys', 'Baby_toddler_toys',\n",
       "       'Baby_stationary', 'Baby_toddler_toys', 'Baby_stationary',\n",
       "       'Baby_stationary', 'Baby_Care', 'Gift', 'Baby_toddler_toys',\n",
       "       'Baby_toddler_toys', 'Baby_stationary', 'Gift',\n",
       "       'Baby_toddler_toys', 'Baby_toddler_toys', 'Baby_toddler_toys',\n",
       "       'Baby_stationary', 'Baby_stationary', 'Baby_toddler_toys',\n",
       "       'Activity_entertainment', 'Activity_entertainment',\n",
       "       'Baby_toddler_toys', 'Baby_toddler_toys', 'Baby_toddler_toys',\n",
       "       'Baby_stationary', 'Baby_toddler_toys', 'Baby_toddler_toys',\n",
       "       'Baby_toddler_toys', 'Baby_Care', 'Baby_Care', 'Baby_Care',\n",
       "       'Baby_Care', 'Baby_Care', 'Baby_Care', 'Baby_Care', 'Baby_Care',\n",
       "       'Baby_Care', 'Baby_Care', 'Baby_Care', 'Baby_Care', 'Baby_Care',\n",
       "       'Baby_Care', 'Baby_Care', 'Baby_Care', 'Baby_Care', 'Baby_Care',\n",
       "       'Baby_Care', 'Baby_Care', 'Baby_Care', 'Baby_Care', 'Baby_Care',\n",
       "       'Baby_Care', 'Baby_Care', 'Baby_Care', 'Baby_Care',\n",
       "       'Baby_toddler_toys', 'Baby_Care', 'Baby_Care', 'Baby_Care',\n",
       "       'Baby_Care', 'Baby_Care', 'Baby_Care', 'Baby_Care', 'Baby_Care',\n",
       "       'Baby_Care', 'Baby_Care', 'Baby_toddler_toys', 'Baby_toddler_toys',\n",
       "       'Baby_Care', 'Baby_Care', 'Baby_Care', 'Baby_Care', 'Baby_Care',\n",
       "       'Baby_Care', 'Baby_Care', 'Baby_Care', 'Baby_Care', 'Baby_Care',\n",
       "       'Baby_Care', 'Baby_Care', 'Baby_Care', 'Baby_Care', 'Baby_Care',\n",
       "       'Baby_Care', 'Baby_Care', 'Baby_Care', 'Baby_Care', 'Baby_Care',\n",
       "       'Baby_toddler_toys', 'Baby_Care', 'Baby_Care', 'Baby_toddler_toys',\n",
       "       'Baby_Care', 'Baby_Care', 'Baby_Care', 'Baby_Care', 'Baby_Care',\n",
       "       'Baby_Care', 'Baby_Care', 'Baby_Care', 'Baby_Care', 'Baby_Care',\n",
       "       'Baby_Care', 'Baby_stationary', 'Baby_stationary',\n",
       "       'Baby_stationary', 'Baby_toddler_toys', 'Baby_toddler_toys',\n",
       "       'Baby_stationary', 'Baby_stationary', 'Baby_stationary',\n",
       "       'Baby_stationary', 'Baby_stationary', 'Baby_stationary',\n",
       "       'Baby_stationary', 'Baby_stationary', 'Baby_stationary',\n",
       "       'Baby_stationary', 'Baby_stationary', 'Gift', 'Gift',\n",
       "       'Baby_toddler_toys', 'Gift', 'Gift', 'Gift', 'Gift', 'Gift',\n",
       "       'Gift', 'Nursery', 'Nursery', 'Nursery', 'Nursery', 'Nursery',\n",
       "       'Nursery', 'Nursery', 'Nursery', 'Nursery', 'Nursery', 'Nursery',\n",
       "       'Nursery', 'Nursery', 'Nursery', 'Nursery', 'Nursery', 'Nursery',\n",
       "       'Nursery', 'Nursery', 'Nursery', 'Nursery', 'Nursery', 'Nursery',\n",
       "       'Nursery', 'Diapering', 'Baby_Care', 'Diapering', 'Diapering',\n",
       "       'Diapering', 'Diapering', 'Diapering', 'Diapering', 'Diapering',\n",
       "       'Diapering', 'Diapering', 'Diapering', 'Diapering', 'Diapering',\n",
       "       'Baby_toddler_toys', 'Diapering', 'Diapering', 'Diapering',\n",
       "       'Activity_entertainment', 'Activity_entertainment',\n",
       "       'Baby_stationary', 'Activity_entertainment',\n",
       "       'Activity_entertainment', 'Activity_entertainment',\n",
       "       'Activity_entertainment', 'Activity_entertainment',\n",
       "       'Activity_entertainment', 'Baby_Care', 'Activity_entertainment',\n",
       "       'Baby_toddler_toys', 'Baby_toddler_toys', 'Activity_entertainment',\n",
       "       'Baby_toddler_toys', 'Activity_entertainment',\n",
       "       'Activity_entertainment', 'Activity_entertainment',\n",
       "       'Activity_entertainment', 'Activity_entertainment',\n",
       "       'Activity_entertainment', 'Activity_entertainment',\n",
       "       'Baby_toddler_toys', 'Activity_entertainment',\n",
       "       'Apparel_accessories', 'Apparel_accessories',\n",
       "       'Apparel_accessories', 'Apparel_accessories', 'Baby_toddler_toys',\n",
       "       'Apparel_accessories', 'Baby_toddler_toys', 'Baby_Care',\n",
       "       'Baby_stationary', 'Apparel_accessories', 'Baby_toddler_toys',\n",
       "       'Baby_stationary', 'Baby_stationary', 'Apparel_accessories'],\n",
       "      dtype=object)"
      ]
     },
     "execution_count": 60,
     "metadata": {},
     "output_type": "execute_result"
    }
   ],
   "source": [
    "model.predict(x)"
   ]
  },
  {
   "cell_type": "code",
   "execution_count": 61,
   "id": "44303dde",
   "metadata": {},
   "outputs": [
    {
     "name": "stderr",
     "output_type": "stream",
     "text": [
      "/Users/deth/opt/anaconda3/lib/python3.8/site-packages/ipykernel/ipkernel.py:287: DeprecationWarning: `should_run_async` will not call `transform_cell` automatically in the future. Please pass the result to `transformed_cell` argument and any exception that happen during thetransform in `preprocessing_exc_tuple` in IPython 7.17 and above.\n",
      "  and should_run_async(code)\n"
     ]
    },
    {
     "data": {
      "text/plain": [
       "0.8159806295399515"
      ]
     },
     "execution_count": 61,
     "metadata": {},
     "output_type": "execute_result"
    }
   ],
   "source": [
    "model.score(x, y)"
   ]
  },
  {
   "cell_type": "code",
   "execution_count": 62,
   "id": "f55da4be",
   "metadata": {},
   "outputs": [
    {
     "name": "stderr",
     "output_type": "stream",
     "text": [
      "/Users/deth/opt/anaconda3/lib/python3.8/site-packages/ipykernel/ipkernel.py:287: DeprecationWarning: `should_run_async` will not call `transform_cell` automatically in the future. Please pass the result to `transformed_cell` argument and any exception that happen during thetransform in `preprocessing_exc_tuple` in IPython 7.17 and above.\n",
      "  and should_run_async(code)\n"
     ]
    },
    {
     "data": {
      "text/plain": [
       "array([[27,  0,  1,  4,  5,  0,  0,  0],\n",
       "       [ 0,  9,  2,  3,  4,  0,  0,  0],\n",
       "       [ 0,  0, 77,  0,  6,  0,  0,  0],\n",
       "       [ 0,  0,  2, 44,  8,  0,  1,  0],\n",
       "       [ 0,  0,  5,  3, 73,  0,  1,  0],\n",
       "       [ 0,  0,  2,  0,  2, 27,  0,  1],\n",
       "       [ 1,  0,  2,  1,  5,  0, 38,  0],\n",
       "       [ 0,  0,  2,  6,  7,  0,  2, 42]])"
      ]
     },
     "execution_count": 62,
     "metadata": {},
     "output_type": "execute_result"
    }
   ],
   "source": [
    "confusion_matrix(y, model.predict(x))"
   ]
  },
  {
   "cell_type": "code",
   "execution_count": 63,
   "id": "e5d6cfef",
   "metadata": {},
   "outputs": [
    {
     "name": "stderr",
     "output_type": "stream",
     "text": [
      "/Users/deth/opt/anaconda3/lib/python3.8/site-packages/ipykernel/ipkernel.py:287: DeprecationWarning: `should_run_async` will not call `transform_cell` automatically in the future. Please pass the result to `transformed_cell` argument and any exception that happen during thetransform in `preprocessing_exc_tuple` in IPython 7.17 and above.\n",
      "  and should_run_async(code)\n"
     ]
    },
    {
     "data": {
      "image/png": "[encoded data removed]",
      "text/plain": [
       "<Figure size 576x576 with 1 Axes>"
      ]
     },
     "metadata": {
      "needs_background": "light"
     },
     "output_type": "display_data"
    }
   ],
   "source": [
    "import matplotlib.pyplot as plt\n",
    "cm = confusion_matrix(y, model.predict(x))\n",
    "\n",
    "fig, ax = plt.subplots(figsize=(8, 8))\n",
    "ax.imshow(cm)\n",
    "ax.grid(False)\n",
    "ax.xaxis.set(ticks=(0, 1), ticklabels=('Predicted 0s', 'Predicted 1s'))\n",
    "ax.yaxis.set(ticks=(0, 1), ticklabels=('Actual 0s', 'Actual 1s'))\n",
    "ax.set_ylim(1.5, -0.5)\n",
    "for i in range(2):\n",
    "    for j in range(2):\n",
    "        ax.text(j, i, cm[i, j], ha='center', va='center', color='red')\n",
    "plt.show()"
   ]
  },
  {
   "cell_type": "code",
   "execution_count": 64,
   "id": "5230457c",
   "metadata": {},
   "outputs": [
    {
     "name": "stdout",
     "output_type": "stream",
     "text": [
      "                        precision    recall  f1-score   support\n",
      "\n",
      "Activity_entertainment       0.96      0.73      0.83        37\n",
      "   Apparel_accessories       1.00      0.50      0.67        18\n",
      "             Baby_Care       0.83      0.93      0.87        83\n",
      "       Baby_stationary       0.72      0.80      0.76        55\n",
      "     Baby_toddler_toys       0.66      0.89      0.76        82\n",
      "             Diapering       1.00      0.84      0.92        32\n",
      "                  Gift       0.90      0.81      0.85        47\n",
      "               Nursery       0.98      0.71      0.82        59\n",
      "\n",
      "              accuracy                           0.82       413\n",
      "             macro avg       0.88      0.78      0.81       413\n",
      "          weighted avg       0.84      0.82      0.82       413\n",
      "\n"
     ]
    },
    {
     "name": "stderr",
     "output_type": "stream",
     "text": [
      "/Users/deth/opt/anaconda3/lib/python3.8/site-packages/ipykernel/ipkernel.py:287: DeprecationWarning: `should_run_async` will not call `transform_cell` automatically in the future. Please pass the result to `transformed_cell` argument and any exception that happen during thetransform in `preprocessing_exc_tuple` in IPython 7.17 and above.\n",
      "  and should_run_async(code)\n"
     ]
    }
   ],
   "source": [
    "print(classification_report(y, model.predict(x)))"
   ]
  },
  {
   "cell_type": "code",
   "execution_count": 65,
   "id": "a3a1502d",
   "metadata": {},
   "outputs": [
    {
     "name": "stderr",
     "output_type": "stream",
     "text": [
      "/Users/deth/opt/anaconda3/lib/python3.8/site-packages/ipykernel/ipkernel.py:287: DeprecationWarning: `should_run_async` will not call `transform_cell` automatically in the future. Please pass the result to `transformed_cell` argument and any exception that happen during thetransform in `preprocessing_exc_tuple` in IPython 7.17 and above.\n",
      "  and should_run_async(code)\n"
     ]
    },
    {
     "data": {
      "text/plain": [
       "LogisticRegression(C=10.0, random_state=0, solver='liblinear')"
      ]
     },
     "execution_count": 65,
     "metadata": {},
     "output_type": "execute_result"
    }
   ],
   "source": [
    "model = LogisticRegression(solver='liblinear', C=10.0, random_state=0)\n",
    "model.fit(X_train,y_train)"
   ]
  },
  {
   "cell_type": "code",
   "execution_count": 66,
   "id": "bbd75942",
   "metadata": {},
   "outputs": [
    {
     "name": "stderr",
     "output_type": "stream",
     "text": [
      "/Users/deth/opt/anaconda3/lib/python3.8/site-packages/ipykernel/ipkernel.py:287: DeprecationWarning: `should_run_async` will not call `transform_cell` automatically in the future. Please pass the result to `transformed_cell` argument and any exception that happen during thetransform in `preprocessing_exc_tuple` in IPython 7.17 and above.\n",
      "  and should_run_async(code)\n"
     ]
    }
   ],
   "source": [
    "# import numpy as np\n",
    "# y_test=pd.factorize(y_test)[0]\n",
    "\n",
    "# # y_test = np.reshape(y_test, (-1, 2))\n",
    "\n",
    "\n",
    "# # y_test=y_test.flatten()\n",
    "# y_test=np.reshape(y_test,(2, 31))\n",
    "# y_test"
   ]
  },
  {
   "cell_type": "code",
   "execution_count": 67,
   "id": "3733c2f9",
   "metadata": {},
   "outputs": [
    {
     "name": "stderr",
     "output_type": "stream",
     "text": [
      "/Users/deth/opt/anaconda3/lib/python3.8/site-packages/ipykernel/ipkernel.py:287: DeprecationWarning: `should_run_async` will not call `transform_cell` automatically in the future. Please pass the result to `transformed_cell` argument and any exception that happen during thetransform in `preprocessing_exc_tuple` in IPython 7.17 and above.\n",
      "  and should_run_async(code)\n"
     ]
    },
    {
     "data": {
      "text/plain": [
       "array([-1.44498255, -1.2084762 , -0.8258293 , -0.46336829, -0.54771122,\n",
       "       -1.26742627, -1.01279723, -0.78827544])"
      ]
     },
     "execution_count": 67,
     "metadata": {},
     "output_type": "execute_result"
    }
   ],
   "source": [
    "model.intercept_"
   ]
  },
  {
   "cell_type": "code",
   "execution_count": 68,
   "id": "a80b5cd4",
   "metadata": {},
   "outputs": [
    {
     "name": "stderr",
     "output_type": "stream",
     "text": [
      "/Users/deth/opt/anaconda3/lib/python3.8/site-packages/ipykernel/ipkernel.py:287: DeprecationWarning: `should_run_async` will not call `transform_cell` automatically in the future. Please pass the result to `transformed_cell` argument and any exception that happen during thetransform in `preprocessing_exc_tuple` in IPython 7.17 and above.\n",
      "  and should_run_async(code)\n"
     ]
    },
    {
     "data": {
      "text/plain": [
       "62"
      ]
     },
     "execution_count": 68,
     "metadata": {},
     "output_type": "execute_result"
    }
   ],
   "source": [
    "len(y_test)"
   ]
  },
  {
   "cell_type": "code",
   "execution_count": 69,
   "id": "213359c3",
   "metadata": {},
   "outputs": [
    {
     "name": "stderr",
     "output_type": "stream",
     "text": [
      "/Users/deth/opt/anaconda3/lib/python3.8/site-packages/ipykernel/ipkernel.py:287: DeprecationWarning: `should_run_async` will not call `transform_cell` automatically in the future. Please pass the result to `transformed_cell` argument and any exception that happen during thetransform in `preprocessing_exc_tuple` in IPython 7.17 and above.\n",
      "  and should_run_async(code)\n"
     ]
    },
    {
     "data": {
      "text/plain": [
       "array([[-0.87399478, -0.79625983, -0.51661123, ..., -0.13709069,\n",
       "         0.15976389, -0.00919733],\n",
       "       [-0.68259684, -0.43656966, -0.22314589, ..., -0.0914084 ,\n",
       "        -0.01114771, -0.00348967],\n",
       "       [-0.62561871, -0.78469811, -0.23275862, ..., -0.02599052,\n",
       "        -0.01024491, -0.04750706],\n",
       "       ...,\n",
       "       [-0.7091388 , -0.57964276, -0.38283083, ..., -0.00948221,\n",
       "        -0.00154609, -0.0010158 ],\n",
       "       [-0.44962513, -0.48832106, -0.29106675, ..., -0.05946649,\n",
       "        -0.00190333, -0.00195145],\n",
       "       [-0.45347293, -0.53649856, -0.14854979, ..., -0.00579471,\n",
       "        -0.00527157,  0.02633608]])"
      ]
     },
     "execution_count": 69,
     "metadata": {},
     "output_type": "execute_result"
    }
   ],
   "source": [
    "model.coef_"
   ]
  },
  {
   "cell_type": "code",
   "execution_count": 70,
   "id": "5879aa7d",
   "metadata": {},
   "outputs": [
    {
     "name": "stderr",
     "output_type": "stream",
     "text": [
      "/Users/deth/opt/anaconda3/lib/python3.8/site-packages/ipykernel/ipkernel.py:287: DeprecationWarning: `should_run_async` will not call `transform_cell` automatically in the future. Please pass the result to `transformed_cell` argument and any exception that happen during thetransform in `preprocessing_exc_tuple` in IPython 7.17 and above.\n",
      "  and should_run_async(code)\n"
     ]
    },
    {
     "data": {
      "text/plain": [
       "array([[3.95185147e-03, 2.89604310e-03, 9.70774659e-01, ...,\n",
       "        6.99068997e-03, 2.00236951e-03, 7.08829379e-04],\n",
       "       [4.37824950e-03, 2.52323455e-03, 1.25836109e-02, ...,\n",
       "        9.43740148e-01, 1.79834274e-03, 1.84437641e-02],\n",
       "       [1.68785864e-03, 1.35407285e-02, 2.68027948e-02, ...,\n",
       "        4.41506002e-02, 1.43847236e-02, 1.79784778e-02],\n",
       "       ...,\n",
       "       [4.22370227e-03, 9.29398010e-01, 4.69271349e-03, ...,\n",
       "        7.47355447e-04, 3.32990995e-03, 6.77830404e-04],\n",
       "       [1.33178397e-02, 7.67801447e-01, 9.09858499e-02, ...,\n",
       "        1.71611107e-02, 1.06803656e-02, 1.06179962e-02],\n",
       "       [3.17837476e-03, 9.46946347e-01, 5.87366271e-03, ...,\n",
       "        1.07470115e-03, 4.47022894e-03, 6.59476278e-03]])"
      ]
     },
     "execution_count": 70,
     "metadata": {},
     "output_type": "execute_result"
    }
   ],
   "source": [
    "model.predict_proba(x)"
   ]
  },
  {
   "cell_type": "code",
   "execution_count": 71,
   "id": "4f597569",
   "metadata": {},
   "outputs": [
    {
     "name": "stderr",
     "output_type": "stream",
     "text": [
      "/Users/deth/opt/anaconda3/lib/python3.8/site-packages/ipykernel/ipkernel.py:287: DeprecationWarning: `should_run_async` will not call `transform_cell` automatically in the future. Please pass the result to `transformed_cell` argument and any exception that happen during thetransform in `preprocessing_exc_tuple` in IPython 7.17 and above.\n",
      "  and should_run_async(code)\n"
     ]
    },
    {
     "data": {
      "text/plain": [
       "array(['Baby_Care', 'Diapering', 'Baby_stationary', 'Baby_Care',\n",
       "       'Baby_Care', 'Baby_Care', 'Nursery', 'Gift', 'Gift', 'Gift',\n",
       "       'Gift', 'Gift', 'Gift', 'Gift', 'Baby_stationary',\n",
       "       'Baby_stationary', 'Baby_stationary', 'Baby_stationary',\n",
       "       'Baby_stationary', 'Baby_stationary', 'Baby_stationary',\n",
       "       'Baby_stationary', 'Baby_stationary', 'Baby_stationary',\n",
       "       'Baby_stationary', 'Baby_stationary', 'Gift',\n",
       "       'Activity_entertainment', 'Activity_entertainment',\n",
       "       'Baby_stationary', 'Activity_entertainment',\n",
       "       'Activity_entertainment', 'Activity_entertainment',\n",
       "       'Activity_entertainment', 'Activity_entertainment',\n",
       "       'Activity_entertainment', 'Activity_entertainment',\n",
       "       'Activity_entertainment', 'Baby_stationary', 'Baby_stationary',\n",
       "       'Baby_stationary', 'Baby_stationary', 'Baby_stationary',\n",
       "       'Baby_stationary', 'Baby_stationary', 'Baby_stationary',\n",
       "       'Baby_stationary', 'Baby_stationary', 'Baby_stationary',\n",
       "       'Baby_stationary', 'Gift', 'Baby_toddler_toys',\n",
       "       'Baby_toddler_toys', 'Baby_stationary', 'Baby_stationary',\n",
       "       'Baby_stationary', 'Baby_stationary', 'Baby_stationary', 'Gift',\n",
       "       'Baby_stationary', 'Gift', 'Gift', 'Activity_entertainment',\n",
       "       'Baby_stationary', 'Baby_stationary', 'Nursery', 'Nursery',\n",
       "       'Nursery', 'Nursery', 'Nursery', 'Nursery', 'Nursery', 'Gift',\n",
       "       'Diapering', 'Nursery', 'Diapering', 'Baby_Care', 'Diapering',\n",
       "       'Diapering', 'Diapering', 'Diapering', 'Diapering', 'Diapering',\n",
       "       'Diapering', 'Diapering', 'Diapering', 'Diapering', 'Nursery',\n",
       "       'Nursery', 'Nursery', 'Nursery', 'Apparel_accessories', 'Nursery',\n",
       "       'Apparel_accessories', 'Baby_toddler_toys', 'Apparel_accessories',\n",
       "       'Apparel_accessories', 'Nursery', 'Gift', 'Gift', 'Gift', 'Gift',\n",
       "       'Gift', 'Gift', 'Gift', 'Gift', 'Gift', 'Gift',\n",
       "       'Baby_toddler_toys', 'Gift', 'Gift', 'Gift', 'Gift',\n",
       "       'Baby_toddler_toys', 'Baby_toddler_toys', 'Baby_toddler_toys',\n",
       "       'Nursery', 'Nursery', 'Nursery', 'Gift', 'Nursery', 'Nursery',\n",
       "       'Nursery', 'Nursery', 'Baby_toddler_toys', 'Baby_toddler_toys',\n",
       "       'Baby_toddler_toys', 'Baby_toddler_toys', 'Baby_toddler_toys',\n",
       "       'Baby_toddler_toys', 'Baby_toddler_toys', 'Baby_toddler_toys',\n",
       "       'Baby_toddler_toys', 'Gift', 'Baby_toddler_toys',\n",
       "       'Baby_toddler_toys', 'Baby_toddler_toys', 'Baby_toddler_toys',\n",
       "       'Baby_toddler_toys', 'Baby_toddler_toys', 'Baby_toddler_toys',\n",
       "       'Baby_toddler_toys', 'Baby_toddler_toys', 'Baby_toddler_toys',\n",
       "       'Baby_toddler_toys', 'Baby_toddler_toys', 'Baby_toddler_toys',\n",
       "       'Baby_toddler_toys', 'Baby_toddler_toys', 'Baby_toddler_toys',\n",
       "       'Baby_toddler_toys', 'Baby_toddler_toys', 'Baby_toddler_toys',\n",
       "       'Baby_toddler_toys', 'Baby_toddler_toys', 'Baby_toddler_toys',\n",
       "       'Baby_toddler_toys', 'Baby_toddler_toys', 'Baby_toddler_toys',\n",
       "       'Baby_toddler_toys', 'Baby_toddler_toys', 'Baby_toddler_toys',\n",
       "       'Baby_toddler_toys', 'Baby_toddler_toys', 'Baby_toddler_toys',\n",
       "       'Baby_toddler_toys', 'Baby_toddler_toys', 'Baby_toddler_toys',\n",
       "       'Baby_toddler_toys', 'Baby_toddler_toys', 'Baby_toddler_toys',\n",
       "       'Baby_toddler_toys', 'Baby_toddler_toys', 'Baby_toddler_toys',\n",
       "       'Baby_toddler_toys', 'Baby_toddler_toys', 'Nursery', 'Nursery',\n",
       "       'Nursery', 'Nursery', 'Nursery', 'Nursery', 'Nursery', 'Nursery',\n",
       "       'Gift', 'Baby_toddler_toys', 'Baby_toddler_toys',\n",
       "       'Baby_toddler_toys', 'Gift', 'Gift', 'Gift', 'Gift', 'Gift',\n",
       "       'Activity_entertainment', 'Baby_Care', 'Baby_Care',\n",
       "       'Baby_toddler_toys', 'Nursery', 'Baby_toddler_toys',\n",
       "       'Baby_toddler_toys', 'Baby_toddler_toys', 'Baby_toddler_toys',\n",
       "       'Baby_toddler_toys', 'Baby_toddler_toys', 'Baby_toddler_toys',\n",
       "       'Baby_stationary', 'Baby_toddler_toys', 'Baby_toddler_toys',\n",
       "       'Baby_stationary', 'Baby_stationary', 'Baby_stationary',\n",
       "       'Baby_stationary', 'Baby_Care', 'Nursery', 'Baby_stationary',\n",
       "       'Nursery', 'Baby_toddler_toys', 'Baby_toddler_toys',\n",
       "       'Baby_toddler_toys', 'Baby_toddler_toys', 'Baby_toddler_toys',\n",
       "       'Baby_stationary', 'Baby_stationary', 'Baby_toddler_toys',\n",
       "       'Activity_entertainment', 'Activity_entertainment',\n",
       "       'Baby_toddler_toys', 'Baby_toddler_toys', 'Baby_toddler_toys',\n",
       "       'Baby_stationary', 'Baby_stationary', 'Baby_stationary',\n",
       "       'Baby_Care', 'Baby_Care', 'Baby_Care', 'Baby_Care', 'Baby_Care',\n",
       "       'Baby_Care', 'Baby_Care', 'Baby_Care', 'Baby_Care', 'Baby_Care',\n",
       "       'Baby_Care', 'Baby_Care', 'Baby_Care', 'Baby_Care', 'Baby_Care',\n",
       "       'Baby_Care', 'Baby_Care', 'Baby_Care', 'Baby_Care', 'Baby_Care',\n",
       "       'Baby_Care', 'Baby_Care', 'Baby_Care', 'Baby_Care', 'Baby_Care',\n",
       "       'Baby_Care', 'Baby_Care', 'Baby_Care', 'Baby_toddler_toys',\n",
       "       'Baby_Care', 'Baby_Care', 'Baby_Care', 'Baby_Care', 'Baby_Care',\n",
       "       'Baby_Care', 'Baby_Care', 'Baby_Care', 'Baby_Care', 'Baby_Care',\n",
       "       'Baby_Care', 'Baby_Care', 'Baby_Care', 'Baby_Care', 'Baby_Care',\n",
       "       'Baby_Care', 'Baby_Care', 'Baby_Care', 'Baby_Care', 'Baby_Care',\n",
       "       'Baby_Care', 'Baby_Care', 'Baby_Care', 'Baby_Care', 'Baby_Care',\n",
       "       'Baby_Care', 'Baby_Care', 'Baby_Care', 'Baby_Care', 'Baby_Care',\n",
       "       'Baby_Care', 'Baby_Care', 'Baby_Care', 'Baby_Care', 'Baby_Care',\n",
       "       'Baby_Care', 'Baby_Care', 'Baby_Care', 'Baby_Care', 'Baby_Care',\n",
       "       'Baby_Care', 'Baby_Care', 'Baby_Care', 'Baby_Care', 'Baby_Care',\n",
       "       'Baby_Care', 'Baby_Care', 'Baby_stationary', 'Baby_stationary',\n",
       "       'Baby_stationary', 'Baby_stationary', 'Baby_toddler_toys',\n",
       "       'Baby_stationary', 'Baby_stationary', 'Baby_stationary',\n",
       "       'Baby_stationary', 'Baby_stationary', 'Baby_stationary',\n",
       "       'Baby_stationary', 'Baby_stationary', 'Baby_stationary',\n",
       "       'Baby_stationary', 'Baby_stationary', 'Gift', 'Gift', 'Gift',\n",
       "       'Gift', 'Gift', 'Gift', 'Gift', 'Gift', 'Gift', 'Nursery',\n",
       "       'Nursery', 'Nursery', 'Nursery', 'Nursery', 'Nursery', 'Nursery',\n",
       "       'Nursery', 'Nursery', 'Nursery', 'Nursery', 'Nursery', 'Nursery',\n",
       "       'Nursery', 'Nursery', 'Nursery', 'Nursery', 'Nursery', 'Nursery',\n",
       "       'Nursery', 'Nursery', 'Nursery', 'Nursery', 'Nursery', 'Diapering',\n",
       "       'Diapering', 'Diapering', 'Diapering', 'Diapering', 'Diapering',\n",
       "       'Diapering', 'Diapering', 'Diapering', 'Diapering', 'Diapering',\n",
       "       'Diapering', 'Diapering', 'Diapering', 'Diapering', 'Diapering',\n",
       "       'Diapering', 'Diapering', 'Activity_entertainment',\n",
       "       'Activity_entertainment', 'Activity_entertainment',\n",
       "       'Activity_entertainment', 'Activity_entertainment',\n",
       "       'Activity_entertainment', 'Activity_entertainment',\n",
       "       'Activity_entertainment', 'Activity_entertainment',\n",
       "       'Activity_entertainment', 'Activity_entertainment',\n",
       "       'Activity_entertainment', 'Activity_entertainment',\n",
       "       'Activity_entertainment', 'Activity_entertainment',\n",
       "       'Activity_entertainment', 'Activity_entertainment',\n",
       "       'Activity_entertainment', 'Activity_entertainment',\n",
       "       'Activity_entertainment', 'Activity_entertainment',\n",
       "       'Activity_entertainment', 'Activity_entertainment',\n",
       "       'Activity_entertainment', 'Apparel_accessories',\n",
       "       'Apparel_accessories', 'Apparel_accessories',\n",
       "       'Apparel_accessories', 'Apparel_accessories',\n",
       "       'Apparel_accessories', 'Apparel_accessories',\n",
       "       'Apparel_accessories', 'Baby_stationary', 'Apparel_accessories',\n",
       "       'Apparel_accessories', 'Apparel_accessories',\n",
       "       'Apparel_accessories', 'Apparel_accessories'], dtype=object)"
      ]
     },
     "execution_count": 71,
     "metadata": {},
     "output_type": "execute_result"
    }
   ],
   "source": [
    "model.predict(x)"
   ]
  },
  {
   "cell_type": "code",
   "execution_count": 72,
   "id": "5ca67389",
   "metadata": {},
   "outputs": [
    {
     "name": "stderr",
     "output_type": "stream",
     "text": [
      "/Users/deth/opt/anaconda3/lib/python3.8/site-packages/ipykernel/ipkernel.py:287: DeprecationWarning: `should_run_async` will not call `transform_cell` automatically in the future. Please pass the result to `transformed_cell` argument and any exception that happen during thetransform in `preprocessing_exc_tuple` in IPython 7.17 and above.\n",
      "  and should_run_async(code)\n"
     ]
    },
    {
     "data": {
      "text/plain": [
       "0.9612590799031477"
      ]
     },
     "execution_count": 72,
     "metadata": {},
     "output_type": "execute_result"
    }
   ],
   "source": [
    "model.score(x, y)"
   ]
  },
  {
   "cell_type": "code",
   "execution_count": 73,
   "id": "2b60fe5f",
   "metadata": {},
   "outputs": [
    {
     "name": "stderr",
     "output_type": "stream",
     "text": [
      "/Users/deth/opt/anaconda3/lib/python3.8/site-packages/ipykernel/ipkernel.py:287: DeprecationWarning: `should_run_async` will not call `transform_cell` automatically in the future. Please pass the result to `transformed_cell` argument and any exception that happen during thetransform in `preprocessing_exc_tuple` in IPython 7.17 and above.\n",
      "  and should_run_async(code)\n"
     ]
    }
   ],
   "source": [
    "cm1=confusion_matrix(y, model.predict(x))"
   ]
  },
  {
   "cell_type": "code",
   "execution_count": 74,
   "id": "c9b8124a",
   "metadata": {},
   "outputs": [
    {
     "name": "stdout",
     "output_type": "stream",
     "text": [
      "                        precision    recall  f1-score   support\n",
      "\n",
      "Activity_entertainment       0.95      0.97      0.96        37\n",
      "   Apparel_accessories       1.00      0.94      0.97        18\n",
      "             Baby_Care       0.99      0.99      0.99        83\n",
      "       Baby_stationary       0.89      0.98      0.93        55\n",
      "     Baby_toddler_toys       0.96      0.96      0.96        82\n",
      "             Diapering       1.00      0.97      0.98        32\n",
      "                  Gift       0.95      0.89      0.92        47\n",
      "               Nursery       0.98      0.95      0.97        59\n",
      "\n",
      "              accuracy                           0.96       413\n",
      "             macro avg       0.97      0.96      0.96       413\n",
      "          weighted avg       0.96      0.96      0.96       413\n",
      "\n"
     ]
    },
    {
     "name": "stderr",
     "output_type": "stream",
     "text": [
      "/Users/deth/opt/anaconda3/lib/python3.8/site-packages/ipykernel/ipkernel.py:287: DeprecationWarning: `should_run_async` will not call `transform_cell` automatically in the future. Please pass the result to `transformed_cell` argument and any exception that happen during thetransform in `preprocessing_exc_tuple` in IPython 7.17 and above.\n",
      "  and should_run_async(code)\n"
     ]
    }
   ],
   "source": [
    "print(classification_report(y, model.predict(x)))"
   ]
  },
  {
   "cell_type": "code",
   "execution_count": 75,
   "id": "b64f7b53",
   "metadata": {},
   "outputs": [
    {
     "name": "stderr",
     "output_type": "stream",
     "text": [
      "/Users/deth/opt/anaconda3/lib/python3.8/site-packages/ipykernel/ipkernel.py:287: DeprecationWarning: `should_run_async` will not call `transform_cell` automatically in the future. Please pass the result to `transformed_cell` argument and any exception that happen during thetransform in `preprocessing_exc_tuple` in IPython 7.17 and above.\n",
      "  and should_run_async(code)\n"
     ]
    },
    {
     "data": {
      "text/plain": [
       "LogisticRegression(C=0.05, multi_class='ovr', random_state=0,\n",
       "                   solver='liblinear')"
      ]
     },
     "execution_count": 75,
     "metadata": {},
     "output_type": "execute_result"
    }
   ],
   "source": [
    "model = LogisticRegression(solver='liblinear', C=0.05, multi_class='ovr',\n",
    "                           random_state=0)\n",
    "model.fit(X_train, y_train)"
   ]
  },
  {
   "cell_type": "code",
   "execution_count": 76,
   "id": "d1088ffc",
   "metadata": {},
   "outputs": [
    {
     "name": "stdout",
     "output_type": "stream",
     "text": [
      "[[ 2  0  0  2  2  0  0  0]\n",
      " [ 0  0  0  2  1  0  0  0]\n",
      " [ 0  0 10  0  2  0  0  0]\n",
      " [ 0  0  0  4  3  0  1  0]\n",
      " [ 0  0  2  0 10  0  0  0]\n",
      " [ 0  0  0  0  0  4  0  1]\n",
      " [ 1  0  0  1  2  0  3  0]\n",
      " [ 0  0  1  3  1  0  0  4]]\n"
     ]
    },
    {
     "name": "stderr",
     "output_type": "stream",
     "text": [
      "/Users/deth/opt/anaconda3/lib/python3.8/site-packages/ipykernel/ipkernel.py:287: DeprecationWarning: `should_run_async` will not call `transform_cell` automatically in the future. Please pass the result to `transformed_cell` argument and any exception that happen during thetransform in `preprocessing_exc_tuple` in IPython 7.17 and above.\n",
      "  and should_run_async(code)\n"
     ]
    }
   ],
   "source": [
    "cm = metrics.confusion_matrix(y_test, y_pred)\n",
    "print(cm)"
   ]
  },
  {
   "cell_type": "code",
   "execution_count": 77,
   "id": "7b63574a",
   "metadata": {},
   "outputs": [
    {
     "name": "stderr",
     "output_type": "stream",
     "text": [
      "/Users/deth/opt/anaconda3/lib/python3.8/site-packages/ipykernel/ipkernel.py:287: DeprecationWarning: `should_run_async` will not call `transform_cell` automatically in the future. Please pass the result to `transformed_cell` argument and any exception that happen during thetransform in `preprocessing_exc_tuple` in IPython 7.17 and above.\n",
      "  and should_run_async(code)\n"
     ]
    },
    {
     "data": {
      "image/png": "[encoded data removed]",
      "text/plain": [
       "<Figure size 648x648 with 2 Axes>"
      ]
     },
     "metadata": {
      "needs_background": "light"
     },
     "output_type": "display_data"
    }
   ],
   "source": [
    "import seaborn as sns\n",
    "# cm = confusion_matrix(y_test, y_pred)\n",
    "\n",
    "# fig, ax = plt.subplots(figsize=(8, 8))\n",
    "# ax.imshow(cm)\n",
    "# ax.grid(False)\n",
    "# ax.set_xlabel('Predicted outputs', fontsize=30, color='black')\n",
    "# ax.set_ylabel('Actual outputs', fontsize=30, color='black')\n",
    "# ax.xaxis.set(ticks=range(10))\n",
    "# ax.yaxis.set(ticks=range(10))\n",
    "# ax.set_ylim(9.5, -0.5)\n",
    "# for i in range(10):\n",
    "#     for j in range(10):\n",
    "#         ax.text(j, i, cm[i, j], ha='center', va='center', color='white')\n",
    "# plt.show()\n",
    "plt.figure(figsize=(9,9))\n",
    "sns.heatmap(cm1, annot=True, fmt=\".3f\", linewidths=.5, square = True, cmap = 'Blues_r');\n",
    "plt.ylabel('Actual label');\n",
    "plt.xlabel('Predicted label');\n",
    "all_sample_title = 'Accuracy Score: {0}'.format(score)\n",
    "plt.title(all_sample_title, size = 15);"
   ]
  },
  {
   "cell_type": "code",
   "execution_count": 78,
   "id": "3eababdf",
   "metadata": {},
   "outputs": [
    {
     "name": "stderr",
     "output_type": "stream",
     "text": [
      "/Users/deth/opt/anaconda3/lib/python3.8/site-packages/ipykernel/ipkernel.py:287: DeprecationWarning: `should_run_async` will not call `transform_cell` automatically in the future. Please pass the result to `transformed_cell` argument and any exception that happen during thetransform in `preprocessing_exc_tuple` in IPython 7.17 and above.\n",
      "  and should_run_async(code)\n"
     ]
    }
   ],
   "source": [
    "# x_pred=model.predict(y_test)\n",
    "# x_pred"
   ]
  },
  {
   "cell_type": "code",
   "execution_count": null,
   "id": "e4d85e03",
   "metadata": {},
   "outputs": [],
   "source": []
  },
  {
   "cell_type": "code",
   "execution_count": null,
   "id": "6a5fff68",
   "metadata": {},
   "outputs": [],
   "source": []
  },
  {
   "cell_type": "code",
   "execution_count": null,
   "id": "a0d63bd6",
   "metadata": {},
   "outputs": [],
   "source": []
  },
  {
   "cell_type": "code",
   "execution_count": null,
   "id": "ddd726de",
   "metadata": {},
   "outputs": [],
   "source": []
  },
  {
   "cell_type": "code",
   "execution_count": null,
   "id": "102534c7",
   "metadata": {},
   "outputs": [],
   "source": []
  },
  {
   "cell_type": "code",
   "execution_count": null,
   "id": "10cec619",
   "metadata": {},
   "outputs": [],
   "source": []
  },
  {
   "cell_type": "code",
   "execution_count": null,
   "id": "1c8597ab",
   "metadata": {},
   "outputs": [],
   "source": []
  },
  {
   "cell_type": "code",
   "execution_count": null,
   "id": "445a47f8",
   "metadata": {},
   "outputs": [],
   "source": []
  },
  {
   "cell_type": "code",
   "execution_count": null,
   "id": "e68b5611",
   "metadata": {},
   "outputs": [],
   "source": []
  },
  {
   "cell_type": "code",
   "execution_count": null,
   "id": "e4c5af55",
   "metadata": {},
   "outputs": [],
   "source": []
  }
 ],
 "metadata": {
  "kernelspec": {
   "display_name": "Python 3",
   "language": "python",
   "name": "python3"
  },
  "language_info": {
   "codemirror_mode": {
    "name": "ipython",
    "version": 3
   },
   "file_extension": ".py",
   "mimetype": "text/x-python",
   "name": "python",
   "nbconvert_exporter": "python",
   "pygments_lexer": "ipython3",
   "version": "3.8.8"
  }
 },
 "nbformat": 4,
 "nbformat_minor": 5
}
